{
 "cells": [
  {
   "cell_type": "markdown",
   "metadata": {},
   "source": [
    "# Module \n",
    "\n",
    "1. imported suing ... import ... importlib .. impdr module \n",
    "\n",
    "2. system cache is chck if sys. module is nca jretrunimaei .. other othes finders... sys.meta path .. located ... retrieve .. cod laoded ... loaders ... return by finder .. modulSepc .. tesll python here is teh losder ... \n",
    "\n",
    "'empyt mdoul type is creaete the refen cis added to the system caceh .. vefore teh cowe i actally c.... import module 2 .. import moduel 1 ... empty module ... th next type is hit ... grap is out of cach e... teh correct module ..\n",
    "the refrence is added to th system cache .. sys .moudl \n",
    "\n",
    "mdoule is compile .. module is exccured s.. namespace ... \n",
    "\n",
    "\n",
    "* sys.meth_ath .. importer can be a finder and laoder l.. meth_ath is a finder . _frozein_imporlib.bulitinImporter \n",
    "_rforzen _importlib.FrozenImporter .. contains every thing it ineees to run ... fins frozen module .. finds. uilin such a amth ... \n",
    "\n",
    ". path finer .. frozen importlib extrenal .. filebased moudle \n",
    "\n",
    "\n",
    "PathFinder ... where to find the module .. wher to llod fo rthe module .. search apth ..d efind insed sys.path .. and package __path__ sets th root of th pachage ..\n",
    "\n",
    "sy"
   ]
  },
  {
   "cell_type": "code",
   "execution_count": 1,
   "metadata": {},
   "outputs": [
    {
     "data": {
      "text/plain": [
       "['/Users/mohammedhamdan/Documents/Python_Full_Stack/Deep_Dive_Python3/Part1/MainUsage',\n",
       " '/Library/Frameworks/Python.framework/Versions/3.10/lib/python310.zip',\n",
       " '/Library/Frameworks/Python.framework/Versions/3.10/lib/python3.10',\n",
       " '/Library/Frameworks/Python.framework/Versions/3.10/lib/python3.10/lib-dynload',\n",
       " '',\n",
       " '/Users/mohammedhamdan/Library/Python/3.10/lib/python/site-packages',\n",
       " '/Library/Frameworks/Python.framework/Versions/3.10/lib/python3.10/site-packages']"
      ]
     },
     "execution_count": 1,
     "metadata": {},
     "output_type": "execute_result"
    }
   ],
   "source": [
    "sys.path"
   ]
  },
  {
   "cell_type": "code",
   "execution_count": 2,
   "metadata": {},
   "outputs": [
    {
     "name": "stdout",
     "output_type": "stream",
     "text": [
      "['/Users/mohammedhamdan/Documents/Python_Full_Stack/Deep_Dive_Python3/Part1/MainUsage', '/Library/Frameworks/Python.framework/Versions/3.10/lib/python310.zip', '/Library/Frameworks/Python.framework/Versions/3.10/lib/python3.10', '/Library/Frameworks/Python.framework/Versions/3.10/lib/python3.10/lib-dynload', '', '/Users/mohammedhamdan/Library/Python/3.10/lib/python/site-packages', '/Library/Frameworks/Python.framework/Versions/3.10/lib/python3.10/site-packages']\n"
     ]
    }
   ],
   "source": [
    "print(sys.path)"
   ]
  },
  {
   "cell_type": "markdown",
   "metadata": {},
   "source": [
    "# PathFinder .. finds file-based modules based on sys.path and package __path__ ... \n",
    "-- sys.path  ===>>> [ ... ur/lib/pyghon3.10]  path finder will look ..."
   ]
  },
  {
   "cell_type": "code",
   "execution_count": 3,
   "metadata": {},
   "outputs": [],
   "source": [
    "import math"
   ]
  },
  {
   "cell_type": "code",
   "execution_count": 4,
   "metadata": {},
   "outputs": [
    {
     "data": {
      "text/plain": [
       "module"
      ]
     },
     "execution_count": 4,
     "metadata": {},
     "output_type": "execute_result"
    }
   ],
   "source": [
    "type(math)"
   ]
  },
  {
   "cell_type": "code",
   "execution_count": 5,
   "metadata": {},
   "outputs": [
    {
     "data": {
      "text/plain": [
       "'math'"
      ]
     },
     "execution_count": 5,
     "metadata": {},
     "output_type": "execute_result"
    }
   ],
   "source": [
    "math.__name__"
   ]
  },
  {
   "cell_type": "code",
   "execution_count": 6,
   "metadata": {},
   "outputs": [
    {
     "data": {
      "text/plain": [
       "''"
      ]
     },
     "execution_count": 6,
     "metadata": {},
     "output_type": "execute_result"
    }
   ],
   "source": [
    "math.__package__ # a module is nont a package"
   ]
  },
  {
   "cell_type": "markdown",
   "metadata": {},
   "source": [
    "__file__ is not attribute of math (built-ins only) --- __f__\n",
    "\n",
    "... Stanard libaryr .. import franctions . (t)"
   ]
  },
  {
   "cell_type": "code",
   "execution_count": 7,
   "metadata": {},
   "outputs": [],
   "source": [
    "import fractions"
   ]
  },
  {
   "cell_type": "code",
   "execution_count": 8,
   "metadata": {},
   "outputs": [
    {
     "data": {
      "text/plain": [
       "ModuleSpec(name='fractions', loader=<_frozen_importlib_external.SourceFileLoader object at 0x111bb6950>, origin='/Library/Frameworks/Python.framework/Versions/3.10/lib/python3.10/fractions.py')"
      ]
     },
     "execution_count": 8,
     "metadata": {},
     "output_type": "execute_result"
    }
   ],
   "source": [
    "fractions.__spec__"
   ]
  },
  {
   "cell_type": "code",
   "execution_count": 9,
   "metadata": {},
   "outputs": [
    {
     "data": {
      "text/plain": [
       "'/Library/Frameworks/Python.framework/Versions/3.10/lib/python3.10/fractions.py'"
      ]
     },
     "execution_count": 9,
     "metadata": {},
     "output_type": "execute_result"
    }
   ],
   "source": [
    "fractions.__file__"
   ]
  },
  {
   "cell_type": "code",
   "execution_count": 10,
   "metadata": {},
   "outputs": [
    {
     "data": {
      "text/plain": [
       "''"
      ]
     },
     "execution_count": 10,
     "metadata": {},
     "output_type": "execute_result"
    }
   ],
   "source": [
    "fractions.__package__"
   ]
  },
  {
   "cell_type": "code",
   "execution_count": 11,
   "metadata": {},
   "outputs": [
    {
     "name": "stdout",
     "output_type": "stream",
     "text": [
      "loading run.py: __name__ = module1\n"
     ]
    }
   ],
   "source": [
    "# Cusom module \n",
    "\n",
    "import module1"
   ]
  },
  {
   "cell_type": "code",
   "execution_count": 12,
   "metadata": {},
   "outputs": [
    {
     "data": {
      "text/plain": [
       "module"
      ]
     },
     "execution_count": 12,
     "metadata": {},
     "output_type": "execute_result"
    }
   ],
   "source": [
    "type(module1)"
   ]
  },
  {
   "cell_type": "code",
   "execution_count": 13,
   "metadata": {},
   "outputs": [
    {
     "data": {
      "text/plain": [
       "ModuleSpec(name='module1', loader=<_frozen_importlib_external.SourceFileLoader object at 0x119e2eb00>, origin='/Users/mohammedhamdan/Documents/Python_Full_Stack/Deep_Dive_Python3/Part1/MainUsage/module1.py')"
      ]
     },
     "execution_count": 13,
     "metadata": {},
     "output_type": "execute_result"
    }
   ],
   "source": [
    "module1.__spec__"
   ]
  },
  {
   "cell_type": "code",
   "execution_count": 14,
   "metadata": {},
   "outputs": [
    {
     "data": {
      "text/plain": [
       "'module1'"
      ]
     },
     "execution_count": 14,
     "metadata": {},
     "output_type": "execute_result"
    }
   ],
   "source": [
    "module1.__name__"
   ]
  },
  {
   "cell_type": "code",
   "execution_count": 15,
   "metadata": {},
   "outputs": [
    {
     "data": {
      "text/plain": [
       "'/Users/mohammedhamdan/Documents/Python_Full_Stack/Deep_Dive_Python3/Part1/MainUsage/module1.py'"
      ]
     },
     "execution_count": 15,
     "metadata": {},
     "output_type": "execute_result"
    }
   ],
   "source": [
    "module1.__file__"
   ]
  },
  {
   "cell_type": "code",
   "execution_count": null,
   "metadata": {},
   "outputs": [],
   "source": [
    "# Python module may rsided in builit in .. oin disk .. precompiled , forzein , in zip, accessed by a finder and loader .. form ad ambase . http .. \n",
    "## PathFinder .. .. teh path must exist ina path specifed in sy.path for in apackage.__path__ ... "
   ]
  }
 ],
 "metadata": {
  "kernelspec": {
   "display_name": "Python 3.10.7 64-bit",
   "language": "python",
   "name": "python3"
  },
  "language_info": {
   "codemirror_mode": {
    "name": "ipython",
    "version": 3
   },
   "file_extension": ".py",
   "mimetype": "text/x-python",
   "name": "python",
   "nbconvert_exporter": "python",
   "pygments_lexer": "ipython3",
   "version": "3.10.7"
  },
  "orig_nbformat": 4,
  "vscode": {
   "interpreter": {
    "hash": "aee8b7b246df8f9039afb4144a1f6fd8d2ca17a180786b69acc140d282b71a49"
   }
  }
 },
 "nbformat": 4,
 "nbformat_minor": 2
}
