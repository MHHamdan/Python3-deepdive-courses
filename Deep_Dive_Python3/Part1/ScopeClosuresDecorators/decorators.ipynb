{
 "cells": [
  {
   "cell_type": "markdown",
   "metadata": {},
   "source": [
    "# Decorators .. the simple closure example we did which allowed to us to maintain a count of how many times a function was clled : "
   ]
  },
  {
   "cell_type": "markdown",
   "metadata": {},
   "source": [
    "decorator ... takes a function as argumetns and return a closure ..\n",
    "\n",
    "a closure ussually accepts any combinations fo parameters .. runs some code an inner function and coundt and print \n",
    "the closure function calls the oiriginal funciton using argument passed to the closure \n",
    "return whatereve i returned by theat fucntion \n",
    "\n",
    "\n",
    "outer function (fn)\n",
    "defines an inner funciton in init  ( *args, **kwargs) \n",
    "\n",
    "require speficag argument ... funciton doen by inner functin \n",
    "return fn(*args, **kwargs) # when we defien th eclosure and exuated wihe extcu rte fo fthe colous \n",
    "# end up with aclosure .. fn a parameter for a nonloac var .. a free variable \n",
    "\n",
    "\n",
    "@ decorator ... counter was a decrotor function it excuated and resut return \n",
    "\n",
    "we can decorate our add funciton sue add = counter (add)\n",
    "\n",
    "how you decorate ... in genera \n",
    "\n",
    "if func is a decotrato lll we can decorate anoht funci: \n",
    "\n",
    "myfunc = fun(myfunck)\n",
    "\n",
    "\n",
    "@counter\n",
    "def add(a,b):\n",
    "return a +1"
   ]
  },
  {
   "cell_type": "code",
   "execution_count": 11,
   "metadata": {},
   "outputs": [],
   "source": [
    "def counter():\n",
    "    ..."
   ]
  },
  {
   "cell_type": "code",
   "execution_count": 12,
   "metadata": {},
   "outputs": [
    {
     "ename": "TypeError",
     "evalue": "counter() takes 0 positional arguments but 1 was given",
     "output_type": "error",
     "traceback": [
      "\u001b[0;31m---------------------------------------------------------------------------\u001b[0m",
      "\u001b[0;31mTypeError\u001b[0m                                 Traceback (most recent call last)",
      "Cell \u001b[0;32mIn [12], line 2\u001b[0m\n\u001b[1;32m      1\u001b[0m \u001b[39m@counter\u001b[39;49m \n\u001b[0;32m----> 2\u001b[0m \u001b[39mdef\u001b[39;49;00m \u001b[39madd\u001b[39;49m(a, b):\n\u001b[1;32m      3\u001b[0m     \u001b[39mreturn\u001b[39;49;00m a \u001b[39m+\u001b[39;49m b\n",
      "\u001b[0;31mTypeError\u001b[0m: counter() takes 0 positional arguments but 1 was given"
     ]
    }
   ],
   "source": [
    "@counter \n",
    "def add(a, b):\n",
    "    return a + b"
   ]
  },
  {
   "cell_type": "code",
   "execution_count": 13,
   "metadata": {},
   "outputs": [],
   "source": [
    "def add(a,b):\n",
    "    return a +b"
   ]
  },
  {
   "cell_type": "code",
   "execution_count": 14,
   "metadata": {},
   "outputs": [
    {
     "ename": "TypeError",
     "evalue": "counter() takes 0 positional arguments but 1 was given",
     "output_type": "error",
     "traceback": [
      "\u001b[0;31m---------------------------------------------------------------------------\u001b[0m",
      "\u001b[0;31mTypeError\u001b[0m                                 Traceback (most recent call last)",
      "Cell \u001b[0;32mIn [14], line 1\u001b[0m\n\u001b[0;32m----> 1\u001b[0m add \u001b[39m=\u001b[39m counter(add)\n",
      "\u001b[0;31mTypeError\u001b[0m: counter() takes 0 positional arguments but 1 was given"
     ]
    }
   ],
   "source": [
    "add = counter(add)"
   ]
  },
  {
   "cell_type": "code",
   "execution_count": 15,
   "metadata": {},
   "outputs": [
    {
     "ename": "SyntaxError",
     "evalue": "invalid syntax (2173656201.py, line 2)",
     "output_type": "error",
     "traceback": [
      "\u001b[0;36m  Cell \u001b[0;32mIn [15], line 2\u001b[0;36m\u001b[0m\n\u001b[0;31m    def myFun(...):\u001b[0m\n\u001b[0m              ^\u001b[0m\n\u001b[0;31mSyntaxError\u001b[0m\u001b[0;31m:\u001b[0m invalid syntax\n"
     ]
    }
   ],
   "source": [
    "@func\n",
    "def myFun(...):\n",
    "    ..."
   ]
  },
  {
   "cell_type": "code",
   "execution_count": 16,
   "metadata": {},
   "outputs": [],
   "source": [
    "def myFunc():\n",
    "    ..."
   ]
  },
  {
   "cell_type": "code",
   "execution_count": 17,
   "metadata": {},
   "outputs": [
    {
     "ename": "NameError",
     "evalue": "name 'func' is not defined",
     "output_type": "error",
     "traceback": [
      "\u001b[0;31m---------------------------------------------------------------------------\u001b[0m",
      "\u001b[0;31mNameError\u001b[0m                                 Traceback (most recent call last)",
      "Cell \u001b[0;32mIn [17], line 1\u001b[0m\n\u001b[0;32m----> 1\u001b[0m myFun \u001b[39m=\u001b[39m func(myFun)\n",
      "\u001b[0;31mNameError\u001b[0m: name 'func' is not defined"
     ]
    }
   ],
   "source": [
    "myFun = func(myFun)"
   ]
  },
  {
   "cell_type": "code",
   "execution_count": 18,
   "metadata": {},
   "outputs": [
    {
     "ename": "TypeError",
     "evalue": "counter() takes 0 positional arguments but 1 was given",
     "output_type": "error",
     "traceback": [
      "\u001b[0;31m---------------------------------------------------------------------------\u001b[0m",
      "\u001b[0;31mTypeError\u001b[0m                                 Traceback (most recent call last)",
      "Cell \u001b[0;32mIn [18], line 4\u001b[0m\n\u001b[1;32m      1\u001b[0m \u001b[39m# same count decorateor ... \u001b[39;00m\n\u001b[1;32m      3\u001b[0m \u001b[39m@counter\u001b[39;49m\n\u001b[0;32m----> 4\u001b[0m \u001b[39mdef\u001b[39;49;00m \u001b[39mmult\u001b[39;49m(a, b, c\u001b[39m=\u001b[39;49m\u001b[39m1\u001b[39;49m):\n\u001b[1;32m      5\u001b[0m     \u001b[39m\"\"\"_summary_\u001b[39;49;00m\n\u001b[1;32m      6\u001b[0m \n\u001b[1;32m      7\u001b[0m \u001b[39m    Args:\u001b[39;49;00m\n\u001b[0;32m   (...)\u001b[0m\n\u001b[1;32m     10\u001b[0m \u001b[39m        c (int, optional): _description_. Defaults to 1.\u001b[39;49;00m\n\u001b[1;32m     11\u001b[0m \u001b[39m    \"\"\"\u001b[39;49;00m\n\u001b[1;32m     12\u001b[0m     \u001b[39mreturn\u001b[39;49;00m a \u001b[39m*\u001b[39;49m b \u001b[39m*\u001b[39;49m c\n",
      "\u001b[0;31mTypeError\u001b[0m: counter() takes 0 positional arguments but 1 was given"
     ]
    }
   ],
   "source": [
    "# same count decorateor ... \n",
    "\n",
    "@counter\n",
    "def mult(a, b, c=1):\n",
    "    \"\"\"_summary_\n",
    "\n",
    "    Args:\n",
    "        a (int): any int value\n",
    "        b (int): an int\n",
    "        c (int, optional): _description_. Defaults to 1.\n",
    "    \"\"\"\n",
    "    return a * b * c"
   ]
  },
  {
   "cell_type": "code",
   "execution_count": 19,
   "metadata": {},
   "outputs": [
    {
     "ename": "NameError",
     "evalue": "name 'mult' is not defined",
     "output_type": "error",
     "traceback": [
      "\u001b[0;31m---------------------------------------------------------------------------\u001b[0m",
      "\u001b[0;31mNameError\u001b[0m                                 Traceback (most recent call last)",
      "Cell \u001b[0;32mIn [19], line 1\u001b[0m\n\u001b[0;32m----> 1\u001b[0m mult\u001b[39m.\u001b[39m\u001b[39m__name__\u001b[39m \u001b[39m## iiner \u001b[39;00m\n",
      "\u001b[0;31mNameError\u001b[0m: name 'mult' is not defined"
     ]
    }
   ],
   "source": [
    "mult.__name__ ## iiner "
   ]
  },
  {
   "cell_type": "code",
   "execution_count": 20,
   "metadata": {},
   "outputs": [
    {
     "ename": "NameError",
     "evalue": "name 'mult' is not defined",
     "output_type": "error",
     "traceback": [
      "\u001b[0;31m---------------------------------------------------------------------------\u001b[0m",
      "\u001b[0;31mNameError\u001b[0m                                 Traceback (most recent call last)",
      "Cell \u001b[0;32mIn [20], line 1\u001b[0m\n\u001b[0;32m----> 1\u001b[0m mult \u001b[39m=\u001b[39m counter(mult)\n",
      "\u001b[0;31mNameError\u001b[0m: name 'mult' is not defined"
     ]
    }
   ],
   "source": [
    "mult = counter(mult)"
   ]
  },
  {
   "cell_type": "markdown",
   "metadata": {},
   "source": [
    "fixi fun name "
   ]
  },
  {
   "cell_type": "code",
   "execution_count": 21,
   "metadata": {},
   "outputs": [],
   "source": [
    "def counter(fn):\n",
    "    count = 0\n",
    "    def inner(*args, **kwargs):\n",
    "        nonlocal count \n",
    "        count += 1\n",
    "        print('Funciton {0} w as called {1} times '.format(fn.__name__, count))\n",
    "        return fn(*args, **kwargs)\n",
    "    inner.__name__ = fn.__name__\n",
    "    inner.__doc__ = fn.__doc__\n",
    "    return inner \n",
    "              "
   ]
  },
  {
   "cell_type": "code",
   "execution_count": 22,
   "metadata": {},
   "outputs": [],
   "source": [
    "# functtool has a wraps fucn usded to ix a metadaa o four inner funcitn in our dcroator "
   ]
  },
  {
   "cell_type": "code",
   "execution_count": 23,
   "metadata": {},
   "outputs": [],
   "source": [
    "from functools import wraps"
   ]
  },
  {
   "cell_type": "code",
   "execution_count": 24,
   "metadata": {},
   "outputs": [],
   "source": [
    "# wraps function is itself a decorator ... what is origin funciton  is (fn) a parameter ... decorator ... paratmereisze decorator ... fn to decor "
   ]
  },
  {
   "cell_type": "code",
   "execution_count": 25,
   "metadata": {},
   "outputs": [],
   "source": [
    "def counter(fn):\n",
    "    count = 0\n",
    "    def inner(*args, **kwargs):\n",
    "        nonlocal count \n",
    "        count += 1\n",
    "        print('Funciton {0} w as called {1} times '.format(fn.__name__, count))\n",
    "        return fn(*args, **kwargs)\n",
    "    inner = wraps(fn)(inner)\n",
    "    return inner "
   ]
  },
  {
   "cell_type": "code",
   "execution_count": 27,
   "metadata": {},
   "outputs": [],
   "source": [
    "def counter(fn):\n",
    "    count = 0\n",
    "    @wraps(fn) # decorate inner itself ... \n",
    "    def inner(*args, **kwargs):\n",
    "        nonlocal count \n",
    "        count += 1\n",
    "        print('Funciton {0} w as called {1} times '.format(fn.__name__, count))\n",
    "        return fn(*args, **kwargs)\n",
    "    return inner "
   ]
  },
  {
   "cell_type": "code",
   "execution_count": 32,
   "metadata": {},
   "outputs": [],
   "source": [
    "@counter\n",
    "def mult(a:int, b:int, c:int=1):\n",
    "    \"\"\"_summary_\n",
    "\n",
    "    Args:\n",
    "        a (int): _description_\n",
    "        b (int): _description_\n",
    "        c (int, optional): _description_. Defaults to 1.\n",
    "        \n",
    "    return : the product\n",
    "    \"\"\"\n",
    "    return a * b * c"
   ]
  },
  {
   "cell_type": "code",
   "execution_count": 33,
   "metadata": {},
   "outputs": [
    {
     "name": "stdout",
     "output_type": "stream",
     "text": [
      "Help on function mult in module __main__:\n",
      "\n",
      "mult(a: int, b: int, c: int = 1)\n",
      "    _summary_\n",
      "    \n",
      "    Args:\n",
      "        a (int): _description_\n",
      "        b (int): _description_\n",
      "        c (int, optional): _description_. Defaults to 1.\n",
      "        \n",
      "    return : the product\n",
      "\n"
     ]
    }
   ],
   "source": [
    "help(mult)"
   ]
  },
  {
   "cell_type": "code",
   "execution_count": 43,
   "metadata": {},
   "outputs": [],
   "source": [
    "def counter(fn):\n",
    "    cnt = 0\n",
    "    \n",
    "    def inner(*args, **kwargs):\n",
    "        nonlocal cnt \n",
    "        cnt +=1\n",
    "        print(\"Function {0} (id={1}) was called {2} times\".format(fn.__name__, id(fn), cnt))\n",
    "        #result = fn(*args, **kwargs)\n",
    "        return fn(*args, **kwargs)\n",
    "    return inner"
   ]
  },
  {
   "cell_type": "code",
   "execution_count": 44,
   "metadata": {},
   "outputs": [],
   "source": [
    "def add(a: int, b:int=0):\n",
    "    \"\"\"_summary_\n",
    "\n",
    "    Args:\n",
    "        a (int): _description_\n",
    "        b (int, optional): _description_. Defaults to 0.\n",
    "        \n",
    "    return a + b\n",
    "    \"\"\"\n",
    "    return a + b"
   ]
  },
  {
   "cell_type": "code",
   "execution_count": 45,
   "metadata": {},
   "outputs": [
    {
     "name": "stdout",
     "output_type": "stream",
     "text": [
      "Help on function add in module __main__:\n",
      "\n",
      "add(a: int, b: int = 0)\n",
      "    _summary_\n",
      "    \n",
      "    Args:\n",
      "        a (int): _description_\n",
      "        b (int, optional): _description_. Defaults to 0.\n",
      "        \n",
      "    return a + b\n",
      "\n"
     ]
    }
   ],
   "source": [
    "help(add)"
   ]
  },
  {
   "cell_type": "code",
   "execution_count": 46,
   "metadata": {},
   "outputs": [
    {
     "data": {
      "text/plain": [
       "4685529872"
      ]
     },
     "execution_count": 46,
     "metadata": {},
     "output_type": "execute_result"
    }
   ],
   "source": [
    "id(add)"
   ]
  },
  {
   "cell_type": "code",
   "execution_count": 47,
   "metadata": {},
   "outputs": [],
   "source": [
    "add = counter(add)"
   ]
  },
  {
   "cell_type": "code",
   "execution_count": 48,
   "metadata": {},
   "outputs": [
    {
     "data": {
      "text/plain": [
       "4685532896"
      ]
     },
     "execution_count": 48,
     "metadata": {},
     "output_type": "execute_result"
    }
   ],
   "source": [
    "id(add)"
   ]
  },
  {
   "cell_type": "code",
   "execution_count": 49,
   "metadata": {},
   "outputs": [
    {
     "name": "stdout",
     "output_type": "stream",
     "text": [
      "Help on function inner in module __main__:\n",
      "\n",
      "inner(*args, **kwargs)\n",
      "\n"
     ]
    }
   ],
   "source": [
    "help(add)"
   ]
  },
  {
   "cell_type": "code",
   "execution_count": 50,
   "metadata": {},
   "outputs": [
    {
     "name": "stdout",
     "output_type": "stream",
     "text": [
      "Function add (id=4685529872) was called 1 times\n"
     ]
    },
    {
     "data": {
      "text/plain": [
       "55"
      ]
     },
     "execution_count": 50,
     "metadata": {},
     "output_type": "execute_result"
    }
   ],
   "source": [
    "add(22, 33)"
   ]
  },
  {
   "cell_type": "code",
   "execution_count": 51,
   "metadata": {},
   "outputs": [
    {
     "name": "stdout",
     "output_type": "stream",
     "text": [
      "Help on function inner in module __main__:\n",
      "\n",
      "inner(*args, **kwargs)\n",
      "\n"
     ]
    }
   ],
   "source": [
    "help(add)"
   ]
  },
  {
   "cell_type": "code",
   "execution_count": 52,
   "metadata": {},
   "outputs": [
    {
     "name": "stdout",
     "output_type": "stream",
     "text": [
      "Function add (id=4685529872) was called 2 times\n"
     ]
    },
    {
     "data": {
      "text/plain": [
       "7"
      ]
     },
     "execution_count": 52,
     "metadata": {},
     "output_type": "execute_result"
    }
   ],
   "source": [
    "add(3,4)"
   ]
  },
  {
   "cell_type": "code",
   "execution_count": 54,
   "metadata": {},
   "outputs": [
    {
     "name": "stdout",
     "output_type": "stream",
     "text": [
      "Function add (id=4685529872) was called 3 times\n"
     ]
    },
    {
     "data": {
      "text/plain": [
       "14"
      ]
     },
     "execution_count": 54,
     "metadata": {},
     "output_type": "execute_result"
    }
   ],
   "source": [
    "add(12,2)"
   ]
  },
  {
   "cell_type": "code",
   "execution_count": 55,
   "metadata": {},
   "outputs": [
    {
     "name": "stdout",
     "output_type": "stream",
     "text": [
      "Function add (id=4685529872) was called 4 times\n"
     ]
    },
    {
     "data": {
      "text/plain": [
       "7"
      ]
     },
     "execution_count": 55,
     "metadata": {},
     "output_type": "execute_result"
    }
   ],
   "source": [
    "add(7)"
   ]
  },
  {
   "cell_type": "code",
   "execution_count": 57,
   "metadata": {},
   "outputs": [],
   "source": [
    "def mult(a:int, b:int, c:int=1, *, d): # d is a keywordoly parameter\n",
    "    \"\"\"_summary_\n",
    "\n",
    "    Args:\n",
    "        a (int): _description_\n",
    "        b (int): _description_\n",
    "        c (int, optional): _description_. Defaults to 1.\n",
    "        mutl 4 vals\n",
    "    \"\"\"\n",
    "    return a * b * c * d"
   ]
  },
  {
   "cell_type": "code",
   "execution_count": 59,
   "metadata": {},
   "outputs": [
    {
     "data": {
      "text/plain": [
       "16"
      ]
     },
     "execution_count": 59,
     "metadata": {},
     "output_type": "execute_result"
    }
   ],
   "source": [
    "mult(2,2,2,d=2)"
   ]
  },
  {
   "cell_type": "code",
   "execution_count": 60,
   "metadata": {},
   "outputs": [
    {
     "data": {
      "text/plain": [
       "36"
      ]
     },
     "execution_count": 60,
     "metadata": {},
     "output_type": "execute_result"
    }
   ],
   "source": [
    "mult(2,2,d=9)"
   ]
  },
  {
   "cell_type": "code",
   "execution_count": 61,
   "metadata": {},
   "outputs": [],
   "source": [
    "mult = counter(mult) # decorator of counter ... "
   ]
  },
  {
   "cell_type": "code",
   "execution_count": 62,
   "metadata": {},
   "outputs": [
    {
     "name": "stdout",
     "output_type": "stream",
     "text": [
      "Help on function inner in module __main__:\n",
      "\n",
      "inner(*args, **kwargs)\n",
      "\n"
     ]
    }
   ],
   "source": [
    "help(mult)"
   ]
  },
  {
   "cell_type": "code",
   "execution_count": 64,
   "metadata": {},
   "outputs": [
    {
     "name": "stdout",
     "output_type": "stream",
     "text": [
      "Function mult (id=4700808832) was called 2 times\n"
     ]
    },
    {
     "data": {
      "text/plain": [
       "24"
      ]
     },
     "execution_count": 64,
     "metadata": {},
     "output_type": "execute_result"
    }
   ],
   "source": [
    "mult(1,2,3,d=4) # the closure inner funciton does some extra staff than mult function ... "
   ]
  },
  {
   "cell_type": "code",
   "execution_count": 65,
   "metadata": {},
   "outputs": [
    {
     "name": "stdout",
     "output_type": "stream",
     "text": [
      "Function mult (id=4700808832) was called 3 times\n"
     ]
    },
    {
     "data": {
      "text/plain": [
       "18"
      ]
     },
     "execution_count": 65,
     "metadata": {},
     "output_type": "execute_result"
    }
   ],
   "source": [
    "mult(1,2, d=9)"
   ]
  },
  {
   "cell_type": "code",
   "execution_count": 66,
   "metadata": {},
   "outputs": [],
   "source": [
    "def myFun(s: str, i:int) -> str:\n",
    "    return s * i \n",
    "\n",
    "myFun = counter(myFun)"
   ]
  },
  {
   "cell_type": "code",
   "execution_count": 67,
   "metadata": {},
   "outputs": [],
   "source": [
    "@counter\n",
    "def myFun(s: str, i:int) -> str:\n",
    "    return s * i "
   ]
  },
  {
   "cell_type": "code",
   "execution_count": 68,
   "metadata": {},
   "outputs": [
    {
     "name": "stdout",
     "output_type": "stream",
     "text": [
      "Help on function inner in module __main__:\n",
      "\n",
      "inner(*args, **kwargs)\n",
      "\n"
     ]
    }
   ],
   "source": [
    "help(myFun)"
   ]
  },
  {
   "cell_type": "code",
   "execution_count": 70,
   "metadata": {},
   "outputs": [
    {
     "name": "stdout",
     "output_type": "stream",
     "text": [
      "Function myFun (id=4685534336) was called 2 times\n"
     ]
    },
    {
     "data": {
      "text/plain": [
       "'hello hello hello '"
      ]
     },
     "execution_count": 70,
     "metadata": {},
     "output_type": "execute_result"
    }
   ],
   "source": [
    "myFun('hello ', 3)"
   ]
  },
  {
   "cell_type": "code",
   "execution_count": 71,
   "metadata": {},
   "outputs": [
    {
     "name": "stdout",
     "output_type": "stream",
     "text": [
      "Help on function inner in module __main__:\n",
      "\n",
      "inner(*args, **kwargs)\n",
      "\n"
     ]
    }
   ],
   "source": [
    "help(mult)"
   ]
  },
  {
   "cell_type": "code",
   "execution_count": 72,
   "metadata": {},
   "outputs": [
    {
     "data": {
      "text/plain": [
       "'inner'"
      ]
     },
     "execution_count": 72,
     "metadata": {},
     "output_type": "execute_result"
    }
   ],
   "source": [
    "mult.__name__"
   ]
  },
  {
   "cell_type": "code",
   "execution_count": 73,
   "metadata": {},
   "outputs": [],
   "source": [
    "mult.__doc__"
   ]
  },
  {
   "cell_type": "code",
   "execution_count": 79,
   "metadata": {},
   "outputs": [],
   "source": [
    "def counter(fn):\n",
    "    cnt = 0\n",
    "    \n",
    "    def inner(*args, **kwargs):\n",
    "        \"\"\"_summary_\n",
    "            This is the inner closure ... \n",
    "        Returns:\n",
    "            _type_: _description_\n",
    "            \n",
    "            \n",
    "        \"\"\"\n",
    "        nonlocal cnt \n",
    "        cnt +=1\n",
    "        print(\"Function {0} (id={1}) was called {2} times\".format(fn.__name__, id(fn), cnt))\n",
    "        #result = fn(*args, **kwargs)\n",
    "        return fn(*args, **kwargs)\n",
    "    inner.__name__ = fn.__name__\n",
    "    inner.__doc__ = fn.__doc__\n",
    "    return inner"
   ]
  },
  {
   "cell_type": "code",
   "execution_count": 80,
   "metadata": {},
   "outputs": [],
   "source": [
    "def mult(a:int, b:int, c:int=1, *, d): # d is a keywordoly parameter\n",
    "    \"\"\"_summary_\n",
    "\n",
    "    Args:\n",
    "        a (int): _description_\n",
    "        b (int): _description_\n",
    "        c (int, optional): _description_. Defaults to 1.\n",
    "        mutl 4 vals\n",
    "    \"\"\"\n",
    "    return a * b * c * d"
   ]
  },
  {
   "cell_type": "code",
   "execution_count": 81,
   "metadata": {},
   "outputs": [],
   "source": [
    "mult = counter(mult)"
   ]
  },
  {
   "cell_type": "code",
   "execution_count": 82,
   "metadata": {},
   "outputs": [
    {
     "name": "stdout",
     "output_type": "stream",
     "text": [
      "Help on function mult in module __main__:\n",
      "\n",
      "mult(*args, **kwargs)\n",
      "    _summary_\n",
      "    \n",
      "    Args:\n",
      "        a (int): _description_\n",
      "        b (int): _description_\n",
      "        c (int, optional): _description_. Defaults to 1.\n",
      "        mutl 4 vals\n",
      "\n"
     ]
    }
   ],
   "source": [
    "help(mult)"
   ]
  },
  {
   "cell_type": "code",
   "execution_count": 83,
   "metadata": {},
   "outputs": [],
   "source": [
    "add = counter(add)"
   ]
  },
  {
   "cell_type": "code",
   "execution_count": 84,
   "metadata": {},
   "outputs": [
    {
     "name": "stdout",
     "output_type": "stream",
     "text": [
      "Help on function inner in module __main__:\n",
      "\n",
      "inner(*args, **kwargs)\n",
      "\n"
     ]
    }
   ],
   "source": [
    "help(add)"
   ]
  },
  {
   "cell_type": "code",
   "execution_count": 85,
   "metadata": {},
   "outputs": [],
   "source": [
    "from functools import wraps # self decorator .. closure .. docmetn the closure that return using the original func"
   ]
  },
  {
   "cell_type": "code",
   "execution_count": 86,
   "metadata": {},
   "outputs": [],
   "source": [
    "def counter(fn):\n",
    "    cnt = 0\n",
    "    \n",
    "   # @wraps(fn) # decorate inner using wraps with fn  ---> 1\n",
    "    def inner(*args, **kwargs):\n",
    "        \"\"\"_summary_\n",
    "            This is the inner closure ... \n",
    "        Returns:\n",
    "            _type_: _description_\n",
    "            \n",
    "            \n",
    "        \"\"\"\n",
    "        nonlocal cnt \n",
    "        cnt +=1\n",
    "        print(\"Function {0} (id={1}) was called {2} times\".format(fn.__name__, id(fn), cnt))\n",
    "        #result = fn(*args, **kwargs)\n",
    "        return fn(*args, **kwargs)\n",
    "    inner = wraps(fn)(inner)\n",
    "    return inner"
   ]
  },
  {
   "cell_type": "code",
   "execution_count": 87,
   "metadata": {},
   "outputs": [],
   "source": [
    "def mult(a:int, b:int, c:int=1, *, d): # d is a keywordoly parameter\n",
    "    \"\"\"_summary_\n",
    "\n",
    "    Args:\n",
    "        a (int): _description_\n",
    "        b (int): _description_\n",
    "        c (int, optional): _description_. Defaults to 1.\n",
    "        mutl 4 vals\n",
    "    \"\"\"\n",
    "    return a * b * c * d"
   ]
  },
  {
   "cell_type": "code",
   "execution_count": 88,
   "metadata": {},
   "outputs": [
    {
     "name": "stdout",
     "output_type": "stream",
     "text": [
      "Help on function mult in module __main__:\n",
      "\n",
      "mult(a: int, b: int, c: int = 1, *, d)\n",
      "    _summary_\n",
      "    \n",
      "    Args:\n",
      "        a (int): _description_\n",
      "        b (int): _description_\n",
      "        c (int, optional): _description_. Defaults to 1.\n",
      "        mutl 4 vals\n",
      "\n"
     ]
    }
   ],
   "source": [
    "help(mult)"
   ]
  },
  {
   "cell_type": "code",
   "execution_count": 89,
   "metadata": {},
   "outputs": [],
   "source": [
    "mult = counter(mult)"
   ]
  },
  {
   "cell_type": "code",
   "execution_count": 90,
   "metadata": {},
   "outputs": [
    {
     "name": "stdout",
     "output_type": "stream",
     "text": [
      "Help on function mult in module __main__:\n",
      "\n",
      "mult(a: int, b: int, c: int = 1, *, d)\n",
      "    _summary_\n",
      "    \n",
      "    Args:\n",
      "        a (int): _description_\n",
      "        b (int): _description_\n",
      "        c (int, optional): _description_. Defaults to 1.\n",
      "        mutl 4 vals\n",
      "\n"
     ]
    }
   ],
   "source": [
    "help(mult)"
   ]
  },
  {
   "cell_type": "markdown",
   "metadata": {},
   "source": [
    "# Timing app"
   ]
  },
  {
   "cell_type": "code",
   "execution_count": 91,
   "metadata": {},
   "outputs": [],
   "source": [
    "def timed(fn):\n",
    "    from time import perf_counter # if we reuse this decorator somewhare else the perf_counter will be available \n",
    "    from functools import wraps\n",
    "    \n",
    "    @wraps(fn) # decorator\n",
    "    def inner(*args, **kwargs):\n",
    "        start = perf_counter()\n",
    "        result = fn(*args, **kwargs)\n",
    "        end = perf_counter()\n",
    "        elapsed = end - start \n",
    "        \n",
    "        args_ = [str(a) for a in args]\n",
    "        kwargs_ =['{0}={1}'.format(k, v) for k,v in kwargs.items()]\n",
    "        all_args = args_ + kwargs_ \n",
    "        args_str = ','.join(all_args)\n",
    "        \n",
    "        print('{0}({1}) took {2:.6f}s to run.'.format(fn.__name__,\n",
    "                                                      args_str,\n",
    "                                                      elapsed))\n",
    "        \n",
    "        return result\n",
    "    return inner \n",
    "        \n",
    "        "
   ]
  },
  {
   "cell_type": "code",
   "execution_count": 92,
   "metadata": {},
   "outputs": [],
   "source": [
    "# 1, 1, 2, 3, 5, 8, 13, 21, 34 , ... fibnanoci number .. \n",
    "# 1. recurssion \n",
    "# 2. loop\n",
    "# 3. reduce \n",
    "\n"
   ]
  },
  {
   "cell_type": "code",
   "execution_count": 97,
   "metadata": {},
   "outputs": [],
   "source": [
    "#@timed # decorate\n",
    "def calc_recursive_fib(n):\n",
    "    if n <=2:\n",
    "        return 1\n",
    "    else:\n",
    "        return calc_recursive_fib(n-1) + calc_recursive_fib(n-2)"
   ]
  },
  {
   "cell_type": "code",
   "execution_count": 98,
   "metadata": {},
   "outputs": [
    {
     "data": {
      "text/plain": [
       "3"
      ]
     },
     "execution_count": 98,
     "metadata": {},
     "output_type": "execute_result"
    }
   ],
   "source": [
    "calc_recursive_fib(4)"
   ]
  },
  {
   "cell_type": "code",
   "execution_count": 99,
   "metadata": {},
   "outputs": [
    {
     "data": {
      "text/plain": [
       "8"
      ]
     },
     "execution_count": 99,
     "metadata": {},
     "output_type": "execute_result"
    }
   ],
   "source": [
    "calc_recursive_fib(6)"
   ]
  },
  {
   "cell_type": "code",
   "execution_count": 100,
   "metadata": {},
   "outputs": [],
   "source": [
    "@timed # decorate\n",
    "def fib_recursive(n):\n",
    "    return calc_recursive_fib(n)"
   ]
  },
  {
   "cell_type": "code",
   "execution_count": 101,
   "metadata": {},
   "outputs": [
    {
     "name": "stdout",
     "output_type": "stream",
     "text": [
      "fib_recursive(6) took 0.000008s to run.\n"
     ]
    },
    {
     "data": {
      "text/plain": [
       "8"
      ]
     },
     "execution_count": 101,
     "metadata": {},
     "output_type": "execute_result"
    }
   ],
   "source": [
    "fib_recursive(6)"
   ]
  },
  {
   "cell_type": "code",
   "execution_count": 102,
   "metadata": {},
   "outputs": [
    {
     "name": "stdout",
     "output_type": "stream",
     "text": [
      "fib_recursive(20) took 0.002486s to run.\n"
     ]
    },
    {
     "data": {
      "text/plain": [
       "6765"
      ]
     },
     "execution_count": 102,
     "metadata": {},
     "output_type": "execute_result"
    }
   ],
   "source": [
    "fib_recursive(20)"
   ]
  },
  {
   "cell_type": "code",
   "execution_count": 108,
   "metadata": {},
   "outputs": [
    {
     "name": "stdout",
     "output_type": "stream",
     "text": [
      "fib_recursive(20) took 0.001846s to run.\n"
     ]
    },
    {
     "data": {
      "text/plain": [
       "6765"
      ]
     },
     "execution_count": 108,
     "metadata": {},
     "output_type": "execute_result"
    }
   ],
   "source": [
    "fib_recursive(20)"
   ]
  },
  {
   "cell_type": "code",
   "execution_count": 109,
   "metadata": {},
   "outputs": [],
   "source": [
    "#2. loop \n",
    "@timed\n",
    "def fib_loop(n):\n",
    "    fib_1 = fib_2 = 1 \n",
    "    for i in range(3, n+1):\n",
    "        fib_1, fib_2 = fib_2, fib_1 + fib_2\n",
    "    return fib_2"
   ]
  },
  {
   "cell_type": "code",
   "execution_count": 110,
   "metadata": {},
   "outputs": [
    {
     "name": "stdout",
     "output_type": "stream",
     "text": [
      "fib_loop(20) took 0.000004s to run.\n"
     ]
    },
    {
     "data": {
      "text/plain": [
       "6765"
      ]
     },
     "execution_count": 110,
     "metadata": {},
     "output_type": "execute_result"
    }
   ],
   "source": [
    "fib_loop(20)"
   ]
  },
  {
   "cell_type": "markdown",
   "metadata": {},
   "source": [
    "<pre>\n",
    "n = 1\n",
    "(1, 0) --> (1, 1) . result  tuple(0) = 1\n",
    "\n",
    "n = 2\n",
    "(1, 0) --> (1, 1) --> (2, 1) . reuslt tuple(0) = 2\n",
    "\n",
    "n=3\n",
    "(1,0) --> (1,1) --> (2, 1) --> (3, 2) . result(0) = 3 \n",
    "\n",
    "n = 4 ..... \n",
    "</pre>"
   ]
  },
  {
   "cell_type": "markdown",
   "metadata": {},
   "source": [
    "<pre>\n",
    "previous value = (a, b)\n",
    "new value = (a+b, a)"
   ]
  },
  {
   "cell_type": "code",
   "execution_count": 111,
   "metadata": {},
   "outputs": [],
   "source": [
    "@timed\n",
    "def fib_reduce(n):\n",
    "    from functools import reduce\n",
    "    initial = (1, 0)\n",
    "    dummy = range(n)\n",
    "    fib_n = reduce(lambda prev, n:(prev[0]+prev[1], prev[0]), \n",
    "                   dummy,\n",
    "                   initial )\n",
    "    \n",
    "    return fib_n[0]"
   ]
  },
  {
   "cell_type": "code",
   "execution_count": 112,
   "metadata": {},
   "outputs": [
    {
     "name": "stdout",
     "output_type": "stream",
     "text": [
      "fib_reduce(20) took 0.000013s to run.\n"
     ]
    },
    {
     "data": {
      "text/plain": [
       "10946"
      ]
     },
     "execution_count": 112,
     "metadata": {},
     "output_type": "execute_result"
    }
   ],
   "source": [
    "fib_reduce(20)"
   ]
  },
  {
   "cell_type": "code",
   "execution_count": 116,
   "metadata": {},
   "outputs": [],
   "source": [
    "def timed(fn):\n",
    "    from time import perf_counter # if we reuse this decorator somewhare else the perf_counter will be available \n",
    "    from functools import wraps\n",
    "    \n",
    "    @wraps(fn) # decorator\n",
    "    def inner(*args, **kwargs):\n",
    "        elapsed_total = 0\n",
    "        elapsed_count = 0\n",
    "        \n",
    "        for i in range(10):\n",
    "            print('running iteration {0} ....'.format(i))\n",
    "            start = perf_counter()\n",
    "            result = fn(*args, **kwargs)\n",
    "            end = perf_counter()\n",
    "            elapsed = end - start \n",
    "            \n",
    "            elapsed_total += elapsed\n",
    "            elapsed_count +=1\n",
    "        \n",
    "        args_ = [str(a) for a in args]\n",
    "        kwargs_ =['{0}={1}'.format(k, v) for k,v in kwargs.items()]\n",
    "        all_args = args_ + kwargs_ \n",
    "        args_str = ','.join(all_args)\n",
    "        elapsed_avg = elapsed_total /elapsed_count\n",
    "        print('{0}({1}) took {2:.6f}s to run.'.format(fn.__name__,\n",
    "                                                      args_str,\n",
    "                                                      elapsed_avg))\n",
    "        \n",
    "        return result\n",
    "    return inner \n",
    "        "
   ]
  },
  {
   "cell_type": "markdown",
   "metadata": {},
   "source": [
    "<pre>\n",
    "\n",
    "</pre>"
   ]
  },
  {
   "cell_type": "code",
   "execution_count": 117,
   "metadata": {},
   "outputs": [],
   "source": [
    "@timed\n",
    "def fib_reduce(n):\n",
    "    from functools import reduce\n",
    "    initial = (1, 0)\n",
    "    dummy = range(n)\n",
    "    fib_n = reduce(lambda prev, n:(prev[0]+prev[1], prev[0]), \n",
    "                   dummy,\n",
    "                   initial )\n",
    "    \n",
    "    return fib_n[0]"
   ]
  },
  {
   "cell_type": "code",
   "execution_count": 119,
   "metadata": {},
   "outputs": [
    {
     "name": "stdout",
     "output_type": "stream",
     "text": [
      "running iteration 0 ....\n",
      "running iteration 1 ....\n",
      "running iteration 2 ....\n",
      "running iteration 3 ....\n",
      "running iteration 4 ....\n",
      "running iteration 5 ....\n",
      "running iteration 6 ....\n",
      "running iteration 7 ....\n",
      "running iteration 8 ....\n",
      "running iteration 9 ....\n",
      "fib_reduce(120) took 0.000027s to run.\n"
     ]
    },
    {
     "data": {
      "text/plain": [
       "8670007398507948658051921"
      ]
     },
     "execution_count": 119,
     "metadata": {},
     "output_type": "execute_result"
    }
   ],
   "source": [
    "fib_reduce(120)"
   ]
  },
  {
   "cell_type": "code",
   "execution_count": 121,
   "metadata": {},
   "outputs": [],
   "source": [
    "def timed(fn, cnt): # paramterised decorator \n",
    "    from time import perf_counter # if we reuse this decorator somewhare else the perf_counter will be available \n",
    "    from functools import wraps\n",
    "    \n",
    "    @wraps(fn) # decorator\n",
    "    def inner(*args, **kwargs):\n",
    "        elapsed_total = 0\n",
    "        elapsed_count = 0\n",
    "        \n",
    "        for i in range(cnt):\n",
    "            print('running iteration {0} ....'.format(i))\n",
    "            start = perf_counter()\n",
    "            result = fn(*args, **kwargs)\n",
    "            end = perf_counter()\n",
    "            elapsed = end - start \n",
    "            \n",
    "            elapsed_total += elapsed\n",
    "            elapsed_count +=1\n",
    "        \n",
    "        args_ = [str(a) for a in args]\n",
    "        kwargs_ =['{0}={1}'.format(k, v) for k,v in kwargs.items()]\n",
    "        all_args = args_ + kwargs_ \n",
    "        args_str = ','.join(all_args)\n",
    "        elapsed_avg = elapsed_total /elapsed_count\n",
    "        print('{0}({1}) took {2:.6f}s to run.'.format(fn.__name__,\n",
    "                                                      args_str,\n",
    "                                                      elapsed_avg))\n",
    "        \n",
    "        return result\n",
    "    return inner "
   ]
  },
  {
   "cell_type": "code",
   "execution_count": 122,
   "metadata": {},
   "outputs": [
    {
     "ename": "TypeError",
     "evalue": "timed() missing 1 required positional argument: 'cnt'",
     "output_type": "error",
     "traceback": [
      "\u001b[0;31m---------------------------------------------------------------------------\u001b[0m",
      "\u001b[0;31mTypeError\u001b[0m                                 Traceback (most recent call last)",
      "Cell \u001b[0;32mIn [122], line 2\u001b[0m\n\u001b[1;32m      1\u001b[0m \u001b[39m@timed\u001b[39;49m\n\u001b[0;32m----> 2\u001b[0m \u001b[39mdef\u001b[39;49;00m \u001b[39mfib_reduce\u001b[39;49m(n):\n\u001b[1;32m      3\u001b[0m     \u001b[39mfrom\u001b[39;49;00m \u001b[39mfunctools\u001b[39;49;00m \u001b[39mimport\u001b[39;49;00m reduce\n\u001b[1;32m      4\u001b[0m     initial \u001b[39m=\u001b[39;49m (\u001b[39m1\u001b[39;49m, \u001b[39m0\u001b[39;49m)\n",
      "\u001b[0;31mTypeError\u001b[0m: timed() missing 1 required positional argument: 'cnt'"
     ]
    }
   ],
   "source": [
    "@timed\n",
    "def fib_reduce(n):\n",
    "    from functools import reduce\n",
    "    initial = (1, 0)\n",
    "    dummy = range(n)\n",
    "    fib_n = reduce(lambda prev, n:(prev[0]+prev[1], prev[0]), \n",
    "                   dummy,\n",
    "                   initial )\n",
    "    \n",
    "    return fib_n[0]"
   ]
  },
  {
   "cell_type": "code",
   "execution_count": 123,
   "metadata": {},
   "outputs": [],
   "source": [
    "fib_reduce = timed(fib_reduce, 15)"
   ]
  },
  {
   "cell_type": "code",
   "execution_count": 124,
   "metadata": {},
   "outputs": [
    {
     "name": "stdout",
     "output_type": "stream",
     "text": [
      "running iteration 0 ....\n",
      "running iteration 0 ....\n",
      "running iteration 1 ....\n",
      "running iteration 2 ....\n",
      "running iteration 3 ....\n",
      "running iteration 4 ....\n",
      "running iteration 5 ....\n",
      "running iteration 6 ....\n",
      "running iteration 7 ....\n",
      "running iteration 8 ....\n",
      "running iteration 9 ....\n",
      "fib_reduce(100) took 0.000023s to run.\n",
      "running iteration 1 ....\n",
      "running iteration 0 ....\n",
      "running iteration 1 ....\n",
      "running iteration 2 ....\n",
      "running iteration 3 ....\n",
      "running iteration 4 ....\n",
      "running iteration 5 ....\n",
      "running iteration 6 ....\n",
      "running iteration 7 ....\n",
      "running iteration 8 ....\n",
      "running iteration 9 ....\n",
      "fib_reduce(100) took 0.000022s to run.\n",
      "running iteration 2 ....\n",
      "running iteration 0 ....\n",
      "running iteration 1 ....\n",
      "running iteration 2 ....\n",
      "running iteration 3 ....\n",
      "running iteration 4 ....\n",
      "running iteration 5 ....\n",
      "running iteration 6 ....\n",
      "running iteration 7 ....\n",
      "running iteration 8 ....\n",
      "running iteration 9 ....\n",
      "fib_reduce(100) took 0.000022s to run.\n",
      "running iteration 3 ....\n",
      "running iteration 0 ....\n",
      "running iteration 1 ....\n",
      "running iteration 2 ....\n",
      "running iteration 3 ....\n",
      "running iteration 4 ....\n",
      "running iteration 5 ....\n",
      "running iteration 6 ....\n",
      "running iteration 7 ....\n",
      "running iteration 8 ....\n",
      "running iteration 9 ....\n",
      "fib_reduce(100) took 0.000029s to run.\n",
      "running iteration 4 ....\n",
      "running iteration 0 ....\n",
      "running iteration 1 ....\n",
      "running iteration 2 ....\n",
      "running iteration 3 ....\n",
      "running iteration 4 ....\n",
      "running iteration 5 ....\n",
      "running iteration 6 ....\n",
      "running iteration 7 ....\n",
      "running iteration 8 ....\n",
      "running iteration 9 ....\n",
      "fib_reduce(100) took 0.000022s to run.\n",
      "running iteration 5 ....\n",
      "running iteration 0 ....\n",
      "running iteration 1 ....\n",
      "running iteration 2 ....\n",
      "running iteration 3 ....\n",
      "running iteration 4 ....\n",
      "running iteration 5 ....\n",
      "running iteration 6 ....\n",
      "running iteration 7 ....\n",
      "running iteration 8 ....\n",
      "running iteration 9 ....\n",
      "fib_reduce(100) took 0.000022s to run.\n",
      "running iteration 6 ....\n",
      "running iteration 0 ....\n",
      "running iteration 1 ....\n",
      "running iteration 2 ....\n",
      "running iteration 3 ....\n",
      "running iteration 4 ....\n",
      "running iteration 5 ....\n",
      "running iteration 6 ....\n",
      "running iteration 7 ....\n",
      "running iteration 8 ....\n",
      "running iteration 9 ....\n",
      "fib_reduce(100) took 0.000022s to run.\n",
      "running iteration 7 ....\n",
      "running iteration 0 ....\n",
      "running iteration 1 ....\n",
      "running iteration 2 ....\n",
      "running iteration 3 ....\n",
      "running iteration 4 ....\n",
      "running iteration 5 ....\n",
      "running iteration 6 ....\n",
      "running iteration 7 ....\n",
      "running iteration 8 ....\n",
      "running iteration 9 ....\n",
      "fib_reduce(100) took 0.000022s to run.\n",
      "running iteration 8 ....\n",
      "running iteration 0 ....\n",
      "running iteration 1 ....\n",
      "running iteration 2 ....\n",
      "running iteration 3 ....\n",
      "running iteration 4 ....\n",
      "running iteration 5 ....\n",
      "running iteration 6 ....\n",
      "running iteration 7 ....\n",
      "running iteration 8 ....\n",
      "running iteration 9 ....\n",
      "fib_reduce(100) took 0.000022s to run.\n",
      "running iteration 9 ....\n",
      "running iteration 0 ....\n",
      "running iteration 1 ....\n",
      "running iteration 2 ....\n",
      "running iteration 3 ....\n",
      "running iteration 4 ....\n",
      "running iteration 5 ....\n",
      "running iteration 6 ....\n",
      "running iteration 7 ....\n",
      "running iteration 8 ....\n",
      "running iteration 9 ....\n",
      "fib_reduce(100) took 0.000022s to run.\n",
      "running iteration 10 ....\n",
      "running iteration 0 ....\n",
      "running iteration 1 ....\n",
      "running iteration 2 ....\n",
      "running iteration 3 ....\n",
      "running iteration 4 ....\n",
      "running iteration 5 ....\n",
      "running iteration 6 ....\n",
      "running iteration 7 ....\n",
      "running iteration 8 ....\n",
      "running iteration 9 ....\n",
      "fib_reduce(100) took 0.000022s to run.\n",
      "running iteration 11 ....\n",
      "running iteration 0 ....\n",
      "running iteration 1 ....\n",
      "running iteration 2 ....\n",
      "running iteration 3 ....\n",
      "running iteration 4 ....\n",
      "running iteration 5 ....\n",
      "running iteration 6 ....\n",
      "running iteration 7 ....\n",
      "running iteration 8 ....\n",
      "running iteration 9 ....\n",
      "fib_reduce(100) took 0.000022s to run.\n",
      "running iteration 12 ....\n",
      "running iteration 0 ....\n",
      "running iteration 1 ....\n",
      "running iteration 2 ....\n",
      "running iteration 3 ....\n",
      "running iteration 4 ....\n",
      "running iteration 5 ....\n",
      "running iteration 6 ....\n",
      "running iteration 7 ....\n",
      "running iteration 8 ....\n",
      "running iteration 9 ....\n",
      "fib_reduce(100) took 0.000022s to run.\n",
      "running iteration 13 ....\n",
      "running iteration 0 ....\n",
      "running iteration 1 ....\n",
      "running iteration 2 ....\n",
      "running iteration 3 ....\n",
      "running iteration 4 ....\n",
      "running iteration 5 ....\n",
      "running iteration 6 ....\n",
      "running iteration 7 ....\n",
      "running iteration 8 ....\n",
      "running iteration 9 ....\n",
      "fib_reduce(100) took 0.000022s to run.\n",
      "running iteration 14 ....\n",
      "running iteration 0 ....\n",
      "running iteration 1 ....\n",
      "running iteration 2 ....\n",
      "running iteration 3 ....\n",
      "running iteration 4 ....\n",
      "running iteration 5 ....\n",
      "running iteration 6 ....\n",
      "running iteration 7 ....\n",
      "running iteration 8 ....\n",
      "running iteration 9 ....\n",
      "fib_reduce(100) took 0.000022s to run.\n",
      "fib_reduce(100) took 0.000273s to run.\n"
     ]
    },
    {
     "data": {
      "text/plain": [
       "573147844013817084101"
      ]
     },
     "execution_count": 124,
     "metadata": {},
     "output_type": "execute_result"
    }
   ],
   "source": [
    "fib_reduce(100)"
   ]
  },
  {
   "cell_type": "markdown",
   "metadata": {},
   "source": [
    "# Decorator app (looger .. stacked decorator .. ) log to a file .. database by decorationg the function "
   ]
  },
  {
   "cell_type": "code",
   "execution_count": 125,
   "metadata": {},
   "outputs": [],
   "source": [
    "def logged(fn):\n",
    "    from functools import wraps\n",
    "    from datetime import datetime, timezone # utc time zone \n",
    "    \n",
    "    @wraps(fn) # decorated using wraps on fn funct\n",
    "    def inner(*args, **kwargs):\n",
    "        run_dt = datetime.now(timezone.utc)\n",
    "        result = fn(*args, **kwargs)\n",
    "        print(\"{0}: called {1}\".format(run_dt, fn.__name__))\n",
    "        return result \n",
    "    return inner "
   ]
  },
  {
   "cell_type": "code",
   "execution_count": 127,
   "metadata": {},
   "outputs": [],
   "source": [
    "@logged\n",
    "def fun_1():\n",
    "    pass"
   ]
  },
  {
   "cell_type": "code",
   "execution_count": 128,
   "metadata": {},
   "outputs": [],
   "source": [
    "@logged\n",
    "def fun_2():\n",
    "    pass"
   ]
  },
  {
   "cell_type": "code",
   "execution_count": 129,
   "metadata": {},
   "outputs": [
    {
     "name": "stdout",
     "output_type": "stream",
     "text": [
      "2022-11-21 21:43:57.394526+00:00: called fun_1\n"
     ]
    }
   ],
   "source": [
    "fun_1()"
   ]
  },
  {
   "cell_type": "code",
   "execution_count": 130,
   "metadata": {},
   "outputs": [
    {
     "name": "stdout",
     "output_type": "stream",
     "text": [
      "2022-11-21 21:44:03.573952+00:00: called fun_2\n"
     ]
    }
   ],
   "source": [
    "fun_2()"
   ]
  },
  {
   "cell_type": "code",
   "execution_count": 136,
   "metadata": {},
   "outputs": [],
   "source": [
    "def timed(fn):\n",
    "    from time import perf_counter # if we reuse this decorator somewhare else the perf_counter will be available \n",
    "    from functools import wraps\n",
    "    \n",
    "    @wraps(fn) # decorator\n",
    "    def inner(*args, **kwargs):\n",
    "\n",
    "        \n",
    "        for i in range(10):\n",
    "            start = perf_counter()\n",
    "            result = fn(*args, **kwargs)\n",
    "            end = perf_counter()\n",
    "\n",
    "        print('{0} took {1:.6f}s to run.'.format(fn.__name__, end - start))\n",
    "        \n",
    "        return result\n",
    "    return inner "
   ]
  },
  {
   "cell_type": "code",
   "execution_count": 137,
   "metadata": {},
   "outputs": [],
   "source": [
    "@timed\n",
    "def fact(n):\n",
    "    from operator import mul \n",
    "    from functools import reduce\n",
    "    \n",
    "    \n",
    "    return reduce(mul, range(1, n+1))"
   ]
  },
  {
   "cell_type": "code",
   "execution_count": 138,
   "metadata": {},
   "outputs": [
    {
     "name": "stdout",
     "output_type": "stream",
     "text": [
      "fact took 0.000002s to run.\n"
     ]
    },
    {
     "data": {
      "text/plain": [
       "24"
      ]
     },
     "execution_count": 138,
     "metadata": {},
     "output_type": "execute_result"
    }
   ],
   "source": [
    "fact(4)"
   ]
  },
  {
   "cell_type": "code",
   "execution_count": 139,
   "metadata": {},
   "outputs": [],
   "source": [
    "@logged\n",
    "def fact(n):\n",
    "    from operator import mul \n",
    "    from functools import reduce\n",
    "    \n",
    "    \n",
    "    return reduce(mul, range(1, n+1))"
   ]
  },
  {
   "cell_type": "code",
   "execution_count": 140,
   "metadata": {},
   "outputs": [
    {
     "name": "stdout",
     "output_type": "stream",
     "text": [
      "2022-11-21 21:53:20.240934+00:00: called fact\n"
     ]
    },
    {
     "data": {
      "text/plain": [
       "24"
      ]
     },
     "execution_count": 140,
     "metadata": {},
     "output_type": "execute_result"
    }
   ],
   "source": [
    "fact(4)"
   ]
  },
  {
   "cell_type": "code",
   "execution_count": 143,
   "metadata": {},
   "outputs": [],
   "source": [
    "@logged\n",
    "@timed\n",
    "def fact(n):\n",
    "    from operator import mul \n",
    "    from functools import reduce\n",
    "    \n",
    "    \n",
    "    return reduce(mul, range(1, n+1))"
   ]
  },
  {
   "cell_type": "code",
   "execution_count": 144,
   "metadata": {},
   "outputs": [
    {
     "name": "stdout",
     "output_type": "stream",
     "text": [
      "fact took 0.000002s to run.\n",
      "2022-11-21 21:54:16.677448+00:00: called fact\n"
     ]
    },
    {
     "data": {
      "text/plain": [
       "24"
      ]
     },
     "execution_count": 144,
     "metadata": {},
     "output_type": "execute_result"
    }
   ],
   "source": [
    "fact(4)"
   ]
  },
  {
   "cell_type": "code",
   "execution_count": 145,
   "metadata": {},
   "outputs": [],
   "source": [
    "def fact(n):\n",
    "    from operator import mul \n",
    "    from functools import reduce\n",
    "    \n",
    "    \n",
    "    return reduce(mul, range(1, n+1))"
   ]
  },
  {
   "cell_type": "code",
   "execution_count": 146,
   "metadata": {},
   "outputs": [],
   "source": [
    "fact = logged(timed(fact))"
   ]
  },
  {
   "cell_type": "code",
   "execution_count": 147,
   "metadata": {},
   "outputs": [
    {
     "name": "stdout",
     "output_type": "stream",
     "text": [
      "fact took 0.000002s to run.\n",
      "2022-11-21 21:54:52.550793+00:00: called fact\n"
     ]
    },
    {
     "data": {
      "text/plain": [
       "24"
      ]
     },
     "execution_count": 147,
     "metadata": {},
     "output_type": "execute_result"
    }
   ],
   "source": [
    "fact(4)"
   ]
  },
  {
   "cell_type": "code",
   "execution_count": 148,
   "metadata": {},
   "outputs": [],
   "source": [
    "def dec_1(fn):\n",
    "    def inner(*args, **kwargs):\n",
    "        print('Running dec_1')\n",
    "        return fn()\n",
    "        #return fn(*args, **kwargs)\n",
    "    return inner"
   ]
  },
  {
   "cell_type": "code",
   "execution_count": 149,
   "metadata": {},
   "outputs": [],
   "source": [
    "def dec_2(fn):\n",
    "    def inner(*args, **kwargs):\n",
    "        print('Running dec_2')\n",
    "        return fn()\n",
    "        #return fn(*args, **kwargs)\n",
    "    return inner"
   ]
  },
  {
   "cell_type": "code",
   "execution_count": 150,
   "metadata": {},
   "outputs": [],
   "source": [
    "@dec_1\n",
    "@dec_2\n",
    "def myFun():\n",
    "    print('Running my Function ... ')"
   ]
  },
  {
   "cell_type": "code",
   "execution_count": 151,
   "metadata": {},
   "outputs": [
    {
     "name": "stdout",
     "output_type": "stream",
     "text": [
      "Running dec_1\n",
      "Running dec_2\n",
      "Running my Function ... \n"
     ]
    }
   ],
   "source": [
    "myFun()"
   ]
  },
  {
   "cell_type": "code",
   "execution_count": 153,
   "metadata": {},
   "outputs": [],
   "source": [
    "myFunc = dec_1(dec_2(myFun))"
   ]
  },
  {
   "cell_type": "code",
   "execution_count": 155,
   "metadata": {},
   "outputs": [
    {
     "name": "stdout",
     "output_type": "stream",
     "text": [
      "Running dec_1\n",
      "Running dec_2\n",
      "Running my Function ... \n"
     ]
    }
   ],
   "source": [
    "myFun()"
   ]
  },
  {
   "cell_type": "code",
   "execution_count": 156,
   "metadata": {},
   "outputs": [],
   "source": [
    "def dec_1(fn):\n",
    "    def inner(*args, **kwargs):\n",
    "        result = fn()\n",
    "        print('Running dec_1')\n",
    "        return result\n",
    "        #return fn(*args, **kwargs)\n",
    "    return inner"
   ]
  },
  {
   "cell_type": "code",
   "execution_count": 162,
   "metadata": {},
   "outputs": [],
   "source": [
    "def dec_2(fn):\n",
    "    def inner(*args, **kwargs):\n",
    "        result = fn()\n",
    "        print('Running dec_2')\n",
    "        return result\n",
    "        #return fn(*args, **kwargs)\n",
    "    return inner"
   ]
  },
  {
   "cell_type": "code",
   "execution_count": 163,
   "metadata": {},
   "outputs": [],
   "source": [
    "myFun2 = dec_1(dec_2(myFun))"
   ]
  },
  {
   "cell_type": "code",
   "execution_count": 164,
   "metadata": {},
   "outputs": [
    {
     "name": "stdout",
     "output_type": "stream",
     "text": [
      "Running dec_1\n",
      "Running dec_2\n",
      "Running my Function ... \n",
      "Running dec_2\n",
      "Running dec_1\n"
     ]
    }
   ],
   "source": [
    "myFun2()"
   ]
  },
  {
   "cell_type": "code",
   "execution_count": 169,
   "metadata": {},
   "outputs": [],
   "source": [
    "@dec_1\n",
    "@dec_2\n",
    "@logged\n",
    "@timed\n",
    "def my_func():\n",
    "    print(\"Running my function \")"
   ]
  },
  {
   "cell_type": "code",
   "execution_count": 170,
   "metadata": {},
   "outputs": [
    {
     "name": "stdout",
     "output_type": "stream",
     "text": [
      "Running my function \n",
      "Running my function \n",
      "Running my function \n",
      "Running my function \n",
      "Running my function \n",
      "Running my function \n",
      "Running my function \n",
      "Running my function \n",
      "Running my function \n",
      "Running my function \n",
      "my_func took 0.000003s to run.\n",
      "2022-11-21 22:06:41.842355+00:00: called my_func\n",
      "Running dec_2\n",
      "Running dec_1\n"
     ]
    }
   ],
   "source": [
    "my_func()"
   ]
  },
  {
   "cell_type": "code",
   "execution_count": 171,
   "metadata": {},
   "outputs": [],
   "source": [
    "@dec_1\n",
    "@dec_2\n",
    "@logged\n",
    "@timed\n",
    "def my_func1():\n",
    "    print(\"Running my function \")"
   ]
  },
  {
   "cell_type": "code",
   "execution_count": 172,
   "metadata": {},
   "outputs": [
    {
     "name": "stdout",
     "output_type": "stream",
     "text": [
      "Running my function \n",
      "Running my function \n",
      "Running my function \n",
      "Running my function \n",
      "Running my function \n",
      "Running my function \n",
      "Running my function \n",
      "Running my function \n",
      "Running my function \n",
      "Running my function \n",
      "my_func1 took 0.000003s to run.\n",
      "2022-11-21 22:07:11.866580+00:00: called my_func1\n",
      "Running dec_2\n",
      "Running dec_1\n"
     ]
    }
   ],
   "source": [
    "my_func1()"
   ]
  },
  {
   "cell_type": "code",
   "execution_count": 173,
   "metadata": {},
   "outputs": [],
   "source": [
    "# in API authorized the caller ... who is logged in ... what aurthor he has ... a decorator is check where the user has a authonitcat ... or log a call to any endpint buitl only if the end piont isexute \n",
    "\n",
    "# or logged the endpoint when ever \n",
    "\n"
   ]
  },
  {
   "cell_type": "markdown",
   "metadata": {},
   "source": [
    "''\n",
    "@auth\n",
    "@logged \n"
   ]
  },
  {
   "cell_type": "markdown",
   "metadata": {},
   "source": [
    "''\n",
    "'@auth \n",
    "@logged \n",
    "def seve_resources():\n",
    "    pass \n",
    "\n",
    "</prev>"
   ]
  },
  {
   "cell_type": "code",
   "execution_count": 176,
   "metadata": {},
   "outputs": [
    {
     "ename": "NameError",
     "evalue": "name 'aut' is not defined",
     "output_type": "error",
     "traceback": [
      "\u001b[0;31m---------------------------------------------------------------------------\u001b[0m",
      "\u001b[0;31mNameError\u001b[0m                                 Traceback (most recent call last)",
      "Cell \u001b[0;32mIn [176], line 1\u001b[0m\n\u001b[0;32m----> 1\u001b[0m save_resource \u001b[39m=\u001b[39m aut(logged(sev_resource)) \u001b[39m# auth and logged . or . logged and auth ... what so comes first ... the auth ... calle dand decide where your fancitaonly allows permit you to acce sor not .... be aware \u001b[39;00m\n",
      "\u001b[0;31mNameError\u001b[0m: name 'aut' is not defined"
     ]
    }
   ],
   "source": [
    "save_resource = aut(logged(sev_resource)) # auth and logged . or . logged and auth ... what so comes first ... the auth ... calle dand decide where your fancitaonly allows permit you to acce sor not .... be aware "
   ]
  },
  {
   "cell_type": "markdown",
   "metadata": {},
   "source": [
    "# Decorator App (Memoization) build a cache of the function return values based on the input parameters"
   ]
  },
  {
   "cell_type": "code",
   "execution_count": 178,
   "metadata": {},
   "outputs": [],
   "source": [
    "# recursion ... loop ... fastest .. recursive approach .. cost is memory ... the next time no need to recalculation again ... but decreae the computeion time \n",
    "\n",
    "def fib(n):\n",
    "    print(\"Calculating fib({0})\".format(n))\n",
    "    return 1 if n < 3 else fib(n-1) + fib(n-2)"
   ]
  },
  {
   "cell_type": "code",
   "execution_count": 179,
   "metadata": {},
   "outputs": [
    {
     "name": "stdout",
     "output_type": "stream",
     "text": [
      "Calculating fib(10)\n",
      "Calculating fib(9)\n",
      "Calculating fib(8)\n",
      "Calculating fib(7)\n",
      "Calculating fib(6)\n",
      "Calculating fib(5)\n",
      "Calculating fib(4)\n",
      "Calculating fib(3)\n",
      "Calculating fib(2)\n",
      "Calculating fib(1)\n",
      "Calculating fib(2)\n",
      "Calculating fib(3)\n",
      "Calculating fib(2)\n",
      "Calculating fib(1)\n",
      "Calculating fib(4)\n",
      "Calculating fib(3)\n",
      "Calculating fib(2)\n",
      "Calculating fib(1)\n",
      "Calculating fib(2)\n",
      "Calculating fib(5)\n",
      "Calculating fib(4)\n",
      "Calculating fib(3)\n",
      "Calculating fib(2)\n",
      "Calculating fib(1)\n",
      "Calculating fib(2)\n",
      "Calculating fib(3)\n",
      "Calculating fib(2)\n",
      "Calculating fib(1)\n",
      "Calculating fib(6)\n",
      "Calculating fib(5)\n",
      "Calculating fib(4)\n",
      "Calculating fib(3)\n",
      "Calculating fib(2)\n",
      "Calculating fib(1)\n",
      "Calculating fib(2)\n",
      "Calculating fib(3)\n",
      "Calculating fib(2)\n",
      "Calculating fib(1)\n",
      "Calculating fib(4)\n",
      "Calculating fib(3)\n",
      "Calculating fib(2)\n",
      "Calculating fib(1)\n",
      "Calculating fib(2)\n",
      "Calculating fib(7)\n",
      "Calculating fib(6)\n",
      "Calculating fib(5)\n",
      "Calculating fib(4)\n",
      "Calculating fib(3)\n",
      "Calculating fib(2)\n",
      "Calculating fib(1)\n",
      "Calculating fib(2)\n",
      "Calculating fib(3)\n",
      "Calculating fib(2)\n",
      "Calculating fib(1)\n",
      "Calculating fib(4)\n",
      "Calculating fib(3)\n",
      "Calculating fib(2)\n",
      "Calculating fib(1)\n",
      "Calculating fib(2)\n",
      "Calculating fib(5)\n",
      "Calculating fib(4)\n",
      "Calculating fib(3)\n",
      "Calculating fib(2)\n",
      "Calculating fib(1)\n",
      "Calculating fib(2)\n",
      "Calculating fib(3)\n",
      "Calculating fib(2)\n",
      "Calculating fib(1)\n",
      "Calculating fib(8)\n",
      "Calculating fib(7)\n",
      "Calculating fib(6)\n",
      "Calculating fib(5)\n",
      "Calculating fib(4)\n",
      "Calculating fib(3)\n",
      "Calculating fib(2)\n",
      "Calculating fib(1)\n",
      "Calculating fib(2)\n",
      "Calculating fib(3)\n",
      "Calculating fib(2)\n",
      "Calculating fib(1)\n",
      "Calculating fib(4)\n",
      "Calculating fib(3)\n",
      "Calculating fib(2)\n",
      "Calculating fib(1)\n",
      "Calculating fib(2)\n",
      "Calculating fib(5)\n",
      "Calculating fib(4)\n",
      "Calculating fib(3)\n",
      "Calculating fib(2)\n",
      "Calculating fib(1)\n",
      "Calculating fib(2)\n",
      "Calculating fib(3)\n",
      "Calculating fib(2)\n",
      "Calculating fib(1)\n",
      "Calculating fib(6)\n",
      "Calculating fib(5)\n",
      "Calculating fib(4)\n",
      "Calculating fib(3)\n",
      "Calculating fib(2)\n",
      "Calculating fib(1)\n",
      "Calculating fib(2)\n",
      "Calculating fib(3)\n",
      "Calculating fib(2)\n",
      "Calculating fib(1)\n",
      "Calculating fib(4)\n",
      "Calculating fib(3)\n",
      "Calculating fib(2)\n",
      "Calculating fib(1)\n",
      "Calculating fib(2)\n"
     ]
    },
    {
     "data": {
      "text/plain": [
       "55"
      ]
     },
     "execution_count": 179,
     "metadata": {},
     "output_type": "execute_result"
    }
   ],
   "source": [
    "fib(10)"
   ]
  },
  {
   "cell_type": "markdown",
   "metadata": {},
   "source": [
    "# Class cachine"
   ]
  },
  {
   "cell_type": "code",
   "execution_count": 211,
   "metadata": {},
   "outputs": [],
   "source": [
    "class Fib:\n",
    "    def __init__(self):\n",
    "        self.cache = {1:1, 2:1}\n",
    "    def fib(self, n):\n",
    "        #look at the cache -- caching using class\n",
    "        if n not in self.cache:\n",
    "            print('Calculating fib({0})'.format(n))\n",
    "            self.cache[n] = self.fib(n-1) + self.fib(n-2)\n",
    "        return self.cache[n]"
   ]
  },
  {
   "cell_type": "code",
   "execution_count": 212,
   "metadata": {},
   "outputs": [],
   "source": [
    "f = Fib()"
   ]
  },
  {
   "cell_type": "code",
   "execution_count": 213,
   "metadata": {},
   "outputs": [
    {
     "name": "stdout",
     "output_type": "stream",
     "text": [
      "Calculating fib(10)\n",
      "Calculating fib(9)\n",
      "Calculating fib(8)\n",
      "Calculating fib(7)\n",
      "Calculating fib(6)\n",
      "Calculating fib(5)\n",
      "Calculating fib(4)\n",
      "Calculating fib(3)\n"
     ]
    },
    {
     "data": {
      "text/plain": [
       "55"
      ]
     },
     "execution_count": 213,
     "metadata": {},
     "output_type": "execute_result"
    }
   ],
   "source": [
    "f.fib(10)"
   ]
  },
  {
   "cell_type": "code",
   "execution_count": 214,
   "metadata": {},
   "outputs": [
    {
     "name": "stdout",
     "output_type": "stream",
     "text": [
      "Calculating fib(12)\n",
      "Calculating fib(11)\n"
     ]
    },
    {
     "data": {
      "text/plain": [
       "144"
      ]
     },
     "execution_count": 214,
     "metadata": {},
     "output_type": "execute_result"
    }
   ],
   "source": [
    "f.fib(12)"
   ]
  },
  {
   "cell_type": "markdown",
   "metadata": {},
   "source": [
    "# Closure caching "
   ]
  },
  {
   "cell_type": "code",
   "execution_count": 215,
   "metadata": {},
   "outputs": [],
   "source": [
    "def fib():\n",
    "    cache = {1:1, 2:1}\n",
    "    \n",
    "    def calc_fib(n):#closure \n",
    "        if n not in cache:\n",
    "            print('Calculating fib({0})'.format(n))\n",
    "            cache[n] = calc_fib(n-1) + calc_fib(n-2)\n",
    "        return cache[n]\n",
    "    return calc_fib # closure"
   ]
  },
  {
   "cell_type": "code",
   "execution_count": 216,
   "metadata": {},
   "outputs": [],
   "source": [
    "f = fib()"
   ]
  },
  {
   "cell_type": "code",
   "execution_count": 217,
   "metadata": {},
   "outputs": [
    {
     "name": "stdout",
     "output_type": "stream",
     "text": [
      "Calculating fib(10)\n",
      "Calculating fib(9)\n",
      "Calculating fib(8)\n",
      "Calculating fib(7)\n",
      "Calculating fib(6)\n",
      "Calculating fib(5)\n",
      "Calculating fib(4)\n",
      "Calculating fib(3)\n"
     ]
    },
    {
     "data": {
      "text/plain": [
       "55"
      ]
     },
     "execution_count": 217,
     "metadata": {},
     "output_type": "execute_result"
    }
   ],
   "source": [
    "f(10)"
   ]
  },
  {
   "cell_type": "code",
   "execution_count": 218,
   "metadata": {},
   "outputs": [],
   "source": [
    "g = Fib()"
   ]
  },
  {
   "cell_type": "code",
   "execution_count": 219,
   "metadata": {},
   "outputs": [
    {
     "name": "stdout",
     "output_type": "stream",
     "text": [
      "Calculating fib(10)\n",
      "Calculating fib(9)\n",
      "Calculating fib(8)\n",
      "Calculating fib(7)\n",
      "Calculating fib(6)\n",
      "Calculating fib(5)\n",
      "Calculating fib(4)\n",
      "Calculating fib(3)\n"
     ]
    },
    {
     "data": {
      "text/plain": [
       "55"
      ]
     },
     "execution_count": 219,
     "metadata": {},
     "output_type": "execute_result"
    }
   ],
   "source": [
    "g.fib(10)"
   ]
  },
  {
   "cell_type": "code",
   "execution_count": 220,
   "metadata": {},
   "outputs": [],
   "source": [
    "g = fib()"
   ]
  },
  {
   "cell_type": "code",
   "execution_count": 210,
   "metadata": {},
   "outputs": [
    {
     "name": "stdout",
     "output_type": "stream",
     "text": [
      "Calculating fib(10)\n",
      "Calculating fib(9)\n",
      "Calculating fib(8)\n",
      "Calculating fib(7)\n",
      "Calculating fib(6)\n",
      "Calculating fib(5)\n",
      "Calculating fib(4)\n",
      "Calculating fib(3)\n"
     ]
    },
    {
     "data": {
      "text/plain": [
       "55"
      ]
     },
     "execution_count": 210,
     "metadata": {},
     "output_type": "execute_result"
    }
   ],
   "source": [
    "g(10)"
   ]
  },
  {
   "cell_type": "markdown",
   "metadata": {},
   "source": [
    "# Decorator ... cachining "
   ]
  },
  {
   "cell_type": "code",
   "execution_count": 222,
   "metadata": {},
   "outputs": [],
   "source": [
    "def memoize_fib(fib): # cache something whatever the fib is implemnted ... \n",
    "    cache = {1:1, 2:1}\n",
    "    \n",
    "    def inner(n):# closure in the decorator ... \n",
    "        if n not in cache:\n",
    "            cache[n] = fib(n) # call fib function \n",
    "        return cache[n]\n",
    "    return inner # closure"
   ]
  },
  {
   "cell_type": "code",
   "execution_count": 223,
   "metadata": {},
   "outputs": [],
   "source": [
    "@memoize_fib\n",
    "def fib(n):\n",
    "    print(\"Calculating fib({0})\".format(n))\n",
    "    return 1 if n < 3 else fib(n-1) + fib(n-2)"
   ]
  },
  {
   "cell_type": "code",
   "execution_count": 224,
   "metadata": {},
   "outputs": [
    {
     "name": "stdout",
     "output_type": "stream",
     "text": [
      "Calculating fib(10)\n",
      "Calculating fib(9)\n",
      "Calculating fib(8)\n",
      "Calculating fib(7)\n",
      "Calculating fib(6)\n",
      "Calculating fib(5)\n",
      "Calculating fib(4)\n",
      "Calculating fib(3)\n"
     ]
    },
    {
     "data": {
      "text/plain": [
       "55"
      ]
     },
     "execution_count": 224,
     "metadata": {},
     "output_type": "execute_result"
    }
   ],
   "source": [
    "fib(10)"
   ]
  },
  {
   "cell_type": "code",
   "execution_count": 225,
   "metadata": {},
   "outputs": [
    {
     "name": "stdout",
     "output_type": "stream",
     "text": [
      "Calculating fib(12)\n",
      "Calculating fib(11)\n"
     ]
    },
    {
     "data": {
      "text/plain": [
       "144"
      ]
     },
     "execution_count": 225,
     "metadata": {},
     "output_type": "execute_result"
    }
   ],
   "source": [
    "fib(12)"
   ]
  },
  {
   "cell_type": "markdown",
   "metadata": {},
   "source": [
    "# update the memoization wiht no cache "
   ]
  },
  {
   "cell_type": "code",
   "execution_count": 241,
   "metadata": {},
   "outputs": [],
   "source": [
    "def memoize(fn): # cache something whatever the fib is implemnted ... \n",
    "    cache = dict()\n",
    "    \n",
    "    def inner(n):# closure in the decorator ... \n",
    "        if n not in cache:\n",
    "            cache[n] = fn(n) # call fib function \n",
    "        return cache[n]\n",
    "    return inner # closure"
   ]
  },
  {
   "cell_type": "code",
   "execution_count": 242,
   "metadata": {},
   "outputs": [],
   "source": [
    "@memoize\n",
    "def fib(n):\n",
    "    print(\"Calculating fib({0})\".format(n))\n",
    "    return 1 if n < 3 else fib(n-1) + fib(n-2)"
   ]
  },
  {
   "cell_type": "code",
   "execution_count": 243,
   "metadata": {},
   "outputs": [
    {
     "name": "stdout",
     "output_type": "stream",
     "text": [
      "Calculating fib(10)\n",
      "Calculating fib(9)\n",
      "Calculating fib(8)\n",
      "Calculating fib(7)\n",
      "Calculating fib(6)\n",
      "Calculating fib(5)\n",
      "Calculating fib(4)\n",
      "Calculating fib(3)\n",
      "Calculating fib(2)\n",
      "Calculating fib(1)\n"
     ]
    },
    {
     "data": {
      "text/plain": [
       "55"
      ]
     },
     "execution_count": 243,
     "metadata": {},
     "output_type": "execute_result"
    }
   ],
   "source": [
    "fib(10)"
   ]
  },
  {
   "cell_type": "code",
   "execution_count": 239,
   "metadata": {},
   "outputs": [
    {
     "data": {
      "text/plain": [
       "55"
      ]
     },
     "execution_count": 239,
     "metadata": {},
     "output_type": "execute_result"
    }
   ],
   "source": [
    "fib(10)"
   ]
  },
  {
   "cell_type": "code",
   "execution_count": 240,
   "metadata": {},
   "outputs": [
    {
     "name": "stdout",
     "output_type": "stream",
     "text": [
      "Calculating fib(12)\n",
      "Calculating fib(11)\n"
     ]
    },
    {
     "data": {
      "text/plain": [
       "144"
      ]
     },
     "execution_count": 240,
     "metadata": {},
     "output_type": "execute_result"
    }
   ],
   "source": [
    "fib(12)"
   ]
  },
  {
   "cell_type": "code",
   "execution_count": 244,
   "metadata": {},
   "outputs": [],
   "source": [
    "@memoize\n",
    "def fact(n):# accept signle parameter in the memoization method\n",
    "    print(\"Calculating {0}\".format(n))\n",
    "    return 1 if n < 2 else n * fact(n-1)\n",
    "    \n",
    "    "
   ]
  },
  {
   "cell_type": "code",
   "execution_count": 245,
   "metadata": {},
   "outputs": [
    {
     "name": "stdout",
     "output_type": "stream",
     "text": [
      "Calculating 6\n",
      "Calculating 5\n",
      "Calculating 4\n",
      "Calculating 3\n",
      "Calculating 2\n",
      "Calculating 1\n"
     ]
    },
    {
     "data": {
      "text/plain": [
       "720"
      ]
     },
     "execution_count": 245,
     "metadata": {},
     "output_type": "execute_result"
    }
   ],
   "source": [
    "fact(6)"
   ]
  },
  {
   "cell_type": "code",
   "execution_count": 246,
   "metadata": {},
   "outputs": [
    {
     "data": {
      "text/plain": [
       "720"
      ]
     },
     "execution_count": 246,
     "metadata": {},
     "output_type": "execute_result"
    }
   ],
   "source": [
    "fact(6)"
   ]
  },
  {
   "cell_type": "code",
   "execution_count": 247,
   "metadata": {},
   "outputs": [
    {
     "name": "stdout",
     "output_type": "stream",
     "text": [
      "Calculating 8\n",
      "Calculating 7\n"
     ]
    },
    {
     "data": {
      "text/plain": [
       "40320"
      ]
     },
     "execution_count": 247,
     "metadata": {},
     "output_type": "execute_result"
    }
   ],
   "source": [
    "fact(8)"
   ]
  },
  {
   "cell_type": "code",
   "execution_count": 250,
   "metadata": {},
   "outputs": [],
   "source": [
    "@memoize\n",
    "def fib(n):\n",
    "   # print(\"Calculating fib({0})\".format(n))\n",
    "    return 1 if n < 3 else fib(n-1) + fib(n-2)"
   ]
  },
  {
   "cell_type": "code",
   "execution_count": 255,
   "metadata": {},
   "outputs": [
    {
     "name": "stdout",
     "output_type": "stream",
     "text": [
      "9227465\n",
      "0.0006728969965479337\n"
     ]
    }
   ],
   "source": [
    "from time import perf_counter\n",
    "\n",
    "start = perf_counter()\n",
    "r = fib(35)\n",
    "print(r)\n",
    "end = perf_counter()\n",
    "print(end - start)"
   ]
  },
  {
   "cell_type": "markdown",
   "metadata": {},
   "source": [
    "# Generic memoization function\n",
    "\n",
    "## also we had to limit the cache size ... memory space vs time compution complexity .. disgarding in the cache ... the cache is limited to 2 items ... \n",
    "### calculate another 2 items ... digarding oldest one"
   ]
  },
  {
   "cell_type": "code",
   "execution_count": 256,
   "metadata": {},
   "outputs": [],
   "source": [
    "def memoize(fn): # cache something whatever the fib is implemnted ... \n",
    "    cache = dict()\n",
    "    \n",
    "    def inner(*args):# closure in the decorator ... \n",
    "        if args not in cache:\n",
    "            cache[args] = fn(args) # call fib function \n",
    "        return cache[args]\n",
    "    return inner # closure"
   ]
  },
  {
   "cell_type": "code",
   "execution_count": 258,
   "metadata": {},
   "outputs": [],
   "source": [
    "from functools import lru_cache # least recently used caching "
   ]
  },
  {
   "cell_type": "code",
   "execution_count": 261,
   "metadata": {},
   "outputs": [],
   "source": [
    "@lru_cache() # parameter to specify the function fo cache size \n",
    "def fib(n):\n",
    "    print(\"Calculating by lru fib({0})\".format(n))\n",
    "    return 1 if n < 3 else fib(n-1) + fib(n-2)"
   ]
  },
  {
   "cell_type": "code",
   "execution_count": 262,
   "metadata": {},
   "outputs": [
    {
     "name": "stdout",
     "output_type": "stream",
     "text": [
      "Calculating by lru fib(10)\n",
      "Calculating by lru fib(9)\n",
      "Calculating by lru fib(8)\n",
      "Calculating by lru fib(7)\n",
      "Calculating by lru fib(6)\n",
      "Calculating by lru fib(5)\n",
      "Calculating by lru fib(4)\n",
      "Calculating by lru fib(3)\n",
      "Calculating by lru fib(2)\n",
      "Calculating by lru fib(1)\n"
     ]
    },
    {
     "data": {
      "text/plain": [
       "55"
      ]
     },
     "execution_count": 262,
     "metadata": {},
     "output_type": "execute_result"
    }
   ],
   "source": [
    "fib(10)"
   ]
  },
  {
   "cell_type": "code",
   "execution_count": 263,
   "metadata": {},
   "outputs": [
    {
     "data": {
      "text/plain": [
       "55"
      ]
     },
     "execution_count": 263,
     "metadata": {},
     "output_type": "execute_result"
    }
   ],
   "source": [
    "fib(10)"
   ]
  },
  {
   "cell_type": "code",
   "execution_count": 266,
   "metadata": {},
   "outputs": [
    {
     "name": "stdout",
     "output_type": "stream",
     "text": [
      "Calculating by lru fib(112)\n"
     ]
    },
    {
     "data": {
      "text/plain": [
       "114059301025943970552219"
      ]
     },
     "execution_count": 266,
     "metadata": {},
     "output_type": "execute_result"
    }
   ],
   "source": [
    "fib(112)"
   ]
  },
  {
   "cell_type": "code",
   "execution_count": 275,
   "metadata": {},
   "outputs": [],
   "source": [
    "@lru_cache(maxsize=8) # parameter to specify the function fo cache size to a power of 2 (2^3) for efficiny ... if set to None it is unlimited \n",
    "def fib(n):\n",
    "    print(\"Calculating by lru fib({0})\".format(n))\n",
    "    return 1 if n < 3 else fib(n-1) + fib(n-2)"
   ]
  },
  {
   "cell_type": "code",
   "execution_count": 276,
   "metadata": {},
   "outputs": [
    {
     "name": "stdout",
     "output_type": "stream",
     "text": [
      "Calculating by lru fib(8)\n",
      "Calculating by lru fib(7)\n",
      "Calculating by lru fib(6)\n",
      "Calculating by lru fib(5)\n",
      "Calculating by lru fib(4)\n",
      "Calculating by lru fib(3)\n",
      "Calculating by lru fib(2)\n",
      "Calculating by lru fib(1)\n"
     ]
    },
    {
     "data": {
      "text/plain": [
       "21"
      ]
     },
     "execution_count": 276,
     "metadata": {},
     "output_type": "execute_result"
    }
   ],
   "source": [
    "fib(8)"
   ]
  },
  {
   "cell_type": "code",
   "execution_count": 277,
   "metadata": {},
   "outputs": [
    {
     "data": {
      "text/plain": [
       "21"
      ]
     },
     "execution_count": 277,
     "metadata": {},
     "output_type": "execute_result"
    }
   ],
   "source": [
    "fib(8)"
   ]
  },
  {
   "cell_type": "code",
   "execution_count": 278,
   "metadata": {},
   "outputs": [
    {
     "name": "stdout",
     "output_type": "stream",
     "text": [
      "Calculating by lru fib(16)\n",
      "Calculating by lru fib(15)\n",
      "Calculating by lru fib(14)\n",
      "Calculating by lru fib(13)\n",
      "Calculating by lru fib(12)\n",
      "Calculating by lru fib(11)\n",
      "Calculating by lru fib(10)\n",
      "Calculating by lru fib(9)\n"
     ]
    },
    {
     "data": {
      "text/plain": [
       "987"
      ]
     },
     "execution_count": 278,
     "metadata": {},
     "output_type": "execute_result"
    }
   ],
   "source": [
    "fib(16)"
   ]
  },
  {
   "cell_type": "code",
   "execution_count": 279,
   "metadata": {},
   "outputs": [
    {
     "name": "stdout",
     "output_type": "stream",
     "text": [
      "Calculating by lru fib(8)\n",
      "Calculating by lru fib(7)\n",
      "Calculating by lru fib(6)\n",
      "Calculating by lru fib(5)\n",
      "Calculating by lru fib(4)\n",
      "Calculating by lru fib(3)\n",
      "Calculating by lru fib(2)\n",
      "Calculating by lru fib(1)\n"
     ]
    },
    {
     "data": {
      "text/plain": [
       "21"
      ]
     },
     "execution_count": 279,
     "metadata": {},
     "output_type": "execute_result"
    }
   ],
   "source": [
    "fib(8)"
   ]
  },
  {
   "cell_type": "code",
   "execution_count": 280,
   "metadata": {},
   "outputs": [
    {
     "name": "stdout",
     "output_type": "stream",
     "text": [
      "Calculating by lru fib(9)\n"
     ]
    },
    {
     "data": {
      "text/plain": [
       "34"
      ]
     },
     "execution_count": 280,
     "metadata": {},
     "output_type": "execute_result"
    }
   ],
   "source": [
    "fib(9)"
   ]
  },
  {
   "cell_type": "code",
   "execution_count": 281,
   "metadata": {},
   "outputs": [
    {
     "data": {
      "text/plain": [
       "21"
      ]
     },
     "execution_count": 281,
     "metadata": {},
     "output_type": "execute_result"
    }
   ],
   "source": [
    "fib(8)"
   ]
  },
  {
   "cell_type": "code",
   "execution_count": 282,
   "metadata": {},
   "outputs": [
    {
     "name": "stdout",
     "output_type": "stream",
     "text": [
      "Calculating by lru fib(10)\n"
     ]
    },
    {
     "data": {
      "text/plain": [
       "55"
      ]
     },
     "execution_count": 282,
     "metadata": {},
     "output_type": "execute_result"
    }
   ],
   "source": [
    "fib(10)"
   ]
  },
  {
   "cell_type": "code",
   "execution_count": 283,
   "metadata": {},
   "outputs": [
    {
     "data": {
      "text/plain": [
       "21"
      ]
     },
     "execution_count": 283,
     "metadata": {},
     "output_type": "execute_result"
    }
   ],
   "source": [
    "fib(8)"
   ]
  },
  {
   "cell_type": "code",
   "execution_count": 284,
   "metadata": {},
   "outputs": [
    {
     "data": {
      "text/plain": [
       "13"
      ]
     },
     "execution_count": 284,
     "metadata": {},
     "output_type": "execute_result"
    }
   ],
   "source": [
    "fib(7)"
   ]
  },
  {
   "cell_type": "code",
   "execution_count": 285,
   "metadata": {},
   "outputs": [
    {
     "name": "stdout",
     "output_type": "stream",
     "text": [
      "Calculating by lru fib(12)\n",
      "Calculating by lru fib(11)\n"
     ]
    },
    {
     "data": {
      "text/plain": [
       "144"
      ]
     },
     "execution_count": 285,
     "metadata": {},
     "output_type": "execute_result"
    }
   ],
   "source": [
    "fib(12)"
   ]
  },
  {
   "cell_type": "code",
   "execution_count": 286,
   "metadata": {},
   "outputs": [
    {
     "name": "stdout",
     "output_type": "stream",
     "text": [
      "Calculating by lru fib(4)\n",
      "Calculating by lru fib(3)\n",
      "Calculating by lru fib(2)\n",
      "Calculating by lru fib(1)\n"
     ]
    },
    {
     "data": {
      "text/plain": [
       "3"
      ]
     },
     "execution_count": 286,
     "metadata": {},
     "output_type": "execute_result"
    }
   ],
   "source": [
    "fib(4)"
   ]
  },
  {
   "cell_type": "code",
   "execution_count": null,
   "metadata": {},
   "outputs": [],
   "source": []
  },
  {
   "cell_type": "markdown",
   "metadata": {},
   "source": [
    "# Decorator Parameters \n",
    "## @lru_cache(maxsize=256)\n",
    "##wraps(fn)\n",
    "#timed\n"
   ]
  },
  {
   "cell_type": "markdown",
   "metadata": {},
   "source": [
    "# The timed decorator "
   ]
  },
  {
   "cell_type": "markdown",
   "metadata": {},
   "source": []
  },
  {
   "cell_type": "code",
   "execution_count": 287,
   "metadata": {},
   "outputs": [],
   "source": [
    "def timed(fn):\n",
    "    from time import perf_counter # if we reuse this decorator somewhare else the perf_counter will be available \n",
    "    \n",
    "    def inner(*args, **kwargs):\n",
    "        total_elapsed = 0\n",
    "        for i in range(10):\n",
    "            \n",
    "            start = perf_counter()\n",
    "            result = fn(*args, **kwargs)\n",
    "            total_elapsed +=(perf_counter() - start)\n",
    "            \n",
    "        avg_elapsed = total_elapsed / 10\n",
    "        print(avg_elapsed)\n",
    "        return result\n",
    "    return inner \n",
    "        "
   ]
  },
  {
   "cell_type": "code",
   "execution_count": 288,
   "metadata": {},
   "outputs": [],
   "source": [
    "@timed\n",
    "def myFun():\n",
    "    ..."
   ]
  },
  {
   "cell_type": "code",
   "execution_count": 290,
   "metadata": {},
   "outputs": [],
   "source": [
    "myfun = timed(myFun)"
   ]
  },
  {
   "cell_type": "markdown",
   "metadata": {},
   "source": [
    "# more generic"
   ]
  },
  {
   "cell_type": "code",
   "execution_count": 291,
   "metadata": {},
   "outputs": [],
   "source": [
    "def timed(fn, reps):\n",
    "    from time import perf_counter # if we reuse this decorator somewhare else the perf_counter will be available \n",
    "    \n",
    "    def inner(*args, **kwargs):\n",
    "        total_elapsed = 0\n",
    "        for i in range(reps): # free variable \n",
    "            \n",
    "            start = perf_counter()\n",
    "            result = fn(*args, **kwargs)\n",
    "            total_elapsed +=(perf_counter() - start)\n",
    "            \n",
    "        avg_elapsed = total_elapsed / reps\n",
    "        print(avg_elapsed)\n",
    "        return result\n",
    "    return inner "
   ]
  },
  {
   "cell_type": "code",
   "execution_count": 292,
   "metadata": {},
   "outputs": [],
   "source": [
    "myFun = timed(myFun, 10)\n"
   ]
  },
  {
   "cell_type": "code",
   "execution_count": 294,
   "metadata": {},
   "outputs": [
    {
     "ename": "TypeError",
     "evalue": "timed() missing 1 required positional argument: 'reps'",
     "output_type": "error",
     "traceback": [
      "\u001b[0;31m---------------------------------------------------------------------------\u001b[0m",
      "\u001b[0;31mTypeError\u001b[0m                                 Traceback (most recent call last)",
      "Cell \u001b[0;32mIn [294], line 1\u001b[0m\n\u001b[0;32m----> 1\u001b[0m \u001b[39m@timed\u001b[39m(\u001b[39m10\u001b[39;49m)\n\u001b[1;32m      2\u001b[0m \u001b[39mdef\u001b[39;00m \u001b[39mfunc\u001b[39m():\n\u001b[1;32m      3\u001b[0m     \u001b[39m.\u001b[39m\u001b[39m.\u001b[39m\u001b[39m.\u001b[39m\n",
      "\u001b[0;31mTypeError\u001b[0m: timed() missing 1 required positional argument: 'reps'"
     ]
    }
   ],
   "source": [
    "@timed(10)\n",
    "def func():\n",
    "    ..."
   ]
  },
  {
   "cell_type": "markdown",
   "metadata": {},
   "source": [
    "# Rethinking the solution "
   ]
  },
  {
   "cell_type": "code",
   "execution_count": 295,
   "metadata": {},
   "outputs": [
    {
     "ename": "TypeError",
     "evalue": "timed() missing 1 required positional argument: 'reps'",
     "output_type": "error",
     "traceback": [
      "\u001b[0;31m---------------------------------------------------------------------------\u001b[0m",
      "\u001b[0;31mTypeError\u001b[0m                                 Traceback (most recent call last)",
      "Cell \u001b[0;32mIn [295], line 2\u001b[0m\n\u001b[1;32m      1\u001b[0m \u001b[39m@timed\u001b[39;49m \u001b[39m# timed is afunction that returns the inner closure that contain our origintal function \u001b[39;49;00m\n\u001b[0;32m----> 2\u001b[0m \u001b[39mdef\u001b[39;49;00m \u001b[39mfunc\u001b[39;49m():\n\u001b[1;32m      3\u001b[0m     \u001b[39m.\u001b[39;49m\u001b[39m.\u001b[39;49m\u001b[39m.\u001b[39;49m\n",
      "\u001b[0;31mTypeError\u001b[0m: timed() missing 1 required positional argument: 'reps'"
     ]
    }
   ],
   "source": [
    "@timed # timed is afunction that returns the inner closure that contain our origintal function \n",
    "def func():\n",
    "    ..."
   ]
  },
  {
   "cell_type": "code",
   "execution_count": 297,
   "metadata": {},
   "outputs": [
    {
     "ename": "TypeError",
     "evalue": "timed() missing 1 required positional argument: 'reps'",
     "output_type": "error",
     "traceback": [
      "\u001b[0;31m---------------------------------------------------------------------------\u001b[0m",
      "\u001b[0;31mTypeError\u001b[0m                                 Traceback (most recent call last)",
      "Cell \u001b[0;32mIn [297], line 2\u001b[0m\n\u001b[1;32m      1\u001b[0m \u001b[39m#time(10) need to return our original time ddecoration whencalled \u001b[39;00m\n\u001b[0;32m----> 2\u001b[0m dec \u001b[39m=\u001b[39m timed(\u001b[39m10\u001b[39;49m)\n\u001b[1;32m      3\u001b[0m \u001b[39m@dec\u001b[39m\n\u001b[1;32m      4\u001b[0m \u001b[39mdef\u001b[39;00m \u001b[39mfunc\u001b[39m():\n\u001b[1;32m      5\u001b[0m     \u001b[39m.\u001b[39m\u001b[39m.\u001b[39m\u001b[39m.\u001b[39m\n",
      "\u001b[0;31mTypeError\u001b[0m: timed() missing 1 required positional argument: 'reps'"
     ]
    }
   ],
   "source": [
    "#time(10) need to return our original time ddecoration whencalled \n",
    "dec = timed(10)\n",
    "@dec\n",
    "def func():\n",
    "    ..."
   ]
  },
  {
   "cell_type": "code",
   "execution_count": 298,
   "metadata": {},
   "outputs": [],
   "source": [
    "# nested closure to the resccule \n",
    "\n",
    "def outer(reps):\n",
    "        def timed(fn):\n",
    "            from time import perf_counter\n",
    "            \n",
    "            def inner(*args, **kwargs):\n",
    "                total_elapsed = 0\n",
    "                for i in range(reps): # free variable \n",
    "                    \n",
    "                    start = perf_counter()\n",
    "                    result = fn(*args, **kwargs)\n",
    "                    total_elapsed +=(perf_counter() - start)\n",
    "                    \n",
    "                avg_elapsed = total_elapsed / reps\n",
    "                print(avg_elapsed)\n",
    "                return result\n",
    "            return inner \n",
    "        return timed"
   ]
  },
  {
   "cell_type": "code",
   "execution_count": 301,
   "metadata": {},
   "outputs": [],
   "source": [
    "myf = outer(10)(myFun)"
   ]
  },
  {
   "cell_type": "code",
   "execution_count": 303,
   "metadata": {},
   "outputs": [],
   "source": [
    "@outer(10) # the outer function is not a decorator it create a decoratei it is a decorator factory ..\n",
    "def f():\n",
    "    ..."
   ]
  },
  {
   "cell_type": "code",
   "execution_count": 305,
   "metadata": {},
   "outputs": [
    {
     "ename": "NameError",
     "evalue": "name 'outter' is not defined",
     "output_type": "error",
     "traceback": [
      "\u001b[0;31m---------------------------------------------------------------------------\u001b[0m",
      "\u001b[0;31mNameError\u001b[0m                                 Traceback (most recent call last)",
      "Cell \u001b[0;32mIn [305], line 1\u001b[0m\n\u001b[0;32m----> 1\u001b[0m \u001b[39m@outter\u001b[39m(\u001b[39m10\u001b[39m)\n\u001b[1;32m      2\u001b[0m \u001b[39mdef\u001b[39;00m \u001b[39mmyFunc\u001b[39m():\n\u001b[1;32m      3\u001b[0m     \u001b[39m.\u001b[39m\u001b[39m.\u001b[39m\u001b[39m.\u001b[39m\n",
      "\u001b[0;31mNameError\u001b[0m: name 'outter' is not defined"
     ]
    }
   ],
   "source": [
    "@outter(10)\n",
    "def myFunc():\n",
    "    ..."
   ]
  },
  {
   "cell_type": "code",
   "execution_count": 306,
   "metadata": {},
   "outputs": [],
   "source": [
    "# nested closure to the resccule \n",
    "\n",
    "def timed(reps): # outer\n",
    "        def dec(fn):# timed\n",
    "            from time import perf_counter\n",
    "            @wraps(fn) # decorator \n",
    "            def inner(*args, **kwargs):\n",
    "                total_elapsed = 0\n",
    "                for i in range(reps): # free variable \n",
    "                    \n",
    "                    start = perf_counter()\n",
    "                    result = fn(*args, **kwargs)\n",
    "                    total_elapsed +=(perf_counter() - start)\n",
    "                    \n",
    "                avg_elapsed = total_elapsed / reps\n",
    "                print(avg_elapsed)\n",
    "                return result\n",
    "            return inner \n",
    "        return dec"
   ]
  },
  {
   "cell_type": "code",
   "execution_count": 307,
   "metadata": {},
   "outputs": [],
   "source": [
    "@timed(10)\n",
    "def f1():\n",
    "    ..."
   ]
  },
  {
   "cell_type": "markdown",
   "metadata": {},
   "source": [
    "# decorator"
   ]
  },
  {
   "cell_type": "code",
   "execution_count": 308,
   "metadata": {},
   "outputs": [],
   "source": [
    "def timed(fn):\n",
    "    from time import perf_counter\n",
    "    \n",
    "    def inner(*args, **kwargs):\n",
    "        start = perf_counter()\n",
    "        result = fn(*args, **kwargs)\n",
    "        end = perf_counter()\n",
    "        elapsed = end - start\n",
    "        print(\"Run time: {0:.6f}\".format(elapsed))\n",
    "        return result\n",
    "    return inner # closure \n"
   ]
  },
  {
   "cell_type": "code",
   "execution_count": 309,
   "metadata": {},
   "outputs": [],
   "source": [
    "def calc_fib_recursive(n):\n",
    "    return 1 if n < 3 else calc_fib_recursive(n-2) + calc_fib_recursive(n-1)"
   ]
  },
  {
   "cell_type": "code",
   "execution_count": 310,
   "metadata": {},
   "outputs": [],
   "source": [
    "def fib(n): # to return the entire fib .. not indivsual recursive call\n",
    "    return calc_fib_recursive(n)"
   ]
  },
  {
   "cell_type": "code",
   "execution_count": 311,
   "metadata": {},
   "outputs": [
    {
     "data": {
      "text/plain": [
       "144"
      ]
     },
     "execution_count": 311,
     "metadata": {},
     "output_type": "execute_result"
    }
   ],
   "source": [
    "fib(12)"
   ]
  },
  {
   "cell_type": "code",
   "execution_count": 312,
   "metadata": {},
   "outputs": [],
   "source": [
    "@timed\n",
    "def fib(n): # to return the entire fib .. not indivsual recursive call\n",
    "    return calc_fib_recursive(n)"
   ]
  },
  {
   "cell_type": "code",
   "execution_count": 313,
   "metadata": {},
   "outputs": [
    {
     "name": "stdout",
     "output_type": "stream",
     "text": [
      "Run time: 0.000049\n"
     ]
    },
    {
     "data": {
      "text/plain": [
       "144"
      ]
     },
     "execution_count": 313,
     "metadata": {},
     "output_type": "execute_result"
    }
   ],
   "source": [
    "fib(12)"
   ]
  },
  {
   "cell_type": "code",
   "execution_count": 316,
   "metadata": {},
   "outputs": [],
   "source": [
    "fib1 = timed(fib)"
   ]
  },
  {
   "cell_type": "code",
   "execution_count": 317,
   "metadata": {},
   "outputs": [
    {
     "name": "stdout",
     "output_type": "stream",
     "text": [
      "Run time: 0.000047\n",
      "Run time: 0.000206\n",
      "Run time: 0.000216\n"
     ]
    },
    {
     "data": {
      "text/plain": [
       "144"
      ]
     },
     "execution_count": 317,
     "metadata": {},
     "output_type": "execute_result"
    }
   ],
   "source": [
    "fib1(12)"
   ]
  },
  {
   "cell_type": "code",
   "execution_count": 319,
   "metadata": {},
   "outputs": [],
   "source": [
    "def timed(reps): # outer\n",
    "        def dec(fn):# timed\n",
    "            from time import perf_counter\n",
    "            @wraps(fn) # decorator \n",
    "            def inner(*args, **kwargs):\n",
    "                total_elapsed = 0\n",
    "                for i in range(reps): # free variable \n",
    "                    \n",
    "                    start = perf_counter()\n",
    "                    result = fn(*args, **kwargs)\n",
    "                    total_elapsed +=(perf_counter() - start)\n",
    "                    \n",
    "                avg_elapsed = total_elapsed / reps\n",
    "                print(avg_elapsed)\n",
    "                return result\n",
    "            return inner \n",
    "        return dec"
   ]
  },
  {
   "cell_type": "code",
   "execution_count": 322,
   "metadata": {},
   "outputs": [],
   "source": [
    "def fib(n): # to return the entire fib .. not indivsual recursive call\n",
    "    return calc_fib_recursive(n)"
   ]
  },
  {
   "cell_type": "code",
   "execution_count": 324,
   "metadata": {},
   "outputs": [
    {
     "ename": "TypeError",
     "evalue": "timed() takes 1 positional argument but 2 were given",
     "output_type": "error",
     "traceback": [
      "\u001b[0;31m---------------------------------------------------------------------------\u001b[0m",
      "\u001b[0;31mTypeError\u001b[0m                                 Traceback (most recent call last)",
      "Cell \u001b[0;32mIn [324], line 1\u001b[0m\n\u001b[0;32m----> 1\u001b[0m f \u001b[39m=\u001b[39m timed(fib, \u001b[39m2\u001b[39;49m)\n",
      "\u001b[0;31mTypeError\u001b[0m: timed() takes 1 positional argument but 2 were given"
     ]
    }
   ],
   "source": [
    "f = timed(fib, 2)"
   ]
  },
  {
   "cell_type": "code",
   "execution_count": 325,
   "metadata": {},
   "outputs": [],
   "source": [
    "def dec(fn):\n",
    "    print('running dec')\n",
    "    \n",
    "    def inner(*args, **kwargs):\n",
    "        print(\"running inner\")\n",
    "        return fn(*args, **kwargs)\n",
    "    return inner  "
   ]
  },
  {
   "cell_type": "code",
   "execution_count": 326,
   "metadata": {},
   "outputs": [
    {
     "name": "stdout",
     "output_type": "stream",
     "text": [
      "running dec\n"
     ]
    }
   ],
   "source": [
    "@dec \n",
    "def myFun():\n",
    "    print('running my fun')"
   ]
  },
  {
   "cell_type": "code",
   "execution_count": 327,
   "metadata": {},
   "outputs": [
    {
     "name": "stdout",
     "output_type": "stream",
     "text": [
      "running dec\n"
     ]
    }
   ],
   "source": [
    "myfun = dec(myFun)"
   ]
  },
  {
   "cell_type": "code",
   "execution_count": 328,
   "metadata": {},
   "outputs": [
    {
     "name": "stdout",
     "output_type": "stream",
     "text": [
      "running inner\n",
      "running my fun\n"
     ]
    }
   ],
   "source": [
    "myFun()"
   ]
  },
  {
   "cell_type": "code",
   "execution_count": 330,
   "metadata": {},
   "outputs": [],
   "source": [
    "def dec_factory():\n",
    "    print('running a decorator factory ')\n",
    "    \n",
    "    def dec(fn):\n",
    "        print('running dec')\n",
    "        \n",
    "        def inner(*args, **kwargs):\n",
    "            print(\"running inner\")\n",
    "            return fn(*args, **kwargs)\n",
    "        return inner  \n",
    "    return dec\n",
    "    "
   ]
  },
  {
   "cell_type": "code",
   "execution_count": 331,
   "metadata": {},
   "outputs": [
    {
     "name": "stdout",
     "output_type": "stream",
     "text": [
      "running a decorator factory \n"
     ]
    }
   ],
   "source": [
    "dec = dec_factory()"
   ]
  },
  {
   "cell_type": "code",
   "execution_count": 332,
   "metadata": {},
   "outputs": [],
   "source": [
    "def myFun():\n",
    "    print('running my fun')"
   ]
  },
  {
   "cell_type": "code",
   "execution_count": 333,
   "metadata": {},
   "outputs": [
    {
     "name": "stdout",
     "output_type": "stream",
     "text": [
      "running dec\n"
     ]
    }
   ],
   "source": [
    "f = dec(myFun)"
   ]
  },
  {
   "cell_type": "code",
   "execution_count": 334,
   "metadata": {},
   "outputs": [
    {
     "name": "stdout",
     "output_type": "stream",
     "text": [
      "running inner\n",
      "running my fun\n"
     ]
    }
   ],
   "source": [
    "f()"
   ]
  },
  {
   "cell_type": "code",
   "execution_count": 335,
   "metadata": {},
   "outputs": [
    {
     "name": "stdout",
     "output_type": "stream",
     "text": [
      "running dec\n"
     ]
    }
   ],
   "source": [
    "@dec\n",
    "def myFun():\n",
    "    print('running my fun')"
   ]
  },
  {
   "cell_type": "code",
   "execution_count": 336,
   "metadata": {},
   "outputs": [
    {
     "name": "stdout",
     "output_type": "stream",
     "text": [
      "running inner\n",
      "running my fun\n"
     ]
    }
   ],
   "source": [
    "\n",
    "myFun()"
   ]
  },
  {
   "cell_type": "code",
   "execution_count": 338,
   "metadata": {},
   "outputs": [
    {
     "name": "stdout",
     "output_type": "stream",
     "text": [
      "running a decorator factory \n",
      "running dec\n"
     ]
    }
   ],
   "source": [
    "@dec_factory()\n",
    "def myFun():\n",
    "    print('running my fun')"
   ]
  },
  {
   "cell_type": "code",
   "execution_count": 339,
   "metadata": {},
   "outputs": [
    {
     "name": "stdout",
     "output_type": "stream",
     "text": [
      "running inner\n",
      "running my fun\n"
     ]
    }
   ],
   "source": [
    "myFun()"
   ]
  },
  {
   "cell_type": "code",
   "execution_count": 340,
   "metadata": {},
   "outputs": [],
   "source": [
    "def myFun():\n",
    "    print('running my fun')"
   ]
  },
  {
   "cell_type": "code",
   "execution_count": 341,
   "metadata": {},
   "outputs": [
    {
     "name": "stdout",
     "output_type": "stream",
     "text": [
      "running a decorator factory \n",
      "running dec\n"
     ]
    }
   ],
   "source": [
    "myFun = dec_factory()(myFun)"
   ]
  },
  {
   "cell_type": "code",
   "execution_count": 342,
   "metadata": {},
   "outputs": [
    {
     "name": "stdout",
     "output_type": "stream",
     "text": [
      "running inner\n",
      "running my fun\n"
     ]
    }
   ],
   "source": [
    "myFun()"
   ]
  },
  {
   "cell_type": "code",
   "execution_count": 343,
   "metadata": {},
   "outputs": [],
   "source": [
    "def dec_factory(a, b):\n",
    "    print('running a decorator factory ')\n",
    "    \n",
    "    def dec(fn):\n",
    "        print('running dec')\n",
    "        \n",
    "        def inner(*args, **kwargs):\n",
    "            print(\"running inner\")\n",
    "            print(\"a={0}, b={1}\".format(a,b))\n",
    "            \n",
    "            return fn(*args, **kwargs)\n",
    "        return inner  \n",
    "    return dec\n"
   ]
  },
  {
   "cell_type": "code",
   "execution_count": 344,
   "metadata": {},
   "outputs": [
    {
     "name": "stdout",
     "output_type": "stream",
     "text": [
      "running a decorator factory \n"
     ]
    }
   ],
   "source": [
    "dec = dec_factory(10, 20)"
   ]
  },
  {
   "cell_type": "code",
   "execution_count": 345,
   "metadata": {},
   "outputs": [
    {
     "name": "stdout",
     "output_type": "stream",
     "text": [
      "running dec\n"
     ]
    }
   ],
   "source": [
    "@dec \n",
    "def myFun():\n",
    "    print('running my fun')"
   ]
  },
  {
   "cell_type": "code",
   "execution_count": 346,
   "metadata": {},
   "outputs": [
    {
     "name": "stdout",
     "output_type": "stream",
     "text": [
      "running inner\n",
      "a=10, b=20\n",
      "running my fun\n"
     ]
    }
   ],
   "source": [
    "myFun()"
   ]
  },
  {
   "cell_type": "code",
   "execution_count": 347,
   "metadata": {},
   "outputs": [
    {
     "name": "stdout",
     "output_type": "stream",
     "text": [
      "running a decorator factory \n",
      "running dec\n"
     ]
    }
   ],
   "source": [
    "@dec_factory(100,200)\n",
    "def myFun():\n",
    "    print('running my fun')"
   ]
  },
  {
   "cell_type": "code",
   "execution_count": 348,
   "metadata": {},
   "outputs": [
    {
     "name": "stdout",
     "output_type": "stream",
     "text": [
      "running inner\n",
      "a=100, b=200\n",
      "running my fun\n"
     ]
    }
   ],
   "source": [
    "myFun()"
   ]
  },
  {
   "cell_type": "code",
   "execution_count": 349,
   "metadata": {},
   "outputs": [],
   "source": [
    "def myFun():\n",
    "    print('running my fun')"
   ]
  },
  {
   "cell_type": "code",
   "execution_count": 350,
   "metadata": {},
   "outputs": [
    {
     "name": "stdout",
     "output_type": "stream",
     "text": [
      "running a decorator factory \n",
      "running dec\n"
     ]
    }
   ],
   "source": [
    "myfun = dec_factory(110, 220)(myFun)"
   ]
  },
  {
   "cell_type": "code",
   "execution_count": 351,
   "metadata": {},
   "outputs": [
    {
     "name": "stdout",
     "output_type": "stream",
     "text": [
      "running inner\n",
      "a=110, b=220\n",
      "running my fun\n"
     ]
    }
   ],
   "source": [
    "myfun()"
   ]
  },
  {
   "cell_type": "code",
   "execution_count": 359,
   "metadata": {},
   "outputs": [],
   "source": [
    "\n",
    "def de_factory(reps):\n",
    "    def timed(fn):\n",
    "        from time import perf_counter # if we reuse this decorator somewhare else the perf_counter will be available \n",
    "        \n",
    "        def inner(*args, **kwargs):\n",
    "            total_elapsed = 0\n",
    "            for i in range(reps):\n",
    "                start = perf_counter()\n",
    "                result = fn(*args, **kwargs)\n",
    "                total_elapsed +=(perf_counter() - start)\n",
    "                \n",
    "            avg_elapsed = total_elapsed / reps\n",
    "            print(\"Avg_elapsed: {0:.6f}s ({1}) reps)\".format(avg_elapsed, reps))\n",
    "            return result\n",
    "        return inner \n",
    "    return timed "
   ]
  },
  {
   "cell_type": "code",
   "execution_count": 360,
   "metadata": {},
   "outputs": [],
   "source": [
    "@de_factory(5)\n",
    "def fib(n): # to return the entire fib .. not indivsual recursive call\n",
    "    return calc_fib_recursive(n)"
   ]
  },
  {
   "cell_type": "code",
   "execution_count": 361,
   "metadata": {},
   "outputs": [
    {
     "name": "stdout",
     "output_type": "stream",
     "text": [
      "Avg_elapsed: 0.005170s (5) reps)\n"
     ]
    },
    {
     "data": {
      "text/plain": [
       "17711"
      ]
     },
     "execution_count": 361,
     "metadata": {},
     "output_type": "execute_result"
    }
   ],
   "source": [
    "fib(22)"
   ]
  },
  {
   "cell_type": "code",
   "execution_count": 362,
   "metadata": {},
   "outputs": [
    {
     "name": "stdout",
     "output_type": "stream",
     "text": [
      "Avg_elapsed: 0.240089s (5) reps)\n"
     ]
    },
    {
     "data": {
      "text/plain": [
       "832040"
      ]
     },
     "execution_count": 362,
     "metadata": {},
     "output_type": "execute_result"
    }
   ],
   "source": [
    "fib(30)"
   ]
  },
  {
   "cell_type": "code",
   "execution_count": 363,
   "metadata": {},
   "outputs": [],
   "source": [
    "\n",
    "def timed(reps):\n",
    "    def dec(fn):\n",
    "        from time import perf_counter # if we reuse this decorator somewhare else the perf_counter will be available \n",
    "        \n",
    "        def inner(*args, **kwargs):\n",
    "            total_elapsed = 0\n",
    "            for i in range(reps):\n",
    "                start = perf_counter()\n",
    "                result = fn(*args, **kwargs)\n",
    "                total_elapsed +=(perf_counter() - start)\n",
    "                \n",
    "            avg_elapsed = total_elapsed / reps\n",
    "            print(\"Avg_elapsed: {0:.6f}s ({1}) reps)\".format(avg_elapsed, reps))\n",
    "            return result\n",
    "        return inner \n",
    "    return dec "
   ]
  },
  {
   "cell_type": "code",
   "execution_count": 364,
   "metadata": {},
   "outputs": [],
   "source": [
    "@timed(5)\n",
    "def fib(n): # to return the entire fib .. not indivsual recursive call\n",
    "    return calc_fib_recursive(n)"
   ]
  },
  {
   "cell_type": "code",
   "execution_count": 365,
   "metadata": {},
   "outputs": [
    {
     "name": "stdout",
     "output_type": "stream",
     "text": [
      "Avg_elapsed: 0.091623s (5) reps)\n"
     ]
    },
    {
     "data": {
      "text/plain": [
       "317811"
      ]
     },
     "execution_count": 365,
     "metadata": {},
     "output_type": "execute_result"
    }
   ],
   "source": [
    "fib(28)"
   ]
  },
  {
   "cell_type": "code",
   "execution_count": null,
   "metadata": {},
   "outputs": [],
   "source": []
  }
 ],
 "metadata": {
  "kernelspec": {
   "display_name": "Python 3.10.7 64-bit",
   "language": "python",
   "name": "python3"
  },
  "language_info": {
   "codemirror_mode": {
    "name": "ipython",
    "version": 3
   },
   "file_extension": ".py",
   "mimetype": "text/x-python",
   "name": "python",
   "nbconvert_exporter": "python",
   "pygments_lexer": "ipython3",
   "version": "3.10.7"
  },
  "orig_nbformat": 4,
  "vscode": {
   "interpreter": {
    "hash": "aee8b7b246df8f9039afb4144a1f6fd8d2ca17a180786b69acc140d282b71a49"
   }
  }
 },
 "nbformat": 4,
 "nbformat_minor": 2
}
