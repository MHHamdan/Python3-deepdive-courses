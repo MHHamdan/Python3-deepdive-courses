{
 "cells": [
  {
   "cell_type": "markdown",
   "metadata": {},
   "source": [
    "# imports and importlib"
   ]
  },
  {
   "cell_type": "code",
   "execution_count": 1,
   "metadata": {},
   "outputs": [],
   "source": [
    "import sys"
   ]
  },
  {
   "cell_type": "code",
   "execution_count": 2,
   "metadata": {},
   "outputs": [
    {
     "data": {
      "text/plain": [
       "<module 'sys' (built-in)>"
      ]
     },
     "execution_count": 2,
     "metadata": {},
     "output_type": "execute_result"
    }
   ],
   "source": [
    "sys"
   ]
  },
  {
   "cell_type": "code",
   "execution_count": 5,
   "metadata": {},
   "outputs": [],
   "source": [
    "import collections # packages... "
   ]
  },
  {
   "cell_type": "code",
   "execution_count": 6,
   "metadata": {},
   "outputs": [
    {
     "data": {
      "text/plain": [
       "<module 'collections' from '/Library/Frameworks/Python.framework/Versions/3.10/lib/python3.10/collections/__init__.py'>"
      ]
     },
     "execution_count": 6,
     "metadata": {},
     "output_type": "execute_result"
    }
   ],
   "source": [
    "collections"
   ]
  },
  {
   "cell_type": "code",
   "execution_count": 7,
   "metadata": {},
   "outputs": [],
   "source": [
    "mod_name = 'math'"
   ]
  },
  {
   "cell_type": "code",
   "execution_count": 8,
   "metadata": {},
   "outputs": [
    {
     "ename": "ModuleNotFoundError",
     "evalue": "No module named 'mod_name'",
     "output_type": "error",
     "traceback": [
      "\u001b[0;31m---------------------------------------------------------------------------\u001b[0m",
      "\u001b[0;31mModuleNotFoundError\u001b[0m                       Traceback (most recent call last)",
      "Cell \u001b[0;32mIn [8], line 1\u001b[0m\n\u001b[0;32m----> 1\u001b[0m \u001b[39mimport\u001b[39;00m \u001b[39mmod_name\u001b[39;00m \n",
      "\u001b[0;31mModuleNotFoundError\u001b[0m: No module named 'mod_name'"
     ]
    }
   ],
   "source": [
    "import mod_name "
   ]
  },
  {
   "cell_type": "code",
   "execution_count": 9,
   "metadata": {},
   "outputs": [],
   "source": [
    "import importlib # package "
   ]
  },
  {
   "cell_type": "code",
   "execution_count": 10,
   "metadata": {},
   "outputs": [
    {
     "data": {
      "text/plain": [
       "<module 'importlib' from '/Library/Frameworks/Python.framework/Versions/3.10/lib/python3.10/importlib/__init__.py'>"
      ]
     },
     "execution_count": 10,
     "metadata": {},
     "output_type": "execute_result"
    }
   ],
   "source": [
    "importlib"
   ]
  },
  {
   "cell_type": "code",
   "execution_count": 12,
   "metadata": {},
   "outputs": [
    {
     "data": {
      "text/plain": [
       "<module 'math' from '/Library/Frameworks/Python.framework/Versions/3.10/lib/python3.10/lib-dynload/math.cpython-310-darwin.so'>"
      ]
     },
     "execution_count": 12,
     "metadata": {},
     "output_type": "execute_result"
    }
   ],
   "source": [
    "importlib.import_module(mod_name) # brings the code, excute it .. and load it to the sys module .... "
   ]
  },
  {
   "cell_type": "code",
   "execution_count": 13,
   "metadata": {},
   "outputs": [
    {
     "name": "stderr",
     "output_type": "stream",
     "text": [
      "<>:1: SyntaxWarning: \"is\" with a literal. Did you mean \"==\"?\n",
      "<>:1: SyntaxWarning: \"is\" with a literal. Did you mean \"==\"?\n",
      "/var/folders/gk/qmm3q5ld1b74kcdmh5pnm1xw0000gn/T/ipykernel_83845/675366507.py:1: SyntaxWarning: \"is\" with a literal. Did you mean \"==\"?\n",
      "  'math' is sys.modules\n"
     ]
    },
    {
     "data": {
      "text/plain": [
       "False"
      ]
     },
     "execution_count": 13,
     "metadata": {},
     "output_type": "execute_result"
    }
   ],
   "source": [
    "'math' is sys.modules"
   ]
  },
  {
   "cell_type": "code",
   "execution_count": 14,
   "metadata": {},
   "outputs": [
    {
     "data": {
      "text/plain": [
       "False"
      ]
     },
     "execution_count": 14,
     "metadata": {},
     "output_type": "execute_result"
    }
   ],
   "source": [
    "'math' in globals()"
   ]
  },
  {
   "cell_type": "code",
   "execution_count": 17,
   "metadata": {},
   "outputs": [],
   "source": [
    "math2 = sys.modules['math']"
   ]
  },
  {
   "cell_type": "code",
   "execution_count": 18,
   "metadata": {},
   "outputs": [],
   "source": [
    "math3 = importlib.import_module(mod_name)"
   ]
  },
  {
   "cell_type": "code",
   "execution_count": 19,
   "metadata": {},
   "outputs": [
    {
     "data": {
      "text/plain": [
       "True"
      ]
     },
     "execution_count": 19,
     "metadata": {},
     "output_type": "execute_result"
    }
   ],
   "source": [
    "'math3' in globals()"
   ]
  },
  {
   "cell_type": "code",
   "execution_count": 20,
   "metadata": {},
   "outputs": [
    {
     "data": {
      "text/plain": [
       "4340733552"
      ]
     },
     "execution_count": 20,
     "metadata": {},
     "output_type": "execute_result"
    }
   ],
   "source": [
    "id(math3)"
   ]
  },
  {
   "cell_type": "code",
   "execution_count": 21,
   "metadata": {},
   "outputs": [
    {
     "data": {
      "text/plain": [
       "4340733552"
      ]
     },
     "execution_count": 21,
     "metadata": {},
     "output_type": "execute_result"
    }
   ],
   "source": [
    "id(sys.modules['math'])"
   ]
  },
  {
   "cell_type": "code",
   "execution_count": 22,
   "metadata": {},
   "outputs": [
    {
     "data": {
      "text/plain": [
       "2.0"
      ]
     },
     "execution_count": 22,
     "metadata": {},
     "output_type": "execute_result"
    }
   ],
   "source": [
    "math3.sqrt(4)"
   ]
  },
  {
   "cell_type": "code",
   "execution_count": 23,
   "metadata": {},
   "outputs": [
    {
     "data": {
      "text/plain": [
       "<module 'math' from '/Library/Frameworks/Python.framework/Versions/3.10/lib/python3.10/lib-dynload/math.cpython-310-darwin.so'>"
      ]
     },
     "execution_count": 23,
     "metadata": {},
     "output_type": "execute_result"
    }
   ],
   "source": [
    "math3"
   ]
  },
  {
   "cell_type": "code",
   "execution_count": 24,
   "metadata": {},
   "outputs": [
    {
     "data": {
      "text/plain": [
       "<module 'importlib' from '/Library/Frameworks/Python.framework/Versions/3.10/lib/python3.10/importlib/__init__.py'>"
      ]
     },
     "execution_count": 24,
     "metadata": {},
     "output_type": "execute_result"
    }
   ],
   "source": [
    "importlib"
   ]
  },
  {
   "cell_type": "code",
   "execution_count": 25,
   "metadata": {},
   "outputs": [],
   "source": [
    "import fractions"
   ]
  },
  {
   "cell_type": "code",
   "execution_count": 26,
   "metadata": {},
   "outputs": [],
   "source": [
    "fractions = importlib.import_module('fractions')"
   ]
  },
  {
   "cell_type": "code",
   "execution_count": 27,
   "metadata": {},
   "outputs": [
    {
     "data": {
      "text/plain": [
       "<module 'fractions' from '/Library/Frameworks/Python.framework/Versions/3.10/lib/python3.10/fractions.py'>"
      ]
     },
     "execution_count": 27,
     "metadata": {},
     "output_type": "execute_result"
    }
   ],
   "source": [
    "fractions"
   ]
  },
  {
   "cell_type": "code",
   "execution_count": 28,
   "metadata": {},
   "outputs": [],
   "source": [
    "#pyc ... are complied file ... so file,,, dll . pyds  files... \n"
   ]
  },
  {
   "cell_type": "markdown",
   "metadata": {},
   "source": [
    "* finders : find the module ... loop >> searches .. a module .... looks asks at each finder ... about the finder ... \n",
    "\n",
    "* loaders : loading it to the global name space ... and cahe it in sys... \n",
    "\n",
    "* finders + loader == importer "
   ]
  },
  {
   "cell_type": "code",
   "execution_count": 30,
   "metadata": {},
   "outputs": [],
   "source": [
    "import math \n",
    "import fractions\n",
    "#import module1 "
   ]
  },
  {
   "cell_type": "code",
   "execution_count": 31,
   "metadata": {},
   "outputs": [
    {
     "data": {
      "text/plain": [
       "ModuleSpec(name='fractions', loader=<_frozen_importlib_external.SourceFileLoader object at 0x1043ee950>, origin='/Library/Frameworks/Python.framework/Versions/3.10/lib/python3.10/fractions.py')"
      ]
     },
     "execution_count": 31,
     "metadata": {},
     "output_type": "execute_result"
    }
   ],
   "source": [
    "fractions.__spec__"
   ]
  },
  {
   "cell_type": "code",
   "execution_count": 34,
   "metadata": {},
   "outputs": [
    {
     "data": {
      "text/plain": [
       "[<_distutils_hack.DistutilsMetaFinder at 0x102a16020>,\n",
       " _frozen_importlib.BuiltinImporter,\n",
       " _frozen_importlib.FrozenImporter,\n",
       " _frozen_importlib_external.PathFinder,\n",
       " <six._SixMetaPathImporter at 0x103ab12a0>,\n",
       " <pkg_resources.extern.VendorImporter at 0x1053b8580>]"
      ]
     },
     "execution_count": 34,
     "metadata": {},
     "output_type": "execute_result"
    }
   ],
   "source": [
    "sys.meta_path # finder objects ... that packages installed .. builtinimporter = loader and finder .. "
   ]
  },
  {
   "cell_type": "code",
   "execution_count": 35,
   "metadata": {},
   "outputs": [
    {
     "data": {
      "text/plain": [
       "ModuleSpec(name='math', loader=<_frozen_importlib_external.ExtensionFileLoader object at 0x102ba83d0>, origin='/Library/Frameworks/Python.framework/Versions/3.10/lib/python3.10/lib-dynload/math.cpython-310-darwin.so')"
      ]
     },
     "execution_count": 35,
     "metadata": {},
     "output_type": "execute_result"
    }
   ],
   "source": [
    "math.__spec__"
   ]
  },
  {
   "cell_type": "code",
   "execution_count": 36,
   "metadata": {},
   "outputs": [
    {
     "ename": "ModuleNotFoundError",
     "evalue": "No module named 'module1'",
     "output_type": "error",
     "traceback": [
      "\u001b[0;31m---------------------------------------------------------------------------\u001b[0m",
      "\u001b[0;31mModuleNotFoundError\u001b[0m                       Traceback (most recent call last)",
      "Cell \u001b[0;32mIn [36], line 1\u001b[0m\n\u001b[0;32m----> 1\u001b[0m \u001b[39mimport\u001b[39;00m \u001b[39mmodule1\u001b[39;00m \u001b[39m# builting ... loop over all pathfindersss.. None \u001b[39;00m\n",
      "\u001b[0;31mModuleNotFoundError\u001b[0m: No module named 'module1'"
     ]
    }
   ],
   "source": [
    "import module1 # builting ... loop over all pathfindersss.. None ---- write finder/ and loader ... "
   ]
  },
  {
   "cell_type": "code",
   "execution_count": 38,
   "metadata": {},
   "outputs": [
    {
     "name": "stdout",
     "output_type": "stream",
     "text": [
      "None\n"
     ]
    }
   ],
   "source": [
    "print(importlib.util.find_spec('Decimal'))\n"
   ]
  },
  {
   "cell_type": "markdown",
   "metadata": {},
   "source": [
    "# build module 1 from jupyter "
   ]
  },
  {
   "cell_type": "code",
   "execution_count": 39,
   "metadata": {},
   "outputs": [],
   "source": [
    "with open('module1.py', 'w') as code_file:\n",
    "    code_file.write(\"print('running module1.py...')\\n\")\n",
    "    code_file.write('a=100\\n')"
   ]
  },
  {
   "cell_type": "code",
   "execution_count": 40,
   "metadata": {},
   "outputs": [
    {
     "data": {
      "text/plain": [
       "ModuleSpec(name='module1', loader=<_frozen_importlib_external.SourceFileLoader object at 0x10c2abfa0>, origin='/Users/mohammedhamdan/Documents/Python_Full_Stack/Deep_Dive_Python3/Part1/ModulesPackagesNamespaces/Functional_p2/module1.py')"
      ]
     },
     "execution_count": 40,
     "metadata": {},
     "output_type": "execute_result"
    }
   ],
   "source": [
    "importlib.util.find_spec('module1')"
   ]
  },
  {
   "cell_type": "code",
   "execution_count": 41,
   "metadata": {},
   "outputs": [
    {
     "name": "stdout",
     "output_type": "stream",
     "text": [
      "running module1.py...\n"
     ]
    }
   ],
   "source": [
    "import module1"
   ]
  },
  {
   "cell_type": "code",
   "execution_count": 42,
   "metadata": {},
   "outputs": [
    {
     "data": {
      "text/plain": [
       "True"
      ]
     },
     "execution_count": 42,
     "metadata": {},
     "output_type": "execute_result"
    }
   ],
   "source": [
    "'module1' in globals() # in namespace"
   ]
  },
  {
   "cell_type": "code",
   "execution_count": 43,
   "metadata": {},
   "outputs": [
    {
     "data": {
      "text/plain": [
       "100"
      ]
     },
     "execution_count": 43,
     "metadata": {},
     "output_type": "execute_result"
    }
   ],
   "source": [
    "module1.a"
   ]
  },
  {
   "cell_type": "markdown",
   "metadata": {},
   "source": [
    "# modules in diiferent direcotry"
   ]
  },
  {
   "cell_type": "code",
   "execution_count": 44,
   "metadata": {},
   "outputs": [],
   "source": [
    "import os"
   ]
  },
  {
   "cell_type": "code",
   "execution_count": 45,
   "metadata": {},
   "outputs": [],
   "source": [
    "# environ['HOME'] linux ... "
   ]
  },
  {
   "cell_type": "code",
   "execution_count": 57,
   "metadata": {},
   "outputs": [],
   "source": [
    "ext_module_path = os.environ['HOME']"
   ]
  },
  {
   "cell_type": "code",
   "execution_count": 59,
   "metadata": {},
   "outputs": [
    {
     "data": {
      "text/plain": [
       "'/Users/mohammedhamdan'"
      ]
     },
     "execution_count": 59,
     "metadata": {},
     "output_type": "execute_result"
    }
   ],
   "source": [
    "ext_module_path # root directory"
   ]
  },
  {
   "cell_type": "code",
   "execution_count": 104,
   "metadata": {},
   "outputs": [],
   "source": [
    "file_abs_path = os.path.join(ext_module_path, 'module2.py')"
   ]
  },
  {
   "cell_type": "code",
   "execution_count": 105,
   "metadata": {},
   "outputs": [],
   "source": [
    "with open(file_abs_path, 'w') as code_file:\n",
    "    code_file.write(\"print('running module2.py...')\\n\")\n",
    "    code_file.write(\"X = 'Python'\\n\")"
   ]
  },
  {
   "cell_type": "code",
   "execution_count": 106,
   "metadata": {},
   "outputs": [
    {
     "data": {
      "text/plain": [
       "ModuleSpec(name='module2', loader=<_frozen_importlib_external.SourceFileLoader object at 0x10c98f490>, origin='/Users/mohammedhamdan/module2.py')"
      ]
     },
     "execution_count": 106,
     "metadata": {},
     "output_type": "execute_result"
    }
   ],
   "source": [
    "importlib.util.find_spec('module2')"
   ]
  },
  {
   "cell_type": "code",
   "execution_count": 107,
   "metadata": {},
   "outputs": [
    {
     "data": {
      "text/plain": [
       "['/Users/mohammedhamdan/Documents/Python_Full_Stack/Deep_Dive_Python3/Part1/ModulesPackagesNamespaces/Functional_p2',\n",
       " '/Library/Frameworks/Python.framework/Versions/3.10/lib/python310.zip',\n",
       " '/Library/Frameworks/Python.framework/Versions/3.10/lib/python3.10',\n",
       " '/Library/Frameworks/Python.framework/Versions/3.10/lib/python3.10/lib-dynload',\n",
       " '',\n",
       " '/Users/mohammedhamdan/Library/Python/3.10/lib/python/site-packages',\n",
       " '/Library/Frameworks/Python.framework/Versions/3.10/lib/python3.10/site-packages',\n",
       " '/Users/mohammedhamdan',\n",
       " '/Users/mohammedhamdan',\n",
       " '/Users/mohammedhamdan',\n",
       " '/Users/mohammedhamdan',\n",
       " '/Users/mohammedhamdan',\n",
       " '/Users/mohammedhamdan']"
      ]
     },
     "execution_count": 107,
     "metadata": {},
     "output_type": "execute_result"
    }
   ],
   "source": [
    "sys.path"
   ]
  },
  {
   "cell_type": "code",
   "execution_count": 108,
   "metadata": {},
   "outputs": [],
   "source": [
    "sys.path.append(ext_module_path)"
   ]
  },
  {
   "cell_type": "code",
   "execution_count": 109,
   "metadata": {},
   "outputs": [
    {
     "data": {
      "text/plain": [
       "['/Users/mohammedhamdan/Documents/Python_Full_Stack/Deep_Dive_Python3/Part1/ModulesPackagesNamespaces/Functional_p2',\n",
       " '/Library/Frameworks/Python.framework/Versions/3.10/lib/python310.zip',\n",
       " '/Library/Frameworks/Python.framework/Versions/3.10/lib/python3.10',\n",
       " '/Library/Frameworks/Python.framework/Versions/3.10/lib/python3.10/lib-dynload',\n",
       " '',\n",
       " '/Users/mohammedhamdan/Library/Python/3.10/lib/python/site-packages',\n",
       " '/Library/Frameworks/Python.framework/Versions/3.10/lib/python3.10/site-packages',\n",
       " '/Users/mohammedhamdan',\n",
       " '/Users/mohammedhamdan',\n",
       " '/Users/mohammedhamdan',\n",
       " '/Users/mohammedhamdan',\n",
       " '/Users/mohammedhamdan',\n",
       " '/Users/mohammedhamdan',\n",
       " '/Users/mohammedhamdan']"
      ]
     },
     "execution_count": 109,
     "metadata": {},
     "output_type": "execute_result"
    }
   ],
   "source": [
    "sys.path"
   ]
  },
  {
   "cell_type": "code",
   "execution_count": 110,
   "metadata": {},
   "outputs": [
    {
     "data": {
      "text/plain": [
       "ModuleSpec(name='module2', loader=<_frozen_importlib_external.SourceFileLoader object at 0x10c98f490>, origin='/Users/mohammedhamdan/module2.py')"
      ]
     },
     "execution_count": 110,
     "metadata": {},
     "output_type": "execute_result"
    }
   ],
   "source": [
    "importlib.util.find_spec('module2')"
   ]
  },
  {
   "cell_type": "code",
   "execution_count": 111,
   "metadata": {},
   "outputs": [],
   "source": [
    "import module2"
   ]
  },
  {
   "cell_type": "code",
   "execution_count": 112,
   "metadata": {},
   "outputs": [
    {
     "data": {
      "text/plain": [
       "['/Users/mohammedhamdan/Documents/Python_Full_Stack/Deep_Dive_Python3/Part1/ModulesPackagesNamespaces/Functional_p2',\n",
       " '/Library/Frameworks/Python.framework/Versions/3.10/lib/python310.zip',\n",
       " '/Library/Frameworks/Python.framework/Versions/3.10/lib/python3.10',\n",
       " '/Library/Frameworks/Python.framework/Versions/3.10/lib/python3.10/lib-dynload',\n",
       " '',\n",
       " '/Users/mohammedhamdan/Library/Python/3.10/lib/python/site-packages',\n",
       " '/Library/Frameworks/Python.framework/Versions/3.10/lib/python3.10/site-packages',\n",
       " '/Users/mohammedhamdan',\n",
       " '/Users/mohammedhamdan',\n",
       " '/Users/mohammedhamdan',\n",
       " '/Users/mohammedhamdan',\n",
       " '/Users/mohammedhamdan',\n",
       " '/Users/mohammedhamdan',\n",
       " '/Users/mohammedhamdan']"
      ]
     },
     "execution_count": 112,
     "metadata": {},
     "output_type": "execute_result"
    }
   ],
   "source": [
    "sys.path"
   ]
  },
  {
   "cell_type": "markdown",
   "metadata": {},
   "source": [
    "# hard code .. external path ... alternative usin g Path file .... pth files ... add to the new directore to you sys path .. specify .. br.tch .howe importing using os .. impor lib >\n"
   ]
  },
  {
   "cell_type": "markdown",
   "metadata": {},
   "source": [
    "# import variance .. # impord math ... module1 \n",
    "\n",
    "# is math in sys.module? ... if nt load it and inset ref to .. sys.omodule memory ... then add symbl math to module1's glaoble name space refrence th same objet .. math symblo in namespace .. refrence the math key in module1 . global()  \n",
    "\n",
    "## impot math as re_math . is math is sys..moule, not laod it an insrt ref .. add symbo r _math to module glaobal namespace refence the sabm object ... r_math symaob in ame  spay .. math \n",
    "\n",
    "### r_math math change the refernce to math ... \n",
    "\n",
    "\n",
    "\n",
    "## from ath import sqrt ... only impt a snglh fucnton sqr t... no oload the math moduel l.. ady nolylbel sqe to module' gloable name spaec refrence t math .sqrut . \n",
    "math sylmo is not inour name spqce ... sqrt in name space .. not math is extxy any more it srefrenc is tcanng ememorh addres . mo fmath s. f\n",
    "\n",
    "### from math import sqrt as r_sqr \n",
    "\n",
    "is math is sys.moduel? if yes laod it an insert er to gloabal name space ... s_sqr nn r_sqrt .. math smo not in the nam smpy .. just replace refenc i f is already ther .. what ymaol what added .. from math impot * ... is math in sys.module ... \n",
    "\n",
    "# it doins ne nceessary in math tomodue' sgloabel namespace ... expord form ath mod \n",
    "\n",
    "### pi , sin ..srt in math mdoule .. name space ... the math symob is not the naem space .. refrenc will be overwriitnot th new refrence .. to the pi oje inth ma oduel \n",
    "\n",
    "##inveray cast  msah was loadeid inmoemfl refen sys.modues. if nys no reloa .. fromamt import sqrt .. has to lao all math not effeicet .. isnate djuat add set fun wa only inname space .. simpl bmoudl weh can accauly control .. to getsi import to theob lieve module teh whole thins is import \n",
    "\n",
    "import math ... \n",
    "\n",
    "wha from mosf im  ( \n",
    "\n",
    "\n",
    "    from cmath impart * ... inmy glaobal.gaot sqrt is afnc in cmath.sqrt .. cmath ismgmeo fthe rferen is set a symbl in global name spae ..\n",
    "\n",
    "    from math mport ( ... sqart alead exitnupdate th refenc e .. th amath and cmath ... themath repalcie anythin tha tiha a comon name fmor from cmath import ... )  from tiem impor puth  .. large modules list of symbos overwriting rsisl .. \n",
    "\n",
    "\n",
    "\n",
    "    ## moore effecient . \n",
    "    impoort math or form math imppart sqrt \n",
    "\n",
    "    the same in termso of importin g... \n",
    "\n",
    "    calling .. import math ... sqrut(2) ... \n",
    "    calling .. from ath mps wqtut .. sqrt(2) \n",
    ") \n",
    "\n",
    "infirst find sqrt inmath name space inour glaobal name space thn look up for sqer ..\n",
    "\n",
    "from math sqar ... sqrtu in our name sapc e...\n",
    "\n",
    "onel iss look .. dicaiotn allloup so O(1) consaanct .. time stu and see hom is the \n",
    "differnce is ... tentimes in 10000000 so \n",
    "\n",
    "impot math is btter tahn from math mpot squrt .... ... math.sqrt(2) better and effienct tahn (sqrt) .. math ...cmath ... wher edoes . .less readable .. boottin inyou rcod e  "
   ]
  },
  {
   "cell_type": "markdown",
   "metadata": {},
   "source": [
    "# Import Varaints and Misconceptions \n",
    "1. a single module ... sth from a module"
   ]
  },
  {
   "cell_type": "code",
   "execution_count": 113,
   "metadata": {},
   "outputs": [],
   "source": [
    "import sys"
   ]
  },
  {
   "cell_type": "code",
   "execution_count": 114,
   "metadata": {},
   "outputs": [
    {
     "name": "stdout",
     "output_type": "stream",
     "text": [
      "IPython\n",
      "IPython.core\n",
      "IPython.core.alias\n",
      "IPython.core.application\n",
      "IPython.core.async_helpers\n",
      "IPython.core.autocall\n",
      "IPython.core.builtin_trap\n",
      "IPython.core.compilerop\n",
      "IPython.core.completer\n",
      "IPython.core.completerlib\n",
      "IPython.core.crashhandler\n",
      "IPython.core.debugger\n",
      "IPython.core.display\n",
      "IPython.core.display_functions\n",
      "IPython.core.display_trap\n",
      "IPython.core.displayhook\n",
      "IPython.core.displaypub\n",
      "IPython.core.error\n",
      "IPython.core.events\n",
      "IPython.core.excolors\n",
      "IPython.core.extensions\n",
      "IPython.core.formatters\n",
      "IPython.core.getipython\n",
      "IPython.core.history\n",
      "IPython.core.hooks\n",
      "IPython.core.inputtransformer2\n",
      "IPython.core.interactiveshell\n",
      "IPython.core.latex_symbols\n",
      "IPython.core.logger\n",
      "IPython.core.macro\n",
      "IPython.core.magic\n",
      "IPython.core.magic_arguments\n",
      "IPython.core.magics\n",
      "IPython.core.magics.auto\n",
      "IPython.core.magics.basic\n",
      "IPython.core.magics.code\n",
      "IPython.core.magics.config\n",
      "IPython.core.magics.display\n",
      "IPython.core.magics.execution\n",
      "IPython.core.magics.extension\n",
      "IPython.core.magics.history\n",
      "IPython.core.magics.logging\n",
      "IPython.core.magics.namespace\n",
      "IPython.core.magics.osm\n",
      "IPython.core.magics.packaging\n",
      "IPython.core.magics.pylab\n",
      "IPython.core.magics.script\n",
      "IPython.core.oinspect\n",
      "IPython.core.page\n",
      "IPython.core.payload\n",
      "IPython.core.payloadpage\n",
      "IPython.core.prefilter\n",
      "IPython.core.profiledir\n",
      "IPython.core.pylabtools\n",
      "IPython.core.release\n",
      "IPython.core.shellapp\n",
      "IPython.core.splitinput\n",
      "IPython.core.ultratb\n",
      "IPython.core.usage\n",
      "IPython.display\n",
      "IPython.extensions\n",
      "IPython.extensions.storemagic\n",
      "IPython.lib\n",
      "IPython.lib.clipboard\n",
      "IPython.lib.display\n",
      "IPython.lib.pretty\n",
      "IPython.paths\n",
      "IPython.terminal\n",
      "IPython.terminal.debugger\n",
      "IPython.terminal.embed\n",
      "IPython.terminal.interactiveshell\n",
      "IPython.terminal.ipapp\n",
      "IPython.terminal.magics\n",
      "IPython.terminal.prompts\n",
      "IPython.terminal.pt_inputhooks\n",
      "IPython.terminal.ptutils\n",
      "IPython.terminal.shortcuts\n",
      "IPython.testing\n",
      "IPython.testing.skipdoctest\n",
      "IPython.utils\n",
      "IPython.utils.PyColorize\n",
      "IPython.utils._process_common\n",
      "IPython.utils._process_posix\n",
      "IPython.utils._sysinfo\n",
      "IPython.utils.capture\n",
      "IPython.utils.colorable\n",
      "IPython.utils.coloransi\n",
      "IPython.utils.contexts\n",
      "IPython.utils.data\n",
      "IPython.utils.decorators\n",
      "IPython.utils.dir2\n",
      "IPython.utils.docs\n",
      "IPython.utils.encoding\n",
      "IPython.utils.frame\n",
      "IPython.utils.generics\n",
      "IPython.utils.importstring\n",
      "IPython.utils.io\n",
      "IPython.utils.ipstruct\n",
      "IPython.utils.module_paths\n",
      "IPython.utils.openpy\n",
      "IPython.utils.path\n",
      "IPython.utils.process\n",
      "IPython.utils.py3compat\n",
      "IPython.utils.sentinel\n",
      "IPython.utils.strdispatch\n",
      "IPython.utils.sysinfo\n",
      "IPython.utils.syspathcontext\n",
      "IPython.utils.terminal\n",
      "IPython.utils.text\n",
      "IPython.utils.timing\n",
      "IPython.utils.tokenutil\n",
      "IPython.utils.wildcard\n",
      "__future__\n",
      "__main__\n",
      "_abc\n",
      "_ast\n",
      "_asyncio\n",
      "_bisect\n",
      "_blake2\n",
      "_bz2\n",
      "_codecs\n",
      "_collections\n",
      "_collections_abc\n",
      "_compat_pickle\n",
      "_compression\n",
      "_contextvars\n",
      "_ctypes\n",
      "_curses\n",
      "_cython_0_29_32\n",
      "_datetime\n",
      "_decimal\n",
      "_distutils_hack\n",
      "_frozen_importlib\n",
      "_frozen_importlib_external\n",
      "_functools\n",
      "_hashlib\n",
      "_heapq\n",
      "_imp\n",
      "_io\n",
      "_json\n",
      "_locale\n",
      "_lsprof\n",
      "_lzma\n",
      "_opcode\n",
      "_operator\n",
      "_osx_support\n",
      "_pickle\n",
      "_posixsubprocess\n",
      "_pydev_bundle\n",
      "_pydev_bundle._pydev_calltip_util\n",
      "_pydev_bundle._pydev_completer\n",
      "_pydev_bundle._pydev_execfile\n",
      "_pydev_bundle._pydev_filesystem_encoding\n",
      "_pydev_bundle._pydev_imports_tipper\n",
      "_pydev_bundle._pydev_saved_modules\n",
      "_pydev_bundle._pydev_tipper_common\n",
      "_pydev_bundle.fsnotify\n",
      "_pydev_bundle.pydev_console_utils\n",
      "_pydev_bundle.pydev_imports\n",
      "_pydev_bundle.pydev_is_thread_alive\n",
      "_pydev_bundle.pydev_log\n",
      "_pydev_bundle.pydev_monkey\n",
      "_pydev_bundle.pydev_override\n",
      "_pydev_bundle.pydev_umd\n",
      "_pydev_runfiles\n",
      "_pydevd_bundle\n",
      "_pydevd_bundle._debug_adapter\n",
      "_pydevd_bundle._debug_adapter.pydevd_base_schema\n",
      "_pydevd_bundle._debug_adapter.pydevd_schema\n",
      "_pydevd_bundle._debug_adapter.pydevd_schema_log\n",
      "_pydevd_bundle.pydevconsole_code\n",
      "_pydevd_bundle.pydevd_additional_thread_info\n",
      "_pydevd_bundle.pydevd_additional_thread_info_regular\n",
      "_pydevd_bundle.pydevd_api\n",
      "_pydevd_bundle.pydevd_breakpoints\n",
      "_pydevd_bundle.pydevd_bytecode_utils\n",
      "_pydevd_bundle.pydevd_collect_bytecode_info\n",
      "_pydevd_bundle.pydevd_comm\n",
      "_pydevd_bundle.pydevd_comm_constants\n",
      "_pydevd_bundle.pydevd_concurrency_analyser\n",
      "_pydevd_bundle.pydevd_concurrency_analyser.pydevd_concurrency_logger\n",
      "_pydevd_bundle.pydevd_concurrency_analyser.pydevd_thread_wrappers\n",
      "_pydevd_bundle.pydevd_console\n",
      "_pydevd_bundle.pydevd_constants\n",
      "_pydevd_bundle.pydevd_custom_frames\n",
      "_pydevd_bundle.pydevd_cython\n",
      "_pydevd_bundle.pydevd_cython_wrapper\n",
      "_pydevd_bundle.pydevd_daemon_thread\n",
      "_pydevd_bundle.pydevd_defaults\n",
      "_pydevd_bundle.pydevd_dont_trace\n",
      "_pydevd_bundle.pydevd_dont_trace_files\n",
      "_pydevd_bundle.pydevd_exec2\n",
      "_pydevd_bundle.pydevd_extension_api\n",
      "_pydevd_bundle.pydevd_extension_utils\n",
      "_pydevd_bundle.pydevd_filtering\n",
      "_pydevd_bundle.pydevd_frame\n",
      "_pydevd_bundle.pydevd_frame_utils\n",
      "_pydevd_bundle.pydevd_import_class\n",
      "_pydevd_bundle.pydevd_io\n",
      "_pydevd_bundle.pydevd_json_debug_options\n",
      "_pydevd_bundle.pydevd_net_command\n",
      "_pydevd_bundle.pydevd_net_command_factory_json\n",
      "_pydevd_bundle.pydevd_net_command_factory_xml\n",
      "_pydevd_bundle.pydevd_plugin_utils\n",
      "_pydevd_bundle.pydevd_process_net_command\n",
      "_pydevd_bundle.pydevd_process_net_command_json\n",
      "_pydevd_bundle.pydevd_reload\n",
      "_pydevd_bundle.pydevd_resolver\n",
      "_pydevd_bundle.pydevd_runpy\n",
      "_pydevd_bundle.pydevd_safe_repr\n",
      "_pydevd_bundle.pydevd_save_locals\n",
      "_pydevd_bundle.pydevd_source_mapping\n",
      "_pydevd_bundle.pydevd_suspended_frames\n",
      "_pydevd_bundle.pydevd_thread_lifecycle\n",
      "_pydevd_bundle.pydevd_timeout\n",
      "_pydevd_bundle.pydevd_trace_api\n",
      "_pydevd_bundle.pydevd_trace_dispatch\n",
      "_pydevd_bundle.pydevd_traceproperty\n",
      "_pydevd_bundle.pydevd_utils\n",
      "_pydevd_bundle.pydevd_vars\n",
      "_pydevd_bundle.pydevd_vm_type\n",
      "_pydevd_bundle.pydevd_xml\n",
      "_pydevd_frame_eval\n",
      "_pydevd_frame_eval.pydevd_frame_eval_cython_wrapper\n",
      "_pydevd_frame_eval.pydevd_frame_eval_main\n",
      "_pydevd_frame_eval.pydevd_frame_evaluator\n",
      "_pydevd_frame_eval.pydevd_frame_tracing\n",
      "_pydevd_frame_eval.pydevd_modify_bytecode\n",
      "_pydevd_frame_eval.vendored\n",
      "_pydevd_frame_eval.vendored.bytecode\n",
      "_pydevd_frame_eval.vendored.bytecode.bytecode\n",
      "_pydevd_frame_eval.vendored.bytecode.cfg\n",
      "_pydevd_frame_eval.vendored.bytecode.concrete\n",
      "_pydevd_frame_eval.vendored.bytecode.flags\n",
      "_pydevd_frame_eval.vendored.bytecode.instr\n",
      "_queue\n",
      "_random\n",
      "_scproxy\n",
      "_sha512\n",
      "_signal\n",
      "_sitebuiltins\n",
      "_socket\n",
      "_sqlite3\n",
      "_sre\n",
      "_ssl\n",
      "_stat\n",
      "_string\n",
      "_strptime\n",
      "_struct\n",
      "_sysconfigdata__darwin_darwin\n",
      "_thread\n",
      "_uuid\n",
      "_warnings\n",
      "_weakref\n",
      "_weakrefset\n",
      "abc\n",
      "appnope\n",
      "appnope._nope\n",
      "argparse\n",
      "array\n",
      "ast\n",
      "asttokens\n",
      "asttokens.asttokens\n",
      "asttokens.line_numbers\n",
      "asttokens.util\n",
      "asyncio\n",
      "asyncio.base_events\n",
      "asyncio.base_futures\n",
      "asyncio.base_subprocess\n",
      "asyncio.base_tasks\n",
      "asyncio.constants\n",
      "asyncio.coroutines\n",
      "asyncio.events\n",
      "asyncio.exceptions\n",
      "asyncio.format_helpers\n",
      "asyncio.futures\n",
      "asyncio.locks\n",
      "asyncio.log\n",
      "asyncio.mixins\n",
      "asyncio.protocols\n",
      "asyncio.queues\n",
      "asyncio.runners\n",
      "asyncio.selector_events\n",
      "asyncio.sslproto\n",
      "asyncio.staggered\n",
      "asyncio.streams\n",
      "asyncio.subprocess\n",
      "asyncio.tasks\n",
      "asyncio.threads\n",
      "asyncio.transports\n",
      "asyncio.trsock\n",
      "asyncio.unix_events\n",
      "atexit\n",
      "backcall\n",
      "backcall.backcall\n",
      "base64\n",
      "bdb\n",
      "binascii\n",
      "bisect\n",
      "builtins\n",
      "bz2\n",
      "cProfile\n",
      "calendar\n",
      "cmd\n",
      "code\n",
      "codecs\n",
      "codeop\n",
      "collections\n",
      "collections.abc\n",
      "colorsys\n",
      "concurrent\n",
      "concurrent.futures\n",
      "concurrent.futures._base\n",
      "concurrent.futures.thread\n",
      "configparser\n",
      "contextlib\n",
      "contextvars\n",
      "copy\n",
      "copyreg\n",
      "ctypes\n",
      "ctypes._endian\n",
      "ctypes.macholib\n",
      "ctypes.macholib.dyld\n",
      "ctypes.macholib.dylib\n",
      "ctypes.macholib.framework\n",
      "ctypes.util\n",
      "curses\n",
      "cython_runtime\n",
      "dataclasses\n",
      "datetime\n",
      "dateutil\n",
      "dateutil._common\n",
      "dateutil._version\n",
      "dateutil.parser\n",
      "dateutil.parser._parser\n",
      "dateutil.parser.isoparser\n",
      "dateutil.relativedelta\n",
      "dateutil.tz\n",
      "dateutil.tz._common\n",
      "dateutil.tz._factories\n",
      "dateutil.tz.tz\n",
      "debugpy\n",
      "debugpy._vendored\n",
      "debugpy._vendored._util\n",
      "debugpy._vendored.force_pydevd\n",
      "debugpy._version\n",
      "debugpy.adapter\n",
      "debugpy.common\n",
      "debugpy.common.json\n",
      "debugpy.common.log\n",
      "debugpy.common.sockets\n",
      "debugpy.common.timestamp\n",
      "debugpy.common.util\n",
      "debugpy.public_api\n",
      "debugpy.server\n",
      "debugpy.server.api\n",
      "decimal\n",
      "decorator\n",
      "difflib\n",
      "dis\n",
      "email\n",
      "email._encoded_words\n",
      "email._parseaddr\n",
      "email._policybase\n",
      "email.base64mime\n",
      "email.charset\n",
      "email.encoders\n",
      "email.errors\n",
      "email.feedparser\n",
      "email.header\n",
      "email.iterators\n",
      "email.message\n",
      "email.parser\n",
      "email.quoprimime\n",
      "email.utils\n",
      "encodings\n",
      "encodings.aliases\n",
      "encodings.ascii\n",
      "encodings.idna\n",
      "encodings.latin_1\n",
      "encodings.utf_8\n",
      "entrypoints\n",
      "enum\n",
      "errno\n",
      "executing\n",
      "executing.executing\n",
      "executing.version\n",
      "faulthandler\n",
      "fcntl\n",
      "filecmp\n",
      "fnmatch\n",
      "fractions\n",
      "functools\n",
      "gc\n",
      "genericpath\n",
      "getopt\n",
      "getpass\n",
      "gettext\n",
      "glob\n",
      "gzip\n",
      "hashlib\n",
      "heapq\n",
      "hmac\n",
      "html\n",
      "html.entities\n",
      "http\n",
      "http.client\n",
      "http.server\n",
      "importlib\n",
      "importlib._abc\n",
      "importlib._adapters\n",
      "importlib._bootstrap\n",
      "importlib._bootstrap_external\n",
      "importlib._common\n",
      "importlib.abc\n",
      "importlib.machinery\n",
      "importlib.resources\n",
      "importlib.util\n",
      "inspect\n",
      "io\n",
      "ipykernel\n",
      "ipykernel._version\n",
      "ipykernel.comm\n",
      "ipykernel.comm.comm\n",
      "ipykernel.comm.manager\n",
      "ipykernel.compiler\n",
      "ipykernel.connect\n",
      "ipykernel.control\n",
      "ipykernel.debugger\n",
      "ipykernel.displayhook\n",
      "ipykernel.eventloops\n",
      "ipykernel.heartbeat\n",
      "ipykernel.iostream\n",
      "ipykernel.ipkernel\n",
      "ipykernel.jsonutil\n",
      "ipykernel.kernelapp\n",
      "ipykernel.kernelbase\n",
      "ipykernel.parentpoller\n",
      "ipykernel.zmqshell\n",
      "itertools\n",
      "jedi\n",
      "jedi._compatibility\n",
      "jedi.api\n",
      "jedi.api.classes\n",
      "jedi.api.completion\n",
      "jedi.api.completion_cache\n",
      "jedi.api.environment\n",
      "jedi.api.errors\n",
      "jedi.api.exceptions\n",
      "jedi.api.file_name\n",
      "jedi.api.helpers\n",
      "jedi.api.interpreter\n",
      "jedi.api.keywords\n",
      "jedi.api.project\n",
      "jedi.api.refactoring\n",
      "jedi.api.refactoring.extract\n",
      "jedi.api.strings\n",
      "jedi.cache\n",
      "jedi.common\n",
      "jedi.debug\n",
      "jedi.file_io\n",
      "jedi.inference\n",
      "jedi.inference.analysis\n",
      "jedi.inference.arguments\n",
      "jedi.inference.base_value\n",
      "jedi.inference.cache\n",
      "jedi.inference.compiled\n",
      "jedi.inference.compiled.access\n",
      "jedi.inference.compiled.getattr_static\n",
      "jedi.inference.compiled.mixed\n",
      "jedi.inference.compiled.subprocess\n",
      "jedi.inference.compiled.subprocess.functions\n",
      "jedi.inference.compiled.value\n",
      "jedi.inference.context\n",
      "jedi.inference.docstring_utils\n",
      "jedi.inference.docstrings\n",
      "jedi.inference.filters\n",
      "jedi.inference.finder\n",
      "jedi.inference.flow_analysis\n",
      "jedi.inference.gradual\n",
      "jedi.inference.gradual.annotation\n",
      "jedi.inference.gradual.base\n",
      "jedi.inference.gradual.conversion\n",
      "jedi.inference.gradual.generics\n",
      "jedi.inference.gradual.stub_value\n",
      "jedi.inference.gradual.type_var\n",
      "jedi.inference.gradual.typeshed\n",
      "jedi.inference.gradual.typing\n",
      "jedi.inference.gradual.utils\n",
      "jedi.inference.helpers\n",
      "jedi.inference.imports\n",
      "jedi.inference.lazy_value\n",
      "jedi.inference.names\n",
      "jedi.inference.param\n",
      "jedi.inference.parser_cache\n",
      "jedi.inference.recursion\n",
      "jedi.inference.references\n",
      "jedi.inference.signature\n",
      "jedi.inference.syntax_tree\n",
      "jedi.inference.sys_path\n",
      "jedi.inference.utils\n",
      "jedi.inference.value\n",
      "jedi.inference.value.decorator\n",
      "jedi.inference.value.dynamic_arrays\n",
      "jedi.inference.value.function\n",
      "jedi.inference.value.instance\n",
      "jedi.inference.value.iterable\n",
      "jedi.inference.value.klass\n",
      "jedi.inference.value.module\n",
      "jedi.parser_utils\n",
      "jedi.plugins\n",
      "jedi.plugins.django\n",
      "jedi.plugins.flask\n",
      "jedi.plugins.pytest\n",
      "jedi.plugins.registry\n",
      "jedi.plugins.stdlib\n",
      "jedi.settings\n",
      "json\n",
      "json.decoder\n",
      "json.encoder\n",
      "json.scanner\n",
      "jupyter_client\n",
      "jupyter_client._version\n",
      "jupyter_client.adapter\n",
      "jupyter_client.asynchronous\n",
      "jupyter_client.asynchronous.client\n",
      "jupyter_client.blocking\n",
      "jupyter_client.blocking.client\n",
      "jupyter_client.channels\n",
      "jupyter_client.channelsabc\n",
      "jupyter_client.client\n",
      "jupyter_client.clientabc\n",
      "jupyter_client.connect\n",
      "jupyter_client.jsonutil\n",
      "jupyter_client.kernelspec\n",
      "jupyter_client.launcher\n",
      "jupyter_client.localinterfaces\n",
      "jupyter_client.manager\n",
      "jupyter_client.managerabc\n",
      "jupyter_client.multikernelmanager\n",
      "jupyter_client.provisioning\n",
      "jupyter_client.provisioning.factory\n",
      "jupyter_client.provisioning.local_provisioner\n",
      "jupyter_client.provisioning.provisioner_base\n",
      "jupyter_client.session\n",
      "jupyter_client.utils\n",
      "jupyter_core\n",
      "jupyter_core.paths\n",
      "jupyter_core.utils\n",
      "jupyter_core.version\n",
      "keyword\n",
      "linecache\n",
      "locale\n",
      "logging\n",
      "logging.config\n",
      "logging.handlers\n",
      "lzma\n",
      "marshal\n",
      "math\n",
      "mimetypes\n",
      "module1\n",
      "module2\n",
      "ntpath\n",
      "numbers\n",
      "opcode\n",
      "operator\n",
      "os\n",
      "os.path\n",
      "packaging\n",
      "packaging.__about__\n",
      "packaging._structures\n",
      "packaging.version\n",
      "parso\n",
      "parso._compatibility\n",
      "parso.cache\n",
      "parso.file_io\n",
      "parso.grammar\n",
      "parso.normalizer\n",
      "parso.parser\n",
      "parso.pgen2\n",
      "parso.pgen2.generator\n",
      "parso.pgen2.grammar_parser\n",
      "parso.python\n",
      "parso.python.diff\n",
      "parso.python.errors\n",
      "parso.python.parser\n",
      "parso.python.pep8\n",
      "parso.python.prefix\n",
      "parso.python.token\n",
      "parso.python.tokenize\n",
      "parso.python.tree\n",
      "parso.tree\n",
      "parso.utils\n",
      "pathlib\n",
      "pdb\n",
      "pexpect\n",
      "pexpect.exceptions\n",
      "pexpect.expect\n",
      "pexpect.pty_spawn\n",
      "pexpect.run\n",
      "pexpect.spawnbase\n",
      "pexpect.utils\n",
      "pickle\n",
      "pickleshare\n",
      "pkg_resources\n",
      "pkg_resources._vendor\n",
      "pkg_resources._vendor.appdirs\n",
      "pkg_resources._vendor.jaraco\n",
      "pkg_resources._vendor.more_itertools\n",
      "pkg_resources._vendor.more_itertools.more\n",
      "pkg_resources._vendor.more_itertools.recipes\n",
      "pkg_resources._vendor.packaging\n",
      "pkg_resources._vendor.packaging.__about__\n",
      "pkg_resources._vendor.packaging._manylinux\n",
      "pkg_resources._vendor.packaging._musllinux\n",
      "pkg_resources._vendor.pyparsing\n",
      "pkg_resources._vendor.pyparsing.actions\n",
      "pkg_resources._vendor.pyparsing.common\n",
      "pkg_resources._vendor.pyparsing.core\n",
      "pkg_resources._vendor.pyparsing.exceptions\n",
      "pkg_resources._vendor.pyparsing.helpers\n",
      "pkg_resources._vendor.pyparsing.results\n",
      "pkg_resources._vendor.pyparsing.testing\n",
      "pkg_resources._vendor.pyparsing.unicode\n",
      "pkg_resources._vendor.pyparsing.util\n",
      "pkg_resources.extern\n",
      "pkg_resources.extern.appdirs\n",
      "pkg_resources.extern.jaraco\n",
      "pkg_resources.extern.jaraco.context\n",
      "pkg_resources.extern.jaraco.functools\n",
      "pkg_resources.extern.jaraco.text\n",
      "pkg_resources.extern.more_itertools\n",
      "pkg_resources.extern.packaging\n",
      "pkg_resources.extern.packaging._structures\n",
      "pkg_resources.extern.packaging.markers\n",
      "pkg_resources.extern.packaging.requirements\n",
      "pkg_resources.extern.packaging.specifiers\n",
      "pkg_resources.extern.packaging.tags\n",
      "pkg_resources.extern.packaging.utils\n",
      "pkg_resources.extern.packaging.version\n",
      "pkg_resources.extern.pyparsing\n",
      "pkgutil\n",
      "platform\n",
      "platformdirs\n",
      "platformdirs.api\n",
      "platformdirs.macos\n",
      "platformdirs.version\n",
      "plistlib\n",
      "posix\n",
      "posixpath\n",
      "pprint\n",
      "profile\n",
      "prompt_toolkit\n",
      "prompt_toolkit.application\n",
      "prompt_toolkit.application.application\n",
      "prompt_toolkit.application.current\n",
      "prompt_toolkit.application.dummy\n",
      "prompt_toolkit.application.run_in_terminal\n",
      "prompt_toolkit.auto_suggest\n",
      "prompt_toolkit.buffer\n",
      "prompt_toolkit.cache\n",
      "prompt_toolkit.clipboard\n",
      "prompt_toolkit.clipboard.base\n",
      "prompt_toolkit.clipboard.in_memory\n",
      "prompt_toolkit.completion\n",
      "prompt_toolkit.completion.base\n",
      "prompt_toolkit.completion.deduplicate\n",
      "prompt_toolkit.completion.filesystem\n",
      "prompt_toolkit.completion.fuzzy_completer\n",
      "prompt_toolkit.completion.nested\n",
      "prompt_toolkit.completion.word_completer\n",
      "prompt_toolkit.cursor_shapes\n",
      "prompt_toolkit.data_structures\n",
      "prompt_toolkit.document\n",
      "prompt_toolkit.enums\n",
      "prompt_toolkit.eventloop\n",
      "prompt_toolkit.eventloop.async_generator\n",
      "prompt_toolkit.eventloop.inputhook\n",
      "prompt_toolkit.eventloop.utils\n",
      "prompt_toolkit.filters\n",
      "prompt_toolkit.filters.app\n",
      "prompt_toolkit.filters.base\n",
      "prompt_toolkit.filters.cli\n",
      "prompt_toolkit.filters.utils\n",
      "prompt_toolkit.formatted_text\n",
      "prompt_toolkit.formatted_text.ansi\n",
      "prompt_toolkit.formatted_text.base\n",
      "prompt_toolkit.formatted_text.html\n",
      "prompt_toolkit.formatted_text.pygments\n",
      "prompt_toolkit.formatted_text.utils\n",
      "prompt_toolkit.history\n",
      "prompt_toolkit.input\n",
      "prompt_toolkit.input.ansi_escape_sequences\n",
      "prompt_toolkit.input.base\n",
      "prompt_toolkit.input.defaults\n",
      "prompt_toolkit.input.typeahead\n",
      "prompt_toolkit.input.vt100_parser\n",
      "prompt_toolkit.key_binding\n",
      "prompt_toolkit.key_binding.bindings\n",
      "prompt_toolkit.key_binding.bindings.auto_suggest\n",
      "prompt_toolkit.key_binding.bindings.basic\n",
      "prompt_toolkit.key_binding.bindings.completion\n",
      "prompt_toolkit.key_binding.bindings.cpr\n",
      "prompt_toolkit.key_binding.bindings.emacs\n",
      "prompt_toolkit.key_binding.bindings.focus\n",
      "prompt_toolkit.key_binding.bindings.mouse\n",
      "prompt_toolkit.key_binding.bindings.named_commands\n",
      "prompt_toolkit.key_binding.bindings.open_in_editor\n",
      "prompt_toolkit.key_binding.bindings.page_navigation\n",
      "prompt_toolkit.key_binding.bindings.scroll\n",
      "prompt_toolkit.key_binding.bindings.vi\n",
      "prompt_toolkit.key_binding.defaults\n",
      "prompt_toolkit.key_binding.digraphs\n",
      "prompt_toolkit.key_binding.emacs_state\n",
      "prompt_toolkit.key_binding.key_bindings\n",
      "prompt_toolkit.key_binding.key_processor\n",
      "prompt_toolkit.key_binding.vi_state\n",
      "prompt_toolkit.keys\n",
      "prompt_toolkit.layout\n",
      "prompt_toolkit.layout.containers\n",
      "prompt_toolkit.layout.controls\n",
      "prompt_toolkit.layout.dimension\n",
      "prompt_toolkit.layout.dummy\n",
      "prompt_toolkit.layout.layout\n",
      "prompt_toolkit.layout.margins\n",
      "prompt_toolkit.layout.menus\n",
      "prompt_toolkit.layout.mouse_handlers\n",
      "prompt_toolkit.layout.processors\n",
      "prompt_toolkit.layout.screen\n",
      "prompt_toolkit.layout.scrollable_pane\n",
      "prompt_toolkit.layout.utils\n",
      "prompt_toolkit.lexers\n",
      "prompt_toolkit.lexers.base\n",
      "prompt_toolkit.lexers.pygments\n",
      "prompt_toolkit.mouse_events\n",
      "prompt_toolkit.output\n",
      "prompt_toolkit.output.base\n",
      "prompt_toolkit.output.color_depth\n",
      "prompt_toolkit.output.defaults\n",
      "prompt_toolkit.output.flush_stdout\n",
      "prompt_toolkit.output.plain_text\n",
      "prompt_toolkit.output.vt100\n",
      "prompt_toolkit.patch_stdout\n",
      "prompt_toolkit.renderer\n",
      "prompt_toolkit.search\n",
      "prompt_toolkit.selection\n",
      "prompt_toolkit.shortcuts\n",
      "prompt_toolkit.shortcuts.dialogs\n",
      "prompt_toolkit.shortcuts.progress_bar\n",
      "prompt_toolkit.shortcuts.progress_bar.base\n",
      "prompt_toolkit.shortcuts.progress_bar.formatters\n",
      "prompt_toolkit.shortcuts.prompt\n",
      "prompt_toolkit.shortcuts.utils\n",
      "prompt_toolkit.styles\n",
      "prompt_toolkit.styles.base\n",
      "prompt_toolkit.styles.defaults\n",
      "prompt_toolkit.styles.named_colors\n",
      "prompt_toolkit.styles.pygments\n",
      "prompt_toolkit.styles.style\n",
      "prompt_toolkit.styles.style_transformation\n",
      "prompt_toolkit.utils\n",
      "prompt_toolkit.validation\n",
      "prompt_toolkit.widgets\n",
      "prompt_toolkit.widgets.base\n",
      "prompt_toolkit.widgets.dialogs\n",
      "prompt_toolkit.widgets.menus\n",
      "prompt_toolkit.widgets.toolbars\n",
      "pstats\n",
      "psutil\n",
      "psutil._common\n",
      "psutil._compat\n",
      "psutil._psosx\n",
      "psutil._psposix\n",
      "psutil._psutil_osx\n",
      "psutil._psutil_posix\n",
      "pty\n",
      "ptyprocess\n",
      "ptyprocess.ptyprocess\n",
      "ptyprocess.util\n",
      "pure_eval\n",
      "pure_eval.core\n",
      "pure_eval.my_getattr_static\n",
      "pure_eval.utils\n",
      "pure_eval.version\n",
      "pwd\n",
      "pydev_ipython\n",
      "pydevconsole\n",
      "pydevd\n",
      "pydevd_file_utils\n",
      "pydevd_plugins\n",
      "pydevd_plugins.django_debug\n",
      "pydevd_plugins.extensions\n",
      "pydevd_plugins.extensions.types\n",
      "pydevd_plugins.extensions.types.pydevd_helpers\n",
      "pydevd_plugins.extensions.types.pydevd_plugin_numpy_types\n",
      "pydevd_plugins.extensions.types.pydevd_plugin_pandas_types\n",
      "pydevd_plugins.extensions.types.pydevd_plugins_django_form_str\n",
      "pydevd_plugins.jinja2_debug\n",
      "pydevd_plugins.pydevd_line_validation\n",
      "pydevd_tracing\n",
      "pydoc\n",
      "pydoc_data\n",
      "pydoc_data.topics\n",
      "pyexpat\n",
      "pyexpat.errors\n",
      "pyexpat.model\n",
      "pygments\n",
      "pygments.console\n",
      "pygments.filter\n",
      "pygments.filters\n",
      "pygments.formatter\n",
      "pygments.formatters\n",
      "pygments.formatters._mapping\n",
      "pygments.formatters.html\n",
      "pygments.formatters.terminal256\n",
      "pygments.lexer\n",
      "pygments.lexers\n",
      "pygments.lexers._mapping\n",
      "pygments.lexers.python\n",
      "pygments.modeline\n",
      "pygments.plugin\n",
      "pygments.regexopt\n",
      "pygments.style\n",
      "pygments.styles\n",
      "pygments.styles.default\n",
      "pygments.token\n",
      "pygments.unistring\n",
      "pygments.util\n",
      "queue\n",
      "quopri\n",
      "random\n",
      "re\n",
      "reprlib\n",
      "resource\n",
      "runpy\n",
      "select\n",
      "selectors\n",
      "shlex\n",
      "shutil\n",
      "signal\n",
      "site\n",
      "six\n",
      "six.moves\n",
      "socket\n",
      "socketserver\n",
      "sqlite3\n",
      "sqlite3.dbapi2\n",
      "sre_compile\n",
      "sre_constants\n",
      "sre_parse\n",
      "ssl\n",
      "stack_data\n",
      "stack_data.core\n",
      "stack_data.formatting\n",
      "stack_data.serializing\n",
      "stack_data.utils\n",
      "stack_data.version\n",
      "stat\n",
      "string\n",
      "stringprep\n",
      "struct\n",
      "subprocess\n",
      "sys\n",
      "sysconfig\n",
      "tempfile\n",
      "termios\n",
      "textwrap\n",
      "threading\n",
      "time\n",
      "timeit\n",
      "token\n",
      "tokenize\n",
      "tornado\n",
      "tornado.concurrent\n",
      "tornado.escape\n",
      "tornado.gen\n",
      "tornado.ioloop\n",
      "tornado.locks\n",
      "tornado.log\n",
      "tornado.platform\n",
      "tornado.platform.asyncio\n",
      "tornado.queues\n",
      "tornado.speedups\n",
      "tornado.util\n",
      "traceback\n",
      "traitlets\n",
      "traitlets._version\n",
      "traitlets.config\n",
      "traitlets.config.application\n",
      "traitlets.config.configurable\n",
      "traitlets.config.loader\n",
      "traitlets.log\n",
      "traitlets.traitlets\n",
      "traitlets.utils\n",
      "traitlets.utils.bunch\n",
      "traitlets.utils.decorators\n",
      "traitlets.utils.descriptions\n",
      "traitlets.utils.getargspec\n",
      "traitlets.utils.importstring\n",
      "traitlets.utils.nested_update\n",
      "traitlets.utils.sentinel\n",
      "traitlets.utils.text\n",
      "tty\n",
      "types\n",
      "typing\n",
      "typing.io\n",
      "typing.re\n",
      "unicodedata\n",
      "urllib\n",
      "urllib.error\n",
      "urllib.parse\n",
      "urllib.request\n",
      "urllib.response\n",
      "uu\n",
      "uuid\n",
      "warnings\n",
      "wcwidth\n",
      "wcwidth.table_wide\n",
      "wcwidth.table_zero\n",
      "wcwidth.unicode_versions\n",
      "wcwidth.wcwidth\n",
      "weakref\n",
      "xml\n",
      "xml.dom\n",
      "xml.dom.NodeFilter\n",
      "xml.dom.domreg\n",
      "xml.dom.minicompat\n",
      "xml.dom.minidom\n",
      "xml.dom.xmlbuilder\n",
      "xml.parsers\n",
      "xml.parsers.expat\n",
      "xml.parsers.expat.errors\n",
      "xml.parsers.expat.model\n",
      "xmlrpc\n",
      "xmlrpc.client\n",
      "xmlrpc.server\n",
      "zipfile\n",
      "zipimport\n",
      "zlib\n",
      "zmq\n",
      "zmq._future\n",
      "zmq._typing\n",
      "zmq.asyncio\n",
      "zmq.backend\n",
      "zmq.backend.cython\n",
      "zmq.backend.cython._device\n",
      "zmq.backend.cython._poll\n",
      "zmq.backend.cython._proxy_steerable\n",
      "zmq.backend.cython._version\n",
      "zmq.backend.cython.context\n",
      "zmq.backend.cython.error\n",
      "zmq.backend.cython.message\n",
      "zmq.backend.cython.socket\n",
      "zmq.backend.cython.utils\n",
      "zmq.backend.select\n",
      "zmq.constants\n",
      "zmq.error\n",
      "zmq.eventloop\n",
      "zmq.eventloop.ioloop\n",
      "zmq.eventloop.zmqstream\n",
      "zmq.sugar\n",
      "zmq.sugar.attrsettr\n",
      "zmq.sugar.context\n",
      "zmq.sugar.frame\n",
      "zmq.sugar.poll\n",
      "zmq.sugar.socket\n",
      "zmq.sugar.stopwatch\n",
      "zmq.sugar.tracker\n",
      "zmq.sugar.version\n",
      "zmq.utils\n",
      "zmq.utils.jsonapi\n"
     ]
    }
   ],
   "source": [
    "for key in sorted(sys.modules.keys()):\n",
    "    print(key)"
   ]
  },
  {
   "cell_type": "code",
   "execution_count": 115,
   "metadata": {},
   "outputs": [
    {
     "name": "stderr",
     "output_type": "stream",
     "text": [
      "<>:1: SyntaxWarning: \"is\" with a literal. Did you mean \"==\"?\n",
      "<>:1: SyntaxWarning: \"is\" with a literal. Did you mean \"==\"?\n",
      "/var/folders/gk/qmm3q5ld1b74kcdmh5pnm1xw0000gn/T/ipykernel_83845/3283548512.py:1: SyntaxWarning: \"is\" with a literal. Did you mean \"==\"?\n",
      "  'cmath' is sys.modules\n"
     ]
    },
    {
     "data": {
      "text/plain": [
       "False"
      ]
     },
     "execution_count": 115,
     "metadata": {},
     "output_type": "execute_result"
    }
   ],
   "source": [
    "'cmath' is sys.modules"
   ]
  },
  {
   "cell_type": "code",
   "execution_count": 116,
   "metadata": {},
   "outputs": [
    {
     "data": {
      "text/plain": [
       "False"
      ]
     },
     "execution_count": 116,
     "metadata": {},
     "output_type": "execute_result"
    }
   ],
   "source": [
    "'cmath' in globals()"
   ]
  },
  {
   "cell_type": "code",
   "execution_count": 117,
   "metadata": {},
   "outputs": [],
   "source": [
    "from cmath import exp"
   ]
  },
  {
   "cell_type": "code",
   "execution_count": 118,
   "metadata": {},
   "outputs": [
    {
     "data": {
      "text/plain": [
       "False"
      ]
     },
     "execution_count": 118,
     "metadata": {},
     "output_type": "execute_result"
    }
   ],
   "source": [
    "'cmath' in globals()"
   ]
  },
  {
   "cell_type": "code",
   "execution_count": 119,
   "metadata": {},
   "outputs": [
    {
     "data": {
      "text/plain": [
       "True"
      ]
     },
     "execution_count": 119,
     "metadata": {},
     "output_type": "execute_result"
    }
   ],
   "source": [
    "'exp' in globals()"
   ]
  },
  {
   "cell_type": "code",
   "execution_count": 120,
   "metadata": {},
   "outputs": [
    {
     "data": {
      "text/plain": [
       "4508048720"
      ]
     },
     "execution_count": 120,
     "metadata": {},
     "output_type": "execute_result"
    }
   ],
   "source": [
    "id(exp)"
   ]
  },
  {
   "cell_type": "code",
   "execution_count": 123,
   "metadata": {},
   "outputs": [
    {
     "data": {
      "text/plain": [
       "True"
      ]
     },
     "execution_count": 123,
     "metadata": {},
     "output_type": "execute_result"
    }
   ],
   "source": [
    "'cmath' in sys.modules"
   ]
  },
  {
   "cell_type": "code",
   "execution_count": 124,
   "metadata": {},
   "outputs": [],
   "source": [
    "# we don't have cmath as a label in teh globals name space \n",
    "\n",
    "\n",
    "cmath = sys.modules['cmath']"
   ]
  },
  {
   "cell_type": "code",
   "execution_count": 125,
   "metadata": {},
   "outputs": [
    {
     "data": {
      "text/plain": [
       "(-0.9880316240928618+0j)"
      ]
     },
     "execution_count": 125,
     "metadata": {},
     "output_type": "execute_result"
    }
   ],
   "source": [
    "cmath.sin(30)"
   ]
  },
  {
   "cell_type": "code",
   "execution_count": 126,
   "metadata": {},
   "outputs": [
    {
     "data": {
      "text/plain": [
       "True"
      ]
     },
     "execution_count": 126,
     "metadata": {},
     "output_type": "execute_result"
    }
   ],
   "source": [
    "'cmath' in globals()"
   ]
  },
  {
   "cell_type": "code",
   "execution_count": 128,
   "metadata": {},
   "outputs": [],
   "source": [
    "from cmath import sin # Python import the entier module to sys but not namesapce "
   ]
  },
  {
   "cell_type": "code",
   "execution_count": 129,
   "metadata": {},
   "outputs": [],
   "source": [
    "from cmath import * "
   ]
  },
  {
   "cell_type": "code",
   "execution_count": 130,
   "metadata": {},
   "outputs": [
    {
     "data": {
      "text/plain": [
       "{'__name__': '__main__',\n",
       " '__doc__': 'Automatically created module for IPython interactive environment',\n",
       " '__package__': None,\n",
       " '__loader__': None,\n",
       " '__spec__': None,\n",
       " '__builtin__': <module 'builtins' (built-in)>,\n",
       " '__builtins__': <module 'builtins' (built-in)>,\n",
       " '_ih': ['',\n",
       "  'import sys',\n",
       "  'sys',\n",
       "  'import collections',\n",
       "  'collections',\n",
       "  'import collections # packages... ',\n",
       "  'collections',\n",
       "  \"mod_name = 'math'\",\n",
       "  'import mod_name ',\n",
       "  'import importlib # package ',\n",
       "  'importlib',\n",
       "  'importlib.import_module(mod_name)',\n",
       "  'importlib.import_module(mod_name) # brings the code, excute it .. and load it to the sys module .... ',\n",
       "  \"'math' is sys.modules\",\n",
       "  \"'math' in globals()\",\n",
       "  \"math = sys.modules('math')\",\n",
       "  \"math2 = sys.modules('math')\",\n",
       "  \"math2 = sys.modules['math']\",\n",
       "  'math3 = importlib.import_module(mod_name)',\n",
       "  \"'math3' in globals()\",\n",
       "  'id(math3)',\n",
       "  \"id(sys.modules['math'])\",\n",
       "  'math3.sqrt(4)',\n",
       "  'math3',\n",
       "  'importlib',\n",
       "  'import fractions',\n",
       "  \"fractions = importlib.import_module('fractions')\",\n",
       "  'fractions',\n",
       "  '#pyc ... are complied file ... so file,,, dll . pyds  files... ',\n",
       "  'import math \\nimport fractions\\nimport module1 ',\n",
       "  'import math \\nimport fractions\\n#import module1 ',\n",
       "  'fractions.__spec__',\n",
       "  'sys.meta_path',\n",
       "  'sys.meta_path # finder objects ... that packages installed .. builtinimporter = importer and finder .. ',\n",
       "  'sys.meta_path # finder objects ... that packages installed .. builtinimporter = loader and finder .. ',\n",
       "  'math.__spec__',\n",
       "  'import module1 # builting ... loop over all pathfindersss.. None ',\n",
       "  \"importlib.util.find_spec('Decimal')\",\n",
       "  \"print(importlib.util.find_spec('Decimal'))\",\n",
       "  'with open(\\'module1.py\\', \\'w\\') as code_file:\\n    code_file.write(\"print(\\'running module1.py...\\')\\\\n\")\\n    code_file.write(\\'a=100\\\\n\\')',\n",
       "  \"importlib.util.find_spec('module1')\",\n",
       "  'import module1',\n",
       "  \"'module1' in globals() # in namespace\",\n",
       "  'module1.a',\n",
       "  'import os',\n",
       "  \"# environ['HOME'] linux ... \",\n",
       "  \"exg_module_path = os.environ['/Users/mohammedhamdan/Documents/Python_Full_Stack/PACKAGES/']\",\n",
       "  \"exg_module_path = os.environ['/Users/mohammedhamdan/Documents/Python_Full_Stack/PACKAGES']\",\n",
       "  \"exg_module_path = os.environ['PACKAGES']\",\n",
       "  \"exg_module_path = os.environ['./PACKAGES']\",\n",
       "  \"exg_module_path = os.environ['/PACKAGES']\",\n",
       "  \"exg_module_path = os.environ['PACKAGES']\",\n",
       "  \"exg_module_path = os.environ['HOME']\",\n",
       "  \"exg_module_path = os.environ['USERS']\",\n",
       "  \"exg_module_path = os.environ['mohammedhamdan']\",\n",
       "  \"exg_module_path = os.environ['HOMEPATH']\",\n",
       "  \"exg_module_path = os.environ['HOME']\",\n",
       "  \"ext_module_path = os.environ['HOME']\",\n",
       "  'ext_module_path',\n",
       "  'ext_module_path # root directory',\n",
       "  \"file_abs_path = os.path.join(ext_module_path, 'module2.py')\",\n",
       "  'with open(file_abs_path, \\'w\\') as code_file:\\n    code_file.write(\"print(\\'running module2.py...\\')\\\\n\")\\n    code_file.write(\"X = \\'Python\\\\n\\'\")',\n",
       "  \"importlib.util.find_spec('module2')\",\n",
       "  'sys.path',\n",
       "  'sys.path.append(ext_module_path)',\n",
       "  'sys.path',\n",
       "  \"importlib.util.find_spec('module2')\",\n",
       "  'import module2',\n",
       "  'import module2',\n",
       "  'with open(file_abs_path, \\'w\\') as code_file:\\n    code_file.write(\"print(\\'running module2.py...\\')\\\\n\")\\n    code_file.write(\"X = \\'\\\\Python\\\\n\\'\")',\n",
       "  \"importlib.util.find_spec('module2')\",\n",
       "  'sys.path',\n",
       "  'sys.path.append(ext_module_path)',\n",
       "  'sys.path',\n",
       "  \"importlib.util.find_spec('module2')\",\n",
       "  'with open(file_abs_path, \\'w\\') as code_file:\\n    code_file.write(\"print(\\'running module2.py...\\')\\\\n\")\\n    code_file.write(\"X = \\'Python\\'\\\\n\")',\n",
       "  \"importlib.util.find_spec('module2')\",\n",
       "  'sys.path',\n",
       "  'sys.path.append(ext_module_path)',\n",
       "  'sys.path',\n",
       "  \"importlib.util.find_spec('module2')\",\n",
       "  \"file_abs_path = os.path.join(ext_module_path, 'module2.py')\",\n",
       "  'with open(file_abs_path, \\'w\\') as code_file:\\n    code_file.write(\"print(\\'running module2.py...\\')\\\\n\")\\n    code_file.write(\"X = \\'Python\\'\\\\n\")',\n",
       "  \"importlib.util.find_spec('module2')\",\n",
       "  'sys.path',\n",
       "  'sys.path.append(ext_module_path)',\n",
       "  'sys.path',\n",
       "  \"importlib.util.find_spec('module2')\",\n",
       "  'with open(file_abs_path, \\'w\\') as code_file:\\n    code_file.write(\"print(\\'running module2.py...\\')\\\\n\")\\n    code_file.write(\"Python\")',\n",
       "  \"importlib.util.find_spec('module2')\",\n",
       "  'sys.path',\n",
       "  'sys.path.append(ext_module_path)',\n",
       "  'sys.path',\n",
       "  \"importlib.util.find_spec('module2')\",\n",
       "  'import module2',\n",
       "  'with open(file_abs_path, \\'w\\') as code_file:\\n    code_file.write(\"print(\\'running module2.py...\\')\\\\n\")\\n    code_file.write(\"X = \\'Python\\'\\\\n\")',\n",
       "  \"importlib.util.find_spec('module2')\",\n",
       "  'sys.path',\n",
       "  'sys.path.append(ext_module_path)',\n",
       "  'sys.path',\n",
       "  \"importlib.util.find_spec('module2')\",\n",
       "  'import module2',\n",
       "  \"extPath = os.environ['/Users/mohammedhamdan']\",\n",
       "  \"extPath = os.environ['/Users/mohammedhamdan/']\",\n",
       "  \"file_abs_path = os.path.join(ext_module_path, 'module2.py')\",\n",
       "  'with open(file_abs_path, \\'w\\') as code_file:\\n    code_file.write(\"print(\\'running module2.py...\\')\\\\n\")\\n    code_file.write(\"X = \\'Python\\'\\\\n\")',\n",
       "  \"importlib.util.find_spec('module2')\",\n",
       "  'sys.path',\n",
       "  'sys.path.append(ext_module_path)',\n",
       "  'sys.path',\n",
       "  \"importlib.util.find_spec('module2')\",\n",
       "  'import module2',\n",
       "  'sys.path',\n",
       "  'import sys',\n",
       "  'for key in sorted(sys.modules.keys()):\\n    print(key)',\n",
       "  \"'cmath' is sys.modules\",\n",
       "  \"'cmath' in globals()\",\n",
       "  'from cmath import exp',\n",
       "  \"'cmath' in globals()\",\n",
       "  \"'exp' in globals()\",\n",
       "  'id(exp)',\n",
       "  \"'cmath' in sys.modules()\",\n",
       "  \"'cmath' in sys.module\",\n",
       "  \"'cmath' in sys.modules\",\n",
       "  \"# we don't have cmath as a label in teh globals name space \\n\\n\\ncmath = sys.modules['cmath']\",\n",
       "  'cmath.sin(30)',\n",
       "  \"'cmath' in globals()\",\n",
       "  'from cmath import sine # Python import the entier module to sys but not namesapce ',\n",
       "  'from cmath import sin # Python import the entier module to sys but not namesapce ',\n",
       "  'from cmath import * ',\n",
       "  'globals()'],\n",
       " '_oh': {2: <module 'sys' (built-in)>,\n",
       "  4: <module 'collections' from '/Library/Frameworks/Python.framework/Versions/3.10/lib/python3.10/collections/__init__.py'>,\n",
       "  6: <module 'collections' from '/Library/Frameworks/Python.framework/Versions/3.10/lib/python3.10/collections/__init__.py'>,\n",
       "  10: <module 'importlib' from '/Library/Frameworks/Python.framework/Versions/3.10/lib/python3.10/importlib/__init__.py'>,\n",
       "  11: <module 'math' from '/Library/Frameworks/Python.framework/Versions/3.10/lib/python3.10/lib-dynload/math.cpython-310-darwin.so'>,\n",
       "  12: <module 'math' from '/Library/Frameworks/Python.framework/Versions/3.10/lib/python3.10/lib-dynload/math.cpython-310-darwin.so'>,\n",
       "  13: False,\n",
       "  14: False,\n",
       "  19: True,\n",
       "  20: 4340733552,\n",
       "  21: 4340733552,\n",
       "  22: 2.0,\n",
       "  23: <module 'math' from '/Library/Frameworks/Python.framework/Versions/3.10/lib/python3.10/lib-dynload/math.cpython-310-darwin.so'>,\n",
       "  24: <module 'importlib' from '/Library/Frameworks/Python.framework/Versions/3.10/lib/python3.10/importlib/__init__.py'>,\n",
       "  27: <module 'fractions' from '/Library/Frameworks/Python.framework/Versions/3.10/lib/python3.10/fractions.py'>,\n",
       "  31: ModuleSpec(name='fractions', loader=<_frozen_importlib_external.SourceFileLoader object at 0x1043ee950>, origin='/Library/Frameworks/Python.framework/Versions/3.10/lib/python3.10/fractions.py'),\n",
       "  32: [<_distutils_hack.DistutilsMetaFinder at 0x102a16020>,\n",
       "   _frozen_importlib.BuiltinImporter,\n",
       "   _frozen_importlib.FrozenImporter,\n",
       "   _frozen_importlib_external.PathFinder,\n",
       "   <six._SixMetaPathImporter at 0x103ab12a0>,\n",
       "   <pkg_resources.extern.VendorImporter at 0x1053b8580>],\n",
       "  33: [<_distutils_hack.DistutilsMetaFinder at 0x102a16020>,\n",
       "   _frozen_importlib.BuiltinImporter,\n",
       "   _frozen_importlib.FrozenImporter,\n",
       "   _frozen_importlib_external.PathFinder,\n",
       "   <six._SixMetaPathImporter at 0x103ab12a0>,\n",
       "   <pkg_resources.extern.VendorImporter at 0x1053b8580>],\n",
       "  34: [<_distutils_hack.DistutilsMetaFinder at 0x102a16020>,\n",
       "   _frozen_importlib.BuiltinImporter,\n",
       "   _frozen_importlib.FrozenImporter,\n",
       "   _frozen_importlib_external.PathFinder,\n",
       "   <six._SixMetaPathImporter at 0x103ab12a0>,\n",
       "   <pkg_resources.extern.VendorImporter at 0x1053b8580>],\n",
       "  35: ModuleSpec(name='math', loader=<_frozen_importlib_external.ExtensionFileLoader object at 0x102ba83d0>, origin='/Library/Frameworks/Python.framework/Versions/3.10/lib/python3.10/lib-dynload/math.cpython-310-darwin.so'),\n",
       "  40: ModuleSpec(name='module1', loader=<_frozen_importlib_external.SourceFileLoader object at 0x10c2abfa0>, origin='/Users/mohammedhamdan/Documents/Python_Full_Stack/Deep_Dive_Python3/Part1/ModulesPackagesNamespaces/Functional_p2/module1.py'),\n",
       "  42: True,\n",
       "  43: 100,\n",
       "  58: '/Users/mohammedhamdan',\n",
       "  59: '/Users/mohammedhamdan',\n",
       "  63: ['/Users/mohammedhamdan/Documents/Python_Full_Stack/Deep_Dive_Python3/Part1/ModulesPackagesNamespaces/Functional_p2',\n",
       "   '/Library/Frameworks/Python.framework/Versions/3.10/lib/python310.zip',\n",
       "   '/Library/Frameworks/Python.framework/Versions/3.10/lib/python3.10',\n",
       "   '/Library/Frameworks/Python.framework/Versions/3.10/lib/python3.10/lib-dynload',\n",
       "   '',\n",
       "   '/Users/mohammedhamdan/Library/Python/3.10/lib/python/site-packages',\n",
       "   '/Library/Frameworks/Python.framework/Versions/3.10/lib/python3.10/site-packages',\n",
       "   '/Users/mohammedhamdan',\n",
       "   '/Users/mohammedhamdan',\n",
       "   '/Users/mohammedhamdan',\n",
       "   '/Users/mohammedhamdan',\n",
       "   '/Users/mohammedhamdan',\n",
       "   '/Users/mohammedhamdan',\n",
       "   '/Users/mohammedhamdan'],\n",
       "  65: ['/Users/mohammedhamdan/Documents/Python_Full_Stack/Deep_Dive_Python3/Part1/ModulesPackagesNamespaces/Functional_p2',\n",
       "   '/Library/Frameworks/Python.framework/Versions/3.10/lib/python310.zip',\n",
       "   '/Library/Frameworks/Python.framework/Versions/3.10/lib/python3.10',\n",
       "   '/Library/Frameworks/Python.framework/Versions/3.10/lib/python3.10/lib-dynload',\n",
       "   '',\n",
       "   '/Users/mohammedhamdan/Library/Python/3.10/lib/python/site-packages',\n",
       "   '/Library/Frameworks/Python.framework/Versions/3.10/lib/python3.10/site-packages',\n",
       "   '/Users/mohammedhamdan',\n",
       "   '/Users/mohammedhamdan',\n",
       "   '/Users/mohammedhamdan',\n",
       "   '/Users/mohammedhamdan',\n",
       "   '/Users/mohammedhamdan',\n",
       "   '/Users/mohammedhamdan',\n",
       "   '/Users/mohammedhamdan'],\n",
       "  66: ModuleSpec(name='module2', loader=<_frozen_importlib_external.SourceFileLoader object at 0x10c6be890>, origin='/Users/mohammedhamdan/module2.py'),\n",
       "  70: ModuleSpec(name='module2', loader=<_frozen_importlib_external.SourceFileLoader object at 0x10c4f7eb0>, origin='/Users/mohammedhamdan/module2.py'),\n",
       "  71: ['/Users/mohammedhamdan/Documents/Python_Full_Stack/Deep_Dive_Python3/Part1/ModulesPackagesNamespaces/Functional_p2',\n",
       "   '/Library/Frameworks/Python.framework/Versions/3.10/lib/python310.zip',\n",
       "   '/Library/Frameworks/Python.framework/Versions/3.10/lib/python3.10',\n",
       "   '/Library/Frameworks/Python.framework/Versions/3.10/lib/python3.10/lib-dynload',\n",
       "   '',\n",
       "   '/Users/mohammedhamdan/Library/Python/3.10/lib/python/site-packages',\n",
       "   '/Library/Frameworks/Python.framework/Versions/3.10/lib/python3.10/site-packages',\n",
       "   '/Users/mohammedhamdan',\n",
       "   '/Users/mohammedhamdan',\n",
       "   '/Users/mohammedhamdan',\n",
       "   '/Users/mohammedhamdan',\n",
       "   '/Users/mohammedhamdan',\n",
       "   '/Users/mohammedhamdan',\n",
       "   '/Users/mohammedhamdan'],\n",
       "  73: ['/Users/mohammedhamdan/Documents/Python_Full_Stack/Deep_Dive_Python3/Part1/ModulesPackagesNamespaces/Functional_p2',\n",
       "   '/Library/Frameworks/Python.framework/Versions/3.10/lib/python310.zip',\n",
       "   '/Library/Frameworks/Python.framework/Versions/3.10/lib/python3.10',\n",
       "   '/Library/Frameworks/Python.framework/Versions/3.10/lib/python3.10/lib-dynload',\n",
       "   '',\n",
       "   '/Users/mohammedhamdan/Library/Python/3.10/lib/python/site-packages',\n",
       "   '/Library/Frameworks/Python.framework/Versions/3.10/lib/python3.10/site-packages',\n",
       "   '/Users/mohammedhamdan',\n",
       "   '/Users/mohammedhamdan',\n",
       "   '/Users/mohammedhamdan',\n",
       "   '/Users/mohammedhamdan',\n",
       "   '/Users/mohammedhamdan',\n",
       "   '/Users/mohammedhamdan',\n",
       "   '/Users/mohammedhamdan'],\n",
       "  74: ModuleSpec(name='module2', loader=<_frozen_importlib_external.SourceFileLoader object at 0x10c9ac100>, origin='/Users/mohammedhamdan/module2.py'),\n",
       "  76: ModuleSpec(name='module2', loader=<_frozen_importlib_external.SourceFileLoader object at 0x10ca47be0>, origin='/Users/mohammedhamdan/module2.py'),\n",
       "  77: ['/Users/mohammedhamdan/Documents/Python_Full_Stack/Deep_Dive_Python3/Part1/ModulesPackagesNamespaces/Functional_p2',\n",
       "   '/Library/Frameworks/Python.framework/Versions/3.10/lib/python310.zip',\n",
       "   '/Library/Frameworks/Python.framework/Versions/3.10/lib/python3.10',\n",
       "   '/Library/Frameworks/Python.framework/Versions/3.10/lib/python3.10/lib-dynload',\n",
       "   '',\n",
       "   '/Users/mohammedhamdan/Library/Python/3.10/lib/python/site-packages',\n",
       "   '/Library/Frameworks/Python.framework/Versions/3.10/lib/python3.10/site-packages',\n",
       "   '/Users/mohammedhamdan',\n",
       "   '/Users/mohammedhamdan',\n",
       "   '/Users/mohammedhamdan',\n",
       "   '/Users/mohammedhamdan',\n",
       "   '/Users/mohammedhamdan',\n",
       "   '/Users/mohammedhamdan',\n",
       "   '/Users/mohammedhamdan'],\n",
       "  79: ['/Users/mohammedhamdan/Documents/Python_Full_Stack/Deep_Dive_Python3/Part1/ModulesPackagesNamespaces/Functional_p2',\n",
       "   '/Library/Frameworks/Python.framework/Versions/3.10/lib/python310.zip',\n",
       "   '/Library/Frameworks/Python.framework/Versions/3.10/lib/python3.10',\n",
       "   '/Library/Frameworks/Python.framework/Versions/3.10/lib/python3.10/lib-dynload',\n",
       "   '',\n",
       "   '/Users/mohammedhamdan/Library/Python/3.10/lib/python/site-packages',\n",
       "   '/Library/Frameworks/Python.framework/Versions/3.10/lib/python3.10/site-packages',\n",
       "   '/Users/mohammedhamdan',\n",
       "   '/Users/mohammedhamdan',\n",
       "   '/Users/mohammedhamdan',\n",
       "   '/Users/mohammedhamdan',\n",
       "   '/Users/mohammedhamdan',\n",
       "   '/Users/mohammedhamdan',\n",
       "   '/Users/mohammedhamdan'],\n",
       "  80: ModuleSpec(name='module2', loader=<_frozen_importlib_external.SourceFileLoader object at 0x10c560a60>, origin='/Users/mohammedhamdan/module2.py'),\n",
       "  83: ModuleSpec(name='module2', loader=<_frozen_importlib_external.SourceFileLoader object at 0x10ca47700>, origin='/Users/mohammedhamdan/module2.py'),\n",
       "  84: ['/Users/mohammedhamdan/Documents/Python_Full_Stack/Deep_Dive_Python3/Part1/ModulesPackagesNamespaces/Functional_p2',\n",
       "   '/Library/Frameworks/Python.framework/Versions/3.10/lib/python310.zip',\n",
       "   '/Library/Frameworks/Python.framework/Versions/3.10/lib/python3.10',\n",
       "   '/Library/Frameworks/Python.framework/Versions/3.10/lib/python3.10/lib-dynload',\n",
       "   '',\n",
       "   '/Users/mohammedhamdan/Library/Python/3.10/lib/python/site-packages',\n",
       "   '/Library/Frameworks/Python.framework/Versions/3.10/lib/python3.10/site-packages',\n",
       "   '/Users/mohammedhamdan',\n",
       "   '/Users/mohammedhamdan',\n",
       "   '/Users/mohammedhamdan',\n",
       "   '/Users/mohammedhamdan',\n",
       "   '/Users/mohammedhamdan',\n",
       "   '/Users/mohammedhamdan',\n",
       "   '/Users/mohammedhamdan'],\n",
       "  86: ['/Users/mohammedhamdan/Documents/Python_Full_Stack/Deep_Dive_Python3/Part1/ModulesPackagesNamespaces/Functional_p2',\n",
       "   '/Library/Frameworks/Python.framework/Versions/3.10/lib/python310.zip',\n",
       "   '/Library/Frameworks/Python.framework/Versions/3.10/lib/python3.10',\n",
       "   '/Library/Frameworks/Python.framework/Versions/3.10/lib/python3.10/lib-dynload',\n",
       "   '',\n",
       "   '/Users/mohammedhamdan/Library/Python/3.10/lib/python/site-packages',\n",
       "   '/Library/Frameworks/Python.framework/Versions/3.10/lib/python3.10/site-packages',\n",
       "   '/Users/mohammedhamdan',\n",
       "   '/Users/mohammedhamdan',\n",
       "   '/Users/mohammedhamdan',\n",
       "   '/Users/mohammedhamdan',\n",
       "   '/Users/mohammedhamdan',\n",
       "   '/Users/mohammedhamdan',\n",
       "   '/Users/mohammedhamdan'],\n",
       "  87: ModuleSpec(name='module2', loader=<_frozen_importlib_external.SourceFileLoader object at 0x10c32dba0>, origin='/Users/mohammedhamdan/module2.py'),\n",
       "  89: ModuleSpec(name='module2', loader=<_frozen_importlib_external.SourceFileLoader object at 0x10ca47f10>, origin='/Users/mohammedhamdan/module2.py'),\n",
       "  90: ['/Users/mohammedhamdan/Documents/Python_Full_Stack/Deep_Dive_Python3/Part1/ModulesPackagesNamespaces/Functional_p2',\n",
       "   '/Library/Frameworks/Python.framework/Versions/3.10/lib/python310.zip',\n",
       "   '/Library/Frameworks/Python.framework/Versions/3.10/lib/python3.10',\n",
       "   '/Library/Frameworks/Python.framework/Versions/3.10/lib/python3.10/lib-dynload',\n",
       "   '',\n",
       "   '/Users/mohammedhamdan/Library/Python/3.10/lib/python/site-packages',\n",
       "   '/Library/Frameworks/Python.framework/Versions/3.10/lib/python3.10/site-packages',\n",
       "   '/Users/mohammedhamdan',\n",
       "   '/Users/mohammedhamdan',\n",
       "   '/Users/mohammedhamdan',\n",
       "   '/Users/mohammedhamdan',\n",
       "   '/Users/mohammedhamdan',\n",
       "   '/Users/mohammedhamdan',\n",
       "   '/Users/mohammedhamdan'],\n",
       "  92: ['/Users/mohammedhamdan/Documents/Python_Full_Stack/Deep_Dive_Python3/Part1/ModulesPackagesNamespaces/Functional_p2',\n",
       "   '/Library/Frameworks/Python.framework/Versions/3.10/lib/python310.zip',\n",
       "   '/Library/Frameworks/Python.framework/Versions/3.10/lib/python3.10',\n",
       "   '/Library/Frameworks/Python.framework/Versions/3.10/lib/python3.10/lib-dynload',\n",
       "   '',\n",
       "   '/Users/mohammedhamdan/Library/Python/3.10/lib/python/site-packages',\n",
       "   '/Library/Frameworks/Python.framework/Versions/3.10/lib/python3.10/site-packages',\n",
       "   '/Users/mohammedhamdan',\n",
       "   '/Users/mohammedhamdan',\n",
       "   '/Users/mohammedhamdan',\n",
       "   '/Users/mohammedhamdan',\n",
       "   '/Users/mohammedhamdan',\n",
       "   '/Users/mohammedhamdan',\n",
       "   '/Users/mohammedhamdan'],\n",
       "  93: ModuleSpec(name='module2', loader=<_frozen_importlib_external.SourceFileLoader object at 0x10ca44790>, origin='/Users/mohammedhamdan/module2.py'),\n",
       "  96: ModuleSpec(name='module2', loader=<_frozen_importlib_external.SourceFileLoader object at 0x10c739450>, origin='/Users/mohammedhamdan/module2.py'),\n",
       "  97: ['/Users/mohammedhamdan/Documents/Python_Full_Stack/Deep_Dive_Python3/Part1/ModulesPackagesNamespaces/Functional_p2',\n",
       "   '/Library/Frameworks/Python.framework/Versions/3.10/lib/python310.zip',\n",
       "   '/Library/Frameworks/Python.framework/Versions/3.10/lib/python3.10',\n",
       "   '/Library/Frameworks/Python.framework/Versions/3.10/lib/python3.10/lib-dynload',\n",
       "   '',\n",
       "   '/Users/mohammedhamdan/Library/Python/3.10/lib/python/site-packages',\n",
       "   '/Library/Frameworks/Python.framework/Versions/3.10/lib/python3.10/site-packages',\n",
       "   '/Users/mohammedhamdan',\n",
       "   '/Users/mohammedhamdan',\n",
       "   '/Users/mohammedhamdan',\n",
       "   '/Users/mohammedhamdan',\n",
       "   '/Users/mohammedhamdan',\n",
       "   '/Users/mohammedhamdan',\n",
       "   '/Users/mohammedhamdan'],\n",
       "  99: ['/Users/mohammedhamdan/Documents/Python_Full_Stack/Deep_Dive_Python3/Part1/ModulesPackagesNamespaces/Functional_p2',\n",
       "   '/Library/Frameworks/Python.framework/Versions/3.10/lib/python310.zip',\n",
       "   '/Library/Frameworks/Python.framework/Versions/3.10/lib/python3.10',\n",
       "   '/Library/Frameworks/Python.framework/Versions/3.10/lib/python3.10/lib-dynload',\n",
       "   '',\n",
       "   '/Users/mohammedhamdan/Library/Python/3.10/lib/python/site-packages',\n",
       "   '/Library/Frameworks/Python.framework/Versions/3.10/lib/python3.10/site-packages',\n",
       "   '/Users/mohammedhamdan',\n",
       "   '/Users/mohammedhamdan',\n",
       "   '/Users/mohammedhamdan',\n",
       "   '/Users/mohammedhamdan',\n",
       "   '/Users/mohammedhamdan',\n",
       "   '/Users/mohammedhamdan',\n",
       "   '/Users/mohammedhamdan'],\n",
       "  100: ModuleSpec(name='module2', loader=<_frozen_importlib_external.SourceFileLoader object at 0x10c98f940>, origin='/Users/mohammedhamdan/module2.py'),\n",
       "  106: ModuleSpec(name='module2', loader=<_frozen_importlib_external.SourceFileLoader object at 0x10c98f490>, origin='/Users/mohammedhamdan/module2.py'),\n",
       "  107: ['/Users/mohammedhamdan/Documents/Python_Full_Stack/Deep_Dive_Python3/Part1/ModulesPackagesNamespaces/Functional_p2',\n",
       "   '/Library/Frameworks/Python.framework/Versions/3.10/lib/python310.zip',\n",
       "   '/Library/Frameworks/Python.framework/Versions/3.10/lib/python3.10',\n",
       "   '/Library/Frameworks/Python.framework/Versions/3.10/lib/python3.10/lib-dynload',\n",
       "   '',\n",
       "   '/Users/mohammedhamdan/Library/Python/3.10/lib/python/site-packages',\n",
       "   '/Library/Frameworks/Python.framework/Versions/3.10/lib/python3.10/site-packages',\n",
       "   '/Users/mohammedhamdan',\n",
       "   '/Users/mohammedhamdan',\n",
       "   '/Users/mohammedhamdan',\n",
       "   '/Users/mohammedhamdan',\n",
       "   '/Users/mohammedhamdan',\n",
       "   '/Users/mohammedhamdan',\n",
       "   '/Users/mohammedhamdan'],\n",
       "  109: ['/Users/mohammedhamdan/Documents/Python_Full_Stack/Deep_Dive_Python3/Part1/ModulesPackagesNamespaces/Functional_p2',\n",
       "   '/Library/Frameworks/Python.framework/Versions/3.10/lib/python310.zip',\n",
       "   '/Library/Frameworks/Python.framework/Versions/3.10/lib/python3.10',\n",
       "   '/Library/Frameworks/Python.framework/Versions/3.10/lib/python3.10/lib-dynload',\n",
       "   '',\n",
       "   '/Users/mohammedhamdan/Library/Python/3.10/lib/python/site-packages',\n",
       "   '/Library/Frameworks/Python.framework/Versions/3.10/lib/python3.10/site-packages',\n",
       "   '/Users/mohammedhamdan',\n",
       "   '/Users/mohammedhamdan',\n",
       "   '/Users/mohammedhamdan',\n",
       "   '/Users/mohammedhamdan',\n",
       "   '/Users/mohammedhamdan',\n",
       "   '/Users/mohammedhamdan',\n",
       "   '/Users/mohammedhamdan'],\n",
       "  110: ModuleSpec(name='module2', loader=<_frozen_importlib_external.SourceFileLoader object at 0x10c98f490>, origin='/Users/mohammedhamdan/module2.py'),\n",
       "  112: ['/Users/mohammedhamdan/Documents/Python_Full_Stack/Deep_Dive_Python3/Part1/ModulesPackagesNamespaces/Functional_p2',\n",
       "   '/Library/Frameworks/Python.framework/Versions/3.10/lib/python310.zip',\n",
       "   '/Library/Frameworks/Python.framework/Versions/3.10/lib/python3.10',\n",
       "   '/Library/Frameworks/Python.framework/Versions/3.10/lib/python3.10/lib-dynload',\n",
       "   '',\n",
       "   '/Users/mohammedhamdan/Library/Python/3.10/lib/python/site-packages',\n",
       "   '/Library/Frameworks/Python.framework/Versions/3.10/lib/python3.10/site-packages',\n",
       "   '/Users/mohammedhamdan',\n",
       "   '/Users/mohammedhamdan',\n",
       "   '/Users/mohammedhamdan',\n",
       "   '/Users/mohammedhamdan',\n",
       "   '/Users/mohammedhamdan',\n",
       "   '/Users/mohammedhamdan',\n",
       "   '/Users/mohammedhamdan'],\n",
       "  115: False,\n",
       "  116: False,\n",
       "  118: False,\n",
       "  119: True,\n",
       "  120: 4508048720,\n",
       "  123: True,\n",
       "  125: (-0.9880316240928618+0j),\n",
       "  126: True},\n",
       " '_dh': [PosixPath('/Users/mohammedhamdan/Documents/Python_Full_Stack/Deep_Dive_Python3/Part1/ModulesPackagesNamespaces/Functional_p2'),\n",
       "  PosixPath('/Users/mohammedhamdan/Documents/Python_Full_Stack/Deep_Dive_Python3/Part1/ModulesPackagesNamespaces/Functional_p2')],\n",
       " 'In': ['',\n",
       "  'import sys',\n",
       "  'sys',\n",
       "  'import collections',\n",
       "  'collections',\n",
       "  'import collections # packages... ',\n",
       "  'collections',\n",
       "  \"mod_name = 'math'\",\n",
       "  'import mod_name ',\n",
       "  'import importlib # package ',\n",
       "  'importlib',\n",
       "  'importlib.import_module(mod_name)',\n",
       "  'importlib.import_module(mod_name) # brings the code, excute it .. and load it to the sys module .... ',\n",
       "  \"'math' is sys.modules\",\n",
       "  \"'math' in globals()\",\n",
       "  \"math = sys.modules('math')\",\n",
       "  \"math2 = sys.modules('math')\",\n",
       "  \"math2 = sys.modules['math']\",\n",
       "  'math3 = importlib.import_module(mod_name)',\n",
       "  \"'math3' in globals()\",\n",
       "  'id(math3)',\n",
       "  \"id(sys.modules['math'])\",\n",
       "  'math3.sqrt(4)',\n",
       "  'math3',\n",
       "  'importlib',\n",
       "  'import fractions',\n",
       "  \"fractions = importlib.import_module('fractions')\",\n",
       "  'fractions',\n",
       "  '#pyc ... are complied file ... so file,,, dll . pyds  files... ',\n",
       "  'import math \\nimport fractions\\nimport module1 ',\n",
       "  'import math \\nimport fractions\\n#import module1 ',\n",
       "  'fractions.__spec__',\n",
       "  'sys.meta_path',\n",
       "  'sys.meta_path # finder objects ... that packages installed .. builtinimporter = importer and finder .. ',\n",
       "  'sys.meta_path # finder objects ... that packages installed .. builtinimporter = loader and finder .. ',\n",
       "  'math.__spec__',\n",
       "  'import module1 # builting ... loop over all pathfindersss.. None ',\n",
       "  \"importlib.util.find_spec('Decimal')\",\n",
       "  \"print(importlib.util.find_spec('Decimal'))\",\n",
       "  'with open(\\'module1.py\\', \\'w\\') as code_file:\\n    code_file.write(\"print(\\'running module1.py...\\')\\\\n\")\\n    code_file.write(\\'a=100\\\\n\\')',\n",
       "  \"importlib.util.find_spec('module1')\",\n",
       "  'import module1',\n",
       "  \"'module1' in globals() # in namespace\",\n",
       "  'module1.a',\n",
       "  'import os',\n",
       "  \"# environ['HOME'] linux ... \",\n",
       "  \"exg_module_path = os.environ['/Users/mohammedhamdan/Documents/Python_Full_Stack/PACKAGES/']\",\n",
       "  \"exg_module_path = os.environ['/Users/mohammedhamdan/Documents/Python_Full_Stack/PACKAGES']\",\n",
       "  \"exg_module_path = os.environ['PACKAGES']\",\n",
       "  \"exg_module_path = os.environ['./PACKAGES']\",\n",
       "  \"exg_module_path = os.environ['/PACKAGES']\",\n",
       "  \"exg_module_path = os.environ['PACKAGES']\",\n",
       "  \"exg_module_path = os.environ['HOME']\",\n",
       "  \"exg_module_path = os.environ['USERS']\",\n",
       "  \"exg_module_path = os.environ['mohammedhamdan']\",\n",
       "  \"exg_module_path = os.environ['HOMEPATH']\",\n",
       "  \"exg_module_path = os.environ['HOME']\",\n",
       "  \"ext_module_path = os.environ['HOME']\",\n",
       "  'ext_module_path',\n",
       "  'ext_module_path # root directory',\n",
       "  \"file_abs_path = os.path.join(ext_module_path, 'module2.py')\",\n",
       "  'with open(file_abs_path, \\'w\\') as code_file:\\n    code_file.write(\"print(\\'running module2.py...\\')\\\\n\")\\n    code_file.write(\"X = \\'Python\\\\n\\'\")',\n",
       "  \"importlib.util.find_spec('module2')\",\n",
       "  'sys.path',\n",
       "  'sys.path.append(ext_module_path)',\n",
       "  'sys.path',\n",
       "  \"importlib.util.find_spec('module2')\",\n",
       "  'import module2',\n",
       "  'import module2',\n",
       "  'with open(file_abs_path, \\'w\\') as code_file:\\n    code_file.write(\"print(\\'running module2.py...\\')\\\\n\")\\n    code_file.write(\"X = \\'\\\\Python\\\\n\\'\")',\n",
       "  \"importlib.util.find_spec('module2')\",\n",
       "  'sys.path',\n",
       "  'sys.path.append(ext_module_path)',\n",
       "  'sys.path',\n",
       "  \"importlib.util.find_spec('module2')\",\n",
       "  'with open(file_abs_path, \\'w\\') as code_file:\\n    code_file.write(\"print(\\'running module2.py...\\')\\\\n\")\\n    code_file.write(\"X = \\'Python\\'\\\\n\")',\n",
       "  \"importlib.util.find_spec('module2')\",\n",
       "  'sys.path',\n",
       "  'sys.path.append(ext_module_path)',\n",
       "  'sys.path',\n",
       "  \"importlib.util.find_spec('module2')\",\n",
       "  \"file_abs_path = os.path.join(ext_module_path, 'module2.py')\",\n",
       "  'with open(file_abs_path, \\'w\\') as code_file:\\n    code_file.write(\"print(\\'running module2.py...\\')\\\\n\")\\n    code_file.write(\"X = \\'Python\\'\\\\n\")',\n",
       "  \"importlib.util.find_spec('module2')\",\n",
       "  'sys.path',\n",
       "  'sys.path.append(ext_module_path)',\n",
       "  'sys.path',\n",
       "  \"importlib.util.find_spec('module2')\",\n",
       "  'with open(file_abs_path, \\'w\\') as code_file:\\n    code_file.write(\"print(\\'running module2.py...\\')\\\\n\")\\n    code_file.write(\"Python\")',\n",
       "  \"importlib.util.find_spec('module2')\",\n",
       "  'sys.path',\n",
       "  'sys.path.append(ext_module_path)',\n",
       "  'sys.path',\n",
       "  \"importlib.util.find_spec('module2')\",\n",
       "  'import module2',\n",
       "  'with open(file_abs_path, \\'w\\') as code_file:\\n    code_file.write(\"print(\\'running module2.py...\\')\\\\n\")\\n    code_file.write(\"X = \\'Python\\'\\\\n\")',\n",
       "  \"importlib.util.find_spec('module2')\",\n",
       "  'sys.path',\n",
       "  'sys.path.append(ext_module_path)',\n",
       "  'sys.path',\n",
       "  \"importlib.util.find_spec('module2')\",\n",
       "  'import module2',\n",
       "  \"extPath = os.environ['/Users/mohammedhamdan']\",\n",
       "  \"extPath = os.environ['/Users/mohammedhamdan/']\",\n",
       "  \"file_abs_path = os.path.join(ext_module_path, 'module2.py')\",\n",
       "  'with open(file_abs_path, \\'w\\') as code_file:\\n    code_file.write(\"print(\\'running module2.py...\\')\\\\n\")\\n    code_file.write(\"X = \\'Python\\'\\\\n\")',\n",
       "  \"importlib.util.find_spec('module2')\",\n",
       "  'sys.path',\n",
       "  'sys.path.append(ext_module_path)',\n",
       "  'sys.path',\n",
       "  \"importlib.util.find_spec('module2')\",\n",
       "  'import module2',\n",
       "  'sys.path',\n",
       "  'import sys',\n",
       "  'for key in sorted(sys.modules.keys()):\\n    print(key)',\n",
       "  \"'cmath' is sys.modules\",\n",
       "  \"'cmath' in globals()\",\n",
       "  'from cmath import exp',\n",
       "  \"'cmath' in globals()\",\n",
       "  \"'exp' in globals()\",\n",
       "  'id(exp)',\n",
       "  \"'cmath' in sys.modules()\",\n",
       "  \"'cmath' in sys.module\",\n",
       "  \"'cmath' in sys.modules\",\n",
       "  \"# we don't have cmath as a label in teh globals name space \\n\\n\\ncmath = sys.modules['cmath']\",\n",
       "  'cmath.sin(30)',\n",
       "  \"'cmath' in globals()\",\n",
       "  'from cmath import sine # Python import the entier module to sys but not namesapce ',\n",
       "  'from cmath import sin # Python import the entier module to sys but not namesapce ',\n",
       "  'from cmath import * ',\n",
       "  'globals()'],\n",
       " 'Out': {2: <module 'sys' (built-in)>,\n",
       "  4: <module 'collections' from '/Library/Frameworks/Python.framework/Versions/3.10/lib/python3.10/collections/__init__.py'>,\n",
       "  6: <module 'collections' from '/Library/Frameworks/Python.framework/Versions/3.10/lib/python3.10/collections/__init__.py'>,\n",
       "  10: <module 'importlib' from '/Library/Frameworks/Python.framework/Versions/3.10/lib/python3.10/importlib/__init__.py'>,\n",
       "  11: <module 'math' from '/Library/Frameworks/Python.framework/Versions/3.10/lib/python3.10/lib-dynload/math.cpython-310-darwin.so'>,\n",
       "  12: <module 'math' from '/Library/Frameworks/Python.framework/Versions/3.10/lib/python3.10/lib-dynload/math.cpython-310-darwin.so'>,\n",
       "  13: False,\n",
       "  14: False,\n",
       "  19: True,\n",
       "  20: 4340733552,\n",
       "  21: 4340733552,\n",
       "  22: 2.0,\n",
       "  23: <module 'math' from '/Library/Frameworks/Python.framework/Versions/3.10/lib/python3.10/lib-dynload/math.cpython-310-darwin.so'>,\n",
       "  24: <module 'importlib' from '/Library/Frameworks/Python.framework/Versions/3.10/lib/python3.10/importlib/__init__.py'>,\n",
       "  27: <module 'fractions' from '/Library/Frameworks/Python.framework/Versions/3.10/lib/python3.10/fractions.py'>,\n",
       "  31: ModuleSpec(name='fractions', loader=<_frozen_importlib_external.SourceFileLoader object at 0x1043ee950>, origin='/Library/Frameworks/Python.framework/Versions/3.10/lib/python3.10/fractions.py'),\n",
       "  32: [<_distutils_hack.DistutilsMetaFinder at 0x102a16020>,\n",
       "   _frozen_importlib.BuiltinImporter,\n",
       "   _frozen_importlib.FrozenImporter,\n",
       "   _frozen_importlib_external.PathFinder,\n",
       "   <six._SixMetaPathImporter at 0x103ab12a0>,\n",
       "   <pkg_resources.extern.VendorImporter at 0x1053b8580>],\n",
       "  33: [<_distutils_hack.DistutilsMetaFinder at 0x102a16020>,\n",
       "   _frozen_importlib.BuiltinImporter,\n",
       "   _frozen_importlib.FrozenImporter,\n",
       "   _frozen_importlib_external.PathFinder,\n",
       "   <six._SixMetaPathImporter at 0x103ab12a0>,\n",
       "   <pkg_resources.extern.VendorImporter at 0x1053b8580>],\n",
       "  34: [<_distutils_hack.DistutilsMetaFinder at 0x102a16020>,\n",
       "   _frozen_importlib.BuiltinImporter,\n",
       "   _frozen_importlib.FrozenImporter,\n",
       "   _frozen_importlib_external.PathFinder,\n",
       "   <six._SixMetaPathImporter at 0x103ab12a0>,\n",
       "   <pkg_resources.extern.VendorImporter at 0x1053b8580>],\n",
       "  35: ModuleSpec(name='math', loader=<_frozen_importlib_external.ExtensionFileLoader object at 0x102ba83d0>, origin='/Library/Frameworks/Python.framework/Versions/3.10/lib/python3.10/lib-dynload/math.cpython-310-darwin.so'),\n",
       "  40: ModuleSpec(name='module1', loader=<_frozen_importlib_external.SourceFileLoader object at 0x10c2abfa0>, origin='/Users/mohammedhamdan/Documents/Python_Full_Stack/Deep_Dive_Python3/Part1/ModulesPackagesNamespaces/Functional_p2/module1.py'),\n",
       "  42: True,\n",
       "  43: 100,\n",
       "  58: '/Users/mohammedhamdan',\n",
       "  59: '/Users/mohammedhamdan',\n",
       "  63: ['/Users/mohammedhamdan/Documents/Python_Full_Stack/Deep_Dive_Python3/Part1/ModulesPackagesNamespaces/Functional_p2',\n",
       "   '/Library/Frameworks/Python.framework/Versions/3.10/lib/python310.zip',\n",
       "   '/Library/Frameworks/Python.framework/Versions/3.10/lib/python3.10',\n",
       "   '/Library/Frameworks/Python.framework/Versions/3.10/lib/python3.10/lib-dynload',\n",
       "   '',\n",
       "   '/Users/mohammedhamdan/Library/Python/3.10/lib/python/site-packages',\n",
       "   '/Library/Frameworks/Python.framework/Versions/3.10/lib/python3.10/site-packages',\n",
       "   '/Users/mohammedhamdan',\n",
       "   '/Users/mohammedhamdan',\n",
       "   '/Users/mohammedhamdan',\n",
       "   '/Users/mohammedhamdan',\n",
       "   '/Users/mohammedhamdan',\n",
       "   '/Users/mohammedhamdan',\n",
       "   '/Users/mohammedhamdan'],\n",
       "  65: ['/Users/mohammedhamdan/Documents/Python_Full_Stack/Deep_Dive_Python3/Part1/ModulesPackagesNamespaces/Functional_p2',\n",
       "   '/Library/Frameworks/Python.framework/Versions/3.10/lib/python310.zip',\n",
       "   '/Library/Frameworks/Python.framework/Versions/3.10/lib/python3.10',\n",
       "   '/Library/Frameworks/Python.framework/Versions/3.10/lib/python3.10/lib-dynload',\n",
       "   '',\n",
       "   '/Users/mohammedhamdan/Library/Python/3.10/lib/python/site-packages',\n",
       "   '/Library/Frameworks/Python.framework/Versions/3.10/lib/python3.10/site-packages',\n",
       "   '/Users/mohammedhamdan',\n",
       "   '/Users/mohammedhamdan',\n",
       "   '/Users/mohammedhamdan',\n",
       "   '/Users/mohammedhamdan',\n",
       "   '/Users/mohammedhamdan',\n",
       "   '/Users/mohammedhamdan',\n",
       "   '/Users/mohammedhamdan'],\n",
       "  66: ModuleSpec(name='module2', loader=<_frozen_importlib_external.SourceFileLoader object at 0x10c6be890>, origin='/Users/mohammedhamdan/module2.py'),\n",
       "  70: ModuleSpec(name='module2', loader=<_frozen_importlib_external.SourceFileLoader object at 0x10c4f7eb0>, origin='/Users/mohammedhamdan/module2.py'),\n",
       "  71: ['/Users/mohammedhamdan/Documents/Python_Full_Stack/Deep_Dive_Python3/Part1/ModulesPackagesNamespaces/Functional_p2',\n",
       "   '/Library/Frameworks/Python.framework/Versions/3.10/lib/python310.zip',\n",
       "   '/Library/Frameworks/Python.framework/Versions/3.10/lib/python3.10',\n",
       "   '/Library/Frameworks/Python.framework/Versions/3.10/lib/python3.10/lib-dynload',\n",
       "   '',\n",
       "   '/Users/mohammedhamdan/Library/Python/3.10/lib/python/site-packages',\n",
       "   '/Library/Frameworks/Python.framework/Versions/3.10/lib/python3.10/site-packages',\n",
       "   '/Users/mohammedhamdan',\n",
       "   '/Users/mohammedhamdan',\n",
       "   '/Users/mohammedhamdan',\n",
       "   '/Users/mohammedhamdan',\n",
       "   '/Users/mohammedhamdan',\n",
       "   '/Users/mohammedhamdan',\n",
       "   '/Users/mohammedhamdan'],\n",
       "  73: ['/Users/mohammedhamdan/Documents/Python_Full_Stack/Deep_Dive_Python3/Part1/ModulesPackagesNamespaces/Functional_p2',\n",
       "   '/Library/Frameworks/Python.framework/Versions/3.10/lib/python310.zip',\n",
       "   '/Library/Frameworks/Python.framework/Versions/3.10/lib/python3.10',\n",
       "   '/Library/Frameworks/Python.framework/Versions/3.10/lib/python3.10/lib-dynload',\n",
       "   '',\n",
       "   '/Users/mohammedhamdan/Library/Python/3.10/lib/python/site-packages',\n",
       "   '/Library/Frameworks/Python.framework/Versions/3.10/lib/python3.10/site-packages',\n",
       "   '/Users/mohammedhamdan',\n",
       "   '/Users/mohammedhamdan',\n",
       "   '/Users/mohammedhamdan',\n",
       "   '/Users/mohammedhamdan',\n",
       "   '/Users/mohammedhamdan',\n",
       "   '/Users/mohammedhamdan',\n",
       "   '/Users/mohammedhamdan'],\n",
       "  74: ModuleSpec(name='module2', loader=<_frozen_importlib_external.SourceFileLoader object at 0x10c9ac100>, origin='/Users/mohammedhamdan/module2.py'),\n",
       "  76: ModuleSpec(name='module2', loader=<_frozen_importlib_external.SourceFileLoader object at 0x10ca47be0>, origin='/Users/mohammedhamdan/module2.py'),\n",
       "  77: ['/Users/mohammedhamdan/Documents/Python_Full_Stack/Deep_Dive_Python3/Part1/ModulesPackagesNamespaces/Functional_p2',\n",
       "   '/Library/Frameworks/Python.framework/Versions/3.10/lib/python310.zip',\n",
       "   '/Library/Frameworks/Python.framework/Versions/3.10/lib/python3.10',\n",
       "   '/Library/Frameworks/Python.framework/Versions/3.10/lib/python3.10/lib-dynload',\n",
       "   '',\n",
       "   '/Users/mohammedhamdan/Library/Python/3.10/lib/python/site-packages',\n",
       "   '/Library/Frameworks/Python.framework/Versions/3.10/lib/python3.10/site-packages',\n",
       "   '/Users/mohammedhamdan',\n",
       "   '/Users/mohammedhamdan',\n",
       "   '/Users/mohammedhamdan',\n",
       "   '/Users/mohammedhamdan',\n",
       "   '/Users/mohammedhamdan',\n",
       "   '/Users/mohammedhamdan',\n",
       "   '/Users/mohammedhamdan'],\n",
       "  79: ['/Users/mohammedhamdan/Documents/Python_Full_Stack/Deep_Dive_Python3/Part1/ModulesPackagesNamespaces/Functional_p2',\n",
       "   '/Library/Frameworks/Python.framework/Versions/3.10/lib/python310.zip',\n",
       "   '/Library/Frameworks/Python.framework/Versions/3.10/lib/python3.10',\n",
       "   '/Library/Frameworks/Python.framework/Versions/3.10/lib/python3.10/lib-dynload',\n",
       "   '',\n",
       "   '/Users/mohammedhamdan/Library/Python/3.10/lib/python/site-packages',\n",
       "   '/Library/Frameworks/Python.framework/Versions/3.10/lib/python3.10/site-packages',\n",
       "   '/Users/mohammedhamdan',\n",
       "   '/Users/mohammedhamdan',\n",
       "   '/Users/mohammedhamdan',\n",
       "   '/Users/mohammedhamdan',\n",
       "   '/Users/mohammedhamdan',\n",
       "   '/Users/mohammedhamdan',\n",
       "   '/Users/mohammedhamdan'],\n",
       "  80: ModuleSpec(name='module2', loader=<_frozen_importlib_external.SourceFileLoader object at 0x10c560a60>, origin='/Users/mohammedhamdan/module2.py'),\n",
       "  83: ModuleSpec(name='module2', loader=<_frozen_importlib_external.SourceFileLoader object at 0x10ca47700>, origin='/Users/mohammedhamdan/module2.py'),\n",
       "  84: ['/Users/mohammedhamdan/Documents/Python_Full_Stack/Deep_Dive_Python3/Part1/ModulesPackagesNamespaces/Functional_p2',\n",
       "   '/Library/Frameworks/Python.framework/Versions/3.10/lib/python310.zip',\n",
       "   '/Library/Frameworks/Python.framework/Versions/3.10/lib/python3.10',\n",
       "   '/Library/Frameworks/Python.framework/Versions/3.10/lib/python3.10/lib-dynload',\n",
       "   '',\n",
       "   '/Users/mohammedhamdan/Library/Python/3.10/lib/python/site-packages',\n",
       "   '/Library/Frameworks/Python.framework/Versions/3.10/lib/python3.10/site-packages',\n",
       "   '/Users/mohammedhamdan',\n",
       "   '/Users/mohammedhamdan',\n",
       "   '/Users/mohammedhamdan',\n",
       "   '/Users/mohammedhamdan',\n",
       "   '/Users/mohammedhamdan',\n",
       "   '/Users/mohammedhamdan',\n",
       "   '/Users/mohammedhamdan'],\n",
       "  86: ['/Users/mohammedhamdan/Documents/Python_Full_Stack/Deep_Dive_Python3/Part1/ModulesPackagesNamespaces/Functional_p2',\n",
       "   '/Library/Frameworks/Python.framework/Versions/3.10/lib/python310.zip',\n",
       "   '/Library/Frameworks/Python.framework/Versions/3.10/lib/python3.10',\n",
       "   '/Library/Frameworks/Python.framework/Versions/3.10/lib/python3.10/lib-dynload',\n",
       "   '',\n",
       "   '/Users/mohammedhamdan/Library/Python/3.10/lib/python/site-packages',\n",
       "   '/Library/Frameworks/Python.framework/Versions/3.10/lib/python3.10/site-packages',\n",
       "   '/Users/mohammedhamdan',\n",
       "   '/Users/mohammedhamdan',\n",
       "   '/Users/mohammedhamdan',\n",
       "   '/Users/mohammedhamdan',\n",
       "   '/Users/mohammedhamdan',\n",
       "   '/Users/mohammedhamdan',\n",
       "   '/Users/mohammedhamdan'],\n",
       "  87: ModuleSpec(name='module2', loader=<_frozen_importlib_external.SourceFileLoader object at 0x10c32dba0>, origin='/Users/mohammedhamdan/module2.py'),\n",
       "  89: ModuleSpec(name='module2', loader=<_frozen_importlib_external.SourceFileLoader object at 0x10ca47f10>, origin='/Users/mohammedhamdan/module2.py'),\n",
       "  90: ['/Users/mohammedhamdan/Documents/Python_Full_Stack/Deep_Dive_Python3/Part1/ModulesPackagesNamespaces/Functional_p2',\n",
       "   '/Library/Frameworks/Python.framework/Versions/3.10/lib/python310.zip',\n",
       "   '/Library/Frameworks/Python.framework/Versions/3.10/lib/python3.10',\n",
       "   '/Library/Frameworks/Python.framework/Versions/3.10/lib/python3.10/lib-dynload',\n",
       "   '',\n",
       "   '/Users/mohammedhamdan/Library/Python/3.10/lib/python/site-packages',\n",
       "   '/Library/Frameworks/Python.framework/Versions/3.10/lib/python3.10/site-packages',\n",
       "   '/Users/mohammedhamdan',\n",
       "   '/Users/mohammedhamdan',\n",
       "   '/Users/mohammedhamdan',\n",
       "   '/Users/mohammedhamdan',\n",
       "   '/Users/mohammedhamdan',\n",
       "   '/Users/mohammedhamdan',\n",
       "   '/Users/mohammedhamdan'],\n",
       "  92: ['/Users/mohammedhamdan/Documents/Python_Full_Stack/Deep_Dive_Python3/Part1/ModulesPackagesNamespaces/Functional_p2',\n",
       "   '/Library/Frameworks/Python.framework/Versions/3.10/lib/python310.zip',\n",
       "   '/Library/Frameworks/Python.framework/Versions/3.10/lib/python3.10',\n",
       "   '/Library/Frameworks/Python.framework/Versions/3.10/lib/python3.10/lib-dynload',\n",
       "   '',\n",
       "   '/Users/mohammedhamdan/Library/Python/3.10/lib/python/site-packages',\n",
       "   '/Library/Frameworks/Python.framework/Versions/3.10/lib/python3.10/site-packages',\n",
       "   '/Users/mohammedhamdan',\n",
       "   '/Users/mohammedhamdan',\n",
       "   '/Users/mohammedhamdan',\n",
       "   '/Users/mohammedhamdan',\n",
       "   '/Users/mohammedhamdan',\n",
       "   '/Users/mohammedhamdan',\n",
       "   '/Users/mohammedhamdan'],\n",
       "  93: ModuleSpec(name='module2', loader=<_frozen_importlib_external.SourceFileLoader object at 0x10ca44790>, origin='/Users/mohammedhamdan/module2.py'),\n",
       "  96: ModuleSpec(name='module2', loader=<_frozen_importlib_external.SourceFileLoader object at 0x10c739450>, origin='/Users/mohammedhamdan/module2.py'),\n",
       "  97: ['/Users/mohammedhamdan/Documents/Python_Full_Stack/Deep_Dive_Python3/Part1/ModulesPackagesNamespaces/Functional_p2',\n",
       "   '/Library/Frameworks/Python.framework/Versions/3.10/lib/python310.zip',\n",
       "   '/Library/Frameworks/Python.framework/Versions/3.10/lib/python3.10',\n",
       "   '/Library/Frameworks/Python.framework/Versions/3.10/lib/python3.10/lib-dynload',\n",
       "   '',\n",
       "   '/Users/mohammedhamdan/Library/Python/3.10/lib/python/site-packages',\n",
       "   '/Library/Frameworks/Python.framework/Versions/3.10/lib/python3.10/site-packages',\n",
       "   '/Users/mohammedhamdan',\n",
       "   '/Users/mohammedhamdan',\n",
       "   '/Users/mohammedhamdan',\n",
       "   '/Users/mohammedhamdan',\n",
       "   '/Users/mohammedhamdan',\n",
       "   '/Users/mohammedhamdan',\n",
       "   '/Users/mohammedhamdan'],\n",
       "  99: ['/Users/mohammedhamdan/Documents/Python_Full_Stack/Deep_Dive_Python3/Part1/ModulesPackagesNamespaces/Functional_p2',\n",
       "   '/Library/Frameworks/Python.framework/Versions/3.10/lib/python310.zip',\n",
       "   '/Library/Frameworks/Python.framework/Versions/3.10/lib/python3.10',\n",
       "   '/Library/Frameworks/Python.framework/Versions/3.10/lib/python3.10/lib-dynload',\n",
       "   '',\n",
       "   '/Users/mohammedhamdan/Library/Python/3.10/lib/python/site-packages',\n",
       "   '/Library/Frameworks/Python.framework/Versions/3.10/lib/python3.10/site-packages',\n",
       "   '/Users/mohammedhamdan',\n",
       "   '/Users/mohammedhamdan',\n",
       "   '/Users/mohammedhamdan',\n",
       "   '/Users/mohammedhamdan',\n",
       "   '/Users/mohammedhamdan',\n",
       "   '/Users/mohammedhamdan',\n",
       "   '/Users/mohammedhamdan'],\n",
       "  100: ModuleSpec(name='module2', loader=<_frozen_importlib_external.SourceFileLoader object at 0x10c98f940>, origin='/Users/mohammedhamdan/module2.py'),\n",
       "  106: ModuleSpec(name='module2', loader=<_frozen_importlib_external.SourceFileLoader object at 0x10c98f490>, origin='/Users/mohammedhamdan/module2.py'),\n",
       "  107: ['/Users/mohammedhamdan/Documents/Python_Full_Stack/Deep_Dive_Python3/Part1/ModulesPackagesNamespaces/Functional_p2',\n",
       "   '/Library/Frameworks/Python.framework/Versions/3.10/lib/python310.zip',\n",
       "   '/Library/Frameworks/Python.framework/Versions/3.10/lib/python3.10',\n",
       "   '/Library/Frameworks/Python.framework/Versions/3.10/lib/python3.10/lib-dynload',\n",
       "   '',\n",
       "   '/Users/mohammedhamdan/Library/Python/3.10/lib/python/site-packages',\n",
       "   '/Library/Frameworks/Python.framework/Versions/3.10/lib/python3.10/site-packages',\n",
       "   '/Users/mohammedhamdan',\n",
       "   '/Users/mohammedhamdan',\n",
       "   '/Users/mohammedhamdan',\n",
       "   '/Users/mohammedhamdan',\n",
       "   '/Users/mohammedhamdan',\n",
       "   '/Users/mohammedhamdan',\n",
       "   '/Users/mohammedhamdan'],\n",
       "  109: ['/Users/mohammedhamdan/Documents/Python_Full_Stack/Deep_Dive_Python3/Part1/ModulesPackagesNamespaces/Functional_p2',\n",
       "   '/Library/Frameworks/Python.framework/Versions/3.10/lib/python310.zip',\n",
       "   '/Library/Frameworks/Python.framework/Versions/3.10/lib/python3.10',\n",
       "   '/Library/Frameworks/Python.framework/Versions/3.10/lib/python3.10/lib-dynload',\n",
       "   '',\n",
       "   '/Users/mohammedhamdan/Library/Python/3.10/lib/python/site-packages',\n",
       "   '/Library/Frameworks/Python.framework/Versions/3.10/lib/python3.10/site-packages',\n",
       "   '/Users/mohammedhamdan',\n",
       "   '/Users/mohammedhamdan',\n",
       "   '/Users/mohammedhamdan',\n",
       "   '/Users/mohammedhamdan',\n",
       "   '/Users/mohammedhamdan',\n",
       "   '/Users/mohammedhamdan',\n",
       "   '/Users/mohammedhamdan'],\n",
       "  110: ModuleSpec(name='module2', loader=<_frozen_importlib_external.SourceFileLoader object at 0x10c98f490>, origin='/Users/mohammedhamdan/module2.py'),\n",
       "  112: ['/Users/mohammedhamdan/Documents/Python_Full_Stack/Deep_Dive_Python3/Part1/ModulesPackagesNamespaces/Functional_p2',\n",
       "   '/Library/Frameworks/Python.framework/Versions/3.10/lib/python310.zip',\n",
       "   '/Library/Frameworks/Python.framework/Versions/3.10/lib/python3.10',\n",
       "   '/Library/Frameworks/Python.framework/Versions/3.10/lib/python3.10/lib-dynload',\n",
       "   '',\n",
       "   '/Users/mohammedhamdan/Library/Python/3.10/lib/python/site-packages',\n",
       "   '/Library/Frameworks/Python.framework/Versions/3.10/lib/python3.10/site-packages',\n",
       "   '/Users/mohammedhamdan',\n",
       "   '/Users/mohammedhamdan',\n",
       "   '/Users/mohammedhamdan',\n",
       "   '/Users/mohammedhamdan',\n",
       "   '/Users/mohammedhamdan',\n",
       "   '/Users/mohammedhamdan',\n",
       "   '/Users/mohammedhamdan'],\n",
       "  115: False,\n",
       "  116: False,\n",
       "  118: False,\n",
       "  119: True,\n",
       "  120: 4508048720,\n",
       "  123: True,\n",
       "  125: (-0.9880316240928618+0j),\n",
       "  126: True},\n",
       " 'get_ipython': <bound method InteractiveShell.get_ipython of <ipykernel.zmqshell.ZMQInteractiveShell object at 0x105baf160>>,\n",
       " 'exit': <IPython.core.autocall.ZMQExitAutocall at 0x105bafd90>,\n",
       " 'quit': <IPython.core.autocall.ZMQExitAutocall at 0x105bafd90>,\n",
       " 'open': <function io.open(file, mode='r', buffering=-1, encoding=None, errors=None, newline=None, closefd=True, opener=None)>,\n",
       " '_': True,\n",
       " '__': (-0.9880316240928618+0j),\n",
       " '___': True,\n",
       " 'os': <module 'os' from '/Library/Frameworks/Python.framework/Versions/3.10/lib/python3.10/os.py'>,\n",
       " 'sys': <module 'sys' (built-in)>,\n",
       " '__vsc_ipynb_file__': '/Users/mohammedhamdan/Documents/Python_Full_Stack/Deep_Dive_Python3/Part1/ModulesPackagesNamespaces/Functional_p2/imports_importlib.ipynb',\n",
       " '_i': 'from cmath import * ',\n",
       " '_ii': 'from cmath import sin # Python import the entier module to sys but not namesapce ',\n",
       " '_iii': 'from cmath import sine # Python import the entier module to sys but not namesapce ',\n",
       " '_i1': 'import sys',\n",
       " '_i2': 'sys',\n",
       " '_2': <module 'sys' (built-in)>,\n",
       " '_i3': 'import collections',\n",
       " 'collections': <module 'collections' from '/Library/Frameworks/Python.framework/Versions/3.10/lib/python3.10/collections/__init__.py'>,\n",
       " '_i4': 'collections',\n",
       " '_4': <module 'collections' from '/Library/Frameworks/Python.framework/Versions/3.10/lib/python3.10/collections/__init__.py'>,\n",
       " '_i5': 'import collections # packages... ',\n",
       " '_i6': 'collections',\n",
       " '_6': <module 'collections' from '/Library/Frameworks/Python.framework/Versions/3.10/lib/python3.10/collections/__init__.py'>,\n",
       " '_i7': \"mod_name = 'math'\",\n",
       " 'mod_name': 'math',\n",
       " '_i8': 'import mod_name ',\n",
       " '_i9': 'import importlib # package ',\n",
       " 'importlib': <module 'importlib' from '/Library/Frameworks/Python.framework/Versions/3.10/lib/python3.10/importlib/__init__.py'>,\n",
       " '_i10': 'importlib',\n",
       " '_10': <module 'importlib' from '/Library/Frameworks/Python.framework/Versions/3.10/lib/python3.10/importlib/__init__.py'>,\n",
       " '_i11': 'importlib.import_module(mod_name)',\n",
       " '_11': <module 'math' from '/Library/Frameworks/Python.framework/Versions/3.10/lib/python3.10/lib-dynload/math.cpython-310-darwin.so'>,\n",
       " '_i12': 'importlib.import_module(mod_name) # brings the code, excute it .. and load it to the sys module .... ',\n",
       " '_12': <module 'math' from '/Library/Frameworks/Python.framework/Versions/3.10/lib/python3.10/lib-dynload/math.cpython-310-darwin.so'>,\n",
       " '_i13': \"'math' is sys.modules\",\n",
       " '_13': False,\n",
       " '_i14': \"'math' in globals()\",\n",
       " '_14': False,\n",
       " '_i15': \"math = sys.modules('math')\",\n",
       " '_i16': \"math2 = sys.modules('math')\",\n",
       " '_i17': \"math2 = sys.modules['math']\",\n",
       " 'math2': <module 'math' from '/Library/Frameworks/Python.framework/Versions/3.10/lib/python3.10/lib-dynload/math.cpython-310-darwin.so'>,\n",
       " '_i18': 'math3 = importlib.import_module(mod_name)',\n",
       " 'math3': <module 'math' from '/Library/Frameworks/Python.framework/Versions/3.10/lib/python3.10/lib-dynload/math.cpython-310-darwin.so'>,\n",
       " '_i19': \"'math3' in globals()\",\n",
       " '_19': True,\n",
       " '_i20': 'id(math3)',\n",
       " '_20': 4340733552,\n",
       " '_i21': \"id(sys.modules['math'])\",\n",
       " '_21': 4340733552,\n",
       " '_i22': 'math3.sqrt(4)',\n",
       " '_22': 2.0,\n",
       " '_i23': 'math3',\n",
       " '_23': <module 'math' from '/Library/Frameworks/Python.framework/Versions/3.10/lib/python3.10/lib-dynload/math.cpython-310-darwin.so'>,\n",
       " '_i24': 'importlib',\n",
       " '_24': <module 'importlib' from '/Library/Frameworks/Python.framework/Versions/3.10/lib/python3.10/importlib/__init__.py'>,\n",
       " '_i25': 'import fractions',\n",
       " 'fractions': <module 'fractions' from '/Library/Frameworks/Python.framework/Versions/3.10/lib/python3.10/fractions.py'>,\n",
       " '_i26': \"fractions = importlib.import_module('fractions')\",\n",
       " '_i27': 'fractions',\n",
       " '_27': <module 'fractions' from '/Library/Frameworks/Python.framework/Versions/3.10/lib/python3.10/fractions.py'>,\n",
       " '_i28': '#pyc ... are complied file ... so file,,, dll . pyds  files... ',\n",
       " '_i29': 'import math \\nimport fractions\\nimport module1 ',\n",
       " 'math': <module 'math' from '/Library/Frameworks/Python.framework/Versions/3.10/lib/python3.10/lib-dynload/math.cpython-310-darwin.so'>,\n",
       " '_i30': 'import math \\nimport fractions\\n#import module1 ',\n",
       " '_i31': 'fractions.__spec__',\n",
       " '_31': ModuleSpec(name='fractions', loader=<_frozen_importlib_external.SourceFileLoader object at 0x1043ee950>, origin='/Library/Frameworks/Python.framework/Versions/3.10/lib/python3.10/fractions.py'),\n",
       " '_i32': 'sys.meta_path',\n",
       " '_32': [<_distutils_hack.DistutilsMetaFinder at 0x102a16020>,\n",
       "  _frozen_importlib.BuiltinImporter,\n",
       "  _frozen_importlib.FrozenImporter,\n",
       "  _frozen_importlib_external.PathFinder,\n",
       "  <six._SixMetaPathImporter at 0x103ab12a0>,\n",
       "  <pkg_resources.extern.VendorImporter at 0x1053b8580>],\n",
       " '_i33': 'sys.meta_path # finder objects ... that packages installed .. builtinimporter = importer and finder .. ',\n",
       " '_33': [<_distutils_hack.DistutilsMetaFinder at 0x102a16020>,\n",
       "  _frozen_importlib.BuiltinImporter,\n",
       "  _frozen_importlib.FrozenImporter,\n",
       "  _frozen_importlib_external.PathFinder,\n",
       "  <six._SixMetaPathImporter at 0x103ab12a0>,\n",
       "  <pkg_resources.extern.VendorImporter at 0x1053b8580>],\n",
       " '_i34': 'sys.meta_path # finder objects ... that packages installed .. builtinimporter = loader and finder .. ',\n",
       " '_34': [<_distutils_hack.DistutilsMetaFinder at 0x102a16020>,\n",
       "  _frozen_importlib.BuiltinImporter,\n",
       "  _frozen_importlib.FrozenImporter,\n",
       "  _frozen_importlib_external.PathFinder,\n",
       "  <six._SixMetaPathImporter at 0x103ab12a0>,\n",
       "  <pkg_resources.extern.VendorImporter at 0x1053b8580>],\n",
       " '_i35': 'math.__spec__',\n",
       " '_35': ModuleSpec(name='math', loader=<_frozen_importlib_external.ExtensionFileLoader object at 0x102ba83d0>, origin='/Library/Frameworks/Python.framework/Versions/3.10/lib/python3.10/lib-dynload/math.cpython-310-darwin.so'),\n",
       " '_i36': 'import module1 # builting ... loop over all pathfindersss.. None ',\n",
       " '_i37': \"importlib.util.find_spec('Decimal')\",\n",
       " '_i38': \"print(importlib.util.find_spec('Decimal'))\",\n",
       " '_i39': 'with open(\\'module1.py\\', \\'w\\') as code_file:\\n    code_file.write(\"print(\\'running module1.py...\\')\\\\n\")\\n    code_file.write(\\'a=100\\\\n\\')',\n",
       " 'code_file': <_io.TextIOWrapper name='/Users/mohammedhamdan/module2.py' mode='w' encoding='UTF-8'>,\n",
       " '_i40': \"importlib.util.find_spec('module1')\",\n",
       " '_40': ModuleSpec(name='module1', loader=<_frozen_importlib_external.SourceFileLoader object at 0x10c2abfa0>, origin='/Users/mohammedhamdan/Documents/Python_Full_Stack/Deep_Dive_Python3/Part1/ModulesPackagesNamespaces/Functional_p2/module1.py'),\n",
       " '_i41': 'import module1',\n",
       " 'module1': <module 'module1' from '/Users/mohammedhamdan/Documents/Python_Full_Stack/Deep_Dive_Python3/Part1/ModulesPackagesNamespaces/Functional_p2/module1.py'>,\n",
       " '_i42': \"'module1' in globals() # in namespace\",\n",
       " '_42': True,\n",
       " '_i43': 'module1.a',\n",
       " '_43': 100,\n",
       " '_i44': 'import os',\n",
       " '_i45': \"# environ['HOME'] linux ... \",\n",
       " '_i46': \"exg_module_path = os.environ['/Users/mohammedhamdan/Documents/Python_Full_Stack/PACKAGES/']\",\n",
       " '_i47': \"exg_module_path = os.environ['/Users/mohammedhamdan/Documents/Python_Full_Stack/PACKAGES']\",\n",
       " '_i48': \"exg_module_path = os.environ['PACKAGES']\",\n",
       " '_i49': \"exg_module_path = os.environ['./PACKAGES']\",\n",
       " '_i50': \"exg_module_path = os.environ['/PACKAGES']\",\n",
       " '_i51': \"exg_module_path = os.environ['PACKAGES']\",\n",
       " '_i52': \"exg_module_path = os.environ['HOME']\",\n",
       " 'exg_module_path': '/Users/mohammedhamdan',\n",
       " '_i53': \"exg_module_path = os.environ['USERS']\",\n",
       " '_i54': \"exg_module_path = os.environ['mohammedhamdan']\",\n",
       " '_i55': \"exg_module_path = os.environ['HOMEPATH']\",\n",
       " '_i56': \"exg_module_path = os.environ['HOME']\",\n",
       " '_i57': \"ext_module_path = os.environ['HOME']\",\n",
       " 'ext_module_path': '/Users/mohammedhamdan',\n",
       " '_i58': 'ext_module_path',\n",
       " '_58': '/Users/mohammedhamdan',\n",
       " '_i59': 'ext_module_path # root directory',\n",
       " '_59': '/Users/mohammedhamdan',\n",
       " '_i60': \"file_abs_path = os.path.join(ext_module_path, 'module2.py')\",\n",
       " 'file_abs_path': '/Users/mohammedhamdan/module2.py',\n",
       " '_i61': 'with open(file_abs_path, \\'w\\') as code_file:\\n    code_file.write(\"print(\\'running module2.py...\\')\\\\n\")\\n    code_file.write(\"X = \\'Python\\\\n\\'\")',\n",
       " '_i62': \"importlib.util.find_spec('module2')\",\n",
       " '_i63': 'sys.path',\n",
       " '_63': ['/Users/mohammedhamdan/Documents/Python_Full_Stack/Deep_Dive_Python3/Part1/ModulesPackagesNamespaces/Functional_p2',\n",
       "  '/Library/Frameworks/Python.framework/Versions/3.10/lib/python310.zip',\n",
       "  '/Library/Frameworks/Python.framework/Versions/3.10/lib/python3.10',\n",
       "  '/Library/Frameworks/Python.framework/Versions/3.10/lib/python3.10/lib-dynload',\n",
       "  '',\n",
       "  '/Users/mohammedhamdan/Library/Python/3.10/lib/python/site-packages',\n",
       "  '/Library/Frameworks/Python.framework/Versions/3.10/lib/python3.10/site-packages',\n",
       "  '/Users/mohammedhamdan',\n",
       "  '/Users/mohammedhamdan',\n",
       "  '/Users/mohammedhamdan',\n",
       "  '/Users/mohammedhamdan',\n",
       "  '/Users/mohammedhamdan',\n",
       "  '/Users/mohammedhamdan',\n",
       "  '/Users/mohammedhamdan'],\n",
       " '_i64': 'sys.path.append(ext_module_path)',\n",
       " '_i65': 'sys.path',\n",
       " '_65': ['/Users/mohammedhamdan/Documents/Python_Full_Stack/Deep_Dive_Python3/Part1/ModulesPackagesNamespaces/Functional_p2',\n",
       "  '/Library/Frameworks/Python.framework/Versions/3.10/lib/python310.zip',\n",
       "  '/Library/Frameworks/Python.framework/Versions/3.10/lib/python3.10',\n",
       "  '/Library/Frameworks/Python.framework/Versions/3.10/lib/python3.10/lib-dynload',\n",
       "  '',\n",
       "  '/Users/mohammedhamdan/Library/Python/3.10/lib/python/site-packages',\n",
       "  '/Library/Frameworks/Python.framework/Versions/3.10/lib/python3.10/site-packages',\n",
       "  '/Users/mohammedhamdan',\n",
       "  '/Users/mohammedhamdan',\n",
       "  '/Users/mohammedhamdan',\n",
       "  '/Users/mohammedhamdan',\n",
       "  '/Users/mohammedhamdan',\n",
       "  '/Users/mohammedhamdan',\n",
       "  '/Users/mohammedhamdan'],\n",
       " '_i66': \"importlib.util.find_spec('module2')\",\n",
       " '_66': ModuleSpec(name='module2', loader=<_frozen_importlib_external.SourceFileLoader object at 0x10c6be890>, origin='/Users/mohammedhamdan/module2.py'),\n",
       " '_i67': 'import module2',\n",
       " '_i68': 'import module2',\n",
       " '_i69': 'with open(file_abs_path, \\'w\\') as code_file:\\n    code_file.write(\"print(\\'running module2.py...\\')\\\\n\")\\n    code_file.write(\"X = \\'\\\\Python\\\\n\\'\")',\n",
       " '_i70': \"importlib.util.find_spec('module2')\",\n",
       " '_70': ModuleSpec(name='module2', loader=<_frozen_importlib_external.SourceFileLoader object at 0x10c4f7eb0>, origin='/Users/mohammedhamdan/module2.py'),\n",
       " '_i71': 'sys.path',\n",
       " '_71': ['/Users/mohammedhamdan/Documents/Python_Full_Stack/Deep_Dive_Python3/Part1/ModulesPackagesNamespaces/Functional_p2',\n",
       "  '/Library/Frameworks/Python.framework/Versions/3.10/lib/python310.zip',\n",
       "  '/Library/Frameworks/Python.framework/Versions/3.10/lib/python3.10',\n",
       "  '/Library/Frameworks/Python.framework/Versions/3.10/lib/python3.10/lib-dynload',\n",
       "  '',\n",
       "  '/Users/mohammedhamdan/Library/Python/3.10/lib/python/site-packages',\n",
       "  '/Library/Frameworks/Python.framework/Versions/3.10/lib/python3.10/site-packages',\n",
       "  '/Users/mohammedhamdan',\n",
       "  '/Users/mohammedhamdan',\n",
       "  '/Users/mohammedhamdan',\n",
       "  '/Users/mohammedhamdan',\n",
       "  '/Users/mohammedhamdan',\n",
       "  '/Users/mohammedhamdan',\n",
       "  '/Users/mohammedhamdan'],\n",
       " '_i72': 'sys.path.append(ext_module_path)',\n",
       " '_i73': 'sys.path',\n",
       " '_73': ['/Users/mohammedhamdan/Documents/Python_Full_Stack/Deep_Dive_Python3/Part1/ModulesPackagesNamespaces/Functional_p2',\n",
       "  '/Library/Frameworks/Python.framework/Versions/3.10/lib/python310.zip',\n",
       "  '/Library/Frameworks/Python.framework/Versions/3.10/lib/python3.10',\n",
       "  '/Library/Frameworks/Python.framework/Versions/3.10/lib/python3.10/lib-dynload',\n",
       "  '',\n",
       "  '/Users/mohammedhamdan/Library/Python/3.10/lib/python/site-packages',\n",
       "  '/Library/Frameworks/Python.framework/Versions/3.10/lib/python3.10/site-packages',\n",
       "  '/Users/mohammedhamdan',\n",
       "  '/Users/mohammedhamdan',\n",
       "  '/Users/mohammedhamdan',\n",
       "  '/Users/mohammedhamdan',\n",
       "  '/Users/mohammedhamdan',\n",
       "  '/Users/mohammedhamdan',\n",
       "  '/Users/mohammedhamdan'],\n",
       " '_i74': \"importlib.util.find_spec('module2')\",\n",
       " '_74': ModuleSpec(name='module2', loader=<_frozen_importlib_external.SourceFileLoader object at 0x10c9ac100>, origin='/Users/mohammedhamdan/module2.py'),\n",
       " '_i75': 'with open(file_abs_path, \\'w\\') as code_file:\\n    code_file.write(\"print(\\'running module2.py...\\')\\\\n\")\\n    code_file.write(\"X = \\'Python\\'\\\\n\")',\n",
       " '_i76': \"importlib.util.find_spec('module2')\",\n",
       " '_76': ModuleSpec(name='module2', loader=<_frozen_importlib_external.SourceFileLoader object at 0x10ca47be0>, origin='/Users/mohammedhamdan/module2.py'),\n",
       " '_i77': 'sys.path',\n",
       " '_77': ['/Users/mohammedhamdan/Documents/Python_Full_Stack/Deep_Dive_Python3/Part1/ModulesPackagesNamespaces/Functional_p2',\n",
       "  '/Library/Frameworks/Python.framework/Versions/3.10/lib/python310.zip',\n",
       "  '/Library/Frameworks/Python.framework/Versions/3.10/lib/python3.10',\n",
       "  '/Library/Frameworks/Python.framework/Versions/3.10/lib/python3.10/lib-dynload',\n",
       "  '',\n",
       "  '/Users/mohammedhamdan/Library/Python/3.10/lib/python/site-packages',\n",
       "  '/Library/Frameworks/Python.framework/Versions/3.10/lib/python3.10/site-packages',\n",
       "  '/Users/mohammedhamdan',\n",
       "  '/Users/mohammedhamdan',\n",
       "  '/Users/mohammedhamdan',\n",
       "  '/Users/mohammedhamdan',\n",
       "  '/Users/mohammedhamdan',\n",
       "  '/Users/mohammedhamdan',\n",
       "  '/Users/mohammedhamdan'],\n",
       " '_i78': 'sys.path.append(ext_module_path)',\n",
       " '_i79': 'sys.path',\n",
       " '_79': ['/Users/mohammedhamdan/Documents/Python_Full_Stack/Deep_Dive_Python3/Part1/ModulesPackagesNamespaces/Functional_p2',\n",
       "  '/Library/Frameworks/Python.framework/Versions/3.10/lib/python310.zip',\n",
       "  '/Library/Frameworks/Python.framework/Versions/3.10/lib/python3.10',\n",
       "  '/Library/Frameworks/Python.framework/Versions/3.10/lib/python3.10/lib-dynload',\n",
       "  '',\n",
       "  '/Users/mohammedhamdan/Library/Python/3.10/lib/python/site-packages',\n",
       "  '/Library/Frameworks/Python.framework/Versions/3.10/lib/python3.10/site-packages',\n",
       "  '/Users/mohammedhamdan',\n",
       "  '/Users/mohammedhamdan',\n",
       "  '/Users/mohammedhamdan',\n",
       "  '/Users/mohammedhamdan',\n",
       "  '/Users/mohammedhamdan',\n",
       "  '/Users/mohammedhamdan',\n",
       "  '/Users/mohammedhamdan'],\n",
       " '_i80': \"importlib.util.find_spec('module2')\",\n",
       " '_80': ModuleSpec(name='module2', loader=<_frozen_importlib_external.SourceFileLoader object at 0x10c560a60>, origin='/Users/mohammedhamdan/module2.py'),\n",
       " '_i81': \"file_abs_path = os.path.join(ext_module_path, 'module2.py')\",\n",
       " '_i82': 'with open(file_abs_path, \\'w\\') as code_file:\\n    code_file.write(\"print(\\'running module2.py...\\')\\\\n\")\\n    code_file.write(\"X = \\'Python\\'\\\\n\")',\n",
       " '_i83': \"importlib.util.find_spec('module2')\",\n",
       " '_83': ModuleSpec(name='module2', loader=<_frozen_importlib_external.SourceFileLoader object at 0x10ca47700>, origin='/Users/mohammedhamdan/module2.py'),\n",
       " '_i84': 'sys.path',\n",
       " '_84': ['/Users/mohammedhamdan/Documents/Python_Full_Stack/Deep_Dive_Python3/Part1/ModulesPackagesNamespaces/Functional_p2',\n",
       "  '/Library/Frameworks/Python.framework/Versions/3.10/lib/python310.zip',\n",
       "  '/Library/Frameworks/Python.framework/Versions/3.10/lib/python3.10',\n",
       "  '/Library/Frameworks/Python.framework/Versions/3.10/lib/python3.10/lib-dynload',\n",
       "  '',\n",
       "  '/Users/mohammedhamdan/Library/Python/3.10/lib/python/site-packages',\n",
       "  '/Library/Frameworks/Python.framework/Versions/3.10/lib/python3.10/site-packages',\n",
       "  '/Users/mohammedhamdan',\n",
       "  '/Users/mohammedhamdan',\n",
       "  '/Users/mohammedhamdan',\n",
       "  '/Users/mohammedhamdan',\n",
       "  '/Users/mohammedhamdan',\n",
       "  '/Users/mohammedhamdan',\n",
       "  '/Users/mohammedhamdan'],\n",
       " '_i85': 'sys.path.append(ext_module_path)',\n",
       " '_i86': 'sys.path',\n",
       " '_86': ['/Users/mohammedhamdan/Documents/Python_Full_Stack/Deep_Dive_Python3/Part1/ModulesPackagesNamespaces/Functional_p2',\n",
       "  '/Library/Frameworks/Python.framework/Versions/3.10/lib/python310.zip',\n",
       "  '/Library/Frameworks/Python.framework/Versions/3.10/lib/python3.10',\n",
       "  '/Library/Frameworks/Python.framework/Versions/3.10/lib/python3.10/lib-dynload',\n",
       "  '',\n",
       "  '/Users/mohammedhamdan/Library/Python/3.10/lib/python/site-packages',\n",
       "  '/Library/Frameworks/Python.framework/Versions/3.10/lib/python3.10/site-packages',\n",
       "  '/Users/mohammedhamdan',\n",
       "  '/Users/mohammedhamdan',\n",
       "  '/Users/mohammedhamdan',\n",
       "  '/Users/mohammedhamdan',\n",
       "  '/Users/mohammedhamdan',\n",
       "  '/Users/mohammedhamdan',\n",
       "  '/Users/mohammedhamdan'],\n",
       " '_i87': \"importlib.util.find_spec('module2')\",\n",
       " '_87': ModuleSpec(name='module2', loader=<_frozen_importlib_external.SourceFileLoader object at 0x10c32dba0>, origin='/Users/mohammedhamdan/module2.py'),\n",
       " '_i88': 'with open(file_abs_path, \\'w\\') as code_file:\\n    code_file.write(\"print(\\'running module2.py...\\')\\\\n\")\\n    code_file.write(\"Python\")',\n",
       " '_i89': \"importlib.util.find_spec('module2')\",\n",
       " '_89': ModuleSpec(name='module2', loader=<_frozen_importlib_external.SourceFileLoader object at 0x10ca47f10>, origin='/Users/mohammedhamdan/module2.py'),\n",
       " '_i90': 'sys.path',\n",
       " '_90': ['/Users/mohammedhamdan/Documents/Python_Full_Stack/Deep_Dive_Python3/Part1/ModulesPackagesNamespaces/Functional_p2',\n",
       "  '/Library/Frameworks/Python.framework/Versions/3.10/lib/python310.zip',\n",
       "  '/Library/Frameworks/Python.framework/Versions/3.10/lib/python3.10',\n",
       "  '/Library/Frameworks/Python.framework/Versions/3.10/lib/python3.10/lib-dynload',\n",
       "  '',\n",
       "  '/Users/mohammedhamdan/Library/Python/3.10/lib/python/site-packages',\n",
       "  '/Library/Frameworks/Python.framework/Versions/3.10/lib/python3.10/site-packages',\n",
       "  '/Users/mohammedhamdan',\n",
       "  '/Users/mohammedhamdan',\n",
       "  '/Users/mohammedhamdan',\n",
       "  '/Users/mohammedhamdan',\n",
       "  '/Users/mohammedhamdan',\n",
       "  '/Users/mohammedhamdan',\n",
       "  '/Users/mohammedhamdan'],\n",
       " '_i91': 'sys.path.append(ext_module_path)',\n",
       " '_i92': 'sys.path',\n",
       " '_92': ['/Users/mohammedhamdan/Documents/Python_Full_Stack/Deep_Dive_Python3/Part1/ModulesPackagesNamespaces/Functional_p2',\n",
       "  '/Library/Frameworks/Python.framework/Versions/3.10/lib/python310.zip',\n",
       "  '/Library/Frameworks/Python.framework/Versions/3.10/lib/python3.10',\n",
       "  '/Library/Frameworks/Python.framework/Versions/3.10/lib/python3.10/lib-dynload',\n",
       "  '',\n",
       "  '/Users/mohammedhamdan/Library/Python/3.10/lib/python/site-packages',\n",
       "  '/Library/Frameworks/Python.framework/Versions/3.10/lib/python3.10/site-packages',\n",
       "  '/Users/mohammedhamdan',\n",
       "  '/Users/mohammedhamdan',\n",
       "  '/Users/mohammedhamdan',\n",
       "  '/Users/mohammedhamdan',\n",
       "  '/Users/mohammedhamdan',\n",
       "  '/Users/mohammedhamdan',\n",
       "  '/Users/mohammedhamdan'],\n",
       " '_i93': \"importlib.util.find_spec('module2')\",\n",
       " '_93': ModuleSpec(name='module2', loader=<_frozen_importlib_external.SourceFileLoader object at 0x10ca44790>, origin='/Users/mohammedhamdan/module2.py'),\n",
       " '_i94': 'import module2',\n",
       " '_i95': 'with open(file_abs_path, \\'w\\') as code_file:\\n    code_file.write(\"print(\\'running module2.py...\\')\\\\n\")\\n    code_file.write(\"X = \\'Python\\'\\\\n\")',\n",
       " '_i96': \"importlib.util.find_spec('module2')\",\n",
       " '_96': ModuleSpec(name='module2', loader=<_frozen_importlib_external.SourceFileLoader object at 0x10c739450>, origin='/Users/mohammedhamdan/module2.py'),\n",
       " '_i97': 'sys.path',\n",
       " '_97': ['/Users/mohammedhamdan/Documents/Python_Full_Stack/Deep_Dive_Python3/Part1/ModulesPackagesNamespaces/Functional_p2',\n",
       "  '/Library/Frameworks/Python.framework/Versions/3.10/lib/python310.zip',\n",
       "  '/Library/Frameworks/Python.framework/Versions/3.10/lib/python3.10',\n",
       "  '/Library/Frameworks/Python.framework/Versions/3.10/lib/python3.10/lib-dynload',\n",
       "  '',\n",
       "  '/Users/mohammedhamdan/Library/Python/3.10/lib/python/site-packages',\n",
       "  '/Library/Frameworks/Python.framework/Versions/3.10/lib/python3.10/site-packages',\n",
       "  '/Users/mohammedhamdan',\n",
       "  '/Users/mohammedhamdan',\n",
       "  '/Users/mohammedhamdan',\n",
       "  '/Users/mohammedhamdan',\n",
       "  '/Users/mohammedhamdan',\n",
       "  '/Users/mohammedhamdan',\n",
       "  '/Users/mohammedhamdan'],\n",
       " '_i98': 'sys.path.append(ext_module_path)',\n",
       " '_i99': 'sys.path',\n",
       " '_99': ['/Users/mohammedhamdan/Documents/Python_Full_Stack/Deep_Dive_Python3/Part1/ModulesPackagesNamespaces/Functional_p2',\n",
       "  '/Library/Frameworks/Python.framework/Versions/3.10/lib/python310.zip',\n",
       "  '/Library/Frameworks/Python.framework/Versions/3.10/lib/python3.10',\n",
       "  '/Library/Frameworks/Python.framework/Versions/3.10/lib/python3.10/lib-dynload',\n",
       "  '',\n",
       "  '/Users/mohammedhamdan/Library/Python/3.10/lib/python/site-packages',\n",
       "  '/Library/Frameworks/Python.framework/Versions/3.10/lib/python3.10/site-packages',\n",
       "  '/Users/mohammedhamdan',\n",
       "  '/Users/mohammedhamdan',\n",
       "  '/Users/mohammedhamdan',\n",
       "  '/Users/mohammedhamdan',\n",
       "  '/Users/mohammedhamdan',\n",
       "  '/Users/mohammedhamdan',\n",
       "  '/Users/mohammedhamdan'],\n",
       " '_i100': \"importlib.util.find_spec('module2')\",\n",
       " '_100': ModuleSpec(name='module2', loader=<_frozen_importlib_external.SourceFileLoader object at 0x10c98f940>, origin='/Users/mohammedhamdan/module2.py'),\n",
       " '_i101': 'import module2',\n",
       " 'module2': <module 'module2' from '/Users/mohammedhamdan/module2.py'>,\n",
       " '_i102': \"extPath = os.environ['/Users/mohammedhamdan']\",\n",
       " '_i103': \"extPath = os.environ['/Users/mohammedhamdan/']\",\n",
       " '_i104': \"file_abs_path = os.path.join(ext_module_path, 'module2.py')\",\n",
       " '_i105': 'with open(file_abs_path, \\'w\\') as code_file:\\n    code_file.write(\"print(\\'running module2.py...\\')\\\\n\")\\n    code_file.write(\"X = \\'Python\\'\\\\n\")',\n",
       " '_i106': \"importlib.util.find_spec('module2')\",\n",
       " '_106': ModuleSpec(name='module2', loader=<_frozen_importlib_external.SourceFileLoader object at 0x10c98f490>, origin='/Users/mohammedhamdan/module2.py'),\n",
       " '_i107': 'sys.path',\n",
       " '_107': ['/Users/mohammedhamdan/Documents/Python_Full_Stack/Deep_Dive_Python3/Part1/ModulesPackagesNamespaces/Functional_p2',\n",
       "  '/Library/Frameworks/Python.framework/Versions/3.10/lib/python310.zip',\n",
       "  '/Library/Frameworks/Python.framework/Versions/3.10/lib/python3.10',\n",
       "  '/Library/Frameworks/Python.framework/Versions/3.10/lib/python3.10/lib-dynload',\n",
       "  '',\n",
       "  '/Users/mohammedhamdan/Library/Python/3.10/lib/python/site-packages',\n",
       "  '/Library/Frameworks/Python.framework/Versions/3.10/lib/python3.10/site-packages',\n",
       "  '/Users/mohammedhamdan',\n",
       "  '/Users/mohammedhamdan',\n",
       "  '/Users/mohammedhamdan',\n",
       "  '/Users/mohammedhamdan',\n",
       "  '/Users/mohammedhamdan',\n",
       "  '/Users/mohammedhamdan',\n",
       "  '/Users/mohammedhamdan'],\n",
       " '_i108': 'sys.path.append(ext_module_path)',\n",
       " '_i109': 'sys.path',\n",
       " '_109': ['/Users/mohammedhamdan/Documents/Python_Full_Stack/Deep_Dive_Python3/Part1/ModulesPackagesNamespaces/Functional_p2',\n",
       "  '/Library/Frameworks/Python.framework/Versions/3.10/lib/python310.zip',\n",
       "  '/Library/Frameworks/Python.framework/Versions/3.10/lib/python3.10',\n",
       "  '/Library/Frameworks/Python.framework/Versions/3.10/lib/python3.10/lib-dynload',\n",
       "  '',\n",
       "  '/Users/mohammedhamdan/Library/Python/3.10/lib/python/site-packages',\n",
       "  '/Library/Frameworks/Python.framework/Versions/3.10/lib/python3.10/site-packages',\n",
       "  '/Users/mohammedhamdan',\n",
       "  '/Users/mohammedhamdan',\n",
       "  '/Users/mohammedhamdan',\n",
       "  '/Users/mohammedhamdan',\n",
       "  '/Users/mohammedhamdan',\n",
       "  '/Users/mohammedhamdan',\n",
       "  '/Users/mohammedhamdan'],\n",
       " '_i110': \"importlib.util.find_spec('module2')\",\n",
       " '_110': ModuleSpec(name='module2', loader=<_frozen_importlib_external.SourceFileLoader object at 0x10c98f490>, origin='/Users/mohammedhamdan/module2.py'),\n",
       " '_i111': 'import module2',\n",
       " '_i112': 'sys.path',\n",
       " '_112': ['/Users/mohammedhamdan/Documents/Python_Full_Stack/Deep_Dive_Python3/Part1/ModulesPackagesNamespaces/Functional_p2',\n",
       "  '/Library/Frameworks/Python.framework/Versions/3.10/lib/python310.zip',\n",
       "  '/Library/Frameworks/Python.framework/Versions/3.10/lib/python3.10',\n",
       "  '/Library/Frameworks/Python.framework/Versions/3.10/lib/python3.10/lib-dynload',\n",
       "  '',\n",
       "  '/Users/mohammedhamdan/Library/Python/3.10/lib/python/site-packages',\n",
       "  '/Library/Frameworks/Python.framework/Versions/3.10/lib/python3.10/site-packages',\n",
       "  '/Users/mohammedhamdan',\n",
       "  '/Users/mohammedhamdan',\n",
       "  '/Users/mohammedhamdan',\n",
       "  '/Users/mohammedhamdan',\n",
       "  '/Users/mohammedhamdan',\n",
       "  '/Users/mohammedhamdan',\n",
       "  '/Users/mohammedhamdan'],\n",
       " '_i113': 'import sys',\n",
       " '_i114': 'for key in sorted(sys.modules.keys()):\\n    print(key)',\n",
       " 'key': 'zmq.utils.jsonapi',\n",
       " '_i115': \"'cmath' is sys.modules\",\n",
       " '_115': False,\n",
       " '_i116': \"'cmath' in globals()\",\n",
       " '_116': False,\n",
       " '_i117': 'from cmath import exp',\n",
       " 'exp': <function cmath.exp(z, /)>,\n",
       " '_i118': \"'cmath' in globals()\",\n",
       " '_118': False,\n",
       " '_i119': \"'exp' in globals()\",\n",
       " '_119': True,\n",
       " '_i120': 'id(exp)',\n",
       " '_120': 4508048720,\n",
       " '_i121': \"'cmath' in sys.modules()\",\n",
       " '_i122': \"'cmath' in sys.module\",\n",
       " '_i123': \"'cmath' in sys.modules\",\n",
       " '_123': True,\n",
       " '_i124': \"# we don't have cmath as a label in teh globals name space \\n\\n\\ncmath = sys.modules['cmath']\",\n",
       " 'cmath': <module 'cmath' from '/Library/Frameworks/Python.framework/Versions/3.10/lib/python3.10/lib-dynload/cmath.cpython-310-darwin.so'>,\n",
       " '_i125': 'cmath.sin(30)',\n",
       " '_125': (-0.9880316240928618+0j),\n",
       " '_i126': \"'cmath' in globals()\",\n",
       " '_126': True,\n",
       " '_i127': 'from cmath import sine # Python import the entier module to sys but not namesapce ',\n",
       " '_i128': 'from cmath import sin # Python import the entier module to sys but not namesapce ',\n",
       " 'sin': <function cmath.sin(z, /)>,\n",
       " '_i129': 'from cmath import * ',\n",
       " 'acos': <function cmath.acos(z, /)>,\n",
       " 'acosh': <function cmath.acosh(z, /)>,\n",
       " 'asin': <function cmath.asin(z, /)>,\n",
       " 'asinh': <function cmath.asinh(z, /)>,\n",
       " 'atan': <function cmath.atan(z, /)>,\n",
       " 'atanh': <function cmath.atanh(z, /)>,\n",
       " 'cos': <function cmath.cos(z, /)>,\n",
       " 'cosh': <function cmath.cosh(z, /)>,\n",
       " 'isclose': <function cmath.isclose(a, b, *, rel_tol=1e-09, abs_tol=0.0)>,\n",
       " 'isfinite': <function cmath.isfinite(z, /)>,\n",
       " 'isinf': <function cmath.isinf(z, /)>,\n",
       " 'isnan': <function cmath.isnan(z, /)>,\n",
       " 'log': <function cmath.log>,\n",
       " 'log10': <function cmath.log10(z, /)>,\n",
       " 'phase': <function cmath.phase(z, /)>,\n",
       " 'polar': <function cmath.polar(z, /)>,\n",
       " 'rect': <function cmath.rect(r, phi, /)>,\n",
       " 'sinh': <function cmath.sinh(z, /)>,\n",
       " 'sqrt': <function cmath.sqrt(z, /)>,\n",
       " 'tan': <function cmath.tan(z, /)>,\n",
       " 'tanh': <function cmath.tanh(z, /)>,\n",
       " 'pi': 3.141592653589793,\n",
       " 'e': 2.718281828459045,\n",
       " 'tau': 6.283185307179586,\n",
       " 'inf': inf,\n",
       " 'infj': infj,\n",
       " 'nan': nan,\n",
       " 'nanj': nanj,\n",
       " '_i130': 'globals()'}"
      ]
     },
     "execution_count": 130,
     "metadata": {},
     "output_type": "execute_result"
    }
   ],
   "source": [
    "globals()"
   ]
  },
  {
   "cell_type": "code",
   "execution_count": 131,
   "metadata": {},
   "outputs": [],
   "source": [
    "from math import *"
   ]
  },
  {
   "cell_type": "code",
   "execution_count": 132,
   "metadata": {},
   "outputs": [
    {
     "data": {
      "text/plain": [
       "{'__name__': '__main__',\n",
       " '__doc__': 'Automatically created module for IPython interactive environment',\n",
       " '__package__': None,\n",
       " '__loader__': None,\n",
       " '__spec__': None,\n",
       " '__builtin__': <module 'builtins' (built-in)>,\n",
       " '__builtins__': <module 'builtins' (built-in)>,\n",
       " '_ih': ['',\n",
       "  'import sys',\n",
       "  'sys',\n",
       "  'import collections',\n",
       "  'collections',\n",
       "  'import collections # packages... ',\n",
       "  'collections',\n",
       "  \"mod_name = 'math'\",\n",
       "  'import mod_name ',\n",
       "  'import importlib # package ',\n",
       "  'importlib',\n",
       "  'importlib.import_module(mod_name)',\n",
       "  'importlib.import_module(mod_name) # brings the code, excute it .. and load it to the sys module .... ',\n",
       "  \"'math' is sys.modules\",\n",
       "  \"'math' in globals()\",\n",
       "  \"math = sys.modules('math')\",\n",
       "  \"math2 = sys.modules('math')\",\n",
       "  \"math2 = sys.modules['math']\",\n",
       "  'math3 = importlib.import_module(mod_name)',\n",
       "  \"'math3' in globals()\",\n",
       "  'id(math3)',\n",
       "  \"id(sys.modules['math'])\",\n",
       "  'math3.sqrt(4)',\n",
       "  'math3',\n",
       "  'importlib',\n",
       "  'import fractions',\n",
       "  \"fractions = importlib.import_module('fractions')\",\n",
       "  'fractions',\n",
       "  '#pyc ... are complied file ... so file,,, dll . pyds  files... ',\n",
       "  'import math \\nimport fractions\\nimport module1 ',\n",
       "  'import math \\nimport fractions\\n#import module1 ',\n",
       "  'fractions.__spec__',\n",
       "  'sys.meta_path',\n",
       "  'sys.meta_path # finder objects ... that packages installed .. builtinimporter = importer and finder .. ',\n",
       "  'sys.meta_path # finder objects ... that packages installed .. builtinimporter = loader and finder .. ',\n",
       "  'math.__spec__',\n",
       "  'import module1 # builting ... loop over all pathfindersss.. None ',\n",
       "  \"importlib.util.find_spec('Decimal')\",\n",
       "  \"print(importlib.util.find_spec('Decimal'))\",\n",
       "  'with open(\\'module1.py\\', \\'w\\') as code_file:\\n    code_file.write(\"print(\\'running module1.py...\\')\\\\n\")\\n    code_file.write(\\'a=100\\\\n\\')',\n",
       "  \"importlib.util.find_spec('module1')\",\n",
       "  'import module1',\n",
       "  \"'module1' in globals() # in namespace\",\n",
       "  'module1.a',\n",
       "  'import os',\n",
       "  \"# environ['HOME'] linux ... \",\n",
       "  \"exg_module_path = os.environ['/Users/mohammedhamdan/Documents/Python_Full_Stack/PACKAGES/']\",\n",
       "  \"exg_module_path = os.environ['/Users/mohammedhamdan/Documents/Python_Full_Stack/PACKAGES']\",\n",
       "  \"exg_module_path = os.environ['PACKAGES']\",\n",
       "  \"exg_module_path = os.environ['./PACKAGES']\",\n",
       "  \"exg_module_path = os.environ['/PACKAGES']\",\n",
       "  \"exg_module_path = os.environ['PACKAGES']\",\n",
       "  \"exg_module_path = os.environ['HOME']\",\n",
       "  \"exg_module_path = os.environ['USERS']\",\n",
       "  \"exg_module_path = os.environ['mohammedhamdan']\",\n",
       "  \"exg_module_path = os.environ['HOMEPATH']\",\n",
       "  \"exg_module_path = os.environ['HOME']\",\n",
       "  \"ext_module_path = os.environ['HOME']\",\n",
       "  'ext_module_path',\n",
       "  'ext_module_path # root directory',\n",
       "  \"file_abs_path = os.path.join(ext_module_path, 'module2.py')\",\n",
       "  'with open(file_abs_path, \\'w\\') as code_file:\\n    code_file.write(\"print(\\'running module2.py...\\')\\\\n\")\\n    code_file.write(\"X = \\'Python\\\\n\\'\")',\n",
       "  \"importlib.util.find_spec('module2')\",\n",
       "  'sys.path',\n",
       "  'sys.path.append(ext_module_path)',\n",
       "  'sys.path',\n",
       "  \"importlib.util.find_spec('module2')\",\n",
       "  'import module2',\n",
       "  'import module2',\n",
       "  'with open(file_abs_path, \\'w\\') as code_file:\\n    code_file.write(\"print(\\'running module2.py...\\')\\\\n\")\\n    code_file.write(\"X = \\'\\\\Python\\\\n\\'\")',\n",
       "  \"importlib.util.find_spec('module2')\",\n",
       "  'sys.path',\n",
       "  'sys.path.append(ext_module_path)',\n",
       "  'sys.path',\n",
       "  \"importlib.util.find_spec('module2')\",\n",
       "  'with open(file_abs_path, \\'w\\') as code_file:\\n    code_file.write(\"print(\\'running module2.py...\\')\\\\n\")\\n    code_file.write(\"X = \\'Python\\'\\\\n\")',\n",
       "  \"importlib.util.find_spec('module2')\",\n",
       "  'sys.path',\n",
       "  'sys.path.append(ext_module_path)',\n",
       "  'sys.path',\n",
       "  \"importlib.util.find_spec('module2')\",\n",
       "  \"file_abs_path = os.path.join(ext_module_path, 'module2.py')\",\n",
       "  'with open(file_abs_path, \\'w\\') as code_file:\\n    code_file.write(\"print(\\'running module2.py...\\')\\\\n\")\\n    code_file.write(\"X = \\'Python\\'\\\\n\")',\n",
       "  \"importlib.util.find_spec('module2')\",\n",
       "  'sys.path',\n",
       "  'sys.path.append(ext_module_path)',\n",
       "  'sys.path',\n",
       "  \"importlib.util.find_spec('module2')\",\n",
       "  'with open(file_abs_path, \\'w\\') as code_file:\\n    code_file.write(\"print(\\'running module2.py...\\')\\\\n\")\\n    code_file.write(\"Python\")',\n",
       "  \"importlib.util.find_spec('module2')\",\n",
       "  'sys.path',\n",
       "  'sys.path.append(ext_module_path)',\n",
       "  'sys.path',\n",
       "  \"importlib.util.find_spec('module2')\",\n",
       "  'import module2',\n",
       "  'with open(file_abs_path, \\'w\\') as code_file:\\n    code_file.write(\"print(\\'running module2.py...\\')\\\\n\")\\n    code_file.write(\"X = \\'Python\\'\\\\n\")',\n",
       "  \"importlib.util.find_spec('module2')\",\n",
       "  'sys.path',\n",
       "  'sys.path.append(ext_module_path)',\n",
       "  'sys.path',\n",
       "  \"importlib.util.find_spec('module2')\",\n",
       "  'import module2',\n",
       "  \"extPath = os.environ['/Users/mohammedhamdan']\",\n",
       "  \"extPath = os.environ['/Users/mohammedhamdan/']\",\n",
       "  \"file_abs_path = os.path.join(ext_module_path, 'module2.py')\",\n",
       "  'with open(file_abs_path, \\'w\\') as code_file:\\n    code_file.write(\"print(\\'running module2.py...\\')\\\\n\")\\n    code_file.write(\"X = \\'Python\\'\\\\n\")',\n",
       "  \"importlib.util.find_spec('module2')\",\n",
       "  'sys.path',\n",
       "  'sys.path.append(ext_module_path)',\n",
       "  'sys.path',\n",
       "  \"importlib.util.find_spec('module2')\",\n",
       "  'import module2',\n",
       "  'sys.path',\n",
       "  'import sys',\n",
       "  'for key in sorted(sys.modules.keys()):\\n    print(key)',\n",
       "  \"'cmath' is sys.modules\",\n",
       "  \"'cmath' in globals()\",\n",
       "  'from cmath import exp',\n",
       "  \"'cmath' in globals()\",\n",
       "  \"'exp' in globals()\",\n",
       "  'id(exp)',\n",
       "  \"'cmath' in sys.modules()\",\n",
       "  \"'cmath' in sys.module\",\n",
       "  \"'cmath' in sys.modules\",\n",
       "  \"# we don't have cmath as a label in teh globals name space \\n\\n\\ncmath = sys.modules['cmath']\",\n",
       "  'cmath.sin(30)',\n",
       "  \"'cmath' in globals()\",\n",
       "  'from cmath import sine # Python import the entier module to sys but not namesapce ',\n",
       "  'from cmath import sin # Python import the entier module to sys but not namesapce ',\n",
       "  'from cmath import * ',\n",
       "  'globals()',\n",
       "  'from math import *',\n",
       "  'globals()'],\n",
       " '_oh': {2: <module 'sys' (built-in)>,\n",
       "  4: <module 'collections' from '/Library/Frameworks/Python.framework/Versions/3.10/lib/python3.10/collections/__init__.py'>,\n",
       "  6: <module 'collections' from '/Library/Frameworks/Python.framework/Versions/3.10/lib/python3.10/collections/__init__.py'>,\n",
       "  10: <module 'importlib' from '/Library/Frameworks/Python.framework/Versions/3.10/lib/python3.10/importlib/__init__.py'>,\n",
       "  11: <module 'math' from '/Library/Frameworks/Python.framework/Versions/3.10/lib/python3.10/lib-dynload/math.cpython-310-darwin.so'>,\n",
       "  12: <module 'math' from '/Library/Frameworks/Python.framework/Versions/3.10/lib/python3.10/lib-dynload/math.cpython-310-darwin.so'>,\n",
       "  13: False,\n",
       "  14: False,\n",
       "  19: True,\n",
       "  20: 4340733552,\n",
       "  21: 4340733552,\n",
       "  22: 2.0,\n",
       "  23: <module 'math' from '/Library/Frameworks/Python.framework/Versions/3.10/lib/python3.10/lib-dynload/math.cpython-310-darwin.so'>,\n",
       "  24: <module 'importlib' from '/Library/Frameworks/Python.framework/Versions/3.10/lib/python3.10/importlib/__init__.py'>,\n",
       "  27: <module 'fractions' from '/Library/Frameworks/Python.framework/Versions/3.10/lib/python3.10/fractions.py'>,\n",
       "  31: ModuleSpec(name='fractions', loader=<_frozen_importlib_external.SourceFileLoader object at 0x1043ee950>, origin='/Library/Frameworks/Python.framework/Versions/3.10/lib/python3.10/fractions.py'),\n",
       "  32: [<_distutils_hack.DistutilsMetaFinder at 0x102a16020>,\n",
       "   _frozen_importlib.BuiltinImporter,\n",
       "   _frozen_importlib.FrozenImporter,\n",
       "   _frozen_importlib_external.PathFinder,\n",
       "   <six._SixMetaPathImporter at 0x103ab12a0>,\n",
       "   <pkg_resources.extern.VendorImporter at 0x1053b8580>],\n",
       "  33: [<_distutils_hack.DistutilsMetaFinder at 0x102a16020>,\n",
       "   _frozen_importlib.BuiltinImporter,\n",
       "   _frozen_importlib.FrozenImporter,\n",
       "   _frozen_importlib_external.PathFinder,\n",
       "   <six._SixMetaPathImporter at 0x103ab12a0>,\n",
       "   <pkg_resources.extern.VendorImporter at 0x1053b8580>],\n",
       "  34: [<_distutils_hack.DistutilsMetaFinder at 0x102a16020>,\n",
       "   _frozen_importlib.BuiltinImporter,\n",
       "   _frozen_importlib.FrozenImporter,\n",
       "   _frozen_importlib_external.PathFinder,\n",
       "   <six._SixMetaPathImporter at 0x103ab12a0>,\n",
       "   <pkg_resources.extern.VendorImporter at 0x1053b8580>],\n",
       "  35: ModuleSpec(name='math', loader=<_frozen_importlib_external.ExtensionFileLoader object at 0x102ba83d0>, origin='/Library/Frameworks/Python.framework/Versions/3.10/lib/python3.10/lib-dynload/math.cpython-310-darwin.so'),\n",
       "  40: ModuleSpec(name='module1', loader=<_frozen_importlib_external.SourceFileLoader object at 0x10c2abfa0>, origin='/Users/mohammedhamdan/Documents/Python_Full_Stack/Deep_Dive_Python3/Part1/ModulesPackagesNamespaces/Functional_p2/module1.py'),\n",
       "  42: True,\n",
       "  43: 100,\n",
       "  58: '/Users/mohammedhamdan',\n",
       "  59: '/Users/mohammedhamdan',\n",
       "  63: ['/Users/mohammedhamdan/Documents/Python_Full_Stack/Deep_Dive_Python3/Part1/ModulesPackagesNamespaces/Functional_p2',\n",
       "   '/Library/Frameworks/Python.framework/Versions/3.10/lib/python310.zip',\n",
       "   '/Library/Frameworks/Python.framework/Versions/3.10/lib/python3.10',\n",
       "   '/Library/Frameworks/Python.framework/Versions/3.10/lib/python3.10/lib-dynload',\n",
       "   '',\n",
       "   '/Users/mohammedhamdan/Library/Python/3.10/lib/python/site-packages',\n",
       "   '/Library/Frameworks/Python.framework/Versions/3.10/lib/python3.10/site-packages',\n",
       "   '/Users/mohammedhamdan',\n",
       "   '/Users/mohammedhamdan',\n",
       "   '/Users/mohammedhamdan',\n",
       "   '/Users/mohammedhamdan',\n",
       "   '/Users/mohammedhamdan',\n",
       "   '/Users/mohammedhamdan',\n",
       "   '/Users/mohammedhamdan'],\n",
       "  65: ['/Users/mohammedhamdan/Documents/Python_Full_Stack/Deep_Dive_Python3/Part1/ModulesPackagesNamespaces/Functional_p2',\n",
       "   '/Library/Frameworks/Python.framework/Versions/3.10/lib/python310.zip',\n",
       "   '/Library/Frameworks/Python.framework/Versions/3.10/lib/python3.10',\n",
       "   '/Library/Frameworks/Python.framework/Versions/3.10/lib/python3.10/lib-dynload',\n",
       "   '',\n",
       "   '/Users/mohammedhamdan/Library/Python/3.10/lib/python/site-packages',\n",
       "   '/Library/Frameworks/Python.framework/Versions/3.10/lib/python3.10/site-packages',\n",
       "   '/Users/mohammedhamdan',\n",
       "   '/Users/mohammedhamdan',\n",
       "   '/Users/mohammedhamdan',\n",
       "   '/Users/mohammedhamdan',\n",
       "   '/Users/mohammedhamdan',\n",
       "   '/Users/mohammedhamdan',\n",
       "   '/Users/mohammedhamdan'],\n",
       "  66: ModuleSpec(name='module2', loader=<_frozen_importlib_external.SourceFileLoader object at 0x10c6be890>, origin='/Users/mohammedhamdan/module2.py'),\n",
       "  70: ModuleSpec(name='module2', loader=<_frozen_importlib_external.SourceFileLoader object at 0x10c4f7eb0>, origin='/Users/mohammedhamdan/module2.py'),\n",
       "  71: ['/Users/mohammedhamdan/Documents/Python_Full_Stack/Deep_Dive_Python3/Part1/ModulesPackagesNamespaces/Functional_p2',\n",
       "   '/Library/Frameworks/Python.framework/Versions/3.10/lib/python310.zip',\n",
       "   '/Library/Frameworks/Python.framework/Versions/3.10/lib/python3.10',\n",
       "   '/Library/Frameworks/Python.framework/Versions/3.10/lib/python3.10/lib-dynload',\n",
       "   '',\n",
       "   '/Users/mohammedhamdan/Library/Python/3.10/lib/python/site-packages',\n",
       "   '/Library/Frameworks/Python.framework/Versions/3.10/lib/python3.10/site-packages',\n",
       "   '/Users/mohammedhamdan',\n",
       "   '/Users/mohammedhamdan',\n",
       "   '/Users/mohammedhamdan',\n",
       "   '/Users/mohammedhamdan',\n",
       "   '/Users/mohammedhamdan',\n",
       "   '/Users/mohammedhamdan',\n",
       "   '/Users/mohammedhamdan'],\n",
       "  73: ['/Users/mohammedhamdan/Documents/Python_Full_Stack/Deep_Dive_Python3/Part1/ModulesPackagesNamespaces/Functional_p2',\n",
       "   '/Library/Frameworks/Python.framework/Versions/3.10/lib/python310.zip',\n",
       "   '/Library/Frameworks/Python.framework/Versions/3.10/lib/python3.10',\n",
       "   '/Library/Frameworks/Python.framework/Versions/3.10/lib/python3.10/lib-dynload',\n",
       "   '',\n",
       "   '/Users/mohammedhamdan/Library/Python/3.10/lib/python/site-packages',\n",
       "   '/Library/Frameworks/Python.framework/Versions/3.10/lib/python3.10/site-packages',\n",
       "   '/Users/mohammedhamdan',\n",
       "   '/Users/mohammedhamdan',\n",
       "   '/Users/mohammedhamdan',\n",
       "   '/Users/mohammedhamdan',\n",
       "   '/Users/mohammedhamdan',\n",
       "   '/Users/mohammedhamdan',\n",
       "   '/Users/mohammedhamdan'],\n",
       "  74: ModuleSpec(name='module2', loader=<_frozen_importlib_external.SourceFileLoader object at 0x10c9ac100>, origin='/Users/mohammedhamdan/module2.py'),\n",
       "  76: ModuleSpec(name='module2', loader=<_frozen_importlib_external.SourceFileLoader object at 0x10ca47be0>, origin='/Users/mohammedhamdan/module2.py'),\n",
       "  77: ['/Users/mohammedhamdan/Documents/Python_Full_Stack/Deep_Dive_Python3/Part1/ModulesPackagesNamespaces/Functional_p2',\n",
       "   '/Library/Frameworks/Python.framework/Versions/3.10/lib/python310.zip',\n",
       "   '/Library/Frameworks/Python.framework/Versions/3.10/lib/python3.10',\n",
       "   '/Library/Frameworks/Python.framework/Versions/3.10/lib/python3.10/lib-dynload',\n",
       "   '',\n",
       "   '/Users/mohammedhamdan/Library/Python/3.10/lib/python/site-packages',\n",
       "   '/Library/Frameworks/Python.framework/Versions/3.10/lib/python3.10/site-packages',\n",
       "   '/Users/mohammedhamdan',\n",
       "   '/Users/mohammedhamdan',\n",
       "   '/Users/mohammedhamdan',\n",
       "   '/Users/mohammedhamdan',\n",
       "   '/Users/mohammedhamdan',\n",
       "   '/Users/mohammedhamdan',\n",
       "   '/Users/mohammedhamdan'],\n",
       "  79: ['/Users/mohammedhamdan/Documents/Python_Full_Stack/Deep_Dive_Python3/Part1/ModulesPackagesNamespaces/Functional_p2',\n",
       "   '/Library/Frameworks/Python.framework/Versions/3.10/lib/python310.zip',\n",
       "   '/Library/Frameworks/Python.framework/Versions/3.10/lib/python3.10',\n",
       "   '/Library/Frameworks/Python.framework/Versions/3.10/lib/python3.10/lib-dynload',\n",
       "   '',\n",
       "   '/Users/mohammedhamdan/Library/Python/3.10/lib/python/site-packages',\n",
       "   '/Library/Frameworks/Python.framework/Versions/3.10/lib/python3.10/site-packages',\n",
       "   '/Users/mohammedhamdan',\n",
       "   '/Users/mohammedhamdan',\n",
       "   '/Users/mohammedhamdan',\n",
       "   '/Users/mohammedhamdan',\n",
       "   '/Users/mohammedhamdan',\n",
       "   '/Users/mohammedhamdan',\n",
       "   '/Users/mohammedhamdan'],\n",
       "  80: ModuleSpec(name='module2', loader=<_frozen_importlib_external.SourceFileLoader object at 0x10c560a60>, origin='/Users/mohammedhamdan/module2.py'),\n",
       "  83: ModuleSpec(name='module2', loader=<_frozen_importlib_external.SourceFileLoader object at 0x10ca47700>, origin='/Users/mohammedhamdan/module2.py'),\n",
       "  84: ['/Users/mohammedhamdan/Documents/Python_Full_Stack/Deep_Dive_Python3/Part1/ModulesPackagesNamespaces/Functional_p2',\n",
       "   '/Library/Frameworks/Python.framework/Versions/3.10/lib/python310.zip',\n",
       "   '/Library/Frameworks/Python.framework/Versions/3.10/lib/python3.10',\n",
       "   '/Library/Frameworks/Python.framework/Versions/3.10/lib/python3.10/lib-dynload',\n",
       "   '',\n",
       "   '/Users/mohammedhamdan/Library/Python/3.10/lib/python/site-packages',\n",
       "   '/Library/Frameworks/Python.framework/Versions/3.10/lib/python3.10/site-packages',\n",
       "   '/Users/mohammedhamdan',\n",
       "   '/Users/mohammedhamdan',\n",
       "   '/Users/mohammedhamdan',\n",
       "   '/Users/mohammedhamdan',\n",
       "   '/Users/mohammedhamdan',\n",
       "   '/Users/mohammedhamdan',\n",
       "   '/Users/mohammedhamdan'],\n",
       "  86: ['/Users/mohammedhamdan/Documents/Python_Full_Stack/Deep_Dive_Python3/Part1/ModulesPackagesNamespaces/Functional_p2',\n",
       "   '/Library/Frameworks/Python.framework/Versions/3.10/lib/python310.zip',\n",
       "   '/Library/Frameworks/Python.framework/Versions/3.10/lib/python3.10',\n",
       "   '/Library/Frameworks/Python.framework/Versions/3.10/lib/python3.10/lib-dynload',\n",
       "   '',\n",
       "   '/Users/mohammedhamdan/Library/Python/3.10/lib/python/site-packages',\n",
       "   '/Library/Frameworks/Python.framework/Versions/3.10/lib/python3.10/site-packages',\n",
       "   '/Users/mohammedhamdan',\n",
       "   '/Users/mohammedhamdan',\n",
       "   '/Users/mohammedhamdan',\n",
       "   '/Users/mohammedhamdan',\n",
       "   '/Users/mohammedhamdan',\n",
       "   '/Users/mohammedhamdan',\n",
       "   '/Users/mohammedhamdan'],\n",
       "  87: ModuleSpec(name='module2', loader=<_frozen_importlib_external.SourceFileLoader object at 0x10c32dba0>, origin='/Users/mohammedhamdan/module2.py'),\n",
       "  89: ModuleSpec(name='module2', loader=<_frozen_importlib_external.SourceFileLoader object at 0x10ca47f10>, origin='/Users/mohammedhamdan/module2.py'),\n",
       "  90: ['/Users/mohammedhamdan/Documents/Python_Full_Stack/Deep_Dive_Python3/Part1/ModulesPackagesNamespaces/Functional_p2',\n",
       "   '/Library/Frameworks/Python.framework/Versions/3.10/lib/python310.zip',\n",
       "   '/Library/Frameworks/Python.framework/Versions/3.10/lib/python3.10',\n",
       "   '/Library/Frameworks/Python.framework/Versions/3.10/lib/python3.10/lib-dynload',\n",
       "   '',\n",
       "   '/Users/mohammedhamdan/Library/Python/3.10/lib/python/site-packages',\n",
       "   '/Library/Frameworks/Python.framework/Versions/3.10/lib/python3.10/site-packages',\n",
       "   '/Users/mohammedhamdan',\n",
       "   '/Users/mohammedhamdan',\n",
       "   '/Users/mohammedhamdan',\n",
       "   '/Users/mohammedhamdan',\n",
       "   '/Users/mohammedhamdan',\n",
       "   '/Users/mohammedhamdan',\n",
       "   '/Users/mohammedhamdan'],\n",
       "  92: ['/Users/mohammedhamdan/Documents/Python_Full_Stack/Deep_Dive_Python3/Part1/ModulesPackagesNamespaces/Functional_p2',\n",
       "   '/Library/Frameworks/Python.framework/Versions/3.10/lib/python310.zip',\n",
       "   '/Library/Frameworks/Python.framework/Versions/3.10/lib/python3.10',\n",
       "   '/Library/Frameworks/Python.framework/Versions/3.10/lib/python3.10/lib-dynload',\n",
       "   '',\n",
       "   '/Users/mohammedhamdan/Library/Python/3.10/lib/python/site-packages',\n",
       "   '/Library/Frameworks/Python.framework/Versions/3.10/lib/python3.10/site-packages',\n",
       "   '/Users/mohammedhamdan',\n",
       "   '/Users/mohammedhamdan',\n",
       "   '/Users/mohammedhamdan',\n",
       "   '/Users/mohammedhamdan',\n",
       "   '/Users/mohammedhamdan',\n",
       "   '/Users/mohammedhamdan',\n",
       "   '/Users/mohammedhamdan'],\n",
       "  93: ModuleSpec(name='module2', loader=<_frozen_importlib_external.SourceFileLoader object at 0x10ca44790>, origin='/Users/mohammedhamdan/module2.py'),\n",
       "  96: ModuleSpec(name='module2', loader=<_frozen_importlib_external.SourceFileLoader object at 0x10c739450>, origin='/Users/mohammedhamdan/module2.py'),\n",
       "  97: ['/Users/mohammedhamdan/Documents/Python_Full_Stack/Deep_Dive_Python3/Part1/ModulesPackagesNamespaces/Functional_p2',\n",
       "   '/Library/Frameworks/Python.framework/Versions/3.10/lib/python310.zip',\n",
       "   '/Library/Frameworks/Python.framework/Versions/3.10/lib/python3.10',\n",
       "   '/Library/Frameworks/Python.framework/Versions/3.10/lib/python3.10/lib-dynload',\n",
       "   '',\n",
       "   '/Users/mohammedhamdan/Library/Python/3.10/lib/python/site-packages',\n",
       "   '/Library/Frameworks/Python.framework/Versions/3.10/lib/python3.10/site-packages',\n",
       "   '/Users/mohammedhamdan',\n",
       "   '/Users/mohammedhamdan',\n",
       "   '/Users/mohammedhamdan',\n",
       "   '/Users/mohammedhamdan',\n",
       "   '/Users/mohammedhamdan',\n",
       "   '/Users/mohammedhamdan',\n",
       "   '/Users/mohammedhamdan'],\n",
       "  99: ['/Users/mohammedhamdan/Documents/Python_Full_Stack/Deep_Dive_Python3/Part1/ModulesPackagesNamespaces/Functional_p2',\n",
       "   '/Library/Frameworks/Python.framework/Versions/3.10/lib/python310.zip',\n",
       "   '/Library/Frameworks/Python.framework/Versions/3.10/lib/python3.10',\n",
       "   '/Library/Frameworks/Python.framework/Versions/3.10/lib/python3.10/lib-dynload',\n",
       "   '',\n",
       "   '/Users/mohammedhamdan/Library/Python/3.10/lib/python/site-packages',\n",
       "   '/Library/Frameworks/Python.framework/Versions/3.10/lib/python3.10/site-packages',\n",
       "   '/Users/mohammedhamdan',\n",
       "   '/Users/mohammedhamdan',\n",
       "   '/Users/mohammedhamdan',\n",
       "   '/Users/mohammedhamdan',\n",
       "   '/Users/mohammedhamdan',\n",
       "   '/Users/mohammedhamdan',\n",
       "   '/Users/mohammedhamdan'],\n",
       "  100: ModuleSpec(name='module2', loader=<_frozen_importlib_external.SourceFileLoader object at 0x10c98f940>, origin='/Users/mohammedhamdan/module2.py'),\n",
       "  106: ModuleSpec(name='module2', loader=<_frozen_importlib_external.SourceFileLoader object at 0x10c98f490>, origin='/Users/mohammedhamdan/module2.py'),\n",
       "  107: ['/Users/mohammedhamdan/Documents/Python_Full_Stack/Deep_Dive_Python3/Part1/ModulesPackagesNamespaces/Functional_p2',\n",
       "   '/Library/Frameworks/Python.framework/Versions/3.10/lib/python310.zip',\n",
       "   '/Library/Frameworks/Python.framework/Versions/3.10/lib/python3.10',\n",
       "   '/Library/Frameworks/Python.framework/Versions/3.10/lib/python3.10/lib-dynload',\n",
       "   '',\n",
       "   '/Users/mohammedhamdan/Library/Python/3.10/lib/python/site-packages',\n",
       "   '/Library/Frameworks/Python.framework/Versions/3.10/lib/python3.10/site-packages',\n",
       "   '/Users/mohammedhamdan',\n",
       "   '/Users/mohammedhamdan',\n",
       "   '/Users/mohammedhamdan',\n",
       "   '/Users/mohammedhamdan',\n",
       "   '/Users/mohammedhamdan',\n",
       "   '/Users/mohammedhamdan',\n",
       "   '/Users/mohammedhamdan'],\n",
       "  109: ['/Users/mohammedhamdan/Documents/Python_Full_Stack/Deep_Dive_Python3/Part1/ModulesPackagesNamespaces/Functional_p2',\n",
       "   '/Library/Frameworks/Python.framework/Versions/3.10/lib/python310.zip',\n",
       "   '/Library/Frameworks/Python.framework/Versions/3.10/lib/python3.10',\n",
       "   '/Library/Frameworks/Python.framework/Versions/3.10/lib/python3.10/lib-dynload',\n",
       "   '',\n",
       "   '/Users/mohammedhamdan/Library/Python/3.10/lib/python/site-packages',\n",
       "   '/Library/Frameworks/Python.framework/Versions/3.10/lib/python3.10/site-packages',\n",
       "   '/Users/mohammedhamdan',\n",
       "   '/Users/mohammedhamdan',\n",
       "   '/Users/mohammedhamdan',\n",
       "   '/Users/mohammedhamdan',\n",
       "   '/Users/mohammedhamdan',\n",
       "   '/Users/mohammedhamdan',\n",
       "   '/Users/mohammedhamdan'],\n",
       "  110: ModuleSpec(name='module2', loader=<_frozen_importlib_external.SourceFileLoader object at 0x10c98f490>, origin='/Users/mohammedhamdan/module2.py'),\n",
       "  112: ['/Users/mohammedhamdan/Documents/Python_Full_Stack/Deep_Dive_Python3/Part1/ModulesPackagesNamespaces/Functional_p2',\n",
       "   '/Library/Frameworks/Python.framework/Versions/3.10/lib/python310.zip',\n",
       "   '/Library/Frameworks/Python.framework/Versions/3.10/lib/python3.10',\n",
       "   '/Library/Frameworks/Python.framework/Versions/3.10/lib/python3.10/lib-dynload',\n",
       "   '',\n",
       "   '/Users/mohammedhamdan/Library/Python/3.10/lib/python/site-packages',\n",
       "   '/Library/Frameworks/Python.framework/Versions/3.10/lib/python3.10/site-packages',\n",
       "   '/Users/mohammedhamdan',\n",
       "   '/Users/mohammedhamdan',\n",
       "   '/Users/mohammedhamdan',\n",
       "   '/Users/mohammedhamdan',\n",
       "   '/Users/mohammedhamdan',\n",
       "   '/Users/mohammedhamdan',\n",
       "   '/Users/mohammedhamdan'],\n",
       "  115: False,\n",
       "  116: False,\n",
       "  118: False,\n",
       "  119: True,\n",
       "  120: 4508048720,\n",
       "  123: True,\n",
       "  125: (-0.9880316240928618+0j),\n",
       "  126: True,\n",
       "  130: {...}},\n",
       " '_dh': [PosixPath('/Users/mohammedhamdan/Documents/Python_Full_Stack/Deep_Dive_Python3/Part1/ModulesPackagesNamespaces/Functional_p2'),\n",
       "  PosixPath('/Users/mohammedhamdan/Documents/Python_Full_Stack/Deep_Dive_Python3/Part1/ModulesPackagesNamespaces/Functional_p2')],\n",
       " 'In': ['',\n",
       "  'import sys',\n",
       "  'sys',\n",
       "  'import collections',\n",
       "  'collections',\n",
       "  'import collections # packages... ',\n",
       "  'collections',\n",
       "  \"mod_name = 'math'\",\n",
       "  'import mod_name ',\n",
       "  'import importlib # package ',\n",
       "  'importlib',\n",
       "  'importlib.import_module(mod_name)',\n",
       "  'importlib.import_module(mod_name) # brings the code, excute it .. and load it to the sys module .... ',\n",
       "  \"'math' is sys.modules\",\n",
       "  \"'math' in globals()\",\n",
       "  \"math = sys.modules('math')\",\n",
       "  \"math2 = sys.modules('math')\",\n",
       "  \"math2 = sys.modules['math']\",\n",
       "  'math3 = importlib.import_module(mod_name)',\n",
       "  \"'math3' in globals()\",\n",
       "  'id(math3)',\n",
       "  \"id(sys.modules['math'])\",\n",
       "  'math3.sqrt(4)',\n",
       "  'math3',\n",
       "  'importlib',\n",
       "  'import fractions',\n",
       "  \"fractions = importlib.import_module('fractions')\",\n",
       "  'fractions',\n",
       "  '#pyc ... are complied file ... so file,,, dll . pyds  files... ',\n",
       "  'import math \\nimport fractions\\nimport module1 ',\n",
       "  'import math \\nimport fractions\\n#import module1 ',\n",
       "  'fractions.__spec__',\n",
       "  'sys.meta_path',\n",
       "  'sys.meta_path # finder objects ... that packages installed .. builtinimporter = importer and finder .. ',\n",
       "  'sys.meta_path # finder objects ... that packages installed .. builtinimporter = loader and finder .. ',\n",
       "  'math.__spec__',\n",
       "  'import module1 # builting ... loop over all pathfindersss.. None ',\n",
       "  \"importlib.util.find_spec('Decimal')\",\n",
       "  \"print(importlib.util.find_spec('Decimal'))\",\n",
       "  'with open(\\'module1.py\\', \\'w\\') as code_file:\\n    code_file.write(\"print(\\'running module1.py...\\')\\\\n\")\\n    code_file.write(\\'a=100\\\\n\\')',\n",
       "  \"importlib.util.find_spec('module1')\",\n",
       "  'import module1',\n",
       "  \"'module1' in globals() # in namespace\",\n",
       "  'module1.a',\n",
       "  'import os',\n",
       "  \"# environ['HOME'] linux ... \",\n",
       "  \"exg_module_path = os.environ['/Users/mohammedhamdan/Documents/Python_Full_Stack/PACKAGES/']\",\n",
       "  \"exg_module_path = os.environ['/Users/mohammedhamdan/Documents/Python_Full_Stack/PACKAGES']\",\n",
       "  \"exg_module_path = os.environ['PACKAGES']\",\n",
       "  \"exg_module_path = os.environ['./PACKAGES']\",\n",
       "  \"exg_module_path = os.environ['/PACKAGES']\",\n",
       "  \"exg_module_path = os.environ['PACKAGES']\",\n",
       "  \"exg_module_path = os.environ['HOME']\",\n",
       "  \"exg_module_path = os.environ['USERS']\",\n",
       "  \"exg_module_path = os.environ['mohammedhamdan']\",\n",
       "  \"exg_module_path = os.environ['HOMEPATH']\",\n",
       "  \"exg_module_path = os.environ['HOME']\",\n",
       "  \"ext_module_path = os.environ['HOME']\",\n",
       "  'ext_module_path',\n",
       "  'ext_module_path # root directory',\n",
       "  \"file_abs_path = os.path.join(ext_module_path, 'module2.py')\",\n",
       "  'with open(file_abs_path, \\'w\\') as code_file:\\n    code_file.write(\"print(\\'running module2.py...\\')\\\\n\")\\n    code_file.write(\"X = \\'Python\\\\n\\'\")',\n",
       "  \"importlib.util.find_spec('module2')\",\n",
       "  'sys.path',\n",
       "  'sys.path.append(ext_module_path)',\n",
       "  'sys.path',\n",
       "  \"importlib.util.find_spec('module2')\",\n",
       "  'import module2',\n",
       "  'import module2',\n",
       "  'with open(file_abs_path, \\'w\\') as code_file:\\n    code_file.write(\"print(\\'running module2.py...\\')\\\\n\")\\n    code_file.write(\"X = \\'\\\\Python\\\\n\\'\")',\n",
       "  \"importlib.util.find_spec('module2')\",\n",
       "  'sys.path',\n",
       "  'sys.path.append(ext_module_path)',\n",
       "  'sys.path',\n",
       "  \"importlib.util.find_spec('module2')\",\n",
       "  'with open(file_abs_path, \\'w\\') as code_file:\\n    code_file.write(\"print(\\'running module2.py...\\')\\\\n\")\\n    code_file.write(\"X = \\'Python\\'\\\\n\")',\n",
       "  \"importlib.util.find_spec('module2')\",\n",
       "  'sys.path',\n",
       "  'sys.path.append(ext_module_path)',\n",
       "  'sys.path',\n",
       "  \"importlib.util.find_spec('module2')\",\n",
       "  \"file_abs_path = os.path.join(ext_module_path, 'module2.py')\",\n",
       "  'with open(file_abs_path, \\'w\\') as code_file:\\n    code_file.write(\"print(\\'running module2.py...\\')\\\\n\")\\n    code_file.write(\"X = \\'Python\\'\\\\n\")',\n",
       "  \"importlib.util.find_spec('module2')\",\n",
       "  'sys.path',\n",
       "  'sys.path.append(ext_module_path)',\n",
       "  'sys.path',\n",
       "  \"importlib.util.find_spec('module2')\",\n",
       "  'with open(file_abs_path, \\'w\\') as code_file:\\n    code_file.write(\"print(\\'running module2.py...\\')\\\\n\")\\n    code_file.write(\"Python\")',\n",
       "  \"importlib.util.find_spec('module2')\",\n",
       "  'sys.path',\n",
       "  'sys.path.append(ext_module_path)',\n",
       "  'sys.path',\n",
       "  \"importlib.util.find_spec('module2')\",\n",
       "  'import module2',\n",
       "  'with open(file_abs_path, \\'w\\') as code_file:\\n    code_file.write(\"print(\\'running module2.py...\\')\\\\n\")\\n    code_file.write(\"X = \\'Python\\'\\\\n\")',\n",
       "  \"importlib.util.find_spec('module2')\",\n",
       "  'sys.path',\n",
       "  'sys.path.append(ext_module_path)',\n",
       "  'sys.path',\n",
       "  \"importlib.util.find_spec('module2')\",\n",
       "  'import module2',\n",
       "  \"extPath = os.environ['/Users/mohammedhamdan']\",\n",
       "  \"extPath = os.environ['/Users/mohammedhamdan/']\",\n",
       "  \"file_abs_path = os.path.join(ext_module_path, 'module2.py')\",\n",
       "  'with open(file_abs_path, \\'w\\') as code_file:\\n    code_file.write(\"print(\\'running module2.py...\\')\\\\n\")\\n    code_file.write(\"X = \\'Python\\'\\\\n\")',\n",
       "  \"importlib.util.find_spec('module2')\",\n",
       "  'sys.path',\n",
       "  'sys.path.append(ext_module_path)',\n",
       "  'sys.path',\n",
       "  \"importlib.util.find_spec('module2')\",\n",
       "  'import module2',\n",
       "  'sys.path',\n",
       "  'import sys',\n",
       "  'for key in sorted(sys.modules.keys()):\\n    print(key)',\n",
       "  \"'cmath' is sys.modules\",\n",
       "  \"'cmath' in globals()\",\n",
       "  'from cmath import exp',\n",
       "  \"'cmath' in globals()\",\n",
       "  \"'exp' in globals()\",\n",
       "  'id(exp)',\n",
       "  \"'cmath' in sys.modules()\",\n",
       "  \"'cmath' in sys.module\",\n",
       "  \"'cmath' in sys.modules\",\n",
       "  \"# we don't have cmath as a label in teh globals name space \\n\\n\\ncmath = sys.modules['cmath']\",\n",
       "  'cmath.sin(30)',\n",
       "  \"'cmath' in globals()\",\n",
       "  'from cmath import sine # Python import the entier module to sys but not namesapce ',\n",
       "  'from cmath import sin # Python import the entier module to sys but not namesapce ',\n",
       "  'from cmath import * ',\n",
       "  'globals()',\n",
       "  'from math import *',\n",
       "  'globals()'],\n",
       " 'Out': {2: <module 'sys' (built-in)>,\n",
       "  4: <module 'collections' from '/Library/Frameworks/Python.framework/Versions/3.10/lib/python3.10/collections/__init__.py'>,\n",
       "  6: <module 'collections' from '/Library/Frameworks/Python.framework/Versions/3.10/lib/python3.10/collections/__init__.py'>,\n",
       "  10: <module 'importlib' from '/Library/Frameworks/Python.framework/Versions/3.10/lib/python3.10/importlib/__init__.py'>,\n",
       "  11: <module 'math' from '/Library/Frameworks/Python.framework/Versions/3.10/lib/python3.10/lib-dynload/math.cpython-310-darwin.so'>,\n",
       "  12: <module 'math' from '/Library/Frameworks/Python.framework/Versions/3.10/lib/python3.10/lib-dynload/math.cpython-310-darwin.so'>,\n",
       "  13: False,\n",
       "  14: False,\n",
       "  19: True,\n",
       "  20: 4340733552,\n",
       "  21: 4340733552,\n",
       "  22: 2.0,\n",
       "  23: <module 'math' from '/Library/Frameworks/Python.framework/Versions/3.10/lib/python3.10/lib-dynload/math.cpython-310-darwin.so'>,\n",
       "  24: <module 'importlib' from '/Library/Frameworks/Python.framework/Versions/3.10/lib/python3.10/importlib/__init__.py'>,\n",
       "  27: <module 'fractions' from '/Library/Frameworks/Python.framework/Versions/3.10/lib/python3.10/fractions.py'>,\n",
       "  31: ModuleSpec(name='fractions', loader=<_frozen_importlib_external.SourceFileLoader object at 0x1043ee950>, origin='/Library/Frameworks/Python.framework/Versions/3.10/lib/python3.10/fractions.py'),\n",
       "  32: [<_distutils_hack.DistutilsMetaFinder at 0x102a16020>,\n",
       "   _frozen_importlib.BuiltinImporter,\n",
       "   _frozen_importlib.FrozenImporter,\n",
       "   _frozen_importlib_external.PathFinder,\n",
       "   <six._SixMetaPathImporter at 0x103ab12a0>,\n",
       "   <pkg_resources.extern.VendorImporter at 0x1053b8580>],\n",
       "  33: [<_distutils_hack.DistutilsMetaFinder at 0x102a16020>,\n",
       "   _frozen_importlib.BuiltinImporter,\n",
       "   _frozen_importlib.FrozenImporter,\n",
       "   _frozen_importlib_external.PathFinder,\n",
       "   <six._SixMetaPathImporter at 0x103ab12a0>,\n",
       "   <pkg_resources.extern.VendorImporter at 0x1053b8580>],\n",
       "  34: [<_distutils_hack.DistutilsMetaFinder at 0x102a16020>,\n",
       "   _frozen_importlib.BuiltinImporter,\n",
       "   _frozen_importlib.FrozenImporter,\n",
       "   _frozen_importlib_external.PathFinder,\n",
       "   <six._SixMetaPathImporter at 0x103ab12a0>,\n",
       "   <pkg_resources.extern.VendorImporter at 0x1053b8580>],\n",
       "  35: ModuleSpec(name='math', loader=<_frozen_importlib_external.ExtensionFileLoader object at 0x102ba83d0>, origin='/Library/Frameworks/Python.framework/Versions/3.10/lib/python3.10/lib-dynload/math.cpython-310-darwin.so'),\n",
       "  40: ModuleSpec(name='module1', loader=<_frozen_importlib_external.SourceFileLoader object at 0x10c2abfa0>, origin='/Users/mohammedhamdan/Documents/Python_Full_Stack/Deep_Dive_Python3/Part1/ModulesPackagesNamespaces/Functional_p2/module1.py'),\n",
       "  42: True,\n",
       "  43: 100,\n",
       "  58: '/Users/mohammedhamdan',\n",
       "  59: '/Users/mohammedhamdan',\n",
       "  63: ['/Users/mohammedhamdan/Documents/Python_Full_Stack/Deep_Dive_Python3/Part1/ModulesPackagesNamespaces/Functional_p2',\n",
       "   '/Library/Frameworks/Python.framework/Versions/3.10/lib/python310.zip',\n",
       "   '/Library/Frameworks/Python.framework/Versions/3.10/lib/python3.10',\n",
       "   '/Library/Frameworks/Python.framework/Versions/3.10/lib/python3.10/lib-dynload',\n",
       "   '',\n",
       "   '/Users/mohammedhamdan/Library/Python/3.10/lib/python/site-packages',\n",
       "   '/Library/Frameworks/Python.framework/Versions/3.10/lib/python3.10/site-packages',\n",
       "   '/Users/mohammedhamdan',\n",
       "   '/Users/mohammedhamdan',\n",
       "   '/Users/mohammedhamdan',\n",
       "   '/Users/mohammedhamdan',\n",
       "   '/Users/mohammedhamdan',\n",
       "   '/Users/mohammedhamdan',\n",
       "   '/Users/mohammedhamdan'],\n",
       "  65: ['/Users/mohammedhamdan/Documents/Python_Full_Stack/Deep_Dive_Python3/Part1/ModulesPackagesNamespaces/Functional_p2',\n",
       "   '/Library/Frameworks/Python.framework/Versions/3.10/lib/python310.zip',\n",
       "   '/Library/Frameworks/Python.framework/Versions/3.10/lib/python3.10',\n",
       "   '/Library/Frameworks/Python.framework/Versions/3.10/lib/python3.10/lib-dynload',\n",
       "   '',\n",
       "   '/Users/mohammedhamdan/Library/Python/3.10/lib/python/site-packages',\n",
       "   '/Library/Frameworks/Python.framework/Versions/3.10/lib/python3.10/site-packages',\n",
       "   '/Users/mohammedhamdan',\n",
       "   '/Users/mohammedhamdan',\n",
       "   '/Users/mohammedhamdan',\n",
       "   '/Users/mohammedhamdan',\n",
       "   '/Users/mohammedhamdan',\n",
       "   '/Users/mohammedhamdan',\n",
       "   '/Users/mohammedhamdan'],\n",
       "  66: ModuleSpec(name='module2', loader=<_frozen_importlib_external.SourceFileLoader object at 0x10c6be890>, origin='/Users/mohammedhamdan/module2.py'),\n",
       "  70: ModuleSpec(name='module2', loader=<_frozen_importlib_external.SourceFileLoader object at 0x10c4f7eb0>, origin='/Users/mohammedhamdan/module2.py'),\n",
       "  71: ['/Users/mohammedhamdan/Documents/Python_Full_Stack/Deep_Dive_Python3/Part1/ModulesPackagesNamespaces/Functional_p2',\n",
       "   '/Library/Frameworks/Python.framework/Versions/3.10/lib/python310.zip',\n",
       "   '/Library/Frameworks/Python.framework/Versions/3.10/lib/python3.10',\n",
       "   '/Library/Frameworks/Python.framework/Versions/3.10/lib/python3.10/lib-dynload',\n",
       "   '',\n",
       "   '/Users/mohammedhamdan/Library/Python/3.10/lib/python/site-packages',\n",
       "   '/Library/Frameworks/Python.framework/Versions/3.10/lib/python3.10/site-packages',\n",
       "   '/Users/mohammedhamdan',\n",
       "   '/Users/mohammedhamdan',\n",
       "   '/Users/mohammedhamdan',\n",
       "   '/Users/mohammedhamdan',\n",
       "   '/Users/mohammedhamdan',\n",
       "   '/Users/mohammedhamdan',\n",
       "   '/Users/mohammedhamdan'],\n",
       "  73: ['/Users/mohammedhamdan/Documents/Python_Full_Stack/Deep_Dive_Python3/Part1/ModulesPackagesNamespaces/Functional_p2',\n",
       "   '/Library/Frameworks/Python.framework/Versions/3.10/lib/python310.zip',\n",
       "   '/Library/Frameworks/Python.framework/Versions/3.10/lib/python3.10',\n",
       "   '/Library/Frameworks/Python.framework/Versions/3.10/lib/python3.10/lib-dynload',\n",
       "   '',\n",
       "   '/Users/mohammedhamdan/Library/Python/3.10/lib/python/site-packages',\n",
       "   '/Library/Frameworks/Python.framework/Versions/3.10/lib/python3.10/site-packages',\n",
       "   '/Users/mohammedhamdan',\n",
       "   '/Users/mohammedhamdan',\n",
       "   '/Users/mohammedhamdan',\n",
       "   '/Users/mohammedhamdan',\n",
       "   '/Users/mohammedhamdan',\n",
       "   '/Users/mohammedhamdan',\n",
       "   '/Users/mohammedhamdan'],\n",
       "  74: ModuleSpec(name='module2', loader=<_frozen_importlib_external.SourceFileLoader object at 0x10c9ac100>, origin='/Users/mohammedhamdan/module2.py'),\n",
       "  76: ModuleSpec(name='module2', loader=<_frozen_importlib_external.SourceFileLoader object at 0x10ca47be0>, origin='/Users/mohammedhamdan/module2.py'),\n",
       "  77: ['/Users/mohammedhamdan/Documents/Python_Full_Stack/Deep_Dive_Python3/Part1/ModulesPackagesNamespaces/Functional_p2',\n",
       "   '/Library/Frameworks/Python.framework/Versions/3.10/lib/python310.zip',\n",
       "   '/Library/Frameworks/Python.framework/Versions/3.10/lib/python3.10',\n",
       "   '/Library/Frameworks/Python.framework/Versions/3.10/lib/python3.10/lib-dynload',\n",
       "   '',\n",
       "   '/Users/mohammedhamdan/Library/Python/3.10/lib/python/site-packages',\n",
       "   '/Library/Frameworks/Python.framework/Versions/3.10/lib/python3.10/site-packages',\n",
       "   '/Users/mohammedhamdan',\n",
       "   '/Users/mohammedhamdan',\n",
       "   '/Users/mohammedhamdan',\n",
       "   '/Users/mohammedhamdan',\n",
       "   '/Users/mohammedhamdan',\n",
       "   '/Users/mohammedhamdan',\n",
       "   '/Users/mohammedhamdan'],\n",
       "  79: ['/Users/mohammedhamdan/Documents/Python_Full_Stack/Deep_Dive_Python3/Part1/ModulesPackagesNamespaces/Functional_p2',\n",
       "   '/Library/Frameworks/Python.framework/Versions/3.10/lib/python310.zip',\n",
       "   '/Library/Frameworks/Python.framework/Versions/3.10/lib/python3.10',\n",
       "   '/Library/Frameworks/Python.framework/Versions/3.10/lib/python3.10/lib-dynload',\n",
       "   '',\n",
       "   '/Users/mohammedhamdan/Library/Python/3.10/lib/python/site-packages',\n",
       "   '/Library/Frameworks/Python.framework/Versions/3.10/lib/python3.10/site-packages',\n",
       "   '/Users/mohammedhamdan',\n",
       "   '/Users/mohammedhamdan',\n",
       "   '/Users/mohammedhamdan',\n",
       "   '/Users/mohammedhamdan',\n",
       "   '/Users/mohammedhamdan',\n",
       "   '/Users/mohammedhamdan',\n",
       "   '/Users/mohammedhamdan'],\n",
       "  80: ModuleSpec(name='module2', loader=<_frozen_importlib_external.SourceFileLoader object at 0x10c560a60>, origin='/Users/mohammedhamdan/module2.py'),\n",
       "  83: ModuleSpec(name='module2', loader=<_frozen_importlib_external.SourceFileLoader object at 0x10ca47700>, origin='/Users/mohammedhamdan/module2.py'),\n",
       "  84: ['/Users/mohammedhamdan/Documents/Python_Full_Stack/Deep_Dive_Python3/Part1/ModulesPackagesNamespaces/Functional_p2',\n",
       "   '/Library/Frameworks/Python.framework/Versions/3.10/lib/python310.zip',\n",
       "   '/Library/Frameworks/Python.framework/Versions/3.10/lib/python3.10',\n",
       "   '/Library/Frameworks/Python.framework/Versions/3.10/lib/python3.10/lib-dynload',\n",
       "   '',\n",
       "   '/Users/mohammedhamdan/Library/Python/3.10/lib/python/site-packages',\n",
       "   '/Library/Frameworks/Python.framework/Versions/3.10/lib/python3.10/site-packages',\n",
       "   '/Users/mohammedhamdan',\n",
       "   '/Users/mohammedhamdan',\n",
       "   '/Users/mohammedhamdan',\n",
       "   '/Users/mohammedhamdan',\n",
       "   '/Users/mohammedhamdan',\n",
       "   '/Users/mohammedhamdan',\n",
       "   '/Users/mohammedhamdan'],\n",
       "  86: ['/Users/mohammedhamdan/Documents/Python_Full_Stack/Deep_Dive_Python3/Part1/ModulesPackagesNamespaces/Functional_p2',\n",
       "   '/Library/Frameworks/Python.framework/Versions/3.10/lib/python310.zip',\n",
       "   '/Library/Frameworks/Python.framework/Versions/3.10/lib/python3.10',\n",
       "   '/Library/Frameworks/Python.framework/Versions/3.10/lib/python3.10/lib-dynload',\n",
       "   '',\n",
       "   '/Users/mohammedhamdan/Library/Python/3.10/lib/python/site-packages',\n",
       "   '/Library/Frameworks/Python.framework/Versions/3.10/lib/python3.10/site-packages',\n",
       "   '/Users/mohammedhamdan',\n",
       "   '/Users/mohammedhamdan',\n",
       "   '/Users/mohammedhamdan',\n",
       "   '/Users/mohammedhamdan',\n",
       "   '/Users/mohammedhamdan',\n",
       "   '/Users/mohammedhamdan',\n",
       "   '/Users/mohammedhamdan'],\n",
       "  87: ModuleSpec(name='module2', loader=<_frozen_importlib_external.SourceFileLoader object at 0x10c32dba0>, origin='/Users/mohammedhamdan/module2.py'),\n",
       "  89: ModuleSpec(name='module2', loader=<_frozen_importlib_external.SourceFileLoader object at 0x10ca47f10>, origin='/Users/mohammedhamdan/module2.py'),\n",
       "  90: ['/Users/mohammedhamdan/Documents/Python_Full_Stack/Deep_Dive_Python3/Part1/ModulesPackagesNamespaces/Functional_p2',\n",
       "   '/Library/Frameworks/Python.framework/Versions/3.10/lib/python310.zip',\n",
       "   '/Library/Frameworks/Python.framework/Versions/3.10/lib/python3.10',\n",
       "   '/Library/Frameworks/Python.framework/Versions/3.10/lib/python3.10/lib-dynload',\n",
       "   '',\n",
       "   '/Users/mohammedhamdan/Library/Python/3.10/lib/python/site-packages',\n",
       "   '/Library/Frameworks/Python.framework/Versions/3.10/lib/python3.10/site-packages',\n",
       "   '/Users/mohammedhamdan',\n",
       "   '/Users/mohammedhamdan',\n",
       "   '/Users/mohammedhamdan',\n",
       "   '/Users/mohammedhamdan',\n",
       "   '/Users/mohammedhamdan',\n",
       "   '/Users/mohammedhamdan',\n",
       "   '/Users/mohammedhamdan'],\n",
       "  92: ['/Users/mohammedhamdan/Documents/Python_Full_Stack/Deep_Dive_Python3/Part1/ModulesPackagesNamespaces/Functional_p2',\n",
       "   '/Library/Frameworks/Python.framework/Versions/3.10/lib/python310.zip',\n",
       "   '/Library/Frameworks/Python.framework/Versions/3.10/lib/python3.10',\n",
       "   '/Library/Frameworks/Python.framework/Versions/3.10/lib/python3.10/lib-dynload',\n",
       "   '',\n",
       "   '/Users/mohammedhamdan/Library/Python/3.10/lib/python/site-packages',\n",
       "   '/Library/Frameworks/Python.framework/Versions/3.10/lib/python3.10/site-packages',\n",
       "   '/Users/mohammedhamdan',\n",
       "   '/Users/mohammedhamdan',\n",
       "   '/Users/mohammedhamdan',\n",
       "   '/Users/mohammedhamdan',\n",
       "   '/Users/mohammedhamdan',\n",
       "   '/Users/mohammedhamdan',\n",
       "   '/Users/mohammedhamdan'],\n",
       "  93: ModuleSpec(name='module2', loader=<_frozen_importlib_external.SourceFileLoader object at 0x10ca44790>, origin='/Users/mohammedhamdan/module2.py'),\n",
       "  96: ModuleSpec(name='module2', loader=<_frozen_importlib_external.SourceFileLoader object at 0x10c739450>, origin='/Users/mohammedhamdan/module2.py'),\n",
       "  97: ['/Users/mohammedhamdan/Documents/Python_Full_Stack/Deep_Dive_Python3/Part1/ModulesPackagesNamespaces/Functional_p2',\n",
       "   '/Library/Frameworks/Python.framework/Versions/3.10/lib/python310.zip',\n",
       "   '/Library/Frameworks/Python.framework/Versions/3.10/lib/python3.10',\n",
       "   '/Library/Frameworks/Python.framework/Versions/3.10/lib/python3.10/lib-dynload',\n",
       "   '',\n",
       "   '/Users/mohammedhamdan/Library/Python/3.10/lib/python/site-packages',\n",
       "   '/Library/Frameworks/Python.framework/Versions/3.10/lib/python3.10/site-packages',\n",
       "   '/Users/mohammedhamdan',\n",
       "   '/Users/mohammedhamdan',\n",
       "   '/Users/mohammedhamdan',\n",
       "   '/Users/mohammedhamdan',\n",
       "   '/Users/mohammedhamdan',\n",
       "   '/Users/mohammedhamdan',\n",
       "   '/Users/mohammedhamdan'],\n",
       "  99: ['/Users/mohammedhamdan/Documents/Python_Full_Stack/Deep_Dive_Python3/Part1/ModulesPackagesNamespaces/Functional_p2',\n",
       "   '/Library/Frameworks/Python.framework/Versions/3.10/lib/python310.zip',\n",
       "   '/Library/Frameworks/Python.framework/Versions/3.10/lib/python3.10',\n",
       "   '/Library/Frameworks/Python.framework/Versions/3.10/lib/python3.10/lib-dynload',\n",
       "   '',\n",
       "   '/Users/mohammedhamdan/Library/Python/3.10/lib/python/site-packages',\n",
       "   '/Library/Frameworks/Python.framework/Versions/3.10/lib/python3.10/site-packages',\n",
       "   '/Users/mohammedhamdan',\n",
       "   '/Users/mohammedhamdan',\n",
       "   '/Users/mohammedhamdan',\n",
       "   '/Users/mohammedhamdan',\n",
       "   '/Users/mohammedhamdan',\n",
       "   '/Users/mohammedhamdan',\n",
       "   '/Users/mohammedhamdan'],\n",
       "  100: ModuleSpec(name='module2', loader=<_frozen_importlib_external.SourceFileLoader object at 0x10c98f940>, origin='/Users/mohammedhamdan/module2.py'),\n",
       "  106: ModuleSpec(name='module2', loader=<_frozen_importlib_external.SourceFileLoader object at 0x10c98f490>, origin='/Users/mohammedhamdan/module2.py'),\n",
       "  107: ['/Users/mohammedhamdan/Documents/Python_Full_Stack/Deep_Dive_Python3/Part1/ModulesPackagesNamespaces/Functional_p2',\n",
       "   '/Library/Frameworks/Python.framework/Versions/3.10/lib/python310.zip',\n",
       "   '/Library/Frameworks/Python.framework/Versions/3.10/lib/python3.10',\n",
       "   '/Library/Frameworks/Python.framework/Versions/3.10/lib/python3.10/lib-dynload',\n",
       "   '',\n",
       "   '/Users/mohammedhamdan/Library/Python/3.10/lib/python/site-packages',\n",
       "   '/Library/Frameworks/Python.framework/Versions/3.10/lib/python3.10/site-packages',\n",
       "   '/Users/mohammedhamdan',\n",
       "   '/Users/mohammedhamdan',\n",
       "   '/Users/mohammedhamdan',\n",
       "   '/Users/mohammedhamdan',\n",
       "   '/Users/mohammedhamdan',\n",
       "   '/Users/mohammedhamdan',\n",
       "   '/Users/mohammedhamdan'],\n",
       "  109: ['/Users/mohammedhamdan/Documents/Python_Full_Stack/Deep_Dive_Python3/Part1/ModulesPackagesNamespaces/Functional_p2',\n",
       "   '/Library/Frameworks/Python.framework/Versions/3.10/lib/python310.zip',\n",
       "   '/Library/Frameworks/Python.framework/Versions/3.10/lib/python3.10',\n",
       "   '/Library/Frameworks/Python.framework/Versions/3.10/lib/python3.10/lib-dynload',\n",
       "   '',\n",
       "   '/Users/mohammedhamdan/Library/Python/3.10/lib/python/site-packages',\n",
       "   '/Library/Frameworks/Python.framework/Versions/3.10/lib/python3.10/site-packages',\n",
       "   '/Users/mohammedhamdan',\n",
       "   '/Users/mohammedhamdan',\n",
       "   '/Users/mohammedhamdan',\n",
       "   '/Users/mohammedhamdan',\n",
       "   '/Users/mohammedhamdan',\n",
       "   '/Users/mohammedhamdan',\n",
       "   '/Users/mohammedhamdan'],\n",
       "  110: ModuleSpec(name='module2', loader=<_frozen_importlib_external.SourceFileLoader object at 0x10c98f490>, origin='/Users/mohammedhamdan/module2.py'),\n",
       "  112: ['/Users/mohammedhamdan/Documents/Python_Full_Stack/Deep_Dive_Python3/Part1/ModulesPackagesNamespaces/Functional_p2',\n",
       "   '/Library/Frameworks/Python.framework/Versions/3.10/lib/python310.zip',\n",
       "   '/Library/Frameworks/Python.framework/Versions/3.10/lib/python3.10',\n",
       "   '/Library/Frameworks/Python.framework/Versions/3.10/lib/python3.10/lib-dynload',\n",
       "   '',\n",
       "   '/Users/mohammedhamdan/Library/Python/3.10/lib/python/site-packages',\n",
       "   '/Library/Frameworks/Python.framework/Versions/3.10/lib/python3.10/site-packages',\n",
       "   '/Users/mohammedhamdan',\n",
       "   '/Users/mohammedhamdan',\n",
       "   '/Users/mohammedhamdan',\n",
       "   '/Users/mohammedhamdan',\n",
       "   '/Users/mohammedhamdan',\n",
       "   '/Users/mohammedhamdan',\n",
       "   '/Users/mohammedhamdan'],\n",
       "  115: False,\n",
       "  116: False,\n",
       "  118: False,\n",
       "  119: True,\n",
       "  120: 4508048720,\n",
       "  123: True,\n",
       "  125: (-0.9880316240928618+0j),\n",
       "  126: True,\n",
       "  130: {...}},\n",
       " 'get_ipython': <bound method InteractiveShell.get_ipython of <ipykernel.zmqshell.ZMQInteractiveShell object at 0x105baf160>>,\n",
       " 'exit': <IPython.core.autocall.ZMQExitAutocall at 0x105bafd90>,\n",
       " 'quit': <IPython.core.autocall.ZMQExitAutocall at 0x105bafd90>,\n",
       " 'open': <function io.open(file, mode='r', buffering=-1, encoding=None, errors=None, newline=None, closefd=True, opener=None)>,\n",
       " '_': {...},\n",
       " '__': True,\n",
       " '___': (-0.9880316240928618+0j),\n",
       " 'os': <module 'os' from '/Library/Frameworks/Python.framework/Versions/3.10/lib/python3.10/os.py'>,\n",
       " 'sys': <module 'sys' (built-in)>,\n",
       " '__vsc_ipynb_file__': '/Users/mohammedhamdan/Documents/Python_Full_Stack/Deep_Dive_Python3/Part1/ModulesPackagesNamespaces/Functional_p2/imports_importlib.ipynb',\n",
       " '_i': 'from math import *',\n",
       " '_ii': 'globals()',\n",
       " '_iii': 'from cmath import * ',\n",
       " '_i1': 'import sys',\n",
       " '_i2': 'sys',\n",
       " '_2': <module 'sys' (built-in)>,\n",
       " '_i3': 'import collections',\n",
       " 'collections': <module 'collections' from '/Library/Frameworks/Python.framework/Versions/3.10/lib/python3.10/collections/__init__.py'>,\n",
       " '_i4': 'collections',\n",
       " '_4': <module 'collections' from '/Library/Frameworks/Python.framework/Versions/3.10/lib/python3.10/collections/__init__.py'>,\n",
       " '_i5': 'import collections # packages... ',\n",
       " '_i6': 'collections',\n",
       " '_6': <module 'collections' from '/Library/Frameworks/Python.framework/Versions/3.10/lib/python3.10/collections/__init__.py'>,\n",
       " '_i7': \"mod_name = 'math'\",\n",
       " 'mod_name': 'math',\n",
       " '_i8': 'import mod_name ',\n",
       " '_i9': 'import importlib # package ',\n",
       " 'importlib': <module 'importlib' from '/Library/Frameworks/Python.framework/Versions/3.10/lib/python3.10/importlib/__init__.py'>,\n",
       " '_i10': 'importlib',\n",
       " '_10': <module 'importlib' from '/Library/Frameworks/Python.framework/Versions/3.10/lib/python3.10/importlib/__init__.py'>,\n",
       " '_i11': 'importlib.import_module(mod_name)',\n",
       " '_11': <module 'math' from '/Library/Frameworks/Python.framework/Versions/3.10/lib/python3.10/lib-dynload/math.cpython-310-darwin.so'>,\n",
       " '_i12': 'importlib.import_module(mod_name) # brings the code, excute it .. and load it to the sys module .... ',\n",
       " '_12': <module 'math' from '/Library/Frameworks/Python.framework/Versions/3.10/lib/python3.10/lib-dynload/math.cpython-310-darwin.so'>,\n",
       " '_i13': \"'math' is sys.modules\",\n",
       " '_13': False,\n",
       " '_i14': \"'math' in globals()\",\n",
       " '_14': False,\n",
       " '_i15': \"math = sys.modules('math')\",\n",
       " '_i16': \"math2 = sys.modules('math')\",\n",
       " '_i17': \"math2 = sys.modules['math']\",\n",
       " 'math2': <module 'math' from '/Library/Frameworks/Python.framework/Versions/3.10/lib/python3.10/lib-dynload/math.cpython-310-darwin.so'>,\n",
       " '_i18': 'math3 = importlib.import_module(mod_name)',\n",
       " 'math3': <module 'math' from '/Library/Frameworks/Python.framework/Versions/3.10/lib/python3.10/lib-dynload/math.cpython-310-darwin.so'>,\n",
       " '_i19': \"'math3' in globals()\",\n",
       " '_19': True,\n",
       " '_i20': 'id(math3)',\n",
       " '_20': 4340733552,\n",
       " '_i21': \"id(sys.modules['math'])\",\n",
       " '_21': 4340733552,\n",
       " '_i22': 'math3.sqrt(4)',\n",
       " '_22': 2.0,\n",
       " '_i23': 'math3',\n",
       " '_23': <module 'math' from '/Library/Frameworks/Python.framework/Versions/3.10/lib/python3.10/lib-dynload/math.cpython-310-darwin.so'>,\n",
       " '_i24': 'importlib',\n",
       " '_24': <module 'importlib' from '/Library/Frameworks/Python.framework/Versions/3.10/lib/python3.10/importlib/__init__.py'>,\n",
       " '_i25': 'import fractions',\n",
       " 'fractions': <module 'fractions' from '/Library/Frameworks/Python.framework/Versions/3.10/lib/python3.10/fractions.py'>,\n",
       " '_i26': \"fractions = importlib.import_module('fractions')\",\n",
       " '_i27': 'fractions',\n",
       " '_27': <module 'fractions' from '/Library/Frameworks/Python.framework/Versions/3.10/lib/python3.10/fractions.py'>,\n",
       " '_i28': '#pyc ... are complied file ... so file,,, dll . pyds  files... ',\n",
       " '_i29': 'import math \\nimport fractions\\nimport module1 ',\n",
       " 'math': <module 'math' from '/Library/Frameworks/Python.framework/Versions/3.10/lib/python3.10/lib-dynload/math.cpython-310-darwin.so'>,\n",
       " '_i30': 'import math \\nimport fractions\\n#import module1 ',\n",
       " '_i31': 'fractions.__spec__',\n",
       " '_31': ModuleSpec(name='fractions', loader=<_frozen_importlib_external.SourceFileLoader object at 0x1043ee950>, origin='/Library/Frameworks/Python.framework/Versions/3.10/lib/python3.10/fractions.py'),\n",
       " '_i32': 'sys.meta_path',\n",
       " '_32': [<_distutils_hack.DistutilsMetaFinder at 0x102a16020>,\n",
       "  _frozen_importlib.BuiltinImporter,\n",
       "  _frozen_importlib.FrozenImporter,\n",
       "  _frozen_importlib_external.PathFinder,\n",
       "  <six._SixMetaPathImporter at 0x103ab12a0>,\n",
       "  <pkg_resources.extern.VendorImporter at 0x1053b8580>],\n",
       " '_i33': 'sys.meta_path # finder objects ... that packages installed .. builtinimporter = importer and finder .. ',\n",
       " '_33': [<_distutils_hack.DistutilsMetaFinder at 0x102a16020>,\n",
       "  _frozen_importlib.BuiltinImporter,\n",
       "  _frozen_importlib.FrozenImporter,\n",
       "  _frozen_importlib_external.PathFinder,\n",
       "  <six._SixMetaPathImporter at 0x103ab12a0>,\n",
       "  <pkg_resources.extern.VendorImporter at 0x1053b8580>],\n",
       " '_i34': 'sys.meta_path # finder objects ... that packages installed .. builtinimporter = loader and finder .. ',\n",
       " '_34': [<_distutils_hack.DistutilsMetaFinder at 0x102a16020>,\n",
       "  _frozen_importlib.BuiltinImporter,\n",
       "  _frozen_importlib.FrozenImporter,\n",
       "  _frozen_importlib_external.PathFinder,\n",
       "  <six._SixMetaPathImporter at 0x103ab12a0>,\n",
       "  <pkg_resources.extern.VendorImporter at 0x1053b8580>],\n",
       " '_i35': 'math.__spec__',\n",
       " '_35': ModuleSpec(name='math', loader=<_frozen_importlib_external.ExtensionFileLoader object at 0x102ba83d0>, origin='/Library/Frameworks/Python.framework/Versions/3.10/lib/python3.10/lib-dynload/math.cpython-310-darwin.so'),\n",
       " '_i36': 'import module1 # builting ... loop over all pathfindersss.. None ',\n",
       " '_i37': \"importlib.util.find_spec('Decimal')\",\n",
       " '_i38': \"print(importlib.util.find_spec('Decimal'))\",\n",
       " '_i39': 'with open(\\'module1.py\\', \\'w\\') as code_file:\\n    code_file.write(\"print(\\'running module1.py...\\')\\\\n\")\\n    code_file.write(\\'a=100\\\\n\\')',\n",
       " 'code_file': <_io.TextIOWrapper name='/Users/mohammedhamdan/module2.py' mode='w' encoding='UTF-8'>,\n",
       " '_i40': \"importlib.util.find_spec('module1')\",\n",
       " '_40': ModuleSpec(name='module1', loader=<_frozen_importlib_external.SourceFileLoader object at 0x10c2abfa0>, origin='/Users/mohammedhamdan/Documents/Python_Full_Stack/Deep_Dive_Python3/Part1/ModulesPackagesNamespaces/Functional_p2/module1.py'),\n",
       " '_i41': 'import module1',\n",
       " 'module1': <module 'module1' from '/Users/mohammedhamdan/Documents/Python_Full_Stack/Deep_Dive_Python3/Part1/ModulesPackagesNamespaces/Functional_p2/module1.py'>,\n",
       " '_i42': \"'module1' in globals() # in namespace\",\n",
       " '_42': True,\n",
       " '_i43': 'module1.a',\n",
       " '_43': 100,\n",
       " '_i44': 'import os',\n",
       " '_i45': \"# environ['HOME'] linux ... \",\n",
       " '_i46': \"exg_module_path = os.environ['/Users/mohammedhamdan/Documents/Python_Full_Stack/PACKAGES/']\",\n",
       " '_i47': \"exg_module_path = os.environ['/Users/mohammedhamdan/Documents/Python_Full_Stack/PACKAGES']\",\n",
       " '_i48': \"exg_module_path = os.environ['PACKAGES']\",\n",
       " '_i49': \"exg_module_path = os.environ['./PACKAGES']\",\n",
       " '_i50': \"exg_module_path = os.environ['/PACKAGES']\",\n",
       " '_i51': \"exg_module_path = os.environ['PACKAGES']\",\n",
       " '_i52': \"exg_module_path = os.environ['HOME']\",\n",
       " 'exg_module_path': '/Users/mohammedhamdan',\n",
       " '_i53': \"exg_module_path = os.environ['USERS']\",\n",
       " '_i54': \"exg_module_path = os.environ['mohammedhamdan']\",\n",
       " '_i55': \"exg_module_path = os.environ['HOMEPATH']\",\n",
       " '_i56': \"exg_module_path = os.environ['HOME']\",\n",
       " '_i57': \"ext_module_path = os.environ['HOME']\",\n",
       " 'ext_module_path': '/Users/mohammedhamdan',\n",
       " '_i58': 'ext_module_path',\n",
       " '_58': '/Users/mohammedhamdan',\n",
       " '_i59': 'ext_module_path # root directory',\n",
       " '_59': '/Users/mohammedhamdan',\n",
       " '_i60': \"file_abs_path = os.path.join(ext_module_path, 'module2.py')\",\n",
       " 'file_abs_path': '/Users/mohammedhamdan/module2.py',\n",
       " '_i61': 'with open(file_abs_path, \\'w\\') as code_file:\\n    code_file.write(\"print(\\'running module2.py...\\')\\\\n\")\\n    code_file.write(\"X = \\'Python\\\\n\\'\")',\n",
       " '_i62': \"importlib.util.find_spec('module2')\",\n",
       " '_i63': 'sys.path',\n",
       " '_63': ['/Users/mohammedhamdan/Documents/Python_Full_Stack/Deep_Dive_Python3/Part1/ModulesPackagesNamespaces/Functional_p2',\n",
       "  '/Library/Frameworks/Python.framework/Versions/3.10/lib/python310.zip',\n",
       "  '/Library/Frameworks/Python.framework/Versions/3.10/lib/python3.10',\n",
       "  '/Library/Frameworks/Python.framework/Versions/3.10/lib/python3.10/lib-dynload',\n",
       "  '',\n",
       "  '/Users/mohammedhamdan/Library/Python/3.10/lib/python/site-packages',\n",
       "  '/Library/Frameworks/Python.framework/Versions/3.10/lib/python3.10/site-packages',\n",
       "  '/Users/mohammedhamdan',\n",
       "  '/Users/mohammedhamdan',\n",
       "  '/Users/mohammedhamdan',\n",
       "  '/Users/mohammedhamdan',\n",
       "  '/Users/mohammedhamdan',\n",
       "  '/Users/mohammedhamdan',\n",
       "  '/Users/mohammedhamdan'],\n",
       " '_i64': 'sys.path.append(ext_module_path)',\n",
       " '_i65': 'sys.path',\n",
       " '_65': ['/Users/mohammedhamdan/Documents/Python_Full_Stack/Deep_Dive_Python3/Part1/ModulesPackagesNamespaces/Functional_p2',\n",
       "  '/Library/Frameworks/Python.framework/Versions/3.10/lib/python310.zip',\n",
       "  '/Library/Frameworks/Python.framework/Versions/3.10/lib/python3.10',\n",
       "  '/Library/Frameworks/Python.framework/Versions/3.10/lib/python3.10/lib-dynload',\n",
       "  '',\n",
       "  '/Users/mohammedhamdan/Library/Python/3.10/lib/python/site-packages',\n",
       "  '/Library/Frameworks/Python.framework/Versions/3.10/lib/python3.10/site-packages',\n",
       "  '/Users/mohammedhamdan',\n",
       "  '/Users/mohammedhamdan',\n",
       "  '/Users/mohammedhamdan',\n",
       "  '/Users/mohammedhamdan',\n",
       "  '/Users/mohammedhamdan',\n",
       "  '/Users/mohammedhamdan',\n",
       "  '/Users/mohammedhamdan'],\n",
       " '_i66': \"importlib.util.find_spec('module2')\",\n",
       " '_66': ModuleSpec(name='module2', loader=<_frozen_importlib_external.SourceFileLoader object at 0x10c6be890>, origin='/Users/mohammedhamdan/module2.py'),\n",
       " '_i67': 'import module2',\n",
       " '_i68': 'import module2',\n",
       " '_i69': 'with open(file_abs_path, \\'w\\') as code_file:\\n    code_file.write(\"print(\\'running module2.py...\\')\\\\n\")\\n    code_file.write(\"X = \\'\\\\Python\\\\n\\'\")',\n",
       " '_i70': \"importlib.util.find_spec('module2')\",\n",
       " '_70': ModuleSpec(name='module2', loader=<_frozen_importlib_external.SourceFileLoader object at 0x10c4f7eb0>, origin='/Users/mohammedhamdan/module2.py'),\n",
       " '_i71': 'sys.path',\n",
       " '_71': ['/Users/mohammedhamdan/Documents/Python_Full_Stack/Deep_Dive_Python3/Part1/ModulesPackagesNamespaces/Functional_p2',\n",
       "  '/Library/Frameworks/Python.framework/Versions/3.10/lib/python310.zip',\n",
       "  '/Library/Frameworks/Python.framework/Versions/3.10/lib/python3.10',\n",
       "  '/Library/Frameworks/Python.framework/Versions/3.10/lib/python3.10/lib-dynload',\n",
       "  '',\n",
       "  '/Users/mohammedhamdan/Library/Python/3.10/lib/python/site-packages',\n",
       "  '/Library/Frameworks/Python.framework/Versions/3.10/lib/python3.10/site-packages',\n",
       "  '/Users/mohammedhamdan',\n",
       "  '/Users/mohammedhamdan',\n",
       "  '/Users/mohammedhamdan',\n",
       "  '/Users/mohammedhamdan',\n",
       "  '/Users/mohammedhamdan',\n",
       "  '/Users/mohammedhamdan',\n",
       "  '/Users/mohammedhamdan'],\n",
       " '_i72': 'sys.path.append(ext_module_path)',\n",
       " '_i73': 'sys.path',\n",
       " '_73': ['/Users/mohammedhamdan/Documents/Python_Full_Stack/Deep_Dive_Python3/Part1/ModulesPackagesNamespaces/Functional_p2',\n",
       "  '/Library/Frameworks/Python.framework/Versions/3.10/lib/python310.zip',\n",
       "  '/Library/Frameworks/Python.framework/Versions/3.10/lib/python3.10',\n",
       "  '/Library/Frameworks/Python.framework/Versions/3.10/lib/python3.10/lib-dynload',\n",
       "  '',\n",
       "  '/Users/mohammedhamdan/Library/Python/3.10/lib/python/site-packages',\n",
       "  '/Library/Frameworks/Python.framework/Versions/3.10/lib/python3.10/site-packages',\n",
       "  '/Users/mohammedhamdan',\n",
       "  '/Users/mohammedhamdan',\n",
       "  '/Users/mohammedhamdan',\n",
       "  '/Users/mohammedhamdan',\n",
       "  '/Users/mohammedhamdan',\n",
       "  '/Users/mohammedhamdan',\n",
       "  '/Users/mohammedhamdan'],\n",
       " '_i74': \"importlib.util.find_spec('module2')\",\n",
       " '_74': ModuleSpec(name='module2', loader=<_frozen_importlib_external.SourceFileLoader object at 0x10c9ac100>, origin='/Users/mohammedhamdan/module2.py'),\n",
       " '_i75': 'with open(file_abs_path, \\'w\\') as code_file:\\n    code_file.write(\"print(\\'running module2.py...\\')\\\\n\")\\n    code_file.write(\"X = \\'Python\\'\\\\n\")',\n",
       " '_i76': \"importlib.util.find_spec('module2')\",\n",
       " '_76': ModuleSpec(name='module2', loader=<_frozen_importlib_external.SourceFileLoader object at 0x10ca47be0>, origin='/Users/mohammedhamdan/module2.py'),\n",
       " '_i77': 'sys.path',\n",
       " '_77': ['/Users/mohammedhamdan/Documents/Python_Full_Stack/Deep_Dive_Python3/Part1/ModulesPackagesNamespaces/Functional_p2',\n",
       "  '/Library/Frameworks/Python.framework/Versions/3.10/lib/python310.zip',\n",
       "  '/Library/Frameworks/Python.framework/Versions/3.10/lib/python3.10',\n",
       "  '/Library/Frameworks/Python.framework/Versions/3.10/lib/python3.10/lib-dynload',\n",
       "  '',\n",
       "  '/Users/mohammedhamdan/Library/Python/3.10/lib/python/site-packages',\n",
       "  '/Library/Frameworks/Python.framework/Versions/3.10/lib/python3.10/site-packages',\n",
       "  '/Users/mohammedhamdan',\n",
       "  '/Users/mohammedhamdan',\n",
       "  '/Users/mohammedhamdan',\n",
       "  '/Users/mohammedhamdan',\n",
       "  '/Users/mohammedhamdan',\n",
       "  '/Users/mohammedhamdan',\n",
       "  '/Users/mohammedhamdan'],\n",
       " '_i78': 'sys.path.append(ext_module_path)',\n",
       " '_i79': 'sys.path',\n",
       " '_79': ['/Users/mohammedhamdan/Documents/Python_Full_Stack/Deep_Dive_Python3/Part1/ModulesPackagesNamespaces/Functional_p2',\n",
       "  '/Library/Frameworks/Python.framework/Versions/3.10/lib/python310.zip',\n",
       "  '/Library/Frameworks/Python.framework/Versions/3.10/lib/python3.10',\n",
       "  '/Library/Frameworks/Python.framework/Versions/3.10/lib/python3.10/lib-dynload',\n",
       "  '',\n",
       "  '/Users/mohammedhamdan/Library/Python/3.10/lib/python/site-packages',\n",
       "  '/Library/Frameworks/Python.framework/Versions/3.10/lib/python3.10/site-packages',\n",
       "  '/Users/mohammedhamdan',\n",
       "  '/Users/mohammedhamdan',\n",
       "  '/Users/mohammedhamdan',\n",
       "  '/Users/mohammedhamdan',\n",
       "  '/Users/mohammedhamdan',\n",
       "  '/Users/mohammedhamdan',\n",
       "  '/Users/mohammedhamdan'],\n",
       " '_i80': \"importlib.util.find_spec('module2')\",\n",
       " '_80': ModuleSpec(name='module2', loader=<_frozen_importlib_external.SourceFileLoader object at 0x10c560a60>, origin='/Users/mohammedhamdan/module2.py'),\n",
       " '_i81': \"file_abs_path = os.path.join(ext_module_path, 'module2.py')\",\n",
       " '_i82': 'with open(file_abs_path, \\'w\\') as code_file:\\n    code_file.write(\"print(\\'running module2.py...\\')\\\\n\")\\n    code_file.write(\"X = \\'Python\\'\\\\n\")',\n",
       " '_i83': \"importlib.util.find_spec('module2')\",\n",
       " '_83': ModuleSpec(name='module2', loader=<_frozen_importlib_external.SourceFileLoader object at 0x10ca47700>, origin='/Users/mohammedhamdan/module2.py'),\n",
       " '_i84': 'sys.path',\n",
       " '_84': ['/Users/mohammedhamdan/Documents/Python_Full_Stack/Deep_Dive_Python3/Part1/ModulesPackagesNamespaces/Functional_p2',\n",
       "  '/Library/Frameworks/Python.framework/Versions/3.10/lib/python310.zip',\n",
       "  '/Library/Frameworks/Python.framework/Versions/3.10/lib/python3.10',\n",
       "  '/Library/Frameworks/Python.framework/Versions/3.10/lib/python3.10/lib-dynload',\n",
       "  '',\n",
       "  '/Users/mohammedhamdan/Library/Python/3.10/lib/python/site-packages',\n",
       "  '/Library/Frameworks/Python.framework/Versions/3.10/lib/python3.10/site-packages',\n",
       "  '/Users/mohammedhamdan',\n",
       "  '/Users/mohammedhamdan',\n",
       "  '/Users/mohammedhamdan',\n",
       "  '/Users/mohammedhamdan',\n",
       "  '/Users/mohammedhamdan',\n",
       "  '/Users/mohammedhamdan',\n",
       "  '/Users/mohammedhamdan'],\n",
       " '_i85': 'sys.path.append(ext_module_path)',\n",
       " '_i86': 'sys.path',\n",
       " '_86': ['/Users/mohammedhamdan/Documents/Python_Full_Stack/Deep_Dive_Python3/Part1/ModulesPackagesNamespaces/Functional_p2',\n",
       "  '/Library/Frameworks/Python.framework/Versions/3.10/lib/python310.zip',\n",
       "  '/Library/Frameworks/Python.framework/Versions/3.10/lib/python3.10',\n",
       "  '/Library/Frameworks/Python.framework/Versions/3.10/lib/python3.10/lib-dynload',\n",
       "  '',\n",
       "  '/Users/mohammedhamdan/Library/Python/3.10/lib/python/site-packages',\n",
       "  '/Library/Frameworks/Python.framework/Versions/3.10/lib/python3.10/site-packages',\n",
       "  '/Users/mohammedhamdan',\n",
       "  '/Users/mohammedhamdan',\n",
       "  '/Users/mohammedhamdan',\n",
       "  '/Users/mohammedhamdan',\n",
       "  '/Users/mohammedhamdan',\n",
       "  '/Users/mohammedhamdan',\n",
       "  '/Users/mohammedhamdan'],\n",
       " '_i87': \"importlib.util.find_spec('module2')\",\n",
       " '_87': ModuleSpec(name='module2', loader=<_frozen_importlib_external.SourceFileLoader object at 0x10c32dba0>, origin='/Users/mohammedhamdan/module2.py'),\n",
       " '_i88': 'with open(file_abs_path, \\'w\\') as code_file:\\n    code_file.write(\"print(\\'running module2.py...\\')\\\\n\")\\n    code_file.write(\"Python\")',\n",
       " '_i89': \"importlib.util.find_spec('module2')\",\n",
       " '_89': ModuleSpec(name='module2', loader=<_frozen_importlib_external.SourceFileLoader object at 0x10ca47f10>, origin='/Users/mohammedhamdan/module2.py'),\n",
       " '_i90': 'sys.path',\n",
       " '_90': ['/Users/mohammedhamdan/Documents/Python_Full_Stack/Deep_Dive_Python3/Part1/ModulesPackagesNamespaces/Functional_p2',\n",
       "  '/Library/Frameworks/Python.framework/Versions/3.10/lib/python310.zip',\n",
       "  '/Library/Frameworks/Python.framework/Versions/3.10/lib/python3.10',\n",
       "  '/Library/Frameworks/Python.framework/Versions/3.10/lib/python3.10/lib-dynload',\n",
       "  '',\n",
       "  '/Users/mohammedhamdan/Library/Python/3.10/lib/python/site-packages',\n",
       "  '/Library/Frameworks/Python.framework/Versions/3.10/lib/python3.10/site-packages',\n",
       "  '/Users/mohammedhamdan',\n",
       "  '/Users/mohammedhamdan',\n",
       "  '/Users/mohammedhamdan',\n",
       "  '/Users/mohammedhamdan',\n",
       "  '/Users/mohammedhamdan',\n",
       "  '/Users/mohammedhamdan',\n",
       "  '/Users/mohammedhamdan'],\n",
       " '_i91': 'sys.path.append(ext_module_path)',\n",
       " '_i92': 'sys.path',\n",
       " '_92': ['/Users/mohammedhamdan/Documents/Python_Full_Stack/Deep_Dive_Python3/Part1/ModulesPackagesNamespaces/Functional_p2',\n",
       "  '/Library/Frameworks/Python.framework/Versions/3.10/lib/python310.zip',\n",
       "  '/Library/Frameworks/Python.framework/Versions/3.10/lib/python3.10',\n",
       "  '/Library/Frameworks/Python.framework/Versions/3.10/lib/python3.10/lib-dynload',\n",
       "  '',\n",
       "  '/Users/mohammedhamdan/Library/Python/3.10/lib/python/site-packages',\n",
       "  '/Library/Frameworks/Python.framework/Versions/3.10/lib/python3.10/site-packages',\n",
       "  '/Users/mohammedhamdan',\n",
       "  '/Users/mohammedhamdan',\n",
       "  '/Users/mohammedhamdan',\n",
       "  '/Users/mohammedhamdan',\n",
       "  '/Users/mohammedhamdan',\n",
       "  '/Users/mohammedhamdan',\n",
       "  '/Users/mohammedhamdan'],\n",
       " '_i93': \"importlib.util.find_spec('module2')\",\n",
       " '_93': ModuleSpec(name='module2', loader=<_frozen_importlib_external.SourceFileLoader object at 0x10ca44790>, origin='/Users/mohammedhamdan/module2.py'),\n",
       " '_i94': 'import module2',\n",
       " '_i95': 'with open(file_abs_path, \\'w\\') as code_file:\\n    code_file.write(\"print(\\'running module2.py...\\')\\\\n\")\\n    code_file.write(\"X = \\'Python\\'\\\\n\")',\n",
       " '_i96': \"importlib.util.find_spec('module2')\",\n",
       " '_96': ModuleSpec(name='module2', loader=<_frozen_importlib_external.SourceFileLoader object at 0x10c739450>, origin='/Users/mohammedhamdan/module2.py'),\n",
       " '_i97': 'sys.path',\n",
       " '_97': ['/Users/mohammedhamdan/Documents/Python_Full_Stack/Deep_Dive_Python3/Part1/ModulesPackagesNamespaces/Functional_p2',\n",
       "  '/Library/Frameworks/Python.framework/Versions/3.10/lib/python310.zip',\n",
       "  '/Library/Frameworks/Python.framework/Versions/3.10/lib/python3.10',\n",
       "  '/Library/Frameworks/Python.framework/Versions/3.10/lib/python3.10/lib-dynload',\n",
       "  '',\n",
       "  '/Users/mohammedhamdan/Library/Python/3.10/lib/python/site-packages',\n",
       "  '/Library/Frameworks/Python.framework/Versions/3.10/lib/python3.10/site-packages',\n",
       "  '/Users/mohammedhamdan',\n",
       "  '/Users/mohammedhamdan',\n",
       "  '/Users/mohammedhamdan',\n",
       "  '/Users/mohammedhamdan',\n",
       "  '/Users/mohammedhamdan',\n",
       "  '/Users/mohammedhamdan',\n",
       "  '/Users/mohammedhamdan'],\n",
       " '_i98': 'sys.path.append(ext_module_path)',\n",
       " '_i99': 'sys.path',\n",
       " '_99': ['/Users/mohammedhamdan/Documents/Python_Full_Stack/Deep_Dive_Python3/Part1/ModulesPackagesNamespaces/Functional_p2',\n",
       "  '/Library/Frameworks/Python.framework/Versions/3.10/lib/python310.zip',\n",
       "  '/Library/Frameworks/Python.framework/Versions/3.10/lib/python3.10',\n",
       "  '/Library/Frameworks/Python.framework/Versions/3.10/lib/python3.10/lib-dynload',\n",
       "  '',\n",
       "  '/Users/mohammedhamdan/Library/Python/3.10/lib/python/site-packages',\n",
       "  '/Library/Frameworks/Python.framework/Versions/3.10/lib/python3.10/site-packages',\n",
       "  '/Users/mohammedhamdan',\n",
       "  '/Users/mohammedhamdan',\n",
       "  '/Users/mohammedhamdan',\n",
       "  '/Users/mohammedhamdan',\n",
       "  '/Users/mohammedhamdan',\n",
       "  '/Users/mohammedhamdan',\n",
       "  '/Users/mohammedhamdan'],\n",
       " '_i100': \"importlib.util.find_spec('module2')\",\n",
       " '_100': ModuleSpec(name='module2', loader=<_frozen_importlib_external.SourceFileLoader object at 0x10c98f940>, origin='/Users/mohammedhamdan/module2.py'),\n",
       " '_i101': 'import module2',\n",
       " 'module2': <module 'module2' from '/Users/mohammedhamdan/module2.py'>,\n",
       " '_i102': \"extPath = os.environ['/Users/mohammedhamdan']\",\n",
       " '_i103': \"extPath = os.environ['/Users/mohammedhamdan/']\",\n",
       " '_i104': \"file_abs_path = os.path.join(ext_module_path, 'module2.py')\",\n",
       " '_i105': 'with open(file_abs_path, \\'w\\') as code_file:\\n    code_file.write(\"print(\\'running module2.py...\\')\\\\n\")\\n    code_file.write(\"X = \\'Python\\'\\\\n\")',\n",
       " '_i106': \"importlib.util.find_spec('module2')\",\n",
       " '_106': ModuleSpec(name='module2', loader=<_frozen_importlib_external.SourceFileLoader object at 0x10c98f490>, origin='/Users/mohammedhamdan/module2.py'),\n",
       " '_i107': 'sys.path',\n",
       " '_107': ['/Users/mohammedhamdan/Documents/Python_Full_Stack/Deep_Dive_Python3/Part1/ModulesPackagesNamespaces/Functional_p2',\n",
       "  '/Library/Frameworks/Python.framework/Versions/3.10/lib/python310.zip',\n",
       "  '/Library/Frameworks/Python.framework/Versions/3.10/lib/python3.10',\n",
       "  '/Library/Frameworks/Python.framework/Versions/3.10/lib/python3.10/lib-dynload',\n",
       "  '',\n",
       "  '/Users/mohammedhamdan/Library/Python/3.10/lib/python/site-packages',\n",
       "  '/Library/Frameworks/Python.framework/Versions/3.10/lib/python3.10/site-packages',\n",
       "  '/Users/mohammedhamdan',\n",
       "  '/Users/mohammedhamdan',\n",
       "  '/Users/mohammedhamdan',\n",
       "  '/Users/mohammedhamdan',\n",
       "  '/Users/mohammedhamdan',\n",
       "  '/Users/mohammedhamdan',\n",
       "  '/Users/mohammedhamdan'],\n",
       " '_i108': 'sys.path.append(ext_module_path)',\n",
       " '_i109': 'sys.path',\n",
       " '_109': ['/Users/mohammedhamdan/Documents/Python_Full_Stack/Deep_Dive_Python3/Part1/ModulesPackagesNamespaces/Functional_p2',\n",
       "  '/Library/Frameworks/Python.framework/Versions/3.10/lib/python310.zip',\n",
       "  '/Library/Frameworks/Python.framework/Versions/3.10/lib/python3.10',\n",
       "  '/Library/Frameworks/Python.framework/Versions/3.10/lib/python3.10/lib-dynload',\n",
       "  '',\n",
       "  '/Users/mohammedhamdan/Library/Python/3.10/lib/python/site-packages',\n",
       "  '/Library/Frameworks/Python.framework/Versions/3.10/lib/python3.10/site-packages',\n",
       "  '/Users/mohammedhamdan',\n",
       "  '/Users/mohammedhamdan',\n",
       "  '/Users/mohammedhamdan',\n",
       "  '/Users/mohammedhamdan',\n",
       "  '/Users/mohammedhamdan',\n",
       "  '/Users/mohammedhamdan',\n",
       "  '/Users/mohammedhamdan'],\n",
       " '_i110': \"importlib.util.find_spec('module2')\",\n",
       " '_110': ModuleSpec(name='module2', loader=<_frozen_importlib_external.SourceFileLoader object at 0x10c98f490>, origin='/Users/mohammedhamdan/module2.py'),\n",
       " '_i111': 'import module2',\n",
       " '_i112': 'sys.path',\n",
       " '_112': ['/Users/mohammedhamdan/Documents/Python_Full_Stack/Deep_Dive_Python3/Part1/ModulesPackagesNamespaces/Functional_p2',\n",
       "  '/Library/Frameworks/Python.framework/Versions/3.10/lib/python310.zip',\n",
       "  '/Library/Frameworks/Python.framework/Versions/3.10/lib/python3.10',\n",
       "  '/Library/Frameworks/Python.framework/Versions/3.10/lib/python3.10/lib-dynload',\n",
       "  '',\n",
       "  '/Users/mohammedhamdan/Library/Python/3.10/lib/python/site-packages',\n",
       "  '/Library/Frameworks/Python.framework/Versions/3.10/lib/python3.10/site-packages',\n",
       "  '/Users/mohammedhamdan',\n",
       "  '/Users/mohammedhamdan',\n",
       "  '/Users/mohammedhamdan',\n",
       "  '/Users/mohammedhamdan',\n",
       "  '/Users/mohammedhamdan',\n",
       "  '/Users/mohammedhamdan',\n",
       "  '/Users/mohammedhamdan'],\n",
       " '_i113': 'import sys',\n",
       " '_i114': 'for key in sorted(sys.modules.keys()):\\n    print(key)',\n",
       " 'key': 'zmq.utils.jsonapi',\n",
       " '_i115': \"'cmath' is sys.modules\",\n",
       " '_115': False,\n",
       " '_i116': \"'cmath' in globals()\",\n",
       " '_116': False,\n",
       " '_i117': 'from cmath import exp',\n",
       " 'exp': <function math.exp(x, /)>,\n",
       " '_i118': \"'cmath' in globals()\",\n",
       " '_118': False,\n",
       " '_i119': \"'exp' in globals()\",\n",
       " '_119': True,\n",
       " '_i120': 'id(exp)',\n",
       " '_120': 4508048720,\n",
       " '_i121': \"'cmath' in sys.modules()\",\n",
       " '_i122': \"'cmath' in sys.module\",\n",
       " '_i123': \"'cmath' in sys.modules\",\n",
       " '_123': True,\n",
       " '_i124': \"# we don't have cmath as a label in teh globals name space \\n\\n\\ncmath = sys.modules['cmath']\",\n",
       " 'cmath': <module 'cmath' from '/Library/Frameworks/Python.framework/Versions/3.10/lib/python3.10/lib-dynload/cmath.cpython-310-darwin.so'>,\n",
       " '_i125': 'cmath.sin(30)',\n",
       " '_125': (-0.9880316240928618+0j),\n",
       " '_i126': \"'cmath' in globals()\",\n",
       " '_126': True,\n",
       " '_i127': 'from cmath import sine # Python import the entier module to sys but not namesapce ',\n",
       " '_i128': 'from cmath import sin # Python import the entier module to sys but not namesapce ',\n",
       " 'sin': <function math.sin(x, /)>,\n",
       " '_i129': 'from cmath import * ',\n",
       " 'acos': <function math.acos(x, /)>,\n",
       " 'acosh': <function math.acosh(x, /)>,\n",
       " 'asin': <function math.asin(x, /)>,\n",
       " 'asinh': <function math.asinh(x, /)>,\n",
       " 'atan': <function math.atan(x, /)>,\n",
       " 'atanh': <function math.atanh(x, /)>,\n",
       " 'cos': <function math.cos(x, /)>,\n",
       " 'cosh': <function math.cosh(x, /)>,\n",
       " 'isclose': <function math.isclose(a, b, *, rel_tol=1e-09, abs_tol=0.0)>,\n",
       " 'isfinite': <function math.isfinite(x, /)>,\n",
       " 'isinf': <function math.isinf(x, /)>,\n",
       " 'isnan': <function math.isnan(x, /)>,\n",
       " 'log': <function math.log>,\n",
       " 'log10': <function math.log10(x, /)>,\n",
       " 'phase': <function cmath.phase(z, /)>,\n",
       " 'polar': <function cmath.polar(z, /)>,\n",
       " 'rect': <function cmath.rect(r, phi, /)>,\n",
       " 'sinh': <function math.sinh(x, /)>,\n",
       " 'sqrt': <function math.sqrt(x, /)>,\n",
       " 'tan': <function math.tan(x, /)>,\n",
       " 'tanh': <function math.tanh(x, /)>,\n",
       " 'pi': 3.141592653589793,\n",
       " 'e': 2.718281828459045,\n",
       " 'tau': 6.283185307179586,\n",
       " 'inf': inf,\n",
       " 'infj': infj,\n",
       " 'nan': nan,\n",
       " 'nanj': nanj,\n",
       " '_i130': 'globals()',\n",
       " '_130': {...},\n",
       " '_i131': 'from math import *',\n",
       " 'atan2': <function math.atan2(y, x, /)>,\n",
       " 'ceil': <function math.ceil(x, /)>,\n",
       " 'copysign': <function math.copysign(x, y, /)>,\n",
       " 'degrees': <function math.degrees(x, /)>,\n",
       " 'dist': <function math.dist(p, q, /)>,\n",
       " 'erf': <function math.erf(x, /)>,\n",
       " 'erfc': <function math.erfc(x, /)>,\n",
       " 'expm1': <function math.expm1(x, /)>,\n",
       " 'fabs': <function math.fabs(x, /)>,\n",
       " 'factorial': <function math.factorial(x, /)>,\n",
       " 'floor': <function math.floor(x, /)>,\n",
       " 'fmod': <function math.fmod(x, y, /)>,\n",
       " 'frexp': <function math.frexp(x, /)>,\n",
       " 'fsum': <function math.fsum(seq, /)>,\n",
       " 'gamma': <function math.gamma(x, /)>,\n",
       " 'gcd': <function math.gcd(*integers)>,\n",
       " 'hypot': <function math.hypot>,\n",
       " 'isqrt': <function math.isqrt(n, /)>,\n",
       " 'lcm': <function math.lcm(*integers)>,\n",
       " 'ldexp': <function math.ldexp(x, i, /)>,\n",
       " 'lgamma': <function math.lgamma(x, /)>,\n",
       " 'log1p': <function math.log1p(x, /)>,\n",
       " 'log2': <function math.log2(x, /)>,\n",
       " 'modf': <function math.modf(x, /)>,\n",
       " 'pow': <function math.pow(x, y, /)>,\n",
       " 'radians': <function math.radians(x, /)>,\n",
       " 'remainder': <function math.remainder(x, y, /)>,\n",
       " 'trunc': <function math.trunc(x, /)>,\n",
       " 'prod': <function math.prod(iterable, /, *, start=1)>,\n",
       " 'perm': <function math.perm(n, k=None, /)>,\n",
       " 'comb': <function math.comb(n, k, /)>,\n",
       " 'nextafter': <function math.nextafter(x, y, /)>,\n",
       " 'ulp': <function math.ulp(x, /)>,\n",
       " '_i132': 'globals()'}"
      ]
     },
     "execution_count": 132,
     "metadata": {},
     "output_type": "execute_result"
    }
   ],
   "source": [
    "globals()"
   ]
  },
  {
   "cell_type": "code",
   "execution_count": 133,
   "metadata": {},
   "outputs": [
    {
     "ename": "TypeError",
     "evalue": "must be real number, not complex",
     "output_type": "error",
     "traceback": [
      "\u001b[0;31m---------------------------------------------------------------------------\u001b[0m",
      "\u001b[0;31mTypeError\u001b[0m                                 Traceback (most recent call last)",
      "Cell \u001b[0;32mIn [133], line 1\u001b[0m\n\u001b[0;32m----> 1\u001b[0m sin(\u001b[39m2\u001b[39;49m\u001b[39m+\u001b[39;49m\u001b[39m2\u001b[39;49mj)\n",
      "\u001b[0;31mTypeError\u001b[0m: must be real number, not complex"
     ]
    }
   ],
   "source": [
    "sin(2+2j)"
   ]
  },
  {
   "cell_type": "code",
   "execution_count": 134,
   "metadata": {},
   "outputs": [],
   "source": [
    "from time import perf_counter"
   ]
  },
  {
   "cell_type": "code",
   "execution_count": 135,
   "metadata": {},
   "outputs": [
    {
     "data": {
      "text/plain": [
       "137134.534380481"
      ]
     },
     "execution_count": 135,
     "metadata": {},
     "output_type": "execute_result"
    }
   ],
   "source": [
    "perf_counter()"
   ]
  },
  {
   "cell_type": "code",
   "execution_count": 136,
   "metadata": {},
   "outputs": [
    {
     "data": {
      "text/plain": [
       "137139.246002178"
      ]
     },
     "execution_count": 136,
     "metadata": {},
     "output_type": "execute_result"
    }
   ],
   "source": [
    "perf_counter()"
   ]
  },
  {
   "cell_type": "code",
   "execution_count": 137,
   "metadata": {},
   "outputs": [
    {
     "data": {
      "text/plain": [
       "False"
      ]
     },
     "execution_count": 137,
     "metadata": {},
     "output_type": "execute_result"
    }
   ],
   "source": [
    "'time' in globals()"
   ]
  },
  {
   "cell_type": "code",
   "execution_count": 138,
   "metadata": {},
   "outputs": [],
   "source": [
    "from cmath import sin"
   ]
  },
  {
   "cell_type": "code",
   "execution_count": 139,
   "metadata": {},
   "outputs": [],
   "source": [
    "from math import sin"
   ]
  },
  {
   "cell_type": "code",
   "execution_count": 140,
   "metadata": {},
   "outputs": [
    {
     "data": {
      "text/plain": [
       "<function math.sin(x, /)>"
      ]
     },
     "execution_count": 140,
     "metadata": {},
     "output_type": "execute_result"
    }
   ],
   "source": [
    "sin"
   ]
  },
  {
   "cell_type": "code",
   "execution_count": 141,
   "metadata": {},
   "outputs": [],
   "source": [
    "# alias\n",
    "from cmath import sin as c_sin \n",
    "from math import sin as r_sin"
   ]
  },
  {
   "cell_type": "code",
   "execution_count": 142,
   "metadata": {},
   "outputs": [
    {
     "data": {
      "text/plain": [
       "<function math.sin(x, /)>"
      ]
     },
     "execution_count": 142,
     "metadata": {},
     "output_type": "execute_result"
    }
   ],
   "source": [
    "r_sin"
   ]
  },
  {
   "cell_type": "markdown",
   "metadata": {},
   "source": [
    "# Efficiency"
   ]
  },
  {
   "cell_type": "code",
   "execution_count": 143,
   "metadata": {},
   "outputs": [],
   "source": [
    "def my_fun(a):\n",
    "    import math # the first is imported ... the second time ... look at sys module .. it finds so reload but fgit the rfence to the name sapce \n",
    "    from collections import namedtuple # retrun multiple values from a function ... \n",
    "    #local() # name space .. \n",
    "    import math \n",
    "    return math.sqrt(a)"
   ]
  },
  {
   "cell_type": "code",
   "execution_count": 144,
   "metadata": {},
   "outputs": [],
   "source": [
    "from time import perf_counter"
   ]
  },
  {
   "cell_type": "code",
   "execution_count": 145,
   "metadata": {},
   "outputs": [],
   "source": [
    "from collections import namedtuple"
   ]
  },
  {
   "cell_type": "code",
   "execution_count": 146,
   "metadata": {},
   "outputs": [],
   "source": [
    "Timings = namedtuple('Timig', 'timing_1 timing_2, abs_diff rel_diff_perc')"
   ]
  },
  {
   "cell_type": "code",
   "execution_count": 147,
   "metadata": {},
   "outputs": [],
   "source": [
    "def compare_timing(timing1, timing2):\n",
    "    rel_diff = (timing2 - timing1) / timing1 * 100 \n",
    "    \n",
    "    timings = Timings(round(timing1, 1),\n",
    "                      round(timing2, 1),\n",
    "                      round(timing2-timing1, 1),\n",
    "                      round(rel_diff, 2))\n",
    "    \n",
    "    return timings "
   ]
  },
  {
   "cell_type": "code",
   "execution_count": 149,
   "metadata": {},
   "outputs": [
    {
     "data": {
      "text/plain": [
       "Timig(timing_1=1, timing_2=2, abs_diff=1, rel_diff_perc=100.0)"
      ]
     },
     "execution_count": 149,
     "metadata": {},
     "output_type": "execute_result"
    }
   ],
   "source": [
    "compare_timing(1, 2) # abs vs rel ... abs diff .. rel .. of 100 when my abs micro sec does not affacet "
   ]
  },
  {
   "cell_type": "code",
   "execution_count": 150,
   "metadata": {},
   "outputs": [],
   "source": [
    "test_repeats = 10_000_000"
   ]
  },
  {
   "cell_type": "markdown",
   "metadata": {},
   "source": [
    "# Timing using fully qualified moduel.symbol"
   ]
  },
  {
   "cell_type": "code",
   "execution_count": 151,
   "metadata": {},
   "outputs": [
    {
     "name": "stdout",
     "output_type": "stream",
     "text": [
      "Elapsed: 1.5967853600159287\n"
     ]
    }
   ],
   "source": [
    "import math \n",
    "\n",
    "start = perf_counter()\n",
    "\n",
    "for _ in range(test_repeats):\n",
    "    math.sqrt(2) # full qu mdoule.symob\n",
    "end = perf_counter()\n",
    "\n",
    "elapsed_fully_qualified = end - start \n",
    "print(f'Elapsed: {elapsed_fully_qualified}')"
   ]
  },
  {
   "cell_type": "code",
   "execution_count": 154,
   "metadata": {},
   "outputs": [
    {
     "name": "stdout",
     "output_type": "stream",
     "text": [
      "Elapsed: 1.2708740849921014\n"
     ]
    }
   ],
   "source": [
    "# timing using a direcotly from symobl anme\n",
    "from math import sqrt \n",
    "\n",
    "start = perf_counter()\n",
    "\n",
    "for _ in range(test_repeats):\n",
    "    sqrt(2) # from direct symob\n",
    "end = perf_counter()\n",
    "\n",
    "elapsed_direct_qualified = end - start \n",
    "print(f'Elapsed: {elapsed_direct_qualified}')"
   ]
  },
  {
   "cell_type": "code",
   "execution_count": 156,
   "metadata": {},
   "outputs": [
    {
     "data": {
      "text/plain": [
       "Timig(timing_1=1.6, timing_2=1.3, abs_diff=-0.3, rel_diff_perc=-20.41)"
      ]
     },
     "execution_count": 156,
     "metadata": {},
     "output_type": "execute_result"
    }
   ],
   "source": [
    "compare_timing(elapsed_fully_qualified, elapsed_direct_qualified) # no major diffence ... sqr vs math.sqrt "
   ]
  },
  {
   "cell_type": "code",
   "execution_count": 157,
   "metadata": {},
   "outputs": [],
   "source": [
    "#### Timing using wrapper (fully qualified symbos)"
   ]
  },
  {
   "cell_type": "code",
   "execution_count": 158,
   "metadata": {},
   "outputs": [],
   "source": [
    "import math \n",
    "\n",
    "def func():\n",
    "    math.sqrt(2)"
   ]
  },
  {
   "cell_type": "code",
   "execution_count": 160,
   "metadata": {},
   "outputs": [
    {
     "name": "stdout",
     "output_type": "stream",
     "text": [
      "Elapsed: 2.462687644001562\n"
     ]
    }
   ],
   "source": [
    "start = perf_counter()\n",
    "\n",
    "start = perf_counter()\n",
    "\n",
    "for _ in range(test_repeats):\n",
    "    func()\n",
    "end = perf_counter()\n",
    "\n",
    "elapsed_func_fully_qualified = end - start \n",
    "print(f'Elapsed: {elapsed_func_fully_qualified}')\n"
   ]
  },
  {
   "cell_type": "code",
   "execution_count": 161,
   "metadata": {},
   "outputs": [
    {
     "name": "stdout",
     "output_type": "stream",
     "text": [
      "Elapsed: 2.1529856659763027\n"
     ]
    }
   ],
   "source": [
    "from math import sqrt\n",
    "def func():\n",
    "    sqrt(2)\n",
    "    \n",
    "start = perf_counter()\n",
    "\n",
    "for _ in range(test_repeats):\n",
    "    func()\n",
    "end = perf_counter()\n",
    "\n",
    "elapsed_func_direct_qualified = end - start \n",
    "print(f'Elapsed: {elapsed_func_direct_qualified}')"
   ]
  },
  {
   "cell_type": "code",
   "execution_count": 162,
   "metadata": {},
   "outputs": [
    {
     "data": {
      "text/plain": [
       "Timig(timing_1=2.5, timing_2=2.2, abs_diff=-0.3, rel_diff_perc=-12.58)"
      ]
     },
     "execution_count": 162,
     "metadata": {},
     "output_type": "execute_result"
    }
   ],
   "source": [
    "compare_timing(elapsed_func_fully_qualified, elapsed_func_direct_qualified)"
   ]
  },
  {
   "cell_type": "markdown",
   "metadata": {},
   "source": [
    "# Nested ... imports "
   ]
  },
  {
   "cell_type": "code",
   "execution_count": 163,
   "metadata": {},
   "outputs": [
    {
     "name": "stdout",
     "output_type": "stream",
     "text": [
      "Elapsed: 3.8139109130133875\n"
     ]
    }
   ],
   "source": [
    "\n",
    "def func():\n",
    "    import math # is a little slower \n",
    "    \n",
    "    math.sqrt(2)\n",
    "start = perf_counter()\n",
    "\n",
    "for _ in range(test_repeats):\n",
    "    func()\n",
    "end = perf_counter()\n",
    "\n",
    "elapsed_nested_func_fully_qualified = end - start \n",
    "print(f'Elapsed: {elapsed_nested_func_fully_qualified}')"
   ]
  },
  {
   "cell_type": "code",
   "execution_count": 164,
   "metadata": {},
   "outputs": [
    {
     "data": {
      "text/plain": [
       "Timig(timing_1=3.8, timing_2=1.6, abs_diff=-2.2, rel_diff_perc=-58.13)"
      ]
     },
     "execution_count": 164,
     "metadata": {},
     "output_type": "execute_result"
    }
   ],
   "source": [
    "compare_timing(elapsed_nested_func_fully_qualified, elapsed_fully_qualified) "
   ]
  },
  {
   "cell_type": "code",
   "execution_count": 166,
   "metadata": {},
   "outputs": [
    {
     "name": "stdout",
     "output_type": "stream",
     "text": [
      "Elapsed: 10.598812812997494\n"
     ]
    }
   ],
   "source": [
    "\n",
    "def func():\n",
    "    from math  import sqrt # is a little slower \n",
    "    \n",
    "    sqrt(2)\n",
    "start = perf_counter()\n",
    "\n",
    "for _ in range(test_repeats):\n",
    "    func()\n",
    "end = perf_counter()\n",
    "\n",
    "elapsed_nested_func_direct_qualified = end - start \n",
    "print(f'Elapsed: {elapsed_nested_func_direct_qualified}')"
   ]
  },
  {
   "cell_type": "code",
   "execution_count": 167,
   "metadata": {},
   "outputs": [
    {
     "data": {
      "text/plain": [
       "Timig(timing_1=3.8, timing_2=10.6, abs_diff=6.8, rel_diff_perc=177.9)"
      ]
     },
     "execution_count": 167,
     "metadata": {},
     "output_type": "execute_result"
    }
   ],
   "source": [
    "compare_timing(elapsed_nested_func_fully_qualified, elapsed_nested_func_direct_qualified)"
   ]
  },
  {
   "cell_type": "markdown",
   "metadata": {},
   "source": [
    "# Reloading modules ... "
   ]
  },
  {
   "cell_type": "code",
   "execution_count": 168,
   "metadata": {},
   "outputs": [],
   "source": [
    "import os "
   ]
  },
  {
   "cell_type": "code",
   "execution_count": 169,
   "metadata": {},
   "outputs": [],
   "source": [
    "def create_module_file(module_name, **kwargs):\n",
    "    '''Create a module file named <module_name>.p \n",
    "    Module has a single function (print_values) that will print \n",
    "    out the suppliked (stringified) kwargs.\n",
    "    '''\n",
    "    \n",
    "    \n",
    "    module_file_name = f'{module_name}.py'\n",
    "    #module_vile_name = '{0}.py'.format(module_name)\n",
    "    module_rel_file_path = module_file_name\n",
    "    module_abs_file_path = os.path.abspath(module_rel_file_path)\n",
    "    \n",
    "    \n",
    "    with open(module_abs_file_path, 'w') as f:\n",
    "        f.write(f' # {module_name}.py \\n\\n')\n",
    "        f.write(f\"print('running {module_file_name}....') \\n\\n\")\n",
    "        f.write(f'def print_values():\\n')\n",
    "        for key, value in kwargs.items():\n",
    "            f.write(f\"\\tprint('{str(key)}', '{str(value)}')\\n\")\n",
    "            \n",
    "            \n",
    "\n",
    "    \n",
    "    "
   ]
  },
  {
   "cell_type": "code",
   "execution_count": 170,
   "metadata": {},
   "outputs": [],
   "source": [
    "create_module_file('test', k1=10, k2='Python')"
   ]
  },
  {
   "cell_type": "code",
   "execution_count": 171,
   "metadata": {},
   "outputs": [
    {
     "name": "stdout",
     "output_type": "stream",
     "text": [
      "running test.py....\n"
     ]
    }
   ],
   "source": [
    "import test"
   ]
  },
  {
   "cell_type": "code",
   "execution_count": 173,
   "metadata": {},
   "outputs": [
    {
     "name": "stdout",
     "output_type": "stream",
     "text": [
      "k1 10\n",
      "k2 Python\n"
     ]
    }
   ],
   "source": [
    "test.print_values()"
   ]
  },
  {
   "cell_type": "code",
   "execution_count": 174,
   "metadata": {},
   "outputs": [],
   "source": [
    "create_module_file('test', k1=10, k2=\"Python\", k3=\"Math\")"
   ]
  },
  {
   "cell_type": "code",
   "execution_count": 175,
   "metadata": {},
   "outputs": [],
   "source": [
    "# reimport \n",
    "\n",
    "import test"
   ]
  },
  {
   "cell_type": "code",
   "execution_count": 177,
   "metadata": {},
   "outputs": [
    {
     "name": "stdout",
     "output_type": "stream",
     "text": [
      "k1 10\n",
      "k2 Python\n"
     ]
    }
   ],
   "source": [
    "test.print_values()"
   ]
  },
  {
   "cell_type": "code",
   "execution_count": 178,
   "metadata": {},
   "outputs": [
    {
     "data": {
      "text/plain": [
       "4507270208"
      ]
     },
     "execution_count": 178,
     "metadata": {},
     "output_type": "execute_result"
    }
   ],
   "source": [
    "id(test)"
   ]
  },
  {
   "cell_type": "code",
   "execution_count": 179,
   "metadata": {},
   "outputs": [],
   "source": [
    "import sys"
   ]
  },
  {
   "cell_type": "code",
   "execution_count": 180,
   "metadata": {},
   "outputs": [
    {
     "data": {
      "text/plain": [
       "True"
      ]
     },
     "execution_count": 180,
     "metadata": {},
     "output_type": "execute_result"
    }
   ],
   "source": [
    "'test' in sys.modules"
   ]
  },
  {
   "cell_type": "code",
   "execution_count": 181,
   "metadata": {},
   "outputs": [],
   "source": [
    "# delete test ... ensure ... the other ... \n",
    "del sys.modules['test']"
   ]
  },
  {
   "cell_type": "code",
   "execution_count": 182,
   "metadata": {},
   "outputs": [
    {
     "data": {
      "text/plain": [
       "False"
      ]
     },
     "execution_count": 182,
     "metadata": {},
     "output_type": "execute_result"
    }
   ],
   "source": [
    "'test' in sys.modules"
   ]
  },
  {
   "cell_type": "code",
   "execution_count": 183,
   "metadata": {},
   "outputs": [
    {
     "name": "stdout",
     "output_type": "stream",
     "text": [
      "running test.py....\n"
     ]
    }
   ],
   "source": [
    "import test"
   ]
  },
  {
   "cell_type": "code",
   "execution_count": 184,
   "metadata": {},
   "outputs": [
    {
     "data": {
      "text/plain": [
       "4497138016"
      ]
     },
     "execution_count": 184,
     "metadata": {},
     "output_type": "execute_result"
    }
   ],
   "source": [
    "id(test)"
   ]
  },
  {
   "cell_type": "code",
   "execution_count": 185,
   "metadata": {},
   "outputs": [
    {
     "name": "stdout",
     "output_type": "stream",
     "text": [
      "k1 10\n",
      "k2 Python\n",
      "k3 Math\n"
     ]
    }
   ],
   "source": [
    "test.print_values()"
   ]
  },
  {
   "cell_type": "code",
   "execution_count": 186,
   "metadata": {},
   "outputs": [
    {
     "name": "stderr",
     "output_type": "stream",
     "text": [
      "<>:1: SyntaxWarning: \"is\" with a literal. Did you mean \"==\"?\n",
      "<>:1: SyntaxWarning: \"is\" with a literal. Did you mean \"==\"?\n",
      "/var/folders/gk/qmm3q5ld1b74kcdmh5pnm1xw0000gn/T/ipykernel_83845/1205818232.py:1: SyntaxWarning: \"is\" with a literal. Did you mean \"==\"?\n",
      "  'test' is globals()\n"
     ]
    },
    {
     "data": {
      "text/plain": [
       "False"
      ]
     },
     "execution_count": 186,
     "metadata": {},
     "output_type": "execute_result"
    }
   ],
   "source": [
    "'test' is globals() # removing from sys modules and then reloaded from the import .. "
   ]
  },
  {
   "cell_type": "code",
   "execution_count": 187,
   "metadata": {},
   "outputs": [
    {
     "data": {
      "text/plain": [
       "4497138016"
      ]
     },
     "execution_count": 187,
     "metadata": {},
     "output_type": "execute_result"
    }
   ],
   "source": [
    "id(test)"
   ]
  },
  {
   "cell_type": "code",
   "execution_count": 188,
   "metadata": {},
   "outputs": [
    {
     "data": {
      "text/plain": [
       "4497138016"
      ]
     },
     "execution_count": 188,
     "metadata": {},
     "output_type": "execute_result"
    }
   ],
   "source": [
    "id(sys.modules['test'])"
   ]
  },
  {
   "cell_type": "code",
   "execution_count": 189,
   "metadata": {},
   "outputs": [],
   "source": [
    "create_module_file('test', k1='10', k2='Python', k3='Math', k4='Physis')"
   ]
  },
  {
   "cell_type": "code",
   "execution_count": 190,
   "metadata": {},
   "outputs": [],
   "source": [
    "import importlib"
   ]
  },
  {
   "cell_type": "code",
   "execution_count": 191,
   "metadata": {},
   "outputs": [
    {
     "name": "stdout",
     "output_type": "stream",
     "text": [
      "running test.py....\n"
     ]
    },
    {
     "data": {
      "text/plain": [
       "<module 'test' from '/Users/mohammedhamdan/Documents/Python_Full_Stack/Deep_Dive_Python3/Part1/ModulesPackagesNamespaces/Functional_p2/test.py'>"
      ]
     },
     "execution_count": 191,
     "metadata": {},
     "output_type": "execute_result"
    }
   ],
   "source": [
    "# reload to keep the memory address by mutate the object \n",
    "\n",
    "importlib.reload(test)"
   ]
  },
  {
   "cell_type": "code",
   "execution_count": 193,
   "metadata": {},
   "outputs": [
    {
     "data": {
      "text/plain": [
       "4497138016"
      ]
     },
     "execution_count": 193,
     "metadata": {},
     "output_type": "execute_result"
    }
   ],
   "source": [
    "id(test) # the global name space stay the same .. using importlib.reload .. muted in memory .. "
   ]
  },
  {
   "cell_type": "code",
   "execution_count": 194,
   "metadata": {},
   "outputs": [
    {
     "name": "stdout",
     "output_type": "stream",
     "text": [
      "k1 10\n",
      "k2 Python\n",
      "k3 Math\n",
      "k4 Physis\n"
     ]
    }
   ],
   "source": [
    "test.print_values()"
   ]
  },
  {
   "cell_type": "markdown",
   "metadata": {},
   "source": [
    "# reload a module in production .... \n",
    "\n"
   ]
  },
  {
   "cell_type": "code",
   "execution_count": 195,
   "metadata": {},
   "outputs": [],
   "source": [
    "create_module_file('test2', k1=\"python\")"
   ]
  },
  {
   "cell_type": "code",
   "execution_count": 196,
   "metadata": {},
   "outputs": [],
   "source": [
    "from test2 import print_values"
   ]
  },
  {
   "cell_type": "code",
   "execution_count": 198,
   "metadata": {},
   "outputs": [
    {
     "data": {
      "text/plain": [
       "False"
      ]
     },
     "execution_count": 198,
     "metadata": {},
     "output_type": "execute_result"
    }
   ],
   "source": [
    "'test2' in globals()"
   ]
  },
  {
   "cell_type": "code",
   "execution_count": 199,
   "metadata": {},
   "outputs": [
    {
     "data": {
      "text/plain": [
       "True"
      ]
     },
     "execution_count": 199,
     "metadata": {},
     "output_type": "execute_result"
    }
   ],
   "source": [
    "'test2' in sys.modules"
   ]
  },
  {
   "cell_type": "code",
   "execution_count": 197,
   "metadata": {},
   "outputs": [
    {
     "name": "stdout",
     "output_type": "stream",
     "text": [
      "k1 python\n"
     ]
    }
   ],
   "source": [
    "print_values()"
   ]
  },
  {
   "cell_type": "code",
   "execution_count": 200,
   "metadata": {},
   "outputs": [],
   "source": [
    "create_module_file('test2', k1=\"python\", k2=\"cheese\")"
   ]
  },
  {
   "cell_type": "code",
   "execution_count": 201,
   "metadata": {},
   "outputs": [
    {
     "ename": "NameError",
     "evalue": "name 'test2' is not defined",
     "output_type": "error",
     "traceback": [
      "\u001b[0;31m---------------------------------------------------------------------------\u001b[0m",
      "\u001b[0;31mNameError\u001b[0m                                 Traceback (most recent call last)",
      "Cell \u001b[0;32mIn [201], line 1\u001b[0m\n\u001b[0;32m----> 1\u001b[0m importlib\u001b[39m.\u001b[39mreload(test2) \u001b[39m# cano't work .. this way .. but gra\u001b[39;00m\n",
      "\u001b[0;31mNameError\u001b[0m: name 'test2' is not defined"
     ]
    }
   ],
   "source": [
    "importlib.reload(test2) # cano't work .. this way .. but gra"
   ]
  },
  {
   "cell_type": "code",
   "execution_count": 202,
   "metadata": {},
   "outputs": [
    {
     "name": "stdout",
     "output_type": "stream",
     "text": [
      "running test2.py....\n"
     ]
    },
    {
     "data": {
      "text/plain": [
       "<module 'test2' from '/Users/mohammedhamdan/Documents/Python_Full_Stack/Deep_Dive_Python3/Part1/ModulesPackagesNamespaces/Functional_p2/test2.py'>"
      ]
     },
     "execution_count": 202,
     "metadata": {},
     "output_type": "execute_result"
    }
   ],
   "source": [
    "importlib.reload(sys.modules['test2'])"
   ]
  },
  {
   "cell_type": "code",
   "execution_count": 204,
   "metadata": {},
   "outputs": [
    {
     "name": "stdout",
     "output_type": "stream",
     "text": [
      "k1 python\n"
     ]
    }
   ],
   "source": [
    "print_values() # refre to the old ... "
   ]
  },
  {
   "cell_type": "code",
   "execution_count": 205,
   "metadata": {},
   "outputs": [],
   "source": [
    "from test2 import print_values"
   ]
  },
  {
   "cell_type": "code",
   "execution_count": 206,
   "metadata": {},
   "outputs": [
    {
     "name": "stdout",
     "output_type": "stream",
     "text": [
      "k1 python\n",
      "k2 cheese\n"
     ]
    }
   ],
   "source": [
    "print_values()"
   ]
  },
  {
   "cell_type": "code",
   "execution_count": 207,
   "metadata": {},
   "outputs": [],
   "source": [
    "print_values = sys.modules['test2'].print_values "
   ]
  },
  {
   "cell_type": "code",
   "execution_count": 208,
   "metadata": {},
   "outputs": [
    {
     "name": "stdout",
     "output_type": "stream",
     "text": [
      "k1 python\n",
      "k2 cheese\n"
     ]
    }
   ],
   "source": [
    "print_values()"
   ]
  },
  {
   "cell_type": "code",
   "execution_count": 209,
   "metadata": {},
   "outputs": [],
   "source": [
    "# reload not save ....."
   ]
  },
  {
   "cell_type": "code",
   "execution_count": null,
   "metadata": {},
   "outputs": [],
   "source": []
  }
 ],
 "metadata": {
  "kernelspec": {
   "display_name": "Python 3.10.7 64-bit",
   "language": "python",
   "name": "python3"
  },
  "language_info": {
   "codemirror_mode": {
    "name": "ipython",
    "version": 3
   },
   "file_extension": ".py",
   "mimetype": "text/x-python",
   "name": "python",
   "nbconvert_exporter": "python",
   "pygments_lexer": "ipython3",
   "version": "3.10.7"
  },
  "orig_nbformat": 4,
  "vscode": {
   "interpreter": {
    "hash": "aee8b7b246df8f9039afb4144a1f6fd8d2ca17a180786b69acc140d282b71a49"
   }
  }
 },
 "nbformat": 4,
 "nbformat_minor": 2
}
