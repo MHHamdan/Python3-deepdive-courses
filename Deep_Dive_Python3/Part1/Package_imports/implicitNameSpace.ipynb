{
 "cells": [
  {
   "cell_type": "markdown",
   "metadata": {},
   "source": [
    "# implicit name space packages .... packagle-like .. directory .. modules.. regular packages .. name space nested ... canot nconaten __init_.py ... so they are implicitly mode into thes special .. \n",
    "\n",
    "\n",
    "# Mechanics ..\n",
    "utils/ validatoers/ bool, date, json ... inint   serizwe valider \n",
    "\n",
    "# any directory cant have __init__ so ith a name space pakcaes ... \n",
    "\n",
    "\n",
    "# Regular vs Namespace packages .. \n",
    "## regular package .. type module ... __inint__.py \n",
    "\n",
    "## Name space pach  .. no dunder __init__ ..\n",
    "\n",
    "## Nam e space no __file__ ..\n",
    "\n",
    "### paths ... braaks if parent directeors  change and ablosu impor are urse .\n",
    "\n",
    "### paths .. name space package ... nothing is going to great ... dynamic path computaiotn so OK if parent directories changes \n",
    "\n",
    "## single packae lives in single directiory .. \n",
    "\n",
    "### app / utils  // validtors // boolean .... cooman .. init validatonr boolean ... \n",
    "\n",
    "## namespace package .. utilis .. module .. utils .. \n",
    "\n",
    "## regular package .. common module common .... modul utils .. type __name path on nam espa ce ... immmpoutal thin .. rguarl paccah can uls nam espa ce no manult .. hankdi  .. file no set nae lsap ... regu ... coomn s __package __ .. fsl valitors does nhave a pacht .. utils .validtors .. lives isns common packages .... structure ... json .. date boolean .. validateos .. serializeers .. validateros .. utils .. vald \n",
    "\n",
    "## travest nan esoace ad regrualj package ... . . . .  . . . . \n",
    "\n",
    "## Regualra package .. no manitu faltten name space as regurla packages .. but you spread in dffetn disck.. PEP 2030"
   ]
  },
  {
   "cell_type": "markdown",
   "metadata": {},
   "source": [
    "# Zip packages.. \n",
    "\n",
    "sys.path.apppend('/.coon.zip')\n",
    "\n",
    "import sys \n",
    "\n",
    "sys.path.appen('./commn.zip)"
   ]
  },
  {
   "cell_type": "code",
   "execution_count": null,
   "metadata": {},
   "outputs": [],
   "source": []
  }
 ],
 "metadata": {
  "kernelspec": {
   "display_name": "Python 3.10.7 64-bit",
   "language": "python",
   "name": "python3"
  },
  "language_info": {
   "name": "python",
   "version": "3.10.7"
  },
  "orig_nbformat": 4,
  "vscode": {
   "interpreter": {
    "hash": "aee8b7b246df8f9039afb4144a1f6fd8d2ca17a180786b69acc140d282b71a49"
   }
  }
 },
 "nbformat": 4,
 "nbformat_minor": 2
}
