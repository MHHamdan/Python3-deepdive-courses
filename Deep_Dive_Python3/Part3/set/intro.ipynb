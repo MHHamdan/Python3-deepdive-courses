{
 "cells": [
  {
   "cell_type": "markdown",
   "metadata": {},
   "source": [
    "# Sets  == distinct .. order not mattr .. x is an emon  x <- S .. x </ s .. is x \n",
    "  in operator is quwsion ..  . ...>>  x in S ---> False ... x not in S .. unions and inetsectons .. sets --> s1, s2 ... S1 U S2 { e | e < s1 o r2 }  Unionor based on or | .. retru aset ... s1.union(s2, s3 )>} .... oteh tahn set ... Intesectron tw sets on conatio em bo th set s... s1 ^s2 = { e |e s and s s2 .. s & s2 ... retun a set ... s1.intestction ..(s1 ,s 2)} .. s 1 - s2 >> { e | s w c } \n",
    "\n",
    "\n",
    "  s1 = {1,2,3}  s2 = {3,4, 5}\n",
    "   s1 - s2 = {a,2} ... symmeteritic diffence .. Unicon - Intersection ..  s1.symmetreic_ddireec(s2)  s1^s2 ,,, cardinality . len(s) set() ... {} dictionary ..  disjoint ...intesecion of tset .. len(s1 & s2=0 ,, s1,usdushiunt*s2\n",
    "\n",
    "   # subset .. subeprset .. s1<-ss2 ,, s1M= s2 == s1.issubset(s2)> ... s21 < s2 .. prpersuset .. superset .. s1 >= s2 .. proper subset .. s1 >s2 .. not for prober set set .. isuperset ... proper super super set .."
   ]
  },
  {
   "cell_type": "code",
   "execution_count": 1,
   "metadata": {},
   "outputs": [],
   "source": [
    "# cardintali len .. in, not in .. |  uniu .. intese  differne csymmet isubset s< > < isdisjoint (  type(set )) {}  set hash tabele s. sets muct conteais . keys sno value .. set(iterable .. ) \n",
    "# elent set .. unique (==) hashabel . no order . mutable ... set dicton ary dky . set ccnat be amembe ro s set .. Frozen set .. tuple .. immuatl ecqu frozenst .. fronzeset(iterabel ) lll unique . (distinct) .. hashable ...  lll list .. usebe becao is no hashbe ..# frozen set is hasble .. any set to a fronsen xt  \n",
    "# set f fjronzen setn .. hashabel .. cna be us a dicitoan ky . set (frozen set )\n",
    "\n",
    "# membership testing .. in not in ... if a in []"
   ]
  },
  {
   "cell_type": "code",
   "execution_count": 2,
   "metadata": {},
   "outputs": [],
   "source": [
    "s = {c for c in 'Python'}"
   ]
  },
  {
   "cell_type": "code",
   "execution_count": 3,
   "metadata": {},
   "outputs": [
    {
     "data": {
      "text/plain": [
       "{'P', 'h', 'n', 'o', 't', 'y'}"
      ]
     },
     "execution_count": 3,
     "metadata": {},
     "output_type": "execute_result"
    }
   ],
   "source": [
    "s"
   ]
  },
  {
   "cell_type": "code",
   "execution_count": 5,
   "metadata": {},
   "outputs": [],
   "source": [
    "s1 =set('abc')"
   ]
  },
  {
   "cell_type": "code",
   "execution_count": 6,
   "metadata": {},
   "outputs": [
    {
     "data": {
      "text/plain": [
       "{'P', 'a', 'b', 'c', 'h', 'n', 'o', 't', 'y'}"
      ]
     },
     "execution_count": 6,
     "metadata": {},
     "output_type": "execute_result"
    }
   ],
   "source": [
    "{*s, *s1}"
   ]
  },
  {
   "cell_type": "code",
   "execution_count": 7,
   "metadata": {},
   "outputs": [],
   "source": [
    "s = {'a', 100, (1,2)} # sets are hashable "
   ]
  },
  {
   "cell_type": "code",
   "execution_count": 8,
   "metadata": {},
   "outputs": [
    {
     "data": {
      "text/plain": [
       "set"
      ]
     },
     "execution_count": 8,
     "metadata": {},
     "output_type": "execute_result"
    }
   ],
   "source": [
    "type(s)"
   ]
  },
  {
   "cell_type": "code",
   "execution_count": 9,
   "metadata": {},
   "outputs": [
    {
     "data": {
      "text/plain": [
       "{(1, 2), 100, 'a'}"
      ]
     },
     "execution_count": 9,
     "metadata": {},
     "output_type": "execute_result"
    }
   ],
   "source": [
    "s"
   ]
  },
  {
   "cell_type": "code",
   "execution_count": 10,
   "metadata": {},
   "outputs": [
    {
     "ename": "TypeError",
     "evalue": "unhashable type: 'list'",
     "output_type": "error",
     "traceback": [
      "\u001b[0;31m---------------------------------------------------------------------------\u001b[0m",
      "\u001b[0;31mTypeError\u001b[0m                                 Traceback (most recent call last)",
      "Cell \u001b[0;32mIn [10], line 1\u001b[0m\n\u001b[0;32m----> 1\u001b[0m s \u001b[39m=\u001b[39m \u001b[39mset\u001b[39;49m([[\u001b[39m1\u001b[39;49m,\u001b[39m2\u001b[39;49m,\u001b[39m4\u001b[39;49m]])\n",
      "\u001b[0;31mTypeError\u001b[0m: unhashable type: 'list'"
     ]
    }
   ],
   "source": [
    "s = set([[1,2,4]])"
   ]
  },
  {
   "cell_type": "code",
   "execution_count": 11,
   "metadata": {},
   "outputs": [],
   "source": [
    "s = set([1,2,3])"
   ]
  },
  {
   "cell_type": "code",
   "execution_count": 12,
   "metadata": {},
   "outputs": [
    {
     "data": {
      "text/plain": [
       "{1, 2, 3}"
      ]
     },
     "execution_count": 12,
     "metadata": {},
     "output_type": "execute_result"
    }
   ],
   "source": [
    "s"
   ]
  },
  {
   "cell_type": "code",
   "execution_count": 13,
   "metadata": {},
   "outputs": [],
   "source": [
    "d = {'a':1, 'b':2}\n",
    "s = set(d)"
   ]
  },
  {
   "cell_type": "code",
   "execution_count": 14,
   "metadata": {},
   "outputs": [
    {
     "data": {
      "text/plain": [
       "({'a': 1, 'b': 2}, {'a', 'b'})"
      ]
     },
     "execution_count": 14,
     "metadata": {},
     "output_type": "execute_result"
    }
   ],
   "source": [
    "d, s"
   ]
  },
  {
   "cell_type": "code",
   "execution_count": 15,
   "metadata": {},
   "outputs": [],
   "source": [
    "s = {c for c in 'ArithmeticError'}"
   ]
  },
  {
   "cell_type": "code",
   "execution_count": 16,
   "metadata": {},
   "outputs": [
    {
     "data": {
      "text/plain": [
       "{'A', 'E', 'c', 'e', 'h', 'i', 'm', 'o', 'r', 't'}"
      ]
     },
     "execution_count": 16,
     "metadata": {},
     "output_type": "execute_result"
    }
   ],
   "source": [
    "s"
   ]
  },
  {
   "cell_type": "code",
   "execution_count": 18,
   "metadata": {},
   "outputs": [
    {
     "data": {
      "text/plain": [
       "{'A', 'E', 'c', 'e', 'h', 'i', 'm', 'o', 'r', 't'}"
      ]
     },
     "execution_count": 18,
     "metadata": {},
     "output_type": "execute_result"
    }
   ],
   "source": [
    "set('ArithmeticError') # take any iterable .."
   ]
  },
  {
   "cell_type": "code",
   "execution_count": 19,
   "metadata": {},
   "outputs": [],
   "source": [
    "s1 = {'a','b','c'}\n",
    "s2 = {1,2,3}"
   ]
  },
  {
   "cell_type": "code",
   "execution_count": null,
   "metadata": {},
   "outputs": [],
   "source": []
  }
 ],
 "metadata": {
  "kernelspec": {
   "display_name": "Python 3.10.7 64-bit",
   "language": "python",
   "name": "python3"
  },
  "language_info": {
   "codemirror_mode": {
    "name": "ipython",
    "version": 3
   },
   "file_extension": ".py",
   "mimetype": "text/x-python",
   "name": "python",
   "nbconvert_exporter": "python",
   "pygments_lexer": "ipython3",
   "version": "3.10.7"
  },
  "orig_nbformat": 4,
  "vscode": {
   "interpreter": {
    "hash": "aee8b7b246df8f9039afb4144a1f6fd8d2ca17a180786b69acc140d282b71a49"
   }
  }
 },
 "nbformat": 4,
 "nbformat_minor": 2
}
