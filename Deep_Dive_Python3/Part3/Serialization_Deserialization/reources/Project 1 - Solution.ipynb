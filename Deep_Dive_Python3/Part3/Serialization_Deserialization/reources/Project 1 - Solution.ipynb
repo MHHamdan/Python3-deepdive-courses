{
 "cells": [
  {
   "cell_type": "markdown",
   "metadata": {},
   "source": [
    "### Project 1 - Solution"
   ]
  },
  {
   "cell_type": "markdown",
   "metadata": {},
   "source": [
    "In this project our goal is to validate one dictionary structure against a template dictionary.\n",
    "\n",
    "A typical example of this might be working with JSON data inputs in an API. You are trying to validate this received JSON against some kind of template to make sure the received JSON conforms to that template (i.e. all the keys and structure are identical - value types being important, but not the value itself - so just the structure, and the data type of the values).\n",
    "\n",
    "To keep things simple we'll assume that values can be either single values (like an integer, string, etc), or a dictionary, itself only containing single values or other dictionaries, recursively. In other words, we're not going to deal with lists as possible values. Also, to keep things simple, we'll assume that all keys are **required**, and that no extra keys are permitted.\n",
    "\n",
    "In practice we would not have these simplifying assumptions, and although we could definitely write this ourselves, there are many 3rd party libraries that already exist to do this (such as `jsonschema`, `marshmallow`, and many more, some of which I'll cover lightly in some later videos.)"
   ]
  },
  {
   "cell_type": "markdown",
   "metadata": {},
   "source": [
    "For example you might have this template:"
   ]
  },
  {
   "cell_type": "code",
   "execution_count": 1,
   "metadata": {},
   "outputs": [],
   "source": [
    "template = {\n",
    "    'user_id': int,\n",
    "    'name': {\n",
    "        'first': str,\n",
    "        'last': str\n",
    "    },\n",
    "    'bio': {\n",
    "        'dob': {\n",
    "            'year': int,\n",
    "            'month': int,\n",
    "            'day': int\n",
    "        },\n",
    "        'birthplace': {\n",
    "            'country': str,\n",
    "            'city': str\n",
    "        }\n",
    "    }\n",
    "}"
   ]
  },
  {
   "cell_type": "markdown",
   "metadata": {},
   "source": [
    "So, a JSON document such as this would match the template:"
   ]
  },
  {
   "cell_type": "code",
   "execution_count": 2,
   "metadata": {},
   "outputs": [],
   "source": [
    "john = {\n",
    "    'user_id': 100,\n",
    "    'name': {\n",
    "        'first': 'John',\n",
    "        'last': 'Cleese'\n",
    "    },\n",
    "    'bio': {\n",
    "        'dob': {\n",
    "            'year': 1939,\n",
    "            'month': 11,\n",
    "            'day': 27\n",
    "        },\n",
    "        'birthplace': {\n",
    "            'country': 'United Kingdom',\n",
    "            'city': 'Weston-super-Mare'\n",
    "        }\n",
    "    }\n",
    "}"
   ]
  },
  {
   "cell_type": "markdown",
   "metadata": {},
   "source": [
    "But this one would **not** match the template (missing key):"
   ]
  },
  {
   "cell_type": "code",
   "execution_count": 3,
   "metadata": {},
   "outputs": [],
   "source": [
    "eric = {\n",
    "    'user_id': 101,\n",
    "    'name': {\n",
    "        'first': 'Eric',\n",
    "        'last': 'Idle'\n",
    "    },\n",
    "    'bio': {\n",
    "        'dob': {\n",
    "            'year': 1943,\n",
    "            'month': 3,\n",
    "            'day': 29\n",
    "        },\n",
    "        'birthplace': {\n",
    "            'country': 'United Kingdom'\n",
    "        }\n",
    "    }\n",
    "}"
   ]
  },
  {
   "cell_type": "markdown",
   "metadata": {},
   "source": [
    "And neither would this one (wrong data type):"
   ]
  },
  {
   "cell_type": "code",
   "execution_count": 4,
   "metadata": {},
   "outputs": [],
   "source": [
    "michael = {\n",
    "    'user_id': 102,\n",
    "    'name': {\n",
    "        'first': 'Michael',\n",
    "        'last': 'Palin'\n",
    "    },\n",
    "    'bio': {\n",
    "        'dob': {\n",
    "            'year': 1943,\n",
    "            'month': 'May',\n",
    "            'day': 5\n",
    "        },\n",
    "        'birthplace': {\n",
    "            'country': 'United Kingdom',\n",
    "            'city': 'Sheffield'\n",
    "        }\n",
    "    }\n",
    "}"
   ]
  },
  {
   "cell_type": "markdown",
   "metadata": {},
   "source": [
    "Write a function such this:"
   ]
  },
  {
   "cell_type": "code",
   "execution_count": 5,
   "metadata": {},
   "outputs": [],
   "source": [
    "def validate(data, template):\n",
    "    # implement\n",
    "    # and return True/False\n",
    "    # in the case of False, return a string describing \n",
    "    # the first error encountered\n",
    "    # in the case of True, string can be empty\n",
    "    return state, error"
   ]
  },
  {
   "cell_type": "markdown",
   "metadata": {},
   "source": [
    "That should return this:\n",
    "* `validate(john, template) --> True, ''`\n",
    "* `validate(eric, template) --> False, 'mismatched keys: bio.birthplace.city'`\n",
    "* `validate(michael, template) --> False, 'bad type: bio.dob.month'`"
   ]
  },
  {
   "cell_type": "markdown",
   "metadata": {},
   "source": [
    "##### Solution"
   ]
  },
  {
   "cell_type": "markdown",
   "metadata": {},
   "source": [
    "There are many ways to approach this, but a recursive approach here will probably be simpler (not simple, just simpl**er**!) since we want to write a function that does not make any assumptions about how many dictionaries are nested."
   ]
  },
  {
   "cell_type": "markdown",
   "metadata": {},
   "source": [
    "My approach is going to be as follows:\n",
    "1. Write a recursive function\n",
    "2. Maintain a breadcrumb (or *path*) of where we're at in the nested dictionaries (e.g. `bio.birthplace`)\n",
    "3. Check to make sure all the required keys from the template are present in the data (for the same level)\n",
    "4. For dictionary valued keys, recursively call my function\n",
    "5. For non-dictionary values make sure they are of the correct type"
   ]
  },
  {
   "cell_type": "markdown",
   "metadata": {},
   "source": [
    "I'm going to build this function up little by little.\n",
    "\n",
    "Let's first start by determining if we have mismatched keys: missing keys required by template, or extra keys in data not specified by template:"
   ]
  },
  {
   "cell_type": "code",
   "execution_count": 6,
   "metadata": {},
   "outputs": [],
   "source": [
    "def match_keys(data, valid, path):\n",
    "    # path is just a string containing the current path\n",
    "    # that we can use to append the extra/missing keys\n",
    "    # and create a full path for the mismatched keys\n",
    "    data_keys = data.keys()\n",
    "    valid_keys = valid.keys()\n",
    "    # we could just use data_keys ^ valid_keys\n",
    "    # to get mismatched keys, but I prefer to differentiate\n",
    "    # between missing and extra keys separately\n",
    "    extra_keys = data_keys - valid_keys\n",
    "    missing_keys = valid_keys - data_keys\n",
    "    # Finally, build up the error state and message\n",
    "    if missing_keys or extra_keys:\n",
    "        is_ok = False\n",
    "        missing_msg = ('missing keys:' +\n",
    "                       ','.join({path + '.' + str(key) \n",
    "                                 for key in missing_keys})\n",
    "                      ) if missing_keys else ''\n",
    "        extras_msg = ('extra keys:' + \n",
    "                     ','.join({path + '.' + str(key) \n",
    "                               for key in extra_keys})\n",
    "                     ) if extra_keys else ''\n",
    "        return False, ' '.join((missing_msg, extras_msg))\n",
    "    else:\n",
    "        return True, None"
   ]
  },
  {
   "cell_type": "markdown",
   "metadata": {},
   "source": [
    "Let's test this function out:"
   ]
  },
  {
   "cell_type": "code",
   "execution_count": 7,
   "metadata": {},
   "outputs": [
    {
     "name": "stdout",
     "output_type": "stream",
     "text": [
      "True None\n"
     ]
    }
   ],
   "source": [
    "t = {'a': int, 'b': int, 'c': int, 'd': int}\n",
    "d = {'a': 'wrong type', 'b': 100, 'c': 200, 'd': {'wrong': 'type'}}\n",
    "is_ok, err_msg = match_keys(d, t, 'some.path')\n",
    "print(is_ok, err_msg)"
   ]
  },
  {
   "cell_type": "code",
   "execution_count": 8,
   "metadata": {},
   "outputs": [
    {
     "name": "stdout",
     "output_type": "stream",
     "text": [
      "False missing keys:some.path.d \n"
     ]
    }
   ],
   "source": [
    "d = {'a': 'test', 'b': 'test', 'c': 'test'}\n",
    "is_ok, err_msg = match_keys(d, t, 'some.path')\n",
    "print(is_ok, err_msg)"
   ]
  },
  {
   "cell_type": "code",
   "execution_count": 9,
   "metadata": {},
   "outputs": [
    {
     "name": "stdout",
     "output_type": "stream",
     "text": [
      "False  extra keys:some.path.z\n"
     ]
    }
   ],
   "source": [
    "d = {'a': 'test', 'b': 'test', 'c': 'test', 'd': 'test', 'z': 'extra'}\n",
    "is_ok, err_msg = match_keys(d, t, 'some.path')\n",
    "print(is_ok, err_msg)"
   ]
  },
  {
   "cell_type": "code",
   "execution_count": 10,
   "metadata": {},
   "outputs": [
    {
     "name": "stdout",
     "output_type": "stream",
     "text": [
      "False missing keys:some.path.d,some.path.c extra keys:some.path.z\n"
     ]
    }
   ],
   "source": [
    "d = {'a': 'test', 'b': 'test', 'z': 'extra'}\n",
    "is_ok, err_msg = match_keys(d, t, 'some.path')\n",
    "print(is_ok, err_msg)"
   ]
  },
  {
   "cell_type": "markdown",
   "metadata": {},
   "source": [
    "OK, so now let's write a function that matches the types of corresponding (could be an actual type, or a nested dictionary):"
   ]
  },
  {
   "cell_type": "code",
   "execution_count": 11,
   "metadata": {},
   "outputs": [],
   "source": [
    "def match_types(data, template, path):\n",
    "    # assume here that the keys have already been matched OK\n",
    "    # but do not assume that the keys are necessarily in the same\n",
    "    # order in both the data and the template\n",
    "    for key, value in template.items():\n",
    "        if isinstance(value, dict):\n",
    "            template_type = dict\n",
    "        else:\n",
    "            template_type = value\n",
    "        data_value = data.get(key, object())\n",
    "        if not isinstance(data_value, template_type):\n",
    "            err_msg = ('incorrect type: ' + path + '.' + key +\n",
    "                       ' -> expected ' + template_type.__name__ +\n",
    "                       ', found ' + type(data_value).__name__)\n",
    "            return False, err_msg\n",
    "    return True, None        "
   ]
  },
  {
   "cell_type": "markdown",
   "metadata": {},
   "source": [
    "Let's test this one out:"
   ]
  },
  {
   "cell_type": "code",
   "execution_count": 12,
   "metadata": {},
   "outputs": [
    {
     "data": {
      "text/plain": [
       "(True, None)"
      ]
     },
     "execution_count": 12,
     "metadata": {},
     "output_type": "execute_result"
    }
   ],
   "source": [
    "t = {'a': int, 'b': str, 'c': {'d': int}}\n",
    "d = {'a': 100, 'b': 'test', 'c': {'some': 'dict'}}\n",
    "match_types(d, t, 'some.path')"
   ]
  },
  {
   "cell_type": "code",
   "execution_count": 13,
   "metadata": {},
   "outputs": [
    {
     "data": {
      "text/plain": [
       "(False, 'incorrect type: some.path.c -> expected dict, found str')"
      ]
     },
     "execution_count": 13,
     "metadata": {},
     "output_type": "execute_result"
    }
   ],
   "source": [
    "d = {'a': 100, 'b': 'test', 'c': 'unexpected'}\n",
    "match_types(d, t, 'some.path')"
   ]
  },
  {
   "cell_type": "code",
   "execution_count": 14,
   "metadata": {},
   "outputs": [
    {
     "data": {
      "text/plain": [
       "(False, 'incorrect type: some.path.b -> expected str, found int')"
      ]
     },
     "execution_count": 14,
     "metadata": {},
     "output_type": "execute_result"
    }
   ],
   "source": [
    "d = {'a': 100, 'b': 200, 'c': {'some': 'dict'}}\n",
    "match_types(d, t, 'some.path')"
   ]
  },
  {
   "cell_type": "markdown",
   "metadata": {},
   "source": [
    "OK, so far so good!"
   ]
  },
  {
   "cell_type": "markdown",
   "metadata": {},
   "source": [
    "Now it's time to combine these into our main recursive function:"
   ]
  },
  {
   "cell_type": "code",
   "execution_count": 15,
   "metadata": {},
   "outputs": [],
   "source": [
    "def recurse_validate(data, template, path):\n",
    "    # validate keys match\n",
    "    is_ok, err_msg = match_keys(data, template, path)\n",
    "    if not is_ok:\n",
    "        return False, err_msg\n",
    "\n",
    "    # validate individual data types match\n",
    "    is_ok, err_msg = match_types(data, template, path)\n",
    "    if not is_ok:\n",
    "        return False, err_msg\n",
    "    \n",
    "    # Now see if we have nested dictionaries in template\n",
    "    # (or data, since we know both keys and value data types match)\n",
    "    dictionary_type_keys = {key for key, value in template.items()\n",
    "                           if isinstance(value, dict)}\n",
    "    for key in dictionary_type_keys:\n",
    "        sub_path = path + '.' + str(key)\n",
    "        sub_template = template[key]\n",
    "        sub_data = data[key]\n",
    "        is_ok, err_msg = recurse_validate(sub_data, sub_template, sub_path)\n",
    "        if not is_ok:\n",
    "            return False, err_msg\n",
    "        \n",
    "    return True, None"
   ]
  },
  {
   "cell_type": "markdown",
   "metadata": {},
   "source": [
    "Now let's test this function:"
   ]
  },
  {
   "cell_type": "code",
   "execution_count": 16,
   "metadata": {},
   "outputs": [
    {
     "name": "stdout",
     "output_type": "stream",
     "text": [
      "True None\n"
     ]
    }
   ],
   "source": [
    "is_ok, err_msg = recurse_validate(john, template, 'root')\n",
    "print(is_ok, err_msg)"
   ]
  },
  {
   "cell_type": "code",
   "execution_count": 17,
   "metadata": {},
   "outputs": [
    {
     "name": "stdout",
     "output_type": "stream",
     "text": [
      "False missing keys:root.bio.birthplace.city \n"
     ]
    }
   ],
   "source": [
    "is_ok, err_msg = recurse_validate(eric, template, 'root')\n",
    "print(is_ok, err_msg)"
   ]
  },
  {
   "cell_type": "code",
   "execution_count": 18,
   "metadata": {},
   "outputs": [
    {
     "name": "stdout",
     "output_type": "stream",
     "text": [
      "False incorrect type: root.bio.dob.month -> expected int, found str\n"
     ]
    }
   ],
   "source": [
    "is_ok, err_msg = recurse_validate(michael, template, 'root')\n",
    "print(is_ok, err_msg)"
   ]
  },
  {
   "cell_type": "markdown",
   "metadata": {},
   "source": [
    "Nice, now all that's left is to write our main function - it's only role really is to hide the recursive function from the caller, and provide a \"start\" path (which should be empty):"
   ]
  },
  {
   "cell_type": "code",
   "execution_count": 19,
   "metadata": {},
   "outputs": [],
   "source": [
    "def validate(data, template):\n",
    "    return recurse_validate(data, template, '')"
   ]
  },
  {
   "cell_type": "code",
   "execution_count": 20,
   "metadata": {},
   "outputs": [],
   "source": [
    "persons = ((john, 'John'), (eric, 'Eric'), (michael, 'Michael'))"
   ]
  },
  {
   "cell_type": "code",
   "execution_count": 21,
   "metadata": {},
   "outputs": [
    {
     "name": "stdout",
     "output_type": "stream",
     "text": [
      "John: valid=True: None\n",
      "Eric: valid=False: missing keys:.bio.birthplace.city \n",
      "Michael: valid=False: incorrect type: .bio.dob.month -> expected int, found str\n"
     ]
    }
   ],
   "source": [
    "for person, name in persons:\n",
    "    is_ok, err_msg = validate(person, template)\n",
    "    print(f'{name}: valid={is_ok}: {err_msg}')"
   ]
  },
  {
   "cell_type": "markdown",
   "metadata": {},
   "source": [
    "As an additional tweak, I'm not going to return a tuple with the sate and the error message, instead I'm going to use exceptions to do the same thing:"
   ]
  },
  {
   "cell_type": "code",
   "execution_count": 22,
   "metadata": {},
   "outputs": [],
   "source": [
    "class SchemaError(Exception):\n",
    "    pass\n",
    "\n",
    "def validate(data, template):\n",
    "    is_ok, err_msg = recurse_validate(data, template, '')\n",
    "    if not is_ok:\n",
    "        raise SchemaError(err_msg)"
   ]
  },
  {
   "cell_type": "markdown",
   "metadata": {},
   "source": [
    "Then we can use the validator this way:"
   ]
  },
  {
   "cell_type": "code",
   "execution_count": 23,
   "metadata": {},
   "outputs": [],
   "source": [
    "validate(john, template)"
   ]
  },
  {
   "cell_type": "code",
   "execution_count": 24,
   "metadata": {},
   "outputs": [
    {
     "ename": "SchemaError",
     "evalue": "missing keys:.bio.birthplace.city ",
     "output_type": "error",
     "traceback": [
      "\u001b[0;31m---------------------------------------------------------------------------\u001b[0m",
      "\u001b[0;31mSchemaError\u001b[0m                               Traceback (most recent call last)",
      "\u001b[0;32m<ipython-input-24-d8dab4322d43>\u001b[0m in \u001b[0;36m<module>\u001b[0;34m\u001b[0m\n\u001b[0;32m----> 1\u001b[0;31m \u001b[0mvalidate\u001b[0m\u001b[0;34m(\u001b[0m\u001b[0meric\u001b[0m\u001b[0;34m,\u001b[0m \u001b[0mtemplate\u001b[0m\u001b[0;34m)\u001b[0m\u001b[0;34m\u001b[0m\u001b[0;34m\u001b[0m\u001b[0m\n\u001b[0m",
      "\u001b[0;32m<ipython-input-22-a7e05a2dc52f>\u001b[0m in \u001b[0;36mvalidate\u001b[0;34m(data, template)\u001b[0m\n\u001b[1;32m      5\u001b[0m     \u001b[0mis_ok\u001b[0m\u001b[0;34m,\u001b[0m \u001b[0merr_msg\u001b[0m \u001b[0;34m=\u001b[0m \u001b[0mrecurse_validate\u001b[0m\u001b[0;34m(\u001b[0m\u001b[0mdata\u001b[0m\u001b[0;34m,\u001b[0m \u001b[0mtemplate\u001b[0m\u001b[0;34m,\u001b[0m \u001b[0;34m''\u001b[0m\u001b[0;34m)\u001b[0m\u001b[0;34m\u001b[0m\u001b[0;34m\u001b[0m\u001b[0m\n\u001b[1;32m      6\u001b[0m     \u001b[0;32mif\u001b[0m \u001b[0;32mnot\u001b[0m \u001b[0mis_ok\u001b[0m\u001b[0;34m:\u001b[0m\u001b[0;34m\u001b[0m\u001b[0;34m\u001b[0m\u001b[0m\n\u001b[0;32m----> 7\u001b[0;31m         \u001b[0;32mraise\u001b[0m \u001b[0mSchemaError\u001b[0m\u001b[0;34m(\u001b[0m\u001b[0merr_msg\u001b[0m\u001b[0;34m)\u001b[0m\u001b[0;34m\u001b[0m\u001b[0;34m\u001b[0m\u001b[0m\n\u001b[0m",
      "\u001b[0;31mSchemaError\u001b[0m: missing keys:.bio.birthplace.city "
     ]
    }
   ],
   "source": [
    "validate(eric, template)"
   ]
  },
  {
   "cell_type": "code",
   "execution_count": 25,
   "metadata": {},
   "outputs": [
    {
     "ename": "SchemaError",
     "evalue": "incorrect type: .bio.dob.month -> expected int, found str",
     "output_type": "error",
     "traceback": [
      "\u001b[0;31m---------------------------------------------------------------------------\u001b[0m",
      "\u001b[0;31mSchemaError\u001b[0m                               Traceback (most recent call last)",
      "\u001b[0;32m<ipython-input-25-c6911eeab1d6>\u001b[0m in \u001b[0;36m<module>\u001b[0;34m\u001b[0m\n\u001b[0;32m----> 1\u001b[0;31m \u001b[0mvalidate\u001b[0m\u001b[0;34m(\u001b[0m\u001b[0mmichael\u001b[0m\u001b[0;34m,\u001b[0m \u001b[0mtemplate\u001b[0m\u001b[0;34m)\u001b[0m\u001b[0;34m\u001b[0m\u001b[0;34m\u001b[0m\u001b[0m\n\u001b[0m",
      "\u001b[0;32m<ipython-input-22-a7e05a2dc52f>\u001b[0m in \u001b[0;36mvalidate\u001b[0;34m(data, template)\u001b[0m\n\u001b[1;32m      5\u001b[0m     \u001b[0mis_ok\u001b[0m\u001b[0;34m,\u001b[0m \u001b[0merr_msg\u001b[0m \u001b[0;34m=\u001b[0m \u001b[0mrecurse_validate\u001b[0m\u001b[0;34m(\u001b[0m\u001b[0mdata\u001b[0m\u001b[0;34m,\u001b[0m \u001b[0mtemplate\u001b[0m\u001b[0;34m,\u001b[0m \u001b[0;34m''\u001b[0m\u001b[0;34m)\u001b[0m\u001b[0;34m\u001b[0m\u001b[0;34m\u001b[0m\u001b[0m\n\u001b[1;32m      6\u001b[0m     \u001b[0;32mif\u001b[0m \u001b[0;32mnot\u001b[0m \u001b[0mis_ok\u001b[0m\u001b[0;34m:\u001b[0m\u001b[0;34m\u001b[0m\u001b[0;34m\u001b[0m\u001b[0m\n\u001b[0;32m----> 7\u001b[0;31m         \u001b[0;32mraise\u001b[0m \u001b[0mSchemaError\u001b[0m\u001b[0;34m(\u001b[0m\u001b[0merr_msg\u001b[0m\u001b[0;34m)\u001b[0m\u001b[0;34m\u001b[0m\u001b[0;34m\u001b[0m\u001b[0m\n\u001b[0m",
      "\u001b[0;31mSchemaError\u001b[0m: incorrect type: .bio.dob.month -> expected int, found str"
     ]
    }
   ],
   "source": [
    "validate(michael, template)"
   ]
  },
  {
   "cell_type": "markdown",
   "metadata": {},
   "source": [
    "Of course, we could use this approach throughout instead of returning a status and an exception - this would make this a bit cleaner, and we can also differentiate between key mismatches vs value mismatches:"
   ]
  },
  {
   "cell_type": "code",
   "execution_count": 26,
   "metadata": {},
   "outputs": [],
   "source": [
    "class SchemaError(Exception):\n",
    "    pass\n",
    "\n",
    "class SchemaKeyMismatch(SchemaError):\n",
    "    pass\n",
    "\n",
    "class SchemaTypeMismatch(SchemaError, TypeError):\n",
    "    pass"
   ]
  },
  {
   "cell_type": "code",
   "execution_count": 27,
   "metadata": {},
   "outputs": [],
   "source": [
    "def match_keys(data, valid, path):\n",
    "    # path is just a string containing the current path\n",
    "    # that we can use to append the extra/missing keys\n",
    "    # and create a full path for the mismatched keys\n",
    "    data_keys = data.keys()\n",
    "    valid_keys = valid.keys()\n",
    "    # we could just use data_keys ^ valid_keys\n",
    "    # to get mismatched keys, but I prefer to differentiate\n",
    "    # between missing and extra keys separately\n",
    "    extra_keys = data_keys - valid_keys\n",
    "    missing_keys = valid_keys - data_keys\n",
    "    # Finally, build up the error state and message\n",
    "    if missing_keys or extra_keys:\n",
    "        is_ok = False\n",
    "        missing_msg = ('missing keys:' +\n",
    "                       ','.join({path + '.' + str(key) \n",
    "                                 for key in missing_keys})\n",
    "                      ) if missing_keys else ''\n",
    "        extras_msg = ('extra keys:' + \n",
    "                     ','.join({path + '.' + str(key) \n",
    "                               for key in extra_keys})\n",
    "                     ) if extra_keys else ''\n",
    "        raise SchemaKeyMismatch(' '.join((missing_msg, extras_msg)))"
   ]
  },
  {
   "cell_type": "code",
   "execution_count": 28,
   "metadata": {},
   "outputs": [],
   "source": [
    "def match_types(data, template, path):\n",
    "    # assume here that the keys have already been matched OK\n",
    "    # but do not assume that the keys are necessarily in the same\n",
    "    # order in both the data and the template\n",
    "    for key, value in template.items():\n",
    "        if isinstance(value, dict):\n",
    "            template_type = dict\n",
    "        else:\n",
    "            template_type = value\n",
    "        data_value = data.get(key, object())\n",
    "        if isinstance(data_value, template_type):\n",
    "            continue\n",
    "        else:\n",
    "            err_msg = ('incorrect type: ' + path + '.' + key +\n",
    "                       ' -> expected ' + template_type.__name__ +\n",
    "                       ', found ' + type(data_value).__name__)\n",
    "            raise SchemaTypeMismatch(err_msg)"
   ]
  },
  {
   "cell_type": "code",
   "execution_count": 29,
   "metadata": {},
   "outputs": [],
   "source": [
    "def recurse_validate(data, template, path):\n",
    "    match_keys(data, template, path)\n",
    "    match_types(data, template, path)\n",
    "\n",
    "    # Now see if we have nested dictionaries in template\n",
    "    # (or data, since we know both keys and value data types match)\n",
    "    dictionary_type_keys = {key for key, value in template.items()\n",
    "                           if isinstance(value, dict)}\n",
    "    for key in dictionary_type_keys:\n",
    "        sub_path = path + '.' + str(key)\n",
    "        sub_template = template[key]\n",
    "        sub_data = data[key]\n",
    "        recurse_validate(sub_data, sub_template, sub_path)"
   ]
  },
  {
   "cell_type": "code",
   "execution_count": 30,
   "metadata": {},
   "outputs": [],
   "source": [
    "def validate(data, template):\n",
    "    recurse_validate(data, template, '')"
   ]
  },
  {
   "cell_type": "code",
   "execution_count": 31,
   "metadata": {},
   "outputs": [],
   "source": [
    "validate(john, template)"
   ]
  },
  {
   "cell_type": "code",
   "execution_count": 32,
   "metadata": {},
   "outputs": [
    {
     "ename": "SchemaKeyMismatch",
     "evalue": "missing keys:.bio.birthplace.city ",
     "output_type": "error",
     "traceback": [
      "\u001b[0;31m---------------------------------------------------------------------------\u001b[0m",
      "\u001b[0;31mSchemaKeyMismatch\u001b[0m                         Traceback (most recent call last)",
      "\u001b[0;32m<ipython-input-32-d8dab4322d43>\u001b[0m in \u001b[0;36m<module>\u001b[0;34m\u001b[0m\n\u001b[0;32m----> 1\u001b[0;31m \u001b[0mvalidate\u001b[0m\u001b[0;34m(\u001b[0m\u001b[0meric\u001b[0m\u001b[0;34m,\u001b[0m \u001b[0mtemplate\u001b[0m\u001b[0;34m)\u001b[0m\u001b[0;34m\u001b[0m\u001b[0;34m\u001b[0m\u001b[0m\n\u001b[0m",
      "\u001b[0;32m<ipython-input-30-6b77118de8cd>\u001b[0m in \u001b[0;36mvalidate\u001b[0;34m(data, template)\u001b[0m\n\u001b[1;32m      1\u001b[0m \u001b[0;32mdef\u001b[0m \u001b[0mvalidate\u001b[0m\u001b[0;34m(\u001b[0m\u001b[0mdata\u001b[0m\u001b[0;34m,\u001b[0m \u001b[0mtemplate\u001b[0m\u001b[0;34m)\u001b[0m\u001b[0;34m:\u001b[0m\u001b[0;34m\u001b[0m\u001b[0;34m\u001b[0m\u001b[0m\n\u001b[0;32m----> 2\u001b[0;31m     \u001b[0mrecurse_validate\u001b[0m\u001b[0;34m(\u001b[0m\u001b[0mdata\u001b[0m\u001b[0;34m,\u001b[0m \u001b[0mtemplate\u001b[0m\u001b[0;34m,\u001b[0m \u001b[0;34m''\u001b[0m\u001b[0;34m)\u001b[0m\u001b[0;34m\u001b[0m\u001b[0;34m\u001b[0m\u001b[0m\n\u001b[0m",
      "\u001b[0;32m<ipython-input-29-1d5bebf7111c>\u001b[0m in \u001b[0;36mrecurse_validate\u001b[0;34m(data, template, path)\u001b[0m\n\u001b[1;32m     11\u001b[0m         \u001b[0msub_template\u001b[0m \u001b[0;34m=\u001b[0m \u001b[0mtemplate\u001b[0m\u001b[0;34m[\u001b[0m\u001b[0mkey\u001b[0m\u001b[0;34m]\u001b[0m\u001b[0;34m\u001b[0m\u001b[0;34m\u001b[0m\u001b[0m\n\u001b[1;32m     12\u001b[0m         \u001b[0msub_data\u001b[0m \u001b[0;34m=\u001b[0m \u001b[0mdata\u001b[0m\u001b[0;34m[\u001b[0m\u001b[0mkey\u001b[0m\u001b[0;34m]\u001b[0m\u001b[0;34m\u001b[0m\u001b[0;34m\u001b[0m\u001b[0m\n\u001b[0;32m---> 13\u001b[0;31m         \u001b[0mrecurse_validate\u001b[0m\u001b[0;34m(\u001b[0m\u001b[0msub_data\u001b[0m\u001b[0;34m,\u001b[0m \u001b[0msub_template\u001b[0m\u001b[0;34m,\u001b[0m \u001b[0msub_path\u001b[0m\u001b[0;34m)\u001b[0m\u001b[0;34m\u001b[0m\u001b[0;34m\u001b[0m\u001b[0m\n\u001b[0m",
      "\u001b[0;32m<ipython-input-29-1d5bebf7111c>\u001b[0m in \u001b[0;36mrecurse_validate\u001b[0;34m(data, template, path)\u001b[0m\n\u001b[1;32m     11\u001b[0m         \u001b[0msub_template\u001b[0m \u001b[0;34m=\u001b[0m \u001b[0mtemplate\u001b[0m\u001b[0;34m[\u001b[0m\u001b[0mkey\u001b[0m\u001b[0;34m]\u001b[0m\u001b[0;34m\u001b[0m\u001b[0;34m\u001b[0m\u001b[0m\n\u001b[1;32m     12\u001b[0m         \u001b[0msub_data\u001b[0m \u001b[0;34m=\u001b[0m \u001b[0mdata\u001b[0m\u001b[0;34m[\u001b[0m\u001b[0mkey\u001b[0m\u001b[0;34m]\u001b[0m\u001b[0;34m\u001b[0m\u001b[0;34m\u001b[0m\u001b[0m\n\u001b[0;32m---> 13\u001b[0;31m         \u001b[0mrecurse_validate\u001b[0m\u001b[0;34m(\u001b[0m\u001b[0msub_data\u001b[0m\u001b[0;34m,\u001b[0m \u001b[0msub_template\u001b[0m\u001b[0;34m,\u001b[0m \u001b[0msub_path\u001b[0m\u001b[0;34m)\u001b[0m\u001b[0;34m\u001b[0m\u001b[0;34m\u001b[0m\u001b[0m\n\u001b[0m",
      "\u001b[0;32m<ipython-input-29-1d5bebf7111c>\u001b[0m in \u001b[0;36mrecurse_validate\u001b[0;34m(data, template, path)\u001b[0m\n\u001b[1;32m      1\u001b[0m \u001b[0;32mdef\u001b[0m \u001b[0mrecurse_validate\u001b[0m\u001b[0;34m(\u001b[0m\u001b[0mdata\u001b[0m\u001b[0;34m,\u001b[0m \u001b[0mtemplate\u001b[0m\u001b[0;34m,\u001b[0m \u001b[0mpath\u001b[0m\u001b[0;34m)\u001b[0m\u001b[0;34m:\u001b[0m\u001b[0;34m\u001b[0m\u001b[0;34m\u001b[0m\u001b[0m\n\u001b[0;32m----> 2\u001b[0;31m     \u001b[0mmatch_keys\u001b[0m\u001b[0;34m(\u001b[0m\u001b[0mdata\u001b[0m\u001b[0;34m,\u001b[0m \u001b[0mtemplate\u001b[0m\u001b[0;34m,\u001b[0m \u001b[0mpath\u001b[0m\u001b[0;34m)\u001b[0m\u001b[0;34m\u001b[0m\u001b[0;34m\u001b[0m\u001b[0m\n\u001b[0m\u001b[1;32m      3\u001b[0m     \u001b[0mmatch_types\u001b[0m\u001b[0;34m(\u001b[0m\u001b[0mdata\u001b[0m\u001b[0;34m,\u001b[0m \u001b[0mtemplate\u001b[0m\u001b[0;34m,\u001b[0m \u001b[0mpath\u001b[0m\u001b[0;34m)\u001b[0m\u001b[0;34m\u001b[0m\u001b[0;34m\u001b[0m\u001b[0m\n\u001b[1;32m      4\u001b[0m \u001b[0;34m\u001b[0m\u001b[0m\n\u001b[1;32m      5\u001b[0m     \u001b[0;31m# Now see if we have nested dictionaries in template\u001b[0m\u001b[0;34m\u001b[0m\u001b[0;34m\u001b[0m\u001b[0;34m\u001b[0m\u001b[0m\n",
      "\u001b[0;32m<ipython-input-27-c6e1757b9457>\u001b[0m in \u001b[0;36mmatch_keys\u001b[0;34m(data, valid, path)\u001b[0m\n\u001b[1;32m     21\u001b[0m                                for key in extra_keys})\n\u001b[1;32m     22\u001b[0m                      ) if extra_keys else ''\n\u001b[0;32m---> 23\u001b[0;31m         \u001b[0;32mraise\u001b[0m \u001b[0mSchemaKeyMismatch\u001b[0m\u001b[0;34m(\u001b[0m\u001b[0;34m' '\u001b[0m\u001b[0;34m.\u001b[0m\u001b[0mjoin\u001b[0m\u001b[0;34m(\u001b[0m\u001b[0;34m(\u001b[0m\u001b[0mmissing_msg\u001b[0m\u001b[0;34m,\u001b[0m \u001b[0mextras_msg\u001b[0m\u001b[0;34m)\u001b[0m\u001b[0;34m)\u001b[0m\u001b[0;34m)\u001b[0m\u001b[0;34m\u001b[0m\u001b[0;34m\u001b[0m\u001b[0m\n\u001b[0m",
      "\u001b[0;31mSchemaKeyMismatch\u001b[0m: missing keys:.bio.birthplace.city "
     ]
    }
   ],
   "source": [
    "validate(eric, template)"
   ]
  },
  {
   "cell_type": "code",
   "execution_count": 33,
   "metadata": {},
   "outputs": [
    {
     "ename": "SchemaTypeMismatch",
     "evalue": "incorrect type: .bio.dob.month -> expected int, found str",
     "output_type": "error",
     "traceback": [
      "\u001b[0;31m---------------------------------------------------------------------------\u001b[0m",
      "\u001b[0;31mSchemaTypeMismatch\u001b[0m                        Traceback (most recent call last)",
      "\u001b[0;32m<ipython-input-33-c6911eeab1d6>\u001b[0m in \u001b[0;36m<module>\u001b[0;34m\u001b[0m\n\u001b[0;32m----> 1\u001b[0;31m \u001b[0mvalidate\u001b[0m\u001b[0;34m(\u001b[0m\u001b[0mmichael\u001b[0m\u001b[0;34m,\u001b[0m \u001b[0mtemplate\u001b[0m\u001b[0;34m)\u001b[0m\u001b[0;34m\u001b[0m\u001b[0;34m\u001b[0m\u001b[0m\n\u001b[0m",
      "\u001b[0;32m<ipython-input-30-6b77118de8cd>\u001b[0m in \u001b[0;36mvalidate\u001b[0;34m(data, template)\u001b[0m\n\u001b[1;32m      1\u001b[0m \u001b[0;32mdef\u001b[0m \u001b[0mvalidate\u001b[0m\u001b[0;34m(\u001b[0m\u001b[0mdata\u001b[0m\u001b[0;34m,\u001b[0m \u001b[0mtemplate\u001b[0m\u001b[0;34m)\u001b[0m\u001b[0;34m:\u001b[0m\u001b[0;34m\u001b[0m\u001b[0;34m\u001b[0m\u001b[0m\n\u001b[0;32m----> 2\u001b[0;31m     \u001b[0mrecurse_validate\u001b[0m\u001b[0;34m(\u001b[0m\u001b[0mdata\u001b[0m\u001b[0;34m,\u001b[0m \u001b[0mtemplate\u001b[0m\u001b[0;34m,\u001b[0m \u001b[0;34m''\u001b[0m\u001b[0;34m)\u001b[0m\u001b[0;34m\u001b[0m\u001b[0;34m\u001b[0m\u001b[0m\n\u001b[0m",
      "\u001b[0;32m<ipython-input-29-1d5bebf7111c>\u001b[0m in \u001b[0;36mrecurse_validate\u001b[0;34m(data, template, path)\u001b[0m\n\u001b[1;32m     11\u001b[0m         \u001b[0msub_template\u001b[0m \u001b[0;34m=\u001b[0m \u001b[0mtemplate\u001b[0m\u001b[0;34m[\u001b[0m\u001b[0mkey\u001b[0m\u001b[0;34m]\u001b[0m\u001b[0;34m\u001b[0m\u001b[0;34m\u001b[0m\u001b[0m\n\u001b[1;32m     12\u001b[0m         \u001b[0msub_data\u001b[0m \u001b[0;34m=\u001b[0m \u001b[0mdata\u001b[0m\u001b[0;34m[\u001b[0m\u001b[0mkey\u001b[0m\u001b[0;34m]\u001b[0m\u001b[0;34m\u001b[0m\u001b[0;34m\u001b[0m\u001b[0m\n\u001b[0;32m---> 13\u001b[0;31m         \u001b[0mrecurse_validate\u001b[0m\u001b[0;34m(\u001b[0m\u001b[0msub_data\u001b[0m\u001b[0;34m,\u001b[0m \u001b[0msub_template\u001b[0m\u001b[0;34m,\u001b[0m \u001b[0msub_path\u001b[0m\u001b[0;34m)\u001b[0m\u001b[0;34m\u001b[0m\u001b[0;34m\u001b[0m\u001b[0m\n\u001b[0m",
      "\u001b[0;32m<ipython-input-29-1d5bebf7111c>\u001b[0m in \u001b[0;36mrecurse_validate\u001b[0;34m(data, template, path)\u001b[0m\n\u001b[1;32m     11\u001b[0m         \u001b[0msub_template\u001b[0m \u001b[0;34m=\u001b[0m \u001b[0mtemplate\u001b[0m\u001b[0;34m[\u001b[0m\u001b[0mkey\u001b[0m\u001b[0;34m]\u001b[0m\u001b[0;34m\u001b[0m\u001b[0;34m\u001b[0m\u001b[0m\n\u001b[1;32m     12\u001b[0m         \u001b[0msub_data\u001b[0m \u001b[0;34m=\u001b[0m \u001b[0mdata\u001b[0m\u001b[0;34m[\u001b[0m\u001b[0mkey\u001b[0m\u001b[0;34m]\u001b[0m\u001b[0;34m\u001b[0m\u001b[0;34m\u001b[0m\u001b[0m\n\u001b[0;32m---> 13\u001b[0;31m         \u001b[0mrecurse_validate\u001b[0m\u001b[0;34m(\u001b[0m\u001b[0msub_data\u001b[0m\u001b[0;34m,\u001b[0m \u001b[0msub_template\u001b[0m\u001b[0;34m,\u001b[0m \u001b[0msub_path\u001b[0m\u001b[0;34m)\u001b[0m\u001b[0;34m\u001b[0m\u001b[0;34m\u001b[0m\u001b[0m\n\u001b[0m",
      "\u001b[0;32m<ipython-input-29-1d5bebf7111c>\u001b[0m in \u001b[0;36mrecurse_validate\u001b[0;34m(data, template, path)\u001b[0m\n\u001b[1;32m      1\u001b[0m \u001b[0;32mdef\u001b[0m \u001b[0mrecurse_validate\u001b[0m\u001b[0;34m(\u001b[0m\u001b[0mdata\u001b[0m\u001b[0;34m,\u001b[0m \u001b[0mtemplate\u001b[0m\u001b[0;34m,\u001b[0m \u001b[0mpath\u001b[0m\u001b[0;34m)\u001b[0m\u001b[0;34m:\u001b[0m\u001b[0;34m\u001b[0m\u001b[0;34m\u001b[0m\u001b[0m\n\u001b[1;32m      2\u001b[0m     \u001b[0mmatch_keys\u001b[0m\u001b[0;34m(\u001b[0m\u001b[0mdata\u001b[0m\u001b[0;34m,\u001b[0m \u001b[0mtemplate\u001b[0m\u001b[0;34m,\u001b[0m \u001b[0mpath\u001b[0m\u001b[0;34m)\u001b[0m\u001b[0;34m\u001b[0m\u001b[0;34m\u001b[0m\u001b[0m\n\u001b[0;32m----> 3\u001b[0;31m     \u001b[0mmatch_types\u001b[0m\u001b[0;34m(\u001b[0m\u001b[0mdata\u001b[0m\u001b[0;34m,\u001b[0m \u001b[0mtemplate\u001b[0m\u001b[0;34m,\u001b[0m \u001b[0mpath\u001b[0m\u001b[0;34m)\u001b[0m\u001b[0;34m\u001b[0m\u001b[0;34m\u001b[0m\u001b[0m\n\u001b[0m\u001b[1;32m      4\u001b[0m \u001b[0;34m\u001b[0m\u001b[0m\n\u001b[1;32m      5\u001b[0m     \u001b[0;31m# Now see if we have nested dictionaries in template\u001b[0m\u001b[0;34m\u001b[0m\u001b[0;34m\u001b[0m\u001b[0;34m\u001b[0m\u001b[0m\n",
      "\u001b[0;32m<ipython-input-28-1e4c559f2e2b>\u001b[0m in \u001b[0;36mmatch_types\u001b[0;34m(data, template, path)\u001b[0m\n\u001b[1;32m     15\u001b[0m                        \u001b[0;34m' -> expected '\u001b[0m \u001b[0;34m+\u001b[0m \u001b[0mtemplate_type\u001b[0m\u001b[0;34m.\u001b[0m\u001b[0m__name__\u001b[0m \u001b[0;34m+\u001b[0m\u001b[0;34m\u001b[0m\u001b[0;34m\u001b[0m\u001b[0m\n\u001b[1;32m     16\u001b[0m                        ', found ' + type(data_value).__name__)\n\u001b[0;32m---> 17\u001b[0;31m             \u001b[0;32mraise\u001b[0m \u001b[0mSchemaTypeMismatch\u001b[0m\u001b[0;34m(\u001b[0m\u001b[0merr_msg\u001b[0m\u001b[0;34m)\u001b[0m\u001b[0;34m\u001b[0m\u001b[0;34m\u001b[0m\u001b[0m\n\u001b[0m",
      "\u001b[0;31mSchemaTypeMismatch\u001b[0m: incorrect type: .bio.dob.month -> expected int, found str"
     ]
    }
   ],
   "source": [
    "validate(michael, template)"
   ]
  },
  {
   "cell_type": "markdown",
   "metadata": {},
   "source": [
    "The nice thing about the way we have structured our exceptions is that we can catch them either as specific `SchemaKeyMismatch` or `SchemaTypeMismatch` exceptions, but also more broadly as `SchemaError` exceptions:"
   ]
  },
  {
   "cell_type": "code",
   "execution_count": 34,
   "metadata": {},
   "outputs": [
    {
     "name": "stdout",
     "output_type": "stream",
     "text": [
      "missing keys:.bio.birthplace.city \n"
     ]
    }
   ],
   "source": [
    "try:\n",
    "    validate(eric, template)\n",
    "except SchemaError as ex:\n",
    "    print(ex)"
   ]
  },
  {
   "cell_type": "code",
   "execution_count": 35,
   "metadata": {},
   "outputs": [
    {
     "name": "stdout",
     "output_type": "stream",
     "text": [
      "mismatched keys, doing some specific handling for that\n",
      "missing keys:.bio.birthplace.city \n"
     ]
    }
   ],
   "source": [
    "try:\n",
    "    validate(eric, template)\n",
    "except SchemaKeyMismatch as ex:\n",
    "    print('mismatched keys, doing some specific handling for that')\n",
    "    print(ex)\n",
    "except SchemaTypeMismatch as ex:\n",
    "    print('mismatched types, doing some specific handling for that')\n",
    "    print(ex)"
   ]
  },
  {
   "cell_type": "code",
   "execution_count": 36,
   "metadata": {},
   "outputs": [
    {
     "name": "stdout",
     "output_type": "stream",
     "text": [
      "mismatched types, doing some specific handling for that\n",
      "incorrect type: .bio.dob.month -> expected int, found str\n"
     ]
    }
   ],
   "source": [
    "try:\n",
    "    validate(michael, template)\n",
    "except SchemaKeyMismatch as ex:\n",
    "    print('mismatched keys, doing some specific handling for that')\n",
    "    print(ex)\n",
    "except SchemaTypeMismatch as ex:\n",
    "    print('mismatched types, doing some specific handling for that')\n",
    "    print(ex)"
   ]
  }
 ],
 "metadata": {
  "kernelspec": {
   "display_name": "Python 3",
   "language": "python",
   "name": "python3"
  },
  "language_info": {
   "codemirror_mode": {
    "name": "ipython",
    "version": 3
   },
   "file_extension": ".py",
   "mimetype": "text/x-python",
   "name": "python",
   "nbconvert_exporter": "python",
   "pygments_lexer": "ipython3",
   "version": "3.6.7"
  }
 },
 "nbformat": 4,
 "nbformat_minor": 2
}
