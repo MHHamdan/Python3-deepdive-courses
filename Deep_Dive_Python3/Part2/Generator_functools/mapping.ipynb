{
 "cells": [
  {
   "cell_type": "markdown",
   "metadata": {},
   "source": [
    "# Mapping ... accumulation .. reduce an iteabla to a signel value ... ... su(ierabel..) ... cal .. min(iterabel) .. max(iterable) .. reducing it down to a singel ement ..   reduce(fn, it, [initializer]) .. production fo relem ... fn ... two args.. iterable .. iniatxer .. \n",
    "\n",
    "1. map ... ma(fn, iterable) applies fn to ever elemnts of iteabe and retur aiteator lazy  ... fn mus be callable tha requee asingl emenarg ..  map(lambda x: x**2 , [1,2,3,4,5)]) ... iterator .. produce a lazy itetrro .  \n",
    "\n",
    "\n",
    "2. maps(fn(item) for item in itearble ) geneatro expeaason .. snty x.. \n",
    "\n",
    "3. reduce funciton .. sum fo all emnt l = [1,23,45,6] .. sum(l) reducein funciton an drturn at value 10 ..  ... reduce(lamda x, y: x+y, l) .. reduce(lamba x,y: x+y , l) ..  fun to prevous value ... pass 3 for x and pass the for y .. the next step .. 3 + 3  = 6 .. cal culatin g10 ... iterable .. and reduce reduc valu e19.. find ath eproduct inall iem rduce(lambd x,y: xIy, l) .. 1 * 2 .. 3 .. 3*2 .. > 2 4 .. imporant to now reduce a lazy iteator .. 3rd optina .. first 1 .. add elent of all .. ta\n",
    "\n",
    "4. utertiiks,starnao ,, oas uterabie if uterabkei ,,, ynoacjs eve syb ekentn sif teh uable arguemn an dapss that to th map function. rueful fo rmapping a multi arguemn function onan iterabl of iteabel  \n",
    "l = [[1,2], [3,4]] .. two argument s..  map( lambdda i: i[0] *i[1], l)\n",
    "starnao*(operator .mu, l) two args an dmut.. an dretu theri value ...  .. 12, 12 .. \n",
    "\n",
    "5. generator expression .. (operator.mul(*i) for i in l) \n",
    "generator expression  or starmap .. \n",
    "\n",
    "\n",
    "l = [1,2,3,], [1,23,4,], [[2,35,6,]]\n",
    "\n",
    "satrmp(lamda: s,y,z: x+z+z, l) comes iteratro .. .. iteratro .. done lazily .. as we requested .. ... map(lamda item: i[0]*i[1]*[i2])\n",
    "\n",
    "6. accumlate(iterable, fn) .. very ot reduce functon ,.. accuamati funct .. itertools.accumulate(iterable, fn)\n",
    "\n",
    "returns a lazy iterator .. producing all the intermediat resutl .\n",
    "rduce only retursn tohe final . results .. \n",
    "\n",
    "unlik e reduce .. it does not accept .. an itniatoiar .. nore the argem ain th e. reduce(fan, iterabel ) accumant (iteabre, fn) \n",
    "\n",
    "\n",
    "l = [1,2,34,] \n",
    "\n",
    "functoos.reduce*opertato.mu, l ... 1 , 1*2, 2*3, 34 * 6*4 .. \n",
    "\n",
    "itertools.accumlate(l, operator.mu) .. 1,3,5,26 .. intermediat resutl as well... "
   ]
  },
  {
   "cell_type": "code",
   "execution_count": 1,
   "metadata": {},
   "outputs": [],
   "source": [
    "maps = map(lambda x: x**2, range(5))"
   ]
  },
  {
   "cell_type": "code",
   "execution_count": 2,
   "metadata": {},
   "outputs": [
    {
     "data": {
      "text/plain": [
       "map"
      ]
     },
     "execution_count": 2,
     "metadata": {},
     "output_type": "execute_result"
    }
   ],
   "source": [
    "type(maps)"
   ]
  },
  {
   "cell_type": "code",
   "execution_count": 3,
   "metadata": {},
   "outputs": [
    {
     "data": {
      "text/plain": [
       "True"
      ]
     },
     "execution_count": 3,
     "metadata": {},
     "output_type": "execute_result"
    }
   ],
   "source": [
    "iter(maps) is maps"
   ]
  },
  {
   "cell_type": "code",
   "execution_count": 4,
   "metadata": {},
   "outputs": [
    {
     "data": {
      "text/plain": [
       "True"
      ]
     },
     "execution_count": 4,
     "metadata": {},
     "output_type": "execute_result"
    }
   ],
   "source": [
    "'__iter__' in dir(maps)"
   ]
  },
  {
   "cell_type": "code",
   "execution_count": 5,
   "metadata": {},
   "outputs": [
    {
     "data": {
      "text/plain": [
       "[0, 1, 4, 9, 16]"
      ]
     },
     "execution_count": 5,
     "metadata": {},
     "output_type": "execute_result"
    }
   ],
   "source": [
    "list(maps)"
   ]
  },
  {
   "cell_type": "code",
   "execution_count": 7,
   "metadata": {},
   "outputs": [
    {
     "data": {
      "text/plain": [
       "[1, 4, 9, 16]"
      ]
     },
     "execution_count": 7,
     "metadata": {},
     "output_type": "execute_result"
    }
   ],
   "source": [
    "list(map(lambda x:x**2, [1,2,3,4]))"
   ]
  },
  {
   "cell_type": "code",
   "execution_count": 8,
   "metadata": {},
   "outputs": [],
   "source": [
    "def add(t):\n",
    "    return t[0] + t[1]"
   ]
  },
  {
   "cell_type": "code",
   "execution_count": 9,
   "metadata": {},
   "outputs": [
    {
     "data": {
      "text/plain": [
       "[0, 3, 5]"
      ]
     },
     "execution_count": 9,
     "metadata": {},
     "output_type": "execute_result"
    }
   ],
   "source": [
    "list(map(add, [(0,0), [1,2], range(2,8)]))"
   ]
  },
  {
   "cell_type": "code",
   "execution_count": 22,
   "metadata": {},
   "outputs": [],
   "source": [
    "def add(x,y):\n",
    "    return x + y"
   ]
  },
  {
   "cell_type": "code",
   "execution_count": 23,
   "metadata": {},
   "outputs": [
    {
     "ename": "TypeError",
     "evalue": "add() missing 1 required positional argument: 'y'",
     "output_type": "error",
     "traceback": [
      "\u001b[0;31m---------------------------------------------------------------------------\u001b[0m",
      "\u001b[0;31mTypeError\u001b[0m                                 Traceback (most recent call last)",
      "Cell \u001b[0;32mIn [23], line 2\u001b[0m\n\u001b[1;32m      1\u001b[0m t \u001b[39m=\u001b[39m (\u001b[39m2\u001b[39m, \u001b[39m3\u001b[39m)\n\u001b[0;32m----> 2\u001b[0m add(t)\n",
      "\u001b[0;31mTypeError\u001b[0m: add() missing 1 required positional argument: 'y'"
     ]
    }
   ],
   "source": [
    "t = (2, 3)\n",
    "add(t)"
   ]
  },
  {
   "cell_type": "code",
   "execution_count": 24,
   "metadata": {},
   "outputs": [
    {
     "data": {
      "text/plain": [
       "5"
      ]
     },
     "execution_count": 24,
     "metadata": {},
     "output_type": "execute_result"
    }
   ],
   "source": [
    "add(*t) #unpacked the tuple "
   ]
  },
  {
   "cell_type": "code",
   "execution_count": 25,
   "metadata": {},
   "outputs": [
    {
     "ename": "TypeError",
     "evalue": "add() missing 1 required positional argument: 'y'",
     "output_type": "error",
     "traceback": [
      "\u001b[0;31m---------------------------------------------------------------------------\u001b[0m",
      "\u001b[0;31mTypeError\u001b[0m                                 Traceback (most recent call last)",
      "Cell \u001b[0;32mIn [25], line 1\u001b[0m\n\u001b[0;32m----> 1\u001b[0m \u001b[39mlist\u001b[39;49m(\u001b[39mmap\u001b[39;49m(add, [(\u001b[39m0\u001b[39;49m,\u001b[39m0\u001b[39;49m), [\u001b[39m1\u001b[39;49m,\u001b[39m2\u001b[39;49m], \u001b[39mrange\u001b[39;49m(\u001b[39m2\u001b[39;49m,\u001b[39m8\u001b[39;49m)]))\n",
      "\u001b[0;31mTypeError\u001b[0m: add() missing 1 required positional argument: 'y'"
     ]
    }
   ],
   "source": [
    "list(map(add, [(0,0), [1,2], range(2,8)]))"
   ]
  },
  {
   "cell_type": "code",
   "execution_count": 26,
   "metadata": {},
   "outputs": [
    {
     "data": {
      "text/plain": [
       "<generator object <genexpr> at 0x11724ce40>"
      ]
     },
     "execution_count": 26,
     "metadata": {},
     "output_type": "execute_result"
    }
   ],
   "source": [
    "(add(*t) for t in [(0,0), [1,2], range(2,8)])"
   ]
  },
  {
   "cell_type": "code",
   "execution_count": 42,
   "metadata": {},
   "outputs": [
    {
     "data": {
      "text/plain": [
       "[0, 3, 5]"
      ]
     },
     "execution_count": 42,
     "metadata": {},
     "output_type": "execute_result"
    }
   ],
   "source": [
    "list((add(*t) for t in ([(0,0), [1,2], range(2,4)])))"
   ]
  },
  {
   "cell_type": "code",
   "execution_count": 32,
   "metadata": {},
   "outputs": [],
   "source": [
    "from itertools import starmap"
   ]
  },
  {
   "cell_type": "code",
   "execution_count": 41,
   "metadata": {},
   "outputs": [
    {
     "data": {
      "text/plain": [
       "[0, 3, 5]"
      ]
     },
     "execution_count": 41,
     "metadata": {},
     "output_type": "execute_result"
    }
   ],
   "source": [
    "list(starmap(add, [(0,0), [1,2], range(2,4)]))"
   ]
  },
  {
   "cell_type": "code",
   "execution_count": 38,
   "metadata": {},
   "outputs": [
    {
     "data": {
      "text/plain": [
       "[0, 2, 5]"
      ]
     },
     "execution_count": 38,
     "metadata": {},
     "output_type": "execute_result"
    }
   ],
   "source": [
    "list(starmap(add, [(0,0),  [1,1], range(2,4)]))"
   ]
  },
  {
   "cell_type": "code",
   "execution_count": 34,
   "metadata": {},
   "outputs": [
    {
     "data": {
      "text/plain": [
       "[0, 2, 4]"
      ]
     },
     "execution_count": 34,
     "metadata": {},
     "output_type": "execute_result"
    }
   ],
   "source": [
    "list(starmap(add, [(0,0), (1,1), (2,2)]))"
   ]
  },
  {
   "cell_type": "code",
   "execution_count": 43,
   "metadata": {},
   "outputs": [
    {
     "data": {
      "text/plain": [
       "6"
      ]
     },
     "execution_count": 43,
     "metadata": {},
     "output_type": "execute_result"
    }
   ],
   "source": [
    "sum([1,2,3])"
   ]
  },
  {
   "cell_type": "code",
   "execution_count": 44,
   "metadata": {},
   "outputs": [
    {
     "data": {
      "text/plain": [
       "60"
      ]
     },
     "execution_count": 44,
     "metadata": {},
     "output_type": "execute_result"
    }
   ],
   "source": [
    "sum(range(10, 40, 10))"
   ]
  },
  {
   "cell_type": "code",
   "execution_count": 45,
   "metadata": {},
   "outputs": [],
   "source": [
    "from functools import reduce"
   ]
  },
  {
   "cell_type": "code",
   "execution_count": 50,
   "metadata": {},
   "outputs": [
    {
     "data": {
      "text/plain": [
       "120"
      ]
     },
     "execution_count": 50,
     "metadata": {},
     "output_type": "execute_result"
    }
   ],
   "source": [
    "reduce(lambda x,y: x*y, [1,2,3,4,5])"
   ]
  },
  {
   "cell_type": "code",
   "execution_count": 52,
   "metadata": {},
   "outputs": [
    {
     "data": {
      "text/plain": [
       "12000"
      ]
     },
     "execution_count": 52,
     "metadata": {},
     "output_type": "execute_result"
    }
   ],
   "source": [
    "reduce(lambda x,y: x*y, [1,2,3,4,5], 100) # start value 100 --> reduce return the final report ..."
   ]
  },
  {
   "cell_type": "code",
   "execution_count": 53,
   "metadata": {},
   "outputs": [],
   "source": [
    "def sum_(iterable):\n",
    "    it = iter(iterable)\n",
    "    acc = next(it)\n",
    "    yield acc \n",
    "    for item in it:\n",
    "        acc += item \n",
    "        yield acc "
   ]
  },
  {
   "cell_type": "code",
   "execution_count": 54,
   "metadata": {},
   "outputs": [
    {
     "name": "stdout",
     "output_type": "stream",
     "text": [
      "10\n",
      "30\n",
      "60\n"
     ]
    }
   ],
   "source": [
    "for item in sum_([10, 20, 30]):\n",
    "    print(item)"
   ]
  },
  {
   "cell_type": "code",
   "execution_count": 55,
   "metadata": {},
   "outputs": [],
   "source": [
    "def running_reduce(fn, iterable, start=None):\n",
    "    it = iter(iterable)\n",
    "    if start is None:\n",
    "        acc = next(it)\n",
    "    else:\n",
    "        acc = start \n",
    "    yield acc \n",
    "    \n",
    "    for item in it:\n",
    "        acc = fn(acc, item)\n",
    "        yield acc "
   ]
  },
  {
   "cell_type": "code",
   "execution_count": 56,
   "metadata": {},
   "outputs": [
    {
     "data": {
      "text/plain": [
       "[10, 30, 60]"
      ]
     },
     "execution_count": 56,
     "metadata": {},
     "output_type": "execute_result"
    }
   ],
   "source": [
    "list(running_reduce(lambda x,y:x+y, [10, 20, 30]))"
   ]
  },
  {
   "cell_type": "code",
   "execution_count": 57,
   "metadata": {},
   "outputs": [],
   "source": [
    "import operator"
   ]
  },
  {
   "cell_type": "code",
   "execution_count": 58,
   "metadata": {},
   "outputs": [
    {
     "data": {
      "text/plain": [
       "[10, 30, 60]"
      ]
     },
     "execution_count": 58,
     "metadata": {},
     "output_type": "execute_result"
    }
   ],
   "source": [
    "list(running_reduce(operator.add, [10, 20, 30]))"
   ]
  },
  {
   "cell_type": "code",
   "execution_count": 59,
   "metadata": {},
   "outputs": [
    {
     "data": {
      "text/plain": [
       "[10, 200, 6000]"
      ]
     },
     "execution_count": 59,
     "metadata": {},
     "output_type": "execute_result"
    }
   ],
   "source": [
    "list(running_reduce(operator.mul, [10, 20, 30]))"
   ]
  },
  {
   "cell_type": "code",
   "execution_count": 60,
   "metadata": {},
   "outputs": [
    {
     "data": {
      "text/plain": [
       "[10, -10, -40]"
      ]
     },
     "execution_count": 60,
     "metadata": {},
     "output_type": "execute_result"
    }
   ],
   "source": [
    "list(running_reduce(operator.sub, [10, 20, 30]))"
   ]
  },
  {
   "cell_type": "code",
   "execution_count": 62,
   "metadata": {},
   "outputs": [
    {
     "data": {
      "text/plain": [
       "[10,\n",
       " 100000000000000000000,\n",
       " 1000000000000000000000000000000000000000000000000000000000000000000000000000000000000000000000000000000000000000000000000000000000000000000000000000000000000000000000000000000000000000000000000000000000000000000000000000000000000000000000000000000000000000000000000000000000000000000000000000000000000000000000000000000000000000000000000000000000000000000000000000000000000000000000000000000000000000000000000000000000000000000000000000000000000000000000000000000000000000000000000000000000000000000000000000000000000000000000000000000000000000000000000000000000000000000000000000000000000000000000000]"
      ]
     },
     "execution_count": 62,
     "metadata": {},
     "output_type": "execute_result"
    }
   ],
   "source": [
    "list(running_reduce(operator.pow, [10, 20, 30]))"
   ]
  },
  {
   "cell_type": "code",
   "execution_count": 63,
   "metadata": {},
   "outputs": [
    {
     "data": {
      "text/plain": [
       "[10, 100, 2000, 60000]"
      ]
     },
     "execution_count": 63,
     "metadata": {},
     "output_type": "execute_result"
    }
   ],
   "source": [
    "list(running_reduce(operator.mul, [10, 20, 30], 10))"
   ]
  },
  {
   "cell_type": "code",
   "execution_count": 64,
   "metadata": {},
   "outputs": [],
   "source": [
    "from itertools import accumulate"
   ]
  },
  {
   "cell_type": "code",
   "execution_count": 65,
   "metadata": {},
   "outputs": [
    {
     "data": {
      "text/plain": [
       "[10, 30, 60]"
      ]
     },
     "execution_count": 65,
     "metadata": {},
     "output_type": "execute_result"
    }
   ],
   "source": [
    "list(accumulate([10, 20, 30]))"
   ]
  },
  {
   "cell_type": "code",
   "execution_count": 66,
   "metadata": {},
   "outputs": [
    {
     "data": {
      "text/plain": [
       "[1, 2, 6, 24]"
      ]
     },
     "execution_count": 66,
     "metadata": {},
     "output_type": "execute_result"
    }
   ],
   "source": [
    "list(accumulate([1,2,3,4], operator.mul))"
   ]
  },
  {
   "cell_type": "code",
   "execution_count": 67,
   "metadata": {},
   "outputs": [],
   "source": [
    "from itertools import chain "
   ]
  },
  {
   "cell_type": "code",
   "execution_count": 68,
   "metadata": {},
   "outputs": [],
   "source": [
    "l = [1,2,3,4]"
   ]
  },
  {
   "cell_type": "code",
   "execution_count": 69,
   "metadata": {},
   "outputs": [
    {
     "data": {
      "text/plain": [
       "[10, 1, 2, 3, 4]"
      ]
     },
     "execution_count": 69,
     "metadata": {},
     "output_type": "execute_result"
    }
   ],
   "source": [
    "list(chain([10], l))"
   ]
  },
  {
   "cell_type": "code",
   "execution_count": 71,
   "metadata": {},
   "outputs": [
    {
     "data": {
      "text/plain": [
       "[9, 9, 18, 54, 216]"
      ]
     },
     "execution_count": 71,
     "metadata": {},
     "output_type": "execute_result"
    }
   ],
   "source": [
    "list(accumulate(chain((9,),[1,2,3,4]), operator.mul))"
   ]
  },
  {
   "cell_type": "markdown",
   "metadata": {},
   "source": [
    "# Zipping iterables ... \n",
    "\n",
    "1. The zip function ... lazy iterator ... we have already .. the zip function... . takes indiviual .. take iteable s.. iterated one at at time .. yielded value ... stops immeidatly .. shorted iterableo \n",
    "2. itertoolsx.zip_longest(*args, [filvalue=None])  .. zip_longest ... replace by the fill value ..   zip(pasdfs], [sfslfa][]afssf]) .. zip_longest([12,4,], [1,`], [a,b,c,d,e]) ..  no fouth elment .. of eithr o f .. zip_longest ([1,2,4]), []"
   ]
  },
  {
   "cell_type": "code",
   "execution_count": 72,
   "metadata": {},
   "outputs": [],
   "source": [
    "l1 = [1,2,3,4,5]"
   ]
  },
  {
   "cell_type": "code",
   "execution_count": 73,
   "metadata": {},
   "outputs": [],
   "source": [
    "l2 = list('abcd')\n",
    "\n"
   ]
  },
  {
   "cell_type": "code",
   "execution_count": 74,
   "metadata": {},
   "outputs": [],
   "source": [
    "l3 =[44,22,77,99]"
   ]
  },
  {
   "cell_type": "code",
   "execution_count": 75,
   "metadata": {},
   "outputs": [],
   "source": [
    "results = zip(l1, l2, l3)"
   ]
  },
  {
   "cell_type": "code",
   "execution_count": 77,
   "metadata": {},
   "outputs": [
    {
     "data": {
      "text/plain": [
       "True"
      ]
     },
     "execution_count": 77,
     "metadata": {},
     "output_type": "execute_result"
    }
   ],
   "source": [
    "iter(results) is results # ___ iterators .. return itself. .."
   ]
  },
  {
   "cell_type": "code",
   "execution_count": 78,
   "metadata": {},
   "outputs": [
    {
     "data": {
      "text/plain": [
       "True"
      ]
     },
     "execution_count": 78,
     "metadata": {},
     "output_type": "execute_result"
    }
   ],
   "source": [
    "'__next__' in dir(results)"
   ]
  },
  {
   "cell_type": "code",
   "execution_count": 79,
   "metadata": {},
   "outputs": [
    {
     "data": {
      "text/plain": [
       "[(1, 'a', 44), (2, 'b', 22), (3, 'c', 77), (4, 'd', 99)]"
      ]
     },
     "execution_count": 79,
     "metadata": {},
     "output_type": "execute_result"
    }
   ],
   "source": [
    "list(results)"
   ]
  },
  {
   "cell_type": "code",
   "execution_count": 80,
   "metadata": {},
   "outputs": [],
   "source": [
    "def inegers(n):\n",
    "    for i in range(n):\n",
    "        yield i \n",
    "        \n",
    "def squares(n):\n",
    "    for i in range(n):\n",
    "        yield i **2 \n",
    "        \n",
    "def cubes(n):\n",
    "    for i in range(n):\n",
    "        yield i**3 "
   ]
  },
  {
   "cell_type": "code",
   "execution_count": 83,
   "metadata": {},
   "outputs": [],
   "source": [
    "it1 = inegers(6)\n",
    "it2 = squares(5)\n",
    "it3 = cubes(4)"
   ]
  },
  {
   "cell_type": "code",
   "execution_count": 84,
   "metadata": {},
   "outputs": [
    {
     "data": {
      "text/plain": [
       "[(0, 0, 0), (1, 1, 1), (2, 4, 8), (3, 9, 27)]"
      ]
     },
     "execution_count": 84,
     "metadata": {},
     "output_type": "execute_result"
    }
   ],
   "source": [
    "list(zip(it1, it2, it3))"
   ]
  },
  {
   "cell_type": "code",
   "execution_count": 85,
   "metadata": {},
   "outputs": [],
   "source": [
    "# zip on longest func\n",
    "from itertools import zip_longest"
   ]
  },
  {
   "cell_type": "code",
   "execution_count": 87,
   "metadata": {},
   "outputs": [
    {
     "name": "stdout",
     "output_type": "stream",
     "text": [
      "Help on class zip_longest in module itertools:\n",
      "\n",
      "class zip_longest(builtins.object)\n",
      " |  zip_longest(iter1 [,iter2 [...]], [fillvalue=None]) --> zip_longest object\n",
      " |  \n",
      " |  Return a zip_longest object whose .__next__() method returns a tuple where\n",
      " |  the i-th element comes from the i-th iterable argument.  The .__next__()\n",
      " |  method continues until the longest iterable in the argument sequence\n",
      " |  is exhausted and then it raises StopIteration.  When the shorter iterables\n",
      " |  are exhausted, the fillvalue is substituted in their place.  The fillvalue\n",
      " |  defaults to None or can be specified by a keyword argument.\n",
      " |  \n",
      " |  Methods defined here:\n",
      " |  \n",
      " |  __getattribute__(self, name, /)\n",
      " |      Return getattr(self, name).\n",
      " |  \n",
      " |  __iter__(self, /)\n",
      " |      Implement iter(self).\n",
      " |  \n",
      " |  __next__(self, /)\n",
      " |      Implement next(self).\n",
      " |  \n",
      " |  __reduce__(...)\n",
      " |      Return state information for pickling.\n",
      " |  \n",
      " |  __setstate__(...)\n",
      " |      Set state information for unpickling.\n",
      " |  \n",
      " |  ----------------------------------------------------------------------\n",
      " |  Static methods defined here:\n",
      " |  \n",
      " |  __new__(*args, **kwargs) from builtins.type\n",
      " |      Create and return a new object.  See help(type) for accurate signature.\n",
      "\n"
     ]
    }
   ],
   "source": [
    "help(zip_longest)"
   ]
  },
  {
   "cell_type": "code",
   "execution_count": 88,
   "metadata": {},
   "outputs": [
    {
     "data": {
      "text/plain": [
       "[1, 2, 3, 4, 5]"
      ]
     },
     "execution_count": 88,
     "metadata": {},
     "output_type": "execute_result"
    }
   ],
   "source": [
    "l1"
   ]
  },
  {
   "cell_type": "code",
   "execution_count": 89,
   "metadata": {},
   "outputs": [
    {
     "data": {
      "text/plain": [
       "[(1, 'a', 44), (2, 'b', 22), (3, 'c', 77), (4, 'd', 99), (5, 'nn', 'nn')]"
      ]
     },
     "execution_count": 89,
     "metadata": {},
     "output_type": "execute_result"
    }
   ],
   "source": [
    "list(zip_longest(l1,l2,l3, fillvalue='nn'))"
   ]
  },
  {
   "cell_type": "code",
   "execution_count": 90,
   "metadata": {},
   "outputs": [],
   "source": [
    "def squares():\n",
    "    i = 0\n",
    "    while True:\n",
    "        yield i ** 2 \n",
    "        i +=1"
   ]
  },
  {
   "cell_type": "code",
   "execution_count": 91,
   "metadata": {},
   "outputs": [],
   "source": [
    "def cubes():\n",
    "    i = 0 \n",
    "    while True:\n",
    "        yield i **3 \n",
    "        i +=1"
   ]
  },
  {
   "cell_type": "code",
   "execution_count": 92,
   "metadata": {},
   "outputs": [],
   "source": [
    "it1 = squares()\n",
    "it2 = cubes()"
   ]
  },
  {
   "cell_type": "code",
   "execution_count": 93,
   "metadata": {},
   "outputs": [
    {
     "data": {
      "text/plain": [
       "[(0, 0, 0),\n",
       " (1, 1, 1),\n",
       " (2, 4, 8),\n",
       " (3, 9, 27),\n",
       " (4, 16, 64),\n",
       " (5, 25, 125),\n",
       " (6, 36, 216),\n",
       " (7, 49, 343),\n",
       " (8, 64, 512),\n",
       " (9, 81, 729)]"
      ]
     },
     "execution_count": 93,
     "metadata": {},
     "output_type": "execute_result"
    }
   ],
   "source": [
    "list(zip(range(10), it1, it2)) # cant use zip_longest ... as we can go to teh infinite ... iterator .."
   ]
  },
  {
   "cell_type": "code",
   "execution_count": 94,
   "metadata": {},
   "outputs": [
    {
     "data": {
      "text/plain": [
       "[(0, 100, 1000),\n",
       " (1, 121, 1331),\n",
       " (2, 144, 1728),\n",
       " (3, 169, 2197),\n",
       " (4, 196, 2744),\n",
       " (5, 225, 3375),\n",
       " (6, 256, 4096),\n",
       " (7, 289, 4913),\n",
       " (8, 324, 5832),\n",
       " (9, 361, 6859)]"
      ]
     },
     "execution_count": 94,
     "metadata": {},
     "output_type": "execute_result"
    }
   ],
   "source": [
    "list(zip(range(10), it1, it2))"
   ]
  },
  {
   "cell_type": "markdown",
   "metadata": {},
   "source": [
    "# Grouping .. based on the first elemnt of the tuple.. Group 1 ... Gorup 2 .. Group 3 .. based on key.. iterate usin gthis caon d. for key, grou in graou: print key, for i in grou: print 9 ... iterating goups .. print out hte key .. two groups .. 2 21 .. \n",
    "\n",
    "## itertools.groupby(data, [keyfunc]) e .. lazy iterator .. produce an iteratro .. return key an d sub groupps .. iterable .. (10, 10 , 100 ) .. firt grup .. sub group .. - the grupb work .. evey time changes .. 1 11 101 ... group key .. ver simialr concep .. groupin gkey .. lambda x: x[0] \n",
    "groupy(iterabved, lambd x:x[0]) .. iteratro conatin elmeng . tupel (key, sub_iterator )  \n",
    "\n",
    "1, sub_iteratro () __. next : sub_iterator 1 .. .. \n",
    "\n",
    "# note : the sequence fo elemtes are producd for mte sam underlyi iteragtor .. groups = groupby(iterable, lambda x:x[0]) ... gnext(grops) ... iteraaton .. next(groups) ... 1, sub_iterators .. next(iterable) .. next (iterabrle ) the same underlying iterator ..  .. \n",
    "2, sub_iterator .. next(goups) 3, sub_iterator)  next(ietrables .. 2 20 200 .. next in a group .. it finishes ... ) ... iteratro .. to reach the next goup.. next(iterableo) .. next(iterab) next(iterabl ) next(itrable) \n",
    "\n",
    "next(grops) itera tho allemtn befor proceding int h next group>"
   ]
  },
  {
   "cell_type": "code",
   "execution_count": null,
   "metadata": {},
   "outputs": [],
   "source": []
  },
  {
   "cell_type": "markdown",
   "metadata": {},
   "source": [
    "# Combinatroil .. permuations .. combinations .. cartesian product .. lazy iter \n",
    "\n",
    "```\n",
    " {1, 2, 3 } * {a, b, c} \n",
    "\n",
    " (1, a)\n",
    " (2, a)\n",
    " (3, a)\n",
    "\n",
    " ...\n",
    "\n",
    "\n",
    " ```\n",
    "\n",
    " 2-dimensional: A * B = {(a,b ) \\ a < a, b < b>>}\n",
    "\n",
    " n-dimsoian .. A1 * .. An ... {a1.. an}\n",
    "\n",
    "\n",
    "\n",
    " # Cartesian product .. .. l1 = [2,3,45,] l2=['1].,'1'122] .. noti sma len g.. \n",
    "\n",
    "\n",
    " def cates(l1, l2):\n",
    " for x in l1:\n",
    " for y in l2: yiel (x, y) \n",
    "\n",
    "\n",
    "  caresienProt. \n",
    "\n",
    "\n",
    "  itertools.product(*args) ... lazy iterator .. did compute the carieszin productn .. \n",
    "\n",
    "  l1 = [1,2,3] ... l2 = ['a, 'b, 'c , d ]\n",
    "\n",
    "  product(l1, l2) .. > (1, 'a), (1, '), (1, 'c)\n",
    "\n",
    "  l3 = [100, 200]\n",
    "\n",
    "  product(l1, l2, l3) \n",
    "\n",
    "  # Permutaions.. produce all possible permuatiosn fo a gien iterable .. in addition we can specify the lsenght of each permuation .. \n",
    "\n",
    "  itetool.spermuations(iteabel< r=Non>) unique .. psition .. iteabel prduce repeta value s.. you do if iteable hae repatin .. uniqu base o ton bos. \n",
    "\n",
    "\n",
    "  # Combinations .. order doesnt matter .. comgn length r .. se r.. without replacet .. caonbe be picket a gaon .. position ..  with replace . once iem pickd for can be picke agein .. .. itetools .combina t(terato, r )\n",
    "\n",
    "  teirtoo.com_with replacer(iterebl, r)"
   ]
  },
  {
   "cell_type": "markdown",
   "metadata": {},
   "source": []
  },
  {
   "cell_type": "code",
   "execution_count": 95,
   "metadata": {},
   "outputs": [],
   "source": [
    "import itertools"
   ]
  },
  {
   "cell_type": "code",
   "execution_count": 96,
   "metadata": {},
   "outputs": [],
   "source": [
    "def matrix(n):\n",
    "    for i in range(1, n+1):\n",
    "        for j in range(1, n+1):\n",
    "            yield f'{i} * {j} = {i*j}'"
   ]
  },
  {
   "cell_type": "code",
   "execution_count": 97,
   "metadata": {},
   "outputs": [
    {
     "data": {
      "text/plain": [
       "['2 * 1 = 2',\n",
       " '2 * 2 = 4',\n",
       " '2 * 3 = 6',\n",
       " '2 * 4 = 8',\n",
       " '2 * 5 = 10',\n",
       " '2 * 6 = 12',\n",
       " '2 * 7 = 14',\n",
       " '2 * 8 = 16',\n",
       " '2 * 9 = 18',\n",
       " '2 * 10 = 20']"
      ]
     },
     "execution_count": 97,
     "metadata": {},
     "output_type": "execute_result"
    }
   ],
   "source": [
    "list(itertools.islice(matrix(10), 10, 20))"
   ]
  },
  {
   "cell_type": "code",
   "execution_count": 102,
   "metadata": {},
   "outputs": [],
   "source": [
    "l1 = ''.join('x1 x2 x3 x4').split(' ')\n",
    "l2 = ''.join('y1 y2 y3').split(' ')"
   ]
  },
  {
   "cell_type": "code",
   "execution_count": 103,
   "metadata": {},
   "outputs": [
    {
     "name": "stdout",
     "output_type": "stream",
     "text": [
      "('x1', 'y1') ('x1', 'y2') ('x1', 'y3') \n",
      "('x2', 'y1') ('x2', 'y2') ('x2', 'y3') \n",
      "('x3', 'y1') ('x3', 'y2') ('x3', 'y3') \n",
      "('x4', 'y1') ('x4', 'y2') ('x4', 'y3') \n"
     ]
    }
   ],
   "source": [
    "for x in l1:\n",
    "    for y in l2:\n",
    "        print((x,y), end=' ')\n",
    "    print('')"
   ]
  },
  {
   "cell_type": "code",
   "execution_count": 104,
   "metadata": {},
   "outputs": [
    {
     "data": {
      "text/plain": [
       "[('x1', 'y1'),\n",
       " ('x1', 'y2'),\n",
       " ('x1', 'y3'),\n",
       " ('x2', 'y1'),\n",
       " ('x2', 'y2'),\n",
       " ('x2', 'y3'),\n",
       " ('x3', 'y1'),\n",
       " ('x3', 'y2'),\n",
       " ('x3', 'y3'),\n",
       " ('x4', 'y1'),\n",
       " ('x4', 'y2'),\n",
       " ('x4', 'y3')]"
      ]
     },
     "execution_count": 104,
     "metadata": {},
     "output_type": "execute_result"
    }
   ],
   "source": [
    "list(itertools.product(l1, l2))"
   ]
  },
  {
   "cell_type": "code",
   "execution_count": 105,
   "metadata": {},
   "outputs": [],
   "source": [
    "def matrix(n):\n",
    "    for i in range(1, n+1):\n",
    "        for j in range(1, n+1):\n",
    "            yield (i, j, i*j)"
   ]
  },
  {
   "cell_type": "code",
   "execution_count": 106,
   "metadata": {},
   "outputs": [
    {
     "data": {
      "text/plain": [
       "[(1, 1, 1),\n",
       " (1, 2, 2),\n",
       " (1, 3, 3),\n",
       " (1, 4, 4),\n",
       " (1, 5, 5),\n",
       " (2, 1, 2),\n",
       " (2, 2, 4),\n",
       " (2, 3, 6),\n",
       " (2, 4, 8),\n",
       " (2, 5, 10),\n",
       " (3, 1, 3),\n",
       " (3, 2, 6),\n",
       " (3, 3, 9),\n",
       " (3, 4, 12),\n",
       " (3, 5, 15),\n",
       " (4, 1, 4),\n",
       " (4, 2, 8),\n",
       " (4, 3, 12),\n",
       " (4, 4, 16),\n",
       " (4, 5, 20),\n",
       " (5, 1, 5),\n",
       " (5, 2, 10),\n",
       " (5, 3, 15),\n",
       " (5, 4, 20),\n",
       " (5, 5, 25)]"
      ]
     },
     "execution_count": 106,
     "metadata": {},
     "output_type": "execute_result"
    }
   ],
   "source": [
    "list(matrix(5))"
   ]
  },
  {
   "cell_type": "code",
   "execution_count": 107,
   "metadata": {},
   "outputs": [],
   "source": [
    "def matrix(n):\n",
    "    for i in range(1, n+1):\n",
    "        for j in range(1, n+1):\n",
    "            yield (i, j, i * j)"
   ]
  },
  {
   "cell_type": "code",
   "execution_count": 108,
   "metadata": {},
   "outputs": [],
   "source": [
    "def matrix(n):\n",
    "    yield from itertools.product(range(1, n+1), range(1, n+1))"
   ]
  },
  {
   "cell_type": "code",
   "execution_count": 110,
   "metadata": {},
   "outputs": [
    {
     "data": {
      "text/plain": [
       "[(1, 1), (1, 2), (1, 3), (2, 1), (2, 2), (2, 3), (3, 1), (3, 2), (3, 3)]"
      ]
     },
     "execution_count": 110,
     "metadata": {},
     "output_type": "execute_result"
    }
   ],
   "source": [
    "list(matrix(3))"
   ]
  },
  {
   "cell_type": "code",
   "execution_count": 111,
   "metadata": {},
   "outputs": [],
   "source": [
    "def matrix(n):\n",
    "    return ((i, j, i*j)\n",
    "            for i, j in itertools.product(range(1, n+1), range(1, n+1)))"
   ]
  },
  {
   "cell_type": "code",
   "execution_count": 112,
   "metadata": {},
   "outputs": [
    {
     "data": {
      "text/plain": [
       "[(1, 1, 1),\n",
       " (1, 2, 2),\n",
       " (1, 3, 3),\n",
       " (1, 4, 4),\n",
       " (2, 1, 2),\n",
       " (2, 2, 4),\n",
       " (2, 3, 6),\n",
       " (2, 4, 8),\n",
       " (3, 1, 3),\n",
       " (3, 2, 6),\n",
       " (3, 3, 9),\n",
       " (3, 4, 12),\n",
       " (4, 1, 4),\n",
       " (4, 2, 8),\n",
       " (4, 3, 12),\n",
       " (4, 4, 16)]"
      ]
     },
     "execution_count": 112,
     "metadata": {},
     "output_type": "execute_result"
    }
   ],
   "source": [
    "list(matrix(4))"
   ]
  },
  {
   "cell_type": "code",
   "execution_count": 113,
   "metadata": {},
   "outputs": [],
   "source": [
    "from itertools import tee"
   ]
  },
  {
   "cell_type": "code",
   "execution_count": 118,
   "metadata": {},
   "outputs": [],
   "source": [
    "def matrix(n):\n",
    "    return ((i,j, i*j)\n",
    "            for i, j in itertools.product(*tee(range(1, n+1), 2)))"
   ]
  },
  {
   "cell_type": "code",
   "execution_count": 119,
   "metadata": {},
   "outputs": [
    {
     "data": {
      "text/plain": [
       "[(1, 1, 1),\n",
       " (1, 2, 2),\n",
       " (1, 3, 3),\n",
       " (1, 4, 4),\n",
       " (2, 1, 2),\n",
       " (2, 2, 4),\n",
       " (2, 3, 6),\n",
       " (2, 4, 8),\n",
       " (3, 1, 3),\n",
       " (3, 2, 6),\n",
       " (3, 3, 9),\n",
       " (3, 4, 12),\n",
       " (4, 1, 4),\n",
       " (4, 2, 8),\n",
       " (4, 3, 12),\n",
       " (4, 4, 16)]"
      ]
     },
     "execution_count": 119,
     "metadata": {},
     "output_type": "execute_result"
    }
   ],
   "source": [
    "list(matrix(4))"
   ]
  },
  {
   "cell_type": "code",
   "execution_count": 122,
   "metadata": {},
   "outputs": [],
   "source": [
    "def grid(minVal, maxVal, step, *, numDims=2):\n",
    "    axis = itertools.takewhile(lambda x:x<=maxVal,\n",
    "                        itertools.count(minVal, step))\n",
    "    \n",
    "    axes = itertools.tee(axis, numDims)\n",
    "    \n",
    "    return itertools.product(*axes)"
   ]
  },
  {
   "cell_type": "code",
   "execution_count": 123,
   "metadata": {},
   "outputs": [
    {
     "data": {
      "text/plain": [
       "[(-1, -1),\n",
       " (-1, -0.5),\n",
       " (-1, 0.0),\n",
       " (-1, 0.5),\n",
       " (-1, 1.0),\n",
       " (-0.5, -1),\n",
       " (-0.5, -0.5),\n",
       " (-0.5, 0.0),\n",
       " (-0.5, 0.5),\n",
       " (-0.5, 1.0),\n",
       " (0.0, -1),\n",
       " (0.0, -0.5),\n",
       " (0.0, 0.0),\n",
       " (0.0, 0.5),\n",
       " (0.0, 1.0),\n",
       " (0.5, -1),\n",
       " (0.5, -0.5),\n",
       " (0.5, 0.0),\n",
       " (0.5, 0.5),\n",
       " (0.5, 1.0),\n",
       " (1.0, -1),\n",
       " (1.0, -0.5),\n",
       " (1.0, 0.0),\n",
       " (1.0, 0.5),\n",
       " (1.0, 1.0)]"
      ]
     },
     "execution_count": 123,
     "metadata": {},
     "output_type": "execute_result"
    }
   ],
   "source": [
    "list(grid(-1, 1, 0.5))"
   ]
  },
  {
   "cell_type": "code",
   "execution_count": 124,
   "metadata": {},
   "outputs": [
    {
     "data": {
      "text/plain": [
       "[(-1, -1, -1, -1, -1, -1),\n",
       " (-1, -1, -1, -1, -1, -0.5),\n",
       " (-1, -1, -1, -1, -1, 0.0),\n",
       " (-1, -1, -1, -1, -1, 0.5),\n",
       " (-1, -1, -1, -1, -1, 1.0),\n",
       " (-1, -1, -1, -1, -0.5, -1),\n",
       " (-1, -1, -1, -1, -0.5, -0.5),\n",
       " (-1, -1, -1, -1, -0.5, 0.0),\n",
       " (-1, -1, -1, -1, -0.5, 0.5),\n",
       " (-1, -1, -1, -1, -0.5, 1.0),\n",
       " (-1, -1, -1, -1, 0.0, -1),\n",
       " (-1, -1, -1, -1, 0.0, -0.5),\n",
       " (-1, -1, -1, -1, 0.0, 0.0),\n",
       " (-1, -1, -1, -1, 0.0, 0.5),\n",
       " (-1, -1, -1, -1, 0.0, 1.0),\n",
       " (-1, -1, -1, -1, 0.5, -1),\n",
       " (-1, -1, -1, -1, 0.5, -0.5),\n",
       " (-1, -1, -1, -1, 0.5, 0.0),\n",
       " (-1, -1, -1, -1, 0.5, 0.5),\n",
       " (-1, -1, -1, -1, 0.5, 1.0),\n",
       " (-1, -1, -1, -1, 1.0, -1),\n",
       " (-1, -1, -1, -1, 1.0, -0.5),\n",
       " (-1, -1, -1, -1, 1.0, 0.0),\n",
       " (-1, -1, -1, -1, 1.0, 0.5),\n",
       " (-1, -1, -1, -1, 1.0, 1.0),\n",
       " (-1, -1, -1, -0.5, -1, -1),\n",
       " (-1, -1, -1, -0.5, -1, -0.5),\n",
       " (-1, -1, -1, -0.5, -1, 0.0),\n",
       " (-1, -1, -1, -0.5, -1, 0.5),\n",
       " (-1, -1, -1, -0.5, -1, 1.0),\n",
       " (-1, -1, -1, -0.5, -0.5, -1),\n",
       " (-1, -1, -1, -0.5, -0.5, -0.5),\n",
       " (-1, -1, -1, -0.5, -0.5, 0.0),\n",
       " (-1, -1, -1, -0.5, -0.5, 0.5),\n",
       " (-1, -1, -1, -0.5, -0.5, 1.0),\n",
       " (-1, -1, -1, -0.5, 0.0, -1),\n",
       " (-1, -1, -1, -0.5, 0.0, -0.5),\n",
       " (-1, -1, -1, -0.5, 0.0, 0.0),\n",
       " (-1, -1, -1, -0.5, 0.0, 0.5),\n",
       " (-1, -1, -1, -0.5, 0.0, 1.0),\n",
       " (-1, -1, -1, -0.5, 0.5, -1),\n",
       " (-1, -1, -1, -0.5, 0.5, -0.5),\n",
       " (-1, -1, -1, -0.5, 0.5, 0.0),\n",
       " (-1, -1, -1, -0.5, 0.5, 0.5),\n",
       " (-1, -1, -1, -0.5, 0.5, 1.0),\n",
       " (-1, -1, -1, -0.5, 1.0, -1),\n",
       " (-1, -1, -1, -0.5, 1.0, -0.5),\n",
       " (-1, -1, -1, -0.5, 1.0, 0.0),\n",
       " (-1, -1, -1, -0.5, 1.0, 0.5),\n",
       " (-1, -1, -1, -0.5, 1.0, 1.0),\n",
       " (-1, -1, -1, 0.0, -1, -1),\n",
       " (-1, -1, -1, 0.0, -1, -0.5),\n",
       " (-1, -1, -1, 0.0, -1, 0.0),\n",
       " (-1, -1, -1, 0.0, -1, 0.5),\n",
       " (-1, -1, -1, 0.0, -1, 1.0),\n",
       " (-1, -1, -1, 0.0, -0.5, -1),\n",
       " (-1, -1, -1, 0.0, -0.5, -0.5),\n",
       " (-1, -1, -1, 0.0, -0.5, 0.0),\n",
       " (-1, -1, -1, 0.0, -0.5, 0.5),\n",
       " (-1, -1, -1, 0.0, -0.5, 1.0),\n",
       " (-1, -1, -1, 0.0, 0.0, -1),\n",
       " (-1, -1, -1, 0.0, 0.0, -0.5),\n",
       " (-1, -1, -1, 0.0, 0.0, 0.0),\n",
       " (-1, -1, -1, 0.0, 0.0, 0.5),\n",
       " (-1, -1, -1, 0.0, 0.0, 1.0),\n",
       " (-1, -1, -1, 0.0, 0.5, -1),\n",
       " (-1, -1, -1, 0.0, 0.5, -0.5),\n",
       " (-1, -1, -1, 0.0, 0.5, 0.0),\n",
       " (-1, -1, -1, 0.0, 0.5, 0.5),\n",
       " (-1, -1, -1, 0.0, 0.5, 1.0),\n",
       " (-1, -1, -1, 0.0, 1.0, -1),\n",
       " (-1, -1, -1, 0.0, 1.0, -0.5),\n",
       " (-1, -1, -1, 0.0, 1.0, 0.0),\n",
       " (-1, -1, -1, 0.0, 1.0, 0.5),\n",
       " (-1, -1, -1, 0.0, 1.0, 1.0),\n",
       " (-1, -1, -1, 0.5, -1, -1),\n",
       " (-1, -1, -1, 0.5, -1, -0.5),\n",
       " (-1, -1, -1, 0.5, -1, 0.0),\n",
       " (-1, -1, -1, 0.5, -1, 0.5),\n",
       " (-1, -1, -1, 0.5, -1, 1.0),\n",
       " (-1, -1, -1, 0.5, -0.5, -1),\n",
       " (-1, -1, -1, 0.5, -0.5, -0.5),\n",
       " (-1, -1, -1, 0.5, -0.5, 0.0),\n",
       " (-1, -1, -1, 0.5, -0.5, 0.5),\n",
       " (-1, -1, -1, 0.5, -0.5, 1.0),\n",
       " (-1, -1, -1, 0.5, 0.0, -1),\n",
       " (-1, -1, -1, 0.5, 0.0, -0.5),\n",
       " (-1, -1, -1, 0.5, 0.0, 0.0),\n",
       " (-1, -1, -1, 0.5, 0.0, 0.5),\n",
       " (-1, -1, -1, 0.5, 0.0, 1.0),\n",
       " (-1, -1, -1, 0.5, 0.5, -1),\n",
       " (-1, -1, -1, 0.5, 0.5, -0.5),\n",
       " (-1, -1, -1, 0.5, 0.5, 0.0),\n",
       " (-1, -1, -1, 0.5, 0.5, 0.5),\n",
       " (-1, -1, -1, 0.5, 0.5, 1.0),\n",
       " (-1, -1, -1, 0.5, 1.0, -1),\n",
       " (-1, -1, -1, 0.5, 1.0, -0.5),\n",
       " (-1, -1, -1, 0.5, 1.0, 0.0),\n",
       " (-1, -1, -1, 0.5, 1.0, 0.5),\n",
       " (-1, -1, -1, 0.5, 1.0, 1.0),\n",
       " (-1, -1, -1, 1.0, -1, -1),\n",
       " (-1, -1, -1, 1.0, -1, -0.5),\n",
       " (-1, -1, -1, 1.0, -1, 0.0),\n",
       " (-1, -1, -1, 1.0, -1, 0.5),\n",
       " (-1, -1, -1, 1.0, -1, 1.0),\n",
       " (-1, -1, -1, 1.0, -0.5, -1),\n",
       " (-1, -1, -1, 1.0, -0.5, -0.5),\n",
       " (-1, -1, -1, 1.0, -0.5, 0.0),\n",
       " (-1, -1, -1, 1.0, -0.5, 0.5),\n",
       " (-1, -1, -1, 1.0, -0.5, 1.0),\n",
       " (-1, -1, -1, 1.0, 0.0, -1),\n",
       " (-1, -1, -1, 1.0, 0.0, -0.5),\n",
       " (-1, -1, -1, 1.0, 0.0, 0.0),\n",
       " (-1, -1, -1, 1.0, 0.0, 0.5),\n",
       " (-1, -1, -1, 1.0, 0.0, 1.0),\n",
       " (-1, -1, -1, 1.0, 0.5, -1),\n",
       " (-1, -1, -1, 1.0, 0.5, -0.5),\n",
       " (-1, -1, -1, 1.0, 0.5, 0.0),\n",
       " (-1, -1, -1, 1.0, 0.5, 0.5),\n",
       " (-1, -1, -1, 1.0, 0.5, 1.0),\n",
       " (-1, -1, -1, 1.0, 1.0, -1),\n",
       " (-1, -1, -1, 1.0, 1.0, -0.5),\n",
       " (-1, -1, -1, 1.0, 1.0, 0.0),\n",
       " (-1, -1, -1, 1.0, 1.0, 0.5),\n",
       " (-1, -1, -1, 1.0, 1.0, 1.0),\n",
       " (-1, -1, -0.5, -1, -1, -1),\n",
       " (-1, -1, -0.5, -1, -1, -0.5),\n",
       " (-1, -1, -0.5, -1, -1, 0.0),\n",
       " (-1, -1, -0.5, -1, -1, 0.5),\n",
       " (-1, -1, -0.5, -1, -1, 1.0),\n",
       " (-1, -1, -0.5, -1, -0.5, -1),\n",
       " (-1, -1, -0.5, -1, -0.5, -0.5),\n",
       " (-1, -1, -0.5, -1, -0.5, 0.0),\n",
       " (-1, -1, -0.5, -1, -0.5, 0.5),\n",
       " (-1, -1, -0.5, -1, -0.5, 1.0),\n",
       " (-1, -1, -0.5, -1, 0.0, -1),\n",
       " (-1, -1, -0.5, -1, 0.0, -0.5),\n",
       " (-1, -1, -0.5, -1, 0.0, 0.0),\n",
       " (-1, -1, -0.5, -1, 0.0, 0.5),\n",
       " (-1, -1, -0.5, -1, 0.0, 1.0),\n",
       " (-1, -1, -0.5, -1, 0.5, -1),\n",
       " (-1, -1, -0.5, -1, 0.5, -0.5),\n",
       " (-1, -1, -0.5, -1, 0.5, 0.0),\n",
       " (-1, -1, -0.5, -1, 0.5, 0.5),\n",
       " (-1, -1, -0.5, -1, 0.5, 1.0),\n",
       " (-1, -1, -0.5, -1, 1.0, -1),\n",
       " (-1, -1, -0.5, -1, 1.0, -0.5),\n",
       " (-1, -1, -0.5, -1, 1.0, 0.0),\n",
       " (-1, -1, -0.5, -1, 1.0, 0.5),\n",
       " (-1, -1, -0.5, -1, 1.0, 1.0),\n",
       " (-1, -1, -0.5, -0.5, -1, -1),\n",
       " (-1, -1, -0.5, -0.5, -1, -0.5),\n",
       " (-1, -1, -0.5, -0.5, -1, 0.0),\n",
       " (-1, -1, -0.5, -0.5, -1, 0.5),\n",
       " (-1, -1, -0.5, -0.5, -1, 1.0),\n",
       " (-1, -1, -0.5, -0.5, -0.5, -1),\n",
       " (-1, -1, -0.5, -0.5, -0.5, -0.5),\n",
       " (-1, -1, -0.5, -0.5, -0.5, 0.0),\n",
       " (-1, -1, -0.5, -0.5, -0.5, 0.5),\n",
       " (-1, -1, -0.5, -0.5, -0.5, 1.0),\n",
       " (-1, -1, -0.5, -0.5, 0.0, -1),\n",
       " (-1, -1, -0.5, -0.5, 0.0, -0.5),\n",
       " (-1, -1, -0.5, -0.5, 0.0, 0.0),\n",
       " (-1, -1, -0.5, -0.5, 0.0, 0.5),\n",
       " (-1, -1, -0.5, -0.5, 0.0, 1.0),\n",
       " (-1, -1, -0.5, -0.5, 0.5, -1),\n",
       " (-1, -1, -0.5, -0.5, 0.5, -0.5),\n",
       " (-1, -1, -0.5, -0.5, 0.5, 0.0),\n",
       " (-1, -1, -0.5, -0.5, 0.5, 0.5),\n",
       " (-1, -1, -0.5, -0.5, 0.5, 1.0),\n",
       " (-1, -1, -0.5, -0.5, 1.0, -1),\n",
       " (-1, -1, -0.5, -0.5, 1.0, -0.5),\n",
       " (-1, -1, -0.5, -0.5, 1.0, 0.0),\n",
       " (-1, -1, -0.5, -0.5, 1.0, 0.5),\n",
       " (-1, -1, -0.5, -0.5, 1.0, 1.0),\n",
       " (-1, -1, -0.5, 0.0, -1, -1),\n",
       " (-1, -1, -0.5, 0.0, -1, -0.5),\n",
       " (-1, -1, -0.5, 0.0, -1, 0.0),\n",
       " (-1, -1, -0.5, 0.0, -1, 0.5),\n",
       " (-1, -1, -0.5, 0.0, -1, 1.0),\n",
       " (-1, -1, -0.5, 0.0, -0.5, -1),\n",
       " (-1, -1, -0.5, 0.0, -0.5, -0.5),\n",
       " (-1, -1, -0.5, 0.0, -0.5, 0.0),\n",
       " (-1, -1, -0.5, 0.0, -0.5, 0.5),\n",
       " (-1, -1, -0.5, 0.0, -0.5, 1.0),\n",
       " (-1, -1, -0.5, 0.0, 0.0, -1),\n",
       " (-1, -1, -0.5, 0.0, 0.0, -0.5),\n",
       " (-1, -1, -0.5, 0.0, 0.0, 0.0),\n",
       " (-1, -1, -0.5, 0.0, 0.0, 0.5),\n",
       " (-1, -1, -0.5, 0.0, 0.0, 1.0),\n",
       " (-1, -1, -0.5, 0.0, 0.5, -1),\n",
       " (-1, -1, -0.5, 0.0, 0.5, -0.5),\n",
       " (-1, -1, -0.5, 0.0, 0.5, 0.0),\n",
       " (-1, -1, -0.5, 0.0, 0.5, 0.5),\n",
       " (-1, -1, -0.5, 0.0, 0.5, 1.0),\n",
       " (-1, -1, -0.5, 0.0, 1.0, -1),\n",
       " (-1, -1, -0.5, 0.0, 1.0, -0.5),\n",
       " (-1, -1, -0.5, 0.0, 1.0, 0.0),\n",
       " (-1, -1, -0.5, 0.0, 1.0, 0.5),\n",
       " (-1, -1, -0.5, 0.0, 1.0, 1.0),\n",
       " (-1, -1, -0.5, 0.5, -1, -1),\n",
       " (-1, -1, -0.5, 0.5, -1, -0.5),\n",
       " (-1, -1, -0.5, 0.5, -1, 0.0),\n",
       " (-1, -1, -0.5, 0.5, -1, 0.5),\n",
       " (-1, -1, -0.5, 0.5, -1, 1.0),\n",
       " (-1, -1, -0.5, 0.5, -0.5, -1),\n",
       " (-1, -1, -0.5, 0.5, -0.5, -0.5),\n",
       " (-1, -1, -0.5, 0.5, -0.5, 0.0),\n",
       " (-1, -1, -0.5, 0.5, -0.5, 0.5),\n",
       " (-1, -1, -0.5, 0.5, -0.5, 1.0),\n",
       " (-1, -1, -0.5, 0.5, 0.0, -1),\n",
       " (-1, -1, -0.5, 0.5, 0.0, -0.5),\n",
       " (-1, -1, -0.5, 0.5, 0.0, 0.0),\n",
       " (-1, -1, -0.5, 0.5, 0.0, 0.5),\n",
       " (-1, -1, -0.5, 0.5, 0.0, 1.0),\n",
       " (-1, -1, -0.5, 0.5, 0.5, -1),\n",
       " (-1, -1, -0.5, 0.5, 0.5, -0.5),\n",
       " (-1, -1, -0.5, 0.5, 0.5, 0.0),\n",
       " (-1, -1, -0.5, 0.5, 0.5, 0.5),\n",
       " (-1, -1, -0.5, 0.5, 0.5, 1.0),\n",
       " (-1, -1, -0.5, 0.5, 1.0, -1),\n",
       " (-1, -1, -0.5, 0.5, 1.0, -0.5),\n",
       " (-1, -1, -0.5, 0.5, 1.0, 0.0),\n",
       " (-1, -1, -0.5, 0.5, 1.0, 0.5),\n",
       " (-1, -1, -0.5, 0.5, 1.0, 1.0),\n",
       " (-1, -1, -0.5, 1.0, -1, -1),\n",
       " (-1, -1, -0.5, 1.0, -1, -0.5),\n",
       " (-1, -1, -0.5, 1.0, -1, 0.0),\n",
       " (-1, -1, -0.5, 1.0, -1, 0.5),\n",
       " (-1, -1, -0.5, 1.0, -1, 1.0),\n",
       " (-1, -1, -0.5, 1.0, -0.5, -1),\n",
       " (-1, -1, -0.5, 1.0, -0.5, -0.5),\n",
       " (-1, -1, -0.5, 1.0, -0.5, 0.0),\n",
       " (-1, -1, -0.5, 1.0, -0.5, 0.5),\n",
       " (-1, -1, -0.5, 1.0, -0.5, 1.0),\n",
       " (-1, -1, -0.5, 1.0, 0.0, -1),\n",
       " (-1, -1, -0.5, 1.0, 0.0, -0.5),\n",
       " (-1, -1, -0.5, 1.0, 0.0, 0.0),\n",
       " (-1, -1, -0.5, 1.0, 0.0, 0.5),\n",
       " (-1, -1, -0.5, 1.0, 0.0, 1.0),\n",
       " (-1, -1, -0.5, 1.0, 0.5, -1),\n",
       " (-1, -1, -0.5, 1.0, 0.5, -0.5),\n",
       " (-1, -1, -0.5, 1.0, 0.5, 0.0),\n",
       " (-1, -1, -0.5, 1.0, 0.5, 0.5),\n",
       " (-1, -1, -0.5, 1.0, 0.5, 1.0),\n",
       " (-1, -1, -0.5, 1.0, 1.0, -1),\n",
       " (-1, -1, -0.5, 1.0, 1.0, -0.5),\n",
       " (-1, -1, -0.5, 1.0, 1.0, 0.0),\n",
       " (-1, -1, -0.5, 1.0, 1.0, 0.5),\n",
       " (-1, -1, -0.5, 1.0, 1.0, 1.0),\n",
       " (-1, -1, 0.0, -1, -1, -1),\n",
       " (-1, -1, 0.0, -1, -1, -0.5),\n",
       " (-1, -1, 0.0, -1, -1, 0.0),\n",
       " (-1, -1, 0.0, -1, -1, 0.5),\n",
       " (-1, -1, 0.0, -1, -1, 1.0),\n",
       " (-1, -1, 0.0, -1, -0.5, -1),\n",
       " (-1, -1, 0.0, -1, -0.5, -0.5),\n",
       " (-1, -1, 0.0, -1, -0.5, 0.0),\n",
       " (-1, -1, 0.0, -1, -0.5, 0.5),\n",
       " (-1, -1, 0.0, -1, -0.5, 1.0),\n",
       " (-1, -1, 0.0, -1, 0.0, -1),\n",
       " (-1, -1, 0.0, -1, 0.0, -0.5),\n",
       " (-1, -1, 0.0, -1, 0.0, 0.0),\n",
       " (-1, -1, 0.0, -1, 0.0, 0.5),\n",
       " (-1, -1, 0.0, -1, 0.0, 1.0),\n",
       " (-1, -1, 0.0, -1, 0.5, -1),\n",
       " (-1, -1, 0.0, -1, 0.5, -0.5),\n",
       " (-1, -1, 0.0, -1, 0.5, 0.0),\n",
       " (-1, -1, 0.0, -1, 0.5, 0.5),\n",
       " (-1, -1, 0.0, -1, 0.5, 1.0),\n",
       " (-1, -1, 0.0, -1, 1.0, -1),\n",
       " (-1, -1, 0.0, -1, 1.0, -0.5),\n",
       " (-1, -1, 0.0, -1, 1.0, 0.0),\n",
       " (-1, -1, 0.0, -1, 1.0, 0.5),\n",
       " (-1, -1, 0.0, -1, 1.0, 1.0),\n",
       " (-1, -1, 0.0, -0.5, -1, -1),\n",
       " (-1, -1, 0.0, -0.5, -1, -0.5),\n",
       " (-1, -1, 0.0, -0.5, -1, 0.0),\n",
       " (-1, -1, 0.0, -0.5, -1, 0.5),\n",
       " (-1, -1, 0.0, -0.5, -1, 1.0),\n",
       " (-1, -1, 0.0, -0.5, -0.5, -1),\n",
       " (-1, -1, 0.0, -0.5, -0.5, -0.5),\n",
       " (-1, -1, 0.0, -0.5, -0.5, 0.0),\n",
       " (-1, -1, 0.0, -0.5, -0.5, 0.5),\n",
       " (-1, -1, 0.0, -0.5, -0.5, 1.0),\n",
       " (-1, -1, 0.0, -0.5, 0.0, -1),\n",
       " (-1, -1, 0.0, -0.5, 0.0, -0.5),\n",
       " (-1, -1, 0.0, -0.5, 0.0, 0.0),\n",
       " (-1, -1, 0.0, -0.5, 0.0, 0.5),\n",
       " (-1, -1, 0.0, -0.5, 0.0, 1.0),\n",
       " (-1, -1, 0.0, -0.5, 0.5, -1),\n",
       " (-1, -1, 0.0, -0.5, 0.5, -0.5),\n",
       " (-1, -1, 0.0, -0.5, 0.5, 0.0),\n",
       " (-1, -1, 0.0, -0.5, 0.5, 0.5),\n",
       " (-1, -1, 0.0, -0.5, 0.5, 1.0),\n",
       " (-1, -1, 0.0, -0.5, 1.0, -1),\n",
       " (-1, -1, 0.0, -0.5, 1.0, -0.5),\n",
       " (-1, -1, 0.0, -0.5, 1.0, 0.0),\n",
       " (-1, -1, 0.0, -0.5, 1.0, 0.5),\n",
       " (-1, -1, 0.0, -0.5, 1.0, 1.0),\n",
       " (-1, -1, 0.0, 0.0, -1, -1),\n",
       " (-1, -1, 0.0, 0.0, -1, -0.5),\n",
       " (-1, -1, 0.0, 0.0, -1, 0.0),\n",
       " (-1, -1, 0.0, 0.0, -1, 0.5),\n",
       " (-1, -1, 0.0, 0.0, -1, 1.0),\n",
       " (-1, -1, 0.0, 0.0, -0.5, -1),\n",
       " (-1, -1, 0.0, 0.0, -0.5, -0.5),\n",
       " (-1, -1, 0.0, 0.0, -0.5, 0.0),\n",
       " (-1, -1, 0.0, 0.0, -0.5, 0.5),\n",
       " (-1, -1, 0.0, 0.0, -0.5, 1.0),\n",
       " (-1, -1, 0.0, 0.0, 0.0, -1),\n",
       " (-1, -1, 0.0, 0.0, 0.0, -0.5),\n",
       " (-1, -1, 0.0, 0.0, 0.0, 0.0),\n",
       " (-1, -1, 0.0, 0.0, 0.0, 0.5),\n",
       " (-1, -1, 0.0, 0.0, 0.0, 1.0),\n",
       " (-1, -1, 0.0, 0.0, 0.5, -1),\n",
       " (-1, -1, 0.0, 0.0, 0.5, -0.5),\n",
       " (-1, -1, 0.0, 0.0, 0.5, 0.0),\n",
       " (-1, -1, 0.0, 0.0, 0.5, 0.5),\n",
       " (-1, -1, 0.0, 0.0, 0.5, 1.0),\n",
       " (-1, -1, 0.0, 0.0, 1.0, -1),\n",
       " (-1, -1, 0.0, 0.0, 1.0, -0.5),\n",
       " (-1, -1, 0.0, 0.0, 1.0, 0.0),\n",
       " (-1, -1, 0.0, 0.0, 1.0, 0.5),\n",
       " (-1, -1, 0.0, 0.0, 1.0, 1.0),\n",
       " (-1, -1, 0.0, 0.5, -1, -1),\n",
       " (-1, -1, 0.0, 0.5, -1, -0.5),\n",
       " (-1, -1, 0.0, 0.5, -1, 0.0),\n",
       " (-1, -1, 0.0, 0.5, -1, 0.5),\n",
       " (-1, -1, 0.0, 0.5, -1, 1.0),\n",
       " (-1, -1, 0.0, 0.5, -0.5, -1),\n",
       " (-1, -1, 0.0, 0.5, -0.5, -0.5),\n",
       " (-1, -1, 0.0, 0.5, -0.5, 0.0),\n",
       " (-1, -1, 0.0, 0.5, -0.5, 0.5),\n",
       " (-1, -1, 0.0, 0.5, -0.5, 1.0),\n",
       " (-1, -1, 0.0, 0.5, 0.0, -1),\n",
       " (-1, -1, 0.0, 0.5, 0.0, -0.5),\n",
       " (-1, -1, 0.0, 0.5, 0.0, 0.0),\n",
       " (-1, -1, 0.0, 0.5, 0.0, 0.5),\n",
       " (-1, -1, 0.0, 0.5, 0.0, 1.0),\n",
       " (-1, -1, 0.0, 0.5, 0.5, -1),\n",
       " (-1, -1, 0.0, 0.5, 0.5, -0.5),\n",
       " (-1, -1, 0.0, 0.5, 0.5, 0.0),\n",
       " (-1, -1, 0.0, 0.5, 0.5, 0.5),\n",
       " (-1, -1, 0.0, 0.5, 0.5, 1.0),\n",
       " (-1, -1, 0.0, 0.5, 1.0, -1),\n",
       " (-1, -1, 0.0, 0.5, 1.0, -0.5),\n",
       " (-1, -1, 0.0, 0.5, 1.0, 0.0),\n",
       " (-1, -1, 0.0, 0.5, 1.0, 0.5),\n",
       " (-1, -1, 0.0, 0.5, 1.0, 1.0),\n",
       " (-1, -1, 0.0, 1.0, -1, -1),\n",
       " (-1, -1, 0.0, 1.0, -1, -0.5),\n",
       " (-1, -1, 0.0, 1.0, -1, 0.0),\n",
       " (-1, -1, 0.0, 1.0, -1, 0.5),\n",
       " (-1, -1, 0.0, 1.0, -1, 1.0),\n",
       " (-1, -1, 0.0, 1.0, -0.5, -1),\n",
       " (-1, -1, 0.0, 1.0, -0.5, -0.5),\n",
       " (-1, -1, 0.0, 1.0, -0.5, 0.0),\n",
       " (-1, -1, 0.0, 1.0, -0.5, 0.5),\n",
       " (-1, -1, 0.0, 1.0, -0.5, 1.0),\n",
       " (-1, -1, 0.0, 1.0, 0.0, -1),\n",
       " (-1, -1, 0.0, 1.0, 0.0, -0.5),\n",
       " (-1, -1, 0.0, 1.0, 0.0, 0.0),\n",
       " (-1, -1, 0.0, 1.0, 0.0, 0.5),\n",
       " (-1, -1, 0.0, 1.0, 0.0, 1.0),\n",
       " (-1, -1, 0.0, 1.0, 0.5, -1),\n",
       " (-1, -1, 0.0, 1.0, 0.5, -0.5),\n",
       " (-1, -1, 0.0, 1.0, 0.5, 0.0),\n",
       " (-1, -1, 0.0, 1.0, 0.5, 0.5),\n",
       " (-1, -1, 0.0, 1.0, 0.5, 1.0),\n",
       " (-1, -1, 0.0, 1.0, 1.0, -1),\n",
       " (-1, -1, 0.0, 1.0, 1.0, -0.5),\n",
       " (-1, -1, 0.0, 1.0, 1.0, 0.0),\n",
       " (-1, -1, 0.0, 1.0, 1.0, 0.5),\n",
       " (-1, -1, 0.0, 1.0, 1.0, 1.0),\n",
       " (-1, -1, 0.5, -1, -1, -1),\n",
       " (-1, -1, 0.5, -1, -1, -0.5),\n",
       " (-1, -1, 0.5, -1, -1, 0.0),\n",
       " (-1, -1, 0.5, -1, -1, 0.5),\n",
       " (-1, -1, 0.5, -1, -1, 1.0),\n",
       " (-1, -1, 0.5, -1, -0.5, -1),\n",
       " (-1, -1, 0.5, -1, -0.5, -0.5),\n",
       " (-1, -1, 0.5, -1, -0.5, 0.0),\n",
       " (-1, -1, 0.5, -1, -0.5, 0.5),\n",
       " (-1, -1, 0.5, -1, -0.5, 1.0),\n",
       " (-1, -1, 0.5, -1, 0.0, -1),\n",
       " (-1, -1, 0.5, -1, 0.0, -0.5),\n",
       " (-1, -1, 0.5, -1, 0.0, 0.0),\n",
       " (-1, -1, 0.5, -1, 0.0, 0.5),\n",
       " (-1, -1, 0.5, -1, 0.0, 1.0),\n",
       " (-1, -1, 0.5, -1, 0.5, -1),\n",
       " (-1, -1, 0.5, -1, 0.5, -0.5),\n",
       " (-1, -1, 0.5, -1, 0.5, 0.0),\n",
       " (-1, -1, 0.5, -1, 0.5, 0.5),\n",
       " (-1, -1, 0.5, -1, 0.5, 1.0),\n",
       " (-1, -1, 0.5, -1, 1.0, -1),\n",
       " (-1, -1, 0.5, -1, 1.0, -0.5),\n",
       " (-1, -1, 0.5, -1, 1.0, 0.0),\n",
       " (-1, -1, 0.5, -1, 1.0, 0.5),\n",
       " (-1, -1, 0.5, -1, 1.0, 1.0),\n",
       " (-1, -1, 0.5, -0.5, -1, -1),\n",
       " (-1, -1, 0.5, -0.5, -1, -0.5),\n",
       " (-1, -1, 0.5, -0.5, -1, 0.0),\n",
       " (-1, -1, 0.5, -0.5, -1, 0.5),\n",
       " (-1, -1, 0.5, -0.5, -1, 1.0),\n",
       " (-1, -1, 0.5, -0.5, -0.5, -1),\n",
       " (-1, -1, 0.5, -0.5, -0.5, -0.5),\n",
       " (-1, -1, 0.5, -0.5, -0.5, 0.0),\n",
       " (-1, -1, 0.5, -0.5, -0.5, 0.5),\n",
       " (-1, -1, 0.5, -0.5, -0.5, 1.0),\n",
       " (-1, -1, 0.5, -0.5, 0.0, -1),\n",
       " (-1, -1, 0.5, -0.5, 0.0, -0.5),\n",
       " (-1, -1, 0.5, -0.5, 0.0, 0.0),\n",
       " (-1, -1, 0.5, -0.5, 0.0, 0.5),\n",
       " (-1, -1, 0.5, -0.5, 0.0, 1.0),\n",
       " (-1, -1, 0.5, -0.5, 0.5, -1),\n",
       " (-1, -1, 0.5, -0.5, 0.5, -0.5),\n",
       " (-1, -1, 0.5, -0.5, 0.5, 0.0),\n",
       " (-1, -1, 0.5, -0.5, 0.5, 0.5),\n",
       " (-1, -1, 0.5, -0.5, 0.5, 1.0),\n",
       " (-1, -1, 0.5, -0.5, 1.0, -1),\n",
       " (-1, -1, 0.5, -0.5, 1.0, -0.5),\n",
       " (-1, -1, 0.5, -0.5, 1.0, 0.0),\n",
       " (-1, -1, 0.5, -0.5, 1.0, 0.5),\n",
       " (-1, -1, 0.5, -0.5, 1.0, 1.0),\n",
       " (-1, -1, 0.5, 0.0, -1, -1),\n",
       " (-1, -1, 0.5, 0.0, -1, -0.5),\n",
       " (-1, -1, 0.5, 0.0, -1, 0.0),\n",
       " (-1, -1, 0.5, 0.0, -1, 0.5),\n",
       " (-1, -1, 0.5, 0.0, -1, 1.0),\n",
       " (-1, -1, 0.5, 0.0, -0.5, -1),\n",
       " (-1, -1, 0.5, 0.0, -0.5, -0.5),\n",
       " (-1, -1, 0.5, 0.0, -0.5, 0.0),\n",
       " (-1, -1, 0.5, 0.0, -0.5, 0.5),\n",
       " (-1, -1, 0.5, 0.0, -0.5, 1.0),\n",
       " (-1, -1, 0.5, 0.0, 0.0, -1),\n",
       " (-1, -1, 0.5, 0.0, 0.0, -0.5),\n",
       " (-1, -1, 0.5, 0.0, 0.0, 0.0),\n",
       " (-1, -1, 0.5, 0.0, 0.0, 0.5),\n",
       " (-1, -1, 0.5, 0.0, 0.0, 1.0),\n",
       " (-1, -1, 0.5, 0.0, 0.5, -1),\n",
       " (-1, -1, 0.5, 0.0, 0.5, -0.5),\n",
       " (-1, -1, 0.5, 0.0, 0.5, 0.0),\n",
       " (-1, -1, 0.5, 0.0, 0.5, 0.5),\n",
       " (-1, -1, 0.5, 0.0, 0.5, 1.0),\n",
       " (-1, -1, 0.5, 0.0, 1.0, -1),\n",
       " (-1, -1, 0.5, 0.0, 1.0, -0.5),\n",
       " (-1, -1, 0.5, 0.0, 1.0, 0.0),\n",
       " (-1, -1, 0.5, 0.0, 1.0, 0.5),\n",
       " (-1, -1, 0.5, 0.0, 1.0, 1.0),\n",
       " (-1, -1, 0.5, 0.5, -1, -1),\n",
       " (-1, -1, 0.5, 0.5, -1, -0.5),\n",
       " (-1, -1, 0.5, 0.5, -1, 0.0),\n",
       " (-1, -1, 0.5, 0.5, -1, 0.5),\n",
       " (-1, -1, 0.5, 0.5, -1, 1.0),\n",
       " (-1, -1, 0.5, 0.5, -0.5, -1),\n",
       " (-1, -1, 0.5, 0.5, -0.5, -0.5),\n",
       " (-1, -1, 0.5, 0.5, -0.5, 0.0),\n",
       " (-1, -1, 0.5, 0.5, -0.5, 0.5),\n",
       " (-1, -1, 0.5, 0.5, -0.5, 1.0),\n",
       " (-1, -1, 0.5, 0.5, 0.0, -1),\n",
       " (-1, -1, 0.5, 0.5, 0.0, -0.5),\n",
       " (-1, -1, 0.5, 0.5, 0.0, 0.0),\n",
       " (-1, -1, 0.5, 0.5, 0.0, 0.5),\n",
       " (-1, -1, 0.5, 0.5, 0.0, 1.0),\n",
       " (-1, -1, 0.5, 0.5, 0.5, -1),\n",
       " (-1, -1, 0.5, 0.5, 0.5, -0.5),\n",
       " (-1, -1, 0.5, 0.5, 0.5, 0.0),\n",
       " (-1, -1, 0.5, 0.5, 0.5, 0.5),\n",
       " (-1, -1, 0.5, 0.5, 0.5, 1.0),\n",
       " (-1, -1, 0.5, 0.5, 1.0, -1),\n",
       " (-1, -1, 0.5, 0.5, 1.0, -0.5),\n",
       " (-1, -1, 0.5, 0.5, 1.0, 0.0),\n",
       " (-1, -1, 0.5, 0.5, 1.0, 0.5),\n",
       " (-1, -1, 0.5, 0.5, 1.0, 1.0),\n",
       " (-1, -1, 0.5, 1.0, -1, -1),\n",
       " (-1, -1, 0.5, 1.0, -1, -0.5),\n",
       " (-1, -1, 0.5, 1.0, -1, 0.0),\n",
       " (-1, -1, 0.5, 1.0, -1, 0.5),\n",
       " (-1, -1, 0.5, 1.0, -1, 1.0),\n",
       " (-1, -1, 0.5, 1.0, -0.5, -1),\n",
       " (-1, -1, 0.5, 1.0, -0.5, -0.5),\n",
       " (-1, -1, 0.5, 1.0, -0.5, 0.0),\n",
       " (-1, -1, 0.5, 1.0, -0.5, 0.5),\n",
       " (-1, -1, 0.5, 1.0, -0.5, 1.0),\n",
       " (-1, -1, 0.5, 1.0, 0.0, -1),\n",
       " (-1, -1, 0.5, 1.0, 0.0, -0.5),\n",
       " (-1, -1, 0.5, 1.0, 0.0, 0.0),\n",
       " (-1, -1, 0.5, 1.0, 0.0, 0.5),\n",
       " (-1, -1, 0.5, 1.0, 0.0, 1.0),\n",
       " (-1, -1, 0.5, 1.0, 0.5, -1),\n",
       " (-1, -1, 0.5, 1.0, 0.5, -0.5),\n",
       " (-1, -1, 0.5, 1.0, 0.5, 0.0),\n",
       " (-1, -1, 0.5, 1.0, 0.5, 0.5),\n",
       " (-1, -1, 0.5, 1.0, 0.5, 1.0),\n",
       " (-1, -1, 0.5, 1.0, 1.0, -1),\n",
       " (-1, -1, 0.5, 1.0, 1.0, -0.5),\n",
       " (-1, -1, 0.5, 1.0, 1.0, 0.0),\n",
       " (-1, -1, 0.5, 1.0, 1.0, 0.5),\n",
       " (-1, -1, 0.5, 1.0, 1.0, 1.0),\n",
       " (-1, -1, 1.0, -1, -1, -1),\n",
       " (-1, -1, 1.0, -1, -1, -0.5),\n",
       " (-1, -1, 1.0, -1, -1, 0.0),\n",
       " (-1, -1, 1.0, -1, -1, 0.5),\n",
       " (-1, -1, 1.0, -1, -1, 1.0),\n",
       " (-1, -1, 1.0, -1, -0.5, -1),\n",
       " (-1, -1, 1.0, -1, -0.5, -0.5),\n",
       " (-1, -1, 1.0, -1, -0.5, 0.0),\n",
       " (-1, -1, 1.0, -1, -0.5, 0.5),\n",
       " (-1, -1, 1.0, -1, -0.5, 1.0),\n",
       " (-1, -1, 1.0, -1, 0.0, -1),\n",
       " (-1, -1, 1.0, -1, 0.0, -0.5),\n",
       " (-1, -1, 1.0, -1, 0.0, 0.0),\n",
       " (-1, -1, 1.0, -1, 0.0, 0.5),\n",
       " (-1, -1, 1.0, -1, 0.0, 1.0),\n",
       " (-1, -1, 1.0, -1, 0.5, -1),\n",
       " (-1, -1, 1.0, -1, 0.5, -0.5),\n",
       " (-1, -1, 1.0, -1, 0.5, 0.0),\n",
       " (-1, -1, 1.0, -1, 0.5, 0.5),\n",
       " (-1, -1, 1.0, -1, 0.5, 1.0),\n",
       " (-1, -1, 1.0, -1, 1.0, -1),\n",
       " (-1, -1, 1.0, -1, 1.0, -0.5),\n",
       " (-1, -1, 1.0, -1, 1.0, 0.0),\n",
       " (-1, -1, 1.0, -1, 1.0, 0.5),\n",
       " (-1, -1, 1.0, -1, 1.0, 1.0),\n",
       " (-1, -1, 1.0, -0.5, -1, -1),\n",
       " (-1, -1, 1.0, -0.5, -1, -0.5),\n",
       " (-1, -1, 1.0, -0.5, -1, 0.0),\n",
       " (-1, -1, 1.0, -0.5, -1, 0.5),\n",
       " (-1, -1, 1.0, -0.5, -1, 1.0),\n",
       " (-1, -1, 1.0, -0.5, -0.5, -1),\n",
       " (-1, -1, 1.0, -0.5, -0.5, -0.5),\n",
       " (-1, -1, 1.0, -0.5, -0.5, 0.0),\n",
       " (-1, -1, 1.0, -0.5, -0.5, 0.5),\n",
       " (-1, -1, 1.0, -0.5, -0.5, 1.0),\n",
       " (-1, -1, 1.0, -0.5, 0.0, -1),\n",
       " (-1, -1, 1.0, -0.5, 0.0, -0.5),\n",
       " (-1, -1, 1.0, -0.5, 0.0, 0.0),\n",
       " (-1, -1, 1.0, -0.5, 0.0, 0.5),\n",
       " (-1, -1, 1.0, -0.5, 0.0, 1.0),\n",
       " (-1, -1, 1.0, -0.5, 0.5, -1),\n",
       " (-1, -1, 1.0, -0.5, 0.5, -0.5),\n",
       " (-1, -1, 1.0, -0.5, 0.5, 0.0),\n",
       " (-1, -1, 1.0, -0.5, 0.5, 0.5),\n",
       " (-1, -1, 1.0, -0.5, 0.5, 1.0),\n",
       " (-1, -1, 1.0, -0.5, 1.0, -1),\n",
       " (-1, -1, 1.0, -0.5, 1.0, -0.5),\n",
       " (-1, -1, 1.0, -0.5, 1.0, 0.0),\n",
       " (-1, -1, 1.0, -0.5, 1.0, 0.5),\n",
       " (-1, -1, 1.0, -0.5, 1.0, 1.0),\n",
       " (-1, -1, 1.0, 0.0, -1, -1),\n",
       " (-1, -1, 1.0, 0.0, -1, -0.5),\n",
       " (-1, -1, 1.0, 0.0, -1, 0.0),\n",
       " (-1, -1, 1.0, 0.0, -1, 0.5),\n",
       " (-1, -1, 1.0, 0.0, -1, 1.0),\n",
       " (-1, -1, 1.0, 0.0, -0.5, -1),\n",
       " (-1, -1, 1.0, 0.0, -0.5, -0.5),\n",
       " (-1, -1, 1.0, 0.0, -0.5, 0.0),\n",
       " (-1, -1, 1.0, 0.0, -0.5, 0.5),\n",
       " (-1, -1, 1.0, 0.0, -0.5, 1.0),\n",
       " (-1, -1, 1.0, 0.0, 0.0, -1),\n",
       " (-1, -1, 1.0, 0.0, 0.0, -0.5),\n",
       " (-1, -1, 1.0, 0.0, 0.0, 0.0),\n",
       " (-1, -1, 1.0, 0.0, 0.0, 0.5),\n",
       " (-1, -1, 1.0, 0.0, 0.0, 1.0),\n",
       " (-1, -1, 1.0, 0.0, 0.5, -1),\n",
       " (-1, -1, 1.0, 0.0, 0.5, -0.5),\n",
       " (-1, -1, 1.0, 0.0, 0.5, 0.0),\n",
       " (-1, -1, 1.0, 0.0, 0.5, 0.5),\n",
       " (-1, -1, 1.0, 0.0, 0.5, 1.0),\n",
       " (-1, -1, 1.0, 0.0, 1.0, -1),\n",
       " (-1, -1, 1.0, 0.0, 1.0, -0.5),\n",
       " (-1, -1, 1.0, 0.0, 1.0, 0.0),\n",
       " (-1, -1, 1.0, 0.0, 1.0, 0.5),\n",
       " (-1, -1, 1.0, 0.0, 1.0, 1.0),\n",
       " (-1, -1, 1.0, 0.5, -1, -1),\n",
       " (-1, -1, 1.0, 0.5, -1, -0.5),\n",
       " (-1, -1, 1.0, 0.5, -1, 0.0),\n",
       " (-1, -1, 1.0, 0.5, -1, 0.5),\n",
       " (-1, -1, 1.0, 0.5, -1, 1.0),\n",
       " (-1, -1, 1.0, 0.5, -0.5, -1),\n",
       " (-1, -1, 1.0, 0.5, -0.5, -0.5),\n",
       " (-1, -1, 1.0, 0.5, -0.5, 0.0),\n",
       " (-1, -1, 1.0, 0.5, -0.5, 0.5),\n",
       " (-1, -1, 1.0, 0.5, -0.5, 1.0),\n",
       " (-1, -1, 1.0, 0.5, 0.0, -1),\n",
       " (-1, -1, 1.0, 0.5, 0.0, -0.5),\n",
       " (-1, -1, 1.0, 0.5, 0.0, 0.0),\n",
       " (-1, -1, 1.0, 0.5, 0.0, 0.5),\n",
       " (-1, -1, 1.0, 0.5, 0.0, 1.0),\n",
       " (-1, -1, 1.0, 0.5, 0.5, -1),\n",
       " (-1, -1, 1.0, 0.5, 0.5, -0.5),\n",
       " (-1, -1, 1.0, 0.5, 0.5, 0.0),\n",
       " (-1, -1, 1.0, 0.5, 0.5, 0.5),\n",
       " (-1, -1, 1.0, 0.5, 0.5, 1.0),\n",
       " (-1, -1, 1.0, 0.5, 1.0, -1),\n",
       " (-1, -1, 1.0, 0.5, 1.0, -0.5),\n",
       " (-1, -1, 1.0, 0.5, 1.0, 0.0),\n",
       " (-1, -1, 1.0, 0.5, 1.0, 0.5),\n",
       " (-1, -1, 1.0, 0.5, 1.0, 1.0),\n",
       " (-1, -1, 1.0, 1.0, -1, -1),\n",
       " (-1, -1, 1.0, 1.0, -1, -0.5),\n",
       " (-1, -1, 1.0, 1.0, -1, 0.0),\n",
       " (-1, -1, 1.0, 1.0, -1, 0.5),\n",
       " (-1, -1, 1.0, 1.0, -1, 1.0),\n",
       " (-1, -1, 1.0, 1.0, -0.5, -1),\n",
       " (-1, -1, 1.0, 1.0, -0.5, -0.5),\n",
       " (-1, -1, 1.0, 1.0, -0.5, 0.0),\n",
       " (-1, -1, 1.0, 1.0, -0.5, 0.5),\n",
       " (-1, -1, 1.0, 1.0, -0.5, 1.0),\n",
       " (-1, -1, 1.0, 1.0, 0.0, -1),\n",
       " (-1, -1, 1.0, 1.0, 0.0, -0.5),\n",
       " (-1, -1, 1.0, 1.0, 0.0, 0.0),\n",
       " (-1, -1, 1.0, 1.0, 0.0, 0.5),\n",
       " (-1, -1, 1.0, 1.0, 0.0, 1.0),\n",
       " (-1, -1, 1.0, 1.0, 0.5, -1),\n",
       " (-1, -1, 1.0, 1.0, 0.5, -0.5),\n",
       " (-1, -1, 1.0, 1.0, 0.5, 0.0),\n",
       " (-1, -1, 1.0, 1.0, 0.5, 0.5),\n",
       " (-1, -1, 1.0, 1.0, 0.5, 1.0),\n",
       " (-1, -1, 1.0, 1.0, 1.0, -1),\n",
       " (-1, -1, 1.0, 1.0, 1.0, -0.5),\n",
       " (-1, -1, 1.0, 1.0, 1.0, 0.0),\n",
       " (-1, -1, 1.0, 1.0, 1.0, 0.5),\n",
       " (-1, -1, 1.0, 1.0, 1.0, 1.0),\n",
       " (-1, -0.5, -1, -1, -1, -1),\n",
       " (-1, -0.5, -1, -1, -1, -0.5),\n",
       " (-1, -0.5, -1, -1, -1, 0.0),\n",
       " (-1, -0.5, -1, -1, -1, 0.5),\n",
       " (-1, -0.5, -1, -1, -1, 1.0),\n",
       " (-1, -0.5, -1, -1, -0.5, -1),\n",
       " (-1, -0.5, -1, -1, -0.5, -0.5),\n",
       " (-1, -0.5, -1, -1, -0.5, 0.0),\n",
       " (-1, -0.5, -1, -1, -0.5, 0.5),\n",
       " (-1, -0.5, -1, -1, -0.5, 1.0),\n",
       " (-1, -0.5, -1, -1, 0.0, -1),\n",
       " (-1, -0.5, -1, -1, 0.0, -0.5),\n",
       " (-1, -0.5, -1, -1, 0.0, 0.0),\n",
       " (-1, -0.5, -1, -1, 0.0, 0.5),\n",
       " (-1, -0.5, -1, -1, 0.0, 1.0),\n",
       " (-1, -0.5, -1, -1, 0.5, -1),\n",
       " (-1, -0.5, -1, -1, 0.5, -0.5),\n",
       " (-1, -0.5, -1, -1, 0.5, 0.0),\n",
       " (-1, -0.5, -1, -1, 0.5, 0.5),\n",
       " (-1, -0.5, -1, -1, 0.5, 1.0),\n",
       " (-1, -0.5, -1, -1, 1.0, -1),\n",
       " (-1, -0.5, -1, -1, 1.0, -0.5),\n",
       " (-1, -0.5, -1, -1, 1.0, 0.0),\n",
       " (-1, -0.5, -1, -1, 1.0, 0.5),\n",
       " (-1, -0.5, -1, -1, 1.0, 1.0),\n",
       " (-1, -0.5, -1, -0.5, -1, -1),\n",
       " (-1, -0.5, -1, -0.5, -1, -0.5),\n",
       " (-1, -0.5, -1, -0.5, -1, 0.0),\n",
       " (-1, -0.5, -1, -0.5, -1, 0.5),\n",
       " (-1, -0.5, -1, -0.5, -1, 1.0),\n",
       " (-1, -0.5, -1, -0.5, -0.5, -1),\n",
       " (-1, -0.5, -1, -0.5, -0.5, -0.5),\n",
       " (-1, -0.5, -1, -0.5, -0.5, 0.0),\n",
       " (-1, -0.5, -1, -0.5, -0.5, 0.5),\n",
       " (-1, -0.5, -1, -0.5, -0.5, 1.0),\n",
       " (-1, -0.5, -1, -0.5, 0.0, -1),\n",
       " (-1, -0.5, -1, -0.5, 0.0, -0.5),\n",
       " (-1, -0.5, -1, -0.5, 0.0, 0.0),\n",
       " (-1, -0.5, -1, -0.5, 0.0, 0.5),\n",
       " (-1, -0.5, -1, -0.5, 0.0, 1.0),\n",
       " (-1, -0.5, -1, -0.5, 0.5, -1),\n",
       " (-1, -0.5, -1, -0.5, 0.5, -0.5),\n",
       " (-1, -0.5, -1, -0.5, 0.5, 0.0),\n",
       " (-1, -0.5, -1, -0.5, 0.5, 0.5),\n",
       " (-1, -0.5, -1, -0.5, 0.5, 1.0),\n",
       " (-1, -0.5, -1, -0.5, 1.0, -1),\n",
       " (-1, -0.5, -1, -0.5, 1.0, -0.5),\n",
       " (-1, -0.5, -1, -0.5, 1.0, 0.0),\n",
       " (-1, -0.5, -1, -0.5, 1.0, 0.5),\n",
       " (-1, -0.5, -1, -0.5, 1.0, 1.0),\n",
       " (-1, -0.5, -1, 0.0, -1, -1),\n",
       " (-1, -0.5, -1, 0.0, -1, -0.5),\n",
       " (-1, -0.5, -1, 0.0, -1, 0.0),\n",
       " (-1, -0.5, -1, 0.0, -1, 0.5),\n",
       " (-1, -0.5, -1, 0.0, -1, 1.0),\n",
       " (-1, -0.5, -1, 0.0, -0.5, -1),\n",
       " (-1, -0.5, -1, 0.0, -0.5, -0.5),\n",
       " (-1, -0.5, -1, 0.0, -0.5, 0.0),\n",
       " (-1, -0.5, -1, 0.0, -0.5, 0.5),\n",
       " (-1, -0.5, -1, 0.0, -0.5, 1.0),\n",
       " (-1, -0.5, -1, 0.0, 0.0, -1),\n",
       " (-1, -0.5, -1, 0.0, 0.0, -0.5),\n",
       " (-1, -0.5, -1, 0.0, 0.0, 0.0),\n",
       " (-1, -0.5, -1, 0.0, 0.0, 0.5),\n",
       " (-1, -0.5, -1, 0.0, 0.0, 1.0),\n",
       " (-1, -0.5, -1, 0.0, 0.5, -1),\n",
       " (-1, -0.5, -1, 0.0, 0.5, -0.5),\n",
       " (-1, -0.5, -1, 0.0, 0.5, 0.0),\n",
       " (-1, -0.5, -1, 0.0, 0.5, 0.5),\n",
       " (-1, -0.5, -1, 0.0, 0.5, 1.0),\n",
       " (-1, -0.5, -1, 0.0, 1.0, -1),\n",
       " (-1, -0.5, -1, 0.0, 1.0, -0.5),\n",
       " (-1, -0.5, -1, 0.0, 1.0, 0.0),\n",
       " (-1, -0.5, -1, 0.0, 1.0, 0.5),\n",
       " (-1, -0.5, -1, 0.0, 1.0, 1.0),\n",
       " (-1, -0.5, -1, 0.5, -1, -1),\n",
       " (-1, -0.5, -1, 0.5, -1, -0.5),\n",
       " (-1, -0.5, -1, 0.5, -1, 0.0),\n",
       " (-1, -0.5, -1, 0.5, -1, 0.5),\n",
       " (-1, -0.5, -1, 0.5, -1, 1.0),\n",
       " (-1, -0.5, -1, 0.5, -0.5, -1),\n",
       " (-1, -0.5, -1, 0.5, -0.5, -0.5),\n",
       " (-1, -0.5, -1, 0.5, -0.5, 0.0),\n",
       " (-1, -0.5, -1, 0.5, -0.5, 0.5),\n",
       " (-1, -0.5, -1, 0.5, -0.5, 1.0),\n",
       " (-1, -0.5, -1, 0.5, 0.0, -1),\n",
       " (-1, -0.5, -1, 0.5, 0.0, -0.5),\n",
       " (-1, -0.5, -1, 0.5, 0.0, 0.0),\n",
       " (-1, -0.5, -1, 0.5, 0.0, 0.5),\n",
       " (-1, -0.5, -1, 0.5, 0.0, 1.0),\n",
       " (-1, -0.5, -1, 0.5, 0.5, -1),\n",
       " (-1, -0.5, -1, 0.5, 0.5, -0.5),\n",
       " (-1, -0.5, -1, 0.5, 0.5, 0.0),\n",
       " (-1, -0.5, -1, 0.5, 0.5, 0.5),\n",
       " (-1, -0.5, -1, 0.5, 0.5, 1.0),\n",
       " (-1, -0.5, -1, 0.5, 1.0, -1),\n",
       " (-1, -0.5, -1, 0.5, 1.0, -0.5),\n",
       " (-1, -0.5, -1, 0.5, 1.0, 0.0),\n",
       " (-1, -0.5, -1, 0.5, 1.0, 0.5),\n",
       " (-1, -0.5, -1, 0.5, 1.0, 1.0),\n",
       " (-1, -0.5, -1, 1.0, -1, -1),\n",
       " (-1, -0.5, -1, 1.0, -1, -0.5),\n",
       " (-1, -0.5, -1, 1.0, -1, 0.0),\n",
       " (-1, -0.5, -1, 1.0, -1, 0.5),\n",
       " (-1, -0.5, -1, 1.0, -1, 1.0),\n",
       " (-1, -0.5, -1, 1.0, -0.5, -1),\n",
       " (-1, -0.5, -1, 1.0, -0.5, -0.5),\n",
       " (-1, -0.5, -1, 1.0, -0.5, 0.0),\n",
       " (-1, -0.5, -1, 1.0, -0.5, 0.5),\n",
       " (-1, -0.5, -1, 1.0, -0.5, 1.0),\n",
       " (-1, -0.5, -1, 1.0, 0.0, -1),\n",
       " (-1, -0.5, -1, 1.0, 0.0, -0.5),\n",
       " (-1, -0.5, -1, 1.0, 0.0, 0.0),\n",
       " (-1, -0.5, -1, 1.0, 0.0, 0.5),\n",
       " (-1, -0.5, -1, 1.0, 0.0, 1.0),\n",
       " (-1, -0.5, -1, 1.0, 0.5, -1),\n",
       " (-1, -0.5, -1, 1.0, 0.5, -0.5),\n",
       " (-1, -0.5, -1, 1.0, 0.5, 0.0),\n",
       " (-1, -0.5, -1, 1.0, 0.5, 0.5),\n",
       " (-1, -0.5, -1, 1.0, 0.5, 1.0),\n",
       " (-1, -0.5, -1, 1.0, 1.0, -1),\n",
       " (-1, -0.5, -1, 1.0, 1.0, -0.5),\n",
       " (-1, -0.5, -1, 1.0, 1.0, 0.0),\n",
       " (-1, -0.5, -1, 1.0, 1.0, 0.5),\n",
       " (-1, -0.5, -1, 1.0, 1.0, 1.0),\n",
       " (-1, -0.5, -0.5, -1, -1, -1),\n",
       " (-1, -0.5, -0.5, -1, -1, -0.5),\n",
       " (-1, -0.5, -0.5, -1, -1, 0.0),\n",
       " (-1, -0.5, -0.5, -1, -1, 0.5),\n",
       " (-1, -0.5, -0.5, -1, -1, 1.0),\n",
       " (-1, -0.5, -0.5, -1, -0.5, -1),\n",
       " (-1, -0.5, -0.5, -1, -0.5, -0.5),\n",
       " (-1, -0.5, -0.5, -1, -0.5, 0.0),\n",
       " (-1, -0.5, -0.5, -1, -0.5, 0.5),\n",
       " (-1, -0.5, -0.5, -1, -0.5, 1.0),\n",
       " (-1, -0.5, -0.5, -1, 0.0, -1),\n",
       " (-1, -0.5, -0.5, -1, 0.0, -0.5),\n",
       " (-1, -0.5, -0.5, -1, 0.0, 0.0),\n",
       " (-1, -0.5, -0.5, -1, 0.0, 0.5),\n",
       " (-1, -0.5, -0.5, -1, 0.0, 1.0),\n",
       " (-1, -0.5, -0.5, -1, 0.5, -1),\n",
       " (-1, -0.5, -0.5, -1, 0.5, -0.5),\n",
       " (-1, -0.5, -0.5, -1, 0.5, 0.0),\n",
       " (-1, -0.5, -0.5, -1, 0.5, 0.5),\n",
       " (-1, -0.5, -0.5, -1, 0.5, 1.0),\n",
       " (-1, -0.5, -0.5, -1, 1.0, -1),\n",
       " (-1, -0.5, -0.5, -1, 1.0, -0.5),\n",
       " (-1, -0.5, -0.5, -1, 1.0, 0.0),\n",
       " (-1, -0.5, -0.5, -1, 1.0, 0.5),\n",
       " (-1, -0.5, -0.5, -1, 1.0, 1.0),\n",
       " (-1, -0.5, -0.5, -0.5, -1, -1),\n",
       " (-1, -0.5, -0.5, -0.5, -1, -0.5),\n",
       " (-1, -0.5, -0.5, -0.5, -1, 0.0),\n",
       " (-1, -0.5, -0.5, -0.5, -1, 0.5),\n",
       " (-1, -0.5, -0.5, -0.5, -1, 1.0),\n",
       " (-1, -0.5, -0.5, -0.5, -0.5, -1),\n",
       " (-1, -0.5, -0.5, -0.5, -0.5, -0.5),\n",
       " (-1, -0.5, -0.5, -0.5, -0.5, 0.0),\n",
       " (-1, -0.5, -0.5, -0.5, -0.5, 0.5),\n",
       " (-1, -0.5, -0.5, -0.5, -0.5, 1.0),\n",
       " (-1, -0.5, -0.5, -0.5, 0.0, -1),\n",
       " (-1, -0.5, -0.5, -0.5, 0.0, -0.5),\n",
       " (-1, -0.5, -0.5, -0.5, 0.0, 0.0),\n",
       " (-1, -0.5, -0.5, -0.5, 0.0, 0.5),\n",
       " (-1, -0.5, -0.5, -0.5, 0.0, 1.0),\n",
       " (-1, -0.5, -0.5, -0.5, 0.5, -1),\n",
       " (-1, -0.5, -0.5, -0.5, 0.5, -0.5),\n",
       " (-1, -0.5, -0.5, -0.5, 0.5, 0.0),\n",
       " (-1, -0.5, -0.5, -0.5, 0.5, 0.5),\n",
       " (-1, -0.5, -0.5, -0.5, 0.5, 1.0),\n",
       " (-1, -0.5, -0.5, -0.5, 1.0, -1),\n",
       " (-1, -0.5, -0.5, -0.5, 1.0, -0.5),\n",
       " (-1, -0.5, -0.5, -0.5, 1.0, 0.0),\n",
       " (-1, -0.5, -0.5, -0.5, 1.0, 0.5),\n",
       " (-1, -0.5, -0.5, -0.5, 1.0, 1.0),\n",
       " (-1, -0.5, -0.5, 0.0, -1, -1),\n",
       " (-1, -0.5, -0.5, 0.0, -1, -0.5),\n",
       " (-1, -0.5, -0.5, 0.0, -1, 0.0),\n",
       " (-1, -0.5, -0.5, 0.0, -1, 0.5),\n",
       " (-1, -0.5, -0.5, 0.0, -1, 1.0),\n",
       " (-1, -0.5, -0.5, 0.0, -0.5, -1),\n",
       " (-1, -0.5, -0.5, 0.0, -0.5, -0.5),\n",
       " (-1, -0.5, -0.5, 0.0, -0.5, 0.0),\n",
       " (-1, -0.5, -0.5, 0.0, -0.5, 0.5),\n",
       " (-1, -0.5, -0.5, 0.0, -0.5, 1.0),\n",
       " (-1, -0.5, -0.5, 0.0, 0.0, -1),\n",
       " (-1, -0.5, -0.5, 0.0, 0.0, -0.5),\n",
       " (-1, -0.5, -0.5, 0.0, 0.0, 0.0),\n",
       " (-1, -0.5, -0.5, 0.0, 0.0, 0.5),\n",
       " (-1, -0.5, -0.5, 0.0, 0.0, 1.0),\n",
       " (-1, -0.5, -0.5, 0.0, 0.5, -1),\n",
       " (-1, -0.5, -0.5, 0.0, 0.5, -0.5),\n",
       " (-1, -0.5, -0.5, 0.0, 0.5, 0.0),\n",
       " (-1, -0.5, -0.5, 0.0, 0.5, 0.5),\n",
       " (-1, -0.5, -0.5, 0.0, 0.5, 1.0),\n",
       " (-1, -0.5, -0.5, 0.0, 1.0, -1),\n",
       " (-1, -0.5, -0.5, 0.0, 1.0, -0.5),\n",
       " (-1, -0.5, -0.5, 0.0, 1.0, 0.0),\n",
       " (-1, -0.5, -0.5, 0.0, 1.0, 0.5),\n",
       " (-1, -0.5, -0.5, 0.0, 1.0, 1.0),\n",
       " (-1, -0.5, -0.5, 0.5, -1, -1),\n",
       " (-1, -0.5, -0.5, 0.5, -1, -0.5),\n",
       " (-1, -0.5, -0.5, 0.5, -1, 0.0),\n",
       " (-1, -0.5, -0.5, 0.5, -1, 0.5),\n",
       " (-1, -0.5, -0.5, 0.5, -1, 1.0),\n",
       " (-1, -0.5, -0.5, 0.5, -0.5, -1),\n",
       " (-1, -0.5, -0.5, 0.5, -0.5, -0.5),\n",
       " (-1, -0.5, -0.5, 0.5, -0.5, 0.0),\n",
       " (-1, -0.5, -0.5, 0.5, -0.5, 0.5),\n",
       " (-1, -0.5, -0.5, 0.5, -0.5, 1.0),\n",
       " (-1, -0.5, -0.5, 0.5, 0.0, -1),\n",
       " (-1, -0.5, -0.5, 0.5, 0.0, -0.5),\n",
       " (-1, -0.5, -0.5, 0.5, 0.0, 0.0),\n",
       " (-1, -0.5, -0.5, 0.5, 0.0, 0.5),\n",
       " (-1, -0.5, -0.5, 0.5, 0.0, 1.0),\n",
       " (-1, -0.5, -0.5, 0.5, 0.5, -1),\n",
       " (-1, -0.5, -0.5, 0.5, 0.5, -0.5),\n",
       " (-1, -0.5, -0.5, 0.5, 0.5, 0.0),\n",
       " (-1, -0.5, -0.5, 0.5, 0.5, 0.5),\n",
       " (-1, -0.5, -0.5, 0.5, 0.5, 1.0),\n",
       " (-1, -0.5, -0.5, 0.5, 1.0, -1),\n",
       " (-1, -0.5, -0.5, 0.5, 1.0, -0.5),\n",
       " (-1, -0.5, -0.5, 0.5, 1.0, 0.0),\n",
       " (-1, -0.5, -0.5, 0.5, 1.0, 0.5),\n",
       " (-1, -0.5, -0.5, 0.5, 1.0, 1.0),\n",
       " (-1, -0.5, -0.5, 1.0, -1, -1),\n",
       " (-1, -0.5, -0.5, 1.0, -1, -0.5),\n",
       " (-1, -0.5, -0.5, 1.0, -1, 0.0),\n",
       " (-1, -0.5, -0.5, 1.0, -1, 0.5),\n",
       " (-1, -0.5, -0.5, 1.0, -1, 1.0),\n",
       " (-1, -0.5, -0.5, 1.0, -0.5, -1),\n",
       " (-1, -0.5, -0.5, 1.0, -0.5, -0.5),\n",
       " (-1, -0.5, -0.5, 1.0, -0.5, 0.0),\n",
       " (-1, -0.5, -0.5, 1.0, -0.5, 0.5),\n",
       " (-1, -0.5, -0.5, 1.0, -0.5, 1.0),\n",
       " (-1, -0.5, -0.5, 1.0, 0.0, -1),\n",
       " (-1, -0.5, -0.5, 1.0, 0.0, -0.5),\n",
       " (-1, -0.5, -0.5, 1.0, 0.0, 0.0),\n",
       " (-1, -0.5, -0.5, 1.0, 0.0, 0.5),\n",
       " (-1, -0.5, -0.5, 1.0, 0.0, 1.0),\n",
       " (-1, -0.5, -0.5, 1.0, 0.5, -1),\n",
       " (-1, -0.5, -0.5, 1.0, 0.5, -0.5),\n",
       " (-1, -0.5, -0.5, 1.0, 0.5, 0.0),\n",
       " (-1, -0.5, -0.5, 1.0, 0.5, 0.5),\n",
       " (-1, -0.5, -0.5, 1.0, 0.5, 1.0),\n",
       " (-1, -0.5, -0.5, 1.0, 1.0, -1),\n",
       " (-1, -0.5, -0.5, 1.0, 1.0, -0.5),\n",
       " (-1, -0.5, -0.5, 1.0, 1.0, 0.0),\n",
       " (-1, -0.5, -0.5, 1.0, 1.0, 0.5),\n",
       " (-1, -0.5, -0.5, 1.0, 1.0, 1.0),\n",
       " (-1, -0.5, 0.0, -1, -1, -1),\n",
       " (-1, -0.5, 0.0, -1, -1, -0.5),\n",
       " (-1, -0.5, 0.0, -1, -1, 0.0),\n",
       " (-1, -0.5, 0.0, -1, -1, 0.5),\n",
       " (-1, -0.5, 0.0, -1, -1, 1.0),\n",
       " (-1, -0.5, 0.0, -1, -0.5, -1),\n",
       " (-1, -0.5, 0.0, -1, -0.5, -0.5),\n",
       " (-1, -0.5, 0.0, -1, -0.5, 0.0),\n",
       " (-1, -0.5, 0.0, -1, -0.5, 0.5),\n",
       " (-1, -0.5, 0.0, -1, -0.5, 1.0),\n",
       " (-1, -0.5, 0.0, -1, 0.0, -1),\n",
       " (-1, -0.5, 0.0, -1, 0.0, -0.5),\n",
       " (-1, -0.5, 0.0, -1, 0.0, 0.0),\n",
       " (-1, -0.5, 0.0, -1, 0.0, 0.5),\n",
       " (-1, -0.5, 0.0, -1, 0.0, 1.0),\n",
       " (-1, -0.5, 0.0, -1, 0.5, -1),\n",
       " (-1, -0.5, 0.0, -1, 0.5, -0.5),\n",
       " (-1, -0.5, 0.0, -1, 0.5, 0.0),\n",
       " (-1, -0.5, 0.0, -1, 0.5, 0.5),\n",
       " (-1, -0.5, 0.0, -1, 0.5, 1.0),\n",
       " (-1, -0.5, 0.0, -1, 1.0, -1),\n",
       " (-1, -0.5, 0.0, -1, 1.0, -0.5),\n",
       " (-1, -0.5, 0.0, -1, 1.0, 0.0),\n",
       " (-1, -0.5, 0.0, -1, 1.0, 0.5),\n",
       " (-1, -0.5, 0.0, -1, 1.0, 1.0),\n",
       " (-1, -0.5, 0.0, -0.5, -1, -1),\n",
       " (-1, -0.5, 0.0, -0.5, -1, -0.5),\n",
       " (-1, -0.5, 0.0, -0.5, -1, 0.0),\n",
       " (-1, -0.5, 0.0, -0.5, -1, 0.5),\n",
       " (-1, -0.5, 0.0, -0.5, -1, 1.0),\n",
       " (-1, -0.5, 0.0, -0.5, -0.5, -1),\n",
       " (-1, -0.5, 0.0, -0.5, -0.5, -0.5),\n",
       " (-1, -0.5, 0.0, -0.5, -0.5, 0.0),\n",
       " (-1, -0.5, 0.0, -0.5, -0.5, 0.5),\n",
       " (-1, -0.5, 0.0, -0.5, -0.5, 1.0),\n",
       " (-1, -0.5, 0.0, -0.5, 0.0, -1),\n",
       " (-1, -0.5, 0.0, -0.5, 0.0, -0.5),\n",
       " (-1, -0.5, 0.0, -0.5, 0.0, 0.0),\n",
       " (-1, -0.5, 0.0, -0.5, 0.0, 0.5),\n",
       " (-1, -0.5, 0.0, -0.5, 0.0, 1.0),\n",
       " (-1, -0.5, 0.0, -0.5, 0.5, -1),\n",
       " (-1, -0.5, 0.0, -0.5, 0.5, -0.5),\n",
       " (-1, -0.5, 0.0, -0.5, 0.5, 0.0),\n",
       " (-1, -0.5, 0.0, -0.5, 0.5, 0.5),\n",
       " (-1, -0.5, 0.0, -0.5, 0.5, 1.0),\n",
       " (-1, -0.5, 0.0, -0.5, 1.0, -1),\n",
       " (-1, -0.5, 0.0, -0.5, 1.0, -0.5),\n",
       " (-1, -0.5, 0.0, -0.5, 1.0, 0.0),\n",
       " (-1, -0.5, 0.0, -0.5, 1.0, 0.5),\n",
       " (-1, -0.5, 0.0, -0.5, 1.0, 1.0),\n",
       " (-1, -0.5, 0.0, 0.0, -1, -1),\n",
       " (-1, -0.5, 0.0, 0.0, -1, -0.5),\n",
       " (-1, -0.5, 0.0, 0.0, -1, 0.0),\n",
       " (-1, -0.5, 0.0, 0.0, -1, 0.5),\n",
       " (-1, -0.5, 0.0, 0.0, -1, 1.0),\n",
       " (-1, -0.5, 0.0, 0.0, -0.5, -1),\n",
       " (-1, -0.5, 0.0, 0.0, -0.5, -0.5),\n",
       " (-1, -0.5, 0.0, 0.0, -0.5, 0.0),\n",
       " (-1, -0.5, 0.0, 0.0, -0.5, 0.5),\n",
       " (-1, -0.5, 0.0, 0.0, -0.5, 1.0),\n",
       " (-1, -0.5, 0.0, 0.0, 0.0, -1),\n",
       " (-1, -0.5, 0.0, 0.0, 0.0, -0.5),\n",
       " (-1, -0.5, 0.0, 0.0, 0.0, 0.0),\n",
       " (-1, -0.5, 0.0, 0.0, 0.0, 0.5),\n",
       " (-1, -0.5, 0.0, 0.0, 0.0, 1.0),\n",
       " (-1, -0.5, 0.0, 0.0, 0.5, -1),\n",
       " (-1, -0.5, 0.0, 0.0, 0.5, -0.5),\n",
       " (-1, -0.5, 0.0, 0.0, 0.5, 0.0),\n",
       " (-1, -0.5, 0.0, 0.0, 0.5, 0.5),\n",
       " (-1, -0.5, 0.0, 0.0, 0.5, 1.0),\n",
       " (-1, -0.5, 0.0, 0.0, 1.0, -1),\n",
       " (-1, -0.5, 0.0, 0.0, 1.0, -0.5),\n",
       " (-1, -0.5, 0.0, 0.0, 1.0, 0.0),\n",
       " (-1, -0.5, 0.0, 0.0, 1.0, 0.5),\n",
       " (-1, -0.5, 0.0, 0.0, 1.0, 1.0),\n",
       " (-1, -0.5, 0.0, 0.5, -1, -1),\n",
       " (-1, -0.5, 0.0, 0.5, -1, -0.5),\n",
       " (-1, -0.5, 0.0, 0.5, -1, 0.0),\n",
       " (-1, -0.5, 0.0, 0.5, -1, 0.5),\n",
       " (-1, -0.5, 0.0, 0.5, -1, 1.0),\n",
       " (-1, -0.5, 0.0, 0.5, -0.5, -1),\n",
       " (-1, -0.5, 0.0, 0.5, -0.5, -0.5),\n",
       " (-1, -0.5, 0.0, 0.5, -0.5, 0.0),\n",
       " (-1, -0.5, 0.0, 0.5, -0.5, 0.5),\n",
       " (-1, -0.5, 0.0, 0.5, -0.5, 1.0),\n",
       " (-1, -0.5, 0.0, 0.5, 0.0, -1),\n",
       " (-1, -0.5, 0.0, 0.5, 0.0, -0.5),\n",
       " (-1, -0.5, 0.0, 0.5, 0.0, 0.0),\n",
       " (-1, -0.5, 0.0, 0.5, 0.0, 0.5),\n",
       " (-1, -0.5, 0.0, 0.5, 0.0, 1.0),\n",
       " (-1, -0.5, 0.0, 0.5, 0.5, -1),\n",
       " (-1, -0.5, 0.0, 0.5, 0.5, -0.5),\n",
       " (-1, -0.5, 0.0, 0.5, 0.5, 0.0),\n",
       " (-1, -0.5, 0.0, 0.5, 0.5, 0.5),\n",
       " (-1, -0.5, 0.0, 0.5, 0.5, 1.0),\n",
       " (-1, -0.5, 0.0, 0.5, 1.0, -1),\n",
       " (-1, -0.5, 0.0, 0.5, 1.0, -0.5),\n",
       " (-1, -0.5, 0.0, 0.5, 1.0, 0.0),\n",
       " (-1, -0.5, 0.0, 0.5, 1.0, 0.5),\n",
       " (-1, -0.5, 0.0, 0.5, 1.0, 1.0),\n",
       " (-1, -0.5, 0.0, 1.0, -1, -1),\n",
       " (-1, -0.5, 0.0, 1.0, -1, -0.5),\n",
       " (-1, -0.5, 0.0, 1.0, -1, 0.0),\n",
       " (-1, -0.5, 0.0, 1.0, -1, 0.5),\n",
       " (-1, -0.5, 0.0, 1.0, -1, 1.0),\n",
       " (-1, -0.5, 0.0, 1.0, -0.5, -1),\n",
       " (-1, -0.5, 0.0, 1.0, -0.5, -0.5),\n",
       " (-1, -0.5, 0.0, 1.0, -0.5, 0.0),\n",
       " (-1, -0.5, 0.0, 1.0, -0.5, 0.5),\n",
       " (-1, -0.5, 0.0, 1.0, -0.5, 1.0),\n",
       " (-1, -0.5, 0.0, 1.0, 0.0, -1),\n",
       " (-1, -0.5, 0.0, 1.0, 0.0, -0.5),\n",
       " (-1, -0.5, 0.0, 1.0, 0.0, 0.0),\n",
       " (-1, -0.5, 0.0, 1.0, 0.0, 0.5),\n",
       " (-1, -0.5, 0.0, 1.0, 0.0, 1.0),\n",
       " (-1, -0.5, 0.0, 1.0, 0.5, -1),\n",
       " (-1, -0.5, 0.0, 1.0, 0.5, -0.5),\n",
       " (-1, -0.5, 0.0, 1.0, 0.5, 0.0),\n",
       " (-1, -0.5, 0.0, 1.0, 0.5, 0.5),\n",
       " (-1, -0.5, 0.0, 1.0, 0.5, 1.0),\n",
       " (-1, -0.5, 0.0, 1.0, 1.0, -1),\n",
       " (-1, -0.5, 0.0, 1.0, 1.0, -0.5),\n",
       " (-1, -0.5, 0.0, 1.0, 1.0, 0.0),\n",
       " (-1, -0.5, 0.0, 1.0, 1.0, 0.5),\n",
       " (-1, -0.5, 0.0, 1.0, 1.0, 1.0),\n",
       " ...]"
      ]
     },
     "execution_count": 124,
     "metadata": {},
     "output_type": "execute_result"
    }
   ],
   "source": [
    "list(grid(-1, 1, 0.5, numDims=6))"
   ]
  },
  {
   "cell_type": "code",
   "execution_count": 131,
   "metadata": {},
   "outputs": [],
   "source": [
    "sample_space = list(itertools.product(range(1,7), range(1, 7)))"
   ]
  },
  {
   "cell_type": "code",
   "execution_count": 126,
   "metadata": {},
   "outputs": [
    {
     "name": "stdout",
     "output_type": "stream",
     "text": [
      "[(1, 1), (1, 2), (1, 3), (1, 4), (1, 5), (1, 6), (2, 1), (2, 2), (2, 3), (2, 4), (2, 5), (2, 6), (3, 1), (3, 2), (3, 3), (3, 4), (3, 5), (3, 6), (4, 1), (4, 2), (4, 3), (4, 4), (4, 5), (4, 6), (5, 1), (5, 2), (5, 3), (5, 4), (5, 5), (5, 6), (6, 1), (6, 2), (6, 3), (6, 4), (6, 5), (6, 6)]\n"
     ]
    }
   ],
   "source": [
    "print(sample_space)"
   ]
  },
  {
   "cell_type": "code",
   "execution_count": 127,
   "metadata": {},
   "outputs": [],
   "source": [
    "sample_space = list(itertools.tee.product(*iterables, repeat=1)(range(1,7),2))"
   ]
  },
  {
   "cell_type": "code",
   "execution_count": 128,
   "metadata": {},
   "outputs": [
    {
     "name": "stdout",
     "output_type": "stream",
     "text": [
      "[<itertools._tee object at 0x116ecd4c0>, <itertools._tee object at 0x116eccbc0>]\n"
     ]
    }
   ],
   "source": [
    "print(sample_space)"
   ]
  },
  {
   "cell_type": "code",
   "execution_count": 132,
   "metadata": {},
   "outputs": [],
   "source": [
    "outcomes = list(filter(lambda x:x[0] + x[1] == 8, sample_space))"
   ]
  },
  {
   "cell_type": "code",
   "execution_count": 133,
   "metadata": {},
   "outputs": [
    {
     "data": {
      "text/plain": [
       "[(2, 6), (3, 5), (4, 4), (5, 3), (6, 2)]"
      ]
     },
     "execution_count": 133,
     "metadata": {},
     "output_type": "execute_result"
    }
   ],
   "source": [
    "outcomes"
   ]
  },
  {
   "cell_type": "code",
   "execution_count": 135,
   "metadata": {},
   "outputs": [
    {
     "data": {
      "text/plain": [
       "0.1388888888888889"
      ]
     },
     "execution_count": 135,
     "metadata": {},
     "output_type": "execute_result"
    }
   ],
   "source": [
    "len(outcomes)/len(sample_space)"
   ]
  },
  {
   "cell_type": "code",
   "execution_count": 136,
   "metadata": {},
   "outputs": [],
   "source": [
    "from fractions import Fraction"
   ]
  },
  {
   "cell_type": "code",
   "execution_count": 137,
   "metadata": {},
   "outputs": [],
   "source": [
    "odds = Fraction(len(outcomes), len(sample_space))"
   ]
  },
  {
   "cell_type": "code",
   "execution_count": 138,
   "metadata": {},
   "outputs": [
    {
     "data": {
      "text/plain": [
       "Fraction(5, 36)"
      ]
     },
     "execution_count": 138,
     "metadata": {},
     "output_type": "execute_result"
    }
   ],
   "source": [
    "odds"
   ]
  },
  {
   "cell_type": "code",
   "execution_count": null,
   "metadata": {},
   "outputs": [],
   "source": []
  }
 ],
 "metadata": {
  "kernelspec": {
   "display_name": "Python 3.10.7 64-bit",
   "language": "python",
   "name": "python3"
  },
  "language_info": {
   "codemirror_mode": {
    "name": "ipython",
    "version": 3
   },
   "file_extension": ".py",
   "mimetype": "text/x-python",
   "name": "python",
   "nbconvert_exporter": "python",
   "pygments_lexer": "ipython3",
   "version": "3.10.7"
  },
  "orig_nbformat": 4,
  "vscode": {
   "interpreter": {
    "hash": "aee8b7b246df8f9039afb4144a1f6fd8d2ca17a180786b69acc140d282b71a49"
   }
  }
 },
 "nbformat": 4,
 "nbformat_minor": 2
}
