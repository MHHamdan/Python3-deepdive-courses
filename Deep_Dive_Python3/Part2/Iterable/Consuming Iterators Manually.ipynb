{
 "cells": [
  {
   "cell_type": "markdown",
   "metadata": {},
   "source": [
    "### Consuming Iterators Manually"
   ]
  },
  {
   "cell_type": "markdown",
   "metadata": {},
   "source": [
    "We've already seen how to do this:\n",
    "\n",
    "* get an iterator from the iterable\n",
    "* call next on the iterator (until the `StopIteration` exception is raised)"
   ]
  },
  {
   "cell_type": "markdown",
   "metadata": {},
   "source": [
    "Let's quickly see how do this again, using a string as the underlying iterable:"
   ]
  },
  {
   "cell_type": "code",
   "execution_count": 1,
   "metadata": {
    "collapsed": true
   },
   "outputs": [],
   "source": [
    "s = 'I sleep all night, and I work all day'"
   ]
  },
  {
   "cell_type": "code",
   "execution_count": 2,
   "metadata": {
    "collapsed": true
   },
   "outputs": [],
   "source": [
    "iter_s = iter(s)"
   ]
  },
  {
   "cell_type": "code",
   "execution_count": 3,
   "metadata": {},
   "outputs": [
    {
     "name": "stdout",
     "output_type": "stream",
     "text": [
      "I\n",
      " \n",
      "s\n",
      "l\n",
      "e\n"
     ]
    }
   ],
   "source": [
    "print(next(iter_s))\n",
    "print(next(iter_s))\n",
    "print(next(iter_s))\n",
    "print(next(iter_s))\n",
    "print(next(iter_s))"
   ]
  },
  {
   "cell_type": "markdown",
   "metadata": {},
   "source": [
    "This means we can get the next item in a collection without actually using a loop of any kind.\n",
    "\n",
    "Why might this be useful?"
   ]
  },
  {
   "cell_type": "markdown",
   "metadata": {},
   "source": [
    "#### Example 1"
   ]
  },
  {
   "cell_type": "markdown",
   "metadata": {},
   "source": [
    "A fairly typical use case for this would be when reading data from a CSV file where you know the first few lines consist of information abotu teh data rather than just the data itself.\n",
    "\n",
    "Let's try this using a CSV file I have saved alongside the Jupyter notebook."
   ]
  },
  {
   "cell_type": "markdown",
   "metadata": {},
   "source": [
    "Let's first load the data and see what it looks like:"
   ]
  },
  {
   "cell_type": "code",
   "execution_count": 4,
   "metadata": {},
   "outputs": [
    {
     "name": "stdout",
     "output_type": "stream",
     "text": [
      "Car;MPG;Cylinders;Displacement;Horsepower;Weight;Acceleration;Model;Origin\n",
      "\n",
      "STRING;DOUBLE;INT;DOUBLE;DOUBLE;DOUBLE;DOUBLE;INT;CAT\n",
      "\n",
      "Chevrolet Chevelle Malibu;18.0;8;307.0;130.0;3504.;12.0;70;US\n",
      "\n",
      "Buick Skylark 320;15.0;8;350.0;165.0;3693.;11.5;70;US\n",
      "\n",
      "Plymouth Satellite;18.0;8;318.0;150.0;3436.;11.0;70;US\n",
      "\n",
      "AMC Rebel SST;16.0;8;304.0;150.0;3433.;12.0;70;US\n",
      "\n",
      "Ford Torino;17.0;8;302.0;140.0;3449.;10.5;70;US\n",
      "\n",
      "Ford Galaxie 500;15.0;8;429.0;198.0;4341.;10.0;70;US\n",
      "\n",
      "Chevrolet Impala;14.0;8;454.0;220.0;4354.;9.0;70;US\n",
      "\n",
      "Plymouth Fury iii;14.0;8;440.0;215.0;4312.;8.5;70;US\n",
      "\n",
      "Pontiac Catalina;14.0;8;455.0;225.0;4425.;10.0;70;US\n",
      "\n",
      "AMC Ambassador DPL;15.0;8;390.0;190.0;3850.;8.5;70;US\n",
      "\n",
      "Citroen DS-21 Pallas;0;4;133.0;115.0;3090.;17.5;70;Europe\n",
      "\n",
      "Chevrolet Chevelle Concours (sw);0;8;350.0;165.0;4142.;11.5;70;US\n",
      "\n",
      "Ford Torino (sw);0;8;351.0;153.0;4034.;11.0;70;US\n",
      "\n",
      "Plymouth Satellite (sw);0;8;383.0;175.0;4166.;10.5;70;US\n",
      "\n",
      "AMC Rebel SST (sw);0;8;360.0;175.0;3850.;11.0;70;US\n",
      "\n",
      "Dodge Challenger SE;15.0;8;383.0;170.0;3563.;10.0;70;US\n",
      "\n",
      "Plymouth 'Cuda 340;14.0;8;340.0;160.0;3609.;8.0;70;US\n",
      "\n",
      "Ford Mustang Boss 302;0;8;302.0;140.0;3353.;8.0;70;US\n",
      "\n",
      "Chevrolet Monte Carlo;15.0;8;400.0;150.0;3761.;9.5;70;US\n",
      "\n",
      "Buick Estate Wagon (sw);14.0;8;455.0;225.0;3086.;10.0;70;US\n",
      "\n",
      "Toyota Corolla Mark ii;24.0;4;113.0;95.00;2372.;15.0;70;Japan\n",
      "\n",
      "Plymouth Duster;22.0;6;198.0;95.00;2833.;15.5;70;US\n",
      "\n",
      "AMC Hornet;18.0;6;199.0;97.00;2774.;15.5;70;US\n",
      "\n",
      "Ford Maverick;21.0;6;200.0;85.00;2587.;16.0;70;US\n",
      "\n",
      "Datsun PL510;27.0;4;97.00;88.00;2130.;14.5;70;Japan\n",
      "\n",
      "Volkswagen 1131 Deluxe Sedan;26.0;4;97.00;46.00;1835.;20.5;70;Europe\n",
      "\n",
      "Peugeot 504;25.0;4;110.0;87.00;2672.;17.5;70;Europe\n",
      "\n",
      "Audi 100 LS;24.0;4;107.0;90.00;2430.;14.5;70;Europe\n",
      "\n",
      "Saab 99e;25.0;4;104.0;95.00;2375.;17.5;70;Europe\n",
      "\n",
      "BMW 2002;26.0;4;121.0;113.0;2234.;12.5;70;Europe\n",
      "\n",
      "AMC Gremlin;21.0;6;199.0;90.00;2648.;15.0;70;US\n",
      "\n",
      "Ford F250;10.0;8;360.0;215.0;4615.;14.0;70;US\n",
      "\n",
      "Chevy C20;10.0;8;307.0;200.0;4376.;15.0;70;US\n",
      "\n",
      "Dodge D200;11.0;8;318.0;210.0;4382.;13.5;70;US\n",
      "\n",
      "Hi 1200D;9.0;8;304.0;193.0;4732.;18.5;70;US\n",
      "\n",
      "Datsun PL510;27.0;4;97.00;88.00;2130.;14.5;71;Japan\n",
      "\n",
      "Chevrolet Vega 2300;28.0;4;140.0;90.00;2264.;15.5;71;US\n",
      "\n",
      "Toyota Corolla;25.0;4;113.0;95.00;2228.;14.0;71;Japan\n",
      "\n",
      "Ford Pinto;25.0;4;98.00;0;2046.;19.0;71;US\n",
      "\n",
      "Volkswagen Super Beetle 117;0;4;97.00;48.00;1978.;20.0;71;Europe\n",
      "\n",
      "AMC Gremlin;19.0;6;232.0;100.0;2634.;13.0;71;US\n",
      "\n",
      "Plymouth Satellite Custom;16.0;6;225.0;105.0;3439.;15.5;71;US\n",
      "\n",
      "Chevrolet Chevelle Malibu;17.0;6;250.0;100.0;3329.;15.5;71;US\n",
      "\n",
      "Ford Torino 500;19.0;6;250.0;88.00;3302.;15.5;71;US\n",
      "\n",
      "AMC Matador;18.0;6;232.0;100.0;3288.;15.5;71;US\n",
      "\n",
      "Chevrolet Impala;14.0;8;350.0;165.0;4209.;12.0;71;US\n",
      "\n",
      "Pontiac Catalina Brougham;14.0;8;400.0;175.0;4464.;11.5;71;US\n",
      "\n",
      "Ford Galaxie 500;14.0;8;351.0;153.0;4154.;13.5;71;US\n",
      "\n",
      "Plymouth Fury iii;14.0;8;318.0;150.0;4096.;13.0;71;US\n",
      "\n",
      "Dodge Monaco (sw);12.0;8;383.0;180.0;4955.;11.5;71;US\n",
      "\n",
      "Ford Country Squire (sw);13.0;8;400.0;170.0;4746.;12.0;71;US\n",
      "\n",
      "Pontiac Safari (sw);13.0;8;400.0;175.0;5140.;12.0;71;US\n",
      "\n",
      "AMC Hornet Sportabout (sw);18.0;6;258.0;110.0;2962.;13.5;71;US\n",
      "\n",
      "Chevrolet Vega (sw);22.0;4;140.0;72.00;2408.;19.0;71;US\n",
      "\n",
      "Pontiac Firebird;19.0;6;250.0;100.0;3282.;15.0;71;US\n",
      "\n",
      "Ford Mustang;18.0;6;250.0;88.00;3139.;14.5;71;US\n",
      "\n",
      "Mercury Capri 2000;23.0;4;122.0;86.00;2220.;14.0;71;US\n",
      "\n",
      "Opel 1900;28.0;4;116.0;90.00;2123.;14.0;71;Europe\n",
      "\n",
      "Peugeot 304;30.0;4;79.00;70.00;2074.;19.5;71;Europe\n",
      "\n",
      "Fiat 124B;30.0;4;88.00;76.00;2065.;14.5;71;Europe\n",
      "\n",
      "Toyota Corolla 1200;31.0;4;71.00;65.00;1773.;19.0;71;Japan\n",
      "\n",
      "Datsun 1200;35.0;4;72.00;69.00;1613.;18.0;71;Japan\n",
      "\n",
      "Volkswagen Model 111;27.0;4;97.00;60.00;1834.;19.0;71;Europe\n",
      "\n",
      "Plymouth Cricket;26.0;4;91.00;70.00;1955.;20.5;71;US\n",
      "\n",
      "Toyota Corolla Hardtop;24.0;4;113.0;95.00;2278.;15.5;72;Japan\n",
      "\n",
      "Dodge Colt Hardtop;25.0;4;97.50;80.00;2126.;17.0;72;US\n",
      "\n",
      "Volkswagen Type 3;23.0;4;97.00;54.00;2254.;23.5;72;Europe\n",
      "\n",
      "Chevrolet Vega;20.0;4;140.0;90.00;2408.;19.5;72;US\n",
      "\n",
      "Ford Pinto Runabout;21.0;4;122.0;86.00;2226.;16.5;72;US\n",
      "\n",
      "Chevrolet Impala;13.0;8;350.0;165.0;4274.;12.0;72;US\n",
      "\n",
      "Pontiac Catalina;14.0;8;400.0;175.0;4385.;12.0;72;US\n",
      "\n",
      "Plymouth Fury III;15.0;8;318.0;150.0;4135.;13.5;72;US\n",
      "\n",
      "Ford Galaxie 500;14.0;8;351.0;153.0;4129.;13.0;72;US\n",
      "\n",
      "AMC Ambassador SST;17.0;8;304.0;150.0;3672.;11.5;72;US\n",
      "\n",
      "Mercury Marquis;11.0;8;429.0;208.0;4633.;11.0;72;US\n",
      "\n",
      "Buick LeSabre Custom;13.0;8;350.0;155.0;4502.;13.5;72;US\n",
      "\n",
      "Oldsmobile Delta 88 Royale;12.0;8;350.0;160.0;4456.;13.5;72;US\n",
      "\n",
      "Chrysler Newport Royal;13.0;8;400.0;190.0;4422.;12.5;72;US\n",
      "\n",
      "Mazda RX2 Coupe;19.0;3;70.00;97.00;2330.;13.5;72;Japan\n",
      "\n",
      "AMC Matador (sw);15.0;8;304.0;150.0;3892.;12.5;72;US\n",
      "\n",
      "Chevrolet Chevelle Concours (sw);13.0;8;307.0;130.0;4098.;14.0;72;US\n",
      "\n",
      "Ford Gran Torino (sw);13.0;8;302.0;140.0;4294.;16.0;72;US\n",
      "\n",
      "Plymouth Satellite Custom (sw);14.0;8;318.0;150.0;4077.;14.0;72;US\n",
      "\n",
      "Volvo 145e (sw);18.0;4;121.0;112.0;2933.;14.5;72;Europe\n",
      "\n",
      "Volkswagen 411 (sw);22.0;4;121.0;76.00;2511.;18.0;72;Europe\n",
      "\n",
      "Peugeot 504 (sw);21.0;4;120.0;87.00;2979.;19.5;72;Europe\n",
      "\n",
      "Renault 12 (sw);26.0;4;96.00;69.00;2189.;18.0;72;Europe\n",
      "\n",
      "Ford Pinto (sw);22.0;4;122.0;86.00;2395.;16.0;72;US\n",
      "\n",
      "Datsun 510 (sw);28.0;4;97.00;92.00;2288.;17.0;72;Japan\n",
      "\n",
      "Toyota Corolla Mark II (sw);23.0;4;120.0;97.00;2506.;14.5;72;Japan\n",
      "\n",
      "Dodge Colt (sw);28.0;4;98.00;80.00;2164.;15.0;72;US\n",
      "\n",
      "Toyota Corolla 1600 (sw);27.0;4;97.00;88.00;2100.;16.5;72;Japan\n",
      "\n",
      "Buick Century 350;13.0;8;350.0;175.0;4100.;13.0;73;US\n",
      "\n",
      "AMC Matador;14.0;8;304.0;150.0;3672.;11.5;73;US\n",
      "\n",
      "Chevrolet Malibu;13.0;8;350.0;145.0;3988.;13.0;73;US\n",
      "\n",
      "Ford Gran Torino;14.0;8;302.0;137.0;4042.;14.5;73;US\n",
      "\n",
      "Dodge Coronet Custom;15.0;8;318.0;150.0;3777.;12.5;73;US\n",
      "\n",
      "Mercury Marquis Brougham;12.0;8;429.0;198.0;4952.;11.5;73;US\n",
      "\n",
      "Chevrolet Caprice Classic;13.0;8;400.0;150.0;4464.;12.0;73;US\n",
      "\n",
      "Ford LTD;13.0;8;351.0;158.0;4363.;13.0;73;US\n",
      "\n",
      "Plymouth Fury Gran Sedan;14.0;8;318.0;150.0;4237.;14.5;73;US\n",
      "\n",
      "Chrysler New Yorker Brougham;13.0;8;440.0;215.0;4735.;11.0;73;US\n",
      "\n",
      "Buick Electra 225 Custom;12.0;8;455.0;225.0;4951.;11.0;73;US\n",
      "\n",
      "AMC Ambassador Brougham;13.0;8;360.0;175.0;3821.;11.0;73;US\n",
      "\n",
      "Plymouth Valiant;18.0;6;225.0;105.0;3121.;16.5;73;US\n",
      "\n",
      "Chevrolet Nova Custom;16.0;6;250.0;100.0;3278.;18.0;73;US\n",
      "\n",
      "AMC Hornet;18.0;6;232.0;100.0;2945.;16.0;73;US\n",
      "\n",
      "Ford Maverick;18.0;6;250.0;88.00;3021.;16.5;73;US\n",
      "\n",
      "Plymouth Duster;23.0;6;198.0;95.00;2904.;16.0;73;US\n",
      "\n",
      "Volkswagen Super Beetle;26.0;4;97.00;46.00;1950.;21.0;73;Europe\n",
      "\n",
      "Chevrolet Impala;11.0;8;400.0;150.0;4997.;14.0;73;US\n",
      "\n",
      "Ford Country;12.0;8;400.0;167.0;4906.;12.5;73;US\n",
      "\n",
      "Plymouth Custom Suburb;13.0;8;360.0;170.0;4654.;13.0;73;US\n",
      "\n",
      "Oldsmobile Vista Cruiser;12.0;8;350.0;180.0;4499.;12.5;73;US\n",
      "\n",
      "AMC Gremlin;18.0;6;232.0;100.0;2789.;15.0;73;US\n",
      "\n",
      "Toyota Camry;20.0;4;97.00;88.00;2279.;19.0;73;Japan\n",
      "\n",
      "Chevrolet Vega;21.0;4;140.0;72.00;2401.;19.5;73;US\n",
      "\n",
      "Datsun 610;22.0;4;108.0;94.00;2379.;16.5;73;Japan\n",
      "\n",
      "Mazda RX3;18.0;3;70.00;90.00;2124.;13.5;73;Japan\n",
      "\n",
      "Ford Pinto;19.0;4;122.0;85.00;2310.;18.5;73;US\n",
      "\n",
      "Mercury Capri v6;21.0;6;155.0;107.0;2472.;14.0;73;US\n",
      "\n",
      "Fiat 124 Sport Coupe;26.0;4;98.00;90.00;2265.;15.5;73;Europe\n",
      "\n",
      "Chevrolet Monte Carlo S;15.0;8;350.0;145.0;4082.;13.0;73;US\n",
      "\n",
      "Pontiac Grand Prix;16.0;8;400.0;230.0;4278.;9.50;73;US\n",
      "\n",
      "Fiat 128;29.0;4;68.00;49.00;1867.;19.5;73;Europe\n",
      "\n",
      "Opel Manta;24.0;4;116.0;75.00;2158.;15.5;73;Europe\n",
      "\n",
      "Audi 100LS;20.0;4;114.0;91.00;2582.;14.0;73;Europe\n",
      "\n",
      "Volvo 144ea;19.0;4;121.0;112.0;2868.;15.5;73;Europe\n",
      "\n",
      "Dodge Dart Custom;15.0;8;318.0;150.0;3399.;11.0;73;US\n",
      "\n",
      "Saab 99le;24.0;4;121.0;110.0;2660.;14.0;73;Europe\n",
      "\n",
      "Toyota Mark II;20.0;6;156.0;122.0;2807.;13.5;73;Japan\n",
      "\n",
      "Oldsmobile Omega;11.0;8;350.0;180.0;3664.;11.0;73;US\n",
      "\n",
      "Plymouth Duster;20.0;6;198.0;95.00;3102.;16.5;74;US\n",
      "\n",
      "Ford Maverick;21.0;6;200.0;0;2875.;17.0;74;US\n",
      "\n",
      "AMC Hornet;19.0;6;232.0;100.0;2901.;16.0;74;US\n",
      "\n",
      "Chevrolet Nova;15.0;6;250.0;100.0;3336.;17.0;74;US\n",
      "\n",
      "Datsun B210;31.0;4;79.00;67.00;1950.;19.0;74;Japan\n",
      "\n",
      "Ford Pinto;26.0;4;122.0;80.00;2451.;16.5;74;US\n",
      "\n",
      "Toyota Corolla 1200;32.0;4;71.00;65.00;1836.;21.0;74;Japan\n",
      "\n",
      "Chevrolet Vega;25.0;4;140.0;75.00;2542.;17.0;74;US\n",
      "\n",
      "Chevrolet Chevelle Malibu Classic;16.0;6;250.0;100.0;3781.;17.0;74;US\n",
      "\n",
      "AMC Matador;16.0;6;258.0;110.0;3632.;18.0;74;US\n",
      "\n",
      "Plymouth Satellite Sebring;18.0;6;225.0;105.0;3613.;16.5;74;US\n",
      "\n",
      "Ford Gran Torino;16.0;8;302.0;140.0;4141.;14.0;74;US\n",
      "\n",
      "Buick Century Luxus (sw);13.0;8;350.0;150.0;4699.;14.5;74;US\n",
      "\n",
      "Dodge Coronet Custom (sw);14.0;8;318.0;150.0;4457.;13.5;74;US\n",
      "\n",
      "Ford Gran Torino (sw);14.0;8;302.0;140.0;4638.;16.0;74;US\n",
      "\n",
      "AMC Matador (sw);14.0;8;304.0;150.0;4257.;15.5;74;US\n",
      "\n",
      "Audi Fox;29.0;4;98.00;83.00;2219.;16.5;74;Europe\n",
      "\n",
      "Volkswagen Dasher;26.0;4;79.00;67.00;1963.;15.5;74;Europe\n",
      "\n",
      "Opel Manta;26.0;4;97.00;78.00;2300.;14.5;74;Europe\n",
      "\n",
      "Toyota Corolla;31.0;4;76.00;52.00;1649.;16.5;74;Japan\n",
      "\n",
      "Datsun 710;32.0;4;83.00;61.00;2003.;19.0;74;Japan\n",
      "\n",
      "Dodge Colt;28.0;4;90.00;75.00;2125.;14.5;74;US\n",
      "\n",
      "Fiat 128;24.0;4;90.00;75.00;2108.;15.5;74;Europe\n",
      "\n",
      "Fiat 124 TC;26.0;4;116.0;75.00;2246.;14.0;74;Europe\n",
      "\n",
      "Honda Civic;24.0;4;120.0;97.00;2489.;15.0;74;Japan\n",
      "\n",
      "Subaru;26.0;4;108.0;93.00;2391.;15.5;74;Japan\n",
      "\n",
      "Fiat x1.9;31.0;4;79.00;67.00;2000.;16.0;74;Europe\n",
      "\n",
      "Plymouth Valiant Custom;19.0;6;225.0;95.00;3264.;16.0;75;US\n",
      "\n",
      "Chevrolet Nova;18.0;6;250.0;105.0;3459.;16.0;75;US\n",
      "\n",
      "Mercury Monarch;15.0;6;250.0;72.00;3432.;21.0;75;US\n",
      "\n",
      "Ford Maverick;15.0;6;250.0;72.00;3158.;19.5;75;US\n",
      "\n",
      "Pontiac Catalina;16.0;8;400.0;170.0;4668.;11.5;75;US\n",
      "\n",
      "Chevrolet Bel Air;15.0;8;350.0;145.0;4440.;14.0;75;US\n",
      "\n",
      "Plymouth Grand Fury;16.0;8;318.0;150.0;4498.;14.5;75;US\n",
      "\n",
      "Ford LTD;14.0;8;351.0;148.0;4657.;13.5;75;US\n",
      "\n",
      "Buick Century;17.0;6;231.0;110.0;3907.;21.0;75;US\n",
      "\n",
      "Chevrolete Chevelle Malibu;16.0;6;250.0;105.0;3897.;18.5;75;US\n",
      "\n",
      "AMC Matador;15.0;6;258.0;110.0;3730.;19.0;75;US\n",
      "\n",
      "Plymouth Fury;18.0;6;225.0;95.00;3785.;19.0;75;US\n",
      "\n",
      "Buick Skyhawk;21.0;6;231.0;110.0;3039.;15.0;75;US\n",
      "\n",
      "Chevrolet Monza 2+2;20.0;8;262.0;110.0;3221.;13.5;75;US\n",
      "\n",
      "Ford Mustang II;13.0;8;302.0;129.0;3169.;12.0;75;US\n",
      "\n",
      "Toyota Corolla;29.0;4;97.00;75.00;2171.;16.0;75;Japan\n",
      "\n",
      "Ford Pinto;23.0;4;140.0;83.00;2639.;17.0;75;US\n",
      "\n",
      "AMC Gremlin;20.0;6;232.0;100.0;2914.;16.0;75;US\n",
      "\n",
      "Pontiac Astro;23.0;4;140.0;78.00;2592.;18.5;75;US\n",
      "\n",
      "Toyota Corolla;24.0;4;134.0;96.00;2702.;13.5;75;Japan\n",
      "\n",
      "Volkswagen Dasher;25.0;4;90.00;71.00;2223.;16.5;75;Europe\n",
      "\n",
      "Datsun 710;24.0;4;119.0;97.00;2545.;17.0;75;Japan\n",
      "\n",
      "Ford Pinto;18.0;6;171.0;97.00;2984.;14.5;75;US\n",
      "\n",
      "Volkswagen Rabbit;29.0;4;90.00;70.00;1937.;14.0;75;Europe\n",
      "\n",
      "AMC Pacer;19.0;6;232.0;90.00;3211.;17.0;75;US\n",
      "\n",
      "Audi 100LS;23.0;4;115.0;95.00;2694.;15.0;75;Europe\n",
      "\n",
      "Peugeot 504;23.0;4;120.0;88.00;2957.;17.0;75;Europe\n",
      "\n",
      "Volvo 244DL;22.0;4;121.0;98.00;2945.;14.5;75;Europe\n",
      "\n",
      "Saab 99LE;25.0;4;121.0;115.0;2671.;13.5;75;Europe\n",
      "\n",
      "Honda Civic CVCC;33.0;4;91.00;53.00;1795.;17.5;75;Japan\n",
      "\n",
      "Fiat 131;28.0;4;107.0;86.00;2464.;15.5;76;Europe\n",
      "\n",
      "Opel 1900;25.0;4;116.0;81.00;2220.;16.9;76;Europe\n",
      "\n",
      "Capri ii;25.0;4;140.0;92.00;2572.;14.9;76;US\n",
      "\n",
      "Dodge Colt;26.0;4;98.00;79.00;2255.;17.7;76;US\n",
      "\n",
      "Renault 12tl;27.0;4;101.0;83.00;2202.;15.3;76;Europe\n",
      "\n",
      "Chevrolet Chevelle Malibu Classic;17.5;8;305.0;140.0;4215.;13.0;76;US\n",
      "\n",
      "Dodge Coronet Brougham;16.0;8;318.0;150.0;4190.;13.0;76;US\n",
      "\n",
      "AMC Matador;15.5;8;304.0;120.0;3962.;13.9;76;US\n",
      "\n",
      "Ford Gran Torino;14.5;8;351.0;152.0;4215.;12.8;76;US\n",
      "\n",
      "Plymouth Valiant;22.0;6;225.0;100.0;3233.;15.4;76;US\n",
      "\n",
      "Chevrolet Nova;22.0;6;250.0;105.0;3353.;14.5;76;US\n",
      "\n",
      "Ford Maverick;24.0;6;200.0;81.00;3012.;17.6;76;US\n",
      "\n",
      "AMC Hornet;22.5;6;232.0;90.00;3085.;17.6;76;US\n",
      "\n",
      "Chevrolet Chevette;29.0;4;85.00;52.00;2035.;22.2;76;US\n",
      "\n",
      "Chevrolet Woody;24.5;4;98.00;60.00;2164.;22.1;76;US\n",
      "\n",
      "Volkswagen Rabbit;29.0;4;90.00;70.00;1937.;14.2;76;Europe\n",
      "\n",
      "Honda Civic;33.0;4;91.00;53.00;1795.;17.4;76;Japan\n",
      "\n",
      "Dodge Aspen SE;20.0;6;225.0;100.0;3651.;17.7;76;US\n",
      "\n",
      "Ford Grenada ghia;18.0;6;250.0;78.00;3574.;21.0;76;US\n",
      "\n",
      "Pontiac Ventura SJ;18.5;6;250.0;110.0;3645.;16.2;76;US\n",
      "\n",
      "AMC Pacer d/l;17.5;6;258.0;95.00;3193.;17.8;76;US\n",
      "\n",
      "Volkswagen Rabbit;29.5;4;97.00;71.00;1825.;12.2;76;Europe\n",
      "\n",
      "Datsun B-210;32.0;4;85.00;70.00;1990.;17.0;76;Japan\n",
      "\n",
      "Toyota Corolla;28.0;4;97.00;75.00;2155.;16.4;76;Japan\n",
      "\n",
      "Ford Pinto;26.5;4;140.0;72.00;2565.;13.6;76;US\n",
      "\n",
      "Volvo 245;20.0;4;130.0;102.0;3150.;15.7;76;Europe\n",
      "\n",
      "Plymouth Volare Premier v8;13.0;8;318.0;150.0;3940.;13.2;76;US\n",
      "\n",
      "Peugeot 504;19.0;4;120.0;88.00;3270.;21.9;76;Europe\n",
      "\n",
      "Toyota Mark II;19.0;6;156.0;108.0;2930.;15.5;76;Japan\n",
      "\n",
      "Mercedes-Benz 280s;16.5;6;168.0;120.0;3820.;16.7;76;Europe\n",
      "\n",
      "Cadillac Seville;16.5;8;350.0;180.0;4380.;12.1;76;US\n",
      "\n",
      "Chevrolet C10;13.0;8;350.0;145.0;4055.;12.0;76;US\n",
      "\n",
      "Ford F108;13.0;8;302.0;130.0;3870.;15.0;76;US\n",
      "\n",
      "Dodge D100;13.0;8;318.0;150.0;3755.;14.0;76;US\n",
      "\n",
      "Honda Accord CVCC;31.5;4;98.00;68.00;2045.;18.5;77;Japan\n",
      "\n",
      "Buick Opel Isuzu Deluxe;30.0;4;111.0;80.00;2155.;14.8;77;US\n",
      "\n",
      "Renault 5 GTL;36.0;4;79.00;58.00;1825.;18.6;77;Europe\n",
      "\n",
      "Plymouth Arrow GS;25.5;4;122.0;96.00;2300.;15.5;77;US\n",
      "\n",
      "Datsun F-10 Hatchback;33.5;4;85.00;70.00;1945.;16.8;77;Japan\n",
      "\n",
      "Chevrolet Caprice Classic;17.5;8;305.0;145.0;3880.;12.5;77;US\n",
      "\n",
      "Oldsmobile Cutlass Supreme;17.0;8;260.0;110.0;4060.;19.0;77;US\n",
      "\n",
      "Dodge Monaco Brougham;15.5;8;318.0;145.0;4140.;13.7;77;US\n",
      "\n",
      "Mercury Cougar Brougham;15.0;8;302.0;130.0;4295.;14.9;77;US\n",
      "\n",
      "Chevrolet Concours;17.5;6;250.0;110.0;3520.;16.4;77;US\n",
      "\n",
      "Buick Skylark;20.5;6;231.0;105.0;3425.;16.9;77;US\n",
      "\n",
      "Plymouth Volare Custom;19.0;6;225.0;100.0;3630.;17.7;77;US\n",
      "\n",
      "Ford Grenada;18.5;6;250.0;98.00;3525.;19.0;77;US\n",
      "\n",
      "Pontiac Grand Prix LJ;16.0;8;400.0;180.0;4220.;11.1;77;US\n",
      "\n",
      "Chevrolet Monte Carlo Landau;15.5;8;350.0;170.0;4165.;11.4;77;US\n",
      "\n",
      "Chrysler Cordoba;15.5;8;400.0;190.0;4325.;12.2;77;US\n",
      "\n",
      "Ford Thunderbird;16.0;8;351.0;149.0;4335.;14.5;77;US\n",
      "\n",
      "Volkswagen Rabbit Custom;29.0;4;97.00;78.00;1940.;14.5;77;Europe\n",
      "\n",
      "Pontiac Sunbird Coupe;24.5;4;151.0;88.00;2740.;16.0;77;US\n",
      "\n",
      "Toyota Corolla Liftback;26.0;4;97.00;75.00;2265.;18.2;77;Japan\n",
      "\n",
      "Ford Mustang II 2+2;25.5;4;140.0;89.00;2755.;15.8;77;US\n",
      "\n",
      "Chevrolet Chevette;30.5;4;98.00;63.00;2051.;17.0;77;US\n",
      "\n",
      "Dodge Colt m/m;33.5;4;98.00;83.00;2075.;15.9;77;US\n",
      "\n",
      "Subaru DL;30.0;4;97.00;67.00;1985.;16.4;77;Japan\n",
      "\n",
      "Volkswagen Dasher;30.5;4;97.00;78.00;2190.;14.1;77;Europe\n",
      "\n",
      "Datsun 810;22.0;6;146.0;97.00;2815.;14.5;77;Japan\n",
      "\n",
      "BMW 320i;21.5;4;121.0;110.0;2600.;12.8;77;Europe\n",
      "\n",
      "Mazda RX-4;21.5;3;80.00;110.0;2720.;13.5;77;Japan\n",
      "\n",
      "Volkswagen Rabbit Custom Diesel;43.1;4;90.00;48.00;1985.;21.5;78;Europe\n",
      "\n",
      "Ford Fiesta;36.1;4;98.00;66.00;1800.;14.4;78;US\n",
      "\n",
      "Mazda GLC Deluxe;32.8;4;78.00;52.00;1985.;19.4;78;Japan\n",
      "\n",
      "Datsun B210 GX;39.4;4;85.00;70.00;2070.;18.6;78;Japan\n",
      "\n",
      "Honda Civic CVCC;36.1;4;91.00;60.00;1800.;16.4;78;Japan\n",
      "\n",
      "Oldsmobile Cutlass Salon Brougham;19.9;8;260.0;110.0;3365.;15.5;78;US\n",
      "\n",
      "Dodge Diplomat;19.4;8;318.0;140.0;3735.;13.2;78;US\n",
      "\n",
      "Mercury Monarch ghia;20.2;8;302.0;139.0;3570.;12.8;78;US\n",
      "\n",
      "Pontiac Phoenix LJ;19.2;6;231.0;105.0;3535.;19.2;78;US\n",
      "\n",
      "Chevrolet Malibu;20.5;6;200.0;95.00;3155.;18.2;78;US\n",
      "\n",
      "Ford Fairmont (auto);20.2;6;200.0;85.00;2965.;15.8;78;US\n",
      "\n",
      "Ford Fairmont (man);25.1;4;140.0;88.00;2720.;15.4;78;US\n",
      "\n",
      "Plymouth Volare;20.5;6;225.0;100.0;3430.;17.2;78;US\n",
      "\n",
      "AMC Concord;19.4;6;232.0;90.00;3210.;17.2;78;US\n",
      "\n",
      "Buick Century Special;20.6;6;231.0;105.0;3380.;15.8;78;US\n",
      "\n",
      "Mercury Zephyr;20.8;6;200.0;85.00;3070.;16.7;78;US\n",
      "\n",
      "Dodge Aspen;18.6;6;225.0;110.0;3620.;18.7;78;US\n",
      "\n",
      "AMC Concord d/l;18.1;6;258.0;120.0;3410.;15.1;78;US\n",
      "\n",
      "Chevrolet Monte Carlo Landau;19.2;8;305.0;145.0;3425.;13.2;78;US\n",
      "\n",
      "Buick Regal Sport Coupe (turbo);17.7;6;231.0;165.0;3445.;13.4;78;US\n",
      "\n",
      "Ford Futura;18.1;8;302.0;139.0;3205.;11.2;78;US\n",
      "\n",
      "Dodge Magnum XE;17.5;8;318.0;140.0;4080.;13.7;78;US\n",
      "\n",
      "Chevrolet Chevette;30.0;4;98.00;68.00;2155.;16.5;78;US\n",
      "\n",
      "Toyota Corolla;27.5;4;134.0;95.00;2560.;14.2;78;Japan\n",
      "\n",
      "Datsun 510;27.2;4;119.0;97.00;2300.;14.7;78;Japan\n",
      "\n",
      "Dodge Omni;30.9;4;105.0;75.00;2230.;14.5;78;US\n",
      "\n",
      "Toyota Celica GT Liftback;21.1;4;134.0;95.00;2515.;14.8;78;Japan\n",
      "\n",
      "Plymouth Sapporo;23.2;4;156.0;105.0;2745.;16.7;78;US\n",
      "\n",
      "Oldsmobile Starfire SX;23.8;4;151.0;85.00;2855.;17.6;78;US\n",
      "\n",
      "Datsun 200-SX;23.9;4;119.0;97.00;2405.;14.9;78;Japan\n",
      "\n",
      "Audi 5000;20.3;5;131.0;103.0;2830.;15.9;78;Europe\n",
      "\n",
      "Volvo 264gl;17.0;6;163.0;125.0;3140.;13.6;78;Europe\n",
      "\n",
      "Saab 99gle;21.6;4;121.0;115.0;2795.;15.7;78;Europe\n",
      "\n",
      "Peugeot 604sl;16.2;6;163.0;133.0;3410.;15.8;78;Europe\n",
      "\n",
      "Volkswagen Scirocco;31.5;4;89.00;71.00;1990.;14.9;78;Europe\n",
      "\n",
      "Honda Accord LX;29.5;4;98.00;68.00;2135.;16.6;78;Japan\n",
      "\n",
      "Pontiac Lemans V6;21.5;6;231.0;115.0;3245.;15.4;79;US\n",
      "\n",
      "Mercury Zephyr 6;19.8;6;200.0;85.00;2990.;18.2;79;US\n",
      "\n",
      "Ford Fairmont 4;22.3;4;140.0;88.00;2890.;17.3;79;US\n",
      "\n",
      "AMC Concord DL 6;20.2;6;232.0;90.00;3265.;18.2;79;US\n",
      "\n",
      "Dodge Aspen 6;20.6;6;225.0;110.0;3360.;16.6;79;US\n",
      "\n",
      "Chevrolet Caprice Classic;17.0;8;305.0;130.0;3840.;15.4;79;US\n",
      "\n",
      "Ford LTD Landau;17.6;8;302.0;129.0;3725.;13.4;79;US\n",
      "\n",
      "Mercury Grand Marquis;16.5;8;351.0;138.0;3955.;13.2;79;US\n",
      "\n",
      "Dodge St. Regis;18.2;8;318.0;135.0;3830.;15.2;79;US\n",
      "\n",
      "Buick Estate Wagon (sw);16.9;8;350.0;155.0;4360.;14.9;79;US\n",
      "\n",
      "Ford Country Squire (sw);15.5;8;351.0;142.0;4054.;14.3;79;US\n",
      "\n",
      "Chevrolet Malibu Classic (sw);19.2;8;267.0;125.0;3605.;15.0;79;US\n",
      "\n",
      "Chrysler Lebaron Town @ Country (sw);18.5;8;360.0;150.0;3940.;13.0;79;US\n",
      "\n",
      "Volkswagen Rabbit Custom;31.9;4;89.00;71.00;1925.;14.0;79;Europe\n",
      "\n",
      "Mazda GLC Deluxe;34.1;4;86.00;65.00;1975.;15.2;79;Japan\n",
      "\n",
      "Dodge Colt Hatchback Custom;35.7;4;98.00;80.00;1915.;14.4;79;US\n",
      "\n",
      "AMC Spirit DL;27.4;4;121.0;80.00;2670.;15.0;79;US\n",
      "\n",
      "Mercedes Benz 300d;25.4;5;183.0;77.00;3530.;20.1;79;Europe\n",
      "\n",
      "Cadillac Eldorado;23.0;8;350.0;125.0;3900.;17.4;79;US\n",
      "\n",
      "Peugeot 504;27.2;4;141.0;71.00;3190.;24.8;79;Europe\n",
      "\n",
      "Oldsmobile Cutlass Salon Brougham;23.9;8;260.0;90.00;3420.;22.2;79;US\n",
      "\n",
      "Plymouth Horizon;34.2;4;105.0;70.00;2200.;13.2;79;US\n",
      "\n",
      "Plymouth Horizon TC3;34.5;4;105.0;70.00;2150.;14.9;79;US\n",
      "\n",
      "Datsun 210;31.8;4;85.00;65.00;2020.;19.2;79;Japan\n",
      "\n",
      "Fiat Strada Custom;37.3;4;91.00;69.00;2130.;14.7;79;Europe\n",
      "\n",
      "Buick Skylark Limited;28.4;4;151.0;90.00;2670.;16.0;79;US\n",
      "\n",
      "Chevrolet Citation;28.8;6;173.0;115.0;2595.;11.3;79;US\n",
      "\n",
      "Oldsmobile Omega Brougham;26.8;6;173.0;115.0;2700.;12.9;79;US\n",
      "\n",
      "Pontiac Phoenix;33.5;4;151.0;90.00;2556.;13.2;79;US\n",
      "\n",
      "Volkswagen Rabbit;41.5;4;98.00;76.00;2144.;14.7;80;Europe\n",
      "\n",
      "Toyota Corolla Tercel;38.1;4;89.00;60.00;1968.;18.8;80;Japan\n",
      "\n",
      "Chevrolet Chevette;32.1;4;98.00;70.00;2120.;15.5;80;US\n",
      "\n",
      "Datsun 310;37.2;4;86.00;65.00;2019.;16.4;80;Japan\n",
      "\n",
      "Chevrolet Citation;28.0;4;151.0;90.00;2678.;16.5;80;US\n",
      "\n",
      "Ford Fairmont;26.4;4;140.0;88.00;2870.;18.1;80;US\n",
      "\n",
      "AMC Concord;24.3;4;151.0;90.00;3003.;20.1;80;US\n",
      "\n",
      "Dodge Aspen;19.1;6;225.0;90.00;3381.;18.7;80;US\n",
      "\n",
      "Audi 4000;34.3;4;97.00;78.00;2188.;15.8;80;Europe\n",
      "\n",
      "Toyota Corolla Liftback;29.8;4;134.0;90.00;2711.;15.5;80;Japan\n",
      "\n",
      "Mazda 626;31.3;4;120.0;75.00;2542.;17.5;80;Japan\n",
      "\n",
      "Datsun 510 Hatchback;37.0;4;119.0;92.00;2434.;15.0;80;Japan\n",
      "\n",
      "Toyota Corolla;32.2;4;108.0;75.00;2265.;15.2;80;Japan\n",
      "\n",
      "Mazda GLC;46.6;4;86.00;65.00;2110.;17.9;80;Japan\n",
      "\n",
      "Dodge Colt;27.9;4;156.0;105.0;2800.;14.4;80;US\n",
      "\n",
      "Datsun 210;40.8;4;85.00;65.00;2110.;19.2;80;Japan\n",
      "\n",
      "Volkswagen Rabbit C (Diesel);44.3;4;90.00;48.00;2085.;21.7;80;Europe\n",
      "\n",
      "Volkswagen Dasher (diesel);43.4;4;90.00;48.00;2335.;23.7;80;Europe\n",
      "\n",
      "Audi 5000s (diesel);36.4;5;121.0;67.00;2950.;19.9;80;Europe\n",
      "\n",
      "Mercedes-Benz 240d;30.0;4;146.0;67.00;3250.;21.8;80;Europe\n",
      "\n",
      "Honda Civic 1500 gl;44.6;4;91.00;67.00;1850.;13.8;80;Japan\n",
      "\n",
      "Renault Lecar Deluxe;40.9;4;85.00;0;1835.;17.3;80;Europe\n",
      "\n",
      "Subaru DL;33.8;4;97.00;67.00;2145.;18.0;80;Japan\n",
      "\n",
      "Volkswagen Rabbit;29.8;4;89.00;62.00;1845.;15.3;80;Europe\n",
      "\n",
      "Datsun 280-ZX;32.7;6;168.0;132.0;2910.;11.4;80;Japan\n",
      "\n",
      "Mazda RX-7 GS;23.7;3;70.00;100.0;2420.;12.5;80;Japan\n",
      "\n",
      "Triumph TR7 Coupe;35.0;4;122.0;88.00;2500.;15.1;80;Europe\n",
      "\n",
      "Ford Mustang Cobra;23.6;4;140.0;0;2905.;14.3;80;US\n",
      "\n",
      "Honda Accord;32.4;4;107.0;72.00;2290.;17.0;80;Japan\n",
      "\n",
      "Plymouth Reliant;27.2;4;135.0;84.00;2490.;15.7;81;US\n",
      "\n",
      "Buick Skylark;26.6;4;151.0;84.00;2635.;16.4;81;US\n",
      "\n",
      "Dodge Aries Wagon (sw);25.8;4;156.0;92.00;2620.;14.4;81;US\n",
      "\n",
      "Chevrolet Citation;23.5;6;173.0;110.0;2725.;12.6;81;US\n",
      "\n",
      "Plymouth Reliant;30.0;4;135.0;84.00;2385.;12.9;81;US\n",
      "\n",
      "Toyota Starlet;39.1;4;79.00;58.00;1755.;16.9;81;Japan\n",
      "\n",
      "Plymouth Champ;39.0;4;86.00;64.00;1875.;16.4;81;US\n",
      "\n",
      "Honda Civic 1300;35.1;4;81.00;60.00;1760.;16.1;81;Japan\n",
      "\n",
      "Subaru;32.3;4;97.00;67.00;2065.;17.8;81;Japan\n",
      "\n",
      "Datsun 210 MPG;37.0;4;85.00;65.00;1975.;19.4;81;Japan\n",
      "\n",
      "Toyota Tercel;37.7;4;89.00;62.00;2050.;17.3;81;Japan\n",
      "\n",
      "Mazda GLC 4;34.1;4;91.00;68.00;1985.;16.0;81;Japan\n",
      "\n",
      "Plymouth Horizon 4;34.7;4;105.0;63.00;2215.;14.9;81;US\n",
      "\n",
      "Ford Escort 4W;34.4;4;98.00;65.00;2045.;16.2;81;US\n",
      "\n",
      "Ford Escort 2H;29.9;4;98.00;65.00;2380.;20.7;81;US\n",
      "\n",
      "Volkswagen Jetta;33.0;4;105.0;74.00;2190.;14.2;81;Europe\n",
      "\n",
      "Renault 18i;34.5;4;100.0;0;2320.;15.8;81;Europe\n",
      "\n",
      "Honda Prelude;33.7;4;107.0;75.00;2210.;14.4;81;Japan\n",
      "\n",
      "Toyota Corolla;32.4;4;108.0;75.00;2350.;16.8;81;Japan\n",
      "\n",
      "Datsun 200SX;32.9;4;119.0;100.0;2615.;14.8;81;Japan\n",
      "\n",
      "Mazda 626;31.6;4;120.0;74.00;2635.;18.3;81;Japan\n",
      "\n",
      "Peugeot 505s Turbo Diesel;28.1;4;141.0;80.00;3230.;20.4;81;Europe\n",
      "\n",
      "Saab 900s;0;4;121.0;110.0;2800.;15.4;81;Europe\n",
      "\n",
      "Volvo Diesel;30.7;6;145.0;76.00;3160.;19.6;81;Europe\n",
      "\n",
      "Toyota Cressida;25.4;6;168.0;116.0;2900.;12.6;81;Japan\n",
      "\n",
      "Datsun 810 Maxima;24.2;6;146.0;120.0;2930.;13.8;81;Japan\n",
      "\n",
      "Buick Century;22.4;6;231.0;110.0;3415.;15.8;81;US\n",
      "\n",
      "Oldsmobile Cutlass LS;26.6;8;350.0;105.0;3725.;19.0;81;US\n",
      "\n",
      "Ford Grenada gl;20.2;6;200.0;88.00;3060.;17.1;81;US\n",
      "\n",
      "Chrysler Lebaron Salon;17.6;6;225.0;85.00;3465.;16.6;81;US\n",
      "\n",
      "Chevrolet Cavalier;28.0;4;112.0;88.00;2605.;19.6;82;US\n",
      "\n",
      "Chevrolet Cavalier Wagon;27.0;4;112.0;88.00;2640.;18.6;82;US\n",
      "\n",
      "Chevrolet Cavalier 2-door;34.0;4;112.0;88.00;2395.;18.0;82;US\n",
      "\n",
      "Pontiac J2000 SE Hatchback;31.0;4;112.0;85.00;2575.;16.2;82;US\n",
      "\n",
      "Dodge Aries SE;29.0;4;135.0;84.00;2525.;16.0;82;US\n",
      "\n",
      "Pontiac Phoenix;27.0;4;151.0;90.00;2735.;18.0;82;US\n",
      "\n",
      "Ford Fairmont Futura;24.0;4;140.0;92.00;2865.;16.4;82;US\n",
      "\n",
      "AMC Concord DL;23.0;4;151.0;0;3035.;20.5;82;US\n",
      "\n",
      "Volkswagen Rabbit l;36.0;4;105.0;74.00;1980.;15.3;82;Europe\n",
      "\n",
      "Mazda GLC Custom l;37.0;4;91.00;68.00;2025.;18.2;82;Japan\n",
      "\n",
      "Mazda GLC Custom;31.0;4;91.00;68.00;1970.;17.6;82;Japan\n",
      "\n",
      "Plymouth Horizon Miser;38.0;4;105.0;63.00;2125.;14.7;82;US\n",
      "\n",
      "Mercury Lynx l;36.0;4;98.00;70.00;2125.;17.3;82;US\n",
      "\n",
      "Nissan Stanza XE;36.0;4;120.0;88.00;2160.;14.5;82;Japan\n",
      "\n",
      "Honda Accord;36.0;4;107.0;75.00;2205.;14.5;82;Japan\n",
      "\n",
      "Toyota Corolla;34.0;4;108.0;70.00;2245;16.9;82;Japan\n",
      "\n",
      "Honda Civic;38.0;4;91.00;67.00;1965.;15.0;82;Japan\n",
      "\n",
      "Honda Civic (auto);32.0;4;91.00;67.00;1965.;15.7;82;Japan\n",
      "\n",
      "Datsun 310 GX;38.0;4;91.00;67.00;1995.;16.2;82;Japan\n",
      "\n",
      "Buick Century Limited;25.0;6;181.0;110.0;2945.;16.4;82;US\n",
      "\n",
      "Oldsmobile Cutlass Ciera (diesel);38.0;6;262.0;85.00;3015.;17.0;82;US\n",
      "\n",
      "Chrysler Lebaron Medallion;26.0;4;156.0;92.00;2585.;14.5;82;US\n",
      "\n",
      "Ford Grenada l;22.0;6;232.0;112.0;2835;14.7;82;US\n",
      "\n",
      "Toyota Celica GT;32.0;4;144.0;96.00;2665.;13.9;82;Japan\n",
      "\n",
      "Dodge Charger 2.2;36.0;4;135.0;84.00;2370.;13.0;82;US\n",
      "\n",
      "Chevrolet Camaro;27.0;4;151.0;90.00;2950.;17.3;82;US\n",
      "\n",
      "Ford Mustang GL;27.0;4;140.0;86.00;2790.;15.6;82;US\n",
      "\n",
      "Volkswagen Pickup;44.0;4;97.00;52.00;2130.;24.6;82;Europe\n",
      "\n",
      "Dodge Rampage;32.0;4;135.0;84.00;2295.;11.6;82;US\n",
      "\n",
      "Ford Ranger;28.0;4;120.0;79.00;2625.;18.6;82;US\n",
      "\n",
      "Chevy S-10;31.0;4;119.0;82.00;2720.;19.4;82;US\n",
      "\n"
     ]
    }
   ],
   "source": [
    "with open('cars.csv') as file:\n",
    "    for line in file:\n",
    "        print(line)    "
   ]
  },
  {
   "cell_type": "markdown",
   "metadata": {},
   "source": [
    "As we can see, the values are delimited by `;` and the first two lines consist of the column names, and column types.\n",
    "\n",
    "The reason for the spacing between each line is that each line ends with a newline, and our print statement also emits a newline by default. So we'll have to strip those out."
   ]
  },
  {
   "cell_type": "markdown",
   "metadata": {},
   "source": [
    "Here's what we want to do: \n",
    "* read the first line to get the column headers and create a named tuple class\n",
    "* read data types from second line and store this so we can cast the strings we are reading to the correct data type\n",
    "* read the data rows and parse them into a named tuples"
   ]
  },
  {
   "cell_type": "markdown",
   "metadata": {},
   "source": [
    "We could do it this way:"
   ]
  },
  {
   "cell_type": "code",
   "execution_count": 5,
   "metadata": {},
   "outputs": [
    {
     "name": "stdout",
     "output_type": "stream",
     "text": [
      "['Car', 'MPG', 'Cylinders', 'Displacement', 'Horsepower', 'Weight', 'Acceleration', 'Model', 'Origin']\n",
      "['STRING', 'DOUBLE', 'INT', 'DOUBLE', 'DOUBLE', 'DOUBLE', 'DOUBLE', 'INT', 'CAT']\n",
      "['Chevrolet Chevelle Malibu', '18.0', '8', '307.0', '130.0', '3504.', '12.0', '70', 'US']\n",
      "['Buick Skylark 320', '15.0', '8', '350.0', '165.0', '3693.', '11.5', '70', 'US']\n",
      "['Plymouth Satellite', '18.0', '8', '318.0', '150.0', '3436.', '11.0', '70', 'US']\n",
      "['AMC Rebel SST', '16.0', '8', '304.0', '150.0', '3433.', '12.0', '70', 'US']\n",
      "['Ford Torino', '17.0', '8', '302.0', '140.0', '3449.', '10.5', '70', 'US']\n",
      "['Ford Galaxie 500', '15.0', '8', '429.0', '198.0', '4341.', '10.0', '70', 'US']\n",
      "['Chevrolet Impala', '14.0', '8', '454.0', '220.0', '4354.', '9.0', '70', 'US']\n",
      "['Plymouth Fury iii', '14.0', '8', '440.0', '215.0', '4312.', '8.5', '70', 'US']\n",
      "['Pontiac Catalina', '14.0', '8', '455.0', '225.0', '4425.', '10.0', '70', 'US']\n",
      "['AMC Ambassador DPL', '15.0', '8', '390.0', '190.0', '3850.', '8.5', '70', 'US']\n",
      "['Citroen DS-21 Pallas', '0', '4', '133.0', '115.0', '3090.', '17.5', '70', 'Europe']\n",
      "['Chevrolet Chevelle Concours (sw)', '0', '8', '350.0', '165.0', '4142.', '11.5', '70', 'US']\n",
      "['Ford Torino (sw)', '0', '8', '351.0', '153.0', '4034.', '11.0', '70', 'US']\n",
      "['Plymouth Satellite (sw)', '0', '8', '383.0', '175.0', '4166.', '10.5', '70', 'US']\n",
      "['AMC Rebel SST (sw)', '0', '8', '360.0', '175.0', '3850.', '11.0', '70', 'US']\n",
      "['Dodge Challenger SE', '15.0', '8', '383.0', '170.0', '3563.', '10.0', '70', 'US']\n",
      "[\"Plymouth 'Cuda 340\", '14.0', '8', '340.0', '160.0', '3609.', '8.0', '70', 'US']\n",
      "['Ford Mustang Boss 302', '0', '8', '302.0', '140.0', '3353.', '8.0', '70', 'US']\n",
      "['Chevrolet Monte Carlo', '15.0', '8', '400.0', '150.0', '3761.', '9.5', '70', 'US']\n",
      "['Buick Estate Wagon (sw)', '14.0', '8', '455.0', '225.0', '3086.', '10.0', '70', 'US']\n",
      "['Toyota Corolla Mark ii', '24.0', '4', '113.0', '95.00', '2372.', '15.0', '70', 'Japan']\n",
      "['Plymouth Duster', '22.0', '6', '198.0', '95.00', '2833.', '15.5', '70', 'US']\n",
      "['AMC Hornet', '18.0', '6', '199.0', '97.00', '2774.', '15.5', '70', 'US']\n",
      "['Ford Maverick', '21.0', '6', '200.0', '85.00', '2587.', '16.0', '70', 'US']\n",
      "['Datsun PL510', '27.0', '4', '97.00', '88.00', '2130.', '14.5', '70', 'Japan']\n",
      "['Volkswagen 1131 Deluxe Sedan', '26.0', '4', '97.00', '46.00', '1835.', '20.5', '70', 'Europe']\n",
      "['Peugeot 504', '25.0', '4', '110.0', '87.00', '2672.', '17.5', '70', 'Europe']\n",
      "['Audi 100 LS', '24.0', '4', '107.0', '90.00', '2430.', '14.5', '70', 'Europe']\n",
      "['Saab 99e', '25.0', '4', '104.0', '95.00', '2375.', '17.5', '70', 'Europe']\n",
      "['BMW 2002', '26.0', '4', '121.0', '113.0', '2234.', '12.5', '70', 'Europe']\n",
      "['AMC Gremlin', '21.0', '6', '199.0', '90.00', '2648.', '15.0', '70', 'US']\n",
      "['Ford F250', '10.0', '8', '360.0', '215.0', '4615.', '14.0', '70', 'US']\n",
      "['Chevy C20', '10.0', '8', '307.0', '200.0', '4376.', '15.0', '70', 'US']\n",
      "['Dodge D200', '11.0', '8', '318.0', '210.0', '4382.', '13.5', '70', 'US']\n",
      "['Hi 1200D', '9.0', '8', '304.0', '193.0', '4732.', '18.5', '70', 'US']\n",
      "['Datsun PL510', '27.0', '4', '97.00', '88.00', '2130.', '14.5', '71', 'Japan']\n",
      "['Chevrolet Vega 2300', '28.0', '4', '140.0', '90.00', '2264.', '15.5', '71', 'US']\n",
      "['Toyota Corolla', '25.0', '4', '113.0', '95.00', '2228.', '14.0', '71', 'Japan']\n",
      "['Ford Pinto', '25.0', '4', '98.00', '0', '2046.', '19.0', '71', 'US']\n",
      "['Volkswagen Super Beetle 117', '0', '4', '97.00', '48.00', '1978.', '20.0', '71', 'Europe']\n",
      "['AMC Gremlin', '19.0', '6', '232.0', '100.0', '2634.', '13.0', '71', 'US']\n",
      "['Plymouth Satellite Custom', '16.0', '6', '225.0', '105.0', '3439.', '15.5', '71', 'US']\n",
      "['Chevrolet Chevelle Malibu', '17.0', '6', '250.0', '100.0', '3329.', '15.5', '71', 'US']\n",
      "['Ford Torino 500', '19.0', '6', '250.0', '88.00', '3302.', '15.5', '71', 'US']\n",
      "['AMC Matador', '18.0', '6', '232.0', '100.0', '3288.', '15.5', '71', 'US']\n",
      "['Chevrolet Impala', '14.0', '8', '350.0', '165.0', '4209.', '12.0', '71', 'US']\n",
      "['Pontiac Catalina Brougham', '14.0', '8', '400.0', '175.0', '4464.', '11.5', '71', 'US']\n",
      "['Ford Galaxie 500', '14.0', '8', '351.0', '153.0', '4154.', '13.5', '71', 'US']\n",
      "['Plymouth Fury iii', '14.0', '8', '318.0', '150.0', '4096.', '13.0', '71', 'US']\n",
      "['Dodge Monaco (sw)', '12.0', '8', '383.0', '180.0', '4955.', '11.5', '71', 'US']\n",
      "['Ford Country Squire (sw)', '13.0', '8', '400.0', '170.0', '4746.', '12.0', '71', 'US']\n",
      "['Pontiac Safari (sw)', '13.0', '8', '400.0', '175.0', '5140.', '12.0', '71', 'US']\n",
      "['AMC Hornet Sportabout (sw)', '18.0', '6', '258.0', '110.0', '2962.', '13.5', '71', 'US']\n",
      "['Chevrolet Vega (sw)', '22.0', '4', '140.0', '72.00', '2408.', '19.0', '71', 'US']\n",
      "['Pontiac Firebird', '19.0', '6', '250.0', '100.0', '3282.', '15.0', '71', 'US']\n",
      "['Ford Mustang', '18.0', '6', '250.0', '88.00', '3139.', '14.5', '71', 'US']\n",
      "['Mercury Capri 2000', '23.0', '4', '122.0', '86.00', '2220.', '14.0', '71', 'US']\n",
      "['Opel 1900', '28.0', '4', '116.0', '90.00', '2123.', '14.0', '71', 'Europe']\n",
      "['Peugeot 304', '30.0', '4', '79.00', '70.00', '2074.', '19.5', '71', 'Europe']\n",
      "['Fiat 124B', '30.0', '4', '88.00', '76.00', '2065.', '14.5', '71', 'Europe']\n",
      "['Toyota Corolla 1200', '31.0', '4', '71.00', '65.00', '1773.', '19.0', '71', 'Japan']\n",
      "['Datsun 1200', '35.0', '4', '72.00', '69.00', '1613.', '18.0', '71', 'Japan']\n",
      "['Volkswagen Model 111', '27.0', '4', '97.00', '60.00', '1834.', '19.0', '71', 'Europe']\n",
      "['Plymouth Cricket', '26.0', '4', '91.00', '70.00', '1955.', '20.5', '71', 'US']\n",
      "['Toyota Corolla Hardtop', '24.0', '4', '113.0', '95.00', '2278.', '15.5', '72', 'Japan']\n",
      "['Dodge Colt Hardtop', '25.0', '4', '97.50', '80.00', '2126.', '17.0', '72', 'US']\n",
      "['Volkswagen Type 3', '23.0', '4', '97.00', '54.00', '2254.', '23.5', '72', 'Europe']\n",
      "['Chevrolet Vega', '20.0', '4', '140.0', '90.00', '2408.', '19.5', '72', 'US']\n",
      "['Ford Pinto Runabout', '21.0', '4', '122.0', '86.00', '2226.', '16.5', '72', 'US']\n",
      "['Chevrolet Impala', '13.0', '8', '350.0', '165.0', '4274.', '12.0', '72', 'US']\n",
      "['Pontiac Catalina', '14.0', '8', '400.0', '175.0', '4385.', '12.0', '72', 'US']\n",
      "['Plymouth Fury III', '15.0', '8', '318.0', '150.0', '4135.', '13.5', '72', 'US']\n",
      "['Ford Galaxie 500', '14.0', '8', '351.0', '153.0', '4129.', '13.0', '72', 'US']\n",
      "['AMC Ambassador SST', '17.0', '8', '304.0', '150.0', '3672.', '11.5', '72', 'US']\n",
      "['Mercury Marquis', '11.0', '8', '429.0', '208.0', '4633.', '11.0', '72', 'US']\n",
      "['Buick LeSabre Custom', '13.0', '8', '350.0', '155.0', '4502.', '13.5', '72', 'US']\n",
      "['Oldsmobile Delta 88 Royale', '12.0', '8', '350.0', '160.0', '4456.', '13.5', '72', 'US']\n",
      "['Chrysler Newport Royal', '13.0', '8', '400.0', '190.0', '4422.', '12.5', '72', 'US']\n",
      "['Mazda RX2 Coupe', '19.0', '3', '70.00', '97.00', '2330.', '13.5', '72', 'Japan']\n",
      "['AMC Matador (sw)', '15.0', '8', '304.0', '150.0', '3892.', '12.5', '72', 'US']\n",
      "['Chevrolet Chevelle Concours (sw)', '13.0', '8', '307.0', '130.0', '4098.', '14.0', '72', 'US']\n",
      "['Ford Gran Torino (sw)', '13.0', '8', '302.0', '140.0', '4294.', '16.0', '72', 'US']\n",
      "['Plymouth Satellite Custom (sw)', '14.0', '8', '318.0', '150.0', '4077.', '14.0', '72', 'US']\n",
      "['Volvo 145e (sw)', '18.0', '4', '121.0', '112.0', '2933.', '14.5', '72', 'Europe']\n",
      "['Volkswagen 411 (sw)', '22.0', '4', '121.0', '76.00', '2511.', '18.0', '72', 'Europe']\n",
      "['Peugeot 504 (sw)', '21.0', '4', '120.0', '87.00', '2979.', '19.5', '72', 'Europe']\n",
      "['Renault 12 (sw)', '26.0', '4', '96.00', '69.00', '2189.', '18.0', '72', 'Europe']\n",
      "['Ford Pinto (sw)', '22.0', '4', '122.0', '86.00', '2395.', '16.0', '72', 'US']\n",
      "['Datsun 510 (sw)', '28.0', '4', '97.00', '92.00', '2288.', '17.0', '72', 'Japan']\n",
      "['Toyota Corolla Mark II (sw)', '23.0', '4', '120.0', '97.00', '2506.', '14.5', '72', 'Japan']\n",
      "['Dodge Colt (sw)', '28.0', '4', '98.00', '80.00', '2164.', '15.0', '72', 'US']\n",
      "['Toyota Corolla 1600 (sw)', '27.0', '4', '97.00', '88.00', '2100.', '16.5', '72', 'Japan']\n",
      "['Buick Century 350', '13.0', '8', '350.0', '175.0', '4100.', '13.0', '73', 'US']\n",
      "['AMC Matador', '14.0', '8', '304.0', '150.0', '3672.', '11.5', '73', 'US']\n",
      "['Chevrolet Malibu', '13.0', '8', '350.0', '145.0', '3988.', '13.0', '73', 'US']\n",
      "['Ford Gran Torino', '14.0', '8', '302.0', '137.0', '4042.', '14.5', '73', 'US']\n",
      "['Dodge Coronet Custom', '15.0', '8', '318.0', '150.0', '3777.', '12.5', '73', 'US']\n",
      "['Mercury Marquis Brougham', '12.0', '8', '429.0', '198.0', '4952.', '11.5', '73', 'US']\n",
      "['Chevrolet Caprice Classic', '13.0', '8', '400.0', '150.0', '4464.', '12.0', '73', 'US']\n",
      "['Ford LTD', '13.0', '8', '351.0', '158.0', '4363.', '13.0', '73', 'US']\n",
      "['Plymouth Fury Gran Sedan', '14.0', '8', '318.0', '150.0', '4237.', '14.5', '73', 'US']\n",
      "['Chrysler New Yorker Brougham', '13.0', '8', '440.0', '215.0', '4735.', '11.0', '73', 'US']\n",
      "['Buick Electra 225 Custom', '12.0', '8', '455.0', '225.0', '4951.', '11.0', '73', 'US']\n",
      "['AMC Ambassador Brougham', '13.0', '8', '360.0', '175.0', '3821.', '11.0', '73', 'US']\n",
      "['Plymouth Valiant', '18.0', '6', '225.0', '105.0', '3121.', '16.5', '73', 'US']\n",
      "['Chevrolet Nova Custom', '16.0', '6', '250.0', '100.0', '3278.', '18.0', '73', 'US']\n",
      "['AMC Hornet', '18.0', '6', '232.0', '100.0', '2945.', '16.0', '73', 'US']\n",
      "['Ford Maverick', '18.0', '6', '250.0', '88.00', '3021.', '16.5', '73', 'US']\n",
      "['Plymouth Duster', '23.0', '6', '198.0', '95.00', '2904.', '16.0', '73', 'US']\n",
      "['Volkswagen Super Beetle', '26.0', '4', '97.00', '46.00', '1950.', '21.0', '73', 'Europe']\n",
      "['Chevrolet Impala', '11.0', '8', '400.0', '150.0', '4997.', '14.0', '73', 'US']\n",
      "['Ford Country', '12.0', '8', '400.0', '167.0', '4906.', '12.5', '73', 'US']\n",
      "['Plymouth Custom Suburb', '13.0', '8', '360.0', '170.0', '4654.', '13.0', '73', 'US']\n",
      "['Oldsmobile Vista Cruiser', '12.0', '8', '350.0', '180.0', '4499.', '12.5', '73', 'US']\n",
      "['AMC Gremlin', '18.0', '6', '232.0', '100.0', '2789.', '15.0', '73', 'US']\n",
      "['Toyota Camry', '20.0', '4', '97.00', '88.00', '2279.', '19.0', '73', 'Japan']\n",
      "['Chevrolet Vega', '21.0', '4', '140.0', '72.00', '2401.', '19.5', '73', 'US']\n",
      "['Datsun 610', '22.0', '4', '108.0', '94.00', '2379.', '16.5', '73', 'Japan']\n",
      "['Mazda RX3', '18.0', '3', '70.00', '90.00', '2124.', '13.5', '73', 'Japan']\n",
      "['Ford Pinto', '19.0', '4', '122.0', '85.00', '2310.', '18.5', '73', 'US']\n",
      "['Mercury Capri v6', '21.0', '6', '155.0', '107.0', '2472.', '14.0', '73', 'US']\n",
      "['Fiat 124 Sport Coupe', '26.0', '4', '98.00', '90.00', '2265.', '15.5', '73', 'Europe']\n",
      "['Chevrolet Monte Carlo S', '15.0', '8', '350.0', '145.0', '4082.', '13.0', '73', 'US']\n",
      "['Pontiac Grand Prix', '16.0', '8', '400.0', '230.0', '4278.', '9.50', '73', 'US']\n",
      "['Fiat 128', '29.0', '4', '68.00', '49.00', '1867.', '19.5', '73', 'Europe']\n",
      "['Opel Manta', '24.0', '4', '116.0', '75.00', '2158.', '15.5', '73', 'Europe']\n",
      "['Audi 100LS', '20.0', '4', '114.0', '91.00', '2582.', '14.0', '73', 'Europe']\n",
      "['Volvo 144ea', '19.0', '4', '121.0', '112.0', '2868.', '15.5', '73', 'Europe']\n",
      "['Dodge Dart Custom', '15.0', '8', '318.0', '150.0', '3399.', '11.0', '73', 'US']\n",
      "['Saab 99le', '24.0', '4', '121.0', '110.0', '2660.', '14.0', '73', 'Europe']\n",
      "['Toyota Mark II', '20.0', '6', '156.0', '122.0', '2807.', '13.5', '73', 'Japan']\n",
      "['Oldsmobile Omega', '11.0', '8', '350.0', '180.0', '3664.', '11.0', '73', 'US']\n",
      "['Plymouth Duster', '20.0', '6', '198.0', '95.00', '3102.', '16.5', '74', 'US']\n",
      "['Ford Maverick', '21.0', '6', '200.0', '0', '2875.', '17.0', '74', 'US']\n",
      "['AMC Hornet', '19.0', '6', '232.0', '100.0', '2901.', '16.0', '74', 'US']\n",
      "['Chevrolet Nova', '15.0', '6', '250.0', '100.0', '3336.', '17.0', '74', 'US']\n",
      "['Datsun B210', '31.0', '4', '79.00', '67.00', '1950.', '19.0', '74', 'Japan']\n",
      "['Ford Pinto', '26.0', '4', '122.0', '80.00', '2451.', '16.5', '74', 'US']\n",
      "['Toyota Corolla 1200', '32.0', '4', '71.00', '65.00', '1836.', '21.0', '74', 'Japan']\n",
      "['Chevrolet Vega', '25.0', '4', '140.0', '75.00', '2542.', '17.0', '74', 'US']\n",
      "['Chevrolet Chevelle Malibu Classic', '16.0', '6', '250.0', '100.0', '3781.', '17.0', '74', 'US']\n",
      "['AMC Matador', '16.0', '6', '258.0', '110.0', '3632.', '18.0', '74', 'US']\n",
      "['Plymouth Satellite Sebring', '18.0', '6', '225.0', '105.0', '3613.', '16.5', '74', 'US']\n",
      "['Ford Gran Torino', '16.0', '8', '302.0', '140.0', '4141.', '14.0', '74', 'US']\n",
      "['Buick Century Luxus (sw)', '13.0', '8', '350.0', '150.0', '4699.', '14.5', '74', 'US']\n",
      "['Dodge Coronet Custom (sw)', '14.0', '8', '318.0', '150.0', '4457.', '13.5', '74', 'US']\n",
      "['Ford Gran Torino (sw)', '14.0', '8', '302.0', '140.0', '4638.', '16.0', '74', 'US']\n",
      "['AMC Matador (sw)', '14.0', '8', '304.0', '150.0', '4257.', '15.5', '74', 'US']\n",
      "['Audi Fox', '29.0', '4', '98.00', '83.00', '2219.', '16.5', '74', 'Europe']\n",
      "['Volkswagen Dasher', '26.0', '4', '79.00', '67.00', '1963.', '15.5', '74', 'Europe']\n",
      "['Opel Manta', '26.0', '4', '97.00', '78.00', '2300.', '14.5', '74', 'Europe']\n",
      "['Toyota Corolla', '31.0', '4', '76.00', '52.00', '1649.', '16.5', '74', 'Japan']\n",
      "['Datsun 710', '32.0', '4', '83.00', '61.00', '2003.', '19.0', '74', 'Japan']\n",
      "['Dodge Colt', '28.0', '4', '90.00', '75.00', '2125.', '14.5', '74', 'US']\n",
      "['Fiat 128', '24.0', '4', '90.00', '75.00', '2108.', '15.5', '74', 'Europe']\n",
      "['Fiat 124 TC', '26.0', '4', '116.0', '75.00', '2246.', '14.0', '74', 'Europe']\n",
      "['Honda Civic', '24.0', '4', '120.0', '97.00', '2489.', '15.0', '74', 'Japan']\n",
      "['Subaru', '26.0', '4', '108.0', '93.00', '2391.', '15.5', '74', 'Japan']\n",
      "['Fiat x1.9', '31.0', '4', '79.00', '67.00', '2000.', '16.0', '74', 'Europe']\n",
      "['Plymouth Valiant Custom', '19.0', '6', '225.0', '95.00', '3264.', '16.0', '75', 'US']\n",
      "['Chevrolet Nova', '18.0', '6', '250.0', '105.0', '3459.', '16.0', '75', 'US']\n",
      "['Mercury Monarch', '15.0', '6', '250.0', '72.00', '3432.', '21.0', '75', 'US']\n",
      "['Ford Maverick', '15.0', '6', '250.0', '72.00', '3158.', '19.5', '75', 'US']\n",
      "['Pontiac Catalina', '16.0', '8', '400.0', '170.0', '4668.', '11.5', '75', 'US']\n",
      "['Chevrolet Bel Air', '15.0', '8', '350.0', '145.0', '4440.', '14.0', '75', 'US']\n",
      "['Plymouth Grand Fury', '16.0', '8', '318.0', '150.0', '4498.', '14.5', '75', 'US']\n",
      "['Ford LTD', '14.0', '8', '351.0', '148.0', '4657.', '13.5', '75', 'US']\n",
      "['Buick Century', '17.0', '6', '231.0', '110.0', '3907.', '21.0', '75', 'US']\n",
      "['Chevrolete Chevelle Malibu', '16.0', '6', '250.0', '105.0', '3897.', '18.5', '75', 'US']\n",
      "['AMC Matador', '15.0', '6', '258.0', '110.0', '3730.', '19.0', '75', 'US']\n",
      "['Plymouth Fury', '18.0', '6', '225.0', '95.00', '3785.', '19.0', '75', 'US']\n",
      "['Buick Skyhawk', '21.0', '6', '231.0', '110.0', '3039.', '15.0', '75', 'US']\n",
      "['Chevrolet Monza 2+2', '20.0', '8', '262.0', '110.0', '3221.', '13.5', '75', 'US']\n",
      "['Ford Mustang II', '13.0', '8', '302.0', '129.0', '3169.', '12.0', '75', 'US']\n",
      "['Toyota Corolla', '29.0', '4', '97.00', '75.00', '2171.', '16.0', '75', 'Japan']\n",
      "['Ford Pinto', '23.0', '4', '140.0', '83.00', '2639.', '17.0', '75', 'US']\n",
      "['AMC Gremlin', '20.0', '6', '232.0', '100.0', '2914.', '16.0', '75', 'US']\n",
      "['Pontiac Astro', '23.0', '4', '140.0', '78.00', '2592.', '18.5', '75', 'US']\n",
      "['Toyota Corolla', '24.0', '4', '134.0', '96.00', '2702.', '13.5', '75', 'Japan']\n",
      "['Volkswagen Dasher', '25.0', '4', '90.00', '71.00', '2223.', '16.5', '75', 'Europe']\n",
      "['Datsun 710', '24.0', '4', '119.0', '97.00', '2545.', '17.0', '75', 'Japan']\n",
      "['Ford Pinto', '18.0', '6', '171.0', '97.00', '2984.', '14.5', '75', 'US']\n",
      "['Volkswagen Rabbit', '29.0', '4', '90.00', '70.00', '1937.', '14.0', '75', 'Europe']\n",
      "['AMC Pacer', '19.0', '6', '232.0', '90.00', '3211.', '17.0', '75', 'US']\n",
      "['Audi 100LS', '23.0', '4', '115.0', '95.00', '2694.', '15.0', '75', 'Europe']\n",
      "['Peugeot 504', '23.0', '4', '120.0', '88.00', '2957.', '17.0', '75', 'Europe']\n",
      "['Volvo 244DL', '22.0', '4', '121.0', '98.00', '2945.', '14.5', '75', 'Europe']\n",
      "['Saab 99LE', '25.0', '4', '121.0', '115.0', '2671.', '13.5', '75', 'Europe']\n",
      "['Honda Civic CVCC', '33.0', '4', '91.00', '53.00', '1795.', '17.5', '75', 'Japan']\n",
      "['Fiat 131', '28.0', '4', '107.0', '86.00', '2464.', '15.5', '76', 'Europe']\n",
      "['Opel 1900', '25.0', '4', '116.0', '81.00', '2220.', '16.9', '76', 'Europe']\n",
      "['Capri ii', '25.0', '4', '140.0', '92.00', '2572.', '14.9', '76', 'US']\n",
      "['Dodge Colt', '26.0', '4', '98.00', '79.00', '2255.', '17.7', '76', 'US']\n",
      "['Renault 12tl', '27.0', '4', '101.0', '83.00', '2202.', '15.3', '76', 'Europe']\n",
      "['Chevrolet Chevelle Malibu Classic', '17.5', '8', '305.0', '140.0', '4215.', '13.0', '76', 'US']\n",
      "['Dodge Coronet Brougham', '16.0', '8', '318.0', '150.0', '4190.', '13.0', '76', 'US']\n",
      "['AMC Matador', '15.5', '8', '304.0', '120.0', '3962.', '13.9', '76', 'US']\n",
      "['Ford Gran Torino', '14.5', '8', '351.0', '152.0', '4215.', '12.8', '76', 'US']\n",
      "['Plymouth Valiant', '22.0', '6', '225.0', '100.0', '3233.', '15.4', '76', 'US']\n",
      "['Chevrolet Nova', '22.0', '6', '250.0', '105.0', '3353.', '14.5', '76', 'US']\n",
      "['Ford Maverick', '24.0', '6', '200.0', '81.00', '3012.', '17.6', '76', 'US']\n",
      "['AMC Hornet', '22.5', '6', '232.0', '90.00', '3085.', '17.6', '76', 'US']\n",
      "['Chevrolet Chevette', '29.0', '4', '85.00', '52.00', '2035.', '22.2', '76', 'US']\n",
      "['Chevrolet Woody', '24.5', '4', '98.00', '60.00', '2164.', '22.1', '76', 'US']\n",
      "['Volkswagen Rabbit', '29.0', '4', '90.00', '70.00', '1937.', '14.2', '76', 'Europe']\n",
      "['Honda Civic', '33.0', '4', '91.00', '53.00', '1795.', '17.4', '76', 'Japan']\n",
      "['Dodge Aspen SE', '20.0', '6', '225.0', '100.0', '3651.', '17.7', '76', 'US']\n",
      "['Ford Grenada ghia', '18.0', '6', '250.0', '78.00', '3574.', '21.0', '76', 'US']\n",
      "['Pontiac Ventura SJ', '18.5', '6', '250.0', '110.0', '3645.', '16.2', '76', 'US']\n",
      "['AMC Pacer d/l', '17.5', '6', '258.0', '95.00', '3193.', '17.8', '76', 'US']\n",
      "['Volkswagen Rabbit', '29.5', '4', '97.00', '71.00', '1825.', '12.2', '76', 'Europe']\n",
      "['Datsun B-210', '32.0', '4', '85.00', '70.00', '1990.', '17.0', '76', 'Japan']\n",
      "['Toyota Corolla', '28.0', '4', '97.00', '75.00', '2155.', '16.4', '76', 'Japan']\n",
      "['Ford Pinto', '26.5', '4', '140.0', '72.00', '2565.', '13.6', '76', 'US']\n",
      "['Volvo 245', '20.0', '4', '130.0', '102.0', '3150.', '15.7', '76', 'Europe']\n",
      "['Plymouth Volare Premier v8', '13.0', '8', '318.0', '150.0', '3940.', '13.2', '76', 'US']\n",
      "['Peugeot 504', '19.0', '4', '120.0', '88.00', '3270.', '21.9', '76', 'Europe']\n",
      "['Toyota Mark II', '19.0', '6', '156.0', '108.0', '2930.', '15.5', '76', 'Japan']\n",
      "['Mercedes-Benz 280s', '16.5', '6', '168.0', '120.0', '3820.', '16.7', '76', 'Europe']\n",
      "['Cadillac Seville', '16.5', '8', '350.0', '180.0', '4380.', '12.1', '76', 'US']\n",
      "['Chevrolet C10', '13.0', '8', '350.0', '145.0', '4055.', '12.0', '76', 'US']\n",
      "['Ford F108', '13.0', '8', '302.0', '130.0', '3870.', '15.0', '76', 'US']\n",
      "['Dodge D100', '13.0', '8', '318.0', '150.0', '3755.', '14.0', '76', 'US']\n",
      "['Honda Accord CVCC', '31.5', '4', '98.00', '68.00', '2045.', '18.5', '77', 'Japan']\n",
      "['Buick Opel Isuzu Deluxe', '30.0', '4', '111.0', '80.00', '2155.', '14.8', '77', 'US']\n",
      "['Renault 5 GTL', '36.0', '4', '79.00', '58.00', '1825.', '18.6', '77', 'Europe']\n",
      "['Plymouth Arrow GS', '25.5', '4', '122.0', '96.00', '2300.', '15.5', '77', 'US']\n",
      "['Datsun F-10 Hatchback', '33.5', '4', '85.00', '70.00', '1945.', '16.8', '77', 'Japan']\n",
      "['Chevrolet Caprice Classic', '17.5', '8', '305.0', '145.0', '3880.', '12.5', '77', 'US']\n",
      "['Oldsmobile Cutlass Supreme', '17.0', '8', '260.0', '110.0', '4060.', '19.0', '77', 'US']\n",
      "['Dodge Monaco Brougham', '15.5', '8', '318.0', '145.0', '4140.', '13.7', '77', 'US']\n",
      "['Mercury Cougar Brougham', '15.0', '8', '302.0', '130.0', '4295.', '14.9', '77', 'US']\n",
      "['Chevrolet Concours', '17.5', '6', '250.0', '110.0', '3520.', '16.4', '77', 'US']\n",
      "['Buick Skylark', '20.5', '6', '231.0', '105.0', '3425.', '16.9', '77', 'US']\n",
      "['Plymouth Volare Custom', '19.0', '6', '225.0', '100.0', '3630.', '17.7', '77', 'US']\n",
      "['Ford Grenada', '18.5', '6', '250.0', '98.00', '3525.', '19.0', '77', 'US']\n",
      "['Pontiac Grand Prix LJ', '16.0', '8', '400.0', '180.0', '4220.', '11.1', '77', 'US']\n",
      "['Chevrolet Monte Carlo Landau', '15.5', '8', '350.0', '170.0', '4165.', '11.4', '77', 'US']\n",
      "['Chrysler Cordoba', '15.5', '8', '400.0', '190.0', '4325.', '12.2', '77', 'US']\n",
      "['Ford Thunderbird', '16.0', '8', '351.0', '149.0', '4335.', '14.5', '77', 'US']\n",
      "['Volkswagen Rabbit Custom', '29.0', '4', '97.00', '78.00', '1940.', '14.5', '77', 'Europe']\n",
      "['Pontiac Sunbird Coupe', '24.5', '4', '151.0', '88.00', '2740.', '16.0', '77', 'US']\n",
      "['Toyota Corolla Liftback', '26.0', '4', '97.00', '75.00', '2265.', '18.2', '77', 'Japan']\n",
      "['Ford Mustang II 2+2', '25.5', '4', '140.0', '89.00', '2755.', '15.8', '77', 'US']\n",
      "['Chevrolet Chevette', '30.5', '4', '98.00', '63.00', '2051.', '17.0', '77', 'US']\n",
      "['Dodge Colt m/m', '33.5', '4', '98.00', '83.00', '2075.', '15.9', '77', 'US']\n",
      "['Subaru DL', '30.0', '4', '97.00', '67.00', '1985.', '16.4', '77', 'Japan']\n",
      "['Volkswagen Dasher', '30.5', '4', '97.00', '78.00', '2190.', '14.1', '77', 'Europe']\n",
      "['Datsun 810', '22.0', '6', '146.0', '97.00', '2815.', '14.5', '77', 'Japan']\n",
      "['BMW 320i', '21.5', '4', '121.0', '110.0', '2600.', '12.8', '77', 'Europe']\n",
      "['Mazda RX-4', '21.5', '3', '80.00', '110.0', '2720.', '13.5', '77', 'Japan']\n",
      "['Volkswagen Rabbit Custom Diesel', '43.1', '4', '90.00', '48.00', '1985.', '21.5', '78', 'Europe']\n",
      "['Ford Fiesta', '36.1', '4', '98.00', '66.00', '1800.', '14.4', '78', 'US']\n",
      "['Mazda GLC Deluxe', '32.8', '4', '78.00', '52.00', '1985.', '19.4', '78', 'Japan']\n",
      "['Datsun B210 GX', '39.4', '4', '85.00', '70.00', '2070.', '18.6', '78', 'Japan']\n",
      "['Honda Civic CVCC', '36.1', '4', '91.00', '60.00', '1800.', '16.4', '78', 'Japan']\n",
      "['Oldsmobile Cutlass Salon Brougham', '19.9', '8', '260.0', '110.0', '3365.', '15.5', '78', 'US']\n",
      "['Dodge Diplomat', '19.4', '8', '318.0', '140.0', '3735.', '13.2', '78', 'US']\n",
      "['Mercury Monarch ghia', '20.2', '8', '302.0', '139.0', '3570.', '12.8', '78', 'US']\n",
      "['Pontiac Phoenix LJ', '19.2', '6', '231.0', '105.0', '3535.', '19.2', '78', 'US']\n",
      "['Chevrolet Malibu', '20.5', '6', '200.0', '95.00', '3155.', '18.2', '78', 'US']\n",
      "['Ford Fairmont (auto)', '20.2', '6', '200.0', '85.00', '2965.', '15.8', '78', 'US']\n",
      "['Ford Fairmont (man)', '25.1', '4', '140.0', '88.00', '2720.', '15.4', '78', 'US']\n",
      "['Plymouth Volare', '20.5', '6', '225.0', '100.0', '3430.', '17.2', '78', 'US']\n",
      "['AMC Concord', '19.4', '6', '232.0', '90.00', '3210.', '17.2', '78', 'US']\n",
      "['Buick Century Special', '20.6', '6', '231.0', '105.0', '3380.', '15.8', '78', 'US']\n",
      "['Mercury Zephyr', '20.8', '6', '200.0', '85.00', '3070.', '16.7', '78', 'US']\n",
      "['Dodge Aspen', '18.6', '6', '225.0', '110.0', '3620.', '18.7', '78', 'US']\n",
      "['AMC Concord d/l', '18.1', '6', '258.0', '120.0', '3410.', '15.1', '78', 'US']\n",
      "['Chevrolet Monte Carlo Landau', '19.2', '8', '305.0', '145.0', '3425.', '13.2', '78', 'US']\n",
      "['Buick Regal Sport Coupe (turbo)', '17.7', '6', '231.0', '165.0', '3445.', '13.4', '78', 'US']\n",
      "['Ford Futura', '18.1', '8', '302.0', '139.0', '3205.', '11.2', '78', 'US']\n",
      "['Dodge Magnum XE', '17.5', '8', '318.0', '140.0', '4080.', '13.7', '78', 'US']\n",
      "['Chevrolet Chevette', '30.0', '4', '98.00', '68.00', '2155.', '16.5', '78', 'US']\n",
      "['Toyota Corolla', '27.5', '4', '134.0', '95.00', '2560.', '14.2', '78', 'Japan']\n",
      "['Datsun 510', '27.2', '4', '119.0', '97.00', '2300.', '14.7', '78', 'Japan']\n",
      "['Dodge Omni', '30.9', '4', '105.0', '75.00', '2230.', '14.5', '78', 'US']\n",
      "['Toyota Celica GT Liftback', '21.1', '4', '134.0', '95.00', '2515.', '14.8', '78', 'Japan']\n",
      "['Plymouth Sapporo', '23.2', '4', '156.0', '105.0', '2745.', '16.7', '78', 'US']\n",
      "['Oldsmobile Starfire SX', '23.8', '4', '151.0', '85.00', '2855.', '17.6', '78', 'US']\n",
      "['Datsun 200-SX', '23.9', '4', '119.0', '97.00', '2405.', '14.9', '78', 'Japan']\n",
      "['Audi 5000', '20.3', '5', '131.0', '103.0', '2830.', '15.9', '78', 'Europe']\n",
      "['Volvo 264gl', '17.0', '6', '163.0', '125.0', '3140.', '13.6', '78', 'Europe']\n",
      "['Saab 99gle', '21.6', '4', '121.0', '115.0', '2795.', '15.7', '78', 'Europe']\n",
      "['Peugeot 604sl', '16.2', '6', '163.0', '133.0', '3410.', '15.8', '78', 'Europe']\n",
      "['Volkswagen Scirocco', '31.5', '4', '89.00', '71.00', '1990.', '14.9', '78', 'Europe']\n",
      "['Honda Accord LX', '29.5', '4', '98.00', '68.00', '2135.', '16.6', '78', 'Japan']\n",
      "['Pontiac Lemans V6', '21.5', '6', '231.0', '115.0', '3245.', '15.4', '79', 'US']\n",
      "['Mercury Zephyr 6', '19.8', '6', '200.0', '85.00', '2990.', '18.2', '79', 'US']\n",
      "['Ford Fairmont 4', '22.3', '4', '140.0', '88.00', '2890.', '17.3', '79', 'US']\n",
      "['AMC Concord DL 6', '20.2', '6', '232.0', '90.00', '3265.', '18.2', '79', 'US']\n",
      "['Dodge Aspen 6', '20.6', '6', '225.0', '110.0', '3360.', '16.6', '79', 'US']\n",
      "['Chevrolet Caprice Classic', '17.0', '8', '305.0', '130.0', '3840.', '15.4', '79', 'US']\n",
      "['Ford LTD Landau', '17.6', '8', '302.0', '129.0', '3725.', '13.4', '79', 'US']\n",
      "['Mercury Grand Marquis', '16.5', '8', '351.0', '138.0', '3955.', '13.2', '79', 'US']\n",
      "['Dodge St. Regis', '18.2', '8', '318.0', '135.0', '3830.', '15.2', '79', 'US']\n",
      "['Buick Estate Wagon (sw)', '16.9', '8', '350.0', '155.0', '4360.', '14.9', '79', 'US']\n",
      "['Ford Country Squire (sw)', '15.5', '8', '351.0', '142.0', '4054.', '14.3', '79', 'US']\n",
      "['Chevrolet Malibu Classic (sw)', '19.2', '8', '267.0', '125.0', '3605.', '15.0', '79', 'US']\n",
      "['Chrysler Lebaron Town @ Country (sw)', '18.5', '8', '360.0', '150.0', '3940.', '13.0', '79', 'US']\n",
      "['Volkswagen Rabbit Custom', '31.9', '4', '89.00', '71.00', '1925.', '14.0', '79', 'Europe']\n",
      "['Mazda GLC Deluxe', '34.1', '4', '86.00', '65.00', '1975.', '15.2', '79', 'Japan']\n",
      "['Dodge Colt Hatchback Custom', '35.7', '4', '98.00', '80.00', '1915.', '14.4', '79', 'US']\n",
      "['AMC Spirit DL', '27.4', '4', '121.0', '80.00', '2670.', '15.0', '79', 'US']\n",
      "['Mercedes Benz 300d', '25.4', '5', '183.0', '77.00', '3530.', '20.1', '79', 'Europe']\n",
      "['Cadillac Eldorado', '23.0', '8', '350.0', '125.0', '3900.', '17.4', '79', 'US']\n",
      "['Peugeot 504', '27.2', '4', '141.0', '71.00', '3190.', '24.8', '79', 'Europe']\n",
      "['Oldsmobile Cutlass Salon Brougham', '23.9', '8', '260.0', '90.00', '3420.', '22.2', '79', 'US']\n",
      "['Plymouth Horizon', '34.2', '4', '105.0', '70.00', '2200.', '13.2', '79', 'US']\n",
      "['Plymouth Horizon TC3', '34.5', '4', '105.0', '70.00', '2150.', '14.9', '79', 'US']\n",
      "['Datsun 210', '31.8', '4', '85.00', '65.00', '2020.', '19.2', '79', 'Japan']\n",
      "['Fiat Strada Custom', '37.3', '4', '91.00', '69.00', '2130.', '14.7', '79', 'Europe']\n",
      "['Buick Skylark Limited', '28.4', '4', '151.0', '90.00', '2670.', '16.0', '79', 'US']\n",
      "['Chevrolet Citation', '28.8', '6', '173.0', '115.0', '2595.', '11.3', '79', 'US']\n",
      "['Oldsmobile Omega Brougham', '26.8', '6', '173.0', '115.0', '2700.', '12.9', '79', 'US']\n",
      "['Pontiac Phoenix', '33.5', '4', '151.0', '90.00', '2556.', '13.2', '79', 'US']\n",
      "['Volkswagen Rabbit', '41.5', '4', '98.00', '76.00', '2144.', '14.7', '80', 'Europe']\n",
      "['Toyota Corolla Tercel', '38.1', '4', '89.00', '60.00', '1968.', '18.8', '80', 'Japan']\n",
      "['Chevrolet Chevette', '32.1', '4', '98.00', '70.00', '2120.', '15.5', '80', 'US']\n",
      "['Datsun 310', '37.2', '4', '86.00', '65.00', '2019.', '16.4', '80', 'Japan']\n",
      "['Chevrolet Citation', '28.0', '4', '151.0', '90.00', '2678.', '16.5', '80', 'US']\n",
      "['Ford Fairmont', '26.4', '4', '140.0', '88.00', '2870.', '18.1', '80', 'US']\n",
      "['AMC Concord', '24.3', '4', '151.0', '90.00', '3003.', '20.1', '80', 'US']\n",
      "['Dodge Aspen', '19.1', '6', '225.0', '90.00', '3381.', '18.7', '80', 'US']\n",
      "['Audi 4000', '34.3', '4', '97.00', '78.00', '2188.', '15.8', '80', 'Europe']\n",
      "['Toyota Corolla Liftback', '29.8', '4', '134.0', '90.00', '2711.', '15.5', '80', 'Japan']\n",
      "['Mazda 626', '31.3', '4', '120.0', '75.00', '2542.', '17.5', '80', 'Japan']\n",
      "['Datsun 510 Hatchback', '37.0', '4', '119.0', '92.00', '2434.', '15.0', '80', 'Japan']\n",
      "['Toyota Corolla', '32.2', '4', '108.0', '75.00', '2265.', '15.2', '80', 'Japan']\n",
      "['Mazda GLC', '46.6', '4', '86.00', '65.00', '2110.', '17.9', '80', 'Japan']\n",
      "['Dodge Colt', '27.9', '4', '156.0', '105.0', '2800.', '14.4', '80', 'US']\n",
      "['Datsun 210', '40.8', '4', '85.00', '65.00', '2110.', '19.2', '80', 'Japan']\n",
      "['Volkswagen Rabbit C (Diesel)', '44.3', '4', '90.00', '48.00', '2085.', '21.7', '80', 'Europe']\n",
      "['Volkswagen Dasher (diesel)', '43.4', '4', '90.00', '48.00', '2335.', '23.7', '80', 'Europe']\n",
      "['Audi 5000s (diesel)', '36.4', '5', '121.0', '67.00', '2950.', '19.9', '80', 'Europe']\n",
      "['Mercedes-Benz 240d', '30.0', '4', '146.0', '67.00', '3250.', '21.8', '80', 'Europe']\n",
      "['Honda Civic 1500 gl', '44.6', '4', '91.00', '67.00', '1850.', '13.8', '80', 'Japan']\n",
      "['Renault Lecar Deluxe', '40.9', '4', '85.00', '0', '1835.', '17.3', '80', 'Europe']\n",
      "['Subaru DL', '33.8', '4', '97.00', '67.00', '2145.', '18.0', '80', 'Japan']\n",
      "['Volkswagen Rabbit', '29.8', '4', '89.00', '62.00', '1845.', '15.3', '80', 'Europe']\n",
      "['Datsun 280-ZX', '32.7', '6', '168.0', '132.0', '2910.', '11.4', '80', 'Japan']\n",
      "['Mazda RX-7 GS', '23.7', '3', '70.00', '100.0', '2420.', '12.5', '80', 'Japan']\n",
      "['Triumph TR7 Coupe', '35.0', '4', '122.0', '88.00', '2500.', '15.1', '80', 'Europe']\n",
      "['Ford Mustang Cobra', '23.6', '4', '140.0', '0', '2905.', '14.3', '80', 'US']\n",
      "['Honda Accord', '32.4', '4', '107.0', '72.00', '2290.', '17.0', '80', 'Japan']\n",
      "['Plymouth Reliant', '27.2', '4', '135.0', '84.00', '2490.', '15.7', '81', 'US']\n",
      "['Buick Skylark', '26.6', '4', '151.0', '84.00', '2635.', '16.4', '81', 'US']\n",
      "['Dodge Aries Wagon (sw)', '25.8', '4', '156.0', '92.00', '2620.', '14.4', '81', 'US']\n",
      "['Chevrolet Citation', '23.5', '6', '173.0', '110.0', '2725.', '12.6', '81', 'US']\n",
      "['Plymouth Reliant', '30.0', '4', '135.0', '84.00', '2385.', '12.9', '81', 'US']\n",
      "['Toyota Starlet', '39.1', '4', '79.00', '58.00', '1755.', '16.9', '81', 'Japan']\n",
      "['Plymouth Champ', '39.0', '4', '86.00', '64.00', '1875.', '16.4', '81', 'US']\n",
      "['Honda Civic 1300', '35.1', '4', '81.00', '60.00', '1760.', '16.1', '81', 'Japan']\n",
      "['Subaru', '32.3', '4', '97.00', '67.00', '2065.', '17.8', '81', 'Japan']\n",
      "['Datsun 210 MPG', '37.0', '4', '85.00', '65.00', '1975.', '19.4', '81', 'Japan']\n",
      "['Toyota Tercel', '37.7', '4', '89.00', '62.00', '2050.', '17.3', '81', 'Japan']\n",
      "['Mazda GLC 4', '34.1', '4', '91.00', '68.00', '1985.', '16.0', '81', 'Japan']\n",
      "['Plymouth Horizon 4', '34.7', '4', '105.0', '63.00', '2215.', '14.9', '81', 'US']\n",
      "['Ford Escort 4W', '34.4', '4', '98.00', '65.00', '2045.', '16.2', '81', 'US']\n",
      "['Ford Escort 2H', '29.9', '4', '98.00', '65.00', '2380.', '20.7', '81', 'US']\n",
      "['Volkswagen Jetta', '33.0', '4', '105.0', '74.00', '2190.', '14.2', '81', 'Europe']\n",
      "['Renault 18i', '34.5', '4', '100.0', '0', '2320.', '15.8', '81', 'Europe']\n",
      "['Honda Prelude', '33.7', '4', '107.0', '75.00', '2210.', '14.4', '81', 'Japan']\n",
      "['Toyota Corolla', '32.4', '4', '108.0', '75.00', '2350.', '16.8', '81', 'Japan']\n",
      "['Datsun 200SX', '32.9', '4', '119.0', '100.0', '2615.', '14.8', '81', 'Japan']\n",
      "['Mazda 626', '31.6', '4', '120.0', '74.00', '2635.', '18.3', '81', 'Japan']\n",
      "['Peugeot 505s Turbo Diesel', '28.1', '4', '141.0', '80.00', '3230.', '20.4', '81', 'Europe']\n",
      "['Saab 900s', '0', '4', '121.0', '110.0', '2800.', '15.4', '81', 'Europe']\n",
      "['Volvo Diesel', '30.7', '6', '145.0', '76.00', '3160.', '19.6', '81', 'Europe']\n",
      "['Toyota Cressida', '25.4', '6', '168.0', '116.0', '2900.', '12.6', '81', 'Japan']\n",
      "['Datsun 810 Maxima', '24.2', '6', '146.0', '120.0', '2930.', '13.8', '81', 'Japan']\n",
      "['Buick Century', '22.4', '6', '231.0', '110.0', '3415.', '15.8', '81', 'US']\n",
      "['Oldsmobile Cutlass LS', '26.6', '8', '350.0', '105.0', '3725.', '19.0', '81', 'US']\n",
      "['Ford Grenada gl', '20.2', '6', '200.0', '88.00', '3060.', '17.1', '81', 'US']\n",
      "['Chrysler Lebaron Salon', '17.6', '6', '225.0', '85.00', '3465.', '16.6', '81', 'US']\n",
      "['Chevrolet Cavalier', '28.0', '4', '112.0', '88.00', '2605.', '19.6', '82', 'US']\n",
      "['Chevrolet Cavalier Wagon', '27.0', '4', '112.0', '88.00', '2640.', '18.6', '82', 'US']\n",
      "['Chevrolet Cavalier 2-door', '34.0', '4', '112.0', '88.00', '2395.', '18.0', '82', 'US']\n",
      "['Pontiac J2000 SE Hatchback', '31.0', '4', '112.0', '85.00', '2575.', '16.2', '82', 'US']\n",
      "['Dodge Aries SE', '29.0', '4', '135.0', '84.00', '2525.', '16.0', '82', 'US']\n",
      "['Pontiac Phoenix', '27.0', '4', '151.0', '90.00', '2735.', '18.0', '82', 'US']\n",
      "['Ford Fairmont Futura', '24.0', '4', '140.0', '92.00', '2865.', '16.4', '82', 'US']\n",
      "['AMC Concord DL', '23.0', '4', '151.0', '0', '3035.', '20.5', '82', 'US']\n",
      "['Volkswagen Rabbit l', '36.0', '4', '105.0', '74.00', '1980.', '15.3', '82', 'Europe']\n",
      "['Mazda GLC Custom l', '37.0', '4', '91.00', '68.00', '2025.', '18.2', '82', 'Japan']\n",
      "['Mazda GLC Custom', '31.0', '4', '91.00', '68.00', '1970.', '17.6', '82', 'Japan']\n",
      "['Plymouth Horizon Miser', '38.0', '4', '105.0', '63.00', '2125.', '14.7', '82', 'US']\n",
      "['Mercury Lynx l', '36.0', '4', '98.00', '70.00', '2125.', '17.3', '82', 'US']\n",
      "['Nissan Stanza XE', '36.0', '4', '120.0', '88.00', '2160.', '14.5', '82', 'Japan']\n",
      "['Honda Accord', '36.0', '4', '107.0', '75.00', '2205.', '14.5', '82', 'Japan']\n",
      "['Toyota Corolla', '34.0', '4', '108.0', '70.00', '2245', '16.9', '82', 'Japan']\n",
      "['Honda Civic', '38.0', '4', '91.00', '67.00', '1965.', '15.0', '82', 'Japan']\n",
      "['Honda Civic (auto)', '32.0', '4', '91.00', '67.00', '1965.', '15.7', '82', 'Japan']\n",
      "['Datsun 310 GX', '38.0', '4', '91.00', '67.00', '1995.', '16.2', '82', 'Japan']\n",
      "['Buick Century Limited', '25.0', '6', '181.0', '110.0', '2945.', '16.4', '82', 'US']\n",
      "['Oldsmobile Cutlass Ciera (diesel)', '38.0', '6', '262.0', '85.00', '3015.', '17.0', '82', 'US']\n",
      "['Chrysler Lebaron Medallion', '26.0', '4', '156.0', '92.00', '2585.', '14.5', '82', 'US']\n",
      "['Ford Grenada l', '22.0', '6', '232.0', '112.0', '2835', '14.7', '82', 'US']\n",
      "['Toyota Celica GT', '32.0', '4', '144.0', '96.00', '2665.', '13.9', '82', 'Japan']\n",
      "['Dodge Charger 2.2', '36.0', '4', '135.0', '84.00', '2370.', '13.0', '82', 'US']\n",
      "['Chevrolet Camaro', '27.0', '4', '151.0', '90.00', '2950.', '17.3', '82', 'US']\n",
      "['Ford Mustang GL', '27.0', '4', '140.0', '86.00', '2790.', '15.6', '82', 'US']\n",
      "['Volkswagen Pickup', '44.0', '4', '97.00', '52.00', '2130.', '24.6', '82', 'Europe']\n",
      "['Dodge Rampage', '32.0', '4', '135.0', '84.00', '2295.', '11.6', '82', 'US']\n",
      "['Ford Ranger', '28.0', '4', '120.0', '79.00', '2625.', '18.6', '82', 'US']\n",
      "['Chevy S-10', '31.0', '4', '119.0', '82.00', '2720.', '19.4', '82', 'US']\n"
     ]
    }
   ],
   "source": [
    "with open('cars.csv') as file:\n",
    "    row_index = 0\n",
    "    for line in file:\n",
    "        if row_index == 0:\n",
    "            # header row\n",
    "            headers = line.strip('\\n').split(';')\n",
    "            print(headers)\n",
    "        elif row_index == 1:\n",
    "            # data type row\n",
    "            data_types = line.strip('\\n').split(';')\n",
    "            print(data_types)\n",
    "        else:\n",
    "            # data rows\n",
    "            data = line.strip('\\n').split(';')\n",
    "            print(data)\n",
    "        row_index += 1"
   ]
  },
  {
   "cell_type": "code",
   "execution_count": 6,
   "metadata": {},
   "outputs": [
    {
     "name": "stdout",
     "output_type": "stream",
     "text": [
      "['STRING', 'DOUBLE', 'INT', 'DOUBLE', 'DOUBLE', 'DOUBLE', 'DOUBLE', 'INT', 'CAT']\n"
     ]
    }
   ],
   "source": [
    "from collections import namedtuple\n",
    "cars = []\n",
    "\n",
    "with open('cars.csv') as file:\n",
    "    row_index = 0\n",
    "    for line in file:\n",
    "        if row_index == 0:\n",
    "            # header row\n",
    "            headers = line.strip('\\n').split(';')\n",
    "            Car = namedtuple('Car', headers)\n",
    "        elif row_index == 1:\n",
    "            # data type row\n",
    "            data_types = line.strip('\\n').split(';')\n",
    "            print(data_types)\n",
    "        else:\n",
    "            # data rows\n",
    "            data = line.strip('\\n').split(';')\n",
    "            car = Car(*data)\n",
    "            cars.append(car)\n",
    "        row_index += 1"
   ]
  },
  {
   "cell_type": "code",
   "execution_count": 7,
   "metadata": {},
   "outputs": [
    {
     "name": "stdout",
     "output_type": "stream",
     "text": [
      "Car(Car='Chevrolet Chevelle Malibu', MPG='18.0', Cylinders='8', Displacement='307.0', Horsepower='130.0', Weight='3504.', Acceleration='12.0', Model='70', Origin='US')\n"
     ]
    }
   ],
   "source": [
    "print(cars[0])"
   ]
  },
  {
   "cell_type": "markdown",
   "metadata": {},
   "source": [
    "We still need to parse the data into strings, integers, floats..."
   ]
  },
  {
   "cell_type": "markdown",
   "metadata": {},
   "source": [
    "Let's break this problem down into smaller chunks:"
   ]
  },
  {
   "cell_type": "markdown",
   "metadata": {},
   "source": [
    "First we need to figure cast to a data type based on the data type string:\n",
    "* STRING --> `str`\n",
    "* DOUBLE --> `float`\n",
    "* INT --> `int`\n",
    "* CAT --> `str`"
   ]
  },
  {
   "cell_type": "code",
   "execution_count": 9,
   "metadata": {
    "collapsed": true
   },
   "outputs": [],
   "source": [
    "def cast(data_type, value):\n",
    "    if data_type == 'DOUBLE':\n",
    "        return float(value)\n",
    "    elif data_type == 'INT':\n",
    "        return int(value)\n",
    "    else:\n",
    "        return str(value)"
   ]
  },
  {
   "cell_type": "code",
   "execution_count": 11,
   "metadata": {},
   "outputs": [
    {
     "name": "stdout",
     "output_type": "stream",
     "text": [
      "['STRING', 'DOUBLE', 'INT', 'DOUBLE', 'DOUBLE', 'DOUBLE', 'DOUBLE', 'INT', 'CAT']\n"
     ]
    }
   ],
   "source": [
    "from collections import namedtuple\n",
    "cars = []\n",
    "\n",
    "with open('cars.csv') as file:\n",
    "    row_index = 0\n",
    "    for line in file:\n",
    "        if row_index == 0:\n",
    "            # header row\n",
    "            headers = line.strip('\\n').split(';')\n",
    "            Car = namedtuple('Car', headers)\n",
    "        elif row_index == 1:\n",
    "            # data type row\n",
    "            data_types = line.strip('\\n').split(';')\n",
    "            print(data_types)\n",
    "        else:\n",
    "            # data rows\n",
    "            data = line.strip('\\n').split(';')\n",
    "            car = Car(*data)\n",
    "            cars.append(car)\n",
    "        row_index += 1"
   ]
  },
  {
   "cell_type": "markdown",
   "metadata": {},
   "source": [
    "Next we somehow have to cast all the items in a list, based on their corresponding data type in the data_types array:"
   ]
  },
  {
   "cell_type": "code",
   "execution_count": 12,
   "metadata": {
    "collapsed": true
   },
   "outputs": [],
   "source": [
    "data_types = ['STRING', 'DOUBLE', 'INT', 'DOUBLE', 'DOUBLE', 'DOUBLE', 'DOUBLE', 'INT', 'CAT']"
   ]
  },
  {
   "cell_type": "code",
   "execution_count": 13,
   "metadata": {
    "collapsed": true
   },
   "outputs": [],
   "source": [
    "data_row = ['Chevrolet Chevelle Malibu', '18.0', '8', '307.0', '130.0', '3504.', '12.0', '70', 'US']"
   ]
  },
  {
   "cell_type": "markdown",
   "metadata": {},
   "source": [
    "For something like this, we can just zip up the two lists:"
   ]
  },
  {
   "cell_type": "code",
   "execution_count": 14,
   "metadata": {},
   "outputs": [
    {
     "data": {
      "text/plain": [
       "[('STRING', 'Chevrolet Chevelle Malibu'),\n",
       " ('DOUBLE', '18.0'),\n",
       " ('INT', '8'),\n",
       " ('DOUBLE', '307.0'),\n",
       " ('DOUBLE', '130.0'),\n",
       " ('DOUBLE', '3504.'),\n",
       " ('DOUBLE', '12.0'),\n",
       " ('INT', '70'),\n",
       " ('CAT', 'US')]"
      ]
     },
     "execution_count": 14,
     "metadata": {},
     "output_type": "execute_result"
    }
   ],
   "source": [
    "list(zip(data_types, data_row))"
   ]
  },
  {
   "cell_type": "markdown",
   "metadata": {},
   "source": [
    "And we can either use a `map()` or a list comprehension to apply the cast function to each one:"
   ]
  },
  {
   "cell_type": "code",
   "execution_count": 15,
   "metadata": {},
   "outputs": [
    {
     "data": {
      "text/plain": [
       "['Chevrolet Chevelle Malibu', 18.0, 8, 307.0, 130.0, 3504.0, 12.0, 70, 'US']"
      ]
     },
     "execution_count": 15,
     "metadata": {},
     "output_type": "execute_result"
    }
   ],
   "source": [
    "[cast(data_type, value) for data_type, value in zip(data_types, data_row)]"
   ]
  },
  {
   "cell_type": "markdown",
   "metadata": {},
   "source": [
    "So now we can write this in a function:"
   ]
  },
  {
   "cell_type": "code",
   "execution_count": 16,
   "metadata": {
    "collapsed": true
   },
   "outputs": [],
   "source": [
    "def cast_row(data_types, data_row):\n",
    "    return [cast(data_type, value) \n",
    "            for data_type, value in zip(data_types, data_row)]"
   ]
  },
  {
   "cell_type": "markdown",
   "metadata": {},
   "source": [
    "Let's go back and fix up our original code now:"
   ]
  },
  {
   "cell_type": "code",
   "execution_count": 17,
   "metadata": {
    "collapsed": true
   },
   "outputs": [],
   "source": [
    "from collections import namedtuple\n",
    "cars = []\n",
    "\n",
    "with open('cars.csv') as file:\n",
    "    row_index = 0\n",
    "    for line in file:\n",
    "        if row_index == 0:\n",
    "            # header row\n",
    "            headers = line.strip('\\n').split(';')\n",
    "            Car = namedtuple('Car', headers)\n",
    "        elif row_index == 1:\n",
    "            # data type row\n",
    "            data_types = line.strip('\\n').split(';')\n",
    "        else:\n",
    "            # data rows\n",
    "            data = line.strip('\\n').split(';')\n",
    "            data = cast_row(data_types, data)\n",
    "            car = Car(*data)\n",
    "            cars.append(car)\n",
    "        row_index += 1"
   ]
  },
  {
   "cell_type": "code",
   "execution_count": 18,
   "metadata": {},
   "outputs": [
    {
     "data": {
      "text/plain": [
       "Car(Car='Chevrolet Chevelle Malibu', MPG=18.0, Cylinders=8, Displacement=307.0, Horsepower=130.0, Weight=3504.0, Acceleration=12.0, Model=70, Origin='US')"
      ]
     },
     "execution_count": 18,
     "metadata": {},
     "output_type": "execute_result"
    }
   ],
   "source": [
    "cars[0]"
   ]
  },
  {
   "cell_type": "code",
   "execution_count": 19,
   "metadata": {},
   "outputs": [
    {
     "data": {
      "text/plain": [
       "[Car(Car='Chevrolet Chevelle Malibu', MPG=18.0, Cylinders=8, Displacement=307.0, Horsepower=130.0, Weight=3504.0, Acceleration=12.0, Model=70, Origin='US'),\n",
       " Car(Car='Buick Skylark 320', MPG=15.0, Cylinders=8, Displacement=350.0, Horsepower=165.0, Weight=3693.0, Acceleration=11.5, Model=70, Origin='US'),\n",
       " Car(Car='Plymouth Satellite', MPG=18.0, Cylinders=8, Displacement=318.0, Horsepower=150.0, Weight=3436.0, Acceleration=11.0, Model=70, Origin='US'),\n",
       " Car(Car='AMC Rebel SST', MPG=16.0, Cylinders=8, Displacement=304.0, Horsepower=150.0, Weight=3433.0, Acceleration=12.0, Model=70, Origin='US'),\n",
       " Car(Car='Ford Torino', MPG=17.0, Cylinders=8, Displacement=302.0, Horsepower=140.0, Weight=3449.0, Acceleration=10.5, Model=70, Origin='US'),\n",
       " Car(Car='Ford Galaxie 500', MPG=15.0, Cylinders=8, Displacement=429.0, Horsepower=198.0, Weight=4341.0, Acceleration=10.0, Model=70, Origin='US'),\n",
       " Car(Car='Chevrolet Impala', MPG=14.0, Cylinders=8, Displacement=454.0, Horsepower=220.0, Weight=4354.0, Acceleration=9.0, Model=70, Origin='US'),\n",
       " Car(Car='Plymouth Fury iii', MPG=14.0, Cylinders=8, Displacement=440.0, Horsepower=215.0, Weight=4312.0, Acceleration=8.5, Model=70, Origin='US'),\n",
       " Car(Car='Pontiac Catalina', MPG=14.0, Cylinders=8, Displacement=455.0, Horsepower=225.0, Weight=4425.0, Acceleration=10.0, Model=70, Origin='US'),\n",
       " Car(Car='AMC Ambassador DPL', MPG=15.0, Cylinders=8, Displacement=390.0, Horsepower=190.0, Weight=3850.0, Acceleration=8.5, Model=70, Origin='US'),\n",
       " Car(Car='Citroen DS-21 Pallas', MPG=0.0, Cylinders=4, Displacement=133.0, Horsepower=115.0, Weight=3090.0, Acceleration=17.5, Model=70, Origin='Europe'),\n",
       " Car(Car='Chevrolet Chevelle Concours (sw)', MPG=0.0, Cylinders=8, Displacement=350.0, Horsepower=165.0, Weight=4142.0, Acceleration=11.5, Model=70, Origin='US'),\n",
       " Car(Car='Ford Torino (sw)', MPG=0.0, Cylinders=8, Displacement=351.0, Horsepower=153.0, Weight=4034.0, Acceleration=11.0, Model=70, Origin='US'),\n",
       " Car(Car='Plymouth Satellite (sw)', MPG=0.0, Cylinders=8, Displacement=383.0, Horsepower=175.0, Weight=4166.0, Acceleration=10.5, Model=70, Origin='US'),\n",
       " Car(Car='AMC Rebel SST (sw)', MPG=0.0, Cylinders=8, Displacement=360.0, Horsepower=175.0, Weight=3850.0, Acceleration=11.0, Model=70, Origin='US'),\n",
       " Car(Car='Dodge Challenger SE', MPG=15.0, Cylinders=8, Displacement=383.0, Horsepower=170.0, Weight=3563.0, Acceleration=10.0, Model=70, Origin='US'),\n",
       " Car(Car=\"Plymouth 'Cuda 340\", MPG=14.0, Cylinders=8, Displacement=340.0, Horsepower=160.0, Weight=3609.0, Acceleration=8.0, Model=70, Origin='US'),\n",
       " Car(Car='Ford Mustang Boss 302', MPG=0.0, Cylinders=8, Displacement=302.0, Horsepower=140.0, Weight=3353.0, Acceleration=8.0, Model=70, Origin='US'),\n",
       " Car(Car='Chevrolet Monte Carlo', MPG=15.0, Cylinders=8, Displacement=400.0, Horsepower=150.0, Weight=3761.0, Acceleration=9.5, Model=70, Origin='US'),\n",
       " Car(Car='Buick Estate Wagon (sw)', MPG=14.0, Cylinders=8, Displacement=455.0, Horsepower=225.0, Weight=3086.0, Acceleration=10.0, Model=70, Origin='US'),\n",
       " Car(Car='Toyota Corolla Mark ii', MPG=24.0, Cylinders=4, Displacement=113.0, Horsepower=95.0, Weight=2372.0, Acceleration=15.0, Model=70, Origin='Japan'),\n",
       " Car(Car='Plymouth Duster', MPG=22.0, Cylinders=6, Displacement=198.0, Horsepower=95.0, Weight=2833.0, Acceleration=15.5, Model=70, Origin='US'),\n",
       " Car(Car='AMC Hornet', MPG=18.0, Cylinders=6, Displacement=199.0, Horsepower=97.0, Weight=2774.0, Acceleration=15.5, Model=70, Origin='US'),\n",
       " Car(Car='Ford Maverick', MPG=21.0, Cylinders=6, Displacement=200.0, Horsepower=85.0, Weight=2587.0, Acceleration=16.0, Model=70, Origin='US'),\n",
       " Car(Car='Datsun PL510', MPG=27.0, Cylinders=4, Displacement=97.0, Horsepower=88.0, Weight=2130.0, Acceleration=14.5, Model=70, Origin='Japan'),\n",
       " Car(Car='Volkswagen 1131 Deluxe Sedan', MPG=26.0, Cylinders=4, Displacement=97.0, Horsepower=46.0, Weight=1835.0, Acceleration=20.5, Model=70, Origin='Europe'),\n",
       " Car(Car='Peugeot 504', MPG=25.0, Cylinders=4, Displacement=110.0, Horsepower=87.0, Weight=2672.0, Acceleration=17.5, Model=70, Origin='Europe'),\n",
       " Car(Car='Audi 100 LS', MPG=24.0, Cylinders=4, Displacement=107.0, Horsepower=90.0, Weight=2430.0, Acceleration=14.5, Model=70, Origin='Europe'),\n",
       " Car(Car='Saab 99e', MPG=25.0, Cylinders=4, Displacement=104.0, Horsepower=95.0, Weight=2375.0, Acceleration=17.5, Model=70, Origin='Europe'),\n",
       " Car(Car='BMW 2002', MPG=26.0, Cylinders=4, Displacement=121.0, Horsepower=113.0, Weight=2234.0, Acceleration=12.5, Model=70, Origin='Europe'),\n",
       " Car(Car='AMC Gremlin', MPG=21.0, Cylinders=6, Displacement=199.0, Horsepower=90.0, Weight=2648.0, Acceleration=15.0, Model=70, Origin='US'),\n",
       " Car(Car='Ford F250', MPG=10.0, Cylinders=8, Displacement=360.0, Horsepower=215.0, Weight=4615.0, Acceleration=14.0, Model=70, Origin='US'),\n",
       " Car(Car='Chevy C20', MPG=10.0, Cylinders=8, Displacement=307.0, Horsepower=200.0, Weight=4376.0, Acceleration=15.0, Model=70, Origin='US'),\n",
       " Car(Car='Dodge D200', MPG=11.0, Cylinders=8, Displacement=318.0, Horsepower=210.0, Weight=4382.0, Acceleration=13.5, Model=70, Origin='US'),\n",
       " Car(Car='Hi 1200D', MPG=9.0, Cylinders=8, Displacement=304.0, Horsepower=193.0, Weight=4732.0, Acceleration=18.5, Model=70, Origin='US'),\n",
       " Car(Car='Datsun PL510', MPG=27.0, Cylinders=4, Displacement=97.0, Horsepower=88.0, Weight=2130.0, Acceleration=14.5, Model=71, Origin='Japan'),\n",
       " Car(Car='Chevrolet Vega 2300', MPG=28.0, Cylinders=4, Displacement=140.0, Horsepower=90.0, Weight=2264.0, Acceleration=15.5, Model=71, Origin='US'),\n",
       " Car(Car='Toyota Corolla', MPG=25.0, Cylinders=4, Displacement=113.0, Horsepower=95.0, Weight=2228.0, Acceleration=14.0, Model=71, Origin='Japan'),\n",
       " Car(Car='Ford Pinto', MPG=25.0, Cylinders=4, Displacement=98.0, Horsepower=0.0, Weight=2046.0, Acceleration=19.0, Model=71, Origin='US'),\n",
       " Car(Car='Volkswagen Super Beetle 117', MPG=0.0, Cylinders=4, Displacement=97.0, Horsepower=48.0, Weight=1978.0, Acceleration=20.0, Model=71, Origin='Europe'),\n",
       " Car(Car='AMC Gremlin', MPG=19.0, Cylinders=6, Displacement=232.0, Horsepower=100.0, Weight=2634.0, Acceleration=13.0, Model=71, Origin='US'),\n",
       " Car(Car='Plymouth Satellite Custom', MPG=16.0, Cylinders=6, Displacement=225.0, Horsepower=105.0, Weight=3439.0, Acceleration=15.5, Model=71, Origin='US'),\n",
       " Car(Car='Chevrolet Chevelle Malibu', MPG=17.0, Cylinders=6, Displacement=250.0, Horsepower=100.0, Weight=3329.0, Acceleration=15.5, Model=71, Origin='US'),\n",
       " Car(Car='Ford Torino 500', MPG=19.0, Cylinders=6, Displacement=250.0, Horsepower=88.0, Weight=3302.0, Acceleration=15.5, Model=71, Origin='US'),\n",
       " Car(Car='AMC Matador', MPG=18.0, Cylinders=6, Displacement=232.0, Horsepower=100.0, Weight=3288.0, Acceleration=15.5, Model=71, Origin='US'),\n",
       " Car(Car='Chevrolet Impala', MPG=14.0, Cylinders=8, Displacement=350.0, Horsepower=165.0, Weight=4209.0, Acceleration=12.0, Model=71, Origin='US'),\n",
       " Car(Car='Pontiac Catalina Brougham', MPG=14.0, Cylinders=8, Displacement=400.0, Horsepower=175.0, Weight=4464.0, Acceleration=11.5, Model=71, Origin='US'),\n",
       " Car(Car='Ford Galaxie 500', MPG=14.0, Cylinders=8, Displacement=351.0, Horsepower=153.0, Weight=4154.0, Acceleration=13.5, Model=71, Origin='US'),\n",
       " Car(Car='Plymouth Fury iii', MPG=14.0, Cylinders=8, Displacement=318.0, Horsepower=150.0, Weight=4096.0, Acceleration=13.0, Model=71, Origin='US'),\n",
       " Car(Car='Dodge Monaco (sw)', MPG=12.0, Cylinders=8, Displacement=383.0, Horsepower=180.0, Weight=4955.0, Acceleration=11.5, Model=71, Origin='US'),\n",
       " Car(Car='Ford Country Squire (sw)', MPG=13.0, Cylinders=8, Displacement=400.0, Horsepower=170.0, Weight=4746.0, Acceleration=12.0, Model=71, Origin='US'),\n",
       " Car(Car='Pontiac Safari (sw)', MPG=13.0, Cylinders=8, Displacement=400.0, Horsepower=175.0, Weight=5140.0, Acceleration=12.0, Model=71, Origin='US'),\n",
       " Car(Car='AMC Hornet Sportabout (sw)', MPG=18.0, Cylinders=6, Displacement=258.0, Horsepower=110.0, Weight=2962.0, Acceleration=13.5, Model=71, Origin='US'),\n",
       " Car(Car='Chevrolet Vega (sw)', MPG=22.0, Cylinders=4, Displacement=140.0, Horsepower=72.0, Weight=2408.0, Acceleration=19.0, Model=71, Origin='US'),\n",
       " Car(Car='Pontiac Firebird', MPG=19.0, Cylinders=6, Displacement=250.0, Horsepower=100.0, Weight=3282.0, Acceleration=15.0, Model=71, Origin='US'),\n",
       " Car(Car='Ford Mustang', MPG=18.0, Cylinders=6, Displacement=250.0, Horsepower=88.0, Weight=3139.0, Acceleration=14.5, Model=71, Origin='US'),\n",
       " Car(Car='Mercury Capri 2000', MPG=23.0, Cylinders=4, Displacement=122.0, Horsepower=86.0, Weight=2220.0, Acceleration=14.0, Model=71, Origin='US'),\n",
       " Car(Car='Opel 1900', MPG=28.0, Cylinders=4, Displacement=116.0, Horsepower=90.0, Weight=2123.0, Acceleration=14.0, Model=71, Origin='Europe'),\n",
       " Car(Car='Peugeot 304', MPG=30.0, Cylinders=4, Displacement=79.0, Horsepower=70.0, Weight=2074.0, Acceleration=19.5, Model=71, Origin='Europe'),\n",
       " Car(Car='Fiat 124B', MPG=30.0, Cylinders=4, Displacement=88.0, Horsepower=76.0, Weight=2065.0, Acceleration=14.5, Model=71, Origin='Europe'),\n",
       " Car(Car='Toyota Corolla 1200', MPG=31.0, Cylinders=4, Displacement=71.0, Horsepower=65.0, Weight=1773.0, Acceleration=19.0, Model=71, Origin='Japan'),\n",
       " Car(Car='Datsun 1200', MPG=35.0, Cylinders=4, Displacement=72.0, Horsepower=69.0, Weight=1613.0, Acceleration=18.0, Model=71, Origin='Japan'),\n",
       " Car(Car='Volkswagen Model 111', MPG=27.0, Cylinders=4, Displacement=97.0, Horsepower=60.0, Weight=1834.0, Acceleration=19.0, Model=71, Origin='Europe'),\n",
       " Car(Car='Plymouth Cricket', MPG=26.0, Cylinders=4, Displacement=91.0, Horsepower=70.0, Weight=1955.0, Acceleration=20.5, Model=71, Origin='US'),\n",
       " Car(Car='Toyota Corolla Hardtop', MPG=24.0, Cylinders=4, Displacement=113.0, Horsepower=95.0, Weight=2278.0, Acceleration=15.5, Model=72, Origin='Japan'),\n",
       " Car(Car='Dodge Colt Hardtop', MPG=25.0, Cylinders=4, Displacement=97.5, Horsepower=80.0, Weight=2126.0, Acceleration=17.0, Model=72, Origin='US'),\n",
       " Car(Car='Volkswagen Type 3', MPG=23.0, Cylinders=4, Displacement=97.0, Horsepower=54.0, Weight=2254.0, Acceleration=23.5, Model=72, Origin='Europe'),\n",
       " Car(Car='Chevrolet Vega', MPG=20.0, Cylinders=4, Displacement=140.0, Horsepower=90.0, Weight=2408.0, Acceleration=19.5, Model=72, Origin='US'),\n",
       " Car(Car='Ford Pinto Runabout', MPG=21.0, Cylinders=4, Displacement=122.0, Horsepower=86.0, Weight=2226.0, Acceleration=16.5, Model=72, Origin='US'),\n",
       " Car(Car='Chevrolet Impala', MPG=13.0, Cylinders=8, Displacement=350.0, Horsepower=165.0, Weight=4274.0, Acceleration=12.0, Model=72, Origin='US'),\n",
       " Car(Car='Pontiac Catalina', MPG=14.0, Cylinders=8, Displacement=400.0, Horsepower=175.0, Weight=4385.0, Acceleration=12.0, Model=72, Origin='US'),\n",
       " Car(Car='Plymouth Fury III', MPG=15.0, Cylinders=8, Displacement=318.0, Horsepower=150.0, Weight=4135.0, Acceleration=13.5, Model=72, Origin='US'),\n",
       " Car(Car='Ford Galaxie 500', MPG=14.0, Cylinders=8, Displacement=351.0, Horsepower=153.0, Weight=4129.0, Acceleration=13.0, Model=72, Origin='US'),\n",
       " Car(Car='AMC Ambassador SST', MPG=17.0, Cylinders=8, Displacement=304.0, Horsepower=150.0, Weight=3672.0, Acceleration=11.5, Model=72, Origin='US'),\n",
       " Car(Car='Mercury Marquis', MPG=11.0, Cylinders=8, Displacement=429.0, Horsepower=208.0, Weight=4633.0, Acceleration=11.0, Model=72, Origin='US'),\n",
       " Car(Car='Buick LeSabre Custom', MPG=13.0, Cylinders=8, Displacement=350.0, Horsepower=155.0, Weight=4502.0, Acceleration=13.5, Model=72, Origin='US'),\n",
       " Car(Car='Oldsmobile Delta 88 Royale', MPG=12.0, Cylinders=8, Displacement=350.0, Horsepower=160.0, Weight=4456.0, Acceleration=13.5, Model=72, Origin='US'),\n",
       " Car(Car='Chrysler Newport Royal', MPG=13.0, Cylinders=8, Displacement=400.0, Horsepower=190.0, Weight=4422.0, Acceleration=12.5, Model=72, Origin='US'),\n",
       " Car(Car='Mazda RX2 Coupe', MPG=19.0, Cylinders=3, Displacement=70.0, Horsepower=97.0, Weight=2330.0, Acceleration=13.5, Model=72, Origin='Japan'),\n",
       " Car(Car='AMC Matador (sw)', MPG=15.0, Cylinders=8, Displacement=304.0, Horsepower=150.0, Weight=3892.0, Acceleration=12.5, Model=72, Origin='US'),\n",
       " Car(Car='Chevrolet Chevelle Concours (sw)', MPG=13.0, Cylinders=8, Displacement=307.0, Horsepower=130.0, Weight=4098.0, Acceleration=14.0, Model=72, Origin='US'),\n",
       " Car(Car='Ford Gran Torino (sw)', MPG=13.0, Cylinders=8, Displacement=302.0, Horsepower=140.0, Weight=4294.0, Acceleration=16.0, Model=72, Origin='US'),\n",
       " Car(Car='Plymouth Satellite Custom (sw)', MPG=14.0, Cylinders=8, Displacement=318.0, Horsepower=150.0, Weight=4077.0, Acceleration=14.0, Model=72, Origin='US'),\n",
       " Car(Car='Volvo 145e (sw)', MPG=18.0, Cylinders=4, Displacement=121.0, Horsepower=112.0, Weight=2933.0, Acceleration=14.5, Model=72, Origin='Europe'),\n",
       " Car(Car='Volkswagen 411 (sw)', MPG=22.0, Cylinders=4, Displacement=121.0, Horsepower=76.0, Weight=2511.0, Acceleration=18.0, Model=72, Origin='Europe'),\n",
       " Car(Car='Peugeot 504 (sw)', MPG=21.0, Cylinders=4, Displacement=120.0, Horsepower=87.0, Weight=2979.0, Acceleration=19.5, Model=72, Origin='Europe'),\n",
       " Car(Car='Renault 12 (sw)', MPG=26.0, Cylinders=4, Displacement=96.0, Horsepower=69.0, Weight=2189.0, Acceleration=18.0, Model=72, Origin='Europe'),\n",
       " Car(Car='Ford Pinto (sw)', MPG=22.0, Cylinders=4, Displacement=122.0, Horsepower=86.0, Weight=2395.0, Acceleration=16.0, Model=72, Origin='US'),\n",
       " Car(Car='Datsun 510 (sw)', MPG=28.0, Cylinders=4, Displacement=97.0, Horsepower=92.0, Weight=2288.0, Acceleration=17.0, Model=72, Origin='Japan'),\n",
       " Car(Car='Toyota Corolla Mark II (sw)', MPG=23.0, Cylinders=4, Displacement=120.0, Horsepower=97.0, Weight=2506.0, Acceleration=14.5, Model=72, Origin='Japan'),\n",
       " Car(Car='Dodge Colt (sw)', MPG=28.0, Cylinders=4, Displacement=98.0, Horsepower=80.0, Weight=2164.0, Acceleration=15.0, Model=72, Origin='US'),\n",
       " Car(Car='Toyota Corolla 1600 (sw)', MPG=27.0, Cylinders=4, Displacement=97.0, Horsepower=88.0, Weight=2100.0, Acceleration=16.5, Model=72, Origin='Japan'),\n",
       " Car(Car='Buick Century 350', MPG=13.0, Cylinders=8, Displacement=350.0, Horsepower=175.0, Weight=4100.0, Acceleration=13.0, Model=73, Origin='US'),\n",
       " Car(Car='AMC Matador', MPG=14.0, Cylinders=8, Displacement=304.0, Horsepower=150.0, Weight=3672.0, Acceleration=11.5, Model=73, Origin='US'),\n",
       " Car(Car='Chevrolet Malibu', MPG=13.0, Cylinders=8, Displacement=350.0, Horsepower=145.0, Weight=3988.0, Acceleration=13.0, Model=73, Origin='US'),\n",
       " Car(Car='Ford Gran Torino', MPG=14.0, Cylinders=8, Displacement=302.0, Horsepower=137.0, Weight=4042.0, Acceleration=14.5, Model=73, Origin='US'),\n",
       " Car(Car='Dodge Coronet Custom', MPG=15.0, Cylinders=8, Displacement=318.0, Horsepower=150.0, Weight=3777.0, Acceleration=12.5, Model=73, Origin='US'),\n",
       " Car(Car='Mercury Marquis Brougham', MPG=12.0, Cylinders=8, Displacement=429.0, Horsepower=198.0, Weight=4952.0, Acceleration=11.5, Model=73, Origin='US'),\n",
       " Car(Car='Chevrolet Caprice Classic', MPG=13.0, Cylinders=8, Displacement=400.0, Horsepower=150.0, Weight=4464.0, Acceleration=12.0, Model=73, Origin='US'),\n",
       " Car(Car='Ford LTD', MPG=13.0, Cylinders=8, Displacement=351.0, Horsepower=158.0, Weight=4363.0, Acceleration=13.0, Model=73, Origin='US'),\n",
       " Car(Car='Plymouth Fury Gran Sedan', MPG=14.0, Cylinders=8, Displacement=318.0, Horsepower=150.0, Weight=4237.0, Acceleration=14.5, Model=73, Origin='US'),\n",
       " Car(Car='Chrysler New Yorker Brougham', MPG=13.0, Cylinders=8, Displacement=440.0, Horsepower=215.0, Weight=4735.0, Acceleration=11.0, Model=73, Origin='US'),\n",
       " Car(Car='Buick Electra 225 Custom', MPG=12.0, Cylinders=8, Displacement=455.0, Horsepower=225.0, Weight=4951.0, Acceleration=11.0, Model=73, Origin='US'),\n",
       " Car(Car='AMC Ambassador Brougham', MPG=13.0, Cylinders=8, Displacement=360.0, Horsepower=175.0, Weight=3821.0, Acceleration=11.0, Model=73, Origin='US'),\n",
       " Car(Car='Plymouth Valiant', MPG=18.0, Cylinders=6, Displacement=225.0, Horsepower=105.0, Weight=3121.0, Acceleration=16.5, Model=73, Origin='US'),\n",
       " Car(Car='Chevrolet Nova Custom', MPG=16.0, Cylinders=6, Displacement=250.0, Horsepower=100.0, Weight=3278.0, Acceleration=18.0, Model=73, Origin='US'),\n",
       " Car(Car='AMC Hornet', MPG=18.0, Cylinders=6, Displacement=232.0, Horsepower=100.0, Weight=2945.0, Acceleration=16.0, Model=73, Origin='US'),\n",
       " Car(Car='Ford Maverick', MPG=18.0, Cylinders=6, Displacement=250.0, Horsepower=88.0, Weight=3021.0, Acceleration=16.5, Model=73, Origin='US'),\n",
       " Car(Car='Plymouth Duster', MPG=23.0, Cylinders=6, Displacement=198.0, Horsepower=95.0, Weight=2904.0, Acceleration=16.0, Model=73, Origin='US'),\n",
       " Car(Car='Volkswagen Super Beetle', MPG=26.0, Cylinders=4, Displacement=97.0, Horsepower=46.0, Weight=1950.0, Acceleration=21.0, Model=73, Origin='Europe'),\n",
       " Car(Car='Chevrolet Impala', MPG=11.0, Cylinders=8, Displacement=400.0, Horsepower=150.0, Weight=4997.0, Acceleration=14.0, Model=73, Origin='US'),\n",
       " Car(Car='Ford Country', MPG=12.0, Cylinders=8, Displacement=400.0, Horsepower=167.0, Weight=4906.0, Acceleration=12.5, Model=73, Origin='US'),\n",
       " Car(Car='Plymouth Custom Suburb', MPG=13.0, Cylinders=8, Displacement=360.0, Horsepower=170.0, Weight=4654.0, Acceleration=13.0, Model=73, Origin='US'),\n",
       " Car(Car='Oldsmobile Vista Cruiser', MPG=12.0, Cylinders=8, Displacement=350.0, Horsepower=180.0, Weight=4499.0, Acceleration=12.5, Model=73, Origin='US'),\n",
       " Car(Car='AMC Gremlin', MPG=18.0, Cylinders=6, Displacement=232.0, Horsepower=100.0, Weight=2789.0, Acceleration=15.0, Model=73, Origin='US'),\n",
       " Car(Car='Toyota Camry', MPG=20.0, Cylinders=4, Displacement=97.0, Horsepower=88.0, Weight=2279.0, Acceleration=19.0, Model=73, Origin='Japan'),\n",
       " Car(Car='Chevrolet Vega', MPG=21.0, Cylinders=4, Displacement=140.0, Horsepower=72.0, Weight=2401.0, Acceleration=19.5, Model=73, Origin='US'),\n",
       " Car(Car='Datsun 610', MPG=22.0, Cylinders=4, Displacement=108.0, Horsepower=94.0, Weight=2379.0, Acceleration=16.5, Model=73, Origin='Japan'),\n",
       " Car(Car='Mazda RX3', MPG=18.0, Cylinders=3, Displacement=70.0, Horsepower=90.0, Weight=2124.0, Acceleration=13.5, Model=73, Origin='Japan'),\n",
       " Car(Car='Ford Pinto', MPG=19.0, Cylinders=4, Displacement=122.0, Horsepower=85.0, Weight=2310.0, Acceleration=18.5, Model=73, Origin='US'),\n",
       " Car(Car='Mercury Capri v6', MPG=21.0, Cylinders=6, Displacement=155.0, Horsepower=107.0, Weight=2472.0, Acceleration=14.0, Model=73, Origin='US'),\n",
       " Car(Car='Fiat 124 Sport Coupe', MPG=26.0, Cylinders=4, Displacement=98.0, Horsepower=90.0, Weight=2265.0, Acceleration=15.5, Model=73, Origin='Europe'),\n",
       " Car(Car='Chevrolet Monte Carlo S', MPG=15.0, Cylinders=8, Displacement=350.0, Horsepower=145.0, Weight=4082.0, Acceleration=13.0, Model=73, Origin='US'),\n",
       " Car(Car='Pontiac Grand Prix', MPG=16.0, Cylinders=8, Displacement=400.0, Horsepower=230.0, Weight=4278.0, Acceleration=9.5, Model=73, Origin='US'),\n",
       " Car(Car='Fiat 128', MPG=29.0, Cylinders=4, Displacement=68.0, Horsepower=49.0, Weight=1867.0, Acceleration=19.5, Model=73, Origin='Europe'),\n",
       " Car(Car='Opel Manta', MPG=24.0, Cylinders=4, Displacement=116.0, Horsepower=75.0, Weight=2158.0, Acceleration=15.5, Model=73, Origin='Europe'),\n",
       " Car(Car='Audi 100LS', MPG=20.0, Cylinders=4, Displacement=114.0, Horsepower=91.0, Weight=2582.0, Acceleration=14.0, Model=73, Origin='Europe'),\n",
       " Car(Car='Volvo 144ea', MPG=19.0, Cylinders=4, Displacement=121.0, Horsepower=112.0, Weight=2868.0, Acceleration=15.5, Model=73, Origin='Europe'),\n",
       " Car(Car='Dodge Dart Custom', MPG=15.0, Cylinders=8, Displacement=318.0, Horsepower=150.0, Weight=3399.0, Acceleration=11.0, Model=73, Origin='US'),\n",
       " Car(Car='Saab 99le', MPG=24.0, Cylinders=4, Displacement=121.0, Horsepower=110.0, Weight=2660.0, Acceleration=14.0, Model=73, Origin='Europe'),\n",
       " Car(Car='Toyota Mark II', MPG=20.0, Cylinders=6, Displacement=156.0, Horsepower=122.0, Weight=2807.0, Acceleration=13.5, Model=73, Origin='Japan'),\n",
       " Car(Car='Oldsmobile Omega', MPG=11.0, Cylinders=8, Displacement=350.0, Horsepower=180.0, Weight=3664.0, Acceleration=11.0, Model=73, Origin='US'),\n",
       " Car(Car='Plymouth Duster', MPG=20.0, Cylinders=6, Displacement=198.0, Horsepower=95.0, Weight=3102.0, Acceleration=16.5, Model=74, Origin='US'),\n",
       " Car(Car='Ford Maverick', MPG=21.0, Cylinders=6, Displacement=200.0, Horsepower=0.0, Weight=2875.0, Acceleration=17.0, Model=74, Origin='US'),\n",
       " Car(Car='AMC Hornet', MPG=19.0, Cylinders=6, Displacement=232.0, Horsepower=100.0, Weight=2901.0, Acceleration=16.0, Model=74, Origin='US'),\n",
       " Car(Car='Chevrolet Nova', MPG=15.0, Cylinders=6, Displacement=250.0, Horsepower=100.0, Weight=3336.0, Acceleration=17.0, Model=74, Origin='US'),\n",
       " Car(Car='Datsun B210', MPG=31.0, Cylinders=4, Displacement=79.0, Horsepower=67.0, Weight=1950.0, Acceleration=19.0, Model=74, Origin='Japan'),\n",
       " Car(Car='Ford Pinto', MPG=26.0, Cylinders=4, Displacement=122.0, Horsepower=80.0, Weight=2451.0, Acceleration=16.5, Model=74, Origin='US'),\n",
       " Car(Car='Toyota Corolla 1200', MPG=32.0, Cylinders=4, Displacement=71.0, Horsepower=65.0, Weight=1836.0, Acceleration=21.0, Model=74, Origin='Japan'),\n",
       " Car(Car='Chevrolet Vega', MPG=25.0, Cylinders=4, Displacement=140.0, Horsepower=75.0, Weight=2542.0, Acceleration=17.0, Model=74, Origin='US'),\n",
       " Car(Car='Chevrolet Chevelle Malibu Classic', MPG=16.0, Cylinders=6, Displacement=250.0, Horsepower=100.0, Weight=3781.0, Acceleration=17.0, Model=74, Origin='US'),\n",
       " Car(Car='AMC Matador', MPG=16.0, Cylinders=6, Displacement=258.0, Horsepower=110.0, Weight=3632.0, Acceleration=18.0, Model=74, Origin='US'),\n",
       " Car(Car='Plymouth Satellite Sebring', MPG=18.0, Cylinders=6, Displacement=225.0, Horsepower=105.0, Weight=3613.0, Acceleration=16.5, Model=74, Origin='US'),\n",
       " Car(Car='Ford Gran Torino', MPG=16.0, Cylinders=8, Displacement=302.0, Horsepower=140.0, Weight=4141.0, Acceleration=14.0, Model=74, Origin='US'),\n",
       " Car(Car='Buick Century Luxus (sw)', MPG=13.0, Cylinders=8, Displacement=350.0, Horsepower=150.0, Weight=4699.0, Acceleration=14.5, Model=74, Origin='US'),\n",
       " Car(Car='Dodge Coronet Custom (sw)', MPG=14.0, Cylinders=8, Displacement=318.0, Horsepower=150.0, Weight=4457.0, Acceleration=13.5, Model=74, Origin='US'),\n",
       " Car(Car='Ford Gran Torino (sw)', MPG=14.0, Cylinders=8, Displacement=302.0, Horsepower=140.0, Weight=4638.0, Acceleration=16.0, Model=74, Origin='US'),\n",
       " Car(Car='AMC Matador (sw)', MPG=14.0, Cylinders=8, Displacement=304.0, Horsepower=150.0, Weight=4257.0, Acceleration=15.5, Model=74, Origin='US'),\n",
       " Car(Car='Audi Fox', MPG=29.0, Cylinders=4, Displacement=98.0, Horsepower=83.0, Weight=2219.0, Acceleration=16.5, Model=74, Origin='Europe'),\n",
       " Car(Car='Volkswagen Dasher', MPG=26.0, Cylinders=4, Displacement=79.0, Horsepower=67.0, Weight=1963.0, Acceleration=15.5, Model=74, Origin='Europe'),\n",
       " Car(Car='Opel Manta', MPG=26.0, Cylinders=4, Displacement=97.0, Horsepower=78.0, Weight=2300.0, Acceleration=14.5, Model=74, Origin='Europe'),\n",
       " Car(Car='Toyota Corolla', MPG=31.0, Cylinders=4, Displacement=76.0, Horsepower=52.0, Weight=1649.0, Acceleration=16.5, Model=74, Origin='Japan'),\n",
       " Car(Car='Datsun 710', MPG=32.0, Cylinders=4, Displacement=83.0, Horsepower=61.0, Weight=2003.0, Acceleration=19.0, Model=74, Origin='Japan'),\n",
       " Car(Car='Dodge Colt', MPG=28.0, Cylinders=4, Displacement=90.0, Horsepower=75.0, Weight=2125.0, Acceleration=14.5, Model=74, Origin='US'),\n",
       " Car(Car='Fiat 128', MPG=24.0, Cylinders=4, Displacement=90.0, Horsepower=75.0, Weight=2108.0, Acceleration=15.5, Model=74, Origin='Europe'),\n",
       " Car(Car='Fiat 124 TC', MPG=26.0, Cylinders=4, Displacement=116.0, Horsepower=75.0, Weight=2246.0, Acceleration=14.0, Model=74, Origin='Europe'),\n",
       " Car(Car='Honda Civic', MPG=24.0, Cylinders=4, Displacement=120.0, Horsepower=97.0, Weight=2489.0, Acceleration=15.0, Model=74, Origin='Japan'),\n",
       " Car(Car='Subaru', MPG=26.0, Cylinders=4, Displacement=108.0, Horsepower=93.0, Weight=2391.0, Acceleration=15.5, Model=74, Origin='Japan'),\n",
       " Car(Car='Fiat x1.9', MPG=31.0, Cylinders=4, Displacement=79.0, Horsepower=67.0, Weight=2000.0, Acceleration=16.0, Model=74, Origin='Europe'),\n",
       " Car(Car='Plymouth Valiant Custom', MPG=19.0, Cylinders=6, Displacement=225.0, Horsepower=95.0, Weight=3264.0, Acceleration=16.0, Model=75, Origin='US'),\n",
       " Car(Car='Chevrolet Nova', MPG=18.0, Cylinders=6, Displacement=250.0, Horsepower=105.0, Weight=3459.0, Acceleration=16.0, Model=75, Origin='US'),\n",
       " Car(Car='Mercury Monarch', MPG=15.0, Cylinders=6, Displacement=250.0, Horsepower=72.0, Weight=3432.0, Acceleration=21.0, Model=75, Origin='US'),\n",
       " Car(Car='Ford Maverick', MPG=15.0, Cylinders=6, Displacement=250.0, Horsepower=72.0, Weight=3158.0, Acceleration=19.5, Model=75, Origin='US'),\n",
       " Car(Car='Pontiac Catalina', MPG=16.0, Cylinders=8, Displacement=400.0, Horsepower=170.0, Weight=4668.0, Acceleration=11.5, Model=75, Origin='US'),\n",
       " Car(Car='Chevrolet Bel Air', MPG=15.0, Cylinders=8, Displacement=350.0, Horsepower=145.0, Weight=4440.0, Acceleration=14.0, Model=75, Origin='US'),\n",
       " Car(Car='Plymouth Grand Fury', MPG=16.0, Cylinders=8, Displacement=318.0, Horsepower=150.0, Weight=4498.0, Acceleration=14.5, Model=75, Origin='US'),\n",
       " Car(Car='Ford LTD', MPG=14.0, Cylinders=8, Displacement=351.0, Horsepower=148.0, Weight=4657.0, Acceleration=13.5, Model=75, Origin='US'),\n",
       " Car(Car='Buick Century', MPG=17.0, Cylinders=6, Displacement=231.0, Horsepower=110.0, Weight=3907.0, Acceleration=21.0, Model=75, Origin='US'),\n",
       " Car(Car='Chevrolete Chevelle Malibu', MPG=16.0, Cylinders=6, Displacement=250.0, Horsepower=105.0, Weight=3897.0, Acceleration=18.5, Model=75, Origin='US'),\n",
       " Car(Car='AMC Matador', MPG=15.0, Cylinders=6, Displacement=258.0, Horsepower=110.0, Weight=3730.0, Acceleration=19.0, Model=75, Origin='US'),\n",
       " Car(Car='Plymouth Fury', MPG=18.0, Cylinders=6, Displacement=225.0, Horsepower=95.0, Weight=3785.0, Acceleration=19.0, Model=75, Origin='US'),\n",
       " Car(Car='Buick Skyhawk', MPG=21.0, Cylinders=6, Displacement=231.0, Horsepower=110.0, Weight=3039.0, Acceleration=15.0, Model=75, Origin='US'),\n",
       " Car(Car='Chevrolet Monza 2+2', MPG=20.0, Cylinders=8, Displacement=262.0, Horsepower=110.0, Weight=3221.0, Acceleration=13.5, Model=75, Origin='US'),\n",
       " Car(Car='Ford Mustang II', MPG=13.0, Cylinders=8, Displacement=302.0, Horsepower=129.0, Weight=3169.0, Acceleration=12.0, Model=75, Origin='US'),\n",
       " Car(Car='Toyota Corolla', MPG=29.0, Cylinders=4, Displacement=97.0, Horsepower=75.0, Weight=2171.0, Acceleration=16.0, Model=75, Origin='Japan'),\n",
       " Car(Car='Ford Pinto', MPG=23.0, Cylinders=4, Displacement=140.0, Horsepower=83.0, Weight=2639.0, Acceleration=17.0, Model=75, Origin='US'),\n",
       " Car(Car='AMC Gremlin', MPG=20.0, Cylinders=6, Displacement=232.0, Horsepower=100.0, Weight=2914.0, Acceleration=16.0, Model=75, Origin='US'),\n",
       " Car(Car='Pontiac Astro', MPG=23.0, Cylinders=4, Displacement=140.0, Horsepower=78.0, Weight=2592.0, Acceleration=18.5, Model=75, Origin='US'),\n",
       " Car(Car='Toyota Corolla', MPG=24.0, Cylinders=4, Displacement=134.0, Horsepower=96.0, Weight=2702.0, Acceleration=13.5, Model=75, Origin='Japan'),\n",
       " Car(Car='Volkswagen Dasher', MPG=25.0, Cylinders=4, Displacement=90.0, Horsepower=71.0, Weight=2223.0, Acceleration=16.5, Model=75, Origin='Europe'),\n",
       " Car(Car='Datsun 710', MPG=24.0, Cylinders=4, Displacement=119.0, Horsepower=97.0, Weight=2545.0, Acceleration=17.0, Model=75, Origin='Japan'),\n",
       " Car(Car='Ford Pinto', MPG=18.0, Cylinders=6, Displacement=171.0, Horsepower=97.0, Weight=2984.0, Acceleration=14.5, Model=75, Origin='US'),\n",
       " Car(Car='Volkswagen Rabbit', MPG=29.0, Cylinders=4, Displacement=90.0, Horsepower=70.0, Weight=1937.0, Acceleration=14.0, Model=75, Origin='Europe'),\n",
       " Car(Car='AMC Pacer', MPG=19.0, Cylinders=6, Displacement=232.0, Horsepower=90.0, Weight=3211.0, Acceleration=17.0, Model=75, Origin='US'),\n",
       " Car(Car='Audi 100LS', MPG=23.0, Cylinders=4, Displacement=115.0, Horsepower=95.0, Weight=2694.0, Acceleration=15.0, Model=75, Origin='Europe'),\n",
       " Car(Car='Peugeot 504', MPG=23.0, Cylinders=4, Displacement=120.0, Horsepower=88.0, Weight=2957.0, Acceleration=17.0, Model=75, Origin='Europe'),\n",
       " Car(Car='Volvo 244DL', MPG=22.0, Cylinders=4, Displacement=121.0, Horsepower=98.0, Weight=2945.0, Acceleration=14.5, Model=75, Origin='Europe'),\n",
       " Car(Car='Saab 99LE', MPG=25.0, Cylinders=4, Displacement=121.0, Horsepower=115.0, Weight=2671.0, Acceleration=13.5, Model=75, Origin='Europe'),\n",
       " Car(Car='Honda Civic CVCC', MPG=33.0, Cylinders=4, Displacement=91.0, Horsepower=53.0, Weight=1795.0, Acceleration=17.5, Model=75, Origin='Japan'),\n",
       " Car(Car='Fiat 131', MPG=28.0, Cylinders=4, Displacement=107.0, Horsepower=86.0, Weight=2464.0, Acceleration=15.5, Model=76, Origin='Europe'),\n",
       " Car(Car='Opel 1900', MPG=25.0, Cylinders=4, Displacement=116.0, Horsepower=81.0, Weight=2220.0, Acceleration=16.9, Model=76, Origin='Europe'),\n",
       " Car(Car='Capri ii', MPG=25.0, Cylinders=4, Displacement=140.0, Horsepower=92.0, Weight=2572.0, Acceleration=14.9, Model=76, Origin='US'),\n",
       " Car(Car='Dodge Colt', MPG=26.0, Cylinders=4, Displacement=98.0, Horsepower=79.0, Weight=2255.0, Acceleration=17.7, Model=76, Origin='US'),\n",
       " Car(Car='Renault 12tl', MPG=27.0, Cylinders=4, Displacement=101.0, Horsepower=83.0, Weight=2202.0, Acceleration=15.3, Model=76, Origin='Europe'),\n",
       " Car(Car='Chevrolet Chevelle Malibu Classic', MPG=17.5, Cylinders=8, Displacement=305.0, Horsepower=140.0, Weight=4215.0, Acceleration=13.0, Model=76, Origin='US'),\n",
       " Car(Car='Dodge Coronet Brougham', MPG=16.0, Cylinders=8, Displacement=318.0, Horsepower=150.0, Weight=4190.0, Acceleration=13.0, Model=76, Origin='US'),\n",
       " Car(Car='AMC Matador', MPG=15.5, Cylinders=8, Displacement=304.0, Horsepower=120.0, Weight=3962.0, Acceleration=13.9, Model=76, Origin='US'),\n",
       " Car(Car='Ford Gran Torino', MPG=14.5, Cylinders=8, Displacement=351.0, Horsepower=152.0, Weight=4215.0, Acceleration=12.8, Model=76, Origin='US'),\n",
       " Car(Car='Plymouth Valiant', MPG=22.0, Cylinders=6, Displacement=225.0, Horsepower=100.0, Weight=3233.0, Acceleration=15.4, Model=76, Origin='US'),\n",
       " Car(Car='Chevrolet Nova', MPG=22.0, Cylinders=6, Displacement=250.0, Horsepower=105.0, Weight=3353.0, Acceleration=14.5, Model=76, Origin='US'),\n",
       " Car(Car='Ford Maverick', MPG=24.0, Cylinders=6, Displacement=200.0, Horsepower=81.0, Weight=3012.0, Acceleration=17.6, Model=76, Origin='US'),\n",
       " Car(Car='AMC Hornet', MPG=22.5, Cylinders=6, Displacement=232.0, Horsepower=90.0, Weight=3085.0, Acceleration=17.6, Model=76, Origin='US'),\n",
       " Car(Car='Chevrolet Chevette', MPG=29.0, Cylinders=4, Displacement=85.0, Horsepower=52.0, Weight=2035.0, Acceleration=22.2, Model=76, Origin='US'),\n",
       " Car(Car='Chevrolet Woody', MPG=24.5, Cylinders=4, Displacement=98.0, Horsepower=60.0, Weight=2164.0, Acceleration=22.1, Model=76, Origin='US'),\n",
       " Car(Car='Volkswagen Rabbit', MPG=29.0, Cylinders=4, Displacement=90.0, Horsepower=70.0, Weight=1937.0, Acceleration=14.2, Model=76, Origin='Europe'),\n",
       " Car(Car='Honda Civic', MPG=33.0, Cylinders=4, Displacement=91.0, Horsepower=53.0, Weight=1795.0, Acceleration=17.4, Model=76, Origin='Japan'),\n",
       " Car(Car='Dodge Aspen SE', MPG=20.0, Cylinders=6, Displacement=225.0, Horsepower=100.0, Weight=3651.0, Acceleration=17.7, Model=76, Origin='US'),\n",
       " Car(Car='Ford Grenada ghia', MPG=18.0, Cylinders=6, Displacement=250.0, Horsepower=78.0, Weight=3574.0, Acceleration=21.0, Model=76, Origin='US'),\n",
       " Car(Car='Pontiac Ventura SJ', MPG=18.5, Cylinders=6, Displacement=250.0, Horsepower=110.0, Weight=3645.0, Acceleration=16.2, Model=76, Origin='US'),\n",
       " Car(Car='AMC Pacer d/l', MPG=17.5, Cylinders=6, Displacement=258.0, Horsepower=95.0, Weight=3193.0, Acceleration=17.8, Model=76, Origin='US'),\n",
       " Car(Car='Volkswagen Rabbit', MPG=29.5, Cylinders=4, Displacement=97.0, Horsepower=71.0, Weight=1825.0, Acceleration=12.2, Model=76, Origin='Europe'),\n",
       " Car(Car='Datsun B-210', MPG=32.0, Cylinders=4, Displacement=85.0, Horsepower=70.0, Weight=1990.0, Acceleration=17.0, Model=76, Origin='Japan'),\n",
       " Car(Car='Toyota Corolla', MPG=28.0, Cylinders=4, Displacement=97.0, Horsepower=75.0, Weight=2155.0, Acceleration=16.4, Model=76, Origin='Japan'),\n",
       " Car(Car='Ford Pinto', MPG=26.5, Cylinders=4, Displacement=140.0, Horsepower=72.0, Weight=2565.0, Acceleration=13.6, Model=76, Origin='US'),\n",
       " Car(Car='Volvo 245', MPG=20.0, Cylinders=4, Displacement=130.0, Horsepower=102.0, Weight=3150.0, Acceleration=15.7, Model=76, Origin='Europe'),\n",
       " Car(Car='Plymouth Volare Premier v8', MPG=13.0, Cylinders=8, Displacement=318.0, Horsepower=150.0, Weight=3940.0, Acceleration=13.2, Model=76, Origin='US'),\n",
       " Car(Car='Peugeot 504', MPG=19.0, Cylinders=4, Displacement=120.0, Horsepower=88.0, Weight=3270.0, Acceleration=21.9, Model=76, Origin='Europe'),\n",
       " Car(Car='Toyota Mark II', MPG=19.0, Cylinders=6, Displacement=156.0, Horsepower=108.0, Weight=2930.0, Acceleration=15.5, Model=76, Origin='Japan'),\n",
       " Car(Car='Mercedes-Benz 280s', MPG=16.5, Cylinders=6, Displacement=168.0, Horsepower=120.0, Weight=3820.0, Acceleration=16.7, Model=76, Origin='Europe'),\n",
       " Car(Car='Cadillac Seville', MPG=16.5, Cylinders=8, Displacement=350.0, Horsepower=180.0, Weight=4380.0, Acceleration=12.1, Model=76, Origin='US'),\n",
       " Car(Car='Chevrolet C10', MPG=13.0, Cylinders=8, Displacement=350.0, Horsepower=145.0, Weight=4055.0, Acceleration=12.0, Model=76, Origin='US'),\n",
       " Car(Car='Ford F108', MPG=13.0, Cylinders=8, Displacement=302.0, Horsepower=130.0, Weight=3870.0, Acceleration=15.0, Model=76, Origin='US'),\n",
       " Car(Car='Dodge D100', MPG=13.0, Cylinders=8, Displacement=318.0, Horsepower=150.0, Weight=3755.0, Acceleration=14.0, Model=76, Origin='US'),\n",
       " Car(Car='Honda Accord CVCC', MPG=31.5, Cylinders=4, Displacement=98.0, Horsepower=68.0, Weight=2045.0, Acceleration=18.5, Model=77, Origin='Japan'),\n",
       " Car(Car='Buick Opel Isuzu Deluxe', MPG=30.0, Cylinders=4, Displacement=111.0, Horsepower=80.0, Weight=2155.0, Acceleration=14.8, Model=77, Origin='US'),\n",
       " Car(Car='Renault 5 GTL', MPG=36.0, Cylinders=4, Displacement=79.0, Horsepower=58.0, Weight=1825.0, Acceleration=18.6, Model=77, Origin='Europe'),\n",
       " Car(Car='Plymouth Arrow GS', MPG=25.5, Cylinders=4, Displacement=122.0, Horsepower=96.0, Weight=2300.0, Acceleration=15.5, Model=77, Origin='US'),\n",
       " Car(Car='Datsun F-10 Hatchback', MPG=33.5, Cylinders=4, Displacement=85.0, Horsepower=70.0, Weight=1945.0, Acceleration=16.8, Model=77, Origin='Japan'),\n",
       " Car(Car='Chevrolet Caprice Classic', MPG=17.5, Cylinders=8, Displacement=305.0, Horsepower=145.0, Weight=3880.0, Acceleration=12.5, Model=77, Origin='US'),\n",
       " Car(Car='Oldsmobile Cutlass Supreme', MPG=17.0, Cylinders=8, Displacement=260.0, Horsepower=110.0, Weight=4060.0, Acceleration=19.0, Model=77, Origin='US'),\n",
       " Car(Car='Dodge Monaco Brougham', MPG=15.5, Cylinders=8, Displacement=318.0, Horsepower=145.0, Weight=4140.0, Acceleration=13.7, Model=77, Origin='US'),\n",
       " Car(Car='Mercury Cougar Brougham', MPG=15.0, Cylinders=8, Displacement=302.0, Horsepower=130.0, Weight=4295.0, Acceleration=14.9, Model=77, Origin='US'),\n",
       " Car(Car='Chevrolet Concours', MPG=17.5, Cylinders=6, Displacement=250.0, Horsepower=110.0, Weight=3520.0, Acceleration=16.4, Model=77, Origin='US'),\n",
       " Car(Car='Buick Skylark', MPG=20.5, Cylinders=6, Displacement=231.0, Horsepower=105.0, Weight=3425.0, Acceleration=16.9, Model=77, Origin='US'),\n",
       " Car(Car='Plymouth Volare Custom', MPG=19.0, Cylinders=6, Displacement=225.0, Horsepower=100.0, Weight=3630.0, Acceleration=17.7, Model=77, Origin='US'),\n",
       " Car(Car='Ford Grenada', MPG=18.5, Cylinders=6, Displacement=250.0, Horsepower=98.0, Weight=3525.0, Acceleration=19.0, Model=77, Origin='US'),\n",
       " Car(Car='Pontiac Grand Prix LJ', MPG=16.0, Cylinders=8, Displacement=400.0, Horsepower=180.0, Weight=4220.0, Acceleration=11.1, Model=77, Origin='US'),\n",
       " Car(Car='Chevrolet Monte Carlo Landau', MPG=15.5, Cylinders=8, Displacement=350.0, Horsepower=170.0, Weight=4165.0, Acceleration=11.4, Model=77, Origin='US'),\n",
       " Car(Car='Chrysler Cordoba', MPG=15.5, Cylinders=8, Displacement=400.0, Horsepower=190.0, Weight=4325.0, Acceleration=12.2, Model=77, Origin='US'),\n",
       " Car(Car='Ford Thunderbird', MPG=16.0, Cylinders=8, Displacement=351.0, Horsepower=149.0, Weight=4335.0, Acceleration=14.5, Model=77, Origin='US'),\n",
       " Car(Car='Volkswagen Rabbit Custom', MPG=29.0, Cylinders=4, Displacement=97.0, Horsepower=78.0, Weight=1940.0, Acceleration=14.5, Model=77, Origin='Europe'),\n",
       " Car(Car='Pontiac Sunbird Coupe', MPG=24.5, Cylinders=4, Displacement=151.0, Horsepower=88.0, Weight=2740.0, Acceleration=16.0, Model=77, Origin='US'),\n",
       " Car(Car='Toyota Corolla Liftback', MPG=26.0, Cylinders=4, Displacement=97.0, Horsepower=75.0, Weight=2265.0, Acceleration=18.2, Model=77, Origin='Japan'),\n",
       " Car(Car='Ford Mustang II 2+2', MPG=25.5, Cylinders=4, Displacement=140.0, Horsepower=89.0, Weight=2755.0, Acceleration=15.8, Model=77, Origin='US'),\n",
       " Car(Car='Chevrolet Chevette', MPG=30.5, Cylinders=4, Displacement=98.0, Horsepower=63.0, Weight=2051.0, Acceleration=17.0, Model=77, Origin='US'),\n",
       " Car(Car='Dodge Colt m/m', MPG=33.5, Cylinders=4, Displacement=98.0, Horsepower=83.0, Weight=2075.0, Acceleration=15.9, Model=77, Origin='US'),\n",
       " Car(Car='Subaru DL', MPG=30.0, Cylinders=4, Displacement=97.0, Horsepower=67.0, Weight=1985.0, Acceleration=16.4, Model=77, Origin='Japan'),\n",
       " Car(Car='Volkswagen Dasher', MPG=30.5, Cylinders=4, Displacement=97.0, Horsepower=78.0, Weight=2190.0, Acceleration=14.1, Model=77, Origin='Europe'),\n",
       " Car(Car='Datsun 810', MPG=22.0, Cylinders=6, Displacement=146.0, Horsepower=97.0, Weight=2815.0, Acceleration=14.5, Model=77, Origin='Japan'),\n",
       " Car(Car='BMW 320i', MPG=21.5, Cylinders=4, Displacement=121.0, Horsepower=110.0, Weight=2600.0, Acceleration=12.8, Model=77, Origin='Europe'),\n",
       " Car(Car='Mazda RX-4', MPG=21.5, Cylinders=3, Displacement=80.0, Horsepower=110.0, Weight=2720.0, Acceleration=13.5, Model=77, Origin='Japan'),\n",
       " Car(Car='Volkswagen Rabbit Custom Diesel', MPG=43.1, Cylinders=4, Displacement=90.0, Horsepower=48.0, Weight=1985.0, Acceleration=21.5, Model=78, Origin='Europe'),\n",
       " Car(Car='Ford Fiesta', MPG=36.1, Cylinders=4, Displacement=98.0, Horsepower=66.0, Weight=1800.0, Acceleration=14.4, Model=78, Origin='US'),\n",
       " Car(Car='Mazda GLC Deluxe', MPG=32.8, Cylinders=4, Displacement=78.0, Horsepower=52.0, Weight=1985.0, Acceleration=19.4, Model=78, Origin='Japan'),\n",
       " Car(Car='Datsun B210 GX', MPG=39.4, Cylinders=4, Displacement=85.0, Horsepower=70.0, Weight=2070.0, Acceleration=18.6, Model=78, Origin='Japan'),\n",
       " Car(Car='Honda Civic CVCC', MPG=36.1, Cylinders=4, Displacement=91.0, Horsepower=60.0, Weight=1800.0, Acceleration=16.4, Model=78, Origin='Japan'),\n",
       " Car(Car='Oldsmobile Cutlass Salon Brougham', MPG=19.9, Cylinders=8, Displacement=260.0, Horsepower=110.0, Weight=3365.0, Acceleration=15.5, Model=78, Origin='US'),\n",
       " Car(Car='Dodge Diplomat', MPG=19.4, Cylinders=8, Displacement=318.0, Horsepower=140.0, Weight=3735.0, Acceleration=13.2, Model=78, Origin='US'),\n",
       " Car(Car='Mercury Monarch ghia', MPG=20.2, Cylinders=8, Displacement=302.0, Horsepower=139.0, Weight=3570.0, Acceleration=12.8, Model=78, Origin='US'),\n",
       " Car(Car='Pontiac Phoenix LJ', MPG=19.2, Cylinders=6, Displacement=231.0, Horsepower=105.0, Weight=3535.0, Acceleration=19.2, Model=78, Origin='US'),\n",
       " Car(Car='Chevrolet Malibu', MPG=20.5, Cylinders=6, Displacement=200.0, Horsepower=95.0, Weight=3155.0, Acceleration=18.2, Model=78, Origin='US'),\n",
       " Car(Car='Ford Fairmont (auto)', MPG=20.2, Cylinders=6, Displacement=200.0, Horsepower=85.0, Weight=2965.0, Acceleration=15.8, Model=78, Origin='US'),\n",
       " Car(Car='Ford Fairmont (man)', MPG=25.1, Cylinders=4, Displacement=140.0, Horsepower=88.0, Weight=2720.0, Acceleration=15.4, Model=78, Origin='US'),\n",
       " Car(Car='Plymouth Volare', MPG=20.5, Cylinders=6, Displacement=225.0, Horsepower=100.0, Weight=3430.0, Acceleration=17.2, Model=78, Origin='US'),\n",
       " Car(Car='AMC Concord', MPG=19.4, Cylinders=6, Displacement=232.0, Horsepower=90.0, Weight=3210.0, Acceleration=17.2, Model=78, Origin='US'),\n",
       " Car(Car='Buick Century Special', MPG=20.6, Cylinders=6, Displacement=231.0, Horsepower=105.0, Weight=3380.0, Acceleration=15.8, Model=78, Origin='US'),\n",
       " Car(Car='Mercury Zephyr', MPG=20.8, Cylinders=6, Displacement=200.0, Horsepower=85.0, Weight=3070.0, Acceleration=16.7, Model=78, Origin='US'),\n",
       " Car(Car='Dodge Aspen', MPG=18.6, Cylinders=6, Displacement=225.0, Horsepower=110.0, Weight=3620.0, Acceleration=18.7, Model=78, Origin='US'),\n",
       " Car(Car='AMC Concord d/l', MPG=18.1, Cylinders=6, Displacement=258.0, Horsepower=120.0, Weight=3410.0, Acceleration=15.1, Model=78, Origin='US'),\n",
       " Car(Car='Chevrolet Monte Carlo Landau', MPG=19.2, Cylinders=8, Displacement=305.0, Horsepower=145.0, Weight=3425.0, Acceleration=13.2, Model=78, Origin='US'),\n",
       " Car(Car='Buick Regal Sport Coupe (turbo)', MPG=17.7, Cylinders=6, Displacement=231.0, Horsepower=165.0, Weight=3445.0, Acceleration=13.4, Model=78, Origin='US'),\n",
       " Car(Car='Ford Futura', MPG=18.1, Cylinders=8, Displacement=302.0, Horsepower=139.0, Weight=3205.0, Acceleration=11.2, Model=78, Origin='US'),\n",
       " Car(Car='Dodge Magnum XE', MPG=17.5, Cylinders=8, Displacement=318.0, Horsepower=140.0, Weight=4080.0, Acceleration=13.7, Model=78, Origin='US'),\n",
       " Car(Car='Chevrolet Chevette', MPG=30.0, Cylinders=4, Displacement=98.0, Horsepower=68.0, Weight=2155.0, Acceleration=16.5, Model=78, Origin='US'),\n",
       " Car(Car='Toyota Corolla', MPG=27.5, Cylinders=4, Displacement=134.0, Horsepower=95.0, Weight=2560.0, Acceleration=14.2, Model=78, Origin='Japan'),\n",
       " Car(Car='Datsun 510', MPG=27.2, Cylinders=4, Displacement=119.0, Horsepower=97.0, Weight=2300.0, Acceleration=14.7, Model=78, Origin='Japan'),\n",
       " Car(Car='Dodge Omni', MPG=30.9, Cylinders=4, Displacement=105.0, Horsepower=75.0, Weight=2230.0, Acceleration=14.5, Model=78, Origin='US'),\n",
       " Car(Car='Toyota Celica GT Liftback', MPG=21.1, Cylinders=4, Displacement=134.0, Horsepower=95.0, Weight=2515.0, Acceleration=14.8, Model=78, Origin='Japan'),\n",
       " Car(Car='Plymouth Sapporo', MPG=23.2, Cylinders=4, Displacement=156.0, Horsepower=105.0, Weight=2745.0, Acceleration=16.7, Model=78, Origin='US'),\n",
       " Car(Car='Oldsmobile Starfire SX', MPG=23.8, Cylinders=4, Displacement=151.0, Horsepower=85.0, Weight=2855.0, Acceleration=17.6, Model=78, Origin='US'),\n",
       " Car(Car='Datsun 200-SX', MPG=23.9, Cylinders=4, Displacement=119.0, Horsepower=97.0, Weight=2405.0, Acceleration=14.9, Model=78, Origin='Japan'),\n",
       " Car(Car='Audi 5000', MPG=20.3, Cylinders=5, Displacement=131.0, Horsepower=103.0, Weight=2830.0, Acceleration=15.9, Model=78, Origin='Europe'),\n",
       " Car(Car='Volvo 264gl', MPG=17.0, Cylinders=6, Displacement=163.0, Horsepower=125.0, Weight=3140.0, Acceleration=13.6, Model=78, Origin='Europe'),\n",
       " Car(Car='Saab 99gle', MPG=21.6, Cylinders=4, Displacement=121.0, Horsepower=115.0, Weight=2795.0, Acceleration=15.7, Model=78, Origin='Europe'),\n",
       " Car(Car='Peugeot 604sl', MPG=16.2, Cylinders=6, Displacement=163.0, Horsepower=133.0, Weight=3410.0, Acceleration=15.8, Model=78, Origin='Europe'),\n",
       " Car(Car='Volkswagen Scirocco', MPG=31.5, Cylinders=4, Displacement=89.0, Horsepower=71.0, Weight=1990.0, Acceleration=14.9, Model=78, Origin='Europe'),\n",
       " Car(Car='Honda Accord LX', MPG=29.5, Cylinders=4, Displacement=98.0, Horsepower=68.0, Weight=2135.0, Acceleration=16.6, Model=78, Origin='Japan'),\n",
       " Car(Car='Pontiac Lemans V6', MPG=21.5, Cylinders=6, Displacement=231.0, Horsepower=115.0, Weight=3245.0, Acceleration=15.4, Model=79, Origin='US'),\n",
       " Car(Car='Mercury Zephyr 6', MPG=19.8, Cylinders=6, Displacement=200.0, Horsepower=85.0, Weight=2990.0, Acceleration=18.2, Model=79, Origin='US'),\n",
       " Car(Car='Ford Fairmont 4', MPG=22.3, Cylinders=4, Displacement=140.0, Horsepower=88.0, Weight=2890.0, Acceleration=17.3, Model=79, Origin='US'),\n",
       " Car(Car='AMC Concord DL 6', MPG=20.2, Cylinders=6, Displacement=232.0, Horsepower=90.0, Weight=3265.0, Acceleration=18.2, Model=79, Origin='US'),\n",
       " Car(Car='Dodge Aspen 6', MPG=20.6, Cylinders=6, Displacement=225.0, Horsepower=110.0, Weight=3360.0, Acceleration=16.6, Model=79, Origin='US'),\n",
       " Car(Car='Chevrolet Caprice Classic', MPG=17.0, Cylinders=8, Displacement=305.0, Horsepower=130.0, Weight=3840.0, Acceleration=15.4, Model=79, Origin='US'),\n",
       " Car(Car='Ford LTD Landau', MPG=17.6, Cylinders=8, Displacement=302.0, Horsepower=129.0, Weight=3725.0, Acceleration=13.4, Model=79, Origin='US'),\n",
       " Car(Car='Mercury Grand Marquis', MPG=16.5, Cylinders=8, Displacement=351.0, Horsepower=138.0, Weight=3955.0, Acceleration=13.2, Model=79, Origin='US'),\n",
       " Car(Car='Dodge St. Regis', MPG=18.2, Cylinders=8, Displacement=318.0, Horsepower=135.0, Weight=3830.0, Acceleration=15.2, Model=79, Origin='US'),\n",
       " Car(Car='Buick Estate Wagon (sw)', MPG=16.9, Cylinders=8, Displacement=350.0, Horsepower=155.0, Weight=4360.0, Acceleration=14.9, Model=79, Origin='US'),\n",
       " Car(Car='Ford Country Squire (sw)', MPG=15.5, Cylinders=8, Displacement=351.0, Horsepower=142.0, Weight=4054.0, Acceleration=14.3, Model=79, Origin='US'),\n",
       " Car(Car='Chevrolet Malibu Classic (sw)', MPG=19.2, Cylinders=8, Displacement=267.0, Horsepower=125.0, Weight=3605.0, Acceleration=15.0, Model=79, Origin='US'),\n",
       " Car(Car='Chrysler Lebaron Town @ Country (sw)', MPG=18.5, Cylinders=8, Displacement=360.0, Horsepower=150.0, Weight=3940.0, Acceleration=13.0, Model=79, Origin='US'),\n",
       " Car(Car='Volkswagen Rabbit Custom', MPG=31.9, Cylinders=4, Displacement=89.0, Horsepower=71.0, Weight=1925.0, Acceleration=14.0, Model=79, Origin='Europe'),\n",
       " Car(Car='Mazda GLC Deluxe', MPG=34.1, Cylinders=4, Displacement=86.0, Horsepower=65.0, Weight=1975.0, Acceleration=15.2, Model=79, Origin='Japan'),\n",
       " Car(Car='Dodge Colt Hatchback Custom', MPG=35.7, Cylinders=4, Displacement=98.0, Horsepower=80.0, Weight=1915.0, Acceleration=14.4, Model=79, Origin='US'),\n",
       " Car(Car='AMC Spirit DL', MPG=27.4, Cylinders=4, Displacement=121.0, Horsepower=80.0, Weight=2670.0, Acceleration=15.0, Model=79, Origin='US'),\n",
       " Car(Car='Mercedes Benz 300d', MPG=25.4, Cylinders=5, Displacement=183.0, Horsepower=77.0, Weight=3530.0, Acceleration=20.1, Model=79, Origin='Europe'),\n",
       " Car(Car='Cadillac Eldorado', MPG=23.0, Cylinders=8, Displacement=350.0, Horsepower=125.0, Weight=3900.0, Acceleration=17.4, Model=79, Origin='US'),\n",
       " Car(Car='Peugeot 504', MPG=27.2, Cylinders=4, Displacement=141.0, Horsepower=71.0, Weight=3190.0, Acceleration=24.8, Model=79, Origin='Europe'),\n",
       " Car(Car='Oldsmobile Cutlass Salon Brougham', MPG=23.9, Cylinders=8, Displacement=260.0, Horsepower=90.0, Weight=3420.0, Acceleration=22.2, Model=79, Origin='US'),\n",
       " Car(Car='Plymouth Horizon', MPG=34.2, Cylinders=4, Displacement=105.0, Horsepower=70.0, Weight=2200.0, Acceleration=13.2, Model=79, Origin='US'),\n",
       " Car(Car='Plymouth Horizon TC3', MPG=34.5, Cylinders=4, Displacement=105.0, Horsepower=70.0, Weight=2150.0, Acceleration=14.9, Model=79, Origin='US'),\n",
       " Car(Car='Datsun 210', MPG=31.8, Cylinders=4, Displacement=85.0, Horsepower=65.0, Weight=2020.0, Acceleration=19.2, Model=79, Origin='Japan'),\n",
       " Car(Car='Fiat Strada Custom', MPG=37.3, Cylinders=4, Displacement=91.0, Horsepower=69.0, Weight=2130.0, Acceleration=14.7, Model=79, Origin='Europe'),\n",
       " Car(Car='Buick Skylark Limited', MPG=28.4, Cylinders=4, Displacement=151.0, Horsepower=90.0, Weight=2670.0, Acceleration=16.0, Model=79, Origin='US'),\n",
       " Car(Car='Chevrolet Citation', MPG=28.8, Cylinders=6, Displacement=173.0, Horsepower=115.0, Weight=2595.0, Acceleration=11.3, Model=79, Origin='US'),\n",
       " Car(Car='Oldsmobile Omega Brougham', MPG=26.8, Cylinders=6, Displacement=173.0, Horsepower=115.0, Weight=2700.0, Acceleration=12.9, Model=79, Origin='US'),\n",
       " Car(Car='Pontiac Phoenix', MPG=33.5, Cylinders=4, Displacement=151.0, Horsepower=90.0, Weight=2556.0, Acceleration=13.2, Model=79, Origin='US'),\n",
       " Car(Car='Volkswagen Rabbit', MPG=41.5, Cylinders=4, Displacement=98.0, Horsepower=76.0, Weight=2144.0, Acceleration=14.7, Model=80, Origin='Europe'),\n",
       " Car(Car='Toyota Corolla Tercel', MPG=38.1, Cylinders=4, Displacement=89.0, Horsepower=60.0, Weight=1968.0, Acceleration=18.8, Model=80, Origin='Japan'),\n",
       " Car(Car='Chevrolet Chevette', MPG=32.1, Cylinders=4, Displacement=98.0, Horsepower=70.0, Weight=2120.0, Acceleration=15.5, Model=80, Origin='US'),\n",
       " Car(Car='Datsun 310', MPG=37.2, Cylinders=4, Displacement=86.0, Horsepower=65.0, Weight=2019.0, Acceleration=16.4, Model=80, Origin='Japan'),\n",
       " Car(Car='Chevrolet Citation', MPG=28.0, Cylinders=4, Displacement=151.0, Horsepower=90.0, Weight=2678.0, Acceleration=16.5, Model=80, Origin='US'),\n",
       " Car(Car='Ford Fairmont', MPG=26.4, Cylinders=4, Displacement=140.0, Horsepower=88.0, Weight=2870.0, Acceleration=18.1, Model=80, Origin='US'),\n",
       " Car(Car='AMC Concord', MPG=24.3, Cylinders=4, Displacement=151.0, Horsepower=90.0, Weight=3003.0, Acceleration=20.1, Model=80, Origin='US'),\n",
       " Car(Car='Dodge Aspen', MPG=19.1, Cylinders=6, Displacement=225.0, Horsepower=90.0, Weight=3381.0, Acceleration=18.7, Model=80, Origin='US'),\n",
       " Car(Car='Audi 4000', MPG=34.3, Cylinders=4, Displacement=97.0, Horsepower=78.0, Weight=2188.0, Acceleration=15.8, Model=80, Origin='Europe'),\n",
       " Car(Car='Toyota Corolla Liftback', MPG=29.8, Cylinders=4, Displacement=134.0, Horsepower=90.0, Weight=2711.0, Acceleration=15.5, Model=80, Origin='Japan'),\n",
       " Car(Car='Mazda 626', MPG=31.3, Cylinders=4, Displacement=120.0, Horsepower=75.0, Weight=2542.0, Acceleration=17.5, Model=80, Origin='Japan'),\n",
       " Car(Car='Datsun 510 Hatchback', MPG=37.0, Cylinders=4, Displacement=119.0, Horsepower=92.0, Weight=2434.0, Acceleration=15.0, Model=80, Origin='Japan'),\n",
       " Car(Car='Toyota Corolla', MPG=32.2, Cylinders=4, Displacement=108.0, Horsepower=75.0, Weight=2265.0, Acceleration=15.2, Model=80, Origin='Japan'),\n",
       " Car(Car='Mazda GLC', MPG=46.6, Cylinders=4, Displacement=86.0, Horsepower=65.0, Weight=2110.0, Acceleration=17.9, Model=80, Origin='Japan'),\n",
       " Car(Car='Dodge Colt', MPG=27.9, Cylinders=4, Displacement=156.0, Horsepower=105.0, Weight=2800.0, Acceleration=14.4, Model=80, Origin='US'),\n",
       " Car(Car='Datsun 210', MPG=40.8, Cylinders=4, Displacement=85.0, Horsepower=65.0, Weight=2110.0, Acceleration=19.2, Model=80, Origin='Japan'),\n",
       " Car(Car='Volkswagen Rabbit C (Diesel)', MPG=44.3, Cylinders=4, Displacement=90.0, Horsepower=48.0, Weight=2085.0, Acceleration=21.7, Model=80, Origin='Europe'),\n",
       " Car(Car='Volkswagen Dasher (diesel)', MPG=43.4, Cylinders=4, Displacement=90.0, Horsepower=48.0, Weight=2335.0, Acceleration=23.7, Model=80, Origin='Europe'),\n",
       " Car(Car='Audi 5000s (diesel)', MPG=36.4, Cylinders=5, Displacement=121.0, Horsepower=67.0, Weight=2950.0, Acceleration=19.9, Model=80, Origin='Europe'),\n",
       " Car(Car='Mercedes-Benz 240d', MPG=30.0, Cylinders=4, Displacement=146.0, Horsepower=67.0, Weight=3250.0, Acceleration=21.8, Model=80, Origin='Europe'),\n",
       " Car(Car='Honda Civic 1500 gl', MPG=44.6, Cylinders=4, Displacement=91.0, Horsepower=67.0, Weight=1850.0, Acceleration=13.8, Model=80, Origin='Japan'),\n",
       " Car(Car='Renault Lecar Deluxe', MPG=40.9, Cylinders=4, Displacement=85.0, Horsepower=0.0, Weight=1835.0, Acceleration=17.3, Model=80, Origin='Europe'),\n",
       " Car(Car='Subaru DL', MPG=33.8, Cylinders=4, Displacement=97.0, Horsepower=67.0, Weight=2145.0, Acceleration=18.0, Model=80, Origin='Japan'),\n",
       " Car(Car='Volkswagen Rabbit', MPG=29.8, Cylinders=4, Displacement=89.0, Horsepower=62.0, Weight=1845.0, Acceleration=15.3, Model=80, Origin='Europe'),\n",
       " Car(Car='Datsun 280-ZX', MPG=32.7, Cylinders=6, Displacement=168.0, Horsepower=132.0, Weight=2910.0, Acceleration=11.4, Model=80, Origin='Japan'),\n",
       " Car(Car='Mazda RX-7 GS', MPG=23.7, Cylinders=3, Displacement=70.0, Horsepower=100.0, Weight=2420.0, Acceleration=12.5, Model=80, Origin='Japan'),\n",
       " Car(Car='Triumph TR7 Coupe', MPG=35.0, Cylinders=4, Displacement=122.0, Horsepower=88.0, Weight=2500.0, Acceleration=15.1, Model=80, Origin='Europe'),\n",
       " Car(Car='Ford Mustang Cobra', MPG=23.6, Cylinders=4, Displacement=140.0, Horsepower=0.0, Weight=2905.0, Acceleration=14.3, Model=80, Origin='US'),\n",
       " Car(Car='Honda Accord', MPG=32.4, Cylinders=4, Displacement=107.0, Horsepower=72.0, Weight=2290.0, Acceleration=17.0, Model=80, Origin='Japan'),\n",
       " Car(Car='Plymouth Reliant', MPG=27.2, Cylinders=4, Displacement=135.0, Horsepower=84.0, Weight=2490.0, Acceleration=15.7, Model=81, Origin='US'),\n",
       " Car(Car='Buick Skylark', MPG=26.6, Cylinders=4, Displacement=151.0, Horsepower=84.0, Weight=2635.0, Acceleration=16.4, Model=81, Origin='US'),\n",
       " Car(Car='Dodge Aries Wagon (sw)', MPG=25.8, Cylinders=4, Displacement=156.0, Horsepower=92.0, Weight=2620.0, Acceleration=14.4, Model=81, Origin='US'),\n",
       " Car(Car='Chevrolet Citation', MPG=23.5, Cylinders=6, Displacement=173.0, Horsepower=110.0, Weight=2725.0, Acceleration=12.6, Model=81, Origin='US'),\n",
       " Car(Car='Plymouth Reliant', MPG=30.0, Cylinders=4, Displacement=135.0, Horsepower=84.0, Weight=2385.0, Acceleration=12.9, Model=81, Origin='US'),\n",
       " Car(Car='Toyota Starlet', MPG=39.1, Cylinders=4, Displacement=79.0, Horsepower=58.0, Weight=1755.0, Acceleration=16.9, Model=81, Origin='Japan'),\n",
       " Car(Car='Plymouth Champ', MPG=39.0, Cylinders=4, Displacement=86.0, Horsepower=64.0, Weight=1875.0, Acceleration=16.4, Model=81, Origin='US'),\n",
       " Car(Car='Honda Civic 1300', MPG=35.1, Cylinders=4, Displacement=81.0, Horsepower=60.0, Weight=1760.0, Acceleration=16.1, Model=81, Origin='Japan'),\n",
       " Car(Car='Subaru', MPG=32.3, Cylinders=4, Displacement=97.0, Horsepower=67.0, Weight=2065.0, Acceleration=17.8, Model=81, Origin='Japan'),\n",
       " Car(Car='Datsun 210 MPG', MPG=37.0, Cylinders=4, Displacement=85.0, Horsepower=65.0, Weight=1975.0, Acceleration=19.4, Model=81, Origin='Japan'),\n",
       " Car(Car='Toyota Tercel', MPG=37.7, Cylinders=4, Displacement=89.0, Horsepower=62.0, Weight=2050.0, Acceleration=17.3, Model=81, Origin='Japan'),\n",
       " Car(Car='Mazda GLC 4', MPG=34.1, Cylinders=4, Displacement=91.0, Horsepower=68.0, Weight=1985.0, Acceleration=16.0, Model=81, Origin='Japan'),\n",
       " Car(Car='Plymouth Horizon 4', MPG=34.7, Cylinders=4, Displacement=105.0, Horsepower=63.0, Weight=2215.0, Acceleration=14.9, Model=81, Origin='US'),\n",
       " Car(Car='Ford Escort 4W', MPG=34.4, Cylinders=4, Displacement=98.0, Horsepower=65.0, Weight=2045.0, Acceleration=16.2, Model=81, Origin='US'),\n",
       " Car(Car='Ford Escort 2H', MPG=29.9, Cylinders=4, Displacement=98.0, Horsepower=65.0, Weight=2380.0, Acceleration=20.7, Model=81, Origin='US'),\n",
       " Car(Car='Volkswagen Jetta', MPG=33.0, Cylinders=4, Displacement=105.0, Horsepower=74.0, Weight=2190.0, Acceleration=14.2, Model=81, Origin='Europe'),\n",
       " Car(Car='Renault 18i', MPG=34.5, Cylinders=4, Displacement=100.0, Horsepower=0.0, Weight=2320.0, Acceleration=15.8, Model=81, Origin='Europe'),\n",
       " Car(Car='Honda Prelude', MPG=33.7, Cylinders=4, Displacement=107.0, Horsepower=75.0, Weight=2210.0, Acceleration=14.4, Model=81, Origin='Japan'),\n",
       " Car(Car='Toyota Corolla', MPG=32.4, Cylinders=4, Displacement=108.0, Horsepower=75.0, Weight=2350.0, Acceleration=16.8, Model=81, Origin='Japan'),\n",
       " Car(Car='Datsun 200SX', MPG=32.9, Cylinders=4, Displacement=119.0, Horsepower=100.0, Weight=2615.0, Acceleration=14.8, Model=81, Origin='Japan'),\n",
       " Car(Car='Mazda 626', MPG=31.6, Cylinders=4, Displacement=120.0, Horsepower=74.0, Weight=2635.0, Acceleration=18.3, Model=81, Origin='Japan'),\n",
       " Car(Car='Peugeot 505s Turbo Diesel', MPG=28.1, Cylinders=4, Displacement=141.0, Horsepower=80.0, Weight=3230.0, Acceleration=20.4, Model=81, Origin='Europe'),\n",
       " Car(Car='Saab 900s', MPG=0.0, Cylinders=4, Displacement=121.0, Horsepower=110.0, Weight=2800.0, Acceleration=15.4, Model=81, Origin='Europe'),\n",
       " Car(Car='Volvo Diesel', MPG=30.7, Cylinders=6, Displacement=145.0, Horsepower=76.0, Weight=3160.0, Acceleration=19.6, Model=81, Origin='Europe'),\n",
       " Car(Car='Toyota Cressida', MPG=25.4, Cylinders=6, Displacement=168.0, Horsepower=116.0, Weight=2900.0, Acceleration=12.6, Model=81, Origin='Japan'),\n",
       " Car(Car='Datsun 810 Maxima', MPG=24.2, Cylinders=6, Displacement=146.0, Horsepower=120.0, Weight=2930.0, Acceleration=13.8, Model=81, Origin='Japan'),\n",
       " Car(Car='Buick Century', MPG=22.4, Cylinders=6, Displacement=231.0, Horsepower=110.0, Weight=3415.0, Acceleration=15.8, Model=81, Origin='US'),\n",
       " Car(Car='Oldsmobile Cutlass LS', MPG=26.6, Cylinders=8, Displacement=350.0, Horsepower=105.0, Weight=3725.0, Acceleration=19.0, Model=81, Origin='US'),\n",
       " Car(Car='Ford Grenada gl', MPG=20.2, Cylinders=6, Displacement=200.0, Horsepower=88.0, Weight=3060.0, Acceleration=17.1, Model=81, Origin='US'),\n",
       " Car(Car='Chrysler Lebaron Salon', MPG=17.6, Cylinders=6, Displacement=225.0, Horsepower=85.0, Weight=3465.0, Acceleration=16.6, Model=81, Origin='US'),\n",
       " Car(Car='Chevrolet Cavalier', MPG=28.0, Cylinders=4, Displacement=112.0, Horsepower=88.0, Weight=2605.0, Acceleration=19.6, Model=82, Origin='US'),\n",
       " Car(Car='Chevrolet Cavalier Wagon', MPG=27.0, Cylinders=4, Displacement=112.0, Horsepower=88.0, Weight=2640.0, Acceleration=18.6, Model=82, Origin='US'),\n",
       " Car(Car='Chevrolet Cavalier 2-door', MPG=34.0, Cylinders=4, Displacement=112.0, Horsepower=88.0, Weight=2395.0, Acceleration=18.0, Model=82, Origin='US'),\n",
       " Car(Car='Pontiac J2000 SE Hatchback', MPG=31.0, Cylinders=4, Displacement=112.0, Horsepower=85.0, Weight=2575.0, Acceleration=16.2, Model=82, Origin='US'),\n",
       " Car(Car='Dodge Aries SE', MPG=29.0, Cylinders=4, Displacement=135.0, Horsepower=84.0, Weight=2525.0, Acceleration=16.0, Model=82, Origin='US'),\n",
       " Car(Car='Pontiac Phoenix', MPG=27.0, Cylinders=4, Displacement=151.0, Horsepower=90.0, Weight=2735.0, Acceleration=18.0, Model=82, Origin='US'),\n",
       " Car(Car='Ford Fairmont Futura', MPG=24.0, Cylinders=4, Displacement=140.0, Horsepower=92.0, Weight=2865.0, Acceleration=16.4, Model=82, Origin='US'),\n",
       " Car(Car='AMC Concord DL', MPG=23.0, Cylinders=4, Displacement=151.0, Horsepower=0.0, Weight=3035.0, Acceleration=20.5, Model=82, Origin='US'),\n",
       " Car(Car='Volkswagen Rabbit l', MPG=36.0, Cylinders=4, Displacement=105.0, Horsepower=74.0, Weight=1980.0, Acceleration=15.3, Model=82, Origin='Europe'),\n",
       " Car(Car='Mazda GLC Custom l', MPG=37.0, Cylinders=4, Displacement=91.0, Horsepower=68.0, Weight=2025.0, Acceleration=18.2, Model=82, Origin='Japan'),\n",
       " Car(Car='Mazda GLC Custom', MPG=31.0, Cylinders=4, Displacement=91.0, Horsepower=68.0, Weight=1970.0, Acceleration=17.6, Model=82, Origin='Japan'),\n",
       " Car(Car='Plymouth Horizon Miser', MPG=38.0, Cylinders=4, Displacement=105.0, Horsepower=63.0, Weight=2125.0, Acceleration=14.7, Model=82, Origin='US'),\n",
       " Car(Car='Mercury Lynx l', MPG=36.0, Cylinders=4, Displacement=98.0, Horsepower=70.0, Weight=2125.0, Acceleration=17.3, Model=82, Origin='US'),\n",
       " Car(Car='Nissan Stanza XE', MPG=36.0, Cylinders=4, Displacement=120.0, Horsepower=88.0, Weight=2160.0, Acceleration=14.5, Model=82, Origin='Japan'),\n",
       " Car(Car='Honda Accord', MPG=36.0, Cylinders=4, Displacement=107.0, Horsepower=75.0, Weight=2205.0, Acceleration=14.5, Model=82, Origin='Japan'),\n",
       " Car(Car='Toyota Corolla', MPG=34.0, Cylinders=4, Displacement=108.0, Horsepower=70.0, Weight=2245.0, Acceleration=16.9, Model=82, Origin='Japan'),\n",
       " Car(Car='Honda Civic', MPG=38.0, Cylinders=4, Displacement=91.0, Horsepower=67.0, Weight=1965.0, Acceleration=15.0, Model=82, Origin='Japan'),\n",
       " Car(Car='Honda Civic (auto)', MPG=32.0, Cylinders=4, Displacement=91.0, Horsepower=67.0, Weight=1965.0, Acceleration=15.7, Model=82, Origin='Japan'),\n",
       " Car(Car='Datsun 310 GX', MPG=38.0, Cylinders=4, Displacement=91.0, Horsepower=67.0, Weight=1995.0, Acceleration=16.2, Model=82, Origin='Japan'),\n",
       " Car(Car='Buick Century Limited', MPG=25.0, Cylinders=6, Displacement=181.0, Horsepower=110.0, Weight=2945.0, Acceleration=16.4, Model=82, Origin='US'),\n",
       " Car(Car='Oldsmobile Cutlass Ciera (diesel)', MPG=38.0, Cylinders=6, Displacement=262.0, Horsepower=85.0, Weight=3015.0, Acceleration=17.0, Model=82, Origin='US'),\n",
       " Car(Car='Chrysler Lebaron Medallion', MPG=26.0, Cylinders=4, Displacement=156.0, Horsepower=92.0, Weight=2585.0, Acceleration=14.5, Model=82, Origin='US'),\n",
       " Car(Car='Ford Grenada l', MPG=22.0, Cylinders=6, Displacement=232.0, Horsepower=112.0, Weight=2835.0, Acceleration=14.7, Model=82, Origin='US'),\n",
       " Car(Car='Toyota Celica GT', MPG=32.0, Cylinders=4, Displacement=144.0, Horsepower=96.0, Weight=2665.0, Acceleration=13.9, Model=82, Origin='Japan'),\n",
       " Car(Car='Dodge Charger 2.2', MPG=36.0, Cylinders=4, Displacement=135.0, Horsepower=84.0, Weight=2370.0, Acceleration=13.0, Model=82, Origin='US'),\n",
       " Car(Car='Chevrolet Camaro', MPG=27.0, Cylinders=4, Displacement=151.0, Horsepower=90.0, Weight=2950.0, Acceleration=17.3, Model=82, Origin='US'),\n",
       " Car(Car='Ford Mustang GL', MPG=27.0, Cylinders=4, Displacement=140.0, Horsepower=86.0, Weight=2790.0, Acceleration=15.6, Model=82, Origin='US'),\n",
       " Car(Car='Volkswagen Pickup', MPG=44.0, Cylinders=4, Displacement=97.0, Horsepower=52.0, Weight=2130.0, Acceleration=24.6, Model=82, Origin='Europe'),\n",
       " Car(Car='Dodge Rampage', MPG=32.0, Cylinders=4, Displacement=135.0, Horsepower=84.0, Weight=2295.0, Acceleration=11.6, Model=82, Origin='US'),\n",
       " Car(Car='Ford Ranger', MPG=28.0, Cylinders=4, Displacement=120.0, Horsepower=79.0, Weight=2625.0, Acceleration=18.6, Model=82, Origin='US'),\n",
       " Car(Car='Chevy S-10', MPG=31.0, Cylinders=4, Displacement=119.0, Horsepower=82.0, Weight=2720.0, Acceleration=19.4, Model=82, Origin='US')]"
      ]
     },
     "execution_count": 19,
     "metadata": {},
     "output_type": "execute_result"
    }
   ],
   "source": [
    "cars"
   ]
  },
  {
   "cell_type": "markdown",
   "metadata": {},
   "source": [
    "Now let's see if we can clean up this code by using iterators directly:"
   ]
  },
  {
   "cell_type": "code",
   "execution_count": 23,
   "metadata": {
    "collapsed": true
   },
   "outputs": [],
   "source": [
    "from collections import namedtuple\n",
    "cars = []\n",
    "\n",
    "with open('cars.csv') as file:\n",
    "    file_iter = iter(file)\n",
    "    headers = next(file_iter).strip('\\n').split(';')\n",
    "    Car = namedtuple('Car', headers)\n",
    "    data_types = next(file_iter).strip('\\n').split(';')\n",
    "    for line in file_iter:\n",
    "        data = line.strip('\\n').split(';')\n",
    "        data = cast_row(data_types, data)\n",
    "        car = Car(*data)\n",
    "        cars.append(car)"
   ]
  },
  {
   "cell_type": "code",
   "execution_count": 24,
   "metadata": {},
   "outputs": [
    {
     "data": {
      "text/plain": [
       "Car(Car='Chevrolet Chevelle Malibu', MPG=18.0, Cylinders=8, Displacement=307.0, Horsepower=130.0, Weight=3504.0, Acceleration=12.0, Model=70, Origin='US')"
      ]
     },
     "execution_count": 24,
     "metadata": {},
     "output_type": "execute_result"
    }
   ],
   "source": [
    "cars[0]"
   ]
  },
  {
   "cell_type": "markdown",
   "metadata": {},
   "source": [
    "That's already quite a bit cleaner... But why stop there!"
   ]
  },
  {
   "cell_type": "code",
   "execution_count": 25,
   "metadata": {
    "collapsed": true
   },
   "outputs": [],
   "source": [
    "from collections import namedtuple\n",
    "\n",
    "with open('cars.csv') as file:\n",
    "    file_iter = iter(file)\n",
    "    headers = next(file_iter).strip('\\n').split(';')\n",
    "    data_types = next(file_iter).strip('\\n').split(';')\n",
    "    cars_data = [cast_row(data_types, \n",
    "                          line.strip('\\n').split(';'))\n",
    "                   for line in file_iter]\n",
    "    cars = [Car(*item) for item in cars_data]"
   ]
  },
  {
   "cell_type": "code",
   "execution_count": 26,
   "metadata": {},
   "outputs": [
    {
     "data": {
      "text/plain": [
       "['Chevrolet Chevelle Malibu', 18.0, 8, 307.0, 130.0, 3504.0, 12.0, 70, 'US']"
      ]
     },
     "execution_count": 26,
     "metadata": {},
     "output_type": "execute_result"
    }
   ],
   "source": [
    "cars_data[0]"
   ]
  },
  {
   "cell_type": "code",
   "execution_count": 27,
   "metadata": {},
   "outputs": [
    {
     "data": {
      "text/plain": [
       "Car(Car='Chevrolet Chevelle Malibu', MPG=18.0, Cylinders=8, Displacement=307.0, Horsepower=130.0, Weight=3504.0, Acceleration=12.0, Model=70, Origin='US')"
      ]
     },
     "execution_count": 27,
     "metadata": {},
     "output_type": "execute_result"
    }
   ],
   "source": [
    "cars[0]"
   ]
  },
  {
   "cell_type": "markdown",
   "metadata": {},
   "source": [
    "I chose to split creating the parsed cars_data and the named tuple list into two steps for readability - but we could combine them into a single step:"
   ]
  },
  {
   "cell_type": "code",
   "execution_count": 28,
   "metadata": {
    "collapsed": true
   },
   "outputs": [],
   "source": [
    "from collections import namedtuple\n",
    "\n",
    "with open('cars.csv') as file:\n",
    "    file_iter = iter(file)\n",
    "    headers = next(file_iter).strip('\\n').split(';')\n",
    "    data_types = next(file_iter).strip('\\n').split(';')\n",
    "    cars = [Car(*cast_row(data_types, \n",
    "                          line.strip('\\n').split(';')))\n",
    "            for line in file_iter]\n"
   ]
  },
  {
   "cell_type": "code",
   "execution_count": 29,
   "metadata": {},
   "outputs": [
    {
     "data": {
      "text/plain": [
       "Car(Car='Chevrolet Chevelle Malibu', MPG=18.0, Cylinders=8, Displacement=307.0, Horsepower=130.0, Weight=3504.0, Acceleration=12.0, Model=70, Origin='US')"
      ]
     },
     "execution_count": 29,
     "metadata": {},
     "output_type": "execute_result"
    }
   ],
   "source": [
    "cars[0]"
   ]
  },
  {
   "cell_type": "markdown",
   "metadata": {},
   "source": [
    "# Cyclic Iterators ... \n",
    "1.  iteratate over a range of integer ... N S W E ---> 1N 2 S 4E 5N 6S .... 10S .. using an ahuaxiting iterable .. inifnt "
   ]
  },
  {
   "cell_type": "markdown",
   "metadata": {},
   "source": []
  },
  {
   "cell_type": "code",
   "execution_count": 1,
   "metadata": {},
   "outputs": [],
   "source": [
    "class CyclicIterator:\n",
    "    def __init__(self, lst):\n",
    "        self.lst = lst \n",
    "        self.i = 0 \n",
    "        \n",
    "        \n",
    "    def __iter__(self):\n",
    "        return self \n",
    "    \n",
    "    def __next__(self):\n",
    "        result = self.lst[self.i % len(self.lst)]\n",
    "        self.i +=1\n",
    "        return result\n",
    "        "
   ]
  },
  {
   "cell_type": "code",
   "execution_count": 2,
   "metadata": {},
   "outputs": [],
   "source": [
    "iter_cycle = CyclicIterator('NSWE')"
   ]
  },
  {
   "cell_type": "code",
   "execution_count": 3,
   "metadata": {},
   "outputs": [
    {
     "name": "stdout",
     "output_type": "stream",
     "text": [
      "N\n",
      "S\n",
      "W\n",
      "E\n",
      "N\n",
      "S\n",
      "W\n",
      "E\n",
      "N\n",
      "S\n"
     ]
    }
   ],
   "source": [
    "for _ in range(10):\n",
    "    print(next(iter_cycle))"
   ]
  },
  {
   "cell_type": "code",
   "execution_count": 4,
   "metadata": {},
   "outputs": [],
   "source": [
    "class CyclicIterator:\n",
    "    def __init__(self, lst, length):\n",
    "        self.lst = lst \n",
    "        self.i = 0 \n",
    "        self.length = length\n",
    "        \n",
    "        \n",
    "    def __iter__(self):\n",
    "        return self \n",
    "    \n",
    "    def __next__(self):\n",
    "        if self.i >= self.length:\n",
    "            raise StopIteration\n",
    "        else:\n",
    "            result = self.lst[self.i % len(self.lst)]\n",
    "            self.i +=1\n",
    "            return result\n",
    "        "
   ]
  },
  {
   "cell_type": "code",
   "execution_count": 5,
   "metadata": {},
   "outputs": [],
   "source": [
    "iter_cycle = CyclicIterator('NSWE', 15)"
   ]
  },
  {
   "cell_type": "code",
   "execution_count": 6,
   "metadata": {},
   "outputs": [
    {
     "name": "stdout",
     "output_type": "stream",
     "text": [
      "N\n",
      "S\n",
      "W\n",
      "E\n",
      "N\n",
      "S\n",
      "W\n",
      "E\n",
      "N\n",
      "S\n",
      "W\n",
      "E\n",
      "N\n",
      "S\n",
      "W\n"
     ]
    }
   ],
   "source": [
    "for item in iter_cycle:\n",
    "    print(item)"
   ]
  },
  {
   "cell_type": "code",
   "execution_count": 9,
   "metadata": {},
   "outputs": [],
   "source": [
    "class CyclicIterator:\n",
    "    def __init__(self, lst):\n",
    "        self.lst = lst \n",
    "        self.i = 0 \n",
    "         \n",
    "        \n",
    "    def __iter__(self):\n",
    "        return self \n",
    "    \n",
    "    def __next__(self):\n",
    "        \n",
    "        result = self.lst[self.i % len(self.lst)]\n",
    "        self.i +=1\n",
    "        return result\n",
    "        "
   ]
  },
  {
   "cell_type": "code",
   "execution_count": 10,
   "metadata": {},
   "outputs": [],
   "source": [
    "iterCycle = CyclicIterator([10, 20, 35])"
   ]
  },
  {
   "cell_type": "code",
   "execution_count": 11,
   "metadata": {},
   "outputs": [
    {
     "name": "stdout",
     "output_type": "stream",
     "text": [
      "10\n",
      "20\n",
      "35\n",
      "10\n",
      "20\n",
      "35\n",
      "10\n",
      "20\n",
      "35\n",
      "10\n"
     ]
    }
   ],
   "source": [
    "for _ in range(10):\n",
    "    print(next(iterCycle))"
   ]
  },
  {
   "cell_type": "code",
   "execution_count": 12,
   "metadata": {},
   "outputs": [],
   "source": [
    "numbers = range(10)"
   ]
  },
  {
   "cell_type": "code",
   "execution_count": 13,
   "metadata": {},
   "outputs": [
    {
     "data": {
      "text/plain": [
       "[0, 1, 2, 3, 4, 5, 6, 7, 8, 9]"
      ]
     },
     "execution_count": 13,
     "metadata": {},
     "output_type": "execute_result"
    }
   ],
   "source": [
    "list(numbers)"
   ]
  },
  {
   "cell_type": "code",
   "execution_count": 14,
   "metadata": {},
   "outputs": [],
   "source": [
    "iterCyle = CyclicIterator('NSWE')"
   ]
  },
  {
   "cell_type": "code",
   "execution_count": 16,
   "metadata": {},
   "outputs": [
    {
     "data": {
      "text/plain": [
       "[(0, 'N'),\n",
       " (1, 'S'),\n",
       " (2, 'W'),\n",
       " (3, 'E'),\n",
       " (4, 'N'),\n",
       " (5, 'S'),\n",
       " (6, 'W'),\n",
       " (7, 'E'),\n",
       " (8, 'N'),\n",
       " (9, 'S')]"
      ]
     },
     "execution_count": 16,
     "metadata": {},
     "output_type": "execute_result"
    }
   ],
   "source": [
    "list(zip(list(numbers), iterCyle))"
   ]
  },
  {
   "cell_type": "code",
   "execution_count": 17,
   "metadata": {},
   "outputs": [
    {
     "name": "stdout",
     "output_type": "stream",
     "text": [
      "1N\n",
      "2S\n",
      "3W\n",
      "4E\n",
      "5N\n",
      "6S\n",
      "7W\n",
      "8E\n",
      "9N\n",
      "10S\n"
     ]
    }
   ],
   "source": [
    "n = 10 \n",
    "\n",
    "iter_cycl = CyclicIterator('NSWE')\n",
    "for i in range(1, n+1):\n",
    "    direction = next(iter_cycl)\n",
    "    print(f'{i}{direction}')"
   ]
  },
  {
   "cell_type": "code",
   "execution_count": 18,
   "metadata": {},
   "outputs": [],
   "source": [
    "n = 10 \n",
    "\n",
    "iter_cycl = CyclicIterator('NSWE')\n",
    "\n",
    "items = [str(i) + next(iter_cycl) for i in range(1, n+1)]"
   ]
  },
  {
   "cell_type": "code",
   "execution_count": 19,
   "metadata": {},
   "outputs": [
    {
     "data": {
      "text/plain": [
       "['1N', '2S', '3W', '4E', '5N', '6S', '7W', '8E', '9N', '10S']"
      ]
     },
     "execution_count": 19,
     "metadata": {},
     "output_type": "execute_result"
    }
   ],
   "source": [
    "items"
   ]
  },
  {
   "cell_type": "markdown",
   "metadata": {},
   "source": [
    "# using zip"
   ]
  },
  {
   "cell_type": "code",
   "execution_count": 20,
   "metadata": {},
   "outputs": [],
   "source": [
    "n = 10\n",
    "iter_cycl = CyclicIterator('NSWE')\n",
    "\n",
    "items = [str(n) + direction\n",
    "         for index, dirction in (zip(range(1, n+1), iterCyle))]"
   ]
  },
  {
   "cell_type": "code",
   "execution_count": 21,
   "metadata": {},
   "outputs": [
    {
     "data": {
      "text/plain": [
       "['10S', '10S', '10S', '10S', '10S', '10S', '10S', '10S', '10S', '10S']"
      ]
     },
     "execution_count": 21,
     "metadata": {},
     "output_type": "execute_result"
    }
   ],
   "source": [
    "items"
   ]
  },
  {
   "cell_type": "code",
   "execution_count": 22,
   "metadata": {},
   "outputs": [
    {
     "data": {
      "text/plain": [
       "'NSWENSWENSWENSWE'"
      ]
     },
     "execution_count": 22,
     "metadata": {},
     "output_type": "execute_result"
    }
   ],
   "source": [
    "\"NSWE\" * 4"
   ]
  },
  {
   "cell_type": "code",
   "execution_count": 24,
   "metadata": {},
   "outputs": [
    {
     "data": {
      "text/plain": [
       "[(1, 'N'),\n",
       " (2, 'S'),\n",
       " (3, 'W'),\n",
       " (4, 'E'),\n",
       " (5, 'N'),\n",
       " (6, 'S'),\n",
       " (7, 'W'),\n",
       " (8, 'E'),\n",
       " (9, 'N'),\n",
       " (10, 'S')]"
      ]
     },
     "execution_count": 24,
     "metadata": {},
     "output_type": "execute_result"
    }
   ],
   "source": [
    "list(zip(range(1, 11), 'NSWE' * 30))"
   ]
  },
  {
   "cell_type": "code",
   "execution_count": 27,
   "metadata": {},
   "outputs": [
    {
     "data": {
      "text/plain": [
       "['1N', '2S', '3W', '4E', '5N', '6S', '7W', '8E', '9N', '10S']"
      ]
     },
     "execution_count": 27,
     "metadata": {},
     "output_type": "execute_result"
    }
   ],
   "source": [
    "[str(number) + direction for number, direction \n",
    " in zip(range(1, +n +1), \"NSWE\" *( n // 4 + 1))]"
   ]
  },
  {
   "cell_type": "code",
   "execution_count": 28,
   "metadata": {},
   "outputs": [
    {
     "data": {
      "text/plain": [
       "['1N', '2S', '3W', '4E', '5N', '6S', '7W', '8E', '9N', '10S']"
      ]
     },
     "execution_count": 28,
     "metadata": {},
     "output_type": "execute_result"
    }
   ],
   "source": [
    "import itertools\n",
    "\n",
    "# has a cycle method ...\n",
    "\n",
    "n = 10\n",
    "\n",
    "iter_cycl = CyclicIterator('NSWE')\n",
    "\n",
    "[f'{i}{next(iter_cycl)}' for i in range(1, n+1)]"
   ]
  },
  {
   "cell_type": "code",
   "execution_count": 29,
   "metadata": {},
   "outputs": [
    {
     "data": {
      "text/plain": [
       "['1N', '2S', '3W', '4E', '5N', '6S', '7W', '8E', '9N', '10S']"
      ]
     },
     "execution_count": 29,
     "metadata": {},
     "output_type": "execute_result"
    }
   ],
   "source": [
    "n = 10\n",
    "\n",
    "iter_cycl = itertools.cycle('NSWE')\n",
    "[f'{i}{next(iter_cycl)}' for i in range(1, n+1)]"
   ]
  },
  {
   "cell_type": "code",
   "execution_count": 30,
   "metadata": {},
   "outputs": [
    {
     "name": "stdout",
     "output_type": "stream",
     "text": [
      "Help on built-in module itertools:\n",
      "\n",
      "NAME\n",
      "    itertools - Functional tools for creating and using iterators.\n",
      "\n",
      "DESCRIPTION\n",
      "    Infinite iterators:\n",
      "    count(start=0, step=1) --> start, start+step, start+2*step, ...\n",
      "    cycle(p) --> p0, p1, ... plast, p0, p1, ...\n",
      "    repeat(elem [,n]) --> elem, elem, elem, ... endlessly or up to n times\n",
      "    \n",
      "    Iterators terminating on the shortest input sequence:\n",
      "    accumulate(p[, func]) --> p0, p0+p1, p0+p1+p2\n",
      "    chain(p, q, ...) --> p0, p1, ... plast, q0, q1, ...\n",
      "    chain.from_iterable([p, q, ...]) --> p0, p1, ... plast, q0, q1, ...\n",
      "    compress(data, selectors) --> (d[0] if s[0]), (d[1] if s[1]), ...\n",
      "    dropwhile(pred, seq) --> seq[n], seq[n+1], starting when pred fails\n",
      "    groupby(iterable[, keyfunc]) --> sub-iterators grouped by value of keyfunc(v)\n",
      "    filterfalse(pred, seq) --> elements of seq where pred(elem) is False\n",
      "    islice(seq, [start,] stop [, step]) --> elements from\n",
      "           seq[start:stop:step]\n",
      "    pairwise(s) --> (s[0],s[1]), (s[1],s[2]), (s[2], s[3]), ...\n",
      "    starmap(fun, seq) --> fun(*seq[0]), fun(*seq[1]), ...\n",
      "    tee(it, n=2) --> (it1, it2 , ... itn) splits one iterator into n\n",
      "    takewhile(pred, seq) --> seq[0], seq[1], until pred fails\n",
      "    zip_longest(p, q, ...) --> (p[0], q[0]), (p[1], q[1]), ...\n",
      "    \n",
      "    Combinatoric generators:\n",
      "    product(p, q, ... [repeat=1]) --> cartesian product\n",
      "    permutations(p[, r])\n",
      "    combinations(p, r)\n",
      "    combinations_with_replacement(p, r)\n",
      "\n",
      "CLASSES\n",
      "    builtins.object\n",
      "        accumulate\n",
      "        chain\n",
      "        combinations\n",
      "        combinations_with_replacement\n",
      "        compress\n",
      "        count\n",
      "        cycle\n",
      "        dropwhile\n",
      "        filterfalse\n",
      "        groupby\n",
      "        islice\n",
      "        pairwise\n",
      "        permutations\n",
      "        product\n",
      "        repeat\n",
      "        starmap\n",
      "        takewhile\n",
      "        zip_longest\n",
      "    \n",
      "    class accumulate(builtins.object)\n",
      "     |  accumulate(iterable, func=None, *, initial=None)\n",
      "     |  \n",
      "     |  Return series of accumulated sums (or other binary function results).\n",
      "     |  \n",
      "     |  Methods defined here:\n",
      "     |  \n",
      "     |  __getattribute__(self, name, /)\n",
      "     |      Return getattr(self, name).\n",
      "     |  \n",
      "     |  __iter__(self, /)\n",
      "     |      Implement iter(self).\n",
      "     |  \n",
      "     |  __next__(self, /)\n",
      "     |      Implement next(self).\n",
      "     |  \n",
      "     |  __reduce__(...)\n",
      "     |      Return state information for pickling.\n",
      "     |  \n",
      "     |  __setstate__(...)\n",
      "     |      Set state information for unpickling.\n",
      "     |  \n",
      "     |  ----------------------------------------------------------------------\n",
      "     |  Static methods defined here:\n",
      "     |  \n",
      "     |  __new__(*args, **kwargs) from builtins.type\n",
      "     |      Create and return a new object.  See help(type) for accurate signature.\n",
      "    \n",
      "    class chain(builtins.object)\n",
      "     |  chain(*iterables) --> chain object\n",
      "     |  \n",
      "     |  Return a chain object whose .__next__() method returns elements from the\n",
      "     |  first iterable until it is exhausted, then elements from the next\n",
      "     |  iterable, until all of the iterables are exhausted.\n",
      "     |  \n",
      "     |  Methods defined here:\n",
      "     |  \n",
      "     |  __getattribute__(self, name, /)\n",
      "     |      Return getattr(self, name).\n",
      "     |  \n",
      "     |  __iter__(self, /)\n",
      "     |      Implement iter(self).\n",
      "     |  \n",
      "     |  __next__(self, /)\n",
      "     |      Implement next(self).\n",
      "     |  \n",
      "     |  __reduce__(...)\n",
      "     |      Return state information for pickling.\n",
      "     |  \n",
      "     |  __setstate__(...)\n",
      "     |      Set state information for unpickling.\n",
      "     |  \n",
      "     |  ----------------------------------------------------------------------\n",
      "     |  Class methods defined here:\n",
      "     |  \n",
      "     |  __class_getitem__(...) from builtins.type\n",
      "     |      See PEP 585\n",
      "     |  \n",
      "     |  from_iterable(iterable, /) from builtins.type\n",
      "     |      Alternative chain() constructor taking a single iterable argument that evaluates lazily.\n",
      "     |  \n",
      "     |  ----------------------------------------------------------------------\n",
      "     |  Static methods defined here:\n",
      "     |  \n",
      "     |  __new__(*args, **kwargs) from builtins.type\n",
      "     |      Create and return a new object.  See help(type) for accurate signature.\n",
      "    \n",
      "    class combinations(builtins.object)\n",
      "     |  combinations(iterable, r)\n",
      "     |  \n",
      "     |  Return successive r-length combinations of elements in the iterable.\n",
      "     |  \n",
      "     |  combinations(range(4), 3) --> (0,1,2), (0,1,3), (0,2,3), (1,2,3)\n",
      "     |  \n",
      "     |  Methods defined here:\n",
      "     |  \n",
      "     |  __getattribute__(self, name, /)\n",
      "     |      Return getattr(self, name).\n",
      "     |  \n",
      "     |  __iter__(self, /)\n",
      "     |      Implement iter(self).\n",
      "     |  \n",
      "     |  __next__(self, /)\n",
      "     |      Implement next(self).\n",
      "     |  \n",
      "     |  __reduce__(...)\n",
      "     |      Return state information for pickling.\n",
      "     |  \n",
      "     |  __setstate__(...)\n",
      "     |      Set state information for unpickling.\n",
      "     |  \n",
      "     |  __sizeof__(...)\n",
      "     |      Returns size in memory, in bytes.\n",
      "     |  \n",
      "     |  ----------------------------------------------------------------------\n",
      "     |  Static methods defined here:\n",
      "     |  \n",
      "     |  __new__(*args, **kwargs) from builtins.type\n",
      "     |      Create and return a new object.  See help(type) for accurate signature.\n",
      "    \n",
      "    class combinations_with_replacement(builtins.object)\n",
      "     |  combinations_with_replacement(iterable, r)\n",
      "     |  \n",
      "     |  Return successive r-length combinations of elements in the iterable allowing individual elements to have successive repeats.\n",
      "     |  \n",
      "     |  combinations_with_replacement('ABC', 2) --> ('A','A'), ('A','B'), ('A','C'), ('B','B'), ('B','C'), ('C','C')\n",
      "     |  \n",
      "     |  Methods defined here:\n",
      "     |  \n",
      "     |  __getattribute__(self, name, /)\n",
      "     |      Return getattr(self, name).\n",
      "     |  \n",
      "     |  __iter__(self, /)\n",
      "     |      Implement iter(self).\n",
      "     |  \n",
      "     |  __next__(self, /)\n",
      "     |      Implement next(self).\n",
      "     |  \n",
      "     |  __reduce__(...)\n",
      "     |      Return state information for pickling.\n",
      "     |  \n",
      "     |  __setstate__(...)\n",
      "     |      Set state information for unpickling.\n",
      "     |  \n",
      "     |  __sizeof__(...)\n",
      "     |      Returns size in memory, in bytes.\n",
      "     |  \n",
      "     |  ----------------------------------------------------------------------\n",
      "     |  Static methods defined here:\n",
      "     |  \n",
      "     |  __new__(*args, **kwargs) from builtins.type\n",
      "     |      Create and return a new object.  See help(type) for accurate signature.\n",
      "    \n",
      "    class compress(builtins.object)\n",
      "     |  compress(data, selectors)\n",
      "     |  \n",
      "     |  Return data elements corresponding to true selector elements.\n",
      "     |  \n",
      "     |  Forms a shorter iterator from selected data elements using the selectors to\n",
      "     |  choose the data elements.\n",
      "     |  \n",
      "     |  Methods defined here:\n",
      "     |  \n",
      "     |  __getattribute__(self, name, /)\n",
      "     |      Return getattr(self, name).\n",
      "     |  \n",
      "     |  __iter__(self, /)\n",
      "     |      Implement iter(self).\n",
      "     |  \n",
      "     |  __next__(self, /)\n",
      "     |      Implement next(self).\n",
      "     |  \n",
      "     |  __reduce__(...)\n",
      "     |      Return state information for pickling.\n",
      "     |  \n",
      "     |  ----------------------------------------------------------------------\n",
      "     |  Static methods defined here:\n",
      "     |  \n",
      "     |  __new__(*args, **kwargs) from builtins.type\n",
      "     |      Create and return a new object.  See help(type) for accurate signature.\n",
      "    \n",
      "    class count(builtins.object)\n",
      "     |  count(start=0, step=1)\n",
      "     |  \n",
      "     |  Return a count object whose .__next__() method returns consecutive values.\n",
      "     |  \n",
      "     |  Equivalent to:\n",
      "     |      def count(firstval=0, step=1):\n",
      "     |          x = firstval\n",
      "     |          while 1:\n",
      "     |              yield x\n",
      "     |              x += step\n",
      "     |  \n",
      "     |  Methods defined here:\n",
      "     |  \n",
      "     |  __getattribute__(self, name, /)\n",
      "     |      Return getattr(self, name).\n",
      "     |  \n",
      "     |  __iter__(self, /)\n",
      "     |      Implement iter(self).\n",
      "     |  \n",
      "     |  __next__(self, /)\n",
      "     |      Implement next(self).\n",
      "     |  \n",
      "     |  __reduce__(...)\n",
      "     |      Return state information for pickling.\n",
      "     |  \n",
      "     |  __repr__(self, /)\n",
      "     |      Return repr(self).\n",
      "     |  \n",
      "     |  ----------------------------------------------------------------------\n",
      "     |  Static methods defined here:\n",
      "     |  \n",
      "     |  __new__(*args, **kwargs) from builtins.type\n",
      "     |      Create and return a new object.  See help(type) for accurate signature.\n",
      "    \n",
      "    class cycle(builtins.object)\n",
      "     |  cycle(iterable, /)\n",
      "     |  \n",
      "     |  Return elements from the iterable until it is exhausted. Then repeat the sequence indefinitely.\n",
      "     |  \n",
      "     |  Methods defined here:\n",
      "     |  \n",
      "     |  __getattribute__(self, name, /)\n",
      "     |      Return getattr(self, name).\n",
      "     |  \n",
      "     |  __iter__(self, /)\n",
      "     |      Implement iter(self).\n",
      "     |  \n",
      "     |  __next__(self, /)\n",
      "     |      Implement next(self).\n",
      "     |  \n",
      "     |  __reduce__(...)\n",
      "     |      Return state information for pickling.\n",
      "     |  \n",
      "     |  __setstate__(...)\n",
      "     |      Set state information for unpickling.\n",
      "     |  \n",
      "     |  ----------------------------------------------------------------------\n",
      "     |  Static methods defined here:\n",
      "     |  \n",
      "     |  __new__(*args, **kwargs) from builtins.type\n",
      "     |      Create and return a new object.  See help(type) for accurate signature.\n",
      "    \n",
      "    class dropwhile(builtins.object)\n",
      "     |  dropwhile(predicate, iterable, /)\n",
      "     |  \n",
      "     |  Drop items from the iterable while predicate(item) is true.\n",
      "     |  \n",
      "     |  Afterwards, return every element until the iterable is exhausted.\n",
      "     |  \n",
      "     |  Methods defined here:\n",
      "     |  \n",
      "     |  __getattribute__(self, name, /)\n",
      "     |      Return getattr(self, name).\n",
      "     |  \n",
      "     |  __iter__(self, /)\n",
      "     |      Implement iter(self).\n",
      "     |  \n",
      "     |  __next__(self, /)\n",
      "     |      Implement next(self).\n",
      "     |  \n",
      "     |  __reduce__(...)\n",
      "     |      Return state information for pickling.\n",
      "     |  \n",
      "     |  __setstate__(...)\n",
      "     |      Set state information for unpickling.\n",
      "     |  \n",
      "     |  ----------------------------------------------------------------------\n",
      "     |  Static methods defined here:\n",
      "     |  \n",
      "     |  __new__(*args, **kwargs) from builtins.type\n",
      "     |      Create and return a new object.  See help(type) for accurate signature.\n",
      "    \n",
      "    class filterfalse(builtins.object)\n",
      "     |  filterfalse(function, iterable, /)\n",
      "     |  \n",
      "     |  Return those items of iterable for which function(item) is false.\n",
      "     |  \n",
      "     |  If function is None, return the items that are false.\n",
      "     |  \n",
      "     |  Methods defined here:\n",
      "     |  \n",
      "     |  __getattribute__(self, name, /)\n",
      "     |      Return getattr(self, name).\n",
      "     |  \n",
      "     |  __iter__(self, /)\n",
      "     |      Implement iter(self).\n",
      "     |  \n",
      "     |  __next__(self, /)\n",
      "     |      Implement next(self).\n",
      "     |  \n",
      "     |  __reduce__(...)\n",
      "     |      Return state information for pickling.\n",
      "     |  \n",
      "     |  ----------------------------------------------------------------------\n",
      "     |  Static methods defined here:\n",
      "     |  \n",
      "     |  __new__(*args, **kwargs) from builtins.type\n",
      "     |      Create and return a new object.  See help(type) for accurate signature.\n",
      "    \n",
      "    class groupby(builtins.object)\n",
      "     |  groupby(iterable, key=None)\n",
      "     |  \n",
      "     |  make an iterator that returns consecutive keys and groups from the iterable\n",
      "     |  \n",
      "     |  iterable\n",
      "     |    Elements to divide into groups according to the key function.\n",
      "     |  key\n",
      "     |    A function for computing the group category for each element.\n",
      "     |    If the key function is not specified or is None, the element itself\n",
      "     |    is used for grouping.\n",
      "     |  \n",
      "     |  Methods defined here:\n",
      "     |  \n",
      "     |  __getattribute__(self, name, /)\n",
      "     |      Return getattr(self, name).\n",
      "     |  \n",
      "     |  __iter__(self, /)\n",
      "     |      Implement iter(self).\n",
      "     |  \n",
      "     |  __next__(self, /)\n",
      "     |      Implement next(self).\n",
      "     |  \n",
      "     |  __reduce__(...)\n",
      "     |      Return state information for pickling.\n",
      "     |  \n",
      "     |  __setstate__(...)\n",
      "     |      Set state information for unpickling.\n",
      "     |  \n",
      "     |  ----------------------------------------------------------------------\n",
      "     |  Static methods defined here:\n",
      "     |  \n",
      "     |  __new__(*args, **kwargs) from builtins.type\n",
      "     |      Create and return a new object.  See help(type) for accurate signature.\n",
      "    \n",
      "    class islice(builtins.object)\n",
      "     |  islice(iterable, stop) --> islice object\n",
      "     |  islice(iterable, start, stop[, step]) --> islice object\n",
      "     |  \n",
      "     |  Return an iterator whose next() method returns selected values from an\n",
      "     |  iterable.  If start is specified, will skip all preceding elements;\n",
      "     |  otherwise, start defaults to zero.  Step defaults to one.  If\n",
      "     |  specified as another value, step determines how many values are\n",
      "     |  skipped between successive calls.  Works like a slice() on a list\n",
      "     |  but returns an iterator.\n",
      "     |  \n",
      "     |  Methods defined here:\n",
      "     |  \n",
      "     |  __getattribute__(self, name, /)\n",
      "     |      Return getattr(self, name).\n",
      "     |  \n",
      "     |  __iter__(self, /)\n",
      "     |      Implement iter(self).\n",
      "     |  \n",
      "     |  __next__(self, /)\n",
      "     |      Implement next(self).\n",
      "     |  \n",
      "     |  __reduce__(...)\n",
      "     |      Return state information for pickling.\n",
      "     |  \n",
      "     |  __setstate__(...)\n",
      "     |      Set state information for unpickling.\n",
      "     |  \n",
      "     |  ----------------------------------------------------------------------\n",
      "     |  Static methods defined here:\n",
      "     |  \n",
      "     |  __new__(*args, **kwargs) from builtins.type\n",
      "     |      Create and return a new object.  See help(type) for accurate signature.\n",
      "    \n",
      "    class pairwise(builtins.object)\n",
      "     |  pairwise(iterable, /)\n",
      "     |  \n",
      "     |  Return an iterator of overlapping pairs taken from the input iterator.\n",
      "     |  \n",
      "     |  s -> (s0,s1), (s1,s2), (s2, s3), ...\n",
      "     |  \n",
      "     |  Methods defined here:\n",
      "     |  \n",
      "     |  __getattribute__(self, name, /)\n",
      "     |      Return getattr(self, name).\n",
      "     |  \n",
      "     |  __iter__(self, /)\n",
      "     |      Implement iter(self).\n",
      "     |  \n",
      "     |  __next__(self, /)\n",
      "     |      Implement next(self).\n",
      "     |  \n",
      "     |  ----------------------------------------------------------------------\n",
      "     |  Static methods defined here:\n",
      "     |  \n",
      "     |  __new__(*args, **kwargs) from builtins.type\n",
      "     |      Create and return a new object.  See help(type) for accurate signature.\n",
      "    \n",
      "    class permutations(builtins.object)\n",
      "     |  permutations(iterable, r=None)\n",
      "     |  \n",
      "     |  Return successive r-length permutations of elements in the iterable.\n",
      "     |  \n",
      "     |  permutations(range(3), 2) --> (0,1), (0,2), (1,0), (1,2), (2,0), (2,1)\n",
      "     |  \n",
      "     |  Methods defined here:\n",
      "     |  \n",
      "     |  __getattribute__(self, name, /)\n",
      "     |      Return getattr(self, name).\n",
      "     |  \n",
      "     |  __iter__(self, /)\n",
      "     |      Implement iter(self).\n",
      "     |  \n",
      "     |  __next__(self, /)\n",
      "     |      Implement next(self).\n",
      "     |  \n",
      "     |  __reduce__(...)\n",
      "     |      Return state information for pickling.\n",
      "     |  \n",
      "     |  __setstate__(...)\n",
      "     |      Set state information for unpickling.\n",
      "     |  \n",
      "     |  __sizeof__(...)\n",
      "     |      Returns size in memory, in bytes.\n",
      "     |  \n",
      "     |  ----------------------------------------------------------------------\n",
      "     |  Static methods defined here:\n",
      "     |  \n",
      "     |  __new__(*args, **kwargs) from builtins.type\n",
      "     |      Create and return a new object.  See help(type) for accurate signature.\n",
      "    \n",
      "    class product(builtins.object)\n",
      "     |  product(*iterables, repeat=1) --> product object\n",
      "     |  \n",
      "     |  Cartesian product of input iterables.  Equivalent to nested for-loops.\n",
      "     |  \n",
      "     |  For example, product(A, B) returns the same as:  ((x,y) for x in A for y in B).\n",
      "     |  The leftmost iterators are in the outermost for-loop, so the output tuples\n",
      "     |  cycle in a manner similar to an odometer (with the rightmost element changing\n",
      "     |  on every iteration).\n",
      "     |  \n",
      "     |  To compute the product of an iterable with itself, specify the number\n",
      "     |  of repetitions with the optional repeat keyword argument. For example,\n",
      "     |  product(A, repeat=4) means the same as product(A, A, A, A).\n",
      "     |  \n",
      "     |  product('ab', range(3)) --> ('a',0) ('a',1) ('a',2) ('b',0) ('b',1) ('b',2)\n",
      "     |  product((0,1), (0,1), (0,1)) --> (0,0,0) (0,0,1) (0,1,0) (0,1,1) (1,0,0) ...\n",
      "     |  \n",
      "     |  Methods defined here:\n",
      "     |  \n",
      "     |  __getattribute__(self, name, /)\n",
      "     |      Return getattr(self, name).\n",
      "     |  \n",
      "     |  __iter__(self, /)\n",
      "     |      Implement iter(self).\n",
      "     |  \n",
      "     |  __next__(self, /)\n",
      "     |      Implement next(self).\n",
      "     |  \n",
      "     |  __reduce__(...)\n",
      "     |      Return state information for pickling.\n",
      "     |  \n",
      "     |  __setstate__(...)\n",
      "     |      Set state information for unpickling.\n",
      "     |  \n",
      "     |  __sizeof__(...)\n",
      "     |      Returns size in memory, in bytes.\n",
      "     |  \n",
      "     |  ----------------------------------------------------------------------\n",
      "     |  Static methods defined here:\n",
      "     |  \n",
      "     |  __new__(*args, **kwargs) from builtins.type\n",
      "     |      Create and return a new object.  See help(type) for accurate signature.\n",
      "    \n",
      "    class repeat(builtins.object)\n",
      "     |  repeat(object [,times]) -> create an iterator which returns the object\n",
      "     |  for the specified number of times.  If not specified, returns the object\n",
      "     |  endlessly.\n",
      "     |  \n",
      "     |  Methods defined here:\n",
      "     |  \n",
      "     |  __getattribute__(self, name, /)\n",
      "     |      Return getattr(self, name).\n",
      "     |  \n",
      "     |  __iter__(self, /)\n",
      "     |      Implement iter(self).\n",
      "     |  \n",
      "     |  __length_hint__(...)\n",
      "     |      Private method returning an estimate of len(list(it)).\n",
      "     |  \n",
      "     |  __next__(self, /)\n",
      "     |      Implement next(self).\n",
      "     |  \n",
      "     |  __reduce__(...)\n",
      "     |      Return state information for pickling.\n",
      "     |  \n",
      "     |  __repr__(self, /)\n",
      "     |      Return repr(self).\n",
      "     |  \n",
      "     |  ----------------------------------------------------------------------\n",
      "     |  Static methods defined here:\n",
      "     |  \n",
      "     |  __new__(*args, **kwargs) from builtins.type\n",
      "     |      Create and return a new object.  See help(type) for accurate signature.\n",
      "    \n",
      "    class starmap(builtins.object)\n",
      "     |  starmap(function, iterable, /)\n",
      "     |  \n",
      "     |  Return an iterator whose values are returned from the function evaluated with an argument tuple taken from the given sequence.\n",
      "     |  \n",
      "     |  Methods defined here:\n",
      "     |  \n",
      "     |  __getattribute__(self, name, /)\n",
      "     |      Return getattr(self, name).\n",
      "     |  \n",
      "     |  __iter__(self, /)\n",
      "     |      Implement iter(self).\n",
      "     |  \n",
      "     |  __next__(self, /)\n",
      "     |      Implement next(self).\n",
      "     |  \n",
      "     |  __reduce__(...)\n",
      "     |      Return state information for pickling.\n",
      "     |  \n",
      "     |  ----------------------------------------------------------------------\n",
      "     |  Static methods defined here:\n",
      "     |  \n",
      "     |  __new__(*args, **kwargs) from builtins.type\n",
      "     |      Create and return a new object.  See help(type) for accurate signature.\n",
      "    \n",
      "    class takewhile(builtins.object)\n",
      "     |  takewhile(predicate, iterable, /)\n",
      "     |  \n",
      "     |  Return successive entries from an iterable as long as the predicate evaluates to true for each entry.\n",
      "     |  \n",
      "     |  Methods defined here:\n",
      "     |  \n",
      "     |  __getattribute__(self, name, /)\n",
      "     |      Return getattr(self, name).\n",
      "     |  \n",
      "     |  __iter__(self, /)\n",
      "     |      Implement iter(self).\n",
      "     |  \n",
      "     |  __next__(self, /)\n",
      "     |      Implement next(self).\n",
      "     |  \n",
      "     |  __reduce__(...)\n",
      "     |      Return state information for pickling.\n",
      "     |  \n",
      "     |  __setstate__(...)\n",
      "     |      Set state information for unpickling.\n",
      "     |  \n",
      "     |  ----------------------------------------------------------------------\n",
      "     |  Static methods defined here:\n",
      "     |  \n",
      "     |  __new__(*args, **kwargs) from builtins.type\n",
      "     |      Create and return a new object.  See help(type) for accurate signature.\n",
      "    \n",
      "    class zip_longest(builtins.object)\n",
      "     |  zip_longest(iter1 [,iter2 [...]], [fillvalue=None]) --> zip_longest object\n",
      "     |  \n",
      "     |  Return a zip_longest object whose .__next__() method returns a tuple where\n",
      "     |  the i-th element comes from the i-th iterable argument.  The .__next__()\n",
      "     |  method continues until the longest iterable in the argument sequence\n",
      "     |  is exhausted and then it raises StopIteration.  When the shorter iterables\n",
      "     |  are exhausted, the fillvalue is substituted in their place.  The fillvalue\n",
      "     |  defaults to None or can be specified by a keyword argument.\n",
      "     |  \n",
      "     |  Methods defined here:\n",
      "     |  \n",
      "     |  __getattribute__(self, name, /)\n",
      "     |      Return getattr(self, name).\n",
      "     |  \n",
      "     |  __iter__(self, /)\n",
      "     |      Implement iter(self).\n",
      "     |  \n",
      "     |  __next__(self, /)\n",
      "     |      Implement next(self).\n",
      "     |  \n",
      "     |  __reduce__(...)\n",
      "     |      Return state information for pickling.\n",
      "     |  \n",
      "     |  __setstate__(...)\n",
      "     |      Set state information for unpickling.\n",
      "     |  \n",
      "     |  ----------------------------------------------------------------------\n",
      "     |  Static methods defined here:\n",
      "     |  \n",
      "     |  __new__(*args, **kwargs) from builtins.type\n",
      "     |      Create and return a new object.  See help(type) for accurate signature.\n",
      "\n",
      "FUNCTIONS\n",
      "    tee(iterable, n=2, /)\n",
      "        Returns a tuple of n independent iterators.\n",
      "\n",
      "FILE\n",
      "    (built-in)\n",
      "\n",
      "\n"
     ]
    }
   ],
   "source": [
    "help(itertools)"
   ]
  },
  {
   "cell_type": "code",
   "execution_count": 31,
   "metadata": {},
   "outputs": [],
   "source": [
    "s = {100, 'a', 'X', 'x', 200}"
   ]
  },
  {
   "cell_type": "code",
   "execution_count": 32,
   "metadata": {},
   "outputs": [
    {
     "data": {
      "text/plain": [
       "['x', 100, 200, 'X', 'a']"
      ]
     },
     "execution_count": 32,
     "metadata": {},
     "output_type": "execute_result"
    }
   ],
   "source": [
    "list(s)"
   ]
  },
  {
   "cell_type": "code",
   "execution_count": 33,
   "metadata": {},
   "outputs": [
    {
     "data": {
      "text/plain": [
       "['x', 100, 200, 'X', 'a']"
      ]
     },
     "execution_count": 33,
     "metadata": {},
     "output_type": "execute_result"
    }
   ],
   "source": [
    "list(s)"
   ]
  },
  {
   "cell_type": "code",
   "execution_count": 34,
   "metadata": {},
   "outputs": [],
   "source": [
    "class CyclicIterator:\n",
    "    def __init__(self, iterable):\n",
    "        self.iterable = iterable \n",
    "          \n",
    "        \n",
    "    def __iter__(self):\n",
    "        return self \n",
    "    \n",
    "    def __next__(self):\n",
    "        iterator = iter(self.iterable)\n",
    "        item = next(iterator)\n",
    "        return item\n",
    "        \n",
    "         "
   ]
  },
  {
   "cell_type": "code",
   "execution_count": 35,
   "metadata": {},
   "outputs": [],
   "source": [
    "iter_cycl = CyclicIterator('abc')"
   ]
  },
  {
   "cell_type": "code",
   "execution_count": 36,
   "metadata": {},
   "outputs": [
    {
     "name": "stdout",
     "output_type": "stream",
     "text": [
      "0 a\n",
      "1 a\n",
      "2 a\n",
      "3 a\n",
      "4 a\n"
     ]
    }
   ],
   "source": [
    "for i in range(5):\n",
    "    print(i, next(iter_cycl))"
   ]
  },
  {
   "cell_type": "code",
   "execution_count": 48,
   "metadata": {},
   "outputs": [],
   "source": [
    "class CyclicIterator:\n",
    "    def __init__(self, iterable):\n",
    "        self.iterable = iterable \n",
    "        self.iterator = iter(self.iterable)\n",
    "          \n",
    "        \n",
    "    def __iter__(self):\n",
    "        return self \n",
    "    \n",
    "    def __next__(self):\n",
    "        try:\n",
    "            item = next(self.iterator)\n",
    "            return item\n",
    "        except StopIteration:\n",
    "            self.iterator = iter(self.iterable)\n",
    "        "
   ]
  },
  {
   "cell_type": "code",
   "execution_count": 49,
   "metadata": {},
   "outputs": [],
   "source": [
    "iter_cycl = CyclicIterator('abc')"
   ]
  },
  {
   "cell_type": "code",
   "execution_count": 50,
   "metadata": {},
   "outputs": [
    {
     "name": "stdout",
     "output_type": "stream",
     "text": [
      "0 a\n",
      "1 b\n",
      "2 c\n",
      "3 None\n",
      "4 a\n",
      "5 b\n",
      "6 c\n",
      "7 None\n",
      "8 a\n",
      "9 b\n"
     ]
    }
   ],
   "source": [
    "for i in range(10):\n",
    "    print(i, next(iter_cycl))"
   ]
  },
  {
   "cell_type": "code",
   "execution_count": 51,
   "metadata": {},
   "outputs": [],
   "source": [
    "class CyclicIterator:\n",
    "    def __init__(self, iterable):\n",
    "        self.iterable = iterable \n",
    "        self.iterator = iter(self.iterable)\n",
    "          \n",
    "        \n",
    "    def __iter__(self):\n",
    "        return self \n",
    "    \n",
    "    def __next__(self):\n",
    "        try:\n",
    "            item = next(self.iterator)\n",
    "            \n",
    "        except StopIteration:\n",
    "            self.iterator = iter(self.iterable)\n",
    "            item = next(self.iterator)\n",
    "        finally:\n",
    "            return item"
   ]
  },
  {
   "cell_type": "code",
   "execution_count": 52,
   "metadata": {},
   "outputs": [],
   "source": [
    "iter_cycl = CyclicIterator('abc')"
   ]
  },
  {
   "cell_type": "code",
   "execution_count": 53,
   "metadata": {},
   "outputs": [
    {
     "name": "stdout",
     "output_type": "stream",
     "text": [
      "0 a\n",
      "1 b\n",
      "2 c\n",
      "3 a\n",
      "4 b\n",
      "5 c\n",
      "6 a\n",
      "7 b\n",
      "8 c\n",
      "9 a\n"
     ]
    }
   ],
   "source": [
    "for i in range(10):\n",
    "    print(i, next(iter_cycl))"
   ]
  },
  {
   "cell_type": "markdown",
   "metadata": {},
   "source": [
    "# Lazy Iterable .. Lazy evaluation ... value prpperty becomes .. class Actor : def __init__(self, actor ): self. actor , bio, movies .. def movies(self): if self.movies is None: sel.fmoves "
   ]
  },
  {
   "cell_type": "code",
   "execution_count": 54,
   "metadata": {},
   "outputs": [],
   "source": [
    "import math"
   ]
  },
  {
   "cell_type": "code",
   "execution_count": 55,
   "metadata": {},
   "outputs": [],
   "source": [
    "class Circle:\n",
    "    def __init__(self, r) -> None:\n",
    "        self.radius = r \n",
    "        \n",
    "    @property\n",
    "    def radius(self):\n",
    "        return self._radius\n",
    "    \n",
    "    @radius.setter\n",
    "    def radius(self, r):\n",
    "        self._radius = r\n",
    "        self.area = math.pi * (r **2)"
   ]
  },
  {
   "cell_type": "code",
   "execution_count": 56,
   "metadata": {},
   "outputs": [],
   "source": [
    "c = Circle(1)"
   ]
  },
  {
   "cell_type": "code",
   "execution_count": 57,
   "metadata": {},
   "outputs": [
    {
     "data": {
      "text/plain": [
       "1"
      ]
     },
     "execution_count": 57,
     "metadata": {},
     "output_type": "execute_result"
    }
   ],
   "source": [
    "c.radius"
   ]
  },
  {
   "cell_type": "code",
   "execution_count": 58,
   "metadata": {},
   "outputs": [
    {
     "data": {
      "text/plain": [
       "3.141592653589793"
      ]
     },
     "execution_count": 58,
     "metadata": {},
     "output_type": "execute_result"
    }
   ],
   "source": [
    "c.area"
   ]
  },
  {
   "cell_type": "code",
   "execution_count": 59,
   "metadata": {},
   "outputs": [
    {
     "ename": "TypeError",
     "evalue": "'int' object is not callable",
     "output_type": "error",
     "traceback": [
      "\u001b[0;31m---------------------------------------------------------------------------\u001b[0m",
      "\u001b[0;31mTypeError\u001b[0m                                 Traceback (most recent call last)",
      "Cell \u001b[0;32mIn [59], line 1\u001b[0m\n\u001b[0;32m----> 1\u001b[0m c\u001b[39m.\u001b[39;49mradius(\u001b[39m5\u001b[39;49m)\n",
      "\u001b[0;31mTypeError\u001b[0m: 'int' object is not callable"
     ]
    }
   ],
   "source": [
    "c.radius(5)"
   ]
  },
  {
   "cell_type": "code",
   "execution_count": 68,
   "metadata": {},
   "outputs": [],
   "source": [
    "class Circle:\n",
    "    def __init__(self, r) -> None:\n",
    "        self.radius = r \n",
    "        \n",
    "    @property\n",
    "    def radius(self):\n",
    "        return self._radius\n",
    "    \n",
    "    @radius.setter\n",
    "    def radius(self, r):\n",
    "        self._radius = r\n",
    " \n",
    "    @property\n",
    "    def area(self):\n",
    "        print('Calculationg area ...')\n",
    "        return math.pi * (self.radius ** 2)"
   ]
  },
  {
   "cell_type": "code",
   "execution_count": 69,
   "metadata": {},
   "outputs": [],
   "source": [
    "c = Circle(1)"
   ]
  },
  {
   "cell_type": "code",
   "execution_count": 70,
   "metadata": {},
   "outputs": [
    {
     "name": "stdout",
     "output_type": "stream",
     "text": [
      "Calculationg area ...\n"
     ]
    },
    {
     "data": {
      "text/plain": [
       "3.141592653589793"
      ]
     },
     "execution_count": 70,
     "metadata": {},
     "output_type": "execute_result"
    }
   ],
   "source": [
    "c.area"
   ]
  },
  {
   "cell_type": "code",
   "execution_count": 71,
   "metadata": {},
   "outputs": [],
   "source": [
    "c.radius=2"
   ]
  },
  {
   "cell_type": "code",
   "execution_count": 72,
   "metadata": {},
   "outputs": [
    {
     "name": "stdout",
     "output_type": "stream",
     "text": [
      "Calculationg area ...\n"
     ]
    },
    {
     "data": {
      "text/plain": [
       "12.566370614359172"
      ]
     },
     "execution_count": 72,
     "metadata": {},
     "output_type": "execute_result"
    }
   ],
   "source": [
    "c.area"
   ]
  },
  {
   "cell_type": "code",
   "execution_count": 73,
   "metadata": {},
   "outputs": [
    {
     "name": "stdout",
     "output_type": "stream",
     "text": [
      "Calculationg area ...\n"
     ]
    },
    {
     "data": {
      "text/plain": [
       "12.566370614359172"
      ]
     },
     "execution_count": 73,
     "metadata": {},
     "output_type": "execute_result"
    }
   ],
   "source": [
    "c.area"
   ]
  },
  {
   "cell_type": "code",
   "execution_count": 74,
   "metadata": {},
   "outputs": [
    {
     "name": "stdout",
     "output_type": "stream",
     "text": [
      "Calculationg area ...\n"
     ]
    },
    {
     "data": {
      "text/plain": [
       "12.566370614359172"
      ]
     },
     "execution_count": 74,
     "metadata": {},
     "output_type": "execute_result"
    }
   ],
   "source": [
    "c.area"
   ]
  },
  {
   "cell_type": "code",
   "execution_count": 80,
   "metadata": {},
   "outputs": [],
   "source": [
    "class Circle:\n",
    "    def __init__(self, r) -> None:\n",
    "        self.radius = r \n",
    "        self._area = None\n",
    "        \n",
    "    @property\n",
    "    def radius(self):\n",
    "        return self._radius\n",
    "    \n",
    "    @radius.setter\n",
    "    def radius(self, r):\n",
    "        self._radius = r\n",
    "        self._area = None\n",
    " \n",
    "    @property\n",
    "    def area(self):\n",
    "        \n",
    "        if self._area is None:\n",
    "            print(\"calculating the area .. \")\n",
    "            self._area = math.pi * (self.radius ** 2)\n",
    "        return self._area \n",
    "    "
   ]
  },
  {
   "cell_type": "code",
   "execution_count": 81,
   "metadata": {},
   "outputs": [
    {
     "data": {
      "text/plain": [
       "__main__.Circle"
      ]
     },
     "execution_count": 81,
     "metadata": {},
     "output_type": "execute_result"
    }
   ],
   "source": [
    "Circle"
   ]
  },
  {
   "cell_type": "code",
   "execution_count": 82,
   "metadata": {},
   "outputs": [],
   "source": [
    "c = Circle(1)"
   ]
  },
  {
   "cell_type": "code",
   "execution_count": 83,
   "metadata": {},
   "outputs": [
    {
     "name": "stdout",
     "output_type": "stream",
     "text": [
      "calculating the area .. \n"
     ]
    },
    {
     "data": {
      "text/plain": [
       "3.141592653589793"
      ]
     },
     "execution_count": 83,
     "metadata": {},
     "output_type": "execute_result"
    }
   ],
   "source": [
    "c.area"
   ]
  },
  {
   "cell_type": "code",
   "execution_count": 84,
   "metadata": {},
   "outputs": [
    {
     "data": {
      "text/plain": [
       "3.141592653589793"
      ]
     },
     "execution_count": 84,
     "metadata": {},
     "output_type": "execute_result"
    }
   ],
   "source": [
    "c.area"
   ]
  },
  {
   "cell_type": "code",
   "execution_count": 85,
   "metadata": {},
   "outputs": [],
   "source": [
    "c.radius = 2"
   ]
  },
  {
   "cell_type": "code",
   "execution_count": 86,
   "metadata": {},
   "outputs": [
    {
     "name": "stdout",
     "output_type": "stream",
     "text": [
      "calculating the area .. \n"
     ]
    },
    {
     "data": {
      "text/plain": [
       "12.566370614359172"
      ]
     },
     "execution_count": 86,
     "metadata": {},
     "output_type": "execute_result"
    }
   ],
   "source": [
    "c.area"
   ]
  },
  {
   "cell_type": "code",
   "execution_count": 87,
   "metadata": {},
   "outputs": [],
   "source": [
    "class Factorials:\n",
    "    def __init__(self, length) -> None:\n",
    "        self.length = length\n",
    "        \n",
    "    def __iter__(self):\n",
    "        return self.FactIter(self.length)\n",
    "        \n",
    "        \n",
    "    class FactIter:\n",
    "        def __init__(self, length):\n",
    "            self.length =length \n",
    "            self.i = 0\n",
    "            \n",
    "        def __iter__(self):\n",
    "            return self \n",
    "        \n",
    "        def __next__(self):\n",
    "            if self.i >= self.length:\n",
    "                raise StopIteration\n",
    "            else:\n",
    "                result = math.factorial(self.i)\n",
    "                self.i +=1\n",
    "                return result \n",
    "                "
   ]
  },
  {
   "cell_type": "code",
   "execution_count": 88,
   "metadata": {},
   "outputs": [],
   "source": [
    "facts = Factorials(5)"
   ]
  },
  {
   "cell_type": "code",
   "execution_count": 89,
   "metadata": {},
   "outputs": [
    {
     "data": {
      "text/plain": [
       "[1, 1, 2, 6, 24]"
      ]
     },
     "execution_count": 89,
     "metadata": {},
     "output_type": "execute_result"
    }
   ],
   "source": [
    "list(facts)"
   ]
  },
  {
   "cell_type": "code",
   "execution_count": 94,
   "metadata": {},
   "outputs": [],
   "source": [
    "class Factorials:\n",
    " \n",
    "        \n",
    "    def __iter__(self):\n",
    "        return self.FactIter()\n",
    "        \n",
    "        \n",
    "    class FactIter:\n",
    "        def __init__(self):\n",
    "            self.i = 0\n",
    "            \n",
    "        def __iter__(self):\n",
    "            return self \n",
    "        \n",
    "        def __next__(self):\n",
    "                result = math.factorial(self.i)\n",
    "                self.i +=1\n",
    "                return result \n",
    "                "
   ]
  },
  {
   "cell_type": "code",
   "execution_count": 95,
   "metadata": {},
   "outputs": [],
   "source": [
    "facts = Factorials()"
   ]
  },
  {
   "cell_type": "code",
   "execution_count": 96,
   "metadata": {},
   "outputs": [],
   "source": [
    "facts_iter = iter(facts)"
   ]
  },
  {
   "cell_type": "code",
   "execution_count": 97,
   "metadata": {},
   "outputs": [
    {
     "data": {
      "text/plain": [
       "1"
      ]
     },
     "execution_count": 97,
     "metadata": {},
     "output_type": "execute_result"
    }
   ],
   "source": [
    "next(facts_iter)"
   ]
  },
  {
   "cell_type": "code",
   "execution_count": 98,
   "metadata": {},
   "outputs": [
    {
     "data": {
      "text/plain": [
       "1"
      ]
     },
     "execution_count": 98,
     "metadata": {},
     "output_type": "execute_result"
    }
   ],
   "source": [
    "next(facts_iter)"
   ]
  },
  {
   "cell_type": "markdown",
   "metadata": {},
   "source": [
    "# Pythong iteraablosl .. iterabos iterotsr . \n",
    "\n",
    "\n",
    "1. lazy evluaton .. iterteros .. \n",
    "2. iterator or iterable .. repstr ... iteraboel returs a new itetorort .. itrtor return iteself. .."
   ]
  },
  {
   "cell_type": "markdown",
   "metadata": {},
   "source": [
    "# raange is iterable\n",
    "# zip .. iteterator \n",
    "# enumeate .. itertor \n",
    "# opoen .. iterator \n",
    "# dictionary .. iterator ..\n",
    "# dictionrar keys iterabel , vlaues , item sare iterable .. "
   ]
  },
  {
   "cell_type": "code",
   "execution_count": 100,
   "metadata": {},
   "outputs": [],
   "source": [
    "r = range(10)"
   ]
  },
  {
   "cell_type": "code",
   "execution_count": 101,
   "metadata": {},
   "outputs": [
    {
     "data": {
      "text/plain": [
       "range(0, 10)"
      ]
     },
     "execution_count": 101,
     "metadata": {},
     "output_type": "execute_result"
    }
   ],
   "source": [
    "r"
   ]
  },
  {
   "cell_type": "code",
   "execution_count": 102,
   "metadata": {},
   "outputs": [
    {
     "data": {
      "text/plain": [
       "range"
      ]
     },
     "execution_count": 102,
     "metadata": {},
     "output_type": "execute_result"
    }
   ],
   "source": [
    "type(r)"
   ]
  },
  {
   "cell_type": "code",
   "execution_count": 103,
   "metadata": {},
   "outputs": [
    {
     "data": {
      "text/plain": [
       "True"
      ]
     },
     "execution_count": 103,
     "metadata": {},
     "output_type": "execute_result"
    }
   ],
   "source": [
    "'__iter__' in dir(r) # ..> "
   ]
  },
  {
   "cell_type": "code",
   "execution_count": 105,
   "metadata": {},
   "outputs": [
    {
     "data": {
      "text/plain": [
       "False"
      ]
     },
     "execution_count": 105,
     "metadata": {},
     "output_type": "execute_result"
    }
   ],
   "source": [
    "'__next__' in dir(r) # ...> is not iterator .. soi it is a iterable ."
   ]
  },
  {
   "cell_type": "code",
   "execution_count": 106,
   "metadata": {},
   "outputs": [
    {
     "data": {
      "text/plain": [
       "<range_iterator at 0x113820c30>"
      ]
     },
     "execution_count": 106,
     "metadata": {},
     "output_type": "execute_result"
    }
   ],
   "source": [
    "iter(r)"
   ]
  },
  {
   "cell_type": "code",
   "execution_count": 107,
   "metadata": {},
   "outputs": [
    {
     "name": "stdout",
     "output_type": "stream",
     "text": [
      "0\n",
      "1\n",
      "2\n",
      "3\n",
      "4\n",
      "5\n",
      "6\n",
      "7\n",
      "8\n",
      "9\n"
     ]
    }
   ],
   "source": [
    "for num in r:\n",
    "    print(num)"
   ]
  },
  {
   "cell_type": "code",
   "execution_count": 108,
   "metadata": {},
   "outputs": [
    {
     "data": {
      "text/plain": [
       "[0, 1, 2, 3, 4, 5, 6, 7, 8, 9]"
      ]
     },
     "execution_count": 108,
     "metadata": {},
     "output_type": "execute_result"
    }
   ],
   "source": [
    "[num for num in r]"
   ]
  },
  {
   "cell_type": "code",
   "execution_count": 109,
   "metadata": {},
   "outputs": [],
   "source": [
    "# zip ... return an iterator \n",
    "\n",
    "z = zip([1,2,3], 'abc')"
   ]
  },
  {
   "cell_type": "code",
   "execution_count": 110,
   "metadata": {},
   "outputs": [
    {
     "data": {
      "text/plain": [
       "<zip at 0x113c05200>"
      ]
     },
     "execution_count": 110,
     "metadata": {},
     "output_type": "execute_result"
    }
   ],
   "source": [
    "z"
   ]
  },
  {
   "cell_type": "code",
   "execution_count": 111,
   "metadata": {},
   "outputs": [
    {
     "data": {
      "text/plain": [
       "True"
      ]
     },
     "execution_count": 111,
     "metadata": {},
     "output_type": "execute_result"
    }
   ],
   "source": [
    "# zip and range use a lazy evaluation ... \n",
    "\n",
    "'__iter__' in dir(z)"
   ]
  },
  {
   "cell_type": "code",
   "execution_count": 114,
   "metadata": {},
   "outputs": [
    {
     "data": {
      "text/plain": [
       "True"
      ]
     },
     "execution_count": 114,
     "metadata": {},
     "output_type": "execute_result"
    }
   ],
   "source": [
    "'__next__' in dir(z) # iterable "
   ]
  },
  {
   "cell_type": "code",
   "execution_count": 115,
   "metadata": {},
   "outputs": [
    {
     "data": {
      "text/plain": [
       "[(1, 'a'), (2, 'b'), (3, 'c')]"
      ]
     },
     "execution_count": 115,
     "metadata": {},
     "output_type": "execute_result"
    }
   ],
   "source": [
    "list(z)"
   ]
  },
  {
   "cell_type": "code",
   "execution_count": 116,
   "metadata": {},
   "outputs": [
    {
     "data": {
      "text/plain": [
       "[]"
      ]
     },
     "execution_count": 116,
     "metadata": {},
     "output_type": "execute_result"
    }
   ],
   "source": [
    "list(z)"
   ]
  },
  {
   "cell_type": "code",
   "execution_count": 118,
   "metadata": {},
   "outputs": [
    {
     "name": "stdout",
     "output_type": "stream",
     "text": [
      "Car;MPG;Cylinders;Displacement;Horsepower;Weight;Acceleration;Model;Origin\n",
      "\n",
      "STRING;DOUBLE;INT;DOUBLE;DOUBLE;DOUBLE;DOUBLE;INT;CAT\n",
      "\n",
      "Chevrolet Chevelle Malibu;18.0;8;307.0;130.0;3504.;12.0;70;US\n",
      "\n"
     ]
    }
   ],
   "source": [
    "f = open('cars.csv')\n",
    "print(next(f)) \n",
    "print(f.__next__())\n",
    "print(f.readline())\n",
    "f.close()"
   ]
  },
  {
   "cell_type": "code",
   "execution_count": 119,
   "metadata": {},
   "outputs": [
    {
     "name": "stdout",
     "output_type": "stream",
     "text": [
      "Car;MPG;Cylinders;Displacement;Horsepower;Weight;Acceleration;Model;Origin\n",
      "STRING;DOUBLE;INT;DOUBLE;DOUBLE;DOUBLE;DOUBLE;INT;CAT\n",
      "Chevrolet Chevelle Malibu;18.0;8;307.0;130.0;3504.;12.0;70;US\n",
      "Buick Skylark 320;15.0;8;350.0;165.0;3693.;11.5;70;US\n",
      "Plymouth Satellite;18.0;8;318.0;150.0;3436.;11.0;70;US\n",
      "AMC Rebel SST;16.0;8;304.0;150.0;3433.;12.0;70;US\n",
      "Ford Torino;17.0;8;302.0;140.0;3449.;10.5;70;US\n",
      "Ford Galaxie 500;15.0;8;429.0;198.0;4341.;10.0;70;US\n",
      "Chevrolet Impala;14.0;8;454.0;220.0;4354.;9.0;70;US\n",
      "Plymouth Fury iii;14.0;8;440.0;215.0;4312.;8.5;70;US\n",
      "Pontiac Catalina;14.0;8;455.0;225.0;4425.;10.0;70;US\n",
      "AMC Ambassador DPL;15.0;8;390.0;190.0;3850.;8.5;70;US\n",
      "Citroen DS-21 Pallas;0;4;133.0;115.0;3090.;17.5;70;Europe\n",
      "Chevrolet Chevelle Concours (sw);0;8;350.0;165.0;4142.;11.5;70;US\n",
      "Ford Torino (sw);0;8;351.0;153.0;4034.;11.0;70;US\n",
      "Plymouth Satellite (sw);0;8;383.0;175.0;4166.;10.5;70;US\n",
      "AMC Rebel SST (sw);0;8;360.0;175.0;3850.;11.0;70;US\n",
      "Dodge Challenger SE;15.0;8;383.0;170.0;3563.;10.0;70;US\n",
      "Plymouth 'Cuda 340;14.0;8;340.0;160.0;3609.;8.0;70;US\n",
      "Ford Mustang Boss 302;0;8;302.0;140.0;3353.;8.0;70;US\n",
      "Chevrolet Monte Carlo;15.0;8;400.0;150.0;3761.;9.5;70;US\n",
      "Buick Estate Wagon (sw);14.0;8;455.0;225.0;3086.;10.0;70;US\n",
      "Toyota Corolla Mark ii;24.0;4;113.0;95.00;2372.;15.0;70;Japan\n",
      "Plymouth Duster;22.0;6;198.0;95.00;2833.;15.5;70;US\n",
      "AMC Hornet;18.0;6;199.0;97.00;2774.;15.5;70;US\n",
      "Ford Maverick;21.0;6;200.0;85.00;2587.;16.0;70;US\n",
      "Datsun PL510;27.0;4;97.00;88.00;2130.;14.5;70;Japan\n",
      "Volkswagen 1131 Deluxe Sedan;26.0;4;97.00;46.00;1835.;20.5;70;Europe\n",
      "Peugeot 504;25.0;4;110.0;87.00;2672.;17.5;70;Europe\n",
      "Audi 100 LS;24.0;4;107.0;90.00;2430.;14.5;70;Europe\n",
      "Saab 99e;25.0;4;104.0;95.00;2375.;17.5;70;Europe\n",
      "BMW 2002;26.0;4;121.0;113.0;2234.;12.5;70;Europe\n",
      "AMC Gremlin;21.0;6;199.0;90.00;2648.;15.0;70;US\n",
      "Ford F250;10.0;8;360.0;215.0;4615.;14.0;70;US\n",
      "Chevy C20;10.0;8;307.0;200.0;4376.;15.0;70;US\n",
      "Dodge D200;11.0;8;318.0;210.0;4382.;13.5;70;US\n",
      "Hi 1200D;9.0;8;304.0;193.0;4732.;18.5;70;US\n",
      "Datsun PL510;27.0;4;97.00;88.00;2130.;14.5;71;Japan\n",
      "Chevrolet Vega 2300;28.0;4;140.0;90.00;2264.;15.5;71;US\n",
      "Toyota Corolla;25.0;4;113.0;95.00;2228.;14.0;71;Japan\n",
      "Ford Pinto;25.0;4;98.00;0;2046.;19.0;71;US\n",
      "Volkswagen Super Beetle 117;0;4;97.00;48.00;1978.;20.0;71;Europe\n",
      "AMC Gremlin;19.0;6;232.0;100.0;2634.;13.0;71;US\n",
      "Plymouth Satellite Custom;16.0;6;225.0;105.0;3439.;15.5;71;US\n",
      "Chevrolet Chevelle Malibu;17.0;6;250.0;100.0;3329.;15.5;71;US\n",
      "Ford Torino 500;19.0;6;250.0;88.00;3302.;15.5;71;US\n",
      "AMC Matador;18.0;6;232.0;100.0;3288.;15.5;71;US\n",
      "Chevrolet Impala;14.0;8;350.0;165.0;4209.;12.0;71;US\n",
      "Pontiac Catalina Brougham;14.0;8;400.0;175.0;4464.;11.5;71;US\n",
      "Ford Galaxie 500;14.0;8;351.0;153.0;4154.;13.5;71;US\n",
      "Plymouth Fury iii;14.0;8;318.0;150.0;4096.;13.0;71;US\n",
      "Dodge Monaco (sw);12.0;8;383.0;180.0;4955.;11.5;71;US\n",
      "Ford Country Squire (sw);13.0;8;400.0;170.0;4746.;12.0;71;US\n",
      "Pontiac Safari (sw);13.0;8;400.0;175.0;5140.;12.0;71;US\n",
      "AMC Hornet Sportabout (sw);18.0;6;258.0;110.0;2962.;13.5;71;US\n",
      "Chevrolet Vega (sw);22.0;4;140.0;72.00;2408.;19.0;71;US\n",
      "Pontiac Firebird;19.0;6;250.0;100.0;3282.;15.0;71;US\n",
      "Ford Mustang;18.0;6;250.0;88.00;3139.;14.5;71;US\n",
      "Mercury Capri 2000;23.0;4;122.0;86.00;2220.;14.0;71;US\n",
      "Opel 1900;28.0;4;116.0;90.00;2123.;14.0;71;Europe\n",
      "Peugeot 304;30.0;4;79.00;70.00;2074.;19.5;71;Europe\n",
      "Fiat 124B;30.0;4;88.00;76.00;2065.;14.5;71;Europe\n",
      "Toyota Corolla 1200;31.0;4;71.00;65.00;1773.;19.0;71;Japan\n",
      "Datsun 1200;35.0;4;72.00;69.00;1613.;18.0;71;Japan\n",
      "Volkswagen Model 111;27.0;4;97.00;60.00;1834.;19.0;71;Europe\n",
      "Plymouth Cricket;26.0;4;91.00;70.00;1955.;20.5;71;US\n",
      "Toyota Corolla Hardtop;24.0;4;113.0;95.00;2278.;15.5;72;Japan\n",
      "Dodge Colt Hardtop;25.0;4;97.50;80.00;2126.;17.0;72;US\n",
      "Volkswagen Type 3;23.0;4;97.00;54.00;2254.;23.5;72;Europe\n",
      "Chevrolet Vega;20.0;4;140.0;90.00;2408.;19.5;72;US\n",
      "Ford Pinto Runabout;21.0;4;122.0;86.00;2226.;16.5;72;US\n",
      "Chevrolet Impala;13.0;8;350.0;165.0;4274.;12.0;72;US\n",
      "Pontiac Catalina;14.0;8;400.0;175.0;4385.;12.0;72;US\n",
      "Plymouth Fury III;15.0;8;318.0;150.0;4135.;13.5;72;US\n",
      "Ford Galaxie 500;14.0;8;351.0;153.0;4129.;13.0;72;US\n",
      "AMC Ambassador SST;17.0;8;304.0;150.0;3672.;11.5;72;US\n",
      "Mercury Marquis;11.0;8;429.0;208.0;4633.;11.0;72;US\n",
      "Buick LeSabre Custom;13.0;8;350.0;155.0;4502.;13.5;72;US\n",
      "Oldsmobile Delta 88 Royale;12.0;8;350.0;160.0;4456.;13.5;72;US\n",
      "Chrysler Newport Royal;13.0;8;400.0;190.0;4422.;12.5;72;US\n",
      "Mazda RX2 Coupe;19.0;3;70.00;97.00;2330.;13.5;72;Japan\n",
      "AMC Matador (sw);15.0;8;304.0;150.0;3892.;12.5;72;US\n",
      "Chevrolet Chevelle Concours (sw);13.0;8;307.0;130.0;4098.;14.0;72;US\n",
      "Ford Gran Torino (sw);13.0;8;302.0;140.0;4294.;16.0;72;US\n",
      "Plymouth Satellite Custom (sw);14.0;8;318.0;150.0;4077.;14.0;72;US\n",
      "Volvo 145e (sw);18.0;4;121.0;112.0;2933.;14.5;72;Europe\n",
      "Volkswagen 411 (sw);22.0;4;121.0;76.00;2511.;18.0;72;Europe\n",
      "Peugeot 504 (sw);21.0;4;120.0;87.00;2979.;19.5;72;Europe\n",
      "Renault 12 (sw);26.0;4;96.00;69.00;2189.;18.0;72;Europe\n",
      "Ford Pinto (sw);22.0;4;122.0;86.00;2395.;16.0;72;US\n",
      "Datsun 510 (sw);28.0;4;97.00;92.00;2288.;17.0;72;Japan\n",
      "Toyota Corolla Mark II (sw);23.0;4;120.0;97.00;2506.;14.5;72;Japan\n",
      "Dodge Colt (sw);28.0;4;98.00;80.00;2164.;15.0;72;US\n",
      "Toyota Corolla 1600 (sw);27.0;4;97.00;88.00;2100.;16.5;72;Japan\n",
      "Buick Century 350;13.0;8;350.0;175.0;4100.;13.0;73;US\n",
      "AMC Matador;14.0;8;304.0;150.0;3672.;11.5;73;US\n",
      "Chevrolet Malibu;13.0;8;350.0;145.0;3988.;13.0;73;US\n",
      "Ford Gran Torino;14.0;8;302.0;137.0;4042.;14.5;73;US\n",
      "Dodge Coronet Custom;15.0;8;318.0;150.0;3777.;12.5;73;US\n",
      "Mercury Marquis Brougham;12.0;8;429.0;198.0;4952.;11.5;73;US\n",
      "Chevrolet Caprice Classic;13.0;8;400.0;150.0;4464.;12.0;73;US\n",
      "Ford LTD;13.0;8;351.0;158.0;4363.;13.0;73;US\n",
      "Plymouth Fury Gran Sedan;14.0;8;318.0;150.0;4237.;14.5;73;US\n",
      "Chrysler New Yorker Brougham;13.0;8;440.0;215.0;4735.;11.0;73;US\n",
      "Buick Electra 225 Custom;12.0;8;455.0;225.0;4951.;11.0;73;US\n",
      "AMC Ambassador Brougham;13.0;8;360.0;175.0;3821.;11.0;73;US\n",
      "Plymouth Valiant;18.0;6;225.0;105.0;3121.;16.5;73;US\n",
      "Chevrolet Nova Custom;16.0;6;250.0;100.0;3278.;18.0;73;US\n",
      "AMC Hornet;18.0;6;232.0;100.0;2945.;16.0;73;US\n",
      "Ford Maverick;18.0;6;250.0;88.00;3021.;16.5;73;US\n",
      "Plymouth Duster;23.0;6;198.0;95.00;2904.;16.0;73;US\n",
      "Volkswagen Super Beetle;26.0;4;97.00;46.00;1950.;21.0;73;Europe\n",
      "Chevrolet Impala;11.0;8;400.0;150.0;4997.;14.0;73;US\n",
      "Ford Country;12.0;8;400.0;167.0;4906.;12.5;73;US\n",
      "Plymouth Custom Suburb;13.0;8;360.0;170.0;4654.;13.0;73;US\n",
      "Oldsmobile Vista Cruiser;12.0;8;350.0;180.0;4499.;12.5;73;US\n",
      "AMC Gremlin;18.0;6;232.0;100.0;2789.;15.0;73;US\n",
      "Toyota Camry;20.0;4;97.00;88.00;2279.;19.0;73;Japan\n",
      "Chevrolet Vega;21.0;4;140.0;72.00;2401.;19.5;73;US\n",
      "Datsun 610;22.0;4;108.0;94.00;2379.;16.5;73;Japan\n",
      "Mazda RX3;18.0;3;70.00;90.00;2124.;13.5;73;Japan\n",
      "Ford Pinto;19.0;4;122.0;85.00;2310.;18.5;73;US\n",
      "Mercury Capri v6;21.0;6;155.0;107.0;2472.;14.0;73;US\n",
      "Fiat 124 Sport Coupe;26.0;4;98.00;90.00;2265.;15.5;73;Europe\n",
      "Chevrolet Monte Carlo S;15.0;8;350.0;145.0;4082.;13.0;73;US\n",
      "Pontiac Grand Prix;16.0;8;400.0;230.0;4278.;9.50;73;US\n",
      "Fiat 128;29.0;4;68.00;49.00;1867.;19.5;73;Europe\n",
      "Opel Manta;24.0;4;116.0;75.00;2158.;15.5;73;Europe\n",
      "Audi 100LS;20.0;4;114.0;91.00;2582.;14.0;73;Europe\n",
      "Volvo 144ea;19.0;4;121.0;112.0;2868.;15.5;73;Europe\n",
      "Dodge Dart Custom;15.0;8;318.0;150.0;3399.;11.0;73;US\n",
      "Saab 99le;24.0;4;121.0;110.0;2660.;14.0;73;Europe\n",
      "Toyota Mark II;20.0;6;156.0;122.0;2807.;13.5;73;Japan\n",
      "Oldsmobile Omega;11.0;8;350.0;180.0;3664.;11.0;73;US\n",
      "Plymouth Duster;20.0;6;198.0;95.00;3102.;16.5;74;US\n",
      "Ford Maverick;21.0;6;200.0;0;2875.;17.0;74;US\n",
      "AMC Hornet;19.0;6;232.0;100.0;2901.;16.0;74;US\n",
      "Chevrolet Nova;15.0;6;250.0;100.0;3336.;17.0;74;US\n",
      "Datsun B210;31.0;4;79.00;67.00;1950.;19.0;74;Japan\n",
      "Ford Pinto;26.0;4;122.0;80.00;2451.;16.5;74;US\n",
      "Toyota Corolla 1200;32.0;4;71.00;65.00;1836.;21.0;74;Japan\n",
      "Chevrolet Vega;25.0;4;140.0;75.00;2542.;17.0;74;US\n",
      "Chevrolet Chevelle Malibu Classic;16.0;6;250.0;100.0;3781.;17.0;74;US\n",
      "AMC Matador;16.0;6;258.0;110.0;3632.;18.0;74;US\n",
      "Plymouth Satellite Sebring;18.0;6;225.0;105.0;3613.;16.5;74;US\n",
      "Ford Gran Torino;16.0;8;302.0;140.0;4141.;14.0;74;US\n",
      "Buick Century Luxus (sw);13.0;8;350.0;150.0;4699.;14.5;74;US\n",
      "Dodge Coronet Custom (sw);14.0;8;318.0;150.0;4457.;13.5;74;US\n",
      "Ford Gran Torino (sw);14.0;8;302.0;140.0;4638.;16.0;74;US\n",
      "AMC Matador (sw);14.0;8;304.0;150.0;4257.;15.5;74;US\n",
      "Audi Fox;29.0;4;98.00;83.00;2219.;16.5;74;Europe\n",
      "Volkswagen Dasher;26.0;4;79.00;67.00;1963.;15.5;74;Europe\n",
      "Opel Manta;26.0;4;97.00;78.00;2300.;14.5;74;Europe\n",
      "Toyota Corolla;31.0;4;76.00;52.00;1649.;16.5;74;Japan\n",
      "Datsun 710;32.0;4;83.00;61.00;2003.;19.0;74;Japan\n",
      "Dodge Colt;28.0;4;90.00;75.00;2125.;14.5;74;US\n",
      "Fiat 128;24.0;4;90.00;75.00;2108.;15.5;74;Europe\n",
      "Fiat 124 TC;26.0;4;116.0;75.00;2246.;14.0;74;Europe\n",
      "Honda Civic;24.0;4;120.0;97.00;2489.;15.0;74;Japan\n",
      "Subaru;26.0;4;108.0;93.00;2391.;15.5;74;Japan\n",
      "Fiat x1.9;31.0;4;79.00;67.00;2000.;16.0;74;Europe\n",
      "Plymouth Valiant Custom;19.0;6;225.0;95.00;3264.;16.0;75;US\n",
      "Chevrolet Nova;18.0;6;250.0;105.0;3459.;16.0;75;US\n",
      "Mercury Monarch;15.0;6;250.0;72.00;3432.;21.0;75;US\n",
      "Ford Maverick;15.0;6;250.0;72.00;3158.;19.5;75;US\n",
      "Pontiac Catalina;16.0;8;400.0;170.0;4668.;11.5;75;US\n",
      "Chevrolet Bel Air;15.0;8;350.0;145.0;4440.;14.0;75;US\n",
      "Plymouth Grand Fury;16.0;8;318.0;150.0;4498.;14.5;75;US\n",
      "Ford LTD;14.0;8;351.0;148.0;4657.;13.5;75;US\n",
      "Buick Century;17.0;6;231.0;110.0;3907.;21.0;75;US\n",
      "Chevrolete Chevelle Malibu;16.0;6;250.0;105.0;3897.;18.5;75;US\n",
      "AMC Matador;15.0;6;258.0;110.0;3730.;19.0;75;US\n",
      "Plymouth Fury;18.0;6;225.0;95.00;3785.;19.0;75;US\n",
      "Buick Skyhawk;21.0;6;231.0;110.0;3039.;15.0;75;US\n",
      "Chevrolet Monza 2+2;20.0;8;262.0;110.0;3221.;13.5;75;US\n",
      "Ford Mustang II;13.0;8;302.0;129.0;3169.;12.0;75;US\n",
      "Toyota Corolla;29.0;4;97.00;75.00;2171.;16.0;75;Japan\n",
      "Ford Pinto;23.0;4;140.0;83.00;2639.;17.0;75;US\n",
      "AMC Gremlin;20.0;6;232.0;100.0;2914.;16.0;75;US\n",
      "Pontiac Astro;23.0;4;140.0;78.00;2592.;18.5;75;US\n",
      "Toyota Corolla;24.0;4;134.0;96.00;2702.;13.5;75;Japan\n",
      "Volkswagen Dasher;25.0;4;90.00;71.00;2223.;16.5;75;Europe\n",
      "Datsun 710;24.0;4;119.0;97.00;2545.;17.0;75;Japan\n",
      "Ford Pinto;18.0;6;171.0;97.00;2984.;14.5;75;US\n",
      "Volkswagen Rabbit;29.0;4;90.00;70.00;1937.;14.0;75;Europe\n",
      "AMC Pacer;19.0;6;232.0;90.00;3211.;17.0;75;US\n",
      "Audi 100LS;23.0;4;115.0;95.00;2694.;15.0;75;Europe\n",
      "Peugeot 504;23.0;4;120.0;88.00;2957.;17.0;75;Europe\n",
      "Volvo 244DL;22.0;4;121.0;98.00;2945.;14.5;75;Europe\n",
      "Saab 99LE;25.0;4;121.0;115.0;2671.;13.5;75;Europe\n",
      "Honda Civic CVCC;33.0;4;91.00;53.00;1795.;17.5;75;Japan\n",
      "Fiat 131;28.0;4;107.0;86.00;2464.;15.5;76;Europe\n",
      "Opel 1900;25.0;4;116.0;81.00;2220.;16.9;76;Europe\n",
      "Capri ii;25.0;4;140.0;92.00;2572.;14.9;76;US\n",
      "Dodge Colt;26.0;4;98.00;79.00;2255.;17.7;76;US\n",
      "Renault 12tl;27.0;4;101.0;83.00;2202.;15.3;76;Europe\n",
      "Chevrolet Chevelle Malibu Classic;17.5;8;305.0;140.0;4215.;13.0;76;US\n",
      "Dodge Coronet Brougham;16.0;8;318.0;150.0;4190.;13.0;76;US\n",
      "AMC Matador;15.5;8;304.0;120.0;3962.;13.9;76;US\n",
      "Ford Gran Torino;14.5;8;351.0;152.0;4215.;12.8;76;US\n",
      "Plymouth Valiant;22.0;6;225.0;100.0;3233.;15.4;76;US\n",
      "Chevrolet Nova;22.0;6;250.0;105.0;3353.;14.5;76;US\n",
      "Ford Maverick;24.0;6;200.0;81.00;3012.;17.6;76;US\n",
      "AMC Hornet;22.5;6;232.0;90.00;3085.;17.6;76;US\n",
      "Chevrolet Chevette;29.0;4;85.00;52.00;2035.;22.2;76;US\n",
      "Chevrolet Woody;24.5;4;98.00;60.00;2164.;22.1;76;US\n",
      "Volkswagen Rabbit;29.0;4;90.00;70.00;1937.;14.2;76;Europe\n",
      "Honda Civic;33.0;4;91.00;53.00;1795.;17.4;76;Japan\n",
      "Dodge Aspen SE;20.0;6;225.0;100.0;3651.;17.7;76;US\n",
      "Ford Grenada ghia;18.0;6;250.0;78.00;3574.;21.0;76;US\n",
      "Pontiac Ventura SJ;18.5;6;250.0;110.0;3645.;16.2;76;US\n",
      "AMC Pacer d/l;17.5;6;258.0;95.00;3193.;17.8;76;US\n",
      "Volkswagen Rabbit;29.5;4;97.00;71.00;1825.;12.2;76;Europe\n",
      "Datsun B-210;32.0;4;85.00;70.00;1990.;17.0;76;Japan\n",
      "Toyota Corolla;28.0;4;97.00;75.00;2155.;16.4;76;Japan\n",
      "Ford Pinto;26.5;4;140.0;72.00;2565.;13.6;76;US\n",
      "Volvo 245;20.0;4;130.0;102.0;3150.;15.7;76;Europe\n",
      "Plymouth Volare Premier v8;13.0;8;318.0;150.0;3940.;13.2;76;US\n",
      "Peugeot 504;19.0;4;120.0;88.00;3270.;21.9;76;Europe\n",
      "Toyota Mark II;19.0;6;156.0;108.0;2930.;15.5;76;Japan\n",
      "Mercedes-Benz 280s;16.5;6;168.0;120.0;3820.;16.7;76;Europe\n",
      "Cadillac Seville;16.5;8;350.0;180.0;4380.;12.1;76;US\n",
      "Chevrolet C10;13.0;8;350.0;145.0;4055.;12.0;76;US\n",
      "Ford F108;13.0;8;302.0;130.0;3870.;15.0;76;US\n",
      "Dodge D100;13.0;8;318.0;150.0;3755.;14.0;76;US\n",
      "Honda Accord CVCC;31.5;4;98.00;68.00;2045.;18.5;77;Japan\n",
      "Buick Opel Isuzu Deluxe;30.0;4;111.0;80.00;2155.;14.8;77;US\n",
      "Renault 5 GTL;36.0;4;79.00;58.00;1825.;18.6;77;Europe\n",
      "Plymouth Arrow GS;25.5;4;122.0;96.00;2300.;15.5;77;US\n",
      "Datsun F-10 Hatchback;33.5;4;85.00;70.00;1945.;16.8;77;Japan\n",
      "Chevrolet Caprice Classic;17.5;8;305.0;145.0;3880.;12.5;77;US\n",
      "Oldsmobile Cutlass Supreme;17.0;8;260.0;110.0;4060.;19.0;77;US\n",
      "Dodge Monaco Brougham;15.5;8;318.0;145.0;4140.;13.7;77;US\n",
      "Mercury Cougar Brougham;15.0;8;302.0;130.0;4295.;14.9;77;US\n",
      "Chevrolet Concours;17.5;6;250.0;110.0;3520.;16.4;77;US\n",
      "Buick Skylark;20.5;6;231.0;105.0;3425.;16.9;77;US\n",
      "Plymouth Volare Custom;19.0;6;225.0;100.0;3630.;17.7;77;US\n",
      "Ford Grenada;18.5;6;250.0;98.00;3525.;19.0;77;US\n",
      "Pontiac Grand Prix LJ;16.0;8;400.0;180.0;4220.;11.1;77;US\n",
      "Chevrolet Monte Carlo Landau;15.5;8;350.0;170.0;4165.;11.4;77;US\n",
      "Chrysler Cordoba;15.5;8;400.0;190.0;4325.;12.2;77;US\n",
      "Ford Thunderbird;16.0;8;351.0;149.0;4335.;14.5;77;US\n",
      "Volkswagen Rabbit Custom;29.0;4;97.00;78.00;1940.;14.5;77;Europe\n",
      "Pontiac Sunbird Coupe;24.5;4;151.0;88.00;2740.;16.0;77;US\n",
      "Toyota Corolla Liftback;26.0;4;97.00;75.00;2265.;18.2;77;Japan\n",
      "Ford Mustang II 2+2;25.5;4;140.0;89.00;2755.;15.8;77;US\n",
      "Chevrolet Chevette;30.5;4;98.00;63.00;2051.;17.0;77;US\n",
      "Dodge Colt m/m;33.5;4;98.00;83.00;2075.;15.9;77;US\n",
      "Subaru DL;30.0;4;97.00;67.00;1985.;16.4;77;Japan\n",
      "Volkswagen Dasher;30.5;4;97.00;78.00;2190.;14.1;77;Europe\n",
      "Datsun 810;22.0;6;146.0;97.00;2815.;14.5;77;Japan\n",
      "BMW 320i;21.5;4;121.0;110.0;2600.;12.8;77;Europe\n",
      "Mazda RX-4;21.5;3;80.00;110.0;2720.;13.5;77;Japan\n",
      "Volkswagen Rabbit Custom Diesel;43.1;4;90.00;48.00;1985.;21.5;78;Europe\n",
      "Ford Fiesta;36.1;4;98.00;66.00;1800.;14.4;78;US\n",
      "Mazda GLC Deluxe;32.8;4;78.00;52.00;1985.;19.4;78;Japan\n",
      "Datsun B210 GX;39.4;4;85.00;70.00;2070.;18.6;78;Japan\n",
      "Honda Civic CVCC;36.1;4;91.00;60.00;1800.;16.4;78;Japan\n",
      "Oldsmobile Cutlass Salon Brougham;19.9;8;260.0;110.0;3365.;15.5;78;US\n",
      "Dodge Diplomat;19.4;8;318.0;140.0;3735.;13.2;78;US\n",
      "Mercury Monarch ghia;20.2;8;302.0;139.0;3570.;12.8;78;US\n",
      "Pontiac Phoenix LJ;19.2;6;231.0;105.0;3535.;19.2;78;US\n",
      "Chevrolet Malibu;20.5;6;200.0;95.00;3155.;18.2;78;US\n",
      "Ford Fairmont (auto);20.2;6;200.0;85.00;2965.;15.8;78;US\n",
      "Ford Fairmont (man);25.1;4;140.0;88.00;2720.;15.4;78;US\n",
      "Plymouth Volare;20.5;6;225.0;100.0;3430.;17.2;78;US\n",
      "AMC Concord;19.4;6;232.0;90.00;3210.;17.2;78;US\n",
      "Buick Century Special;20.6;6;231.0;105.0;3380.;15.8;78;US\n",
      "Mercury Zephyr;20.8;6;200.0;85.00;3070.;16.7;78;US\n",
      "Dodge Aspen;18.6;6;225.0;110.0;3620.;18.7;78;US\n",
      "AMC Concord d/l;18.1;6;258.0;120.0;3410.;15.1;78;US\n",
      "Chevrolet Monte Carlo Landau;19.2;8;305.0;145.0;3425.;13.2;78;US\n",
      "Buick Regal Sport Coupe (turbo);17.7;6;231.0;165.0;3445.;13.4;78;US\n",
      "Ford Futura;18.1;8;302.0;139.0;3205.;11.2;78;US\n",
      "Dodge Magnum XE;17.5;8;318.0;140.0;4080.;13.7;78;US\n",
      "Chevrolet Chevette;30.0;4;98.00;68.00;2155.;16.5;78;US\n",
      "Toyota Corolla;27.5;4;134.0;95.00;2560.;14.2;78;Japan\n",
      "Datsun 510;27.2;4;119.0;97.00;2300.;14.7;78;Japan\n",
      "Dodge Omni;30.9;4;105.0;75.00;2230.;14.5;78;US\n",
      "Toyota Celica GT Liftback;21.1;4;134.0;95.00;2515.;14.8;78;Japan\n",
      "Plymouth Sapporo;23.2;4;156.0;105.0;2745.;16.7;78;US\n",
      "Oldsmobile Starfire SX;23.8;4;151.0;85.00;2855.;17.6;78;US\n",
      "Datsun 200-SX;23.9;4;119.0;97.00;2405.;14.9;78;Japan\n",
      "Audi 5000;20.3;5;131.0;103.0;2830.;15.9;78;Europe\n",
      "Volvo 264gl;17.0;6;163.0;125.0;3140.;13.6;78;Europe\n",
      "Saab 99gle;21.6;4;121.0;115.0;2795.;15.7;78;Europe\n",
      "Peugeot 604sl;16.2;6;163.0;133.0;3410.;15.8;78;Europe\n",
      "Volkswagen Scirocco;31.5;4;89.00;71.00;1990.;14.9;78;Europe\n",
      "Honda Accord LX;29.5;4;98.00;68.00;2135.;16.6;78;Japan\n",
      "Pontiac Lemans V6;21.5;6;231.0;115.0;3245.;15.4;79;US\n",
      "Mercury Zephyr 6;19.8;6;200.0;85.00;2990.;18.2;79;US\n",
      "Ford Fairmont 4;22.3;4;140.0;88.00;2890.;17.3;79;US\n",
      "AMC Concord DL 6;20.2;6;232.0;90.00;3265.;18.2;79;US\n",
      "Dodge Aspen 6;20.6;6;225.0;110.0;3360.;16.6;79;US\n",
      "Chevrolet Caprice Classic;17.0;8;305.0;130.0;3840.;15.4;79;US\n",
      "Ford LTD Landau;17.6;8;302.0;129.0;3725.;13.4;79;US\n",
      "Mercury Grand Marquis;16.5;8;351.0;138.0;3955.;13.2;79;US\n",
      "Dodge St. Regis;18.2;8;318.0;135.0;3830.;15.2;79;US\n",
      "Buick Estate Wagon (sw);16.9;8;350.0;155.0;4360.;14.9;79;US\n",
      "Ford Country Squire (sw);15.5;8;351.0;142.0;4054.;14.3;79;US\n",
      "Chevrolet Malibu Classic (sw);19.2;8;267.0;125.0;3605.;15.0;79;US\n",
      "Chrysler Lebaron Town @ Country (sw);18.5;8;360.0;150.0;3940.;13.0;79;US\n",
      "Volkswagen Rabbit Custom;31.9;4;89.00;71.00;1925.;14.0;79;Europe\n",
      "Mazda GLC Deluxe;34.1;4;86.00;65.00;1975.;15.2;79;Japan\n",
      "Dodge Colt Hatchback Custom;35.7;4;98.00;80.00;1915.;14.4;79;US\n",
      "AMC Spirit DL;27.4;4;121.0;80.00;2670.;15.0;79;US\n",
      "Mercedes Benz 300d;25.4;5;183.0;77.00;3530.;20.1;79;Europe\n",
      "Cadillac Eldorado;23.0;8;350.0;125.0;3900.;17.4;79;US\n",
      "Peugeot 504;27.2;4;141.0;71.00;3190.;24.8;79;Europe\n",
      "Oldsmobile Cutlass Salon Brougham;23.9;8;260.0;90.00;3420.;22.2;79;US\n",
      "Plymouth Horizon;34.2;4;105.0;70.00;2200.;13.2;79;US\n",
      "Plymouth Horizon TC3;34.5;4;105.0;70.00;2150.;14.9;79;US\n",
      "Datsun 210;31.8;4;85.00;65.00;2020.;19.2;79;Japan\n",
      "Fiat Strada Custom;37.3;4;91.00;69.00;2130.;14.7;79;Europe\n",
      "Buick Skylark Limited;28.4;4;151.0;90.00;2670.;16.0;79;US\n",
      "Chevrolet Citation;28.8;6;173.0;115.0;2595.;11.3;79;US\n",
      "Oldsmobile Omega Brougham;26.8;6;173.0;115.0;2700.;12.9;79;US\n",
      "Pontiac Phoenix;33.5;4;151.0;90.00;2556.;13.2;79;US\n",
      "Volkswagen Rabbit;41.5;4;98.00;76.00;2144.;14.7;80;Europe\n",
      "Toyota Corolla Tercel;38.1;4;89.00;60.00;1968.;18.8;80;Japan\n",
      "Chevrolet Chevette;32.1;4;98.00;70.00;2120.;15.5;80;US\n",
      "Datsun 310;37.2;4;86.00;65.00;2019.;16.4;80;Japan\n",
      "Chevrolet Citation;28.0;4;151.0;90.00;2678.;16.5;80;US\n",
      "Ford Fairmont;26.4;4;140.0;88.00;2870.;18.1;80;US\n",
      "AMC Concord;24.3;4;151.0;90.00;3003.;20.1;80;US\n",
      "Dodge Aspen;19.1;6;225.0;90.00;3381.;18.7;80;US\n",
      "Audi 4000;34.3;4;97.00;78.00;2188.;15.8;80;Europe\n",
      "Toyota Corolla Liftback;29.8;4;134.0;90.00;2711.;15.5;80;Japan\n",
      "Mazda 626;31.3;4;120.0;75.00;2542.;17.5;80;Japan\n",
      "Datsun 510 Hatchback;37.0;4;119.0;92.00;2434.;15.0;80;Japan\n",
      "Toyota Corolla;32.2;4;108.0;75.00;2265.;15.2;80;Japan\n",
      "Mazda GLC;46.6;4;86.00;65.00;2110.;17.9;80;Japan\n",
      "Dodge Colt;27.9;4;156.0;105.0;2800.;14.4;80;US\n",
      "Datsun 210;40.8;4;85.00;65.00;2110.;19.2;80;Japan\n",
      "Volkswagen Rabbit C (Diesel);44.3;4;90.00;48.00;2085.;21.7;80;Europe\n",
      "Volkswagen Dasher (diesel);43.4;4;90.00;48.00;2335.;23.7;80;Europe\n",
      "Audi 5000s (diesel);36.4;5;121.0;67.00;2950.;19.9;80;Europe\n",
      "Mercedes-Benz 240d;30.0;4;146.0;67.00;3250.;21.8;80;Europe\n",
      "Honda Civic 1500 gl;44.6;4;91.00;67.00;1850.;13.8;80;Japan\n",
      "Renault Lecar Deluxe;40.9;4;85.00;0;1835.;17.3;80;Europe\n",
      "Subaru DL;33.8;4;97.00;67.00;2145.;18.0;80;Japan\n",
      "Volkswagen Rabbit;29.8;4;89.00;62.00;1845.;15.3;80;Europe\n",
      "Datsun 280-ZX;32.7;6;168.0;132.0;2910.;11.4;80;Japan\n",
      "Mazda RX-7 GS;23.7;3;70.00;100.0;2420.;12.5;80;Japan\n",
      "Triumph TR7 Coupe;35.0;4;122.0;88.00;2500.;15.1;80;Europe\n",
      "Ford Mustang Cobra;23.6;4;140.0;0;2905.;14.3;80;US\n",
      "Honda Accord;32.4;4;107.0;72.00;2290.;17.0;80;Japan\n",
      "Plymouth Reliant;27.2;4;135.0;84.00;2490.;15.7;81;US\n",
      "Buick Skylark;26.6;4;151.0;84.00;2635.;16.4;81;US\n",
      "Dodge Aries Wagon (sw);25.8;4;156.0;92.00;2620.;14.4;81;US\n",
      "Chevrolet Citation;23.5;6;173.0;110.0;2725.;12.6;81;US\n",
      "Plymouth Reliant;30.0;4;135.0;84.00;2385.;12.9;81;US\n",
      "Toyota Starlet;39.1;4;79.00;58.00;1755.;16.9;81;Japan\n",
      "Plymouth Champ;39.0;4;86.00;64.00;1875.;16.4;81;US\n",
      "Honda Civic 1300;35.1;4;81.00;60.00;1760.;16.1;81;Japan\n",
      "Subaru;32.3;4;97.00;67.00;2065.;17.8;81;Japan\n",
      "Datsun 210 MPG;37.0;4;85.00;65.00;1975.;19.4;81;Japan\n",
      "Toyota Tercel;37.7;4;89.00;62.00;2050.;17.3;81;Japan\n",
      "Mazda GLC 4;34.1;4;91.00;68.00;1985.;16.0;81;Japan\n",
      "Plymouth Horizon 4;34.7;4;105.0;63.00;2215.;14.9;81;US\n",
      "Ford Escort 4W;34.4;4;98.00;65.00;2045.;16.2;81;US\n",
      "Ford Escort 2H;29.9;4;98.00;65.00;2380.;20.7;81;US\n",
      "Volkswagen Jetta;33.0;4;105.0;74.00;2190.;14.2;81;Europe\n",
      "Renault 18i;34.5;4;100.0;0;2320.;15.8;81;Europe\n",
      "Honda Prelude;33.7;4;107.0;75.00;2210.;14.4;81;Japan\n",
      "Toyota Corolla;32.4;4;108.0;75.00;2350.;16.8;81;Japan\n",
      "Datsun 200SX;32.9;4;119.0;100.0;2615.;14.8;81;Japan\n",
      "Mazda 626;31.6;4;120.0;74.00;2635.;18.3;81;Japan\n",
      "Peugeot 505s Turbo Diesel;28.1;4;141.0;80.00;3230.;20.4;81;Europe\n",
      "Saab 900s;0;4;121.0;110.0;2800.;15.4;81;Europe\n",
      "Volvo Diesel;30.7;6;145.0;76.00;3160.;19.6;81;Europe\n",
      "Toyota Cressida;25.4;6;168.0;116.0;2900.;12.6;81;Japan\n",
      "Datsun 810 Maxima;24.2;6;146.0;120.0;2930.;13.8;81;Japan\n",
      "Buick Century;22.4;6;231.0;110.0;3415.;15.8;81;US\n",
      "Oldsmobile Cutlass LS;26.6;8;350.0;105.0;3725.;19.0;81;US\n",
      "Ford Grenada gl;20.2;6;200.0;88.00;3060.;17.1;81;US\n",
      "Chrysler Lebaron Salon;17.6;6;225.0;85.00;3465.;16.6;81;US\n",
      "Chevrolet Cavalier;28.0;4;112.0;88.00;2605.;19.6;82;US\n",
      "Chevrolet Cavalier Wagon;27.0;4;112.0;88.00;2640.;18.6;82;US\n",
      "Chevrolet Cavalier 2-door;34.0;4;112.0;88.00;2395.;18.0;82;US\n",
      "Pontiac J2000 SE Hatchback;31.0;4;112.0;85.00;2575.;16.2;82;US\n",
      "Dodge Aries SE;29.0;4;135.0;84.00;2525.;16.0;82;US\n",
      "Pontiac Phoenix;27.0;4;151.0;90.00;2735.;18.0;82;US\n",
      "Ford Fairmont Futura;24.0;4;140.0;92.00;2865.;16.4;82;US\n",
      "AMC Concord DL;23.0;4;151.0;0;3035.;20.5;82;US\n",
      "Volkswagen Rabbit l;36.0;4;105.0;74.00;1980.;15.3;82;Europe\n",
      "Mazda GLC Custom l;37.0;4;91.00;68.00;2025.;18.2;82;Japan\n",
      "Mazda GLC Custom;31.0;4;91.00;68.00;1970.;17.6;82;Japan\n",
      "Plymouth Horizon Miser;38.0;4;105.0;63.00;2125.;14.7;82;US\n",
      "Mercury Lynx l;36.0;4;98.00;70.00;2125.;17.3;82;US\n",
      "Nissan Stanza XE;36.0;4;120.0;88.00;2160.;14.5;82;Japan\n",
      "Honda Accord;36.0;4;107.0;75.00;2205.;14.5;82;Japan\n",
      "Toyota Corolla;34.0;4;108.0;70.00;2245;16.9;82;Japan\n",
      "Honda Civic;38.0;4;91.00;67.00;1965.;15.0;82;Japan\n",
      "Honda Civic (auto);32.0;4;91.00;67.00;1965.;15.7;82;Japan\n",
      "Datsun 310 GX;38.0;4;91.00;67.00;1995.;16.2;82;Japan\n",
      "Buick Century Limited;25.0;6;181.0;110.0;2945.;16.4;82;US\n",
      "Oldsmobile Cutlass Ciera (diesel);38.0;6;262.0;85.00;3015.;17.0;82;US\n",
      "Chrysler Lebaron Medallion;26.0;4;156.0;92.00;2585.;14.5;82;US\n",
      "Ford Grenada l;22.0;6;232.0;112.0;2835;14.7;82;US\n",
      "Toyota Celica GT;32.0;4;144.0;96.00;2665.;13.9;82;Japan\n",
      "Dodge Charger 2.2;36.0;4;135.0;84.00;2370.;13.0;82;US\n",
      "Chevrolet Camaro;27.0;4;151.0;90.00;2950.;17.3;82;US\n",
      "Ford Mustang GL;27.0;4;140.0;86.00;2790.;15.6;82;US\n",
      "Volkswagen Pickup;44.0;4;97.00;52.00;2130.;24.6;82;Europe\n",
      "Dodge Rampage;32.0;4;135.0;84.00;2295.;11.6;82;US\n",
      "Ford Ranger;28.0;4;120.0;79.00;2625.;18.6;82;US\n",
      "Chevy S-10;31.0;4;119.0;82.00;2720.;19.4;82;US\n"
     ]
    }
   ],
   "source": [
    "with open('cars.csv') as f:\n",
    "    for r in f:\n",
    "        print(r, end='')"
   ]
  },
  {
   "cell_type": "code",
   "execution_count": 120,
   "metadata": {},
   "outputs": [
    {
     "name": "stdout",
     "output_type": "stream",
     "text": [
      "<class '_io.TextIOWrapper'>\n",
      "True\n",
      "True\n"
     ]
    }
   ],
   "source": [
    "with open('cars.csv') as f:\n",
    "    print(type(f))\n",
    "    print('__iter__' in dir(f))# return itself\n",
    "    print('__next__' in dir(f))"
   ]
  },
  {
   "cell_type": "code",
   "execution_count": 121,
   "metadata": {},
   "outputs": [
    {
     "name": "stdout",
     "output_type": "stream",
     "text": [
      "True\n"
     ]
    }
   ],
   "source": [
    "with open('cars.csv') as f:\n",
    "    print(iter(f) is f)"
   ]
  },
  {
   "cell_type": "code",
   "execution_count": 122,
   "metadata": {},
   "outputs": [
    {
     "data": {
      "text/plain": [
       "False"
      ]
     },
     "execution_count": 122,
     "metadata": {},
     "output_type": "execute_result"
    }
   ],
   "source": [
    "l = [1,2,3]\n",
    "iter(l) is l # a list is  an iterable ... not iterator"
   ]
  },
  {
   "cell_type": "code",
   "execution_count": 123,
   "metadata": {},
   "outputs": [],
   "source": [
    "with open('cars.csv') as f:\n",
    "    l = f.readlines()"
   ]
  },
  {
   "cell_type": "code",
   "execution_count": 124,
   "metadata": {},
   "outputs": [
    {
     "data": {
      "text/plain": [
       "['Car;MPG;Cylinders;Displacement;Horsepower;Weight;Acceleration;Model;Origin\\n',\n",
       " 'STRING;DOUBLE;INT;DOUBLE;DOUBLE;DOUBLE;DOUBLE;INT;CAT\\n',\n",
       " 'Chevrolet Chevelle Malibu;18.0;8;307.0;130.0;3504.;12.0;70;US\\n',\n",
       " 'Buick Skylark 320;15.0;8;350.0;165.0;3693.;11.5;70;US\\n',\n",
       " 'Plymouth Satellite;18.0;8;318.0;150.0;3436.;11.0;70;US\\n',\n",
       " 'AMC Rebel SST;16.0;8;304.0;150.0;3433.;12.0;70;US\\n',\n",
       " 'Ford Torino;17.0;8;302.0;140.0;3449.;10.5;70;US\\n',\n",
       " 'Ford Galaxie 500;15.0;8;429.0;198.0;4341.;10.0;70;US\\n',\n",
       " 'Chevrolet Impala;14.0;8;454.0;220.0;4354.;9.0;70;US\\n',\n",
       " 'Plymouth Fury iii;14.0;8;440.0;215.0;4312.;8.5;70;US\\n',\n",
       " 'Pontiac Catalina;14.0;8;455.0;225.0;4425.;10.0;70;US\\n',\n",
       " 'AMC Ambassador DPL;15.0;8;390.0;190.0;3850.;8.5;70;US\\n',\n",
       " 'Citroen DS-21 Pallas;0;4;133.0;115.0;3090.;17.5;70;Europe\\n',\n",
       " 'Chevrolet Chevelle Concours (sw);0;8;350.0;165.0;4142.;11.5;70;US\\n',\n",
       " 'Ford Torino (sw);0;8;351.0;153.0;4034.;11.0;70;US\\n',\n",
       " 'Plymouth Satellite (sw);0;8;383.0;175.0;4166.;10.5;70;US\\n',\n",
       " 'AMC Rebel SST (sw);0;8;360.0;175.0;3850.;11.0;70;US\\n',\n",
       " 'Dodge Challenger SE;15.0;8;383.0;170.0;3563.;10.0;70;US\\n',\n",
       " \"Plymouth 'Cuda 340;14.0;8;340.0;160.0;3609.;8.0;70;US\\n\",\n",
       " 'Ford Mustang Boss 302;0;8;302.0;140.0;3353.;8.0;70;US\\n',\n",
       " 'Chevrolet Monte Carlo;15.0;8;400.0;150.0;3761.;9.5;70;US\\n',\n",
       " 'Buick Estate Wagon (sw);14.0;8;455.0;225.0;3086.;10.0;70;US\\n',\n",
       " 'Toyota Corolla Mark ii;24.0;4;113.0;95.00;2372.;15.0;70;Japan\\n',\n",
       " 'Plymouth Duster;22.0;6;198.0;95.00;2833.;15.5;70;US\\n',\n",
       " 'AMC Hornet;18.0;6;199.0;97.00;2774.;15.5;70;US\\n',\n",
       " 'Ford Maverick;21.0;6;200.0;85.00;2587.;16.0;70;US\\n',\n",
       " 'Datsun PL510;27.0;4;97.00;88.00;2130.;14.5;70;Japan\\n',\n",
       " 'Volkswagen 1131 Deluxe Sedan;26.0;4;97.00;46.00;1835.;20.5;70;Europe\\n',\n",
       " 'Peugeot 504;25.0;4;110.0;87.00;2672.;17.5;70;Europe\\n',\n",
       " 'Audi 100 LS;24.0;4;107.0;90.00;2430.;14.5;70;Europe\\n',\n",
       " 'Saab 99e;25.0;4;104.0;95.00;2375.;17.5;70;Europe\\n',\n",
       " 'BMW 2002;26.0;4;121.0;113.0;2234.;12.5;70;Europe\\n',\n",
       " 'AMC Gremlin;21.0;6;199.0;90.00;2648.;15.0;70;US\\n',\n",
       " 'Ford F250;10.0;8;360.0;215.0;4615.;14.0;70;US\\n',\n",
       " 'Chevy C20;10.0;8;307.0;200.0;4376.;15.0;70;US\\n',\n",
       " 'Dodge D200;11.0;8;318.0;210.0;4382.;13.5;70;US\\n',\n",
       " 'Hi 1200D;9.0;8;304.0;193.0;4732.;18.5;70;US\\n',\n",
       " 'Datsun PL510;27.0;4;97.00;88.00;2130.;14.5;71;Japan\\n',\n",
       " 'Chevrolet Vega 2300;28.0;4;140.0;90.00;2264.;15.5;71;US\\n',\n",
       " 'Toyota Corolla;25.0;4;113.0;95.00;2228.;14.0;71;Japan\\n',\n",
       " 'Ford Pinto;25.0;4;98.00;0;2046.;19.0;71;US\\n',\n",
       " 'Volkswagen Super Beetle 117;0;4;97.00;48.00;1978.;20.0;71;Europe\\n',\n",
       " 'AMC Gremlin;19.0;6;232.0;100.0;2634.;13.0;71;US\\n',\n",
       " 'Plymouth Satellite Custom;16.0;6;225.0;105.0;3439.;15.5;71;US\\n',\n",
       " 'Chevrolet Chevelle Malibu;17.0;6;250.0;100.0;3329.;15.5;71;US\\n',\n",
       " 'Ford Torino 500;19.0;6;250.0;88.00;3302.;15.5;71;US\\n',\n",
       " 'AMC Matador;18.0;6;232.0;100.0;3288.;15.5;71;US\\n',\n",
       " 'Chevrolet Impala;14.0;8;350.0;165.0;4209.;12.0;71;US\\n',\n",
       " 'Pontiac Catalina Brougham;14.0;8;400.0;175.0;4464.;11.5;71;US\\n',\n",
       " 'Ford Galaxie 500;14.0;8;351.0;153.0;4154.;13.5;71;US\\n',\n",
       " 'Plymouth Fury iii;14.0;8;318.0;150.0;4096.;13.0;71;US\\n',\n",
       " 'Dodge Monaco (sw);12.0;8;383.0;180.0;4955.;11.5;71;US\\n',\n",
       " 'Ford Country Squire (sw);13.0;8;400.0;170.0;4746.;12.0;71;US\\n',\n",
       " 'Pontiac Safari (sw);13.0;8;400.0;175.0;5140.;12.0;71;US\\n',\n",
       " 'AMC Hornet Sportabout (sw);18.0;6;258.0;110.0;2962.;13.5;71;US\\n',\n",
       " 'Chevrolet Vega (sw);22.0;4;140.0;72.00;2408.;19.0;71;US\\n',\n",
       " 'Pontiac Firebird;19.0;6;250.0;100.0;3282.;15.0;71;US\\n',\n",
       " 'Ford Mustang;18.0;6;250.0;88.00;3139.;14.5;71;US\\n',\n",
       " 'Mercury Capri 2000;23.0;4;122.0;86.00;2220.;14.0;71;US\\n',\n",
       " 'Opel 1900;28.0;4;116.0;90.00;2123.;14.0;71;Europe\\n',\n",
       " 'Peugeot 304;30.0;4;79.00;70.00;2074.;19.5;71;Europe\\n',\n",
       " 'Fiat 124B;30.0;4;88.00;76.00;2065.;14.5;71;Europe\\n',\n",
       " 'Toyota Corolla 1200;31.0;4;71.00;65.00;1773.;19.0;71;Japan\\n',\n",
       " 'Datsun 1200;35.0;4;72.00;69.00;1613.;18.0;71;Japan\\n',\n",
       " 'Volkswagen Model 111;27.0;4;97.00;60.00;1834.;19.0;71;Europe\\n',\n",
       " 'Plymouth Cricket;26.0;4;91.00;70.00;1955.;20.5;71;US\\n',\n",
       " 'Toyota Corolla Hardtop;24.0;4;113.0;95.00;2278.;15.5;72;Japan\\n',\n",
       " 'Dodge Colt Hardtop;25.0;4;97.50;80.00;2126.;17.0;72;US\\n',\n",
       " 'Volkswagen Type 3;23.0;4;97.00;54.00;2254.;23.5;72;Europe\\n',\n",
       " 'Chevrolet Vega;20.0;4;140.0;90.00;2408.;19.5;72;US\\n',\n",
       " 'Ford Pinto Runabout;21.0;4;122.0;86.00;2226.;16.5;72;US\\n',\n",
       " 'Chevrolet Impala;13.0;8;350.0;165.0;4274.;12.0;72;US\\n',\n",
       " 'Pontiac Catalina;14.0;8;400.0;175.0;4385.;12.0;72;US\\n',\n",
       " 'Plymouth Fury III;15.0;8;318.0;150.0;4135.;13.5;72;US\\n',\n",
       " 'Ford Galaxie 500;14.0;8;351.0;153.0;4129.;13.0;72;US\\n',\n",
       " 'AMC Ambassador SST;17.0;8;304.0;150.0;3672.;11.5;72;US\\n',\n",
       " 'Mercury Marquis;11.0;8;429.0;208.0;4633.;11.0;72;US\\n',\n",
       " 'Buick LeSabre Custom;13.0;8;350.0;155.0;4502.;13.5;72;US\\n',\n",
       " 'Oldsmobile Delta 88 Royale;12.0;8;350.0;160.0;4456.;13.5;72;US\\n',\n",
       " 'Chrysler Newport Royal;13.0;8;400.0;190.0;4422.;12.5;72;US\\n',\n",
       " 'Mazda RX2 Coupe;19.0;3;70.00;97.00;2330.;13.5;72;Japan\\n',\n",
       " 'AMC Matador (sw);15.0;8;304.0;150.0;3892.;12.5;72;US\\n',\n",
       " 'Chevrolet Chevelle Concours (sw);13.0;8;307.0;130.0;4098.;14.0;72;US\\n',\n",
       " 'Ford Gran Torino (sw);13.0;8;302.0;140.0;4294.;16.0;72;US\\n',\n",
       " 'Plymouth Satellite Custom (sw);14.0;8;318.0;150.0;4077.;14.0;72;US\\n',\n",
       " 'Volvo 145e (sw);18.0;4;121.0;112.0;2933.;14.5;72;Europe\\n',\n",
       " 'Volkswagen 411 (sw);22.0;4;121.0;76.00;2511.;18.0;72;Europe\\n',\n",
       " 'Peugeot 504 (sw);21.0;4;120.0;87.00;2979.;19.5;72;Europe\\n',\n",
       " 'Renault 12 (sw);26.0;4;96.00;69.00;2189.;18.0;72;Europe\\n',\n",
       " 'Ford Pinto (sw);22.0;4;122.0;86.00;2395.;16.0;72;US\\n',\n",
       " 'Datsun 510 (sw);28.0;4;97.00;92.00;2288.;17.0;72;Japan\\n',\n",
       " 'Toyota Corolla Mark II (sw);23.0;4;120.0;97.00;2506.;14.5;72;Japan\\n',\n",
       " 'Dodge Colt (sw);28.0;4;98.00;80.00;2164.;15.0;72;US\\n',\n",
       " 'Toyota Corolla 1600 (sw);27.0;4;97.00;88.00;2100.;16.5;72;Japan\\n',\n",
       " 'Buick Century 350;13.0;8;350.0;175.0;4100.;13.0;73;US\\n',\n",
       " 'AMC Matador;14.0;8;304.0;150.0;3672.;11.5;73;US\\n',\n",
       " 'Chevrolet Malibu;13.0;8;350.0;145.0;3988.;13.0;73;US\\n',\n",
       " 'Ford Gran Torino;14.0;8;302.0;137.0;4042.;14.5;73;US\\n',\n",
       " 'Dodge Coronet Custom;15.0;8;318.0;150.0;3777.;12.5;73;US\\n',\n",
       " 'Mercury Marquis Brougham;12.0;8;429.0;198.0;4952.;11.5;73;US\\n',\n",
       " 'Chevrolet Caprice Classic;13.0;8;400.0;150.0;4464.;12.0;73;US\\n',\n",
       " 'Ford LTD;13.0;8;351.0;158.0;4363.;13.0;73;US\\n',\n",
       " 'Plymouth Fury Gran Sedan;14.0;8;318.0;150.0;4237.;14.5;73;US\\n',\n",
       " 'Chrysler New Yorker Brougham;13.0;8;440.0;215.0;4735.;11.0;73;US\\n',\n",
       " 'Buick Electra 225 Custom;12.0;8;455.0;225.0;4951.;11.0;73;US\\n',\n",
       " 'AMC Ambassador Brougham;13.0;8;360.0;175.0;3821.;11.0;73;US\\n',\n",
       " 'Plymouth Valiant;18.0;6;225.0;105.0;3121.;16.5;73;US\\n',\n",
       " 'Chevrolet Nova Custom;16.0;6;250.0;100.0;3278.;18.0;73;US\\n',\n",
       " 'AMC Hornet;18.0;6;232.0;100.0;2945.;16.0;73;US\\n',\n",
       " 'Ford Maverick;18.0;6;250.0;88.00;3021.;16.5;73;US\\n',\n",
       " 'Plymouth Duster;23.0;6;198.0;95.00;2904.;16.0;73;US\\n',\n",
       " 'Volkswagen Super Beetle;26.0;4;97.00;46.00;1950.;21.0;73;Europe\\n',\n",
       " 'Chevrolet Impala;11.0;8;400.0;150.0;4997.;14.0;73;US\\n',\n",
       " 'Ford Country;12.0;8;400.0;167.0;4906.;12.5;73;US\\n',\n",
       " 'Plymouth Custom Suburb;13.0;8;360.0;170.0;4654.;13.0;73;US\\n',\n",
       " 'Oldsmobile Vista Cruiser;12.0;8;350.0;180.0;4499.;12.5;73;US\\n',\n",
       " 'AMC Gremlin;18.0;6;232.0;100.0;2789.;15.0;73;US\\n',\n",
       " 'Toyota Camry;20.0;4;97.00;88.00;2279.;19.0;73;Japan\\n',\n",
       " 'Chevrolet Vega;21.0;4;140.0;72.00;2401.;19.5;73;US\\n',\n",
       " 'Datsun 610;22.0;4;108.0;94.00;2379.;16.5;73;Japan\\n',\n",
       " 'Mazda RX3;18.0;3;70.00;90.00;2124.;13.5;73;Japan\\n',\n",
       " 'Ford Pinto;19.0;4;122.0;85.00;2310.;18.5;73;US\\n',\n",
       " 'Mercury Capri v6;21.0;6;155.0;107.0;2472.;14.0;73;US\\n',\n",
       " 'Fiat 124 Sport Coupe;26.0;4;98.00;90.00;2265.;15.5;73;Europe\\n',\n",
       " 'Chevrolet Monte Carlo S;15.0;8;350.0;145.0;4082.;13.0;73;US\\n',\n",
       " 'Pontiac Grand Prix;16.0;8;400.0;230.0;4278.;9.50;73;US\\n',\n",
       " 'Fiat 128;29.0;4;68.00;49.00;1867.;19.5;73;Europe\\n',\n",
       " 'Opel Manta;24.0;4;116.0;75.00;2158.;15.5;73;Europe\\n',\n",
       " 'Audi 100LS;20.0;4;114.0;91.00;2582.;14.0;73;Europe\\n',\n",
       " 'Volvo 144ea;19.0;4;121.0;112.0;2868.;15.5;73;Europe\\n',\n",
       " 'Dodge Dart Custom;15.0;8;318.0;150.0;3399.;11.0;73;US\\n',\n",
       " 'Saab 99le;24.0;4;121.0;110.0;2660.;14.0;73;Europe\\n',\n",
       " 'Toyota Mark II;20.0;6;156.0;122.0;2807.;13.5;73;Japan\\n',\n",
       " 'Oldsmobile Omega;11.0;8;350.0;180.0;3664.;11.0;73;US\\n',\n",
       " 'Plymouth Duster;20.0;6;198.0;95.00;3102.;16.5;74;US\\n',\n",
       " 'Ford Maverick;21.0;6;200.0;0;2875.;17.0;74;US\\n',\n",
       " 'AMC Hornet;19.0;6;232.0;100.0;2901.;16.0;74;US\\n',\n",
       " 'Chevrolet Nova;15.0;6;250.0;100.0;3336.;17.0;74;US\\n',\n",
       " 'Datsun B210;31.0;4;79.00;67.00;1950.;19.0;74;Japan\\n',\n",
       " 'Ford Pinto;26.0;4;122.0;80.00;2451.;16.5;74;US\\n',\n",
       " 'Toyota Corolla 1200;32.0;4;71.00;65.00;1836.;21.0;74;Japan\\n',\n",
       " 'Chevrolet Vega;25.0;4;140.0;75.00;2542.;17.0;74;US\\n',\n",
       " 'Chevrolet Chevelle Malibu Classic;16.0;6;250.0;100.0;3781.;17.0;74;US\\n',\n",
       " 'AMC Matador;16.0;6;258.0;110.0;3632.;18.0;74;US\\n',\n",
       " 'Plymouth Satellite Sebring;18.0;6;225.0;105.0;3613.;16.5;74;US\\n',\n",
       " 'Ford Gran Torino;16.0;8;302.0;140.0;4141.;14.0;74;US\\n',\n",
       " 'Buick Century Luxus (sw);13.0;8;350.0;150.0;4699.;14.5;74;US\\n',\n",
       " 'Dodge Coronet Custom (sw);14.0;8;318.0;150.0;4457.;13.5;74;US\\n',\n",
       " 'Ford Gran Torino (sw);14.0;8;302.0;140.0;4638.;16.0;74;US\\n',\n",
       " 'AMC Matador (sw);14.0;8;304.0;150.0;4257.;15.5;74;US\\n',\n",
       " 'Audi Fox;29.0;4;98.00;83.00;2219.;16.5;74;Europe\\n',\n",
       " 'Volkswagen Dasher;26.0;4;79.00;67.00;1963.;15.5;74;Europe\\n',\n",
       " 'Opel Manta;26.0;4;97.00;78.00;2300.;14.5;74;Europe\\n',\n",
       " 'Toyota Corolla;31.0;4;76.00;52.00;1649.;16.5;74;Japan\\n',\n",
       " 'Datsun 710;32.0;4;83.00;61.00;2003.;19.0;74;Japan\\n',\n",
       " 'Dodge Colt;28.0;4;90.00;75.00;2125.;14.5;74;US\\n',\n",
       " 'Fiat 128;24.0;4;90.00;75.00;2108.;15.5;74;Europe\\n',\n",
       " 'Fiat 124 TC;26.0;4;116.0;75.00;2246.;14.0;74;Europe\\n',\n",
       " 'Honda Civic;24.0;4;120.0;97.00;2489.;15.0;74;Japan\\n',\n",
       " 'Subaru;26.0;4;108.0;93.00;2391.;15.5;74;Japan\\n',\n",
       " 'Fiat x1.9;31.0;4;79.00;67.00;2000.;16.0;74;Europe\\n',\n",
       " 'Plymouth Valiant Custom;19.0;6;225.0;95.00;3264.;16.0;75;US\\n',\n",
       " 'Chevrolet Nova;18.0;6;250.0;105.0;3459.;16.0;75;US\\n',\n",
       " 'Mercury Monarch;15.0;6;250.0;72.00;3432.;21.0;75;US\\n',\n",
       " 'Ford Maverick;15.0;6;250.0;72.00;3158.;19.5;75;US\\n',\n",
       " 'Pontiac Catalina;16.0;8;400.0;170.0;4668.;11.5;75;US\\n',\n",
       " 'Chevrolet Bel Air;15.0;8;350.0;145.0;4440.;14.0;75;US\\n',\n",
       " 'Plymouth Grand Fury;16.0;8;318.0;150.0;4498.;14.5;75;US\\n',\n",
       " 'Ford LTD;14.0;8;351.0;148.0;4657.;13.5;75;US\\n',\n",
       " 'Buick Century;17.0;6;231.0;110.0;3907.;21.0;75;US\\n',\n",
       " 'Chevrolete Chevelle Malibu;16.0;6;250.0;105.0;3897.;18.5;75;US\\n',\n",
       " 'AMC Matador;15.0;6;258.0;110.0;3730.;19.0;75;US\\n',\n",
       " 'Plymouth Fury;18.0;6;225.0;95.00;3785.;19.0;75;US\\n',\n",
       " 'Buick Skyhawk;21.0;6;231.0;110.0;3039.;15.0;75;US\\n',\n",
       " 'Chevrolet Monza 2+2;20.0;8;262.0;110.0;3221.;13.5;75;US\\n',\n",
       " 'Ford Mustang II;13.0;8;302.0;129.0;3169.;12.0;75;US\\n',\n",
       " 'Toyota Corolla;29.0;4;97.00;75.00;2171.;16.0;75;Japan\\n',\n",
       " 'Ford Pinto;23.0;4;140.0;83.00;2639.;17.0;75;US\\n',\n",
       " 'AMC Gremlin;20.0;6;232.0;100.0;2914.;16.0;75;US\\n',\n",
       " 'Pontiac Astro;23.0;4;140.0;78.00;2592.;18.5;75;US\\n',\n",
       " 'Toyota Corolla;24.0;4;134.0;96.00;2702.;13.5;75;Japan\\n',\n",
       " 'Volkswagen Dasher;25.0;4;90.00;71.00;2223.;16.5;75;Europe\\n',\n",
       " 'Datsun 710;24.0;4;119.0;97.00;2545.;17.0;75;Japan\\n',\n",
       " 'Ford Pinto;18.0;6;171.0;97.00;2984.;14.5;75;US\\n',\n",
       " 'Volkswagen Rabbit;29.0;4;90.00;70.00;1937.;14.0;75;Europe\\n',\n",
       " 'AMC Pacer;19.0;6;232.0;90.00;3211.;17.0;75;US\\n',\n",
       " 'Audi 100LS;23.0;4;115.0;95.00;2694.;15.0;75;Europe\\n',\n",
       " 'Peugeot 504;23.0;4;120.0;88.00;2957.;17.0;75;Europe\\n',\n",
       " 'Volvo 244DL;22.0;4;121.0;98.00;2945.;14.5;75;Europe\\n',\n",
       " 'Saab 99LE;25.0;4;121.0;115.0;2671.;13.5;75;Europe\\n',\n",
       " 'Honda Civic CVCC;33.0;4;91.00;53.00;1795.;17.5;75;Japan\\n',\n",
       " 'Fiat 131;28.0;4;107.0;86.00;2464.;15.5;76;Europe\\n',\n",
       " 'Opel 1900;25.0;4;116.0;81.00;2220.;16.9;76;Europe\\n',\n",
       " 'Capri ii;25.0;4;140.0;92.00;2572.;14.9;76;US\\n',\n",
       " 'Dodge Colt;26.0;4;98.00;79.00;2255.;17.7;76;US\\n',\n",
       " 'Renault 12tl;27.0;4;101.0;83.00;2202.;15.3;76;Europe\\n',\n",
       " 'Chevrolet Chevelle Malibu Classic;17.5;8;305.0;140.0;4215.;13.0;76;US\\n',\n",
       " 'Dodge Coronet Brougham;16.0;8;318.0;150.0;4190.;13.0;76;US\\n',\n",
       " 'AMC Matador;15.5;8;304.0;120.0;3962.;13.9;76;US\\n',\n",
       " 'Ford Gran Torino;14.5;8;351.0;152.0;4215.;12.8;76;US\\n',\n",
       " 'Plymouth Valiant;22.0;6;225.0;100.0;3233.;15.4;76;US\\n',\n",
       " 'Chevrolet Nova;22.0;6;250.0;105.0;3353.;14.5;76;US\\n',\n",
       " 'Ford Maverick;24.0;6;200.0;81.00;3012.;17.6;76;US\\n',\n",
       " 'AMC Hornet;22.5;6;232.0;90.00;3085.;17.6;76;US\\n',\n",
       " 'Chevrolet Chevette;29.0;4;85.00;52.00;2035.;22.2;76;US\\n',\n",
       " 'Chevrolet Woody;24.5;4;98.00;60.00;2164.;22.1;76;US\\n',\n",
       " 'Volkswagen Rabbit;29.0;4;90.00;70.00;1937.;14.2;76;Europe\\n',\n",
       " 'Honda Civic;33.0;4;91.00;53.00;1795.;17.4;76;Japan\\n',\n",
       " 'Dodge Aspen SE;20.0;6;225.0;100.0;3651.;17.7;76;US\\n',\n",
       " 'Ford Grenada ghia;18.0;6;250.0;78.00;3574.;21.0;76;US\\n',\n",
       " 'Pontiac Ventura SJ;18.5;6;250.0;110.0;3645.;16.2;76;US\\n',\n",
       " 'AMC Pacer d/l;17.5;6;258.0;95.00;3193.;17.8;76;US\\n',\n",
       " 'Volkswagen Rabbit;29.5;4;97.00;71.00;1825.;12.2;76;Europe\\n',\n",
       " 'Datsun B-210;32.0;4;85.00;70.00;1990.;17.0;76;Japan\\n',\n",
       " 'Toyota Corolla;28.0;4;97.00;75.00;2155.;16.4;76;Japan\\n',\n",
       " 'Ford Pinto;26.5;4;140.0;72.00;2565.;13.6;76;US\\n',\n",
       " 'Volvo 245;20.0;4;130.0;102.0;3150.;15.7;76;Europe\\n',\n",
       " 'Plymouth Volare Premier v8;13.0;8;318.0;150.0;3940.;13.2;76;US\\n',\n",
       " 'Peugeot 504;19.0;4;120.0;88.00;3270.;21.9;76;Europe\\n',\n",
       " 'Toyota Mark II;19.0;6;156.0;108.0;2930.;15.5;76;Japan\\n',\n",
       " 'Mercedes-Benz 280s;16.5;6;168.0;120.0;3820.;16.7;76;Europe\\n',\n",
       " 'Cadillac Seville;16.5;8;350.0;180.0;4380.;12.1;76;US\\n',\n",
       " 'Chevrolet C10;13.0;8;350.0;145.0;4055.;12.0;76;US\\n',\n",
       " 'Ford F108;13.0;8;302.0;130.0;3870.;15.0;76;US\\n',\n",
       " 'Dodge D100;13.0;8;318.0;150.0;3755.;14.0;76;US\\n',\n",
       " 'Honda Accord CVCC;31.5;4;98.00;68.00;2045.;18.5;77;Japan\\n',\n",
       " 'Buick Opel Isuzu Deluxe;30.0;4;111.0;80.00;2155.;14.8;77;US\\n',\n",
       " 'Renault 5 GTL;36.0;4;79.00;58.00;1825.;18.6;77;Europe\\n',\n",
       " 'Plymouth Arrow GS;25.5;4;122.0;96.00;2300.;15.5;77;US\\n',\n",
       " 'Datsun F-10 Hatchback;33.5;4;85.00;70.00;1945.;16.8;77;Japan\\n',\n",
       " 'Chevrolet Caprice Classic;17.5;8;305.0;145.0;3880.;12.5;77;US\\n',\n",
       " 'Oldsmobile Cutlass Supreme;17.0;8;260.0;110.0;4060.;19.0;77;US\\n',\n",
       " 'Dodge Monaco Brougham;15.5;8;318.0;145.0;4140.;13.7;77;US\\n',\n",
       " 'Mercury Cougar Brougham;15.0;8;302.0;130.0;4295.;14.9;77;US\\n',\n",
       " 'Chevrolet Concours;17.5;6;250.0;110.0;3520.;16.4;77;US\\n',\n",
       " 'Buick Skylark;20.5;6;231.0;105.0;3425.;16.9;77;US\\n',\n",
       " 'Plymouth Volare Custom;19.0;6;225.0;100.0;3630.;17.7;77;US\\n',\n",
       " 'Ford Grenada;18.5;6;250.0;98.00;3525.;19.0;77;US\\n',\n",
       " 'Pontiac Grand Prix LJ;16.0;8;400.0;180.0;4220.;11.1;77;US\\n',\n",
       " 'Chevrolet Monte Carlo Landau;15.5;8;350.0;170.0;4165.;11.4;77;US\\n',\n",
       " 'Chrysler Cordoba;15.5;8;400.0;190.0;4325.;12.2;77;US\\n',\n",
       " 'Ford Thunderbird;16.0;8;351.0;149.0;4335.;14.5;77;US\\n',\n",
       " 'Volkswagen Rabbit Custom;29.0;4;97.00;78.00;1940.;14.5;77;Europe\\n',\n",
       " 'Pontiac Sunbird Coupe;24.5;4;151.0;88.00;2740.;16.0;77;US\\n',\n",
       " 'Toyota Corolla Liftback;26.0;4;97.00;75.00;2265.;18.2;77;Japan\\n',\n",
       " 'Ford Mustang II 2+2;25.5;4;140.0;89.00;2755.;15.8;77;US\\n',\n",
       " 'Chevrolet Chevette;30.5;4;98.00;63.00;2051.;17.0;77;US\\n',\n",
       " 'Dodge Colt m/m;33.5;4;98.00;83.00;2075.;15.9;77;US\\n',\n",
       " 'Subaru DL;30.0;4;97.00;67.00;1985.;16.4;77;Japan\\n',\n",
       " 'Volkswagen Dasher;30.5;4;97.00;78.00;2190.;14.1;77;Europe\\n',\n",
       " 'Datsun 810;22.0;6;146.0;97.00;2815.;14.5;77;Japan\\n',\n",
       " 'BMW 320i;21.5;4;121.0;110.0;2600.;12.8;77;Europe\\n',\n",
       " 'Mazda RX-4;21.5;3;80.00;110.0;2720.;13.5;77;Japan\\n',\n",
       " 'Volkswagen Rabbit Custom Diesel;43.1;4;90.00;48.00;1985.;21.5;78;Europe\\n',\n",
       " 'Ford Fiesta;36.1;4;98.00;66.00;1800.;14.4;78;US\\n',\n",
       " 'Mazda GLC Deluxe;32.8;4;78.00;52.00;1985.;19.4;78;Japan\\n',\n",
       " 'Datsun B210 GX;39.4;4;85.00;70.00;2070.;18.6;78;Japan\\n',\n",
       " 'Honda Civic CVCC;36.1;4;91.00;60.00;1800.;16.4;78;Japan\\n',\n",
       " 'Oldsmobile Cutlass Salon Brougham;19.9;8;260.0;110.0;3365.;15.5;78;US\\n',\n",
       " 'Dodge Diplomat;19.4;8;318.0;140.0;3735.;13.2;78;US\\n',\n",
       " 'Mercury Monarch ghia;20.2;8;302.0;139.0;3570.;12.8;78;US\\n',\n",
       " 'Pontiac Phoenix LJ;19.2;6;231.0;105.0;3535.;19.2;78;US\\n',\n",
       " 'Chevrolet Malibu;20.5;6;200.0;95.00;3155.;18.2;78;US\\n',\n",
       " 'Ford Fairmont (auto);20.2;6;200.0;85.00;2965.;15.8;78;US\\n',\n",
       " 'Ford Fairmont (man);25.1;4;140.0;88.00;2720.;15.4;78;US\\n',\n",
       " 'Plymouth Volare;20.5;6;225.0;100.0;3430.;17.2;78;US\\n',\n",
       " 'AMC Concord;19.4;6;232.0;90.00;3210.;17.2;78;US\\n',\n",
       " 'Buick Century Special;20.6;6;231.0;105.0;3380.;15.8;78;US\\n',\n",
       " 'Mercury Zephyr;20.8;6;200.0;85.00;3070.;16.7;78;US\\n',\n",
       " 'Dodge Aspen;18.6;6;225.0;110.0;3620.;18.7;78;US\\n',\n",
       " 'AMC Concord d/l;18.1;6;258.0;120.0;3410.;15.1;78;US\\n',\n",
       " 'Chevrolet Monte Carlo Landau;19.2;8;305.0;145.0;3425.;13.2;78;US\\n',\n",
       " 'Buick Regal Sport Coupe (turbo);17.7;6;231.0;165.0;3445.;13.4;78;US\\n',\n",
       " 'Ford Futura;18.1;8;302.0;139.0;3205.;11.2;78;US\\n',\n",
       " 'Dodge Magnum XE;17.5;8;318.0;140.0;4080.;13.7;78;US\\n',\n",
       " 'Chevrolet Chevette;30.0;4;98.00;68.00;2155.;16.5;78;US\\n',\n",
       " 'Toyota Corolla;27.5;4;134.0;95.00;2560.;14.2;78;Japan\\n',\n",
       " 'Datsun 510;27.2;4;119.0;97.00;2300.;14.7;78;Japan\\n',\n",
       " 'Dodge Omni;30.9;4;105.0;75.00;2230.;14.5;78;US\\n',\n",
       " 'Toyota Celica GT Liftback;21.1;4;134.0;95.00;2515.;14.8;78;Japan\\n',\n",
       " 'Plymouth Sapporo;23.2;4;156.0;105.0;2745.;16.7;78;US\\n',\n",
       " 'Oldsmobile Starfire SX;23.8;4;151.0;85.00;2855.;17.6;78;US\\n',\n",
       " 'Datsun 200-SX;23.9;4;119.0;97.00;2405.;14.9;78;Japan\\n',\n",
       " 'Audi 5000;20.3;5;131.0;103.0;2830.;15.9;78;Europe\\n',\n",
       " 'Volvo 264gl;17.0;6;163.0;125.0;3140.;13.6;78;Europe\\n',\n",
       " 'Saab 99gle;21.6;4;121.0;115.0;2795.;15.7;78;Europe\\n',\n",
       " 'Peugeot 604sl;16.2;6;163.0;133.0;3410.;15.8;78;Europe\\n',\n",
       " 'Volkswagen Scirocco;31.5;4;89.00;71.00;1990.;14.9;78;Europe\\n',\n",
       " 'Honda Accord LX;29.5;4;98.00;68.00;2135.;16.6;78;Japan\\n',\n",
       " 'Pontiac Lemans V6;21.5;6;231.0;115.0;3245.;15.4;79;US\\n',\n",
       " 'Mercury Zephyr 6;19.8;6;200.0;85.00;2990.;18.2;79;US\\n',\n",
       " 'Ford Fairmont 4;22.3;4;140.0;88.00;2890.;17.3;79;US\\n',\n",
       " 'AMC Concord DL 6;20.2;6;232.0;90.00;3265.;18.2;79;US\\n',\n",
       " 'Dodge Aspen 6;20.6;6;225.0;110.0;3360.;16.6;79;US\\n',\n",
       " 'Chevrolet Caprice Classic;17.0;8;305.0;130.0;3840.;15.4;79;US\\n',\n",
       " 'Ford LTD Landau;17.6;8;302.0;129.0;3725.;13.4;79;US\\n',\n",
       " 'Mercury Grand Marquis;16.5;8;351.0;138.0;3955.;13.2;79;US\\n',\n",
       " 'Dodge St. Regis;18.2;8;318.0;135.0;3830.;15.2;79;US\\n',\n",
       " 'Buick Estate Wagon (sw);16.9;8;350.0;155.0;4360.;14.9;79;US\\n',\n",
       " 'Ford Country Squire (sw);15.5;8;351.0;142.0;4054.;14.3;79;US\\n',\n",
       " 'Chevrolet Malibu Classic (sw);19.2;8;267.0;125.0;3605.;15.0;79;US\\n',\n",
       " 'Chrysler Lebaron Town @ Country (sw);18.5;8;360.0;150.0;3940.;13.0;79;US\\n',\n",
       " 'Volkswagen Rabbit Custom;31.9;4;89.00;71.00;1925.;14.0;79;Europe\\n',\n",
       " 'Mazda GLC Deluxe;34.1;4;86.00;65.00;1975.;15.2;79;Japan\\n',\n",
       " 'Dodge Colt Hatchback Custom;35.7;4;98.00;80.00;1915.;14.4;79;US\\n',\n",
       " 'AMC Spirit DL;27.4;4;121.0;80.00;2670.;15.0;79;US\\n',\n",
       " 'Mercedes Benz 300d;25.4;5;183.0;77.00;3530.;20.1;79;Europe\\n',\n",
       " 'Cadillac Eldorado;23.0;8;350.0;125.0;3900.;17.4;79;US\\n',\n",
       " 'Peugeot 504;27.2;4;141.0;71.00;3190.;24.8;79;Europe\\n',\n",
       " 'Oldsmobile Cutlass Salon Brougham;23.9;8;260.0;90.00;3420.;22.2;79;US\\n',\n",
       " 'Plymouth Horizon;34.2;4;105.0;70.00;2200.;13.2;79;US\\n',\n",
       " 'Plymouth Horizon TC3;34.5;4;105.0;70.00;2150.;14.9;79;US\\n',\n",
       " 'Datsun 210;31.8;4;85.00;65.00;2020.;19.2;79;Japan\\n',\n",
       " 'Fiat Strada Custom;37.3;4;91.00;69.00;2130.;14.7;79;Europe\\n',\n",
       " 'Buick Skylark Limited;28.4;4;151.0;90.00;2670.;16.0;79;US\\n',\n",
       " 'Chevrolet Citation;28.8;6;173.0;115.0;2595.;11.3;79;US\\n',\n",
       " 'Oldsmobile Omega Brougham;26.8;6;173.0;115.0;2700.;12.9;79;US\\n',\n",
       " 'Pontiac Phoenix;33.5;4;151.0;90.00;2556.;13.2;79;US\\n',\n",
       " 'Volkswagen Rabbit;41.5;4;98.00;76.00;2144.;14.7;80;Europe\\n',\n",
       " 'Toyota Corolla Tercel;38.1;4;89.00;60.00;1968.;18.8;80;Japan\\n',\n",
       " 'Chevrolet Chevette;32.1;4;98.00;70.00;2120.;15.5;80;US\\n',\n",
       " 'Datsun 310;37.2;4;86.00;65.00;2019.;16.4;80;Japan\\n',\n",
       " 'Chevrolet Citation;28.0;4;151.0;90.00;2678.;16.5;80;US\\n',\n",
       " 'Ford Fairmont;26.4;4;140.0;88.00;2870.;18.1;80;US\\n',\n",
       " 'AMC Concord;24.3;4;151.0;90.00;3003.;20.1;80;US\\n',\n",
       " 'Dodge Aspen;19.1;6;225.0;90.00;3381.;18.7;80;US\\n',\n",
       " 'Audi 4000;34.3;4;97.00;78.00;2188.;15.8;80;Europe\\n',\n",
       " 'Toyota Corolla Liftback;29.8;4;134.0;90.00;2711.;15.5;80;Japan\\n',\n",
       " 'Mazda 626;31.3;4;120.0;75.00;2542.;17.5;80;Japan\\n',\n",
       " 'Datsun 510 Hatchback;37.0;4;119.0;92.00;2434.;15.0;80;Japan\\n',\n",
       " 'Toyota Corolla;32.2;4;108.0;75.00;2265.;15.2;80;Japan\\n',\n",
       " 'Mazda GLC;46.6;4;86.00;65.00;2110.;17.9;80;Japan\\n',\n",
       " 'Dodge Colt;27.9;4;156.0;105.0;2800.;14.4;80;US\\n',\n",
       " 'Datsun 210;40.8;4;85.00;65.00;2110.;19.2;80;Japan\\n',\n",
       " 'Volkswagen Rabbit C (Diesel);44.3;4;90.00;48.00;2085.;21.7;80;Europe\\n',\n",
       " 'Volkswagen Dasher (diesel);43.4;4;90.00;48.00;2335.;23.7;80;Europe\\n',\n",
       " 'Audi 5000s (diesel);36.4;5;121.0;67.00;2950.;19.9;80;Europe\\n',\n",
       " 'Mercedes-Benz 240d;30.0;4;146.0;67.00;3250.;21.8;80;Europe\\n',\n",
       " 'Honda Civic 1500 gl;44.6;4;91.00;67.00;1850.;13.8;80;Japan\\n',\n",
       " 'Renault Lecar Deluxe;40.9;4;85.00;0;1835.;17.3;80;Europe\\n',\n",
       " 'Subaru DL;33.8;4;97.00;67.00;2145.;18.0;80;Japan\\n',\n",
       " 'Volkswagen Rabbit;29.8;4;89.00;62.00;1845.;15.3;80;Europe\\n',\n",
       " 'Datsun 280-ZX;32.7;6;168.0;132.0;2910.;11.4;80;Japan\\n',\n",
       " 'Mazda RX-7 GS;23.7;3;70.00;100.0;2420.;12.5;80;Japan\\n',\n",
       " 'Triumph TR7 Coupe;35.0;4;122.0;88.00;2500.;15.1;80;Europe\\n',\n",
       " 'Ford Mustang Cobra;23.6;4;140.0;0;2905.;14.3;80;US\\n',\n",
       " 'Honda Accord;32.4;4;107.0;72.00;2290.;17.0;80;Japan\\n',\n",
       " 'Plymouth Reliant;27.2;4;135.0;84.00;2490.;15.7;81;US\\n',\n",
       " 'Buick Skylark;26.6;4;151.0;84.00;2635.;16.4;81;US\\n',\n",
       " 'Dodge Aries Wagon (sw);25.8;4;156.0;92.00;2620.;14.4;81;US\\n',\n",
       " 'Chevrolet Citation;23.5;6;173.0;110.0;2725.;12.6;81;US\\n',\n",
       " 'Plymouth Reliant;30.0;4;135.0;84.00;2385.;12.9;81;US\\n',\n",
       " 'Toyota Starlet;39.1;4;79.00;58.00;1755.;16.9;81;Japan\\n',\n",
       " 'Plymouth Champ;39.0;4;86.00;64.00;1875.;16.4;81;US\\n',\n",
       " 'Honda Civic 1300;35.1;4;81.00;60.00;1760.;16.1;81;Japan\\n',\n",
       " 'Subaru;32.3;4;97.00;67.00;2065.;17.8;81;Japan\\n',\n",
       " 'Datsun 210 MPG;37.0;4;85.00;65.00;1975.;19.4;81;Japan\\n',\n",
       " 'Toyota Tercel;37.7;4;89.00;62.00;2050.;17.3;81;Japan\\n',\n",
       " 'Mazda GLC 4;34.1;4;91.00;68.00;1985.;16.0;81;Japan\\n',\n",
       " 'Plymouth Horizon 4;34.7;4;105.0;63.00;2215.;14.9;81;US\\n',\n",
       " 'Ford Escort 4W;34.4;4;98.00;65.00;2045.;16.2;81;US\\n',\n",
       " 'Ford Escort 2H;29.9;4;98.00;65.00;2380.;20.7;81;US\\n',\n",
       " 'Volkswagen Jetta;33.0;4;105.0;74.00;2190.;14.2;81;Europe\\n',\n",
       " 'Renault 18i;34.5;4;100.0;0;2320.;15.8;81;Europe\\n',\n",
       " 'Honda Prelude;33.7;4;107.0;75.00;2210.;14.4;81;Japan\\n',\n",
       " 'Toyota Corolla;32.4;4;108.0;75.00;2350.;16.8;81;Japan\\n',\n",
       " 'Datsun 200SX;32.9;4;119.0;100.0;2615.;14.8;81;Japan\\n',\n",
       " 'Mazda 626;31.6;4;120.0;74.00;2635.;18.3;81;Japan\\n',\n",
       " 'Peugeot 505s Turbo Diesel;28.1;4;141.0;80.00;3230.;20.4;81;Europe\\n',\n",
       " 'Saab 900s;0;4;121.0;110.0;2800.;15.4;81;Europe\\n',\n",
       " 'Volvo Diesel;30.7;6;145.0;76.00;3160.;19.6;81;Europe\\n',\n",
       " 'Toyota Cressida;25.4;6;168.0;116.0;2900.;12.6;81;Japan\\n',\n",
       " 'Datsun 810 Maxima;24.2;6;146.0;120.0;2930.;13.8;81;Japan\\n',\n",
       " 'Buick Century;22.4;6;231.0;110.0;3415.;15.8;81;US\\n',\n",
       " 'Oldsmobile Cutlass LS;26.6;8;350.0;105.0;3725.;19.0;81;US\\n',\n",
       " 'Ford Grenada gl;20.2;6;200.0;88.00;3060.;17.1;81;US\\n',\n",
       " 'Chrysler Lebaron Salon;17.6;6;225.0;85.00;3465.;16.6;81;US\\n',\n",
       " 'Chevrolet Cavalier;28.0;4;112.0;88.00;2605.;19.6;82;US\\n',\n",
       " 'Chevrolet Cavalier Wagon;27.0;4;112.0;88.00;2640.;18.6;82;US\\n',\n",
       " 'Chevrolet Cavalier 2-door;34.0;4;112.0;88.00;2395.;18.0;82;US\\n',\n",
       " 'Pontiac J2000 SE Hatchback;31.0;4;112.0;85.00;2575.;16.2;82;US\\n',\n",
       " 'Dodge Aries SE;29.0;4;135.0;84.00;2525.;16.0;82;US\\n',\n",
       " 'Pontiac Phoenix;27.0;4;151.0;90.00;2735.;18.0;82;US\\n',\n",
       " 'Ford Fairmont Futura;24.0;4;140.0;92.00;2865.;16.4;82;US\\n',\n",
       " 'AMC Concord DL;23.0;4;151.0;0;3035.;20.5;82;US\\n',\n",
       " 'Volkswagen Rabbit l;36.0;4;105.0;74.00;1980.;15.3;82;Europe\\n',\n",
       " 'Mazda GLC Custom l;37.0;4;91.00;68.00;2025.;18.2;82;Japan\\n',\n",
       " 'Mazda GLC Custom;31.0;4;91.00;68.00;1970.;17.6;82;Japan\\n',\n",
       " 'Plymouth Horizon Miser;38.0;4;105.0;63.00;2125.;14.7;82;US\\n',\n",
       " 'Mercury Lynx l;36.0;4;98.00;70.00;2125.;17.3;82;US\\n',\n",
       " 'Nissan Stanza XE;36.0;4;120.0;88.00;2160.;14.5;82;Japan\\n',\n",
       " 'Honda Accord;36.0;4;107.0;75.00;2205.;14.5;82;Japan\\n',\n",
       " 'Toyota Corolla;34.0;4;108.0;70.00;2245;16.9;82;Japan\\n',\n",
       " 'Honda Civic;38.0;4;91.00;67.00;1965.;15.0;82;Japan\\n',\n",
       " 'Honda Civic (auto);32.0;4;91.00;67.00;1965.;15.7;82;Japan\\n',\n",
       " 'Datsun 310 GX;38.0;4;91.00;67.00;1995.;16.2;82;Japan\\n',\n",
       " 'Buick Century Limited;25.0;6;181.0;110.0;2945.;16.4;82;US\\n',\n",
       " 'Oldsmobile Cutlass Ciera (diesel);38.0;6;262.0;85.00;3015.;17.0;82;US\\n',\n",
       " 'Chrysler Lebaron Medallion;26.0;4;156.0;92.00;2585.;14.5;82;US\\n',\n",
       " 'Ford Grenada l;22.0;6;232.0;112.0;2835;14.7;82;US\\n',\n",
       " 'Toyota Celica GT;32.0;4;144.0;96.00;2665.;13.9;82;Japan\\n',\n",
       " 'Dodge Charger 2.2;36.0;4;135.0;84.00;2370.;13.0;82;US\\n',\n",
       " 'Chevrolet Camaro;27.0;4;151.0;90.00;2950.;17.3;82;US\\n',\n",
       " 'Ford Mustang GL;27.0;4;140.0;86.00;2790.;15.6;82;US\\n',\n",
       " 'Volkswagen Pickup;44.0;4;97.00;52.00;2130.;24.6;82;Europe\\n',\n",
       " 'Dodge Rampage;32.0;4;135.0;84.00;2295.;11.6;82;US\\n',\n",
       " 'Ford Ranger;28.0;4;120.0;79.00;2625.;18.6;82;US\\n',\n",
       " 'Chevy S-10;31.0;4;119.0;82.00;2720.;19.4;82;US\\n']"
      ]
     },
     "execution_count": 124,
     "metadata": {},
     "output_type": "execute_result"
    }
   ],
   "source": [
    "l # the entire file has to be in the list ...>>>> has to come into memory .. the second issue .. we are not using ... why load the entire file .. "
   ]
  },
  {
   "cell_type": "code",
   "execution_count": 128,
   "metadata": {},
   "outputs": [
    {
     "name": "stdout",
     "output_type": "stream",
     "text": [
      "{'US', 'Japan', 'Europe'}\n"
     ]
    }
   ],
   "source": [
    "origins = set() \n",
    "with open('cars.csv') as f:\n",
    "    rows= f.readlines() # read the entire file into a memory \n",
    "for r in rows[2:]:\n",
    "    origin = r.strip('\\n').split(';')[-1]\n",
    "    origins.add(origin)\n",
    "print(origins)\n",
    "\n"
   ]
  },
  {
   "cell_type": "code",
   "execution_count": 129,
   "metadata": {},
   "outputs": [
    {
     "name": "stdout",
     "output_type": "stream",
     "text": [
      "{'US', 'Japan', 'Europe'}\n"
     ]
    }
   ],
   "source": [
    "origins = set()\n",
    "\n",
    "with open('cars.csv') as f:\n",
    "    next(f), next(f) # don't load the entier fiel to a mermory \n",
    "    for r in f:\n",
    "        origin = r.strip('\\n').split(';')[-1]\n",
    "        origins.add(origin)\n",
    "print(origins)\n",
    "        "
   ]
  },
  {
   "cell_type": "code",
   "execution_count": 130,
   "metadata": {},
   "outputs": [],
   "source": [
    "# enumerate is also a lazy iterator \n",
    "e = enumerate('Python rocks')"
   ]
  },
  {
   "cell_type": "code",
   "execution_count": 131,
   "metadata": {},
   "outputs": [
    {
     "data": {
      "text/plain": [
       "True"
      ]
     },
     "execution_count": 131,
     "metadata": {},
     "output_type": "execute_result"
    }
   ],
   "source": [
    "iter(e) is e"
   ]
  },
  {
   "cell_type": "code",
   "execution_count": 132,
   "metadata": {},
   "outputs": [
    {
     "data": {
      "text/plain": [
       "True"
      ]
     },
     "execution_count": 132,
     "metadata": {},
     "output_type": "execute_result"
    }
   ],
   "source": [
    "'__next__' in dir(e)"
   ]
  },
  {
   "cell_type": "code",
   "execution_count": 133,
   "metadata": {},
   "outputs": [
    {
     "data": {
      "text/plain": [
       "[(0, 'P'),\n",
       " (1, 'y'),\n",
       " (2, 't'),\n",
       " (3, 'h'),\n",
       " (4, 'o'),\n",
       " (5, 'n'),\n",
       " (6, ' '),\n",
       " (7, 'r'),\n",
       " (8, 'o'),\n",
       " (9, 'c'),\n",
       " (10, 'k'),\n",
       " (11, 's')]"
      ]
     },
     "execution_count": 133,
     "metadata": {},
     "output_type": "execute_result"
    }
   ],
   "source": [
    "list(e)"
   ]
  },
  {
   "cell_type": "code",
   "execution_count": 134,
   "metadata": {},
   "outputs": [
    {
     "data": {
      "text/plain": [
       "[]"
      ]
     },
     "execution_count": 134,
     "metadata": {},
     "output_type": "execute_result"
    }
   ],
   "source": [
    "list(e)"
   ]
  },
  {
   "cell_type": "code",
   "execution_count": 135,
   "metadata": {},
   "outputs": [],
   "source": [
    "d = {'a':1, 'b':2}"
   ]
  },
  {
   "cell_type": "code",
   "execution_count": 140,
   "metadata": {},
   "outputs": [],
   "source": [
    "keys = d.keys()"
   ]
  },
  {
   "cell_type": "code",
   "execution_count": 141,
   "metadata": {},
   "outputs": [
    {
     "data": {
      "text/plain": [
       "False"
      ]
     },
     "execution_count": 141,
     "metadata": {},
     "output_type": "execute_result"
    }
   ],
   "source": [
    "iter(keys) is keys"
   ]
  },
  {
   "cell_type": "code",
   "execution_count": 142,
   "metadata": {},
   "outputs": [
    {
     "data": {
      "text/plain": [
       "True"
      ]
     },
     "execution_count": 142,
     "metadata": {},
     "output_type": "execute_result"
    }
   ],
   "source": [
    "'__iter__' in dir(keys)"
   ]
  },
  {
   "cell_type": "code",
   "execution_count": 143,
   "metadata": {},
   "outputs": [
    {
     "data": {
      "text/plain": [
       "False"
      ]
     },
     "execution_count": 143,
     "metadata": {},
     "output_type": "execute_result"
    }
   ],
   "source": [
    "'__next__' in dir(keys)"
   ]
  },
  {
   "cell_type": "code",
   "execution_count": 144,
   "metadata": {},
   "outputs": [
    {
     "data": {
      "text/plain": [
       "['a', 'b']"
      ]
     },
     "execution_count": 144,
     "metadata": {},
     "output_type": "execute_result"
    }
   ],
   "source": [
    "list(keys)"
   ]
  },
  {
   "cell_type": "code",
   "execution_count": 145,
   "metadata": {},
   "outputs": [
    {
     "data": {
      "text/plain": [
       "['a', 'b']"
      ]
     },
     "execution_count": 145,
     "metadata": {},
     "output_type": "execute_result"
    }
   ],
   "source": [
    "list(keys)"
   ]
  },
  {
   "cell_type": "code",
   "execution_count": 146,
   "metadata": {},
   "outputs": [],
   "source": [
    "# iterable .. keys ... enumerate are iterator .."
   ]
  },
  {
   "cell_type": "markdown",
   "metadata": {},
   "source": [
    "# Sort iterable .."
   ]
  },
  {
   "cell_type": "code",
   "execution_count": 147,
   "metadata": {},
   "outputs": [],
   "source": [
    "import random "
   ]
  },
  {
   "cell_type": "code",
   "execution_count": 151,
   "metadata": {},
   "outputs": [
    {
     "name": "stdout",
     "output_type": "stream",
     "text": [
      "7\n",
      "7\n",
      "1\n",
      "5\n",
      "9\n",
      "8\n",
      "7\n",
      "5\n",
      "8\n",
      "6\n"
     ]
    }
   ],
   "source": [
    "random.seed(0)\n",
    "for _ in range(10):\n",
    "    print(random.randint(1, 10))"
   ]
  },
  {
   "cell_type": "code",
   "execution_count": 152,
   "metadata": {},
   "outputs": [
    {
     "name": "stdout",
     "output_type": "stream",
     "text": [
      "10\n",
      "4\n",
      "9\n",
      "3\n",
      "5\n",
      "3\n",
      "2\n",
      "10\n",
      "5\n",
      "9\n"
     ]
    }
   ],
   "source": [
    "for _ in range(10):\n",
    "    print(random.randint(1, 10))"
   ]
  },
  {
   "cell_type": "code",
   "execution_count": 153,
   "metadata": {},
   "outputs": [],
   "source": [
    "class RandomInts:\n",
    "    def __init__(self, length, *, seed=0, lower=0, upper=10):\n",
    "        self.length = length\n",
    "        self.seed = seed \n",
    "        self.lower = lower \n",
    "        self.upper = upper \n",
    "        \n",
    "    def __len__(self):\n",
    "        return self.length\n",
    "    \n",
    "    def __iter__(self):\n",
    "        return self.RandomIterator(self.length,\n",
    "                                   seed=self.seed\n",
    "                                   , lower=self.lower,\n",
    "                                   upper=self.upper)\n",
    "        \n",
    "        \n",
    "    class RandomIterator:\n",
    "        def __init__(self, length, *, seed, lower, upper):\n",
    "            self.length = length \n",
    "            self.lower = lower \n",
    "            self.upper = upper \n",
    "            self.num_requests = 0\n",
    "            random.seed(seed)\n",
    "            \n",
    "        def __iter__(self):\n",
    "            return self\n",
    "        \n",
    "        def __next__(self):\n",
    "            if self.num_requests >= self.length:\n",
    "                raise StopIteration\n",
    "            else:\n",
    "                result = random.randint(self.lower, self.upper)\n",
    "                self.num_requests += 1\n",
    "                return result\n",
    "                "
   ]
  },
  {
   "cell_type": "code",
   "execution_count": 154,
   "metadata": {},
   "outputs": [],
   "source": [
    "randoms = RandomInts(10)"
   ]
  },
  {
   "cell_type": "code",
   "execution_count": 155,
   "metadata": {},
   "outputs": [
    {
     "name": "stdout",
     "output_type": "stream",
     "text": [
      "6\n",
      "6\n",
      "0\n",
      "4\n",
      "8\n",
      "7\n",
      "6\n",
      "4\n",
      "7\n",
      "5\n"
     ]
    }
   ],
   "source": [
    "for num in randoms:\n",
    "    print(num)"
   ]
  },
  {
   "cell_type": "code",
   "execution_count": 156,
   "metadata": {},
   "outputs": [
    {
     "name": "stdout",
     "output_type": "stream",
     "text": [
      "6\n",
      "6\n",
      "0\n",
      "4\n",
      "8\n",
      "7\n",
      "6\n",
      "4\n",
      "7\n",
      "5\n"
     ]
    }
   ],
   "source": [
    "for num in randoms:\n",
    "    print(num)"
   ]
  },
  {
   "cell_type": "code",
   "execution_count": 157,
   "metadata": {},
   "outputs": [],
   "source": [
    "randoms = RandomInts(10, seed=None)"
   ]
  },
  {
   "cell_type": "code",
   "execution_count": 158,
   "metadata": {},
   "outputs": [
    {
     "name": "stdout",
     "output_type": "stream",
     "text": [
      "9\n",
      "2\n",
      "6\n",
      "10\n",
      "0\n",
      "4\n",
      "4\n",
      "9\n",
      "3\n",
      "8\n"
     ]
    }
   ],
   "source": [
    "for num in randoms:\n",
    "    print(num)"
   ]
  },
  {
   "cell_type": "code",
   "execution_count": 159,
   "metadata": {},
   "outputs": [
    {
     "name": "stdout",
     "output_type": "stream",
     "text": [
      "9\n",
      "7\n",
      "5\n",
      "9\n",
      "0\n",
      "4\n",
      "4\n",
      "2\n",
      "2\n",
      "10\n"
     ]
    }
   ],
   "source": [
    "for num in randoms:\n",
    "    print(num)"
   ]
  },
  {
   "cell_type": "code",
   "execution_count": 160,
   "metadata": {},
   "outputs": [],
   "source": [
    "randoms = RandomInts(10, seed=42)"
   ]
  },
  {
   "cell_type": "code",
   "execution_count": 161,
   "metadata": {},
   "outputs": [
    {
     "name": "stdout",
     "output_type": "stream",
     "text": [
      "10\n",
      "1\n",
      "0\n",
      "4\n",
      "3\n",
      "3\n",
      "2\n",
      "1\n",
      "10\n",
      "8\n"
     ]
    }
   ],
   "source": [
    "for num in randoms:\n",
    "    print(num)"
   ]
  },
  {
   "cell_type": "code",
   "execution_count": 162,
   "metadata": {},
   "outputs": [
    {
     "name": "stdout",
     "output_type": "stream",
     "text": [
      "10\n",
      "1\n",
      "0\n",
      "4\n",
      "3\n",
      "3\n",
      "2\n",
      "1\n",
      "10\n",
      "8\n"
     ]
    }
   ],
   "source": [
    "for num in randoms:\n",
    "    print(num)"
   ]
  },
  {
   "cell_type": "code",
   "execution_count": 163,
   "metadata": {},
   "outputs": [
    {
     "data": {
      "text/plain": [
       "[10, 1, 0, 4, 3, 3, 2, 1, 10, 8]"
      ]
     },
     "execution_count": 163,
     "metadata": {},
     "output_type": "execute_result"
    }
   ],
   "source": [
    "list(randoms)"
   ]
  },
  {
   "cell_type": "code",
   "execution_count": 164,
   "metadata": {},
   "outputs": [
    {
     "data": {
      "text/plain": [
       "[0, 1, 1, 2, 3, 3, 4, 8, 10, 10]"
      ]
     },
     "execution_count": 164,
     "metadata": {},
     "output_type": "execute_result"
    }
   ],
   "source": [
    "sorted(randoms)"
   ]
  },
  {
   "cell_type": "code",
   "execution_count": 165,
   "metadata": {},
   "outputs": [
    {
     "data": {
      "text/plain": [
       "[10, 10, 8, 4, 3, 3, 2, 1, 1, 0]"
      ]
     },
     "execution_count": 165,
     "metadata": {},
     "output_type": "execute_result"
    }
   ],
   "source": [
    "sorted(randoms, reverse=True)"
   ]
  },
  {
   "cell_type": "markdown",
   "metadata": {},
   "source": [
    "# {utjpm pm oteratopm pverr am oterab .. iter() .. object __iter__ ... objecct done simpl __iter__ .. Sequence Type .. the __get_itm__ .. \n",
    "iter() ... if obj us getitme ... iter(obj) ... iterator .. type object .. \n",
    "2. sequence type .. seq ... sequenc typ tha implemnt getitem __ bur iter.. \n",
    "getitem .. IndexError ... \n",
    "iteraryous awhiel loop ... sequence type using .. itme IndexError .. \n",
    "indx = 0:\n",
    "while Trupe :\n",
    "try :\n",
    "print \n",
    "indx+ w \n",
    "except  Indexerr:\n",
    "preicak.. generaic fo ranyseqence type .. generic sequence iterator .. iter functtion ... instance of this class .. once it know taht .. implemnt the itter functionan ddo th e__next__ .. get the item at the IndexError ..  StopIteration exctiop .. \n",
    "\n",
    "## Call itter() .. look __iter_ .. user it retur iterator  .. if nont htei rusie getitm meth o rejeljf  . fno gtitem __ not iter ab. or teh seqeucn TypeErroer . \n",
    "\n",
    "\n",
    "some types.. vrey rarely .. test .. assum e Python handl ethat by it self. i fan objec ti iterabo lo r not .. __getitem __iter__ .. __iter__ return an iterabor \n",
    "\n",
    "easier approach l.. tyrp . iter(obje. ) excpt Type error .. not "
   ]
  },
  {
   "cell_type": "code",
   "execution_count": 166,
   "metadata": {},
   "outputs": [],
   "source": [
    "l = [1,2,3,4]\n",
    "\n",
    "l_iter = iter(l)"
   ]
  },
  {
   "cell_type": "code",
   "execution_count": 167,
   "metadata": {},
   "outputs": [
    {
     "data": {
      "text/plain": [
       "list_iterator"
      ]
     },
     "execution_count": 167,
     "metadata": {},
     "output_type": "execute_result"
    }
   ],
   "source": [
    "type(l_iter)"
   ]
  },
  {
   "cell_type": "code",
   "execution_count": 168,
   "metadata": {},
   "outputs": [
    {
     "data": {
      "text/plain": [
       "1"
      ]
     },
     "execution_count": 168,
     "metadata": {},
     "output_type": "execute_result"
    }
   ],
   "source": [
    "next(l_iter)"
   ]
  },
  {
   "cell_type": "code",
   "execution_count": 169,
   "metadata": {},
   "outputs": [
    {
     "data": {
      "text/plain": [
       "2"
      ]
     },
     "execution_count": 169,
     "metadata": {},
     "output_type": "execute_result"
    }
   ],
   "source": [
    "next(l_iter)"
   ]
  },
  {
   "cell_type": "code",
   "execution_count": 170,
   "metadata": {},
   "outputs": [],
   "source": [
    "class Squares:\n",
    "    def __init__(self, n):\n",
    "        self._n = n\n",
    "    def __len__(self):\n",
    "        return self._n \n",
    "    \n",
    "    def __getitem__(self, i):\n",
    "        if i > self._n:\n",
    "            raise IndexError\n",
    "        else:\n",
    "            return i **2 "
   ]
  },
  {
   "cell_type": "code",
   "execution_count": 171,
   "metadata": {},
   "outputs": [],
   "source": [
    "sq = Squares(5)"
   ]
  },
  {
   "cell_type": "code",
   "execution_count": 172,
   "metadata": {},
   "outputs": [
    {
     "name": "stdout",
     "output_type": "stream",
     "text": [
      "0\n",
      "1\n",
      "4\n",
      "9\n",
      "16\n",
      "25\n"
     ]
    }
   ],
   "source": [
    "for i in sq:\n",
    "    print(i)"
   ]
  },
  {
   "cell_type": "code",
   "execution_count": 173,
   "metadata": {},
   "outputs": [],
   "source": [
    "sq_iter = iter(sq)"
   ]
  },
  {
   "cell_type": "code",
   "execution_count": 174,
   "metadata": {},
   "outputs": [
    {
     "data": {
      "text/plain": [
       "iterator"
      ]
     },
     "execution_count": 174,
     "metadata": {},
     "output_type": "execute_result"
    }
   ],
   "source": [
    "type(sq_iter)"
   ]
  },
  {
   "cell_type": "code",
   "execution_count": 175,
   "metadata": {},
   "outputs": [
    {
     "data": {
      "text/plain": [
       "0"
      ]
     },
     "execution_count": 175,
     "metadata": {},
     "output_type": "execute_result"
    }
   ],
   "source": [
    "next(sq_iter)"
   ]
  },
  {
   "cell_type": "code",
   "execution_count": 177,
   "metadata": {},
   "outputs": [
    {
     "data": {
      "text/plain": [
       "True"
      ]
     },
     "execution_count": 177,
     "metadata": {},
     "output_type": "execute_result"
    }
   ],
   "source": [
    "'__next__' in dir(sq_iter)"
   ]
  },
  {
   "cell_type": "code",
   "execution_count": 180,
   "metadata": {},
   "outputs": [],
   "source": [
    "class Squares:\n",
    "    def __init__(self, n):\n",
    "        self._n = n\n",
    "    def __len__(self):\n",
    "        return self._n \n",
    "    \n",
    "    # def __getitem__(self, i):\n",
    "    #     if i > self._n:\n",
    "    #         raise IndexError\n",
    "    #     else:\n",
    "    #         return i **2 "
   ]
  },
  {
   "cell_type": "code",
   "execution_count": 182,
   "metadata": {},
   "outputs": [
    {
     "ename": "TypeError",
     "evalue": "'Squares' object is not iterable",
     "output_type": "error",
     "traceback": [
      "\u001b[0;31m---------------------------------------------------------------------------\u001b[0m",
      "\u001b[0;31mTypeError\u001b[0m                                 Traceback (most recent call last)",
      "Cell \u001b[0;32mIn [182], line 1\u001b[0m\n\u001b[0;32m----> 1\u001b[0m sq \u001b[39m=\u001b[39m \u001b[39miter\u001b[39;49m(Squares(\u001b[39m5\u001b[39;49m))\n",
      "\u001b[0;31mTypeError\u001b[0m: 'Squares' object is not iterable"
     ]
    }
   ],
   "source": [
    "sq = iter(Squares(5))"
   ]
  },
  {
   "cell_type": "code",
   "execution_count": 183,
   "metadata": {},
   "outputs": [],
   "source": [
    "class Squares:\n",
    "    def __init__(self, n):\n",
    "        self._n = n\n",
    "    def __len__(self):\n",
    "        return self._n \n",
    "    \n",
    "    def __getitem__(self, i):\n",
    "        if i > self._n:\n",
    "            raise IndexError\n",
    "        else:\n",
    "            return i **2 "
   ]
  },
  {
   "cell_type": "code",
   "execution_count": 184,
   "metadata": {},
   "outputs": [],
   "source": [
    "class SquaresIterator:\n",
    "    def __init__(self, squares):\n",
    "        self._squares = squares\n",
    "        self._i = 0 \n",
    "        \n",
    "    def __iter__(self):\n",
    "        return self \n",
    "    \n",
    "    def __next__(self):\n",
    "        if self._i >= len(self._squares):\n",
    "            raise StopIteration\n",
    "        else:\n",
    "            result = self._squares[self._i]\n",
    "            self._i += 1\n",
    "            return result \n",
    "        "
   ]
  },
  {
   "cell_type": "code",
   "execution_count": 192,
   "metadata": {},
   "outputs": [],
   "source": [
    "sq = Squares(1)"
   ]
  },
  {
   "cell_type": "code",
   "execution_count": 193,
   "metadata": {},
   "outputs": [],
   "source": [
    "sqIter = SquaresIterator(sq)"
   ]
  },
  {
   "cell_type": "code",
   "execution_count": 194,
   "metadata": {},
   "outputs": [
    {
     "name": "stdout",
     "output_type": "stream",
     "text": [
      "0\n"
     ]
    }
   ],
   "source": [
    "print(next(sqIter))"
   ]
  },
  {
   "cell_type": "code",
   "execution_count": 195,
   "metadata": {},
   "outputs": [
    {
     "ename": "StopIteration",
     "evalue": "",
     "output_type": "error",
     "traceback": [
      "\u001b[0;31m---------------------------------------------------------------------------\u001b[0m",
      "\u001b[0;31mStopIteration\u001b[0m                             Traceback (most recent call last)",
      "Cell \u001b[0;32mIn [195], line 1\u001b[0m\n\u001b[0;32m----> 1\u001b[0m \u001b[39mprint\u001b[39m(\u001b[39mnext\u001b[39;49m(sqIter))\n",
      "Cell \u001b[0;32mIn [184], line 11\u001b[0m, in \u001b[0;36mSquaresIterator.__next__\u001b[0;34m(self)\u001b[0m\n\u001b[1;32m      9\u001b[0m \u001b[39mdef\u001b[39;00m \u001b[39m__next__\u001b[39m(\u001b[39mself\u001b[39m):\n\u001b[1;32m     10\u001b[0m     \u001b[39mif\u001b[39;00m \u001b[39mself\u001b[39m\u001b[39m.\u001b[39m_i \u001b[39m>\u001b[39m\u001b[39m=\u001b[39m \u001b[39mlen\u001b[39m(\u001b[39mself\u001b[39m\u001b[39m.\u001b[39m_squares):\n\u001b[0;32m---> 11\u001b[0m         \u001b[39mraise\u001b[39;00m \u001b[39mStopIteration\u001b[39;00m\n\u001b[1;32m     12\u001b[0m     \u001b[39melse\u001b[39;00m:\n\u001b[1;32m     13\u001b[0m         result \u001b[39m=\u001b[39m \u001b[39mself\u001b[39m\u001b[39m.\u001b[39m_squares[\u001b[39mself\u001b[39m\u001b[39m.\u001b[39m_i]\n",
      "\u001b[0;31mStopIteration\u001b[0m: "
     ]
    }
   ],
   "source": [
    "print(next(sqIter))"
   ]
  },
  {
   "cell_type": "code",
   "execution_count": 196,
   "metadata": {},
   "outputs": [],
   "source": [
    "# Iterable .. if has .. __iter__ or getitem ... return is also an iterator .. iterable .. and iterator .. __iter__"
   ]
  },
  {
   "cell_type": "code",
   "execution_count": 197,
   "metadata": {},
   "outputs": [],
   "source": [
    "class SipleIter:\n",
    "    def __init__(self):\n",
    "        pass \n",
    "    \n",
    "    def __iter__(self):\n",
    "        return 'Nope'\n",
    "    \n",
    "    "
   ]
  },
  {
   "cell_type": "code",
   "execution_count": 198,
   "metadata": {},
   "outputs": [],
   "source": [
    "s = SipleIter()"
   ]
  },
  {
   "cell_type": "code",
   "execution_count": 199,
   "metadata": {},
   "outputs": [
    {
     "data": {
      "text/plain": [
       "True"
      ]
     },
     "execution_count": 199,
     "metadata": {},
     "output_type": "execute_result"
    }
   ],
   "source": [
    "'__iter__' in dir(s)"
   ]
  },
  {
   "cell_type": "markdown",
   "metadata": {},
   "source": [
    "# To check if a class is iterable ... call the .. 'iter()  function .. if it works it is iterabel "
   ]
  },
  {
   "cell_type": "code",
   "execution_count": 200,
   "metadata": {},
   "outputs": [
    {
     "ename": "TypeError",
     "evalue": "iter() returned non-iterator of type 'str'",
     "output_type": "error",
     "traceback": [
      "\u001b[0;31m---------------------------------------------------------------------------\u001b[0m",
      "\u001b[0;31mTypeError\u001b[0m                                 Traceback (most recent call last)",
      "Cell \u001b[0;32mIn [200], line 1\u001b[0m\n\u001b[0;32m----> 1\u001b[0m \u001b[39miter\u001b[39;49m(s)\n",
      "\u001b[0;31mTypeError\u001b[0m: iter() returned non-iterator of type 'str'"
     ]
    }
   ],
   "source": [
    "iter(s)"
   ]
  },
  {
   "cell_type": "code",
   "execution_count": 201,
   "metadata": {},
   "outputs": [],
   "source": [
    "def is_iterable(obj):\n",
    "    try:\n",
    "        iter(obj)\n",
    "        return True \n",
    "    except TypeError:\n",
    "        return False"
   ]
  },
  {
   "cell_type": "code",
   "execution_count": 202,
   "metadata": {},
   "outputs": [
    {
     "data": {
      "text/plain": [
       "False"
      ]
     },
     "execution_count": 202,
     "metadata": {},
     "output_type": "execute_result"
    }
   ],
   "source": [
    "is_iterable(s)"
   ]
  },
  {
   "cell_type": "code",
   "execution_count": 203,
   "metadata": {},
   "outputs": [
    {
     "data": {
      "text/plain": [
       "True"
      ]
     },
     "execution_count": 203,
     "metadata": {},
     "output_type": "execute_result"
    }
   ],
   "source": [
    "is_iterable(Squares(5))"
   ]
  },
  {
   "cell_type": "code",
   "execution_count": 204,
   "metadata": {},
   "outputs": [
    {
     "name": "stdout",
     "output_type": "stream",
     "text": [
      "Error: obj is not iterable \n"
     ]
    }
   ],
   "source": [
    "obj = 100 \n",
    "\n",
    "if is_iterable(obj):\n",
    "    for i in obj:\n",
    "        print(i)\n",
    "else:\n",
    "    print('Error: obj is not iterable ')"
   ]
  },
  {
   "cell_type": "code",
   "execution_count": 205,
   "metadata": {},
   "outputs": [
    {
     "ename": "TypeError",
     "evalue": "'int' object is not iterable",
     "output_type": "error",
     "traceback": [
      "\u001b[0;31m---------------------------------------------------------------------------\u001b[0m",
      "\u001b[0;31mTypeError\u001b[0m                                 Traceback (most recent call last)",
      "Cell \u001b[0;32mIn [205], line 2\u001b[0m\n\u001b[1;32m      1\u001b[0m obj \u001b[39m=\u001b[39m \u001b[39m100\u001b[39m \n\u001b[0;32m----> 2\u001b[0m \u001b[39mfor\u001b[39;00m i \u001b[39min\u001b[39;00m obj: \n\u001b[1;32m      3\u001b[0m     \u001b[39mprint\u001b[39m(i)\n",
      "\u001b[0;31mTypeError\u001b[0m: 'int' object is not iterable"
     ]
    }
   ],
   "source": [
    "obj = 100 \n",
    "for i in obj: \n",
    "    print(i)"
   ]
  },
  {
   "cell_type": "code",
   "execution_count": 208,
   "metadata": {},
   "outputs": [
    {
     "name": "stdout",
     "output_type": "stream",
     "text": [
      "Error: obj is not iterable \n"
     ]
    }
   ],
   "source": [
    "obj = 100 \n",
    "try:\n",
    "    for i in obj: \n",
    "       \n",
    "        print(i)\n",
    "except TypeError:\n",
    "    print(\"Error: obj is not iterable \")"
   ]
  },
  {
   "cell_type": "markdown",
   "metadata": {},
   "source": [
    "# iterate over callable .. \n",
    "\n",
    "-- consider a closure .. cound down >> 5 4 3 2 1 0 -1 -2 ... run  looop call counddow() unit zero is \n",
    "\n",
    "while True: val = cound()  if val == 0 :  break esel: print(val() ) ...value is the same as value 0 .. stop .. doen .. iteratio over call \n",
    "\n",
    "\n",
    "## itertora approa .. iteratro .. know teh callable . cound dwon .. th sentile sentinel valu .. when next(0 . called .. call teh callable an dger the resut . sto teh iteration and exhaug he itera o .. one extar stio as will .. return the rsult ... anycall bo .. show yo ecat ... iter() func .. jsut studh teh firs for of titera ... iteraboe l__iter >>. .) .. iter func t.more extar work to creat for us .. iter() /.    . iter(callable, sentinel) ... callable , sentinal  . creat an iterator for us .. call the callble .. stop the iterabon . callable .. infinit iterable .. when calls the callabel . when next is clase .. jur rte the value of the call able. .. "
   ]
  },
  {
   "cell_type": "markdown",
   "metadata": {},
   "source": [
    "# Iterating Callables "
   ]
  },
  {
   "cell_type": "code",
   "execution_count": 210,
   "metadata": {},
   "outputs": [],
   "source": [
    "def counter():\n",
    "    i = 0\n",
    "    \n",
    "    def inc():\n",
    "        nonlocal i \n",
    "        i += 1 \n",
    "        return i\n",
    "    return inc # return the closue \n",
    "    "
   ]
  },
  {
   "cell_type": "code",
   "execution_count": 211,
   "metadata": {},
   "outputs": [],
   "source": [
    "cnt = counter()"
   ]
  },
  {
   "cell_type": "code",
   "execution_count": 212,
   "metadata": {},
   "outputs": [
    {
     "data": {
      "text/plain": [
       "1"
      ]
     },
     "execution_count": 212,
     "metadata": {},
     "output_type": "execute_result"
    }
   ],
   "source": [
    "cnt()"
   ]
  },
  {
   "cell_type": "code",
   "execution_count": 213,
   "metadata": {},
   "outputs": [
    {
     "data": {
      "text/plain": [
       "2"
      ]
     },
     "execution_count": 213,
     "metadata": {},
     "output_type": "execute_result"
    }
   ],
   "source": [
    "cnt()"
   ]
  },
  {
   "cell_type": "code",
   "execution_count": 214,
   "metadata": {},
   "outputs": [
    {
     "data": {
      "text/plain": [
       "3"
      ]
     },
     "execution_count": 214,
     "metadata": {},
     "output_type": "execute_result"
    }
   ],
   "source": [
    "cnt()"
   ]
  },
  {
   "cell_type": "code",
   "execution_count": 218,
   "metadata": {},
   "outputs": [
    {
     "name": "stdout",
     "output_type": "stream",
     "text": [
      "34\n",
      "35\n",
      "36\n",
      "37\n",
      "38\n",
      "39\n",
      "40\n",
      "41\n",
      "42\n",
      "43\n"
     ]
    }
   ],
   "source": [
    "for _ in range(10):\n",
    "    print(cnt())"
   ]
  },
  {
   "cell_type": "code",
   "execution_count": 219,
   "metadata": {},
   "outputs": [],
   "source": [
    "class CounterIterator:\n",
    "    def __init__(self, counter_callable):\n",
    "        self.counter_callable = counter_callable\n",
    "        \n",
    "    def __iter__(self):\n",
    "        return self \n",
    "    \n",
    "    def __next__(self):\n",
    "        return self.counter_callable()"
   ]
  },
  {
   "cell_type": "code",
   "execution_count": 220,
   "metadata": {},
   "outputs": [],
   "source": [
    "cnt = counter()"
   ]
  },
  {
   "cell_type": "code",
   "execution_count": 221,
   "metadata": {},
   "outputs": [],
   "source": [
    "cnt_iter = CounterIterator(cnt)"
   ]
  },
  {
   "cell_type": "code",
   "execution_count": 224,
   "metadata": {},
   "outputs": [
    {
     "name": "stdout",
     "output_type": "stream",
     "text": [
      "6\n",
      "7\n",
      "8\n",
      "9\n",
      "10\n"
     ]
    }
   ],
   "source": [
    "for _ in range(5):\n",
    "    print(next(cnt_iter))"
   ]
  },
  {
   "cell_type": "code",
   "execution_count": 225,
   "metadata": {},
   "outputs": [],
   "source": [
    "class CounterIterator:\n",
    "    def __init__(self, counter_callable, sentinel):\n",
    "        self.counter_callable = counter_callable\n",
    "        self.sentinel = sentinel\n",
    "        \n",
    "    def __iter__(self):\n",
    "        return self \n",
    "    \n",
    "    def __next__(self):\n",
    "        result = self.counter_callable()\n",
    "        if result == self.sentinel:\n",
    "            raise StopIteration\n",
    "        else:\n",
    "            return result \n",
    "         "
   ]
  },
  {
   "cell_type": "code",
   "execution_count": 227,
   "metadata": {},
   "outputs": [],
   "source": [
    "cnt = counter()\n",
    "cnt_iter = CounterIterator(cnt,5)"
   ]
  },
  {
   "cell_type": "code",
   "execution_count": 228,
   "metadata": {},
   "outputs": [
    {
     "name": "stdout",
     "output_type": "stream",
     "text": [
      "1\n",
      "2\n",
      "3\n",
      "4\n"
     ]
    }
   ],
   "source": [
    "for c in cnt_iter:\n",
    "    print(c)"
   ]
  },
  {
   "cell_type": "code",
   "execution_count": 229,
   "metadata": {},
   "outputs": [],
   "source": [
    "class CounterIterator:\n",
    "    def __init__(self, counter_callable, sentinel):\n",
    "        self.counter_callable = counter_callable\n",
    "        self.sentinel = sentinel\n",
    "        self.is_consumed = False\n",
    "        \n",
    "        \n",
    "    def __iter__(self):\n",
    "        return self \n",
    "    \n",
    "    def __next__(self):\n",
    "        if self.is_consumed:\n",
    "            raise StopIteration\n",
    "        else:\n",
    "            \n",
    "            result = self.counter_callable()\n",
    "            if result == self.sentinel:\n",
    "                raise StopIteration\n",
    "            else:\n",
    "                return result \n",
    "        \n",
    "        "
   ]
  },
  {
   "cell_type": "code",
   "execution_count": 230,
   "metadata": {},
   "outputs": [],
   "source": [
    "cnt = counter()\n",
    "cnt_iter = CounterIterator(cnt,5)"
   ]
  },
  {
   "cell_type": "code",
   "execution_count": 231,
   "metadata": {},
   "outputs": [
    {
     "name": "stdout",
     "output_type": "stream",
     "text": [
      "1\n",
      "2\n",
      "3\n",
      "4\n"
     ]
    }
   ],
   "source": [
    "for c in cnt_iter:\n",
    "    print(c)"
   ]
  },
  {
   "cell_type": "code",
   "execution_count": 233,
   "metadata": {},
   "outputs": [
    {
     "data": {
      "text/plain": [
       "7"
      ]
     },
     "execution_count": 233,
     "metadata": {},
     "output_type": "execute_result"
    }
   ],
   "source": [
    "next(cnt_iter)"
   ]
  },
  {
   "cell_type": "code",
   "execution_count": 234,
   "metadata": {},
   "outputs": [],
   "source": [
    "class CallableIterator:\n",
    "    def __init__(self,  callable_, sentinel):\n",
    "        self.counter_callable = callable_\n",
    "        self.sentinel = sentinel\n",
    "        self.is_consumed = False\n",
    "        \n",
    "        \n",
    "    def __iter__(self):\n",
    "        return self \n",
    "    \n",
    "    def __next__(self):\n",
    "        if self.is_consumed:\n",
    "            raise StopIteration\n",
    "        else:\n",
    "            \n",
    "            result = self.counter_callable()\n",
    "            if result == self.sentinel:\n",
    "                raise StopIteration\n",
    "            else:\n",
    "                return result \n",
    "        "
   ]
  },
  {
   "cell_type": "code",
   "execution_count": 235,
   "metadata": {},
   "outputs": [],
   "source": [
    "cnt = counter()"
   ]
  },
  {
   "cell_type": "code",
   "execution_count": 236,
   "metadata": {},
   "outputs": [],
   "source": [
    "cnt_it = CallableIterator(cnt, 5)"
   ]
  },
  {
   "cell_type": "code",
   "execution_count": 237,
   "metadata": {},
   "outputs": [
    {
     "name": "stdout",
     "output_type": "stream",
     "text": [
      "1\n",
      "2\n",
      "3\n",
      "4\n"
     ]
    }
   ],
   "source": [
    "for c in cnt_it:\n",
    "    print(c)"
   ]
  },
  {
   "cell_type": "code",
   "execution_count": 238,
   "metadata": {},
   "outputs": [
    {
     "name": "stdout",
     "output_type": "stream",
     "text": [
      "Help on built-in function iter in module builtins:\n",
      "\n",
      "iter(...)\n",
      "    iter(iterable) -> iterator\n",
      "    iter(callable, sentinel) -> iterator\n",
      "    \n",
      "    Get an iterator from an object.  In the first form, the argument must\n",
      "    supply its own iterator, or be a sequence.\n",
      "    In the second form, the callable is called until it returns the sentinel.\n",
      "\n"
     ]
    }
   ],
   "source": [
    "help(iter)"
   ]
  },
  {
   "cell_type": "code",
   "execution_count": 239,
   "metadata": {},
   "outputs": [],
   "source": [
    "cnt = counter()"
   ]
  },
  {
   "cell_type": "code",
   "execution_count": 240,
   "metadata": {},
   "outputs": [],
   "source": [
    "cnt_iter = iter(cnt, 5)"
   ]
  },
  {
   "cell_type": "code",
   "execution_count": 241,
   "metadata": {},
   "outputs": [
    {
     "name": "stdout",
     "output_type": "stream",
     "text": [
      "1\n",
      "2\n",
      "3\n",
      "4\n"
     ]
    }
   ],
   "source": [
    "for c in cnt_iter:\n",
    "    print(c)"
   ]
  },
  {
   "cell_type": "code",
   "execution_count": 242,
   "metadata": {},
   "outputs": [
    {
     "ename": "StopIteration",
     "evalue": "",
     "output_type": "error",
     "traceback": [
      "\u001b[0;31m---------------------------------------------------------------------------\u001b[0m",
      "\u001b[0;31mStopIteration\u001b[0m                             Traceback (most recent call last)",
      "Cell \u001b[0;32mIn [242], line 1\u001b[0m\n\u001b[0;32m----> 1\u001b[0m \u001b[39mnext\u001b[39;49m(cnt_iter)\n",
      "\u001b[0;31mStopIteration\u001b[0m: "
     ]
    }
   ],
   "source": [
    "next(cnt_iter)"
   ]
  },
  {
   "cell_type": "code",
   "execution_count": 243,
   "metadata": {},
   "outputs": [
    {
     "name": "stdout",
     "output_type": "stream",
     "text": [
      "0 6\n",
      "1 6\n",
      "2 0\n",
      "3 4\n",
      "4 8\n",
      "5 7\n",
      "6 6\n",
      "7 4\n",
      "8 7\n",
      "9 5\n"
     ]
    }
   ],
   "source": [
    "import random \n",
    "random.seed(0)\n",
    "\n",
    "for i in range(10):\n",
    "    print(i, random.randint(0, 10))"
   ]
  },
  {
   "cell_type": "code",
   "execution_count": 244,
   "metadata": {},
   "outputs": [],
   "source": [
    "random_iter = iter(lambda : random.randint(0, 10), 8)"
   ]
  },
  {
   "cell_type": "code",
   "execution_count": 245,
   "metadata": {},
   "outputs": [],
   "source": [
    "random.seed(0)"
   ]
  },
  {
   "cell_type": "code",
   "execution_count": 246,
   "metadata": {},
   "outputs": [
    {
     "name": "stdout",
     "output_type": "stream",
     "text": [
      "6\n",
      "6\n",
      "0\n",
      "4\n"
     ]
    }
   ],
   "source": [
    "for n in random_iter:\n",
    "    print(n)"
   ]
  },
  {
   "cell_type": "code",
   "execution_count": 251,
   "metadata": {},
   "outputs": [],
   "source": [
    "def countdown(start=10):\n",
    "    def run():\n",
    "        nonlocal start\n",
    "        start -=1\n",
    "        return start \n",
    "    return run"
   ]
  },
  {
   "cell_type": "code",
   "execution_count": 252,
   "metadata": {},
   "outputs": [],
   "source": [
    "takeoff = countdown(10)"
   ]
  },
  {
   "cell_type": "code",
   "execution_count": 254,
   "metadata": {},
   "outputs": [
    {
     "name": "stdout",
     "output_type": "stream",
     "text": [
      "9\n",
      "8\n",
      "7\n",
      "6\n",
      "5\n",
      "4\n",
      "3\n",
      "2\n",
      "1\n",
      "0\n",
      "-1\n",
      "-2\n",
      "-3\n",
      "-4\n",
      "-5\n"
     ]
    }
   ],
   "source": [
    "for _ in range(15):\n",
    "    print(takeoff())"
   ]
  },
  {
   "cell_type": "code",
   "execution_count": 255,
   "metadata": {},
   "outputs": [],
   "source": [
    "takeoff = countdown(10)\n",
    "takeoff_iter = iter(takeoff, -1)\n"
   ]
  },
  {
   "cell_type": "code",
   "execution_count": 256,
   "metadata": {},
   "outputs": [
    {
     "name": "stdout",
     "output_type": "stream",
     "text": [
      "9\n",
      "8\n",
      "7\n",
      "6\n",
      "5\n",
      "4\n",
      "3\n",
      "2\n",
      "1\n",
      "0\n"
     ]
    }
   ],
   "source": [
    "for n in takeoff_iter:\n",
    "    print(n)"
   ]
  },
  {
   "cell_type": "markdown",
   "metadata": {},
   "source": [
    "# Delegating Iterators"
   ]
  },
  {
   "cell_type": "code",
   "execution_count": null,
   "metadata": {},
   "outputs": [],
   "source": []
  }
 ],
 "metadata": {
  "kernelspec": {
   "display_name": "Python 3.10.7 64-bit",
   "language": "python",
   "name": "python3"
  },
  "language_info": {
   "codemirror_mode": {
    "name": "ipython",
    "version": 3
   },
   "file_extension": ".py",
   "mimetype": "text/x-python",
   "name": "python",
   "nbconvert_exporter": "python",
   "pygments_lexer": "ipython3",
   "version": "3.10.7"
  },
  "vscode": {
   "interpreter": {
    "hash": "aee8b7b246df8f9039afb4144a1f6fd8d2ca17a180786b69acc140d282b71a49"
   }
  }
 },
 "nbformat": 4,
 "nbformat_minor": 2
}
