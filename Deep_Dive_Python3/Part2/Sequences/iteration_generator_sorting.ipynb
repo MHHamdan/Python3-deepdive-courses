{
 "cells": [
  {
   "cell_type": "markdown",
   "metadata": {},
   "source": [
    "# Sorting .. sort keys .. \n",
    "## storing a sequence of numbers is somthing eaislyunser .. ascending or descending ordkr \n",
    "# sorted\n",
    "# sorted(reverse=True)\n",
    "# ordering .. non numerical values .. 'a, 'b, 'A'  // \n",
    "'a' < 'A'\n",
    "\n",
    "'a' > 'A' \n",
    "\n",
    "(0,0) (1,91) .. (10,10) \n",
    "\n",
    "\n",
    "\n",
    "custom classes ...rectactgle ..\n",
    "\n",
    "paierwise copareabel .. < > \n",
    "\n",
    "# Sort keys .. a value belong to a sortd .. \n",
    "\n",
    "# Sorting and Sort keys s.  'b, 'x, 'a \n",
    "\n",
    "ASCII character codes .. a b x .. ASCII numerical value ... eac character .. sorte based on tha t value s.. item 'a 'x .. keys 23 42 .\n",
    "\n",
    "Based on their ASCII characheter Keys ... \n",
    "'a' 'A' represetn 66 98 .. so a > A \n",
    "\n",
    "# Generate the key value fo rany given person susin af ufnction .. \n",
    "\n",
    "def key(p):\n",
    "return p.age ... \n",
    "\n",
    "key = lambda p:p.age\n",
    "\n",
    "sort [p1, p2,...]\n",
    "\n",
    "key = lambda p: p.age\n",
    "\n",
    "# Sort keys shuld has natural orderin ... \n",
    "item 'hello , pythnon  .. key last charactehr .. o, n ..> valida sort keys as thy have natural sorting order ..\n",
    "\n",
    "key = lambda s: s[-1]\n",
    "\n",
    "# Pythons's sorted funciton .\n",
    "exactal sotted func .. key = lambda p:p[-1]\n",
    "\n",
    "sort key shuld be natural ordering of the lement s. .. pair wise .. must be pairwise compareable .. ( <, > )\n",
    "\n",
    "IF the element are not paierwilse comparable , you wil ge .. \n",
    "\n",
    "# Python Sorted funciton .. \n",
    "sorted( iterabel, kewy=None, reverse=Fase) .. ascending ... deceing True\n",
    "\n",
    "sorted makes acopty of the iterable .. lowaset retrun a list .. \n",
    "\n",
    "\n",
    "# sorted return a lst .. used TimSort ... TimSort .. named after tiem peteers .. \n",
    "\n",
    "\n",
    "# Stabel sort ... natual sore of elmetn keys are elemtn s tehm sseflf. \n",
    "\n",
    "\n",
    "## THe natural sort order .. keyis the sdem \n",
    "\n",
    "sorted(terabm ... sosretwe iterem, key lambed x:x ) # identifyf ucntn \n",
    "\n",
    "# Stable sort .. one that mainetns teh relavbeeive order of h items that have equal keys s... values using natural ordering .. p1.age p2.age p3.age ... \n",
    "sorted(pa1, p2, p3, p4 ...), key = lambda p:pa.age) ... no positaon ordein ino set .. p2 preceds p5 in sorted list .. for equel sort k .. the p2 become in the sorted output .. \n",
    "\n",
    "\n",
    "\n",
    "# in place sorting . if the iterable is mutable , inpplace sorting is possible .. support .. \n",
    "\n",
    "# list object suppoer in place sorting .. \n",
    "\n",
    "# sort()\n",
    " ... like sorted() ... it muated the list not a copty of t isl \n",
    "\n",
    "\n",
    " l = [1,23,4,4]\n",
    " l.sort() \n",
    " l = [1,2,3,4,5,5] # mutated the list .. same meory adederess \n",
    "\n",
    "\n",
    " # compated  to sorted .. \n",
    " sam as TImeSort algortin ..\n",
    " same keywork onlargs key\n",
    " same dkey args  revers .. default False \n"
   ]
  },
  {
   "cell_type": "markdown",
   "metadata": {},
   "source": [
    "# Sortign Sequences ... "
   ]
  },
  {
   "cell_type": "code",
   "execution_count": 1,
   "metadata": {},
   "outputs": [],
   "source": [
    "t = 10, 2, 4,5, 7, 9,4, 1,4 # natural orderin "
   ]
  },
  {
   "cell_type": "code",
   "execution_count": 2,
   "metadata": {},
   "outputs": [
    {
     "data": {
      "text/plain": [
       "[1, 2, 4, 4, 4, 5, 7, 9, 10]"
      ]
     },
     "execution_count": 2,
     "metadata": {},
     "output_type": "execute_result"
    }
   ],
   "source": [
    "sorted(t) # return a list of sorted elements .. usi the natual elme     "
   ]
  },
  {
   "cell_type": "code",
   "execution_count": 3,
   "metadata": {},
   "outputs": [],
   "source": [
    "t = 1 + 1J, 10, 3"
   ]
  },
  {
   "cell_type": "code",
   "execution_count": 4,
   "metadata": {},
   "outputs": [
    {
     "ename": "TypeError",
     "evalue": "'<' not supported between instances of 'int' and 'complex'",
     "output_type": "error",
     "traceback": [
      "\u001b[0;31m---------------------------------------------------------------------------\u001b[0m",
      "\u001b[0;31mTypeError\u001b[0m                                 Traceback (most recent call last)",
      "Cell \u001b[0;32mIn [4], line 1\u001b[0m\n\u001b[0;32m----> 1\u001b[0m \u001b[39msorted\u001b[39;49m(t)\n",
      "\u001b[0;31mTypeError\u001b[0m: '<' not supported between instances of 'int' and 'complex'"
     ]
    }
   ],
   "source": [
    "sorted(t) # not suported ordering in complex number no natural ordering ... "
   ]
  },
  {
   "cell_type": "code",
   "execution_count": 6,
   "metadata": {},
   "outputs": [
    {
     "data": {
      "text/plain": [
       "[0, 1, 3, 4, 7, 9]"
      ]
     },
     "execution_count": 6,
     "metadata": {},
     "output_type": "execute_result"
    }
   ],
   "source": [
    "s = {1,7,3,1,9,0,4,7}\n",
    "sorted(s) # liest"
   ]
  },
  {
   "cell_type": "code",
   "execution_count": 7,
   "metadata": {},
   "outputs": [],
   "source": [
    "d = {2: 334, 7:242, 0:24242}"
   ]
  },
  {
   "cell_type": "code",
   "execution_count": 8,
   "metadata": {},
   "outputs": [
    {
     "data": {
      "text/plain": [
       "{2: 334, 7: 242, 0: 24242}"
      ]
     },
     "execution_count": 8,
     "metadata": {},
     "output_type": "execute_result"
    }
   ],
   "source": [
    "d"
   ]
  },
  {
   "cell_type": "code",
   "execution_count": 9,
   "metadata": {},
   "outputs": [
    {
     "data": {
      "text/plain": [
       "[2, 7, 0]"
      ]
     },
     "execution_count": 9,
     "metadata": {},
     "output_type": "execute_result"
    }
   ],
   "source": [
    "list(d) # keys"
   ]
  },
  {
   "cell_type": "code",
   "execution_count": 10,
   "metadata": {},
   "outputs": [
    {
     "data": {
      "text/plain": [
       "[0, 2, 7]"
      ]
     },
     "execution_count": 10,
     "metadata": {},
     "output_type": "execute_result"
    }
   ],
   "source": [
    "sorted(d) # return a key list sorted"
   ]
  },
  {
   "cell_type": "code",
   "execution_count": 12,
   "metadata": {},
   "outputs": [],
   "source": [
    "d = {'a': 100, 'b':55, 'c':24343}"
   ]
  },
  {
   "cell_type": "code",
   "execution_count": 13,
   "metadata": {},
   "outputs": [
    {
     "data": {
      "text/plain": [
       "['a', 'b', 'c']"
      ]
     },
     "execution_count": 13,
     "metadata": {},
     "output_type": "execute_result"
    }
   ],
   "source": [
    "sorted(d)"
   ]
  },
  {
   "cell_type": "code",
   "execution_count": 14,
   "metadata": {},
   "outputs": [
    {
     "data": {
      "text/plain": [
       "['b', 'a', 'c']"
      ]
     },
     "execution_count": 14,
     "metadata": {},
     "output_type": "execute_result"
    }
   ],
   "source": [
    "sorted(d, key=lambda k: d[k]) # based on the value "
   ]
  },
  {
   "cell_type": "code",
   "execution_count": 15,
   "metadata": {},
   "outputs": [
    {
     "data": {
      "text/plain": [
       "['c', 'a', 'b']"
      ]
     },
     "execution_count": 15,
     "metadata": {},
     "output_type": "execute_result"
    }
   ],
   "source": [
    "sorted(d, key=lambda k:d[k], reverse=True)"
   ]
  },
  {
   "cell_type": "code",
   "execution_count": 16,
   "metadata": {},
   "outputs": [],
   "source": [
    "t = 'this', 'parrot', 'is', 'a', 'late', 'bird'"
   ]
  },
  {
   "cell_type": "code",
   "execution_count": 17,
   "metadata": {},
   "outputs": [
    {
     "data": {
      "text/plain": [
       "['a', 'bird', 'is', 'late', 'parrot', 'this']"
      ]
     },
     "execution_count": 17,
     "metadata": {},
     "output_type": "execute_result"
    }
   ],
   "source": [
    "sorted(t)"
   ]
  },
  {
   "cell_type": "code",
   "execution_count": 18,
   "metadata": {},
   "outputs": [],
   "source": [
    "def sort_key(s):\n",
    "    return len(s)"
   ]
  },
  {
   "cell_type": "code",
   "execution_count": 20,
   "metadata": {},
   "outputs": [
    {
     "data": {
      "text/plain": [
       "['a', 'is', 'this', 'late', 'bird', 'parrot']"
      ]
     },
     "execution_count": 20,
     "metadata": {},
     "output_type": "execute_result"
    }
   ],
   "source": [
    "sorted(t, key=sort_key)"
   ]
  },
  {
   "cell_type": "code",
   "execution_count": 22,
   "metadata": {},
   "outputs": [
    {
     "data": {
      "text/plain": [
       "['a', 'is', 'this', 'late', 'bird', 'parrot']"
      ]
     },
     "execution_count": 22,
     "metadata": {},
     "output_type": "execute_result"
    }
   ],
   "source": [
    "sorted(t, key=lambda s: len(s))"
   ]
  },
  {
   "cell_type": "code",
   "execution_count": 23,
   "metadata": {},
   "outputs": [
    {
     "data": {
      "text/plain": [
       "['parrot', 'this', 'late', 'bird', 'is', 'a']"
      ]
     },
     "execution_count": 23,
     "metadata": {},
     "output_type": "execute_result"
    }
   ],
   "source": [
    "sorted(t, key=lambda s:len(s), reverse=True)"
   ]
  },
  {
   "cell_type": "code",
   "execution_count": 24,
   "metadata": {},
   "outputs": [],
   "source": [
    "t = 'aaaa', 'bbbb', 'c'*4, 'd'*4"
   ]
  },
  {
   "cell_type": "code",
   "execution_count": 25,
   "metadata": {},
   "outputs": [
    {
     "data": {
      "text/plain": [
       "('aaaa', 'bbbb', 'cccc', 'dddd')"
      ]
     },
     "execution_count": 25,
     "metadata": {},
     "output_type": "execute_result"
    }
   ],
   "source": [
    "t"
   ]
  },
  {
   "cell_type": "code",
   "execution_count": 26,
   "metadata": {},
   "outputs": [
    {
     "data": {
      "text/plain": [
       "['aaaa', 'bbbb', 'cccc', 'dddd']"
      ]
     },
     "execution_count": 26,
     "metadata": {},
     "output_type": "execute_result"
    }
   ],
   "source": [
    "sorted(t, key=lambda s:len(s))"
   ]
  },
  {
   "cell_type": "code",
   "execution_count": 27,
   "metadata": {},
   "outputs": [],
   "source": [
    "t = 'aaaa', 'bbbb', 'c'*4, 'd'*4 , 'f'*4 , 'z'*4"
   ]
  },
  {
   "cell_type": "code",
   "execution_count": 28,
   "metadata": {},
   "outputs": [
    {
     "data": {
      "text/plain": [
       "['aaaa', 'bbbb', 'cccc', 'dddd', 'ffff', 'zzzz']"
      ]
     },
     "execution_count": 28,
     "metadata": {},
     "output_type": "execute_result"
    }
   ],
   "source": [
    "sorted(t, key=lambda s:len(s))"
   ]
  },
  {
   "cell_type": "code",
   "execution_count": 29,
   "metadata": {},
   "outputs": [
    {
     "data": {
      "text/plain": [
       "1.4142135623730951"
      ]
     },
     "execution_count": 29,
     "metadata": {},
     "output_type": "execute_result"
    }
   ],
   "source": [
    "abs(1+1j)"
   ]
  },
  {
   "cell_type": "code",
   "execution_count": 30,
   "metadata": {},
   "outputs": [],
   "source": [
    "t = 0, 10+10j, 2-3j, 4_3j, 6_9j"
   ]
  },
  {
   "cell_type": "code",
   "execution_count": 32,
   "metadata": {},
   "outputs": [
    {
     "data": {
      "text/plain": [
       "[0, (2-3j), (10+10j), 43j, 69j]"
      ]
     },
     "execution_count": 32,
     "metadata": {},
     "output_type": "execute_result"
    }
   ],
   "source": [
    "sorted(t, key=abs) # based on the distance from the origin"
   ]
  },
  {
   "cell_type": "code",
   "execution_count": null,
   "metadata": {},
   "outputs": [],
   "source": []
  }
 ],
 "metadata": {
  "kernelspec": {
   "display_name": "Python 3.10.7 64-bit",
   "language": "python",
   "name": "python3"
  },
  "language_info": {
   "codemirror_mode": {
    "name": "ipython",
    "version": 3
   },
   "file_extension": ".py",
   "mimetype": "text/x-python",
   "name": "python",
   "nbconvert_exporter": "python",
   "pygments_lexer": "ipython3",
   "version": "3.10.7"
  },
  "orig_nbformat": 4,
  "vscode": {
   "interpreter": {
    "hash": "aee8b7b246df8f9039afb4144a1f6fd8d2ca17a180786b69acc140d282b71a49"
   }
  }
 },
 "nbformat": 4,
 "nbformat_minor": 2
}
