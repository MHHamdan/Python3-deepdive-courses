{
 "cells": [
  {
   "cell_type": "markdown",
   "metadata": {},
   "source": [
    "# Project 1 .. Goal 1 \n",
    "\n",
    "## Create a Polygon class with the following properties ..\n",
    "1. nums of verticers n - passed to initializaer \n",
    "2. circumradius R - passed to the initializer\n",
    "3. nums of edges\n",
    "4. nums of sides\n",
    "5. interior angle (in degress\n",
    "6. side length \n",
    "7. apothem\n",
    "8. surface area\n",
    "9. perimeter\n",
    "10. supports equality based on num of vertices and circumradius\n",
    "11. supports based on num of vertices."
   ]
  },
  {
   "cell_type": "code",
   "execution_count": 31,
   "metadata": {},
   "outputs": [],
   "source": [
    "import math \n",
    "\n",
    "class Polygon:\n",
    "    def __init__(self, n, R):\n",
    "        self._n = n\n",
    "        self._R = R \n",
    "        \n",
    "    def __repr__(self):\n",
    "        return f'Polygon(n={self._n},  R={self._R})'\n",
    "    \n",
    "    @property\n",
    "    def count_vertices(self):\n",
    "        return self.__n\n",
    "    \n",
    "    @property\n",
    "    def count_edges(self):\n",
    "        return self._n \n",
    "    \n",
    "    @property\n",
    "    def circumradius(self):\n",
    "        return self._R\n",
    "    \n",
    "    @property\n",
    "    def interior_angle(self):\n",
    "        return (self._n - 2) * 180 /self._n \n",
    "    \n",
    "    @property\n",
    "    def side_length(self):\n",
    "        return 2 * self._R * math.sin(math.pi / self._n)\n",
    "    \n",
    "    @property\n",
    "    def apothem(self):\n",
    "        return self._R * math.cos(math.pi / self._n)\n",
    "    \n",
    "    @property\n",
    "    def area(self):\n",
    "        return self._n / 2 * self.side_length * self.apothem\n",
    "    \n",
    "    @property\n",
    "    def perimeter(self):\n",
    "        return self._n * self.side_length\n",
    "    \n",
    "    "
   ]
  },
  {
   "cell_type": "markdown",
   "metadata": {},
   "source": [
    "# unit test ... assert ... thrid paret .. pytest ... \n",
    "\n",
    "## assert .. chech if the expression evalute to True .. other wise ... "
   ]
  },
  {
   "cell_type": "code",
   "execution_count": 18,
   "metadata": {},
   "outputs": [],
   "source": [
    "assert 1 ==1 # evaluate to True"
   ]
  },
  {
   "cell_type": "code",
   "execution_count": 19,
   "metadata": {},
   "outputs": [
    {
     "ename": "AssertionError",
     "evalue": "",
     "output_type": "error",
     "traceback": [
      "\u001b[0;31m---------------------------------------------------------------------------\u001b[0m",
      "\u001b[0;31mAssertionError\u001b[0m                            Traceback (most recent call last)",
      "Cell \u001b[0;32mIn [19], line 1\u001b[0m\n\u001b[0;32m----> 1\u001b[0m \u001b[39massert\u001b[39;00m \u001b[39m1\u001b[39m \u001b[39m>\u001b[39m\u001b[39m3\u001b[39m \u001b[39m# evaluate to False\u001b[39;00m\n",
      "\u001b[0;31mAssertionError\u001b[0m: "
     ]
    }
   ],
   "source": [
    "assert 1 >3 # evaluate to False"
   ]
  },
  {
   "cell_type": "code",
   "execution_count": null,
   "metadata": {},
   "outputs": [
    {
     "ename": "AssertionError",
     "evalue": " one is not greater than 10",
     "output_type": "error",
     "traceback": [
      "\u001b[0;31m---------------------------------------------------------------------------\u001b[0m",
      "\u001b[0;31mAssertionError\u001b[0m                            Traceback (most recent call last)",
      "Cell \u001b[0;32mIn [14], line 1\u001b[0m\n\u001b[0;32m----> 1\u001b[0m \u001b[39massert\u001b[39;00m \u001b[39m1\u001b[39m \u001b[39m>\u001b[39m \u001b[39m10\u001b[39m, \u001b[39m'\u001b[39m\u001b[39m one is not greater than 10\u001b[39m\u001b[39m'\u001b[39m\n",
      "\u001b[0;31mAssertionError\u001b[0m:  one is not greater than 10"
     ]
    }
   ],
   "source": [
    "assert 1 > 10, ' one is not greater than 10'"
   ]
  },
  {
   "cell_type": "code",
   "execution_count": 39,
   "metadata": {},
   "outputs": [],
   "source": [
    "import math \n",
    "\n",
    "class Polygon:\n",
    "    def __init__(self, n, R):\n",
    "        self._n = n\n",
    "        self._R = R \n",
    "        \n",
    "    def __repr__(self):\n",
    "        return f'Polygon(n={self._n},  R={self._R})'\n",
    "    \n",
    "    @property\n",
    "    def count_vertices(self):\n",
    "        return self._n\n",
    "    \n",
    "    @property\n",
    "    def count_edges(self):\n",
    "        return self._n \n",
    "    \n",
    "    @property\n",
    "    def circumradius(self):\n",
    "        return self._R\n",
    "    \n",
    "    @property\n",
    "    def interior_angle(self):\n",
    "        return (self._n - 2) * 180 /self._n \n",
    "    \n",
    "    @property\n",
    "    def side_length(self):\n",
    "        return 2 * self._R * math.sin(math.pi / self._n)\n",
    "    \n",
    "    @property\n",
    "    def apothem(self):\n",
    "        return self._R * math.cos(math.pi / self._n)\n",
    "    \n",
    "    @property\n",
    "    def area(self):\n",
    "        return self._n / 2 * self.side_length * self.apothem\n",
    "    \n",
    "    @property\n",
    "    def perimeter(self):\n",
    "        return self._n * self.side_length"
   ]
  },
  {
   "cell_type": "code",
   "execution_count": 42,
   "metadata": {},
   "outputs": [],
   "source": [
    "def test_polygon():\n",
    "    n, R = 3, 1\n",
    "    p = Polygon(n, R)\n",
    "    assert str(p) == f'Polygon(n=3,  R=1)', f'actual: {str(p)}'\n",
    "    assert p.count_vertices == n, (f'acual: {p.count_vertices}, '\n",
    "                                   f' excpected:  {n}')\n",
    "    \n",
    "    assert p.count_edges == n\n",
    "    assert p.circumradius == R \n",
    "    assert p.interior_angle == 60 \n",
    "    \n",
    "    \n",
    "    n, R = 4, 1 \n",
    "    p = Polygon(n, R)\n",
    "    assert p.interior_angle == 90 \n",
    "    assert p.area == 2.0, (f'acual: {p.area}, '\n",
    "                                   f' excpected:  {2.0}')\n",
    "    "
   ]
  },
  {
   "cell_type": "code",
   "execution_count": 43,
   "metadata": {},
   "outputs": [],
   "source": [
    "test_polygon()"
   ]
  },
  {
   "cell_type": "code",
   "execution_count": 45,
   "metadata": {},
   "outputs": [
    {
     "data": {
      "text/plain": [
       "False"
      ]
     },
     "execution_count": 45,
     "metadata": {},
     "output_type": "execute_result"
    }
   ],
   "source": [
    "0.1 + 0.1 + 0.1 == 0.3 # float are apporaximate .."
   ]
  },
  {
   "cell_type": "code",
   "execution_count": 70,
   "metadata": {},
   "outputs": [],
   "source": [
    "def test_polygon():\n",
    "    rel_tol = 0.001\n",
    "    abs_tol = 0.001\n",
    "    \n",
    "    n, R = 3, 1\n",
    "    p = Polygon(n, R)\n",
    "    assert str(p) == f'Polygon(n=3,  R=1)', f'actual: {str(p)}'\n",
    "    assert p.count_vertices == n, (f'acual: {p.count_vertices}, '\n",
    "                                   f' excpected:  {n}')\n",
    "    \n",
    "    assert p.count_edges == n\n",
    "    assert p.circumradius == R \n",
    "    assert p.interior_angle == 60 \n",
    "    \n",
    "    \n",
    "    n, R = 4, 1 \n",
    "    p = Polygon(n, R)\n",
    "    assert math.isclose(p.interior_angle,90 )\n",
    "    assert math.isclose(p.area, 2.0,\n",
    "                        rel_tol = rel_tol,\n",
    "                        abs_tol = abs_tol), (f'acual: {p.area}, '\n",
    "                                   f' excpected:  {2.0}')\n",
    "    \n",
    "    assert math.isclose(p.side_length, math.sqrt(2),\n",
    "                        rel_tol = rel_tol,\n",
    "                        abs_tol = abs_tol)\n",
    "    \n",
    "    assert math.isclose(p.perimeter, 4 * math.sqrt(2),\n",
    "                        rel_tol=rel_tol,\n",
    "                        abs_tol=abs_tol)\n",
    "    assert math.isclose(p.apothem, 0.707,\n",
    "                        rel_tol=rel_tol,\n",
    "                        abs_tol=abs_tol)"
   ]
  },
  {
   "cell_type": "code",
   "execution_count": 71,
   "metadata": {},
   "outputs": [],
   "source": [
    "test_polygon() # with float we can do equality funciton .. in pyton 3.10"
   ]
  },
  {
   "cell_type": "code",
   "execution_count": 69,
   "metadata": {},
   "outputs": [
    {
     "data": {
      "text/plain": [
       "16.363636363636363"
      ]
     },
     "execution_count": 69,
     "metadata": {},
     "output_type": "execute_result"
    }
   ],
   "source": [
    "180 / 11"
   ]
  },
  {
   "cell_type": "code",
   "execution_count": 72,
   "metadata": {},
   "outputs": [],
   "source": [
    "import math \n",
    "\n",
    "class Polygon:\n",
    "    def __init__(self, n, R):\n",
    "        self._n = n\n",
    "        self._R = R \n",
    "        \n",
    "    def __repr__(self):\n",
    "        return f'Polygon(n={self._n},  R={self._R})'\n",
    "    \n",
    "    @property\n",
    "    def count_vertices(self):\n",
    "        return self._n\n",
    "    \n",
    "    @property\n",
    "    def count_edges(self):\n",
    "        return self._n \n",
    "    \n",
    "    @property\n",
    "    def circumradius(self):\n",
    "        return self._R\n",
    "    \n",
    "    @property\n",
    "    def interior_angle(self):\n",
    "        return (self._n - 2) * 180 /self._n \n",
    "    \n",
    "    @property\n",
    "    def side_length(self):\n",
    "        return 2 * self._R * math.sin(math.pi / self._n)\n",
    "    \n",
    "    @property\n",
    "    def apothem(self):\n",
    "        return self._R * math.cos(math.pi / self._n)\n",
    "    \n",
    "    @property\n",
    "    def area(self):\n",
    "        return self._n / 2 * self.side_length * self.apothem\n",
    "    \n",
    "    @property\n",
    "    def perimeter(self):\n",
    "        return self._n * self.side_length"
   ]
  },
  {
   "cell_type": "code",
   "execution_count": 85,
   "metadata": {},
   "outputs": [],
   "source": [
    "def test_polygon():\n",
    "    rel_tol = 0.001\n",
    "    abs_tol = 0.001\n",
    "    \n",
    "    n, R = 3, 1\n",
    "    p = Polygon(n, R)\n",
    "    assert str(p) == f'Polygon(n=3,  R=1)', f'actual: {str(p)}'\n",
    "    assert p.count_vertices == n, (f'acual: {p.count_vertices}, '\n",
    "                                   f' excpected:  {n}')\n",
    "    \n",
    "    assert p.count_edges == n\n",
    "    assert p.circumradius == R \n",
    "    assert p.interior_angle == 60 \n",
    "    \n",
    "    \n",
    "    n, R = 4, 1 \n",
    "    p = Polygon(n, R)\n",
    "    assert math.isclose(p.interior_angle,90 )\n",
    "    assert math.isclose(p.area, 2.0,\n",
    "                        rel_tol = rel_tol,\n",
    "                        abs_tol = abs_tol), (f'acual: {p.area}, '\n",
    "                                   f' excpected:  {2.0}')\n",
    "    \n",
    "    assert math.isclose(p.side_length, math.sqrt(2),\n",
    "                        rel_tol = rel_tol,\n",
    "                        abs_tol = abs_tol)\n",
    "    \n",
    "    assert math.isclose(p.perimeter, 4 * math.sqrt(2),\n",
    "                        rel_tol=rel_tol,\n",
    "                        abs_tol=abs_tol)\n",
    "    assert math.isclose(p.apothem, 0.707,\n",
    "                        rel_tol=rel_tol,\n",
    "                        abs_tol=abs_tol)\n",
    "    \n",
    "    n, R = 12, 3\n",
    "    p = Polygon(n, R)\n",
    "\n",
    "    assert math.isclose(p.interior_angle,150 )\n",
    "    assert math.isclose(p.area, 27,\n",
    "                        rel_tol = rel_tol,\n",
    "                        abs_tol = abs_tol), (f'acual: {p.area}, '\n",
    "                                   f' excpected:  {2.0}')\n",
    "    \n",
    "    assert math.isclose(p.side_length,1.55291,\n",
    "                        rel_tol = rel_tol,\n",
    "                        abs_tol = abs_tol)\n",
    "    \n",
    "    assert math.isclose(p.perimeter, 18.635,\n",
    "                        rel_tol=rel_tol,\n",
    "                        abs_tol=abs_tol)\n",
    "    assert math.isclose(p.apothem, 2.89778,\n",
    "                        rel_tol=rel_tol,\n",
    "                        abs_tol=abs_tol)"
   ]
  },
  {
   "cell_type": "code",
   "execution_count": 86,
   "metadata": {},
   "outputs": [],
   "source": [
    "test_polygon() # with float we can do equality funciton .. in pyton 3.10"
   ]
  },
  {
   "cell_type": "code",
   "execution_count": 87,
   "metadata": {},
   "outputs": [],
   "source": [
    "import math \n",
    "\n",
    "class Polygon:\n",
    "    def __init__(self, n, R):\n",
    "        self._n = n\n",
    "        self._R = R \n",
    "        \n",
    "    def __repr__(self):\n",
    "        return f'Polygon(n={self._n},  R={self._R})'\n",
    "    \n",
    "    @property\n",
    "    def count_vertices(self):\n",
    "        return self._n\n",
    "    \n",
    "    @property\n",
    "    def count_edges(self):\n",
    "        return self._n \n",
    "    \n",
    "    @property\n",
    "    def circumradius(self):\n",
    "        return self._R\n",
    "    \n",
    "    @property\n",
    "    def interior_angle(self):\n",
    "        return (self._n - 2) * 180 /self._n \n",
    "    \n",
    "    @property\n",
    "    def side_length(self):\n",
    "        return 2 * self._R * math.sin(math.pi / self._n)\n",
    "    \n",
    "    @property\n",
    "    def apothem(self):\n",
    "        return self._R * math.cos(math.pi / self._n)\n",
    "    \n",
    "    @property\n",
    "    def area(self):\n",
    "        return self._n / 2 * self.side_length * self.apothem\n",
    "    \n",
    "    @property\n",
    "    def perimeter(self):\n",
    "        return self._n * self.side_length\n",
    "    \n",
    "    def __eq__(self, other):\n",
    "        if isinstance(other, self.__class__):\n",
    "            return (self.count_edges == other.count_edges \n",
    "                    and self.circumradius == other.circumradius )\n",
    "        else:\n",
    "            return NotImplemented\n",
    "        \n",
    "    def __gt__(self, other):\n",
    "        if isinstance(other, Polygon):\n",
    "            return self.count_vertices > other.count_vertices \n",
    "        else:\n",
    "            return NotImplemented"
   ]
  },
  {
   "cell_type": "code",
   "execution_count": 96,
   "metadata": {},
   "outputs": [],
   "source": [
    "def test_polygon():\n",
    "    rel_tol = 0.001\n",
    "    abs_tol = 0.001\n",
    "    \n",
    "    n, R = 3, 1\n",
    "    p = Polygon(n, R)\n",
    "    assert str(p) == f'Polygon(n=3,  R=1)', f'actual: {str(p)}'\n",
    "    assert p.count_vertices == n, (f'acual: {p.count_vertices}, '\n",
    "                                   f' excpected:  {n}')\n",
    "    \n",
    "    assert p.count_edges == n\n",
    "    assert p.circumradius == R \n",
    "    assert p.interior_angle == 60 \n",
    "    \n",
    "    \n",
    "    n, R = 4, 1 \n",
    "    p = Polygon(n, R)\n",
    "    assert math.isclose(p.interior_angle,90 )\n",
    "    assert math.isclose(p.area, 2.0,\n",
    "                        rel_tol = rel_tol,\n",
    "                        abs_tol = abs_tol), (f'acual: {p.area}, '\n",
    "                                   f' excpected:  {2.0}')\n",
    "    \n",
    "    assert math.isclose(p.side_length, math.sqrt(2),\n",
    "                        rel_tol = rel_tol,\n",
    "                        abs_tol = abs_tol)\n",
    "    \n",
    "    assert math.isclose(p.perimeter, 4 * math.sqrt(2),\n",
    "                        rel_tol=rel_tol,\n",
    "                        abs_tol=abs_tol)\n",
    "    assert math.isclose(p.apothem, 0.707,\n",
    "                        rel_tol=rel_tol,\n",
    "                        abs_tol=abs_tol)\n",
    "    \n",
    "    n, R = 12, 3\n",
    "    p = Polygon(n, R)\n",
    "\n",
    "    assert math.isclose(p.interior_angle,150 )\n",
    "    assert math.isclose(p.area, 27,\n",
    "                        rel_tol = rel_tol,\n",
    "                        abs_tol = abs_tol), (f'acual: {p.area}, '\n",
    "                                   f' excpected:  {2.0}')\n",
    "    \n",
    "    assert math.isclose(p.side_length,1.55291,\n",
    "                        rel_tol = rel_tol,\n",
    "                        abs_tol = abs_tol)\n",
    "    \n",
    "    assert math.isclose(p.perimeter, 18.635,\n",
    "                        rel_tol=rel_tol,\n",
    "                        abs_tol=abs_tol)\n",
    "    assert math.isclose(p.apothem, 2.89778,\n",
    "                        rel_tol=rel_tol,\n",
    "                        abs_tol=abs_tol)\n",
    "    \n",
    "    p1 = Polygon(3, 1)\n",
    "    p2 = Polygon(10, 10)\n",
    "    \n",
    "    assert p2 > p1\n",
    "    assert p1 == p2\n",
    "    \n",
    "    "
   ]
  },
  {
   "cell_type": "code",
   "execution_count": 97,
   "metadata": {},
   "outputs": [
    {
     "ename": "TypeError",
     "evalue": "'>' not supported between instances of 'Polygon' and 'Polygon'",
     "output_type": "error",
     "traceback": [
      "\u001b[0;31m---------------------------------------------------------------------------\u001b[0m",
      "\u001b[0;31mTypeError\u001b[0m                                 Traceback (most recent call last)",
      "Cell \u001b[0;32mIn [97], line 1\u001b[0m\n\u001b[0;32m----> 1\u001b[0m test_polygon() \u001b[39m# with float we can do equality funciton .. in pyton 3.10\u001b[39;00m\n",
      "Cell \u001b[0;32mIn [96], line 58\u001b[0m, in \u001b[0;36mtest_polygon\u001b[0;34m()\u001b[0m\n\u001b[1;32m     55\u001b[0m p1 \u001b[39m=\u001b[39m Polygon(\u001b[39m3\u001b[39m, \u001b[39m1\u001b[39m)\n\u001b[1;32m     56\u001b[0m p2 \u001b[39m=\u001b[39m Polygon(\u001b[39m10\u001b[39m, \u001b[39m10\u001b[39m)\n\u001b[0;32m---> 58\u001b[0m \u001b[39massert\u001b[39;00m p2 \u001b[39m>\u001b[39;49m p1\n\u001b[1;32m     59\u001b[0m \u001b[39massert\u001b[39;00m p1 \u001b[39m==\u001b[39m p2\n",
      "\u001b[0;31mTypeError\u001b[0m: '>' not supported between instances of 'Polygon' and 'Polygon'"
     ]
    }
   ],
   "source": [
    "test_polygon() # with float we can do equality funciton .. in pyton 3.10"
   ]
  },
  {
   "cell_type": "code",
   "execution_count": 98,
   "metadata": {},
   "outputs": [],
   "source": [
    "p = Polygon(2,2)"
   ]
  },
  {
   "cell_type": "code",
   "execution_count": 99,
   "metadata": {},
   "outputs": [],
   "source": [
    "import math \n",
    "\n",
    "class Polygon:\n",
    "    def __init__(self, n, R):\n",
    "        if n < 3:\n",
    "            raise ValueError('Polygon has to be 3 sides')\n",
    "        self._n = n\n",
    "        self._R = R \n",
    "        \n",
    "    def __repr__(self):\n",
    "        return f'Polygon(n={self._n},  R={self._R})'\n",
    "    \n",
    "    @property\n",
    "    def count_vertices(self):\n",
    "        return self._n\n",
    "    \n",
    "    @property\n",
    "    def count_edges(self):\n",
    "        return self._n \n",
    "    \n",
    "    @property\n",
    "    def circumradius(self):\n",
    "        return self._R\n",
    "    \n",
    "    @property\n",
    "    def interior_angle(self):\n",
    "        return (self._n - 2) * 180 /self._n \n",
    "    \n",
    "    @property\n",
    "    def side_length(self):\n",
    "        return 2 * self._R * math.sin(math.pi / self._n)\n",
    "    \n",
    "    @property\n",
    "    def apothem(self):\n",
    "        return self._R * math.cos(math.pi / self._n)\n",
    "    \n",
    "    @property\n",
    "    def area(self):\n",
    "        return self._n / 2 * self.side_length * self.apothem\n",
    "    \n",
    "    @property\n",
    "    def perimeter(self):\n",
    "        return self._n * self.side_length\n",
    "    \n",
    "    def __eq__(self, other):\n",
    "        if isinstance(other, self.__class__):\n",
    "            return (self.count_edges == other.count_edges \n",
    "                    and self.circumradius == other.circumradius )\n",
    "        else:\n",
    "            return NotImplemented\n",
    "        \n",
    "    def __gt__(self, other):\n",
    "        if isinstance(other, Polygon):\n",
    "            return self.count_vertices > other.count_vertices \n",
    "        else:\n",
    "            return NotImplemented"
   ]
  },
  {
   "cell_type": "code",
   "execution_count": 106,
   "metadata": {},
   "outputs": [],
   "source": [
    "def test_polygon():\n",
    "    rel_tol = 0.001\n",
    "    abs_tol = 0.001\n",
    "    try:\n",
    "        p = Polygon(2, 10)\n",
    "        assert False, ('Createing a polygon of 2 sides '\n",
    "                       , 'Exception but not receifd ')\n",
    "    except ValueError:\n",
    "        pass \n",
    "    n, R = 3, 1\n",
    "    p = Polygon(n, R)\n",
    "    assert str(p) == f'Polygon(n=3,  R=1)', f'actual: {str(p)}'\n",
    "    assert p.count_vertices == n, (f'acual: {p.count_vertices}, '\n",
    "                                   f' excpected:  {n}')\n",
    "    \n",
    "    assert p.count_edges == n\n",
    "    assert p.circumradius == R \n",
    "    assert p.interior_angle == 60 \n",
    "    \n",
    "    \n",
    "    n, R = 4, 1 \n",
    "    p = Polygon(n, R)\n",
    "    assert math.isclose(p.interior_angle,90 )\n",
    "    assert math.isclose(p.area, 2.0,\n",
    "                        rel_tol = rel_tol,\n",
    "                        abs_tol = abs_tol), (f'acual: {p.area}, '\n",
    "                                   f' excpected:  {2.0}')\n",
    "    \n",
    "    assert math.isclose(p.side_length, math.sqrt(2),\n",
    "                        rel_tol = rel_tol,\n",
    "                        abs_tol = abs_tol)\n",
    "    \n",
    "    assert math.isclose(p.perimeter, 4 * math.sqrt(2),\n",
    "                        rel_tol=rel_tol,\n",
    "                        abs_tol=abs_tol)\n",
    "    assert math.isclose(p.apothem, 0.707,\n",
    "                        rel_tol=rel_tol,\n",
    "                        abs_tol=abs_tol)\n",
    "    \n",
    "    n, R = 12, 3\n",
    "    p = Polygon(n, R)\n",
    "\n",
    "    assert math.isclose(p.interior_angle,150 )\n",
    "    assert math.isclose(p.area, 27,\n",
    "                        rel_tol = rel_tol,\n",
    "                        abs_tol = abs_tol), (f'acual: {p.area}, '\n",
    "                                   f' excpected:  {2.0}')\n",
    "    \n",
    "    assert math.isclose(p.side_length,1.55291,\n",
    "                        rel_tol = rel_tol,\n",
    "                        abs_tol = abs_tol)\n",
    "    \n",
    "    assert math.isclose(p.perimeter, 18.635,\n",
    "                        rel_tol=rel_tol,\n",
    "                        abs_tol=abs_tol)\n",
    "    assert math.isclose(p.apothem, 2.89778,\n",
    "                        rel_tol=rel_tol,\n",
    "                        abs_tol=abs_tol)\n",
    "    \n",
    "    p1 = Polygon(3, 1)\n",
    "    p2 = Polygon(10, 10)\n",
    "    p3 = Polygon(4,3)\n",
    "    \n",
    "    assert p2 > p1\n",
    "    assert p1 == p2\n",
    "    \n",
    "    "
   ]
  },
  {
   "cell_type": "code",
   "execution_count": 107,
   "metadata": {},
   "outputs": [
    {
     "ename": "AssertionError",
     "evalue": "",
     "output_type": "error",
     "traceback": [
      "\u001b[0;31m---------------------------------------------------------------------------\u001b[0m",
      "\u001b[0;31mAssertionError\u001b[0m                            Traceback (most recent call last)",
      "Cell \u001b[0;32mIn [107], line 1\u001b[0m\n\u001b[0;32m----> 1\u001b[0m test_polygon()\n",
      "Cell \u001b[0;32mIn [106], line 65\u001b[0m, in \u001b[0;36mtest_polygon\u001b[0;34m()\u001b[0m\n\u001b[1;32m     62\u001b[0m p3 \u001b[39m=\u001b[39m Polygon(\u001b[39m4\u001b[39m,\u001b[39m3\u001b[39m)\n\u001b[1;32m     64\u001b[0m \u001b[39massert\u001b[39;00m p2 \u001b[39m>\u001b[39m p1\n\u001b[0;32m---> 65\u001b[0m \u001b[39massert\u001b[39;00m p1 \u001b[39m==\u001b[39m p2\n",
      "\u001b[0;31mAssertionError\u001b[0m: "
     ]
    }
   ],
   "source": [
    "test_polygon()"
   ]
  },
  {
   "cell_type": "code",
   "execution_count": 108,
   "metadata": {},
   "outputs": [],
   "source": [
    "import math\n",
    "\n",
    "class Polygon:\n",
    "    def __init__(self, n, R):\n",
    "        if n < 3:\n",
    "            raise ValueError('Polygon must have at least 3 vertices.')\n",
    "        self._n = n\n",
    "        self._R = R\n",
    "        \n",
    "    def __repr__(self):\n",
    "        return f'Polygon(n={self._n}, R={self._R})'\n",
    "    \n",
    "    @property\n",
    "    def count_vertices(self):\n",
    "        return self._n\n",
    "    \n",
    "    @property\n",
    "    def count_edges(self):\n",
    "        return self._n\n",
    "    \n",
    "    @property\n",
    "    def circumradius(self):\n",
    "        return self._R\n",
    "    \n",
    "    @property\n",
    "    def interior_angle(self):\n",
    "        return (self._n - 2) * 180 / self._n\n",
    "\n",
    "    @property\n",
    "    def side_length(self):\n",
    "        return 2 * self._R * math.sin(math.pi / self._n)\n",
    "    \n",
    "    @property\n",
    "    def apothem(self):\n",
    "        return self._R * math.cos(math.pi / self._n)\n",
    "    \n",
    "    @property\n",
    "    def area(self):\n",
    "        return self._n / 2 * self.side_length * self.apothem\n",
    "    \n",
    "    @property\n",
    "    def perimeter(self):\n",
    "        return self._n * self.side_length\n",
    "    \n",
    "    def __eq__(self, other):\n",
    "        if isinstance(other, self.__class__):\n",
    "            return (self.count_edges == other.count_edges \n",
    "                    and self.circumradius == other.circumradius)\n",
    "        else:\n",
    "            return NotImplemented\n",
    "        \n",
    "    def __gt__(self, other):\n",
    "        if isinstance(other, self.__class__):\n",
    "            return self.count_vertices > other.count_vertices\n",
    "        else:\n",
    "            return NotImplemented\n",
    "            "
   ]
  },
  {
   "cell_type": "code",
   "execution_count": 109,
   "metadata": {},
   "outputs": [],
   "source": [
    "def test_polygon():\n",
    "    abs_tol = 0.001\n",
    "    rel_tol = 0.001\n",
    "    \n",
    "    try:\n",
    "        p = Polygon(2, 10)\n",
    "        assert False, ('Creating a Polygon with 2 sides: '\n",
    "                       ' Exception expected, not received')\n",
    "    except ValueError:\n",
    "        pass\n",
    "                       \n",
    "    n = 3\n",
    "    R = 1\n",
    "    p = Polygon(n, R)\n",
    "    assert str(p) == 'Polygon(n=3, R=1)', f'actual: {str(p)}'\n",
    "    assert p.count_vertices == n, (f'actual: {p.count_vertices},'\n",
    "                                   f' expected: {n}')\n",
    "    assert p.count_edges == n, f'actual: {p.count_edges}, expected: {n}'\n",
    "    assert p.circumradius == R, f'actual: {p.circumradius}, expected: {n}'\n",
    "    assert p.interior_angle == 60, (f'actual: {p.interior_angle},'\n",
    "                                    ' expected: 60')\n",
    "    n = 4\n",
    "    R = 1\n",
    "    p = Polygon(n, R)\n",
    "    assert p.interior_angle == 90, (f'actual: {p.interior_angle}, '\n",
    "                                    ' expected: 90')\n",
    "    assert math.isclose(p.area, 2, \n",
    "                        rel_tol=abs_tol, \n",
    "                        abs_tol=abs_tol), (f'actual: {p.area},'\n",
    "                                           ' expected: 2.0')\n",
    "    \n",
    "    assert math.isclose(p.side_length, math.sqrt(2),\n",
    "                       rel_tol=rel_tol,\n",
    "                       abs_tol=abs_tol), (f'actual: {p.side_length},'\n",
    "                                          f' expected: {math.sqrt(2)}')\n",
    "    \n",
    "    assert math.isclose(p.perimeter, 4 * math.sqrt(2),\n",
    "                       rel_tol=rel_tol,\n",
    "                       abs_tol=abs_tol), (f'actual: {p.perimeter},'\n",
    "                                          f' expected: {4 * math.sqrt(2)}')\n",
    "    \n",
    "    assert math.isclose(p.apothem, 0.707,\n",
    "                       rel_tol=rel_tol,\n",
    "                       abs_tol=abs_tol), (f'actual: {p.perimeter},'\n",
    "                                          ' expected: 0.707')\n",
    "    p = Polygon(6, 2)\n",
    "    assert math.isclose(p.side_length, 2,\n",
    "                        rel_tol=rel_tol, abs_tol=abs_tol)\n",
    "    assert math.isclose(p.apothem, 1.73205,\n",
    "                        rel_tol=rel_tol, abs_tol=abs_tol)\n",
    "    assert math.isclose(p.area, 10.3923,\n",
    "                        rel_tol=rel_tol, abs_tol=abs_tol)\n",
    "    assert math.isclose(p.perimeter, 12,\n",
    "                        rel_tol=rel_tol, abs_tol=abs_tol)\n",
    "    assert math.isclose(p.interior_angle, 120,\n",
    "                        rel_tol=rel_tol, abs_tol=abs_tol)\n",
    "    \n",
    "    p = Polygon(12, 3)\n",
    "    assert math.isclose(p.side_length, 1.55291,\n",
    "                        rel_tol=rel_tol, abs_tol=abs_tol)\n",
    "    assert math.isclose(p.apothem, 2.89778,\n",
    "                        rel_tol=rel_tol, abs_tol=abs_tol)\n",
    "    assert math.isclose(p.area, 27,\n",
    "                        rel_tol=rel_tol, abs_tol=abs_tol)\n",
    "    assert math.isclose(p.perimeter, 18.635,\n",
    "                        rel_tol=rel_tol, abs_tol=abs_tol)\n",
    "    assert math.isclose(p.interior_angle, 150,\n",
    "                        rel_tol=rel_tol, abs_tol=abs_tol)\n",
    "    \n",
    "    p1 = Polygon(3, 10)\n",
    "    p2 = Polygon(10, 10)\n",
    "    p3 = Polygon(15, 10)\n",
    "    p4 = Polygon(15, 100)\n",
    "    p5 = Polygon(15, 100)\n",
    "    \n",
    "    assert p2 > p1\n",
    "    assert p2 < p3\n",
    "    assert p3 != p4\n",
    "    assert p1 != p4\n",
    "    assert p4 == p5"
   ]
  },
  {
   "cell_type": "code",
   "execution_count": 110,
   "metadata": {},
   "outputs": [],
   "source": [
    "test_polygon()"
   ]
  },
  {
   "cell_type": "code",
   "execution_count": 129,
   "metadata": {},
   "outputs": [],
   "source": [
    "class Polygons:\n",
    "    def __init__(self, m, R):\n",
    "        if m< 3:\n",
    "            raise ValueError('m must be greater than 3')\n",
    "        \n",
    "        self._m = m \n",
    "        self._R = R \n",
    "        \n",
    "    def __len__(self):\n",
    "        return self._m - 2 \n",
    "    \n",
    "    def __repr__(self):\n",
    "        return f'Polygons (m={self._m}, R={self._R})'"
   ]
  },
  {
   "cell_type": "code",
   "execution_count": 130,
   "metadata": {},
   "outputs": [
    {
     "ename": "ValueError",
     "evalue": "m must be greater than 3",
     "output_type": "error",
     "traceback": [
      "\u001b[0;31m---------------------------------------------------------------------------\u001b[0m",
      "\u001b[0;31mValueError\u001b[0m                                Traceback (most recent call last)",
      "Cell \u001b[0;32mIn [130], line 1\u001b[0m\n\u001b[0;32m----> 1\u001b[0m polygons \u001b[39m=\u001b[39m Polygons(\u001b[39m2\u001b[39;49m, \u001b[39m10\u001b[39;49m)\n",
      "Cell \u001b[0;32mIn [129], line 4\u001b[0m, in \u001b[0;36mPolygons.__init__\u001b[0;34m(self, m, R)\u001b[0m\n\u001b[1;32m      2\u001b[0m \u001b[39mdef\u001b[39;00m \u001b[39m__init__\u001b[39m(\u001b[39mself\u001b[39m, m, R):\n\u001b[1;32m      3\u001b[0m     \u001b[39mif\u001b[39;00m m\u001b[39m<\u001b[39m \u001b[39m3\u001b[39m:\n\u001b[0;32m----> 4\u001b[0m         \u001b[39mraise\u001b[39;00m \u001b[39mValueError\u001b[39;00m(\u001b[39m'\u001b[39m\u001b[39mm must be greater than 3\u001b[39m\u001b[39m'\u001b[39m)\n\u001b[1;32m      6\u001b[0m     \u001b[39mself\u001b[39m\u001b[39m.\u001b[39m_m \u001b[39m=\u001b[39m m \n\u001b[1;32m      7\u001b[0m     \u001b[39mself\u001b[39m\u001b[39m.\u001b[39m_R \u001b[39m=\u001b[39m R\n",
      "\u001b[0;31mValueError\u001b[0m: m must be greater than 3"
     ]
    }
   ],
   "source": [
    "polygons = Polygons(2, 10)"
   ]
  },
  {
   "cell_type": "code",
   "execution_count": null,
   "metadata": {},
   "outputs": [],
   "source": [
    "polygons = Polygons(3, 1)"
   ]
  },
  {
   "cell_type": "code",
   "execution_count": 131,
   "metadata": {},
   "outputs": [
    {
     "data": {
      "text/plain": [
       "4"
      ]
     },
     "execution_count": 131,
     "metadata": {},
     "output_type": "execute_result"
    }
   ],
   "source": [
    "len(polygons)"
   ]
  },
  {
   "cell_type": "code",
   "execution_count": 132,
   "metadata": {},
   "outputs": [],
   "source": [
    "polygons = Polygons(6, 1)"
   ]
  },
  {
   "cell_type": "code",
   "execution_count": 133,
   "metadata": {},
   "outputs": [
    {
     "data": {
      "text/plain": [
       "4"
      ]
     },
     "execution_count": 133,
     "metadata": {},
     "output_type": "execute_result"
    }
   ],
   "source": [
    "len(polygons)"
   ]
  },
  {
   "cell_type": "code",
   "execution_count": 134,
   "metadata": {},
   "outputs": [
    {
     "data": {
      "text/plain": [
       "Polygons (m=6, R=1)"
      ]
     },
     "execution_count": 134,
     "metadata": {},
     "output_type": "execute_result"
    }
   ],
   "source": [
    "polygons"
   ]
  },
  {
   "cell_type": "code",
   "execution_count": 135,
   "metadata": {},
   "outputs": [],
   "source": [
    "class Polygons:\n",
    "    def __init__(self, m, R):\n",
    "        if m< 3:\n",
    "            raise ValueError('m must be greater than 3')\n",
    "        \n",
    "        self._m = m \n",
    "        self._R = R \n",
    "        self._polygons = [Polygon(i, R) for i in range(3, m+1)]\n",
    "        \n",
    "    def __len__(self):\n",
    "        return self._m - 2 \n",
    "    \n",
    "    def __repr__(self):\n",
    "        return f'Polygons (m={self._m}, R={self._R})'"
   ]
  },
  {
   "cell_type": "code",
   "execution_count": 136,
   "metadata": {},
   "outputs": [],
   "source": [
    "p = Polygons(4, 2)"
   ]
  },
  {
   "cell_type": "code",
   "execution_count": 137,
   "metadata": {},
   "outputs": [
    {
     "data": {
      "text/plain": [
       "Polygons (m=4, R=2)"
      ]
     },
     "execution_count": 137,
     "metadata": {},
     "output_type": "execute_result"
    }
   ],
   "source": [
    "p"
   ]
  },
  {
   "cell_type": "code",
   "execution_count": 138,
   "metadata": {},
   "outputs": [
    {
     "data": {
      "text/plain": [
       "[Polygon(n=3, R=2), Polygon(n=4, R=2)]"
      ]
     },
     "execution_count": 138,
     "metadata": {},
     "output_type": "execute_result"
    }
   ],
   "source": [
    "p._polygons"
   ]
  },
  {
   "cell_type": "code",
   "execution_count": 139,
   "metadata": {},
   "outputs": [],
   "source": [
    "class Polygons:\n",
    "    def __init__(self, m, R):\n",
    "        if m< 3:\n",
    "            raise ValueError('m must be greater than 3')\n",
    "        \n",
    "        self._m = m \n",
    "        self._R = R \n",
    "        self._polygons = [Polygon(i, R) for i in range(3, m+1)]\n",
    "        \n",
    "    def __len__(self):\n",
    "        return self._m - 2 \n",
    "    \n",
    "    def __repr__(self):\n",
    "        return f'Polygons (m={self._m}, R={self._R})'\n",
    "    \n",
    "    def __getitem__(self, s):\n",
    "        return self._polygons[s]\n",
    "    \n",
    "    "
   ]
  },
  {
   "cell_type": "code",
   "execution_count": 140,
   "metadata": {},
   "outputs": [],
   "source": [
    "polygons = Polygons(8, 1)"
   ]
  },
  {
   "cell_type": "code",
   "execution_count": 141,
   "metadata": {},
   "outputs": [
    {
     "name": "stdout",
     "output_type": "stream",
     "text": [
      "Polygon(n=3, R=1)\n",
      "Polygon(n=4, R=1)\n",
      "Polygon(n=5, R=1)\n",
      "Polygon(n=6, R=1)\n",
      "Polygon(n=7, R=1)\n",
      "Polygon(n=8, R=1)\n"
     ]
    }
   ],
   "source": [
    "for p in polygons:\n",
    "    print(p)"
   ]
  },
  {
   "cell_type": "code",
   "execution_count": 142,
   "metadata": {},
   "outputs": [
    {
     "name": "stdout",
     "output_type": "stream",
     "text": [
      "Polygon(n=8, R=1)\n",
      "Polygon(n=7, R=1)\n",
      "Polygon(n=6, R=1)\n",
      "Polygon(n=5, R=1)\n",
      "Polygon(n=4, R=1)\n",
      "Polygon(n=3, R=1)\n"
     ]
    }
   ],
   "source": [
    "for p in polygons[::-1]:\n",
    "    print(p)"
   ]
  },
  {
   "cell_type": "code",
   "execution_count": 144,
   "metadata": {},
   "outputs": [],
   "source": [
    "class Polygons:\n",
    "    def __init__(self, m, R):\n",
    "        if m< 3:\n",
    "            raise ValueError('m must be greater than 3')\n",
    "        \n",
    "        self._m = m \n",
    "        self._R = R \n",
    "        self._polygons = [Polygon(i, R) for i in range(3, m+1)]\n",
    "        \n",
    "    def __len__(self):\n",
    "        return self._m - 2 \n",
    "    \n",
    "    def __repr__(self):\n",
    "        return f'Polygons (m={self._m}, R={self._R})'\n",
    "    \n",
    "    def __getitem__(self, s):\n",
    "        return self._polygons[s]\n",
    "    \n",
    "    @property\n",
    "    def max_efficiency_polygon(self):\n",
    "        sorted_polygons = sorted(self._polygons,\n",
    "                                 key=lambda p: p.area/p.perimeter,\n",
    "                                 reverse=True)\n",
    "        return sorted_polygons[0]"
   ]
  },
  {
   "cell_type": "code",
   "execution_count": 145,
   "metadata": {},
   "outputs": [],
   "source": [
    "ps = Polygons(10, 1)"
   ]
  },
  {
   "cell_type": "code",
   "execution_count": 146,
   "metadata": {},
   "outputs": [
    {
     "data": {
      "text/plain": [
       "Polygon(n=10, R=1)"
      ]
     },
     "execution_count": 146,
     "metadata": {},
     "output_type": "execute_result"
    }
   ],
   "source": [
    "ps.max_efficiency_polygon"
   ]
  },
  {
   "cell_type": "code",
   "execution_count": 147,
   "metadata": {},
   "outputs": [
    {
     "data": {
      "text/plain": [
       "[(Polygon(n=3, R=1), 0.25000000000000006),\n",
       " (Polygon(n=4, R=1), 0.3535533905932738),\n",
       " (Polygon(n=5, R=1), 0.4045084971874737),\n",
       " (Polygon(n=6, R=1), 0.4330127018922193),\n",
       " (Polygon(n=7, R=1), 0.4504844339512096),\n",
       " (Polygon(n=8, R=1), 0.4619397662556434),\n",
       " (Polygon(n=9, R=1), 0.46984631039295427),\n",
       " (Polygon(n=10, R=1), 0.47552825814757677)]"
      ]
     },
     "execution_count": 147,
     "metadata": {},
     "output_type": "execute_result"
    }
   ],
   "source": [
    "[(p, p.area/p.perimeter) for p in ps]"
   ]
  },
  {
   "cell_type": "code",
   "execution_count": 148,
   "metadata": {},
   "outputs": [],
   "source": [
    "polygons = Polygons(500, 1)"
   ]
  },
  {
   "cell_type": "code",
   "execution_count": 149,
   "metadata": {},
   "outputs": [
    {
     "data": {
      "text/plain": [
       "Polygon(n=500, R=1)"
      ]
     },
     "execution_count": 149,
     "metadata": {},
     "output_type": "execute_result"
    }
   ],
   "source": [
    "polygons.max_efficiency_polygon"
   ]
  },
  {
   "cell_type": "code",
   "execution_count": 150,
   "metadata": {},
   "outputs": [
    {
     "data": {
      "text/plain": [
       "1.2990381056766582"
      ]
     },
     "execution_count": 150,
     "metadata": {},
     "output_type": "execute_result"
    }
   ],
   "source": [
    "p.area"
   ]
  },
  {
   "cell_type": "code",
   "execution_count": 152,
   "metadata": {},
   "outputs": [
    {
     "ename": "AssertionError",
     "evalue": "",
     "output_type": "error",
     "traceback": [
      "\u001b[0;31m---------------------------------------------------------------------------\u001b[0m",
      "\u001b[0;31mAssertionError\u001b[0m                            Traceback (most recent call last)",
      "Cell \u001b[0;32mIn [152], line 1\u001b[0m\n\u001b[0;32m----> 1\u001b[0m \u001b[39massert\u001b[39;00m math\u001b[39m.\u001b[39misclose(p\u001b[39m.\u001b[39marea, math\u001b[39m.\u001b[39mpi, rel_tol\u001b[39m=\u001b[39m\u001b[39m0.001\u001b[39m, abs_tol\u001b[39m=\u001b[39m\u001b[39m0.001\u001b[39m)\n",
      "\u001b[0;31mAssertionError\u001b[0m: "
     ]
    }
   ],
   "source": [
    "assert math.isclose(p.area, math.pi, rel_tol=0.001, abs_tol=0.001)"
   ]
  },
  {
   "cell_type": "code",
   "execution_count": null,
   "metadata": {},
   "outputs": [],
   "source": []
  }
 ],
 "metadata": {
  "kernelspec": {
   "display_name": "Python 3.10.7 64-bit",
   "language": "python",
   "name": "python3"
  },
  "language_info": {
   "codemirror_mode": {
    "name": "ipython",
    "version": 3
   },
   "file_extension": ".py",
   "mimetype": "text/x-python",
   "name": "python",
   "nbconvert_exporter": "python",
   "pygments_lexer": "ipython3",
   "version": "3.10.7"
  },
  "orig_nbformat": 4,
  "vscode": {
   "interpreter": {
    "hash": "aee8b7b246df8f9039afb4144a1f6fd8d2ca17a180786b69acc140d282b71a49"
   }
  }
 },
 "nbformat": 4,
 "nbformat_minor": 2
}
