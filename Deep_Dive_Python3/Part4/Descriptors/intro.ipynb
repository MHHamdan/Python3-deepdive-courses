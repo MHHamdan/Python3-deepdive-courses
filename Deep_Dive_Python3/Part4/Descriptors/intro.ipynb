{
 "cells": [
  {
   "cell_type": "markdown",
   "metadata": {},
   "source": [
    "# Descriptor protocol ..\n",
    "1. __get__ ... p.x attribute value \n",
    "2. __set__ .... p.x = 199\n",
    "3. __delete__ ... .. del p.x .... \n",
    "4. __set_name___ .. usefuel ...\n",
    "# like a property class .... repeating the same code ..\n",
    "\n",
    "__descriptor__ ... __get__ .. non data descriptors .. only \n",
    "- __set__ and/or __delete__ ... data descriptors .. \n",
    "\n",
    "None data descriptors ... class TimeUTC: def __get__(self)M... currentutc .. isoformat()\n",
    " ... like properties .. l.current_time .. class attripute .. call __get__ ... Non dataa descriptors.. \n"
   ]
  },
  {
   "cell_type": "code",
   "execution_count": 1,
   "metadata": {},
   "outputs": [],
   "source": [
    "from datetime import datetime\n"
   ]
  },
  {
   "cell_type": "code",
   "execution_count": 2,
   "metadata": {},
   "outputs": [],
   "source": [
    "class TimeUTC:\n",
    "    def __get__(self, instance, owner_class):\n",
    "        return datetime.utcnow().isoformat()"
   ]
  },
  {
   "cell_type": "code",
   "execution_count": 3,
   "metadata": {},
   "outputs": [],
   "source": [
    "class Logger:\n",
    "    current_time = TimeUTC()"
   ]
  },
  {
   "cell_type": "code",
   "execution_count": 4,
   "metadata": {},
   "outputs": [
    {
     "data": {
      "text/plain": [
       "mappingproxy({'__module__': '__main__',\n",
       "              'current_time': <__main__.TimeUTC at 0x113d62b60>,\n",
       "              '__dict__': <attribute '__dict__' of 'Logger' objects>,\n",
       "              '__weakref__': <attribute '__weakref__' of 'Logger' objects>,\n",
       "              '__doc__': None})"
      ]
     },
     "execution_count": 4,
     "metadata": {},
     "output_type": "execute_result"
    }
   ],
   "source": [
    "Logger.__dict__"
   ]
  },
  {
   "cell_type": "code",
   "execution_count": 6,
   "metadata": {},
   "outputs": [],
   "source": [
    "Logger.current_time\n",
    "l = Logger()"
   ]
  },
  {
   "cell_type": "code",
   "execution_count": 7,
   "metadata": {},
   "outputs": [
    {
     "data": {
      "text/plain": [
       "'2022-12-05T17:59:15.048168'"
      ]
     },
     "execution_count": 7,
     "metadata": {},
     "output_type": "execute_result"
    }
   ],
   "source": [
    "l.current_time"
   ]
  },
  {
   "cell_type": "code",
   "execution_count": 8,
   "metadata": {},
   "outputs": [],
   "source": [
    "from random import choice, seed\n",
    "\n",
    "class Deck:\n",
    "    @property\n",
    "    def suit(self):\n",
    "        return choice(('speed', 'Hear','Diomond', 'CLub'))\n",
    "    \n",
    "    @property\n",
    "    def card(self):\n",
    "        return choice(tuple('234456789JQDA') + ('10',))"
   ]
  },
  {
   "cell_type": "code",
   "execution_count": 9,
   "metadata": {},
   "outputs": [],
   "source": [
    "d = Deck()"
   ]
  },
  {
   "cell_type": "code",
   "execution_count": 10,
   "metadata": {},
   "outputs": [
    {
     "name": "stdout",
     "output_type": "stream",
     "text": [
      "10 CLub\n",
      "A CLub\n",
      "2 Diomond\n",
      "9 CLub\n",
      "7 Diomond\n",
      "8 Diomond\n",
      "J Hear\n",
      "9 Hear\n",
      "5 Hear\n",
      "A speed\n"
     ]
    }
   ],
   "source": [
    "seed(0)\n",
    "\n",
    "for _ in range(10):\n",
    "    print(d.card, d.suit)"
   ]
  },
  {
   "cell_type": "markdown",
   "metadata": {},
   "source": [
    "# Use a descriptor"
   ]
  },
  {
   "cell_type": "code",
   "execution_count": 11,
   "metadata": {},
   "outputs": [],
   "source": [
    "class Choice:\n",
    "    def __init__(self, *choices):\n",
    "        self.choices = choices \n",
    "        \n",
    "    def __get__(self, instance, owner_class):\n",
    "        return choice(self.choices) "
   ]
  },
  {
   "cell_type": "code",
   "execution_count": 16,
   "metadata": {},
   "outputs": [],
   "source": [
    "class Deck:\n",
    "    suit =Choice('speed', 'Hear','Diomond', 'CLub')\n",
    "    card = Choice(*'234456789JQKA','10')"
   ]
  },
  {
   "cell_type": "code",
   "execution_count": 17,
   "metadata": {},
   "outputs": [
    {
     "name": "stdout",
     "output_type": "stream",
     "text": [
      "10 CLub\n",
      "A CLub\n",
      "2 Diomond\n",
      "9 CLub\n",
      "7 Diomond\n",
      "8 Diomond\n",
      "J Hear\n",
      "9 Hear\n",
      "5 Hear\n",
      "A speed\n"
     ]
    }
   ],
   "source": [
    "seed(0)\n",
    "\n",
    "d = Deck()\n",
    "\n",
    "for _ in range(10):\n",
    "    print(d.card, d.suit)"
   ]
  },
  {
   "cell_type": "code",
   "execution_count": 18,
   "metadata": {},
   "outputs": [],
   "source": [
    "class Dice:\n",
    "    die_1 = Choice(1,2,3,4,5,6,7)\n",
    "    die_2 = Choice(1,2,3,4,5,6,7)\n",
    "    die_3 = Choice(1,2,3,4,5,6,7)"
   ]
  },
  {
   "cell_type": "code",
   "execution_count": 19,
   "metadata": {},
   "outputs": [
    {
     "name": "stdout",
     "output_type": "stream",
     "text": [
      "7 4 7\n",
      "4 1 3\n",
      "5 4 4\n",
      "7 7 3\n",
      "4 3 5\n",
      "2 5 2\n",
      "3 2 7\n",
      "1 5 7\n",
      "3 5 6\n",
      "7 5 2\n"
     ]
    }
   ],
   "source": [
    "seed(0)\n",
    "\n",
    "dice = Dice()\n",
    "\n",
    "for _ in range(10):\n",
    "    print(dice.die_1, dice.die_2, dice.die_3)"
   ]
  },
  {
   "cell_type": "markdown",
   "metadata": {},
   "source": [
    "# Data Descriptors ... x, y .. integer value .. assign to a class attribute ... p1.x reference .. which object is referencing .. p2.x ... same class attribute x ... diff value .. p1 p2 .. mindfull which instance ... "
   ]
  },
  {
   "cell_type": "code",
   "execution_count": 20,
   "metadata": {},
   "outputs": [],
   "source": [
    "class TimeUTC:\n",
    "    def __get__(self, instance, owner_class):\n",
    "        print(f'__get__ called, self={self}, ininstance={instance}, owner_class={owner_class}')\n",
    "        return datetime.utcnow().isoformat()"
   ]
  },
  {
   "cell_type": "code",
   "execution_count": 21,
   "metadata": {},
   "outputs": [],
   "source": [
    "class Logger1:\n",
    "    current_time = TimeUTC()\n",
    "class Logger2:\n",
    "    current_time = TimeUTC()"
   ]
  },
  {
   "cell_type": "code",
   "execution_count": 22,
   "metadata": {},
   "outputs": [
    {
     "name": "stdout",
     "output_type": "stream",
     "text": [
      "__get__ called, self=<__main__.TimeUTC object at 0x113a1f5b0>, ininstance=None, owner_class=<class '__main__.Logger1'>\n"
     ]
    },
    {
     "data": {
      "text/plain": [
       "'2022-12-05T18:24:05.367785'"
      ]
     },
     "execution_count": 22,
     "metadata": {},
     "output_type": "execute_result"
    }
   ],
   "source": [
    "getattr(Logger1, 'current_time')"
   ]
  },
  {
   "cell_type": "code",
   "execution_count": null,
   "metadata": {},
   "outputs": [],
   "source": []
  }
 ],
 "metadata": {
  "kernelspec": {
   "display_name": "Python 3.10.7 64-bit",
   "language": "python",
   "name": "python3"
  },
  "language_info": {
   "codemirror_mode": {
    "name": "ipython",
    "version": 3
   },
   "file_extension": ".py",
   "mimetype": "text/x-python",
   "name": "python",
   "nbconvert_exporter": "python",
   "pygments_lexer": "ipython3",
   "version": "3.10.7"
  },
  "orig_nbformat": 4,
  "vscode": {
   "interpreter": {
    "hash": "aee8b7b246df8f9039afb4144a1f6fd8d2ca17a180786b69acc140d282b71a49"
   }
  }
 },
 "nbformat": 4,
 "nbformat_minor": 2
}
