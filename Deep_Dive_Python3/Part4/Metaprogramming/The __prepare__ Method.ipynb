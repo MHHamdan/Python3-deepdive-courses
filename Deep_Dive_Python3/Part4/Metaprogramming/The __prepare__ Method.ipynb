{
 "cells": [
  {
   "cell_type": "markdown",
   "metadata": {},
   "source": [
    "### The `__prepare__` Method"
   ]
  },
  {
   "cell_type": "markdown",
   "metadata": {},
   "source": [
    "We know that when we create a class, the metaclass `__new__` method is invoked with an argument (`cls_dict`) for the class dictionary.\n",
    "\n",
    "It is not in fact an empty dictionary at first:"
   ]
  },
  {
   "cell_type": "code",
   "execution_count": 7,
   "metadata": {},
   "outputs": [],
   "source": [
    "class MyMeta(type):\n",
    "    def __new__(mcls, name, bases, cls_dict, **kwargs):\n",
    "        print('MyMeta.__new__ called...')\n",
    "        print('\\tcls: ', mcls, type(mcls))\n",
    "        print('\\tname:', name, type(name))\n",
    "        print('\\tbases: ', bases, type(bases))\n",
    "        print('\\tcls_dict:', cls_dict, type(cls_dict))\n",
    "        print('\\tkwargs:', kwargs)\n",
    "        return super().__new__(mcls, name, bases, cls_dict)"
   ]
  },
  {
   "cell_type": "code",
   "execution_count": 8,
   "metadata": {},
   "outputs": [
    {
     "name": "stdout",
     "output_type": "stream",
     "text": [
      "MyMeta.__new__ called...\n",
      "\tcls:  <class '__main__.MyMeta'> <class 'type'>\n",
      "\tname: MyClass <class 'str'>\n",
      "\tbases:  () <class 'tuple'>\n",
      "\tcls_dict: {'__module__': '__main__', '__qualname__': 'MyClass'} <class 'dict'>\n",
      "\tkwargs: {}\n"
     ]
    }
   ],
   "source": [
    "class MyClass(metaclass=MyMeta):\n",
    "    pass"
   ]
  },
  {
   "cell_type": "markdown",
   "metadata": {},
   "source": [
    "# So, as we see, `cls_dict` is a dictionary and it also contains some information already. It is obviously being created somewhere before being passed to the `__new__` method."
   ]
  },
  {
   "cell_type": "markdown",
   "metadata": {},
   "source": [
    "The class dictionary is actually created by calling the `__prepare__` method, which the `type` class implements.\n",
    "\n",
    "When the class is created, Python calls `__prepare__` and uses the return value of that method as the initialized class dictionary.\n",
    "Then right before calling `__new__` it adds a few items into that dictionary, and then calls the `__new__` method using that pre-created and initialized dictionary."
   ]
  },
  {
   "cell_type": "markdown",
   "metadata": {},
   "source": [
    "Since `__prepare__` is just a method in `type`, we can override it."
   ]
  },
  {
   "cell_type": "code",
   "execution_count": 10,
   "metadata": {},
   "outputs": [],
   "source": [
    "class MyMeta(type):\n",
    "    @staticmethod\n",
    "    def __prepare__(name, bases, **kwargs):\n",
    "        print('MyMeta.__prepare__ called...')\n",
    "        print('\\tname:', name)\n",
    "        print('\\tkwargs:', kwargs)\n",
    "        return {'a': 100, 'b': 200}\n",
    "    \n",
    "    @staticmethod\n",
    "    def __new__(mcls, name, bases, cls_dict, **kwargs):\n",
    "        print('MyMeta.__new__ called...')\n",
    "        print('\\tcls: ', mcls, type(mcls))\n",
    "        print('\\tname:', name, type(name))\n",
    "        print('\\tbases: ', bases, type(bases))\n",
    "        print('\\tcls_dict:', cls_dict, type(cls_dict))\n",
    "        print('\\tkwargs:', kwargs)\n",
    "        return super().__new__(mcls, name, bases, cls_dict)"
   ]
  },
  {
   "cell_type": "code",
   "execution_count": 12,
   "metadata": {},
   "outputs": [
    {
     "name": "stdout",
     "output_type": "stream",
     "text": [
      "MyMeta.__prepare__ called...\n",
      "\tname: MyClass\n",
      "\tkwargs: {'kw1': 11, 'kw2': 22}\n",
      "MyMeta.__new__ called...\n",
      "\tcls:  <class '__main__.MyMeta'> <class 'type'>\n",
      "\tname: MyClass <class 'str'>\n",
      "\tbases:  () <class 'tuple'>\n",
      "\tcls_dict: {'a': 100, 'b': 200, '__module__': '__main__', '__qualname__': 'MyClass'} <class 'dict'>\n",
      "\tkwargs: {'kw1': 11, 'kw2': 22}\n"
     ]
    }
   ],
   "source": [
    "class MyClass(metaclass=MyMeta, kw1=11, kw2=22):\n",
    "    pass"
   ]
  },
  {
   "cell_type": "markdown",
   "metadata": {},
   "source": [
    "Notice how the `__prepare__` method was called **before** the `__new__` method was called."
   ]
  },
  {
   "cell_type": "markdown",
   "metadata": {},
   "source": [
    "Also notice how it contains the items `'a': 100` and `'b': 200` which we injected in the `__prepare__` method.\n",
    "\n",
    "The `cls_dict` argument in `__new__` has a couple of extra items that it injects for us prior to calling the `__new__` method."
   ]
  },
  {
   "cell_type": "markdown",
   "metadata": {},
   "source": [
    "Of course, if we do not specify a `__prepare__` method in our metaclass, we inherit the one that is already defined in `type` - which returns an empty dictionary."
   ]
  },
  {
   "cell_type": "code",
   "execution_count": 13,
   "metadata": {},
   "outputs": [
    {
     "data": {
      "text/plain": [
       "{}"
      ]
     },
     "execution_count": 13,
     "metadata": {},
     "output_type": "execute_result"
    }
   ],
   "source": [
    "type.__prepare__()"
   ]
  },
  {
   "cell_type": "markdown",
   "metadata": {},
   "source": [
    "Here's an example where using this method can simplify things somewhat."
   ]
  },
  {
   "cell_type": "markdown",
   "metadata": {},
   "source": [
    "Recall the example where we passed named arguments to the metaclass in order to create some additional class attributes:"
   ]
  },
  {
   "cell_type": "code",
   "execution_count": 6,
   "metadata": {},
   "outputs": [],
   "source": [
    "class MyMeta(type):\n",
    "    def __new__(mcls, name, bases, class_dict, **kwargs):\n",
    "        class_dict.update(kwargs)\n",
    "        return super().__new__(mcls, name, bases, class_dict)\n",
    "    \n",
    "class MyClass(metaclass=MyMeta, arg1=100, arg2=200):\n",
    "    pass        "
   ]
  },
  {
   "cell_type": "code",
   "execution_count": 7,
   "metadata": {},
   "outputs": [
    {
     "data": {
      "text/plain": [
       "mappingproxy({'__module__': '__main__',\n",
       "              'arg1': 100,\n",
       "              'arg2': 200,\n",
       "              '__dict__': <attribute '__dict__' of 'MyClass' objects>,\n",
       "              '__weakref__': <attribute '__weakref__' of 'MyClass' objects>,\n",
       "              '__doc__': None})"
      ]
     },
     "execution_count": 7,
     "metadata": {},
     "output_type": "execute_result"
    }
   ],
   "source": [
    "vars(MyClass)"
   ]
  },
  {
   "cell_type": "markdown",
   "metadata": {},
   "source": [
    "We were able to override the `__new__` method and inject the additional arguments right into the class dictionary."
   ]
  },
  {
   "cell_type": "markdown",
   "metadata": {},
   "source": [
    "But we could just as easily inject those items in the class dictionary right in the `__prepare__` method."
   ]
  },
  {
   "cell_type": "code",
   "execution_count": 19,
   "metadata": {},
   "outputs": [
    {
     "name": "stdout",
     "output_type": "stream",
     "text": [
      "MyMeta.__prepare__ called... with {'kw1': 1, 'kw2': 2}\n"
     ]
    },
    {
     "ename": "TypeError",
     "evalue": "MyClass.__init_subclass__() takes no keyword arguments",
     "output_type": "error",
     "traceback": [
      "\u001b[0;31m---------------------------------------------------------------------------\u001b[0m",
      "\u001b[0;31mTypeError\u001b[0m                                 Traceback (most recent call last)",
      "Cell \u001b[0;32mIn [19], line 11\u001b[0m\n\u001b[1;32m      6\u001b[0m         kwargs[\u001b[39m'\u001b[39m\u001b[39mbonus_attr\u001b[39m\u001b[39m'\u001b[39m] \u001b[39m=\u001b[39m \u001b[39m'\u001b[39m\u001b[39mPython rocks!\u001b[39m\u001b[39m'\u001b[39m\n\u001b[1;32m      9\u001b[0m         \u001b[39mreturn\u001b[39;00m kwargs\n\u001b[0;32m---> 11\u001b[0m \u001b[39mclass\u001b[39;00m \u001b[39mMyClass\u001b[39;00m(metaclass\u001b[39m=\u001b[39mMyMeta, kw1\u001b[39m=\u001b[39m\u001b[39m1\u001b[39m, kw2\u001b[39m=\u001b[39m\u001b[39m2\u001b[39m):\n\u001b[1;32m     12\u001b[0m     \u001b[39mpass\u001b[39;00m\n",
      "\u001b[0;31mTypeError\u001b[0m: MyClass.__init_subclass__() takes no keyword arguments"
     ]
    }
   ],
   "source": [
    "class MyMeta(type):\n",
    "    def __prepare__(name, bases, **kwargs):\n",
    "        print(f'MyMeta.__prepare__ called... with {kwargs}')\n",
    "        # we could create a new dictionary and insert everything we need from kwargs\n",
    "        # or we could just use the kwargs dictionary directly\n",
    "        kwargs['bonus_attr'] = 'Python rocks!'\n",
    "\n",
    "\n",
    "        return kwargs\n",
    "    \n",
    "class MyClass(metaclass=MyMeta, kw1=1, kw2=2): # so we have t specify the new\n",
    "    pass"
   ]
  },
  {
   "cell_type": "markdown",
   "metadata": {},
   "source": [
    "What's important to understand is that whatever extra arguments we pass to the metaclass are also passed along to the `__prepare__` method, just like they are eventually passed to `__new__`."
   ]
  },
  {
   "cell_type": "code",
   "execution_count": 14,
   "metadata": {},
   "outputs": [],
   "source": [
    "class MyMeta(type):\n",
    "    def __prepare__(name, bases, **kwargs):\n",
    "        print(f'MyMeta.__prepare__ called... with {kwargs}')\n",
    "        # we could create a new dictionary and insert everything we need from kwargs\n",
    "        # or we could just use the kwargs dictionary directly\n",
    "        kwargs['bonus_attr'] = 'Python rocks!'\n",
    "        return kwargs\n",
    "    \n",
    "    def __new__(cls, name, bases, cls_dict, **kwargs):\n",
    "        print('MyMeta.__new__ called...')\n",
    "        print('\\tcls: ', cls, type(cls))\n",
    "        print('\\tname:', name, type(name))\n",
    "        print('\\tbases: ', bases, type(bases))\n",
    "        print('\\tcls_dict:', cls_dict, type(cls_dict))\n",
    "        print('\\tkwargs:', kwargs)\n",
    "        return super().__new__(cls, name, bases, cls_dict)"
   ]
  },
  {
   "cell_type": "code",
   "execution_count": 15,
   "metadata": {},
   "outputs": [
    {
     "name": "stdout",
     "output_type": "stream",
     "text": [
      "MyMeta.__prepare__ called... with {'kw1': 1, 'kw2': 2}\n",
      "MyMeta.__new__ called...\n",
      "\tcls:  <class '__main__.MyMeta'> <class 'type'>\n",
      "\tname: MyClass <class 'str'>\n",
      "\tbases:  () <class 'tuple'>\n",
      "\tcls_dict: {'kw1': 1, 'kw2': 2, 'bonus_attr': 'Python rocks!', '__module__': '__main__', '__qualname__': 'MyClass'} <class 'dict'>\n",
      "\tkwargs: {'kw1': 1, 'kw2': 2}\n"
     ]
    }
   ],
   "source": [
    "class MyClass(metaclass=MyMeta, kw1=1, kw2=2):\n",
    "    pass"
   ]
  },
  {
   "cell_type": "code",
   "execution_count": 16,
   "metadata": {},
   "outputs": [
    {
     "data": {
      "text/plain": [
       "mappingproxy({'kw1': 1,\n",
       "              'kw2': 2,\n",
       "              'bonus_attr': 'Python rocks!',\n",
       "              '__module__': '__main__',\n",
       "              '__dict__': <attribute '__dict__' of 'MyClass' objects>,\n",
       "              '__weakref__': <attribute '__weakref__' of 'MyClass' objects>,\n",
       "              '__doc__': None})"
      ]
     },
     "execution_count": 16,
     "metadata": {},
     "output_type": "execute_result"
    }
   ],
   "source": [
    "vars(MyClass)"
   ]
  },
  {
   "cell_type": "markdown",
   "metadata": {},
   "source": [
    "And as you can see, we have our class attributes, and we did not have to use `__new__`. So often, `__prepare__` is a much simpler alternative to overriding `__new__`."
   ]
  },
  {
   "cell_type": "markdown",
   "metadata": {},
   "source": [
    "The return value of `__prepare__` must be a mapping type:"
   ]
  },
  {
   "cell_type": "code",
   "execution_count": 20,
   "metadata": {},
   "outputs": [],
   "source": [
    "class MyMeta(type):\n",
    "    def __prepare__(name, bases):\n",
    "        return 'some string'"
   ]
  },
  {
   "cell_type": "code",
   "execution_count": 21,
   "metadata": {},
   "outputs": [
    {
     "name": "stdout",
     "output_type": "stream",
     "text": [
      "Unexpected exception formatting exception. Falling back to standard exception\n"
     ]
    },
    {
     "name": "stderr",
     "output_type": "stream",
     "text": [
      "Traceback (most recent call last):\n",
      "  File \"/Users/mohammedhamdan/Library/Python/3.10/lib/python/site-packages/IPython/core/interactiveshell.py\", line 3433, in run_code\n",
      "    exec(code_obj, self.user_global_ns, self.user_ns)\n",
      "  File \"/var/folders/gk/qmm3q5ld1b74kcdmh5pnm1xw0000gn/T/ipykernel_91117/282976637.py\", line 1, in <module>\n",
      "    class MyClass(metaclass=MyMeta):\n",
      "  File \"/var/folders/gk/qmm3q5ld1b74kcdmh5pnm1xw0000gn/T/ipykernel_91117/282976637.py\", line 1, in MyClass\n",
      "    class MyClass(metaclass=MyMeta):\n",
      "TypeError: string indices must be integers\n",
      "\n",
      "During handling of the above exception, another exception occurred:\n",
      "\n",
      "Traceback (most recent call last):\n",
      "  File \"/Users/mohammedhamdan/Library/Python/3.10/lib/python/site-packages/IPython/core/interactiveshell.py\", line 2052, in showtraceback\n",
      "    stb = self.InteractiveTB.structured_traceback(\n",
      "  File \"/Users/mohammedhamdan/Library/Python/3.10/lib/python/site-packages/IPython/core/ultratb.py\", line 1112, in structured_traceback\n",
      "    return FormattedTB.structured_traceback(\n",
      "  File \"/Users/mohammedhamdan/Library/Python/3.10/lib/python/site-packages/IPython/core/ultratb.py\", line 1006, in structured_traceback\n",
      "    return VerboseTB.structured_traceback(\n",
      "  File \"/Users/mohammedhamdan/Library/Python/3.10/lib/python/site-packages/IPython/core/ultratb.py\", line 859, in structured_traceback\n",
      "    formatted_exception = self.format_exception_as_a_whole(etype, evalue, etb, number_of_lines_of_context,\n",
      "  File \"/Users/mohammedhamdan/Library/Python/3.10/lib/python/site-packages/IPython/core/ultratb.py\", line 801, in format_exception_as_a_whole\n",
      "    if r.frame.f_locals.get(\"__tracebackhide__\", 0) and i != lastrecord:\n",
      "AttributeError: 'str' object has no attribute 'get'\n"
     ]
    }
   ],
   "source": [
    "class MyClass(metaclass=MyMeta):\n",
    "    pass"
   ]
  },
  {
   "cell_type": "markdown",
   "metadata": {},
   "source": [
    "This exception is raised because Python is trying to use the class dictionary as a mapping type."
   ]
  },
  {
   "cell_type": "code",
   "execution_count": 23,
   "metadata": {},
   "outputs": [
    {
     "ename": "TypeError",
     "evalue": "string indices must be integers",
     "output_type": "error",
     "traceback": [
      "\u001b[0;31m---------------------------------------------------------------------------\u001b[0m",
      "\u001b[0;31mTypeError\u001b[0m                                 Traceback (most recent call last)",
      "Cell \u001b[0;32mIn [23], line 2\u001b[0m\n\u001b[1;32m      1\u001b[0m cls_dict \u001b[39m=\u001b[39m \u001b[39m'\u001b[39m\u001b[39msome string\u001b[39m\u001b[39m'\u001b[39m\n\u001b[0;32m----> 2\u001b[0m cls_dict[\u001b[39m'\u001b[39;49m\u001b[39m__module__\u001b[39;49m\u001b[39m'\u001b[39;49m]\n",
      "\u001b[0;31mTypeError\u001b[0m: string indices must be integers"
     ]
    }
   ],
   "source": [
    "cls_dict = 'some string'\n",
    "cls_dict['__module__']"
   ]
  },
  {
   "cell_type": "markdown",
   "metadata": {},
   "source": [
    "The return value must therefore be a mapping type, but it does not have to be a dict - it could be an OrderedDict for example, or even a custom dictionary."
   ]
  },
  {
   "cell_type": "code",
   "execution_count": 24,
   "metadata": {},
   "outputs": [],
   "source": [
    "from collections import OrderedDict"
   ]
  },
  {
   "cell_type": "code",
   "execution_count": 15,
   "metadata": {},
   "outputs": [],
   "source": [
    "class MyMeta(type):\n",
    "    def __prepare__(name, bases):\n",
    "        d = OrderedDict()\n",
    "        d['bonus'] = 'Python rocks!'\n",
    "        return d"
   ]
  },
  {
   "cell_type": "code",
   "execution_count": 26,
   "metadata": {},
   "outputs": [
    {
     "name": "stdout",
     "output_type": "stream",
     "text": [
      "Unexpected exception formatting exception. Falling back to standard exception\n"
     ]
    },
    {
     "name": "stderr",
     "output_type": "stream",
     "text": [
      "Traceback (most recent call last):\n",
      "  File \"/Users/mohammedhamdan/Library/Python/3.10/lib/python/site-packages/IPython/core/interactiveshell.py\", line 3433, in run_code\n",
      "    exec(code_obj, self.user_global_ns, self.user_ns)\n",
      "  File \"/var/folders/gk/qmm3q5ld1b74kcdmh5pnm1xw0000gn/T/ipykernel_91117/282976637.py\", line 1, in <module>\n",
      "    class MyClass(metaclass=MyMeta):\n",
      "  File \"/var/folders/gk/qmm3q5ld1b74kcdmh5pnm1xw0000gn/T/ipykernel_91117/282976637.py\", line 1, in MyClass\n",
      "    class MyClass(metaclass=MyMeta):\n",
      "TypeError: string indices must be integers\n",
      "\n",
      "During handling of the above exception, another exception occurred:\n",
      "\n",
      "Traceback (most recent call last):\n",
      "  File \"/Users/mohammedhamdan/Library/Python/3.10/lib/python/site-packages/IPython/core/interactiveshell.py\", line 2052, in showtraceback\n",
      "    stb = self.InteractiveTB.structured_traceback(\n",
      "  File \"/Users/mohammedhamdan/Library/Python/3.10/lib/python/site-packages/IPython/core/ultratb.py\", line 1112, in structured_traceback\n",
      "    return FormattedTB.structured_traceback(\n",
      "  File \"/Users/mohammedhamdan/Library/Python/3.10/lib/python/site-packages/IPython/core/ultratb.py\", line 1006, in structured_traceback\n",
      "    return VerboseTB.structured_traceback(\n",
      "  File \"/Users/mohammedhamdan/Library/Python/3.10/lib/python/site-packages/IPython/core/ultratb.py\", line 859, in structured_traceback\n",
      "    formatted_exception = self.format_exception_as_a_whole(etype, evalue, etb, number_of_lines_of_context,\n",
      "  File \"/Users/mohammedhamdan/Library/Python/3.10/lib/python/site-packages/IPython/core/ultratb.py\", line 801, in format_exception_as_a_whole\n",
      "    if r.frame.f_locals.get(\"__tracebackhide__\", 0) and i != lastrecord:\n",
      "AttributeError: 'str' object has no attribute 'get'\n"
     ]
    }
   ],
   "source": [
    "class MyClass(metaclass=MyMeta):\n",
    "    pass"
   ]
  },
  {
   "cell_type": "code",
   "execution_count": 27,
   "metadata": {},
   "outputs": [
    {
     "data": {
      "text/plain": [
       "mappingproxy({'bonus_attr': 'Python rocks!',\n",
       "              '__module__': '__main__',\n",
       "              '__dict__': <attribute '__dict__' of 'MyClass' objects>,\n",
       "              '__weakref__': <attribute '__weakref__' of 'MyClass' objects>,\n",
       "              '__doc__': None})"
      ]
     },
     "execution_count": 27,
     "metadata": {},
     "output_type": "execute_result"
    }
   ],
   "source": [
    "vars(MyClass)"
   ]
  },
  {
   "cell_type": "markdown",
   "metadata": {},
   "source": [
    "Or it could even be a custom dictionary type:"
   ]
  },
  {
   "cell_type": "code",
   "execution_count": 28,
   "metadata": {},
   "outputs": [],
   "source": [
    "from collections import UserDict"
   ]
  },
  {
   "cell_type": "code",
   "execution_count": 30,
   "metadata": {},
   "outputs": [],
   "source": [
    "class CustomDict(UserDict):\n",
    "    def __setitem__(self, key, value):\n",
    "        print(f'Setting {key} = {value} in custom dictionary')\n",
    "        super().__setitem__(key, value)\n",
    "        \n",
    "    def __getitem__(self, key):\n",
    "        print(f'Getting {key} from custom dictionary')\n",
    "        return int(super().__getitem__(key))   "
   ]
  },
  {
   "cell_type": "code",
   "execution_count": 31,
   "metadata": {},
   "outputs": [],
   "source": [
    "class MyMeta(type):\n",
    "    def __prepare__(name, bases):\n",
    "        return CustomDict()"
   ]
  },
  {
   "cell_type": "code",
   "execution_count": 33,
   "metadata": {},
   "outputs": [
    {
     "name": "stdout",
     "output_type": "stream",
     "text": [
      "Getting __name__ from custom dictionary\n",
      "Setting __module__ = __main__ in custom dictionary\n",
      "Setting __qualname__ = MyClass in custom dictionary\n"
     ]
    },
    {
     "ename": "TypeError",
     "evalue": "type.__new__() argument 3 must be dict, not CustomDict",
     "output_type": "error",
     "traceback": [
      "\u001b[0;31m---------------------------------------------------------------------------\u001b[0m",
      "\u001b[0;31mTypeError\u001b[0m                                 Traceback (most recent call last)",
      "Cell \u001b[0;32mIn [33], line 1\u001b[0m\n\u001b[0;32m----> 1\u001b[0m \u001b[39mclass\u001b[39;00m \u001b[39mMyClass\u001b[39;00m(metaclass\u001b[39m=\u001b[39mMyMeta):\n\u001b[1;32m      2\u001b[0m     \u001b[39mpass\u001b[39;00m\n",
      "\u001b[0;31mTypeError\u001b[0m: type.__new__() argument 3 must be dict, not CustomDict"
     ]
    }
   ],
   "source": [
    "class MyClass(metaclass=MyMeta):\n",
    "    pass"
   ]
  },
  {
   "cell_type": "code",
   "execution_count": 34,
   "metadata": {},
   "outputs": [
    {
     "data": {
      "text/plain": [
       "False"
      ]
     },
     "execution_count": 34,
     "metadata": {},
     "output_type": "execute_result"
    }
   ],
   "source": [
    "issubclass(UserDict, dict)"
   ]
  },
  {
   "cell_type": "markdown",
   "metadata": {},
   "source": [
    "As you can see, we have a slight problem here. The `__new__` method actually expects a `dict`. Even though `CustomDict` essentially behaves like a dictionary, it is not in fact a subclass of `dict`:"
   ]
  },
  {
   "cell_type": "code",
   "execution_count": 22,
   "metadata": {},
   "outputs": [
    {
     "data": {
      "text/plain": [
       "False"
      ]
     },
     "execution_count": 22,
     "metadata": {},
     "output_type": "execute_result"
    }
   ],
   "source": [
    "issubclass(CustomDict, dict)"
   ]
  },
  {
   "cell_type": "markdown",
   "metadata": {},
   "source": [
    "But as long as our custom dictionary inherits from `dict` we should be fine:"
   ]
  },
  {
   "cell_type": "code",
   "execution_count": 35,
   "metadata": {},
   "outputs": [],
   "source": [
    "class CustomDict(dict):\n",
    "    def __setitem__(self, key, value):\n",
    "        print(f'Setting {key} = {value} in custom dictionary')\n",
    "        super().__setitem__(key, value)\n",
    "        \n",
    "    def __getitem__(self, key):\n",
    "        print(f'Getting {key} from custom dictionary')\n",
    "        return int(super().__getitem__(key))   "
   ]
  },
  {
   "cell_type": "code",
   "execution_count": 36,
   "metadata": {},
   "outputs": [],
   "source": [
    "class MyMeta(type):\n",
    "    def __prepare__(name, bases):\n",
    "        return CustomDict()\n",
    "    \n",
    "    def __new__(mcls, name, bases, cls_dict):\n",
    "        print('metaclass __new__ called...')\n",
    "        print(f'\\ttype(cls_dict) = {type(cls_dict)}')\n",
    "        print(f'\\tcls_dict={cls_dict}')"
   ]
  },
  {
   "cell_type": "code",
   "execution_count": 37,
   "metadata": {},
   "outputs": [
    {
     "name": "stdout",
     "output_type": "stream",
     "text": [
      "Getting __name__ from custom dictionary\n",
      "Setting __module__ = __main__ in custom dictionary\n",
      "Setting __qualname__ = MyClass in custom dictionary\n",
      "metaclass __new__ called...\n",
      "\ttype(cls_dict) = <class '__main__.CustomDict'>\n",
      "\tcls_dict={'__module__': '__main__', '__qualname__': 'MyClass'}\n"
     ]
    }
   ],
   "source": [
    "class MyClass(metaclass=MyMeta):\n",
    "    pass"
   ]
  },
  {
   "cell_type": "markdown",
   "metadata": {},
   "source": [
    "As you can see, the dictionary we returned from `__prepare__` was a `CustomDict` instance that is eventually passed to `__new__` when it is called. \n",
    "\n",
    "And between `__prepare__` and `__new__`, Python accessed our dictionary to read/write a few items."
   ]
  }
 ],
 "metadata": {
  "kernelspec": {
   "display_name": "Python 3.10.7 64-bit",
   "language": "python",
   "name": "python3"
  },
  "language_info": {
   "codemirror_mode": {
    "name": "ipython",
    "version": 3
   },
   "file_extension": ".py",
   "mimetype": "text/x-python",
   "name": "python",
   "nbconvert_exporter": "python",
   "pygments_lexer": "ipython3",
   "version": "3.10.7"
  },
  "vscode": {
   "interpreter": {
    "hash": "aee8b7b246df8f9039afb4144a1f6fd8d2ca17a180786b69acc140d282b71a49"
   }
  }
 },
 "nbformat": 4,
 "nbformat_minor": 2
}
