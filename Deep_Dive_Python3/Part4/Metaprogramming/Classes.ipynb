{
 "cells": [
  {
   "cell_type": "markdown",
   "metadata": {},
   "source": [
    "# How are classes constructed ..."
   ]
  },
  {
   "cell_type": "code",
   "execution_count": 1,
   "metadata": {},
   "outputs": [],
   "source": [
    "import math \n",
    "\n",
    "class Circle(object):\n",
    "    def __init__(self, x,y,r):\n",
    "        self.x = x\n",
    "        self.y = y\n",
    "        self.r = r\n",
    "        \n",
    "    def area(self):\n",
    "        return math.pi * self.r ** 2"
   ]
  },
  {
   "cell_type": "code",
   "execution_count": 3,
   "metadata": {},
   "outputs": [
    {
     "data": {
      "text/plain": [
       "True"
      ]
     },
     "execution_count": 3,
     "metadata": {},
     "output_type": "execute_result"
    }
   ],
   "source": [
    "'Circle' in globals()"
   ]
  },
  {
   "cell_type": "code",
   "execution_count": 4,
   "metadata": {},
   "outputs": [
    {
     "data": {
      "text/plain": [
       "type"
      ]
     },
     "execution_count": 4,
     "metadata": {},
     "output_type": "execute_result"
    }
   ],
   "source": [
    "type(Circle)"
   ]
  },
  {
   "cell_type": "code",
   "execution_count": 5,
   "metadata": {},
   "outputs": [
    {
     "data": {
      "text/plain": [
       "__main__.Circle"
      ]
     },
     "execution_count": 5,
     "metadata": {},
     "output_type": "execute_result"
    }
   ],
   "source": [
    "Circle"
   ]
  },
  {
   "cell_type": "code",
   "execution_count": 6,
   "metadata": {},
   "outputs": [],
   "source": [
    "import math \n",
    "\n",
    "class Circle(object):\n",
    "    def __init__(self, x,y,r):\n",
    "        self.x = x\n",
    "        self.y = y\n",
    "        self.r = r\n",
    "        \n",
    "    def area(self):\n",
    "        return math.pi * self.r ** 2"
   ]
  },
  {
   "cell_type": "code",
   "execution_count": 10,
   "metadata": {},
   "outputs": [],
   "source": [
    "namespace = {}\n",
    "\n",
    "exec('''\n",
    "a = 10\n",
    "b = 20\n",
    "def __init__(self):\n",
    "    pass\n",
    "''', globals(), namespace)"
   ]
  },
  {
   "cell_type": "code",
   "execution_count": 11,
   "metadata": {},
   "outputs": [
    {
     "data": {
      "text/plain": [
       "{'a': 10, 'b': 20, '__init__': <function __main__.__init__(self)>}"
      ]
     },
     "execution_count": 11,
     "metadata": {},
     "output_type": "execute_result"
    }
   ],
   "source": [
    "namespace"
   ]
  },
  {
   "cell_type": "code",
   "execution_count": 13,
   "metadata": {},
   "outputs": [],
   "source": [
    "\n",
    "axxxx = 10\n",
    "bxxxxxx = 20\n",
    "def __init__(self):\n",
    "    pass\n"
   ]
  },
  {
   "cell_type": "code",
   "execution_count": 14,
   "metadata": {},
   "outputs": [
    {
     "data": {
      "text/plain": [
       "{'__name__': '__main__',\n",
       " '__doc__': 'Automatically created module for IPython interactive environment',\n",
       " '__package__': None,\n",
       " '__loader__': None,\n",
       " '__spec__': None,\n",
       " '__builtin__': <module 'builtins' (built-in)>,\n",
       " '__builtins__': <module 'builtins' (built-in)>,\n",
       " '_ih': ['',\n",
       "  'import math \\n\\nclass Circle(object):\\n    def __init__(self, x,y,r):\\n        self.x = x\\n        self.y = y\\n        self.r = r\\n        \\n    def area(self):\\n        return math.pi * self.r ** 2',\n",
       "  \"'Circle' in globals\",\n",
       "  \"'Circle' in globals()\",\n",
       "  'type(Circle)',\n",
       "  'Circle',\n",
       "  'import math \\n\\nclass Circle(object):\\n    def __init__(self, x,y,r):\\n        self.x = x\\n        self.y = y\\n        self.r = r\\n        \\n    def area(self):\\n        return math.pi * self.r ** 2',\n",
       "  \"namespace = {}\\n\\nexec('''\\n     a = 10\\n     b = 20\\n     ''', globals(), namespace)\",\n",
       "  \"namespace = {}\\n\\nexec('''\\n    a = 10\\n    b = 20\\n     ''', globals(), namespace)\",\n",
       "  \"namespace = {}\\n\\nexec('''\\na = 10\\nb = 20\\n''', globals(), namespace)\",\n",
       "  \"namespace = {}\\n\\nexec('''\\na = 10\\nb = 20\\ndef __init__(self):\\n    pass\\n''', globals(), namespace)\",\n",
       "  'namespace',\n",
       "  'a = 10\\nb = 20\\ndef __init__(self):\\n    pass',\n",
       "  'axxxx = 10\\nbxxxxxx = 20\\ndef __init__(self):\\n    pass',\n",
       "  'globals()'],\n",
       " '_oh': {3: True,\n",
       "  4: type,\n",
       "  5: __main__.Circle,\n",
       "  11: {'a': 10, 'b': 20, '__init__': <function __main__.__init__(self)>}},\n",
       " '_dh': [PosixPath('/Users/mohammedhamdan/Documents/Python_Full_Stack/Deep_Dive_Python3/Part4/Metaprogramming'),\n",
       "  PosixPath('/Users/mohammedhamdan/Documents/Python_Full_Stack/Deep_Dive_Python3/Part4/Metaprogramming')],\n",
       " 'In': ['',\n",
       "  'import math \\n\\nclass Circle(object):\\n    def __init__(self, x,y,r):\\n        self.x = x\\n        self.y = y\\n        self.r = r\\n        \\n    def area(self):\\n        return math.pi * self.r ** 2',\n",
       "  \"'Circle' in globals\",\n",
       "  \"'Circle' in globals()\",\n",
       "  'type(Circle)',\n",
       "  'Circle',\n",
       "  'import math \\n\\nclass Circle(object):\\n    def __init__(self, x,y,r):\\n        self.x = x\\n        self.y = y\\n        self.r = r\\n        \\n    def area(self):\\n        return math.pi * self.r ** 2',\n",
       "  \"namespace = {}\\n\\nexec('''\\n     a = 10\\n     b = 20\\n     ''', globals(), namespace)\",\n",
       "  \"namespace = {}\\n\\nexec('''\\n    a = 10\\n    b = 20\\n     ''', globals(), namespace)\",\n",
       "  \"namespace = {}\\n\\nexec('''\\na = 10\\nb = 20\\n''', globals(), namespace)\",\n",
       "  \"namespace = {}\\n\\nexec('''\\na = 10\\nb = 20\\ndef __init__(self):\\n    pass\\n''', globals(), namespace)\",\n",
       "  'namespace',\n",
       "  'a = 10\\nb = 20\\ndef __init__(self):\\n    pass',\n",
       "  'axxxx = 10\\nbxxxxxx = 20\\ndef __init__(self):\\n    pass',\n",
       "  'globals()'],\n",
       " 'Out': {3: True,\n",
       "  4: type,\n",
       "  5: __main__.Circle,\n",
       "  11: {'a': 10, 'b': 20, '__init__': <function __main__.__init__(self)>}},\n",
       " 'get_ipython': <bound method InteractiveShell.get_ipython of <ipykernel.zmqshell.ZMQInteractiveShell object at 0x106d7b160>>,\n",
       " 'exit': <IPython.core.autocall.ZMQExitAutocall at 0x106d7bd90>,\n",
       " 'quit': <IPython.core.autocall.ZMQExitAutocall at 0x106d7bd90>,\n",
       " 'open': <function io.open(file, mode='r', buffering=-1, encoding=None, errors=None, newline=None, closefd=True, opener=None)>,\n",
       " '_': {'a': 10, 'b': 20, '__init__': <function __main__.__init__(self)>},\n",
       " '__': __main__.Circle,\n",
       " '___': type,\n",
       " 'os': <module 'os' from '/Library/Frameworks/Python.framework/Versions/3.10/lib/python3.10/os.py'>,\n",
       " 'sys': <module 'sys' (built-in)>,\n",
       " '__vsc_ipynb_file__': '/Users/mohammedhamdan/Documents/Python_Full_Stack/Deep_Dive_Python3/Part4/Metaprogramming/Classes.ipynb',\n",
       " '_i': '\\naxxxx = 10\\nbxxxxxx = 20\\ndef __init__(self):\\n    pass',\n",
       " '_ii': '\\na = 10\\nb = 20\\ndef __init__(self):\\n    pass',\n",
       " '_iii': 'namespace',\n",
       " '_i1': 'import math \\n\\nclass Circle(object):\\n    def __init__(self, x,y,r):\\n        self.x = x\\n        self.y = y\\n        self.r = r\\n        \\n    def area(self):\\n        return math.pi * self.r ** 2',\n",
       " 'math': <module 'math' from '/Library/Frameworks/Python.framework/Versions/3.10/lib/python3.10/lib-dynload/math.cpython-310-darwin.so'>,\n",
       " 'Circle': __main__.Circle,\n",
       " '_i2': \"'Circle' in globals\",\n",
       " '_i3': \"'Circle' in globals()\",\n",
       " '_3': True,\n",
       " '_i4': 'type(Circle)',\n",
       " '_4': type,\n",
       " '_i5': 'Circle',\n",
       " '_5': __main__.Circle,\n",
       " '_i6': 'import math \\n\\nclass Circle(object):\\n    def __init__(self, x,y,r):\\n        self.x = x\\n        self.y = y\\n        self.r = r\\n        \\n    def area(self):\\n        return math.pi * self.r ** 2',\n",
       " '_i7': \"namespace = {}\\n\\nexec('''\\n     a = 10\\n     b = 20\\n     ''', globals(), namespace)\",\n",
       " 'namespace': {'a': 10,\n",
       "  'b': 20,\n",
       "  '__init__': <function __main__.__init__(self)>},\n",
       " '_i8': \"namespace = {}\\n\\nexec('''\\n    a = 10\\n    b = 20\\n     ''', globals(), namespace)\",\n",
       " '_i9': \"namespace = {}\\n\\nexec('''\\na = 10\\nb = 20\\n''', globals(), namespace)\",\n",
       " '_i10': \"namespace = {}\\n\\nexec('''\\na = 10\\nb = 20\\ndef __init__(self):\\n    pass\\n''', globals(), namespace)\",\n",
       " '_i11': 'namespace',\n",
       " '_11': {'a': 10, 'b': 20, '__init__': <function __main__.__init__(self)>},\n",
       " '_i12': '\\na = 10\\nb = 20\\ndef __init__(self):\\n    pass',\n",
       " 'a': 10,\n",
       " 'b': 20,\n",
       " '__init__': <function __main__.__init__(self)>,\n",
       " '_i13': '\\naxxxx = 10\\nbxxxxxx = 20\\ndef __init__(self):\\n    pass',\n",
       " 'axxxx': 10,\n",
       " 'bxxxxxx': 20,\n",
       " '_i14': 'globals()'}"
      ]
     },
     "execution_count": 14,
     "metadata": {},
     "output_type": "execute_result"
    }
   ],
   "source": [
    "globals()"
   ]
  },
  {
   "cell_type": "code",
   "execution_count": 15,
   "metadata": {},
   "outputs": [],
   "source": [
    "namespace = {}\n",
    "\n",
    "exec('''\n",
    "def add(a,b):\n",
    "    return a + b \n",
    "def mul(a, b):\n",
    "    return a * b\n",
    "''', globals(), namespace)"
   ]
  },
  {
   "cell_type": "code",
   "execution_count": 16,
   "metadata": {},
   "outputs": [
    {
     "data": {
      "text/plain": [
       "{'add': <function __main__.add(a, b)>, 'mul': <function __main__.mul(a, b)>}"
      ]
     },
     "execution_count": 16,
     "metadata": {},
     "output_type": "execute_result"
    }
   ],
   "source": [
    "namespace"
   ]
  },
  {
   "cell_type": "code",
   "execution_count": 17,
   "metadata": {},
   "outputs": [
    {
     "data": {
      "text/plain": [
       "8"
      ]
     },
     "execution_count": 17,
     "metadata": {},
     "output_type": "execute_result"
    }
   ],
   "source": [
    "namespace['add'](3,5)"
   ]
  },
  {
   "cell_type": "code",
   "execution_count": 18,
   "metadata": {},
   "outputs": [
    {
     "data": {
      "text/plain": [
       "15"
      ]
     },
     "execution_count": 18,
     "metadata": {},
     "output_type": "execute_result"
    }
   ],
   "source": [
    "namespace['mul'](3,5)"
   ]
  },
  {
   "cell_type": "code",
   "execution_count": 19,
   "metadata": {},
   "outputs": [
    {
     "name": "stdout",
     "output_type": "stream",
     "text": [
      "Help on class type in module builtins:\n",
      "\n",
      "class type(object)\n",
      " |  type(object) -> the object's type\n",
      " |  type(name, bases, dict, **kwds) -> a new type\n",
      " |  \n",
      " |  Methods defined here:\n",
      " |  \n",
      " |  __call__(self, /, *args, **kwargs)\n",
      " |      Call self as a function.\n",
      " |  \n",
      " |  __delattr__(self, name, /)\n",
      " |      Implement delattr(self, name).\n",
      " |  \n",
      " |  __dir__(self, /)\n",
      " |      Specialized __dir__ implementation for types.\n",
      " |  \n",
      " |  __getattribute__(self, name, /)\n",
      " |      Return getattr(self, name).\n",
      " |  \n",
      " |  __init__(self, /, *args, **kwargs)\n",
      " |      Initialize self.  See help(type(self)) for accurate signature.\n",
      " |  \n",
      " |  __instancecheck__(self, instance, /)\n",
      " |      Check if an object is an instance.\n",
      " |  \n",
      " |  __or__(self, value, /)\n",
      " |      Return self|value.\n",
      " |  \n",
      " |  __repr__(self, /)\n",
      " |      Return repr(self).\n",
      " |  \n",
      " |  __ror__(self, value, /)\n",
      " |      Return value|self.\n",
      " |  \n",
      " |  __setattr__(self, name, value, /)\n",
      " |      Implement setattr(self, name, value).\n",
      " |  \n",
      " |  __sizeof__(self, /)\n",
      " |      Return memory consumption of the type object.\n",
      " |  \n",
      " |  __subclasscheck__(self, subclass, /)\n",
      " |      Check if a class is a subclass.\n",
      " |  \n",
      " |  __subclasses__(self, /)\n",
      " |      Return a list of immediate subclasses.\n",
      " |  \n",
      " |  mro(self, /)\n",
      " |      Return a type's method resolution order.\n",
      " |  \n",
      " |  ----------------------------------------------------------------------\n",
      " |  Class methods defined here:\n",
      " |  \n",
      " |  __prepare__(...)\n",
      " |      __prepare__() -> dict\n",
      " |      used to create the namespace for the class statement\n",
      " |  \n",
      " |  ----------------------------------------------------------------------\n",
      " |  Static methods defined here:\n",
      " |  \n",
      " |  __new__(*args, **kwargs)\n",
      " |      Create and return a new object.  See help(type) for accurate signature.\n",
      " |  \n",
      " |  ----------------------------------------------------------------------\n",
      " |  Data descriptors defined here:\n",
      " |  \n",
      " |  __abstractmethods__\n",
      " |  \n",
      " |  __annotations__\n",
      " |  \n",
      " |  __dict__\n",
      " |  \n",
      " |  __text_signature__\n",
      " |  \n",
      " |  ----------------------------------------------------------------------\n",
      " |  Data and other attributes defined here:\n",
      " |  \n",
      " |  __base__ = <class 'object'>\n",
      " |      The base class of the class hierarchy.\n",
      " |      \n",
      " |      When called, it accepts no arguments and returns a new featureless\n",
      " |      instance that has no instance attributes and cannot be given any.\n",
      " |  \n",
      " |  \n",
      " |  __bases__ = (<class 'object'>,)\n",
      " |  \n",
      " |  __basicsize__ = 888\n",
      " |  \n",
      " |  __dictoffset__ = 264\n",
      " |  \n",
      " |  __flags__ = 2148031744\n",
      " |  \n",
      " |  __itemsize__ = 40\n",
      " |  \n",
      " |  __mro__ = (<class 'type'>, <class 'object'>)\n",
      " |  \n",
      " |  __weakrefoffset__ = 368\n",
      "\n"
     ]
    }
   ],
   "source": [
    "help(type)"
   ]
  },
  {
   "cell_type": "code",
   "execution_count": 20,
   "metadata": {},
   "outputs": [],
   "source": [
    "class_name = 'Circle'\n",
    "class_body = \"\"\"\n",
    "def __init__(self, x,y,r):\n",
    "        self.x = x\n",
    "        self.y = y\n",
    "        self.r = r\n",
    "        \n",
    "def area(self):\n",
    "    return math.pi * self.r ** 2\n",
    "\"\"\"\n"
   ]
  },
  {
   "cell_type": "code",
   "execution_count": 21,
   "metadata": {},
   "outputs": [],
   "source": [
    "class_bases = ()"
   ]
  },
  {
   "cell_type": "code",
   "execution_count": 22,
   "metadata": {},
   "outputs": [],
   "source": [
    "class_dict = {}"
   ]
  },
  {
   "cell_type": "code",
   "execution_count": 23,
   "metadata": {},
   "outputs": [],
   "source": [
    "exec(class_body, globals(), class_dict)"
   ]
  },
  {
   "cell_type": "code",
   "execution_count": 24,
   "metadata": {},
   "outputs": [
    {
     "data": {
      "text/plain": [
       "{'__init__': <function __main__.__init__(self, x, y, r)>,\n",
       " 'area': <function __main__.area(self)>}"
      ]
     },
     "execution_count": 24,
     "metadata": {},
     "output_type": "execute_result"
    }
   ],
   "source": [
    "class_dict"
   ]
  },
  {
   "cell_type": "code",
   "execution_count": 26,
   "metadata": {},
   "outputs": [],
   "source": [
    "Circle = type(class_name, class_bases, class_dict)"
   ]
  },
  {
   "cell_type": "code",
   "execution_count": 27,
   "metadata": {},
   "outputs": [
    {
     "data": {
      "text/plain": [
       "type"
      ]
     },
     "execution_count": 27,
     "metadata": {},
     "output_type": "execute_result"
    }
   ],
   "source": [
    "type(Circle)"
   ]
  },
  {
   "cell_type": "code",
   "execution_count": 28,
   "metadata": {},
   "outputs": [
    {
     "data": {
      "text/plain": [
       "mappingproxy({'__init__': <function __main__.__init__(self, x, y, r)>,\n",
       "              'area': <function __main__.area(self)>,\n",
       "              '__module__': '__main__',\n",
       "              '__dict__': <attribute '__dict__' of 'Circle' objects>,\n",
       "              '__weakref__': <attribute '__weakref__' of 'Circle' objects>,\n",
       "              '__doc__': None})"
      ]
     },
     "execution_count": 28,
     "metadata": {},
     "output_type": "execute_result"
    }
   ],
   "source": [
    "Circle.__dict__"
   ]
  },
  {
   "cell_type": "code",
   "execution_count": 29,
   "metadata": {},
   "outputs": [
    {
     "data": {
      "text/plain": [
       "'Circle'"
      ]
     },
     "execution_count": 29,
     "metadata": {},
     "output_type": "execute_result"
    }
   ],
   "source": [
    "Circle.__name__"
   ]
  },
  {
   "cell_type": "code",
   "execution_count": 30,
   "metadata": {},
   "outputs": [],
   "source": [
    "c = Circle(0,0,1)"
   ]
  },
  {
   "cell_type": "code",
   "execution_count": 31,
   "metadata": {},
   "outputs": [
    {
     "data": {
      "text/plain": [
       "<__main__.Circle at 0x10d3e2f20>"
      ]
     },
     "execution_count": 31,
     "metadata": {},
     "output_type": "execute_result"
    }
   ],
   "source": [
    "c"
   ]
  },
  {
   "cell_type": "code",
   "execution_count": 32,
   "metadata": {},
   "outputs": [
    {
     "data": {
      "text/plain": [
       "{'x': 0, 'y': 0, 'r': 1}"
      ]
     },
     "execution_count": 32,
     "metadata": {},
     "output_type": "execute_result"
    }
   ],
   "source": [
    "c.__dict__"
   ]
  },
  {
   "cell_type": "code",
   "execution_count": 33,
   "metadata": {},
   "outputs": [
    {
     "data": {
      "text/plain": [
       "3.141592653589793"
      ]
     },
     "execution_count": 33,
     "metadata": {},
     "output_type": "execute_result"
    }
   ],
   "source": [
    "c.area()"
   ]
  },
  {
   "cell_type": "code",
   "execution_count": null,
   "metadata": {},
   "outputs": [],
   "source": []
  }
 ],
 "metadata": {
  "kernelspec": {
   "display_name": "Python 3.10.7 64-bit",
   "language": "python",
   "name": "python3"
  },
  "language_info": {
   "codemirror_mode": {
    "name": "ipython",
    "version": 3
   },
   "file_extension": ".py",
   "mimetype": "text/x-python",
   "name": "python",
   "nbconvert_exporter": "python",
   "pygments_lexer": "ipython3",
   "version": "3.10.7"
  },
  "orig_nbformat": 4,
  "vscode": {
   "interpreter": {
    "hash": "aee8b7b246df8f9039afb4144a1f6fd8d2ca17a180786b69acc140d282b71a49"
   }
  }
 },
 "nbformat": 4,
 "nbformat_minor": 2
}
