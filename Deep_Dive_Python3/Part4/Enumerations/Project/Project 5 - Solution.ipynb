{
 "cells": [
  {
   "cell_type": "markdown",
   "metadata": {},
   "source": [
    "### Project 5 - Solution"
   ]
  },
  {
   "cell_type": "markdown",
   "metadata": {},
   "source": [
    "Suppose we are writing an application that uses exceptions and we want our exception messages (and type) to be very consistent, as well as provide some way to easily list out all the possible exceptions used in our app."
   ]
  },
  {
   "cell_type": "markdown",
   "metadata": {},
   "source": [
    "Although there are many other approaches to doing this (as with any problem), let's use enumerations specifically to implement this functionality."
   ]
  },
  {
   "cell_type": "markdown",
   "metadata": {},
   "source": [
    "What we want is a mechanism whereby we can raise an exception this way:"
   ]
  },
  {
   "cell_type": "markdown",
   "metadata": {},
   "source": [
    "```\n",
    "AppException.Timeout.throw()\n",
    "```\n",
    "which will raise a custom exception `ConnectionException('100 - Timeout connecting to resource')`"
   ]
  },
  {
   "cell_type": "markdown",
   "metadata": {},
   "source": [
    "And something like this as well:\n",
    "```\n",
    "AppException.NotAnInteger.throw()\n",
    "```\n",
    "which will raise a `ValueError('200 - Value is not an integer')`"
   ]
  },
  {
   "cell_type": "markdown",
   "metadata": {},
   "source": [
    "This means our exception will need to contain the exception key (such as `Timeout` or `NotAnInteger`) as well as the exception class we want to raise, and the default message itself. We also want to have consistent error codes (integer values) for each exception.\n",
    "\n",
    "We'll need to implement a `throw` method (we can't use the reserved name `raise`) that will raise the exception with the default message. In addition we'd like to be able to override the default message with a custom one if we prefer:\n",
    "```\n",
    "AppException.Timeout.throw('Timeout connecting to database')\n",
    "```\n",
    "\n",
    "We'll also need to implement some properties for the exception code, class (type), and message."
   ]
  },
  {
   "cell_type": "markdown",
   "metadata": {},
   "source": [
    "First let's create a few custom exceptions that we can use, but of course we can also use all the builtin exceptions too."
   ]
  },
  {
   "cell_type": "code",
   "execution_count": 1,
   "metadata": {},
   "outputs": [],
   "source": [
    "class GenericException(Exception):\n",
    "    pass\n",
    "\n",
    "class Timeout(Exception):\n",
    "    pass"
   ]
  },
  {
   "cell_type": "markdown",
   "metadata": {},
   "source": [
    "We'll come back to exceptions later and see why we may actually want to build a hierarchy of exception instead of this flat appropach I took here."
   ]
  },
  {
   "cell_type": "code",
   "execution_count": 2,
   "metadata": {},
   "outputs": [],
   "source": [
    "from enum import Enum"
   ]
  },
  {
   "cell_type": "markdown",
   "metadata": {},
   "source": [
    "First we're going to need to store a tuple for each key's value and that tuple will need to contain the error code, the exception class, and a custom message. So three entities.\n",
    "\n",
    "We'll use the same approach we took when we looked at extending enums, and use the `__new__` method to achieve our goals.    "
   ]
  },
  {
   "cell_type": "code",
   "execution_count": 3,
   "metadata": {},
   "outputs": [],
   "source": [
    "class AppException(Enum):\n",
    "    Generic = (100, GenericException, 'Application exception.')\n",
    "    Timeout = (101, Timeout, 'Timeout connecting to resource.')\n",
    "    NotAnInteger = (200, ValueError, 'Value must be an integer.')\n",
    "    NotAList = (201, ValueError, 'Value must be a list.')\n",
    "    \n",
    "    def __new__(cls, ex_code, ex_class, ex_message):\n",
    "        # create a new instance of cls\n",
    "        member = object.__new__(cls)\n",
    "        \n",
    "        # set up instance attributes\n",
    "        member._value_ = ex_code\n",
    "        member.exception = ex_class\n",
    "        member.message = ex_message\n",
    "        return member"
   ]
  },
  {
   "cell_type": "markdown",
   "metadata": {},
   "source": [
    "So this is a good start. We can use our enum this way:"
   ]
  },
  {
   "cell_type": "code",
   "execution_count": 5,
   "metadata": {},
   "outputs": [
    {
     "data": {
      "text/plain": [
       "(101, 'Timeout connecting to resource.', __main__.Timeout)"
      ]
     },
     "execution_count": 5,
     "metadata": {},
     "output_type": "execute_result"
    }
   ],
   "source": [
    "AppException.Timeout.value, AppException.Timeout.message, AppException.Timeout.exception"
   ]
  },
  {
   "cell_type": "markdown",
   "metadata": {},
   "source": [
    "So we could technically raise an exception directly from this:"
   ]
  },
  {
   "cell_type": "code",
   "execution_count": 4,
   "metadata": {},
   "outputs": [
    {
     "name": "stdout",
     "output_type": "stream",
     "text": [
      "101 - Timeout connecting to resource.\n"
     ]
    }
   ],
   "source": [
    "try:\n",
    "    raise AppException.Timeout.exception(f'{AppException.Timeout.value} - {AppException.Timeout.message}')\n",
    "except Timeout as ex:\n",
    "    print(ex)"
   ]
  },
  {
   "cell_type": "markdown",
   "metadata": {},
   "source": [
    "But we really do not want to have to raise exceptions this way - it's a lot of typing. I also don't like using `value` for the exception code, I'd rather have a property called `code` that is maybe a better name for it."
   ]
  },
  {
   "cell_type": "markdown",
   "metadata": {},
   "source": [
    "So, we'll immplement a `code` property (we'll leave value as is, because we can look up an exception by it's code that way), and we'll implement a `raise` method to actually raise the exception for us."
   ]
  },
  {
   "cell_type": "code",
   "execution_count": 6,
   "metadata": {},
   "outputs": [],
   "source": [
    "class AppException(Enum):\n",
    "    Generic = (100, GenericException, 'Application exception.')\n",
    "    TimeOut = (101, Timeout, 'Timeout connecting to resource.')\n",
    "    NotAnInteger = (200, ValueError, 'Value must be an integer.')\n",
    "    NotAList = (201, ValueError, 'Value must be a list.')\n",
    "    \n",
    "    def __new__(cls, ex_code, ex_class, ex_message):\n",
    "        # create a new instance of cls\n",
    "        member = object.__new__(cls)\n",
    "        \n",
    "        # set up instance attributes\n",
    "        member._value_ = ex_code\n",
    "        member.exception = ex_class\n",
    "        member.message = ex_message\n",
    "        return member\n",
    "    \n",
    "    @property\n",
    "    def code(self):\n",
    "        return self.value\n",
    "    \n",
    "    def throw(self):\n",
    "        raise self.exception(f'{self.code} - {self.message}')"
   ]
  },
  {
   "cell_type": "markdown",
   "metadata": {},
   "source": [
    "Now it becomes much easier to raise an exception:"
   ]
  },
  {
   "cell_type": "code",
   "execution_count": 8,
   "metadata": {},
   "outputs": [
    {
     "name": "stdout",
     "output_type": "stream",
     "text": [
      "200 - Value must be an integer.\n"
     ]
    }
   ],
   "source": [
    "try:\n",
    "    AppException.NotAnInteger.throw()\n",
    "except ValueError as ex:\n",
    "    print(ex)"
   ]
  },
  {
   "cell_type": "markdown",
   "metadata": {},
   "source": [
    "We can easily access exceptions by name (key) or code (value):"
   ]
  },
  {
   "cell_type": "code",
   "execution_count": 7,
   "metadata": {},
   "outputs": [
    {
     "data": {
      "text/plain": [
       "(201, 'Value must be a list.')"
      ]
     },
     "execution_count": 7,
     "metadata": {},
     "output_type": "execute_result"
    }
   ],
   "source": [
    "AppException.NotAList.code, AppException.NotAList.message"
   ]
  },
  {
   "cell_type": "code",
   "execution_count": 10,
   "metadata": {},
   "outputs": [
    {
     "data": {
      "text/plain": [
       "(<AppException.NotAList: 201>, <AppException.NotAList: 201>)"
      ]
     },
     "execution_count": 10,
     "metadata": {},
     "output_type": "execute_result"
    }
   ],
   "source": [
    "AppException(201), AppException['NotAList']"
   ]
  },
  {
   "cell_type": "markdown",
   "metadata": {},
   "source": [
    "One additional thing is that I would like the ability to override the default error message. So let's add this to the `throw` method:"
   ]
  },
  {
   "cell_type": "code",
   "execution_count": 11,
   "metadata": {},
   "outputs": [],
   "source": [
    "class AppException(Enum):\n",
    "    Generic = (100, GenericException, 'Application exception.')\n",
    "    Timeout = (101, Timeout, 'Timeout connecting to resource.')\n",
    "    NotAnInteger = (200, ValueError, 'Value must be an integer.')\n",
    "    NotAList = (201, ValueError, 'Value must be a list.')\n",
    "    \n",
    "    def __new__(cls, ex_code, ex_class, ex_message):\n",
    "        # create a new instance of cls\n",
    "        member = object.__new__(cls)\n",
    "        \n",
    "        # set up instance attributes\n",
    "        member._value_ = ex_code\n",
    "        member.exception = ex_class\n",
    "        member.message = ex_message\n",
    "        return member\n",
    "    \n",
    "    @property\n",
    "    def code(self):\n",
    "        return self.value\n",
    "    \n",
    "    def throw(self, message=None):\n",
    "        message = message or self.message\n",
    "        raise self.exception(f'{self.code} - {message}')"
   ]
  },
  {
   "cell_type": "code",
   "execution_count": 14,
   "metadata": {},
   "outputs": [
    {
     "name": "stdout",
     "output_type": "stream",
     "text": [
      "101 - Timeout connecting to resource.\n"
     ]
    }
   ],
   "source": [
    "try:\n",
    "    AppException.Timeout.throw()\n",
    "except Exception as ex:\n",
    "    print(ex)"
   ]
  },
  {
   "cell_type": "code",
   "execution_count": 15,
   "metadata": {},
   "outputs": [
    {
     "name": "stdout",
     "output_type": "stream",
     "text": [
      "101 - Timeout connecting to database.\n"
     ]
    }
   ],
   "source": [
    "try:\n",
    "    AppException.Timeout.throw('Timeout connecting to database.')\n",
    "except Exception as ex:\n",
    "    print(ex)"
   ]
  },
  {
   "cell_type": "markdown",
   "metadata": {},
   "source": [
    "And of course we can list out all the errors in our app:"
   ]
  },
  {
   "cell_type": "code",
   "execution_count": 17,
   "metadata": {},
   "outputs": [
    {
     "data": {
      "text/plain": [
       "[<AppException.Generic: 100>,\n",
       " <AppException.Timeout: 101>,\n",
       " <AppException.NotAnInteger: 200>,\n",
       " <AppException.NotAList: 201>]"
      ]
     },
     "execution_count": 17,
     "metadata": {},
     "output_type": "execute_result"
    }
   ],
   "source": [
    "list(AppException)"
   ]
  },
  {
   "cell_type": "markdown",
   "metadata": {},
   "source": [
    "We can get a more usable list of exception names, codes and messages this way:"
   ]
  },
  {
   "cell_type": "code",
   "execution_count": 16,
   "metadata": {},
   "outputs": [
    {
     "data": {
      "text/plain": [
       "[('Generic', 100, 'Application exception.'),\n",
       " ('Timeout', 101, 'Timeout connecting to resource.'),\n",
       " ('NotAnInteger', 200, 'Value must be an integer.'),\n",
       " ('NotAList', 201, 'Value must be a list.')]"
      ]
     },
     "execution_count": 16,
     "metadata": {},
     "output_type": "execute_result"
    }
   ],
   "source": [
    "[(ex.name, ex.code, ex.message) for ex in AppException]"
   ]
  }
 ],
 "metadata": {
  "kernelspec": {
   "display_name": "Python 3.10.7 64-bit",
   "language": "python",
   "name": "python3"
  },
  "language_info": {
   "codemirror_mode": {
    "name": "ipython",
    "version": 3
   },
   "file_extension": ".py",
   "mimetype": "text/x-python",
   "name": "python",
   "nbconvert_exporter": "python",
   "pygments_lexer": "ipython3",
   "version": "3.10.7"
  },
  "vscode": {
   "interpreter": {
    "hash": "aee8b7b246df8f9039afb4144a1f6fd8d2ca17a180786b69acc140d282b71a49"
   }
  }
 },
 "nbformat": 4,
 "nbformat_minor": 2
}
